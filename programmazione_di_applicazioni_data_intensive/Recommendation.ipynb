{
  "cells": [
    {
      "cell_type": "markdown",
      "metadata": {
        "id": "view-in-github",
        "colab_type": "text"
      },
      "source": [
        "<a href=\"https://colab.research.google.com/github/dBenazzi/trash-can/blob/main/programmazione_di_applicazioni_data_intensive/Recommendation.ipynb\" target=\"_parent\"><img src=\"https://colab.research.google.com/assets/colab-badge.svg\" alt=\"Open In Colab\"/></a>"
      ]
    },
    {
      "cell_type": "markdown",
      "metadata": {
        "id": "9OrIIxSq6jVh"
      },
      "source": [
        "# Laboratorio: Recommendation\n",
        "\n",
        "**Programmazione di Applicazioni Data Intensive**  \n",
        "Laurea in Ingegneria e Scienze Informatiche  \n",
        "DISI - Università di Bologna, Cesena\n",
        "\n",
        "Proff. Gianluca Moro, Roberto Pasolini  \n",
        "`nome.cognome@unibo.it`"
      ]
    },
    {
      "cell_type": "markdown",
      "metadata": {
        "id": "rCEPRhCz6jVr"
      },
      "source": [
        "## Setup\n",
        "\n",
        "- Importare le librerie necessarie, già usate nelle scorse esercitazioni"
      ]
    },
    {
      "cell_type": "code",
      "execution_count": 1,
      "metadata": {
        "id": "OI3r0q7E6jVs"
      },
      "outputs": [],
      "source": [
        "import numpy as np\n",
        "import pandas as pd"
      ]
    },
    {
      "cell_type": "markdown",
      "metadata": {
        "id": "WAhJIh2a6jVv"
      },
      "source": [
        "- Nella seconda parte utilizzeremo la libreria **Surprise**\n",
        "- Se si utilizza Colab (consigliato), installare Surprise con `pip`\n",
        "  - eseguire la cella sotto rimuovendo `#`"
      ]
    },
    {
      "cell_type": "code",
      "execution_count": 2,
      "metadata": {
        "colab": {
          "base_uri": "https://localhost:8080/"
        },
        "id": "5D4xQ7IW6jVx",
        "outputId": "57e0782b-0422-4e85-d397-8f217c6669ba"
      },
      "outputs": [
        {
          "output_type": "stream",
          "name": "stdout",
          "text": [
            "Looking in indexes: https://pypi.org/simple, https://us-python.pkg.dev/colab-wheels/public/simple/\n",
            "Collecting scikit-surprise\n",
            "  Downloading scikit-surprise-1.1.3.tar.gz (771 kB)\n",
            "\u001b[2K     \u001b[90m━━━━━━━━━━━━━━━━━━━━━━━━━━━━━━━━━━━━━━━\u001b[0m \u001b[32m772.0/772.0 kB\u001b[0m \u001b[31m4.8 MB/s\u001b[0m eta \u001b[36m0:00:00\u001b[0m\n",
            "\u001b[?25h  Preparing metadata (setup.py) ... \u001b[?25l\u001b[?25hdone\n",
            "Requirement already satisfied: joblib>=1.0.0 in /usr/local/lib/python3.9/dist-packages (from scikit-surprise) (1.2.0)\n",
            "Requirement already satisfied: numpy>=1.17.3 in /usr/local/lib/python3.9/dist-packages (from scikit-surprise) (1.22.4)\n",
            "Requirement already satisfied: scipy>=1.3.2 in /usr/local/lib/python3.9/dist-packages (from scikit-surprise) (1.10.1)\n",
            "Building wheels for collected packages: scikit-surprise\n",
            "  Building wheel for scikit-surprise (setup.py) ... \u001b[?25l\u001b[?25hdone\n",
            "  Created wheel for scikit-surprise: filename=scikit_surprise-1.1.3-cp39-cp39-linux_x86_64.whl size=3195813 sha256=f40955b7e802d62a3a5fe170b6ecea69739a943be128ee2aa39d10365bf90aba\n",
            "  Stored in directory: /root/.cache/pip/wheels/c6/3a/46/9b17b3512bdf283c6cb84f59929cdd5199d4e754d596d22784\n",
            "Successfully built scikit-surprise\n",
            "Installing collected packages: scikit-surprise\n",
            "Successfully installed scikit-surprise-1.1.3\n"
          ]
        }
      ],
      "source": [
        "pip install scikit-surprise"
      ]
    },
    {
      "cell_type": "markdown",
      "metadata": {
        "id": "RByBy5nD6jVy"
      },
      "source": [
        "- Se si utilizza un ambiente Anaconda, installare Surprise con `conda`\n",
        "  - eseguire la cella sotto rimuovendo `#`"
      ]
    },
    {
      "cell_type": "code",
      "execution_count": 3,
      "metadata": {
        "id": "H0Bzxsml6jVz"
      },
      "outputs": [],
      "source": [
        "# conda install -c conda-forge scikit-surprise"
      ]
    },
    {
      "cell_type": "markdown",
      "metadata": {
        "id": "VSXbbiKU6jV0"
      },
      "source": [
        "- In altri casi installare con `pip` come sopra\n",
        "  - può essere richiesta la compilazione dei sorgenti, accertarsi di aver installato un compilatore C e le librerie Python (es. su Debian e derivati `sudo apt install build-essentials python3-dev`)\n",
        "- Una volta installato Surprise, eseguirne l'import per verifica"
      ]
    },
    {
      "cell_type": "code",
      "execution_count": 4,
      "metadata": {
        "id": "9dak5Pss6jV1"
      },
      "outputs": [],
      "source": [
        "import surprise"
      ]
    },
    {
      "cell_type": "markdown",
      "metadata": {
        "id": "VNk9Trji6jV2"
      },
      "source": [
        "## Recommendation e collaborative filtering\n",
        "\n",
        "- I sistemi di _recommendation_ sono usati in molti contesti per suggerire agli **utenti** di un servizio alcuni degli **oggetti** offerti, in modo mirato secondo i loro interessi\n",
        "  - suggerire prodotti da acquistare su Amazon\n",
        "  - suggerire film o serie da vedere su Netflix\n",
        "  - suggerire canzoni da ascoltare su Spotify\n",
        "  - ...\n",
        "- I metodi di _collaborative filtering_ forniscono suggerimenti sulla base delle **associazioni** esistenti tra utenti e oggetti\n",
        "  - in genere vengono usati i **voti** dati dagli utenti agli oggetti\n",
        "  - non vengono usate informazioni specifiche su singoli utenti (es. età) e oggetti (es. genere)"
      ]
    },
    {
      "cell_type": "markdown",
      "metadata": {
        "id": "SEiUZhdr6jV3"
      },
      "source": [
        "## Recommendation su dati Amazon\n",
        "\n",
        "- Nelle prime esercitazioni avevamo visto un metodo di recommendation semplice applicato su dati di vendite estratti da Amazon\n",
        "  - i dati riguardavano solamente i prodotti acquistati dai clienti, senza considerare i voti\n",
        "- Riprendiamo ora gli stessi dati, ma includendo l'informazione sui **voti dati dai clienti**\n",
        "- I dati sono divisi in due file CSV\n",
        "  - uno contenente i voti raccolti fino alla fine del 2000, da usare come training set\n",
        "  - uno contenente i voti raccolti dal 2001 in poi, da usare come validation set\n",
        "- Scarichiamo i due file"
      ]
    },
    {
      "cell_type": "code",
      "execution_count": 5,
      "metadata": {
        "id": "7rES-hXx6jV4"
      },
      "outputs": [],
      "source": [
        "import os.path\n",
        "from urllib.request import urlretrieve\n",
        "if not os.path.exists(\"amazon_train.csv\"):\n",
        "    urlretrieve(\"https://bit.ly/2LdmgTR\", \"amazon_train.csv\")\n",
        "if not os.path.exists(\"amazon_val.csv\"):\n",
        "    urlretrieve(\"https://bit.ly/2IPlyxO\", \"amazon_val.csv\")"
      ]
    },
    {
      "cell_type": "markdown",
      "metadata": {
        "id": "pWoCeB-D6jV5"
      },
      "source": [
        "- Ciascun file CSV contiene tre colonne, nell'ordine:\n",
        "  - codice e nome dell'utente\n",
        "  - codice e nome del prodotto (film in VHS)\n",
        "  - voto assegnato, da 1 a 5 stelle\n",
        "- Carichiamo il file di training in un frame pandas con `read_csv`\n",
        "  - `header=None` indica che il file **non** contiene una riga di intestazione\n",
        "  - con `names` indichiamo manualmente i nomi delle colonne"
      ]
    },
    {
      "cell_type": "code",
      "execution_count": 6,
      "metadata": {
        "id": "6KDfSpkR6jV6"
      },
      "outputs": [],
      "source": [
        "amazon_train = pd.read_csv(\n",
        "    \"amazon_train.csv\",\n",
        "    header=None,\n",
        "    names=[\"user\", \"item\", \"rating\"],\n",
        ")"
      ]
    },
    {
      "cell_type": "markdown",
      "metadata": {
        "id": "Yot8vsCg6jV7"
      },
      "source": [
        "- Vediamo i dati caricati"
      ]
    },
    {
      "cell_type": "code",
      "execution_count": 7,
      "metadata": {
        "colab": {
          "base_uri": "https://localhost:8080/",
          "height": 363
        },
        "id": "Z3WTOKKr6jV7",
        "outputId": "a335cc77-00ac-464b-9d4a-4301dca131a0"
      },
      "outputs": [
        {
          "output_type": "execute_result",
          "data": {
            "text/plain": [
              "                            user                                       item  \\\n",
              "0       [624547] Roland E. Zwick                [96429] Varsity Blues [VHS]   \n",
              "1       [624547] Roland E. Zwick                   [96654] Miss Julie [VHS]   \n",
              "2  [1201103] Benjamin J Burgraff         [47474] The Last Starfighter [VHS]   \n",
              "3  [81819] dsrussell \"greyhater\"               [95902] Meet Joe Black [VHS]   \n",
              "4             [1092996] Reviewer           [43720] Honeymoon in Vegas [VHS]   \n",
              "5            [1169585] Brooke276     [43871] Mccabe &amp; Mrs. Miller [VHS]   \n",
              "6   [652570] Lawrance M. Bernabo                [101985] Little Women [VHS]   \n",
              "7             [1092996] Reviewer            [100268] American Dreamer [VHS]   \n",
              "8           [891040] casualsuede             [101569] Better Off Dead [VHS]   \n",
              "9         [125883] \"flickjunkie\"  [55450] Mr Smith Goes to Washington [VHS]   \n",
              "\n",
              "   rating  \n",
              "0       2  \n",
              "1       3  \n",
              "2       4  \n",
              "3       3  \n",
              "4       3  \n",
              "5       5  \n",
              "6       5  \n",
              "7       4  \n",
              "8       3  \n",
              "9       5  "
            ],
            "text/html": [
              "\n",
              "  <div id=\"df-66e0dbe5-95a4-455a-bed8-ef99ab19e2b0\">\n",
              "    <div class=\"colab-df-container\">\n",
              "      <div>\n",
              "<style scoped>\n",
              "    .dataframe tbody tr th:only-of-type {\n",
              "        vertical-align: middle;\n",
              "    }\n",
              "\n",
              "    .dataframe tbody tr th {\n",
              "        vertical-align: top;\n",
              "    }\n",
              "\n",
              "    .dataframe thead th {\n",
              "        text-align: right;\n",
              "    }\n",
              "</style>\n",
              "<table border=\"1\" class=\"dataframe\">\n",
              "  <thead>\n",
              "    <tr style=\"text-align: right;\">\n",
              "      <th></th>\n",
              "      <th>user</th>\n",
              "      <th>item</th>\n",
              "      <th>rating</th>\n",
              "    </tr>\n",
              "  </thead>\n",
              "  <tbody>\n",
              "    <tr>\n",
              "      <th>0</th>\n",
              "      <td>[624547] Roland E. Zwick</td>\n",
              "      <td>[96429] Varsity Blues [VHS]</td>\n",
              "      <td>2</td>\n",
              "    </tr>\n",
              "    <tr>\n",
              "      <th>1</th>\n",
              "      <td>[624547] Roland E. Zwick</td>\n",
              "      <td>[96654] Miss Julie [VHS]</td>\n",
              "      <td>3</td>\n",
              "    </tr>\n",
              "    <tr>\n",
              "      <th>2</th>\n",
              "      <td>[1201103] Benjamin J Burgraff</td>\n",
              "      <td>[47474] The Last Starfighter [VHS]</td>\n",
              "      <td>4</td>\n",
              "    </tr>\n",
              "    <tr>\n",
              "      <th>3</th>\n",
              "      <td>[81819] dsrussell \"greyhater\"</td>\n",
              "      <td>[95902] Meet Joe Black [VHS]</td>\n",
              "      <td>3</td>\n",
              "    </tr>\n",
              "    <tr>\n",
              "      <th>4</th>\n",
              "      <td>[1092996] Reviewer</td>\n",
              "      <td>[43720] Honeymoon in Vegas [VHS]</td>\n",
              "      <td>3</td>\n",
              "    </tr>\n",
              "    <tr>\n",
              "      <th>5</th>\n",
              "      <td>[1169585] Brooke276</td>\n",
              "      <td>[43871] Mccabe &amp;amp; Mrs. Miller [VHS]</td>\n",
              "      <td>5</td>\n",
              "    </tr>\n",
              "    <tr>\n",
              "      <th>6</th>\n",
              "      <td>[652570] Lawrance M. Bernabo</td>\n",
              "      <td>[101985] Little Women [VHS]</td>\n",
              "      <td>5</td>\n",
              "    </tr>\n",
              "    <tr>\n",
              "      <th>7</th>\n",
              "      <td>[1092996] Reviewer</td>\n",
              "      <td>[100268] American Dreamer [VHS]</td>\n",
              "      <td>4</td>\n",
              "    </tr>\n",
              "    <tr>\n",
              "      <th>8</th>\n",
              "      <td>[891040] casualsuede</td>\n",
              "      <td>[101569] Better Off Dead [VHS]</td>\n",
              "      <td>3</td>\n",
              "    </tr>\n",
              "    <tr>\n",
              "      <th>9</th>\n",
              "      <td>[125883] \"flickjunkie\"</td>\n",
              "      <td>[55450] Mr Smith Goes to Washington [VHS]</td>\n",
              "      <td>5</td>\n",
              "    </tr>\n",
              "  </tbody>\n",
              "</table>\n",
              "</div>\n",
              "      <button class=\"colab-df-convert\" onclick=\"convertToInteractive('df-66e0dbe5-95a4-455a-bed8-ef99ab19e2b0')\"\n",
              "              title=\"Convert this dataframe to an interactive table.\"\n",
              "              style=\"display:none;\">\n",
              "        \n",
              "  <svg xmlns=\"http://www.w3.org/2000/svg\" height=\"24px\"viewBox=\"0 0 24 24\"\n",
              "       width=\"24px\">\n",
              "    <path d=\"M0 0h24v24H0V0z\" fill=\"none\"/>\n",
              "    <path d=\"M18.56 5.44l.94 2.06.94-2.06 2.06-.94-2.06-.94-.94-2.06-.94 2.06-2.06.94zm-11 1L8.5 8.5l.94-2.06 2.06-.94-2.06-.94L8.5 2.5l-.94 2.06-2.06.94zm10 10l.94 2.06.94-2.06 2.06-.94-2.06-.94-.94-2.06-.94 2.06-2.06.94z\"/><path d=\"M17.41 7.96l-1.37-1.37c-.4-.4-.92-.59-1.43-.59-.52 0-1.04.2-1.43.59L10.3 9.45l-7.72 7.72c-.78.78-.78 2.05 0 2.83L4 21.41c.39.39.9.59 1.41.59.51 0 1.02-.2 1.41-.59l7.78-7.78 2.81-2.81c.8-.78.8-2.07 0-2.86zM5.41 20L4 18.59l7.72-7.72 1.47 1.35L5.41 20z\"/>\n",
              "  </svg>\n",
              "      </button>\n",
              "      \n",
              "  <style>\n",
              "    .colab-df-container {\n",
              "      display:flex;\n",
              "      flex-wrap:wrap;\n",
              "      gap: 12px;\n",
              "    }\n",
              "\n",
              "    .colab-df-convert {\n",
              "      background-color: #E8F0FE;\n",
              "      border: none;\n",
              "      border-radius: 50%;\n",
              "      cursor: pointer;\n",
              "      display: none;\n",
              "      fill: #1967D2;\n",
              "      height: 32px;\n",
              "      padding: 0 0 0 0;\n",
              "      width: 32px;\n",
              "    }\n",
              "\n",
              "    .colab-df-convert:hover {\n",
              "      background-color: #E2EBFA;\n",
              "      box-shadow: 0px 1px 2px rgba(60, 64, 67, 0.3), 0px 1px 3px 1px rgba(60, 64, 67, 0.15);\n",
              "      fill: #174EA6;\n",
              "    }\n",
              "\n",
              "    [theme=dark] .colab-df-convert {\n",
              "      background-color: #3B4455;\n",
              "      fill: #D2E3FC;\n",
              "    }\n",
              "\n",
              "    [theme=dark] .colab-df-convert:hover {\n",
              "      background-color: #434B5C;\n",
              "      box-shadow: 0px 1px 3px 1px rgba(0, 0, 0, 0.15);\n",
              "      filter: drop-shadow(0px 1px 2px rgba(0, 0, 0, 0.3));\n",
              "      fill: #FFFFFF;\n",
              "    }\n",
              "  </style>\n",
              "\n",
              "      <script>\n",
              "        const buttonEl =\n",
              "          document.querySelector('#df-66e0dbe5-95a4-455a-bed8-ef99ab19e2b0 button.colab-df-convert');\n",
              "        buttonEl.style.display =\n",
              "          google.colab.kernel.accessAllowed ? 'block' : 'none';\n",
              "\n",
              "        async function convertToInteractive(key) {\n",
              "          const element = document.querySelector('#df-66e0dbe5-95a4-455a-bed8-ef99ab19e2b0');\n",
              "          const dataTable =\n",
              "            await google.colab.kernel.invokeFunction('convertToInteractive',\n",
              "                                                     [key], {});\n",
              "          if (!dataTable) return;\n",
              "\n",
              "          const docLinkHtml = 'Like what you see? Visit the ' +\n",
              "            '<a target=\"_blank\" href=https://colab.research.google.com/notebooks/data_table.ipynb>data table notebook</a>'\n",
              "            + ' to learn more about interactive tables.';\n",
              "          element.innerHTML = '';\n",
              "          dataTable['output_type'] = 'display_data';\n",
              "          await google.colab.output.renderOutput(dataTable, element);\n",
              "          const docLink = document.createElement('div');\n",
              "          docLink.innerHTML = docLinkHtml;\n",
              "          element.appendChild(docLink);\n",
              "        }\n",
              "      </script>\n",
              "    </div>\n",
              "  </div>\n",
              "  "
            ]
          },
          "metadata": {},
          "execution_count": 7
        }
      ],
      "source": [
        "amazon_train.head(10)"
      ]
    },
    {
      "cell_type": "markdown",
      "metadata": {
        "id": "_htU5G2_6jV9"
      },
      "source": [
        "### Esercizio 1: Esplorazione frame\n",
        "\n",
        "- **(1a)** Quanti sono i voti dati?\n",
        "- **(1b)** Quanti sono gli utenti distinti nei dati?\n",
        "- **(1c)** Quanti sono gli oggetti distinti?\n",
        "- **(1d)** Qual'è la media di tutti i voti?\n",
        "- **(1e)** Qual è il numero minimo di voti dato da un utente?\n",
        "- **(1f)** Qual è l'oggetto con più voti?\n",
        "- **(1g)** Quali sono i 10 oggetti col voto medio maggiore?\n",
        "  - estrarre una serie con i nomi come etichette e i voti medi come valori"
      ]
    },
    {
      "cell_type": "code",
      "source": [
        "print(\"a: \", amazon_train.count())\n",
        "print(\"b: \", amazon_train[\"user\"].nunique())\n",
        "print(\"c: \", amazon_train[\"item\"].nunique())\n",
        "print(\"d: \", amazon_train[\"rating\"].mean())\n",
        "print(\"e: \", amazon_train[\"user\"].value_counts().min())\n",
        "print(\"f: \", amazon_train[\"item\"].value_counts().idxmax())\n",
        "print(\"g: \", amazon_train.groupby(\"item\")[\"rating\"].mean().sort_values(ascending=False).head(10))"
      ],
      "metadata": {
        "colab": {
          "base_uri": "https://localhost:8080/"
        },
        "id": "8r4PlNSh_cj7",
        "outputId": "344a10f4-14f3-4f4a-a6eb-068d0a02a853"
      },
      "execution_count": 8,
      "outputs": [
        {
          "output_type": "stream",
          "name": "stdout",
          "text": [
            "a:  user      9683\n",
            "item      9683\n",
            "rating    9683\n",
            "dtype: int64\n",
            "b:  178\n",
            "c:  3384\n",
            "d:  3.931219663327481\n",
            "e:  30\n",
            "f:  [57372] The Sixth Sense [VHS]\n",
            "g:  item\n",
            "[100004] High School Confidential [VHS]               5.0\n",
            "[47499] Send Me No Flowers [VHS]                      5.0\n",
            "[49068] Doctor Who - Revenge of the Cybermen [VHS]    5.0\n",
            "[49062] The Duchess and the Dirtwater Fox [VHS]       5.0\n",
            "[49036] Manhattan Melodrama [VHS]                     5.0\n",
            "[48982] The King and I [VHS]                          5.0\n",
            "[48922] A Summer Place [VHS]                          5.0\n",
            "[48910] Blood Alley [VHS]                             5.0\n",
            "[48874] Revenge of the Nerds [VHS]                    5.0\n",
            "[48832] Enemy Below [VHS]                             5.0\n",
            "Name: rating, dtype: float64\n"
          ]
        }
      ]
    },
    {
      "cell_type": "markdown",
      "metadata": {
        "id": "fyyC7_Wk6jV-"
      },
      "source": [
        "## Estrazione matrice voti\n",
        "\n",
        "- Per lavorare agevolmente con i dati, rappresentiamoli come matrice dove\n",
        "  - ogni **riga** corrisponde ad un **utente** $u$\n",
        "  - ogni **colonna** corrisponde ad un **oggetto** $i$\n",
        "  - ogni **cella** contiene il **voto** dato da $u$ a $i$, che può essere mancate (`NaN`)\n",
        "- Per iniziare, impostiamo come indice del frame la coppia di colonne `user` e `item`"
      ]
    },
    {
      "cell_type": "code",
      "execution_count": 9,
      "metadata": {
        "id": "HhZ3vn_S6jV-"
      },
      "outputs": [],
      "source": [
        "amazon_train.set_index([\"user\", \"item\"], inplace=True)"
      ]
    },
    {
      "cell_type": "code",
      "execution_count": 10,
      "metadata": {
        "colab": {
          "base_uri": "https://localhost:8080/",
          "height": 238
        },
        "id": "Cz5qjJol6jV_",
        "outputId": "c7325485-3bae-4c8c-ff88-add48a19c5b5"
      },
      "outputs": [
        {
          "output_type": "execute_result",
          "data": {
            "text/plain": [
              "                                                                  rating\n",
              "user                          item                                      \n",
              "[624547] Roland E. Zwick      [96429] Varsity Blues [VHS]              2\n",
              "                              [96654] Miss Julie [VHS]                 3\n",
              "[1201103] Benjamin J Burgraff [47474] The Last Starfighter [VHS]       4\n",
              "[81819] dsrussell \"greyhater\" [95902] Meet Joe Black [VHS]             3\n",
              "[1092996] Reviewer            [43720] Honeymoon in Vegas [VHS]         3"
            ],
            "text/html": [
              "\n",
              "  <div id=\"df-9807a0d9-0173-4463-a239-96dfbbcb7752\">\n",
              "    <div class=\"colab-df-container\">\n",
              "      <div>\n",
              "<style scoped>\n",
              "    .dataframe tbody tr th:only-of-type {\n",
              "        vertical-align: middle;\n",
              "    }\n",
              "\n",
              "    .dataframe tbody tr th {\n",
              "        vertical-align: top;\n",
              "    }\n",
              "\n",
              "    .dataframe thead th {\n",
              "        text-align: right;\n",
              "    }\n",
              "</style>\n",
              "<table border=\"1\" class=\"dataframe\">\n",
              "  <thead>\n",
              "    <tr style=\"text-align: right;\">\n",
              "      <th></th>\n",
              "      <th></th>\n",
              "      <th>rating</th>\n",
              "    </tr>\n",
              "    <tr>\n",
              "      <th>user</th>\n",
              "      <th>item</th>\n",
              "      <th></th>\n",
              "    </tr>\n",
              "  </thead>\n",
              "  <tbody>\n",
              "    <tr>\n",
              "      <th rowspan=\"2\" valign=\"top\">[624547] Roland E. Zwick</th>\n",
              "      <th>[96429] Varsity Blues [VHS]</th>\n",
              "      <td>2</td>\n",
              "    </tr>\n",
              "    <tr>\n",
              "      <th>[96654] Miss Julie [VHS]</th>\n",
              "      <td>3</td>\n",
              "    </tr>\n",
              "    <tr>\n",
              "      <th>[1201103] Benjamin J Burgraff</th>\n",
              "      <th>[47474] The Last Starfighter [VHS]</th>\n",
              "      <td>4</td>\n",
              "    </tr>\n",
              "    <tr>\n",
              "      <th>[81819] dsrussell \"greyhater\"</th>\n",
              "      <th>[95902] Meet Joe Black [VHS]</th>\n",
              "      <td>3</td>\n",
              "    </tr>\n",
              "    <tr>\n",
              "      <th>[1092996] Reviewer</th>\n",
              "      <th>[43720] Honeymoon in Vegas [VHS]</th>\n",
              "      <td>3</td>\n",
              "    </tr>\n",
              "  </tbody>\n",
              "</table>\n",
              "</div>\n",
              "      <button class=\"colab-df-convert\" onclick=\"convertToInteractive('df-9807a0d9-0173-4463-a239-96dfbbcb7752')\"\n",
              "              title=\"Convert this dataframe to an interactive table.\"\n",
              "              style=\"display:none;\">\n",
              "        \n",
              "  <svg xmlns=\"http://www.w3.org/2000/svg\" height=\"24px\"viewBox=\"0 0 24 24\"\n",
              "       width=\"24px\">\n",
              "    <path d=\"M0 0h24v24H0V0z\" fill=\"none\"/>\n",
              "    <path d=\"M18.56 5.44l.94 2.06.94-2.06 2.06-.94-2.06-.94-.94-2.06-.94 2.06-2.06.94zm-11 1L8.5 8.5l.94-2.06 2.06-.94-2.06-.94L8.5 2.5l-.94 2.06-2.06.94zm10 10l.94 2.06.94-2.06 2.06-.94-2.06-.94-.94-2.06-.94 2.06-2.06.94z\"/><path d=\"M17.41 7.96l-1.37-1.37c-.4-.4-.92-.59-1.43-.59-.52 0-1.04.2-1.43.59L10.3 9.45l-7.72 7.72c-.78.78-.78 2.05 0 2.83L4 21.41c.39.39.9.59 1.41.59.51 0 1.02-.2 1.41-.59l7.78-7.78 2.81-2.81c.8-.78.8-2.07 0-2.86zM5.41 20L4 18.59l7.72-7.72 1.47 1.35L5.41 20z\"/>\n",
              "  </svg>\n",
              "      </button>\n",
              "      \n",
              "  <style>\n",
              "    .colab-df-container {\n",
              "      display:flex;\n",
              "      flex-wrap:wrap;\n",
              "      gap: 12px;\n",
              "    }\n",
              "\n",
              "    .colab-df-convert {\n",
              "      background-color: #E8F0FE;\n",
              "      border: none;\n",
              "      border-radius: 50%;\n",
              "      cursor: pointer;\n",
              "      display: none;\n",
              "      fill: #1967D2;\n",
              "      height: 32px;\n",
              "      padding: 0 0 0 0;\n",
              "      width: 32px;\n",
              "    }\n",
              "\n",
              "    .colab-df-convert:hover {\n",
              "      background-color: #E2EBFA;\n",
              "      box-shadow: 0px 1px 2px rgba(60, 64, 67, 0.3), 0px 1px 3px 1px rgba(60, 64, 67, 0.15);\n",
              "      fill: #174EA6;\n",
              "    }\n",
              "\n",
              "    [theme=dark] .colab-df-convert {\n",
              "      background-color: #3B4455;\n",
              "      fill: #D2E3FC;\n",
              "    }\n",
              "\n",
              "    [theme=dark] .colab-df-convert:hover {\n",
              "      background-color: #434B5C;\n",
              "      box-shadow: 0px 1px 3px 1px rgba(0, 0, 0, 0.15);\n",
              "      filter: drop-shadow(0px 1px 2px rgba(0, 0, 0, 0.3));\n",
              "      fill: #FFFFFF;\n",
              "    }\n",
              "  </style>\n",
              "\n",
              "      <script>\n",
              "        const buttonEl =\n",
              "          document.querySelector('#df-9807a0d9-0173-4463-a239-96dfbbcb7752 button.colab-df-convert');\n",
              "        buttonEl.style.display =\n",
              "          google.colab.kernel.accessAllowed ? 'block' : 'none';\n",
              "\n",
              "        async function convertToInteractive(key) {\n",
              "          const element = document.querySelector('#df-9807a0d9-0173-4463-a239-96dfbbcb7752');\n",
              "          const dataTable =\n",
              "            await google.colab.kernel.invokeFunction('convertToInteractive',\n",
              "                                                     [key], {});\n",
              "          if (!dataTable) return;\n",
              "\n",
              "          const docLinkHtml = 'Like what you see? Visit the ' +\n",
              "            '<a target=\"_blank\" href=https://colab.research.google.com/notebooks/data_table.ipynb>data table notebook</a>'\n",
              "            + ' to learn more about interactive tables.';\n",
              "          element.innerHTML = '';\n",
              "          dataTable['output_type'] = 'display_data';\n",
              "          await google.colab.output.renderOutput(dataTable, element);\n",
              "          const docLink = document.createElement('div');\n",
              "          docLink.innerHTML = docLinkHtml;\n",
              "          element.appendChild(docLink);\n",
              "        }\n",
              "      </script>\n",
              "    </div>\n",
              "  </div>\n",
              "  "
            ]
          },
          "metadata": {},
          "execution_count": 10
        }
      ],
      "source": [
        "amazon_train.head(5)"
      ]
    },
    {
      "cell_type": "markdown",
      "metadata": {
        "id": "xOU1cAK06jV_"
      },
      "source": [
        "- Utilizziamo quindi l'operazione di pivoting `unstack` sull'unica colonna rimasta `rating` per portare gli oggetti dall'indice delle righe a quello delle colonne"
      ]
    },
    {
      "cell_type": "code",
      "execution_count": 11,
      "metadata": {
        "id": "tO0_s-wv6jWA"
      },
      "outputs": [],
      "source": [
        "train_ratings = amazon_train[\"rating\"].unstack(\"item\")"
      ]
    },
    {
      "cell_type": "code",
      "execution_count": 12,
      "metadata": {
        "colab": {
          "base_uri": "https://localhost:8080/",
          "height": 238
        },
        "id": "HeahguRf6jWA",
        "outputId": "26984d0a-9af5-4d86-be5f-5e938a6a3958"
      },
      "outputs": [
        {
          "output_type": "execute_result",
          "data": {
            "text/plain": [
              "item                                      [100004] High School Confidential [VHS]  \\\n",
              "user                                                                                \n",
              "[1001561] D. Wetzel                                                           NaN   \n",
              "[1001958] Neural Clone \"zarran67\"                                             NaN   \n",
              "[1003282] CHI-TOWN                                                            NaN   \n",
              "[1007279] James L.                                                            NaN   \n",
              "[1012166] Bertin Ramirez \"justareviewer\"                                      NaN   \n",
              "\n",
              "item                                      [100019] Julius Caesar [VHS]  \\\n",
              "user                                                                     \n",
              "[1001561] D. Wetzel                                                NaN   \n",
              "[1001958] Neural Clone \"zarran67\"                                  NaN   \n",
              "[1003282] CHI-TOWN                                                 NaN   \n",
              "[1007279] James L.                                                 NaN   \n",
              "[1012166] Bertin Ramirez \"justareviewer\"                           NaN   \n",
              "\n",
              "item                                      [100027] Love Happy [VHS]  \\\n",
              "user                                                                  \n",
              "[1001561] D. Wetzel                                             NaN   \n",
              "[1001958] Neural Clone \"zarran67\"                               NaN   \n",
              "[1003282] CHI-TOWN                                              NaN   \n",
              "[1007279] James L.                                              NaN   \n",
              "[1012166] Bertin Ramirez \"justareviewer\"                        NaN   \n",
              "\n",
              "item                                      [100028] Dark Mirror [VHS]  \\\n",
              "user                                                                   \n",
              "[1001561] D. Wetzel                                              NaN   \n",
              "[1001958] Neural Clone \"zarran67\"                                NaN   \n",
              "[1003282] CHI-TOWN                                               NaN   \n",
              "[1007279] James L.                                               4.0   \n",
              "[1012166] Bertin Ramirez \"justareviewer\"                         NaN   \n",
              "\n",
              "item                                      [100066] Foul Play [VHS]  \n",
              "user                                                                \n",
              "[1001561] D. Wetzel                                            NaN  \n",
              "[1001958] Neural Clone \"zarran67\"                              NaN  \n",
              "[1003282] CHI-TOWN                                             NaN  \n",
              "[1007279] James L.                                             NaN  \n",
              "[1012166] Bertin Ramirez \"justareviewer\"                       NaN  "
            ],
            "text/html": [
              "\n",
              "  <div id=\"df-5ecd81c6-3b9e-4676-9e4f-01af1c0a12c2\">\n",
              "    <div class=\"colab-df-container\">\n",
              "      <div>\n",
              "<style scoped>\n",
              "    .dataframe tbody tr th:only-of-type {\n",
              "        vertical-align: middle;\n",
              "    }\n",
              "\n",
              "    .dataframe tbody tr th {\n",
              "        vertical-align: top;\n",
              "    }\n",
              "\n",
              "    .dataframe thead th {\n",
              "        text-align: right;\n",
              "    }\n",
              "</style>\n",
              "<table border=\"1\" class=\"dataframe\">\n",
              "  <thead>\n",
              "    <tr style=\"text-align: right;\">\n",
              "      <th>item</th>\n",
              "      <th>[100004] High School Confidential [VHS]</th>\n",
              "      <th>[100019] Julius Caesar [VHS]</th>\n",
              "      <th>[100027] Love Happy [VHS]</th>\n",
              "      <th>[100028] Dark Mirror [VHS]</th>\n",
              "      <th>[100066] Foul Play [VHS]</th>\n",
              "    </tr>\n",
              "    <tr>\n",
              "      <th>user</th>\n",
              "      <th></th>\n",
              "      <th></th>\n",
              "      <th></th>\n",
              "      <th></th>\n",
              "      <th></th>\n",
              "    </tr>\n",
              "  </thead>\n",
              "  <tbody>\n",
              "    <tr>\n",
              "      <th>[1001561] D. Wetzel</th>\n",
              "      <td>NaN</td>\n",
              "      <td>NaN</td>\n",
              "      <td>NaN</td>\n",
              "      <td>NaN</td>\n",
              "      <td>NaN</td>\n",
              "    </tr>\n",
              "    <tr>\n",
              "      <th>[1001958] Neural Clone \"zarran67\"</th>\n",
              "      <td>NaN</td>\n",
              "      <td>NaN</td>\n",
              "      <td>NaN</td>\n",
              "      <td>NaN</td>\n",
              "      <td>NaN</td>\n",
              "    </tr>\n",
              "    <tr>\n",
              "      <th>[1003282] CHI-TOWN</th>\n",
              "      <td>NaN</td>\n",
              "      <td>NaN</td>\n",
              "      <td>NaN</td>\n",
              "      <td>NaN</td>\n",
              "      <td>NaN</td>\n",
              "    </tr>\n",
              "    <tr>\n",
              "      <th>[1007279] James L.</th>\n",
              "      <td>NaN</td>\n",
              "      <td>NaN</td>\n",
              "      <td>NaN</td>\n",
              "      <td>4.0</td>\n",
              "      <td>NaN</td>\n",
              "    </tr>\n",
              "    <tr>\n",
              "      <th>[1012166] Bertin Ramirez \"justareviewer\"</th>\n",
              "      <td>NaN</td>\n",
              "      <td>NaN</td>\n",
              "      <td>NaN</td>\n",
              "      <td>NaN</td>\n",
              "      <td>NaN</td>\n",
              "    </tr>\n",
              "  </tbody>\n",
              "</table>\n",
              "</div>\n",
              "      <button class=\"colab-df-convert\" onclick=\"convertToInteractive('df-5ecd81c6-3b9e-4676-9e4f-01af1c0a12c2')\"\n",
              "              title=\"Convert this dataframe to an interactive table.\"\n",
              "              style=\"display:none;\">\n",
              "        \n",
              "  <svg xmlns=\"http://www.w3.org/2000/svg\" height=\"24px\"viewBox=\"0 0 24 24\"\n",
              "       width=\"24px\">\n",
              "    <path d=\"M0 0h24v24H0V0z\" fill=\"none\"/>\n",
              "    <path d=\"M18.56 5.44l.94 2.06.94-2.06 2.06-.94-2.06-.94-.94-2.06-.94 2.06-2.06.94zm-11 1L8.5 8.5l.94-2.06 2.06-.94-2.06-.94L8.5 2.5l-.94 2.06-2.06.94zm10 10l.94 2.06.94-2.06 2.06-.94-2.06-.94-.94-2.06-.94 2.06-2.06.94z\"/><path d=\"M17.41 7.96l-1.37-1.37c-.4-.4-.92-.59-1.43-.59-.52 0-1.04.2-1.43.59L10.3 9.45l-7.72 7.72c-.78.78-.78 2.05 0 2.83L4 21.41c.39.39.9.59 1.41.59.51 0 1.02-.2 1.41-.59l7.78-7.78 2.81-2.81c.8-.78.8-2.07 0-2.86zM5.41 20L4 18.59l7.72-7.72 1.47 1.35L5.41 20z\"/>\n",
              "  </svg>\n",
              "      </button>\n",
              "      \n",
              "  <style>\n",
              "    .colab-df-container {\n",
              "      display:flex;\n",
              "      flex-wrap:wrap;\n",
              "      gap: 12px;\n",
              "    }\n",
              "\n",
              "    .colab-df-convert {\n",
              "      background-color: #E8F0FE;\n",
              "      border: none;\n",
              "      border-radius: 50%;\n",
              "      cursor: pointer;\n",
              "      display: none;\n",
              "      fill: #1967D2;\n",
              "      height: 32px;\n",
              "      padding: 0 0 0 0;\n",
              "      width: 32px;\n",
              "    }\n",
              "\n",
              "    .colab-df-convert:hover {\n",
              "      background-color: #E2EBFA;\n",
              "      box-shadow: 0px 1px 2px rgba(60, 64, 67, 0.3), 0px 1px 3px 1px rgba(60, 64, 67, 0.15);\n",
              "      fill: #174EA6;\n",
              "    }\n",
              "\n",
              "    [theme=dark] .colab-df-convert {\n",
              "      background-color: #3B4455;\n",
              "      fill: #D2E3FC;\n",
              "    }\n",
              "\n",
              "    [theme=dark] .colab-df-convert:hover {\n",
              "      background-color: #434B5C;\n",
              "      box-shadow: 0px 1px 3px 1px rgba(0, 0, 0, 0.15);\n",
              "      filter: drop-shadow(0px 1px 2px rgba(0, 0, 0, 0.3));\n",
              "      fill: #FFFFFF;\n",
              "    }\n",
              "  </style>\n",
              "\n",
              "      <script>\n",
              "        const buttonEl =\n",
              "          document.querySelector('#df-5ecd81c6-3b9e-4676-9e4f-01af1c0a12c2 button.colab-df-convert');\n",
              "        buttonEl.style.display =\n",
              "          google.colab.kernel.accessAllowed ? 'block' : 'none';\n",
              "\n",
              "        async function convertToInteractive(key) {\n",
              "          const element = document.querySelector('#df-5ecd81c6-3b9e-4676-9e4f-01af1c0a12c2');\n",
              "          const dataTable =\n",
              "            await google.colab.kernel.invokeFunction('convertToInteractive',\n",
              "                                                     [key], {});\n",
              "          if (!dataTable) return;\n",
              "\n",
              "          const docLinkHtml = 'Like what you see? Visit the ' +\n",
              "            '<a target=\"_blank\" href=https://colab.research.google.com/notebooks/data_table.ipynb>data table notebook</a>'\n",
              "            + ' to learn more about interactive tables.';\n",
              "          element.innerHTML = '';\n",
              "          dataTable['output_type'] = 'display_data';\n",
              "          await google.colab.output.renderOutput(dataTable, element);\n",
              "          const docLink = document.createElement('div');\n",
              "          docLink.innerHTML = docLinkHtml;\n",
              "          element.appendChild(docLink);\n",
              "        }\n",
              "      </script>\n",
              "    </div>\n",
              "  </div>\n",
              "  "
            ]
          },
          "metadata": {},
          "execution_count": 12
        }
      ],
      "source": [
        "train_ratings.iloc[:5, :5]"
      ]
    },
    {
      "cell_type": "markdown",
      "metadata": {
        "id": "ekEEgGud6jWB"
      },
      "source": [
        "- Per i prossimi passaggi, rappresentiamo questo frame in forma di matrice \"semplice\" che chiamiamo **R**, inserendo 0 al posto dei voti mancanti\n",
        "  - $r_{u,i}$ = voto dato dall'utente u all'oggetto i"
      ]
    },
    {
      "cell_type": "code",
      "execution_count": 13,
      "metadata": {
        "id": "FDSrneai6jWB"
      },
      "outputs": [],
      "source": [
        "R = train_ratings.fillna(0).values"
      ]
    },
    {
      "cell_type": "code",
      "execution_count": 14,
      "metadata": {
        "colab": {
          "base_uri": "https://localhost:8080/"
        },
        "id": "9pNFKo2b6jWC",
        "outputId": "85fe9e1f-6ce3-4af1-9947-f78bfb151e2e"
      },
      "outputs": [
        {
          "output_type": "execute_result",
          "data": {
            "text/plain": [
              "array([[0., 0., 0., 0., 0.],\n",
              "       [0., 0., 0., 0., 0.],\n",
              "       [0., 0., 0., 0., 0.],\n",
              "       [0., 0., 0., 4., 0.]])"
            ]
          },
          "metadata": {},
          "execution_count": 14
        }
      ],
      "source": [
        "R[:4, :5]"
      ]
    },
    {
      "cell_type": "markdown",
      "metadata": {
        "id": "oXM-W0xm6jWC"
      },
      "source": [
        "- Estraiamo anche una matrice booleana **P** che indichi per quali coppie utente-prodotto esiste un voto\n",
        "  - $p_{u,i}$ = 1 (`True`) se l'utente u ha dato un voto all'oggetto i, 0 (`False`) altrimenti"
      ]
    },
    {
      "cell_type": "code",
      "execution_count": 15,
      "metadata": {
        "id": "loeOeDDD6jWC"
      },
      "outputs": [],
      "source": [
        "P = train_ratings.notna().values"
      ]
    },
    {
      "cell_type": "code",
      "execution_count": 16,
      "metadata": {
        "colab": {
          "base_uri": "https://localhost:8080/"
        },
        "id": "jaCUPJbY6jWD",
        "outputId": "98f2c760-3b7c-4ff5-db31-2241ef237725"
      },
      "outputs": [
        {
          "output_type": "execute_result",
          "data": {
            "text/plain": [
              "array([[False, False, False, False, False],\n",
              "       [False, False, False, False, False],\n",
              "       [False, False, False, False, False],\n",
              "       [False, False, False,  True, False]])"
            ]
          },
          "metadata": {},
          "execution_count": 16
        }
      ],
      "source": [
        "P[:4, :5]"
      ]
    },
    {
      "cell_type": "markdown",
      "metadata": {
        "id": "OIM2xlw_6jWD"
      },
      "source": [
        "### Esercizio 2: Esplorazione matrici\n",
        "\n",
        "Estrarre le stesse informazioni richieste mell'esercizio 1, ma utilizzando le matrici `R` e `P` invece dei frame\n",
        "- **(2a)** Quanti sono i voti dati?\n",
        "- **(2b)** Quanti sono gli utenti distinti nei dati?\n",
        "- **(2c)** Quanti sono gli oggetti distinti?\n",
        "- **(2d)** Qual'è la media di tutti i voti?\n",
        "  - attenzione a non includere i voti mancanti (nulli) nella media\n",
        "- **(2e)** Qual è il numero minimo di voti dato da un utente?\n",
        "- **(2f)** Qual è l'oggetto con più voti\n",
        "- **(2g)** Quali sono i 10 oggetti col voto medio maggiore?"
      ]
    },
    {
      "cell_type": "markdown",
      "metadata": {
        "id": "xKjnR1Gw6jWE"
      },
      "source": [
        "- Per i punti 2f e 2g recuperare i nomi degli oggetti dai nomi delle colonne di `train_ratings`\n",
        "- Per i punti 2d e 2g è utile usare il parametro `where` dei metodi di aggregazione (`sum`, `mean`, ...), che filtra i dati su cui eseguire l'operazione\n",
        "  - disponibile solo in versioni recenti di NumPy"
      ]
    },
    {
      "cell_type": "code",
      "execution_count": 17,
      "metadata": {
        "colab": {
          "base_uri": "https://localhost:8080/"
        },
        "id": "stQv_SbU6jWE",
        "outputId": "fa51aa66-86be-4261-818b-feb17ee0de2c"
      },
      "outputs": [
        {
          "output_type": "stream",
          "name": "stdout",
          "text": [
            "a:  9683\n",
            "b:  178\n",
            "c:  3384\n",
            "d:  3.931219663327481\n",
            "e:  30\n",
            "f:  [57372] The Sixth Sense [VHS]\n",
            "g:  Index(['[100004] High School Confidential [VHS]',\n",
            "       '[49062] The Duchess and the Dirtwater Fox [VHS]',\n",
            "       '[49036] Manhattan Melodrama [VHS]', '[48982] The King and I [VHS]',\n",
            "       '[48922] A Summer Place [VHS]', '[48910] Blood Alley [VHS]',\n",
            "       '[48874] Revenge of the Nerds [VHS]', '[48832] Enemy Below [VHS]',\n",
            "       '[4880] Children of Heaven [VHS]',\n",
            "       '[49068] Doctor Who - Revenge of the Cybermen [VHS]'],\n",
            "      dtype='object', name='item')\n"
          ]
        }
      ],
      "source": [
        "print(\"a: \", P.sum())\n",
        "print(\"b: \", R.shape[0])\n",
        "print(\"c: \", R.shape[1])\n",
        "print(\"d: \", R.mean(where=P))\n",
        "print(\"e: \", P.sum(axis=1).min())\n",
        "print(\"f: \", train_ratings.columns[P.sum(axis=0).argmax()])\n",
        "print(\"g: \", train_ratings.columns[(-R.mean(axis=0, where=P)).argsort()[:10]])"
      ]
    },
    {
      "cell_type": "markdown",
      "metadata": {
        "id": "9oErFPcr6jWF"
      },
      "source": [
        "## User-based collaborative filtering\n",
        "\n",
        "- Nella recommendation _user-based_, il voto $\\hat{r}_{u,i}$ previsto per un oggetto $i$ da parte di un utente $u$ è determinato in base ai **voti dati da altri utenti** ad $i$, pesati in base alla loro _similarità_ con $u$\n",
        "- La similarità $\\text{sim}(u,v)$ tra due utenti $u$ e $v$ è misurata dai **voti dati ad oggetti recensiti da entrambi**\n",
        "- Iniziamo definendo come è calcolata la misura di similarità $\\text{sim}$"
      ]
    },
    {
      "cell_type": "markdown",
      "metadata": {
        "id": "L2YJkpIi6jWF"
      },
      "source": [
        "## Similarità coseno\n",
        "\n",
        "- La _similarità coseno_ è in generale una misura della similarità tra due vettori\n",
        "  - è il coseno dell'angolo formato tra i due vettori\n",
        "  - tiene conto del loro orientamento, non della lunghezza\n",
        "  - è pari al prodotto scalare dei vettori suddiviso per il prodotto delle loro norme euclidee\n",
        "  - è compresa tra 0 e 1 per vettori con valori non negativi\n",
        "$$ \\text{sim}(\\mathbf{a},\\mathbf{b}) = \\frac{\\sum_{i=1}^n a_i\\cdot b_i}{\\sqrt{\\sum_{i=1}^n a_i^2}\\cdot\\sqrt{\\sum_{i=1}^n b_i^2}} $$\n",
        "- Nel collaborative filtering, possiamo usare la similarità coseno per comparare i voti dati da due utenti\n",
        "  - consideriamo solo l'insieme di oggetti $C_{u,v}$ votati da entrambi\n",
        "$$ \\text{sim}(u,v) = \\frac{\\sum_{i\\in C_{u,v}} r_{u,i}\\cdot r_{v,i}}{\\sqrt{\\sum_{i\\in C_{u,v}} r_{u,i}^2}\\cdot\\sqrt{\\sum_{i\\in C_{u,v}} r_{v,i}^2}}$$"
      ]
    },
    {
      "cell_type": "markdown",
      "metadata": {
        "id": "LA4-sizv6jWG"
      },
      "source": [
        "- Costruiamo una matrice con le similarità coseno tra tutte le coppie di utenti usando opportune operazioni tra matrici\n",
        "- Il numeratore della formula è una somma di prodotti, rappresentabile quindi come prodotto scalare\n",
        "  - i termini da moltiplicare sono nelle righe della matrice **R** relative agli utenti _u_ e _v_\n",
        "  - vanno contati solo gli oggetti votati da entrambi, ma essendo i voti mancanti 0 gli altri oggetti sono esclusi implicitamente\n",
        "- Una matrice di prodotti scalari si può ottenere tramite un prodotto canonico tra matrici\n",
        "  - dobbiamo ottenere una matrice in cui alla posizione _u, v_ troviamo il prodotto scalare tra `R[u, :]` e `R[v, :]`\n",
        "  - possiamo ottenerla dal prodotto tra `R` e la sua trasposta  \n",
        "  `(R @ R.T)[u, v] == R[u, :] @ R.T[:, v] == R[u, :] @ R[v, :]`"
      ]
    },
    {
      "cell_type": "code",
      "execution_count": 18,
      "metadata": {
        "id": "2cCZDlF86jWG"
      },
      "outputs": [],
      "source": [
        "cosim_numer = R @ R.T"
      ]
    },
    {
      "cell_type": "markdown",
      "metadata": {
        "id": "96nC5jgp6jWH"
      },
      "source": [
        "- Per il denominatore, dobbiamo calcolare le norme dei vettori dei voti di ciascun utente u, ma limitate agli acquisti in comune con ciascun altro utente v\n",
        "- Iniziamo creando un array booleano 3d $\\mathbf{P}^\\text{AND}$ che, per qualsiasi coppia di utenti u, v e oggetto i, indichi se sia u che v hanno acquistato i\n",
        "$$ p^\\text{AND}_{u,v,i} = p_{u,i} \\wedge p_{v,i} $$\n",
        "- Per farlo, eseguiamo un AND tra diverse viste della matrice **P** con assi aggiunti e sfruttiamo le regole di broadcasting di NumPy"
      ]
    },
    {
      "cell_type": "code",
      "execution_count": 19,
      "metadata": {
        "id": "5tZ1E3j76jWH"
      },
      "outputs": [],
      "source": [
        "# M = numero utenti, N = numero oggetti\n",
        "# P ha forma M x N\n",
        "\n",
        "#          M x 1 x N       1 x M x N\n",
        "P_and = P[:, None, :] & P[None, :, :]\n",
        "\n",
        "# il risultato ha forma M x M x N\n",
        "# P_and[u, v, i] == P[u, i] & P[v, i]"
      ]
    },
    {
      "cell_type": "markdown",
      "metadata": {
        "id": "Is_59FTQ6jWI"
      },
      "source": [
        "- Creiamo ora un array 3d $\\mathbf{R}^\\text{COM}$ che riporti i voti degli utenti solo per oggetti in comune con altri\n",
        "  - $r^\\text{COM}_{u,v,i} = r_{u,i}$ se sia u che v hanno dato un voto a i\n",
        "  - $r^\\text{COM}_{u,v,i} = 0$ altrimenti\n",
        "  - ovvero:\n",
        "$$ r^\\text{COM}_{u,v,i} = p^\\text{AND}_{u,v,i} \\cdot r_{u,i} $$"
      ]
    },
    {
      "cell_type": "code",
      "execution_count": 20,
      "metadata": {
        "id": "W9WQ5uxe6jWI"
      },
      "outputs": [],
      "source": [
        "#     M x M x N    M x 1 x N\n",
        "R_com = P_and * R[:, None, :]\n",
        "\n",
        "# risultato: M x M x N"
      ]
    },
    {
      "cell_type": "markdown",
      "metadata": {
        "id": "e8oAbqN16jWJ"
      },
      "source": [
        "- Da quì possiamo ottenere una matrice 2d che per ogni coppia u, v di utenti contiene il valore delle norme nel denominatore della formula della sim. coseno\n",
        "$$ \\forall u,v: \\sqrt{\\sum_{i\\in C_{u,v}} r_{u,i}^2} = \\sqrt{\\sum_i (r^\\text{COM}_{u,v,i})^2} $$\n",
        "- Possiamo usare la funzione `norm` di NumPy per calcolare le norme lungo l'asse specificato (il terzo, quello indicizzato con $i$ nella formula sopra)"
      ]
    },
    {
      "cell_type": "code",
      "execution_count": 21,
      "metadata": {
        "id": "wlxJcxsX6jWJ"
      },
      "outputs": [],
      "source": [
        "R_com_norms = np.linalg.norm(R_com, axis=2)"
      ]
    },
    {
      "cell_type": "markdown",
      "metadata": {
        "id": "qDAR0r0n6jWJ"
      },
      "source": [
        "- Utilizziamo la matrice `R_com_norms` sopra per estrarre una matrice `cosim_denum` col denominatore completo della formula"
      ]
    },
    {
      "cell_type": "code",
      "execution_count": 22,
      "metadata": {
        "id": "udRMVH_X6jWK"
      },
      "outputs": [],
      "source": [
        "cosim_denum = R_com_norms * R_com_norms.T"
      ]
    },
    {
      "cell_type": "markdown",
      "metadata": {
        "id": "hlfOPJH76jWK"
      },
      "source": [
        "- Estraiamo infine la matrice `cosim` con tutte le similarità per ogni coppia di utenti"
      ]
    },
    {
      "cell_type": "code",
      "execution_count": 23,
      "metadata": {
        "colab": {
          "base_uri": "https://localhost:8080/"
        },
        "id": "BptOLeah6jWL",
        "outputId": "bee1993f-eb89-4feb-851f-e41a03be24b0"
      },
      "outputs": [
        {
          "output_type": "stream",
          "name": "stderr",
          "text": [
            "<ipython-input-23-a06e1fe2b8d7>:1: RuntimeWarning: invalid value encountered in true_divide\n",
            "  cosim = cosim_numer / cosim_denum\n"
          ]
        }
      ],
      "source": [
        "cosim = cosim_numer / cosim_denum"
      ]
    },
    {
      "cell_type": "markdown",
      "metadata": {
        "id": "meE3zFhM6jWL"
      },
      "source": [
        "- Nel calcolo di `cosim` riceviamo un warning per via di divisioni per zero, in corrispondenza delle quali troviamo valori mancanti (`nan`)"
      ]
    },
    {
      "cell_type": "code",
      "execution_count": 24,
      "metadata": {
        "colab": {
          "base_uri": "https://localhost:8080/"
        },
        "id": "60mD6wCd6jWL",
        "outputId": "80a4096d-2bb7-4e6c-9737-2f6166117a09"
      },
      "outputs": [
        {
          "output_type": "execute_result",
          "data": {
            "text/plain": [
              "array([[1.        , 0.9924812 , 0.94372216,        nan],\n",
              "       [0.9924812 , 1.        , 0.97580525,        nan],\n",
              "       [0.94372216, 0.97580525, 1.        ,        nan],\n",
              "       [       nan,        nan,        nan, 1.        ]])"
            ]
          },
          "metadata": {},
          "execution_count": 24
        }
      ],
      "source": [
        "cosim[:4, :4]"
      ]
    },
    {
      "cell_type": "markdown",
      "metadata": {
        "id": "e8It5U596jWM"
      },
      "source": [
        "- Questi corrispondono a coppie di utenti senza acquisti in comune\n",
        "- Usiamo la funzione `isnan` per localizzare i valori mancanti e li impostiamo a 0 (similarità nulla)"
      ]
    },
    {
      "cell_type": "code",
      "execution_count": 25,
      "metadata": {
        "id": "fx3zABej6jWM"
      },
      "outputs": [],
      "source": [
        "cosim[np.isnan(cosim)] = 0"
      ]
    },
    {
      "cell_type": "code",
      "execution_count": 26,
      "metadata": {
        "colab": {
          "base_uri": "https://localhost:8080/"
        },
        "id": "1hroMYvI6jWN",
        "outputId": "ed6b411d-3c0a-4247-bf60-b7348d961a4c"
      },
      "outputs": [
        {
          "output_type": "execute_result",
          "data": {
            "text/plain": [
              "array([[1.        , 0.9924812 , 0.94372216, 0.        ],\n",
              "       [0.9924812 , 1.        , 0.97580525, 0.        ],\n",
              "       [0.94372216, 0.97580525, 1.        , 0.        ],\n",
              "       [0.        , 0.        , 0.        , 1.        ]])"
            ]
          },
          "metadata": {},
          "execution_count": 26
        }
      ],
      "source": [
        "cosim[:4, :4]"
      ]
    },
    {
      "cell_type": "markdown",
      "metadata": {
        "id": "O2sj3qTD6jWN"
      },
      "source": [
        "## Predizione dei voti mancanti\n",
        "\n",
        "- Vediamo ora come predire il voto $\\hat{r}_{u,i}$ che un utente $u$ darebbe ad un oggetto $i$ che non conosce\n",
        "- Come prima soluzione, prendiamo la **media dei voti** dati ad $i$ da qualsiasi altro utente $v$ che l'abbia valutato, **pesata in base alla similarità** tra $u$ e $v$\n",
        "$$ \\hat{r}_{u,i} = \\frac{\\sum_{v:P_{v,i}=1} \\text{sim}(u, v) \\cdot r_{v,i}}{\\sum_{v:P_{v,i}=1} \\text{sim}(u, v)} $$"
      ]
    },
    {
      "cell_type": "markdown",
      "metadata": {
        "id": "Qt_MBOzk6jWO"
      },
      "source": [
        "### Esercizio 3: Calcolo predizioni\n",
        "\n",
        "Definire la funzione `predict_from_all` in modo che, dati gli indici di un utente `u` e un oggetto `i`, restituisca il voto predetto\n",
        "- `voters` è una lista di indici degli utenti che hanno già acquistato l'oggetto, da usare per selezionare righe e colonne nel punto successivo\n",
        "  - il metodo `nonzero` è usato sul vettore booleano `P[:, i]` per restituire gli indici corrispondenti ai valori `True`\n",
        "- impostare `predicted_vote` al voto predetto secondo la formula sopra\n",
        "- restituire tale voto se non è un valore NaN (verificare con `np.isnan`), altrimenti restituire come ripiego la media di tutti i voti noti"
      ]
    },
    {
      "cell_type": "code",
      "execution_count": 27,
      "metadata": {
        "id": "FkME78yn6jWO"
      },
      "outputs": [],
      "source": [
        "def predict_from_all(u, i):\n",
        "    voters = list(P[:, i].nonzero()[0])\n",
        "    predicted_vote = (cosim[u, voters] @ R[voters, i]) / cosim[u, voters].sum()\n",
        "    return predicted_vote if not np.isnan(predicted_vote) else R.mean(where=P)"
      ]
    },
    {
      "cell_type": "markdown",
      "metadata": {
        "id": "KLyr1ki16jWO"
      },
      "source": [
        "## Validazione delle predizioni\n",
        "\n",
        "- Una volta generati dei voti predetti, dobbiamo verificarne la bontà confrontandoli con voti veri\n",
        "  - analogamente ai problemi di regressione, ci serve un _validation set_ di voti per la verifica disgiunto dal _training set_ su cui abbiamo costruito le predizioni\n",
        "- Carichiamo i voti contenuti nel file `amazon_val.csv` da usare come validation set"
      ]
    },
    {
      "cell_type": "code",
      "execution_count": 28,
      "metadata": {
        "id": "BT7bdlOg6jWP"
      },
      "outputs": [],
      "source": [
        "amazon_val = pd.read_csv(\n",
        "    \"amazon_val.csv\",\n",
        "    header=None,\n",
        "    names=[\"user\", \"item\", \"rating\"],\n",
        ")"
      ]
    },
    {
      "cell_type": "markdown",
      "metadata": {
        "id": "fNScxdU36jWP"
      },
      "source": [
        "- Come sopra, estraiamo i voti in forma di frame con una riga per ogni utente e una colonna per ogni oggetto"
      ]
    },
    {
      "cell_type": "code",
      "execution_count": 29,
      "metadata": {
        "id": "Bk5_MLGh6jWP"
      },
      "outputs": [],
      "source": [
        "val_ratings = amazon_val.set_index([\"user\", \"item\"])[\"rating\"].unstack(\"item\")"
      ]
    },
    {
      "cell_type": "code",
      "execution_count": 30,
      "metadata": {
        "colab": {
          "base_uri": "https://localhost:8080/",
          "height": 206
        },
        "id": "F7z8wyAv6jWQ",
        "outputId": "139fea88-9bd7-4adb-c817-19ea232bd87e"
      },
      "outputs": [
        {
          "output_type": "execute_result",
          "data": {
            "text/plain": [
              "item                                      [100004] High School Confidential [VHS]  \\\n",
              "user                                                                                \n",
              "[1001561] D. Wetzel                                                           NaN   \n",
              "[1003282] CHI-TOWN                                                            NaN   \n",
              "[1007279] James L.                                                            NaN   \n",
              "[1012166] Bertin Ramirez \"justareviewer\"                                      NaN   \n",
              "\n",
              "item                                      [100019] Julius Caesar [VHS]  \\\n",
              "user                                                                     \n",
              "[1001561] D. Wetzel                                                NaN   \n",
              "[1003282] CHI-TOWN                                                 NaN   \n",
              "[1007279] James L.                                                 NaN   \n",
              "[1012166] Bertin Ramirez \"justareviewer\"                           NaN   \n",
              "\n",
              "item                                      [100027] Love Happy [VHS]  \\\n",
              "user                                                                  \n",
              "[1001561] D. Wetzel                                             NaN   \n",
              "[1003282] CHI-TOWN                                              NaN   \n",
              "[1007279] James L.                                              NaN   \n",
              "[1012166] Bertin Ramirez \"justareviewer\"                        NaN   \n",
              "\n",
              "item                                      [100066] Foul Play [VHS]  \n",
              "user                                                                \n",
              "[1001561] D. Wetzel                                            NaN  \n",
              "[1003282] CHI-TOWN                                             NaN  \n",
              "[1007279] James L.                                             NaN  \n",
              "[1012166] Bertin Ramirez \"justareviewer\"                       NaN  "
            ],
            "text/html": [
              "\n",
              "  <div id=\"df-a6ec0815-d2d8-4767-9d9b-55a57e156960\">\n",
              "    <div class=\"colab-df-container\">\n",
              "      <div>\n",
              "<style scoped>\n",
              "    .dataframe tbody tr th:only-of-type {\n",
              "        vertical-align: middle;\n",
              "    }\n",
              "\n",
              "    .dataframe tbody tr th {\n",
              "        vertical-align: top;\n",
              "    }\n",
              "\n",
              "    .dataframe thead th {\n",
              "        text-align: right;\n",
              "    }\n",
              "</style>\n",
              "<table border=\"1\" class=\"dataframe\">\n",
              "  <thead>\n",
              "    <tr style=\"text-align: right;\">\n",
              "      <th>item</th>\n",
              "      <th>[100004] High School Confidential [VHS]</th>\n",
              "      <th>[100019] Julius Caesar [VHS]</th>\n",
              "      <th>[100027] Love Happy [VHS]</th>\n",
              "      <th>[100066] Foul Play [VHS]</th>\n",
              "    </tr>\n",
              "    <tr>\n",
              "      <th>user</th>\n",
              "      <th></th>\n",
              "      <th></th>\n",
              "      <th></th>\n",
              "      <th></th>\n",
              "    </tr>\n",
              "  </thead>\n",
              "  <tbody>\n",
              "    <tr>\n",
              "      <th>[1001561] D. Wetzel</th>\n",
              "      <td>NaN</td>\n",
              "      <td>NaN</td>\n",
              "      <td>NaN</td>\n",
              "      <td>NaN</td>\n",
              "    </tr>\n",
              "    <tr>\n",
              "      <th>[1003282] CHI-TOWN</th>\n",
              "      <td>NaN</td>\n",
              "      <td>NaN</td>\n",
              "      <td>NaN</td>\n",
              "      <td>NaN</td>\n",
              "    </tr>\n",
              "    <tr>\n",
              "      <th>[1007279] James L.</th>\n",
              "      <td>NaN</td>\n",
              "      <td>NaN</td>\n",
              "      <td>NaN</td>\n",
              "      <td>NaN</td>\n",
              "    </tr>\n",
              "    <tr>\n",
              "      <th>[1012166] Bertin Ramirez \"justareviewer\"</th>\n",
              "      <td>NaN</td>\n",
              "      <td>NaN</td>\n",
              "      <td>NaN</td>\n",
              "      <td>NaN</td>\n",
              "    </tr>\n",
              "  </tbody>\n",
              "</table>\n",
              "</div>\n",
              "      <button class=\"colab-df-convert\" onclick=\"convertToInteractive('df-a6ec0815-d2d8-4767-9d9b-55a57e156960')\"\n",
              "              title=\"Convert this dataframe to an interactive table.\"\n",
              "              style=\"display:none;\">\n",
              "        \n",
              "  <svg xmlns=\"http://www.w3.org/2000/svg\" height=\"24px\"viewBox=\"0 0 24 24\"\n",
              "       width=\"24px\">\n",
              "    <path d=\"M0 0h24v24H0V0z\" fill=\"none\"/>\n",
              "    <path d=\"M18.56 5.44l.94 2.06.94-2.06 2.06-.94-2.06-.94-.94-2.06-.94 2.06-2.06.94zm-11 1L8.5 8.5l.94-2.06 2.06-.94-2.06-.94L8.5 2.5l-.94 2.06-2.06.94zm10 10l.94 2.06.94-2.06 2.06-.94-2.06-.94-.94-2.06-.94 2.06-2.06.94z\"/><path d=\"M17.41 7.96l-1.37-1.37c-.4-.4-.92-.59-1.43-.59-.52 0-1.04.2-1.43.59L10.3 9.45l-7.72 7.72c-.78.78-.78 2.05 0 2.83L4 21.41c.39.39.9.59 1.41.59.51 0 1.02-.2 1.41-.59l7.78-7.78 2.81-2.81c.8-.78.8-2.07 0-2.86zM5.41 20L4 18.59l7.72-7.72 1.47 1.35L5.41 20z\"/>\n",
              "  </svg>\n",
              "      </button>\n",
              "      \n",
              "  <style>\n",
              "    .colab-df-container {\n",
              "      display:flex;\n",
              "      flex-wrap:wrap;\n",
              "      gap: 12px;\n",
              "    }\n",
              "\n",
              "    .colab-df-convert {\n",
              "      background-color: #E8F0FE;\n",
              "      border: none;\n",
              "      border-radius: 50%;\n",
              "      cursor: pointer;\n",
              "      display: none;\n",
              "      fill: #1967D2;\n",
              "      height: 32px;\n",
              "      padding: 0 0 0 0;\n",
              "      width: 32px;\n",
              "    }\n",
              "\n",
              "    .colab-df-convert:hover {\n",
              "      background-color: #E2EBFA;\n",
              "      box-shadow: 0px 1px 2px rgba(60, 64, 67, 0.3), 0px 1px 3px 1px rgba(60, 64, 67, 0.15);\n",
              "      fill: #174EA6;\n",
              "    }\n",
              "\n",
              "    [theme=dark] .colab-df-convert {\n",
              "      background-color: #3B4455;\n",
              "      fill: #D2E3FC;\n",
              "    }\n",
              "\n",
              "    [theme=dark] .colab-df-convert:hover {\n",
              "      background-color: #434B5C;\n",
              "      box-shadow: 0px 1px 3px 1px rgba(0, 0, 0, 0.15);\n",
              "      filter: drop-shadow(0px 1px 2px rgba(0, 0, 0, 0.3));\n",
              "      fill: #FFFFFF;\n",
              "    }\n",
              "  </style>\n",
              "\n",
              "      <script>\n",
              "        const buttonEl =\n",
              "          document.querySelector('#df-a6ec0815-d2d8-4767-9d9b-55a57e156960 button.colab-df-convert');\n",
              "        buttonEl.style.display =\n",
              "          google.colab.kernel.accessAllowed ? 'block' : 'none';\n",
              "\n",
              "        async function convertToInteractive(key) {\n",
              "          const element = document.querySelector('#df-a6ec0815-d2d8-4767-9d9b-55a57e156960');\n",
              "          const dataTable =\n",
              "            await google.colab.kernel.invokeFunction('convertToInteractive',\n",
              "                                                     [key], {});\n",
              "          if (!dataTable) return;\n",
              "\n",
              "          const docLinkHtml = 'Like what you see? Visit the ' +\n",
              "            '<a target=\"_blank\" href=https://colab.research.google.com/notebooks/data_table.ipynb>data table notebook</a>'\n",
              "            + ' to learn more about interactive tables.';\n",
              "          element.innerHTML = '';\n",
              "          dataTable['output_type'] = 'display_data';\n",
              "          await google.colab.output.renderOutput(dataTable, element);\n",
              "          const docLink = document.createElement('div');\n",
              "          docLink.innerHTML = docLinkHtml;\n",
              "          element.appendChild(docLink);\n",
              "        }\n",
              "      </script>\n",
              "    </div>\n",
              "  </div>\n",
              "  "
            ]
          },
          "metadata": {},
          "execution_count": 30
        }
      ],
      "source": [
        "val_ratings.iloc[:4, :4]"
      ]
    },
    {
      "cell_type": "markdown",
      "metadata": {
        "id": "mIjgKmcV6jWQ"
      },
      "source": [
        "- Attenzione: le righe e colonne di questo frame non sono conformi a quello analogo dei dati di training\n",
        "  - già la forma dei frame è diversa, perché alcuni utenti e oggetti presenti nel training non lo sono quì"
      ]
    },
    {
      "cell_type": "code",
      "execution_count": 31,
      "metadata": {
        "colab": {
          "base_uri": "https://localhost:8080/"
        },
        "id": "irfhRZAT6jWR",
        "outputId": "16dfa886-a89e-498f-f977-e2cddbbd75d2"
      },
      "outputs": [
        {
          "output_type": "execute_result",
          "data": {
            "text/plain": [
              "False"
            ]
          },
          "metadata": {},
          "execution_count": 31
        }
      ],
      "source": [
        "val_ratings.shape == train_ratings.shape"
      ]
    },
    {
      "cell_type": "markdown",
      "metadata": {
        "id": "ix4ei8tu6jWR"
      },
      "source": [
        "- Utilizziamo il metodo `reindex_like` per ottenere un frame che contenga i dati di `val_ratings` ma con le stesse righe e colonne di `train_ratings`"
      ]
    },
    {
      "cell_type": "code",
      "execution_count": 32,
      "metadata": {
        "id": "MmFeaoko6jWR"
      },
      "outputs": [],
      "source": [
        "val_ratings = val_ratings.reindex_like(train_ratings)"
      ]
    },
    {
      "cell_type": "markdown",
      "metadata": {
        "id": "qpQWGqBj6jWS"
      },
      "source": [
        "- Otteniamo così un nuovo frame compatibile con quello di training"
      ]
    },
    {
      "cell_type": "code",
      "execution_count": 33,
      "metadata": {
        "colab": {
          "base_uri": "https://localhost:8080/",
          "height": 238
        },
        "id": "OcI6wHhh6jWS",
        "outputId": "ff42d9a6-22b3-493d-b51b-6e962a3609ee"
      },
      "outputs": [
        {
          "output_type": "execute_result",
          "data": {
            "text/plain": [
              "item                                      [100004] High School Confidential [VHS]  \\\n",
              "user                                                                                \n",
              "[1001561] D. Wetzel                                                           NaN   \n",
              "[1001958] Neural Clone \"zarran67\"                                             NaN   \n",
              "[1003282] CHI-TOWN                                                            NaN   \n",
              "[1007279] James L.                                                            NaN   \n",
              "[1012166] Bertin Ramirez \"justareviewer\"                                      NaN   \n",
              "\n",
              "item                                      [100019] Julius Caesar [VHS]  \\\n",
              "user                                                                     \n",
              "[1001561] D. Wetzel                                                NaN   \n",
              "[1001958] Neural Clone \"zarran67\"                                  NaN   \n",
              "[1003282] CHI-TOWN                                                 NaN   \n",
              "[1007279] James L.                                                 NaN   \n",
              "[1012166] Bertin Ramirez \"justareviewer\"                           NaN   \n",
              "\n",
              "item                                      [100027] Love Happy [VHS]  \\\n",
              "user                                                                  \n",
              "[1001561] D. Wetzel                                             NaN   \n",
              "[1001958] Neural Clone \"zarran67\"                               NaN   \n",
              "[1003282] CHI-TOWN                                              NaN   \n",
              "[1007279] James L.                                              NaN   \n",
              "[1012166] Bertin Ramirez \"justareviewer\"                        NaN   \n",
              "\n",
              "item                                      [100028] Dark Mirror [VHS]  \\\n",
              "user                                                                   \n",
              "[1001561] D. Wetzel                                              NaN   \n",
              "[1001958] Neural Clone \"zarran67\"                                NaN   \n",
              "[1003282] CHI-TOWN                                               NaN   \n",
              "[1007279] James L.                                               NaN   \n",
              "[1012166] Bertin Ramirez \"justareviewer\"                         NaN   \n",
              "\n",
              "item                                      [100066] Foul Play [VHS]  \n",
              "user                                                                \n",
              "[1001561] D. Wetzel                                            NaN  \n",
              "[1001958] Neural Clone \"zarran67\"                              NaN  \n",
              "[1003282] CHI-TOWN                                             NaN  \n",
              "[1007279] James L.                                             NaN  \n",
              "[1012166] Bertin Ramirez \"justareviewer\"                       NaN  "
            ],
            "text/html": [
              "\n",
              "  <div id=\"df-9589af93-0554-4266-90d0-0bebfb8aa1c5\">\n",
              "    <div class=\"colab-df-container\">\n",
              "      <div>\n",
              "<style scoped>\n",
              "    .dataframe tbody tr th:only-of-type {\n",
              "        vertical-align: middle;\n",
              "    }\n",
              "\n",
              "    .dataframe tbody tr th {\n",
              "        vertical-align: top;\n",
              "    }\n",
              "\n",
              "    .dataframe thead th {\n",
              "        text-align: right;\n",
              "    }\n",
              "</style>\n",
              "<table border=\"1\" class=\"dataframe\">\n",
              "  <thead>\n",
              "    <tr style=\"text-align: right;\">\n",
              "      <th>item</th>\n",
              "      <th>[100004] High School Confidential [VHS]</th>\n",
              "      <th>[100019] Julius Caesar [VHS]</th>\n",
              "      <th>[100027] Love Happy [VHS]</th>\n",
              "      <th>[100028] Dark Mirror [VHS]</th>\n",
              "      <th>[100066] Foul Play [VHS]</th>\n",
              "    </tr>\n",
              "    <tr>\n",
              "      <th>user</th>\n",
              "      <th></th>\n",
              "      <th></th>\n",
              "      <th></th>\n",
              "      <th></th>\n",
              "      <th></th>\n",
              "    </tr>\n",
              "  </thead>\n",
              "  <tbody>\n",
              "    <tr>\n",
              "      <th>[1001561] D. Wetzel</th>\n",
              "      <td>NaN</td>\n",
              "      <td>NaN</td>\n",
              "      <td>NaN</td>\n",
              "      <td>NaN</td>\n",
              "      <td>NaN</td>\n",
              "    </tr>\n",
              "    <tr>\n",
              "      <th>[1001958] Neural Clone \"zarran67\"</th>\n",
              "      <td>NaN</td>\n",
              "      <td>NaN</td>\n",
              "      <td>NaN</td>\n",
              "      <td>NaN</td>\n",
              "      <td>NaN</td>\n",
              "    </tr>\n",
              "    <tr>\n",
              "      <th>[1003282] CHI-TOWN</th>\n",
              "      <td>NaN</td>\n",
              "      <td>NaN</td>\n",
              "      <td>NaN</td>\n",
              "      <td>NaN</td>\n",
              "      <td>NaN</td>\n",
              "    </tr>\n",
              "    <tr>\n",
              "      <th>[1007279] James L.</th>\n",
              "      <td>NaN</td>\n",
              "      <td>NaN</td>\n",
              "      <td>NaN</td>\n",
              "      <td>NaN</td>\n",
              "      <td>NaN</td>\n",
              "    </tr>\n",
              "    <tr>\n",
              "      <th>[1012166] Bertin Ramirez \"justareviewer\"</th>\n",
              "      <td>NaN</td>\n",
              "      <td>NaN</td>\n",
              "      <td>NaN</td>\n",
              "      <td>NaN</td>\n",
              "      <td>NaN</td>\n",
              "    </tr>\n",
              "  </tbody>\n",
              "</table>\n",
              "</div>\n",
              "      <button class=\"colab-df-convert\" onclick=\"convertToInteractive('df-9589af93-0554-4266-90d0-0bebfb8aa1c5')\"\n",
              "              title=\"Convert this dataframe to an interactive table.\"\n",
              "              style=\"display:none;\">\n",
              "        \n",
              "  <svg xmlns=\"http://www.w3.org/2000/svg\" height=\"24px\"viewBox=\"0 0 24 24\"\n",
              "       width=\"24px\">\n",
              "    <path d=\"M0 0h24v24H0V0z\" fill=\"none\"/>\n",
              "    <path d=\"M18.56 5.44l.94 2.06.94-2.06 2.06-.94-2.06-.94-.94-2.06-.94 2.06-2.06.94zm-11 1L8.5 8.5l.94-2.06 2.06-.94-2.06-.94L8.5 2.5l-.94 2.06-2.06.94zm10 10l.94 2.06.94-2.06 2.06-.94-2.06-.94-.94-2.06-.94 2.06-2.06.94z\"/><path d=\"M17.41 7.96l-1.37-1.37c-.4-.4-.92-.59-1.43-.59-.52 0-1.04.2-1.43.59L10.3 9.45l-7.72 7.72c-.78.78-.78 2.05 0 2.83L4 21.41c.39.39.9.59 1.41.59.51 0 1.02-.2 1.41-.59l7.78-7.78 2.81-2.81c.8-.78.8-2.07 0-2.86zM5.41 20L4 18.59l7.72-7.72 1.47 1.35L5.41 20z\"/>\n",
              "  </svg>\n",
              "      </button>\n",
              "      \n",
              "  <style>\n",
              "    .colab-df-container {\n",
              "      display:flex;\n",
              "      flex-wrap:wrap;\n",
              "      gap: 12px;\n",
              "    }\n",
              "\n",
              "    .colab-df-convert {\n",
              "      background-color: #E8F0FE;\n",
              "      border: none;\n",
              "      border-radius: 50%;\n",
              "      cursor: pointer;\n",
              "      display: none;\n",
              "      fill: #1967D2;\n",
              "      height: 32px;\n",
              "      padding: 0 0 0 0;\n",
              "      width: 32px;\n",
              "    }\n",
              "\n",
              "    .colab-df-convert:hover {\n",
              "      background-color: #E2EBFA;\n",
              "      box-shadow: 0px 1px 2px rgba(60, 64, 67, 0.3), 0px 1px 3px 1px rgba(60, 64, 67, 0.15);\n",
              "      fill: #174EA6;\n",
              "    }\n",
              "\n",
              "    [theme=dark] .colab-df-convert {\n",
              "      background-color: #3B4455;\n",
              "      fill: #D2E3FC;\n",
              "    }\n",
              "\n",
              "    [theme=dark] .colab-df-convert:hover {\n",
              "      background-color: #434B5C;\n",
              "      box-shadow: 0px 1px 3px 1px rgba(0, 0, 0, 0.15);\n",
              "      filter: drop-shadow(0px 1px 2px rgba(0, 0, 0, 0.3));\n",
              "      fill: #FFFFFF;\n",
              "    }\n",
              "  </style>\n",
              "\n",
              "      <script>\n",
              "        const buttonEl =\n",
              "          document.querySelector('#df-9589af93-0554-4266-90d0-0bebfb8aa1c5 button.colab-df-convert');\n",
              "        buttonEl.style.display =\n",
              "          google.colab.kernel.accessAllowed ? 'block' : 'none';\n",
              "\n",
              "        async function convertToInteractive(key) {\n",
              "          const element = document.querySelector('#df-9589af93-0554-4266-90d0-0bebfb8aa1c5');\n",
              "          const dataTable =\n",
              "            await google.colab.kernel.invokeFunction('convertToInteractive',\n",
              "                                                     [key], {});\n",
              "          if (!dataTable) return;\n",
              "\n",
              "          const docLinkHtml = 'Like what you see? Visit the ' +\n",
              "            '<a target=\"_blank\" href=https://colab.research.google.com/notebooks/data_table.ipynb>data table notebook</a>'\n",
              "            + ' to learn more about interactive tables.';\n",
              "          element.innerHTML = '';\n",
              "          dataTable['output_type'] = 'display_data';\n",
              "          await google.colab.output.renderOutput(dataTable, element);\n",
              "          const docLink = document.createElement('div');\n",
              "          docLink.innerHTML = docLinkHtml;\n",
              "          element.appendChild(docLink);\n",
              "        }\n",
              "      </script>\n",
              "    </div>\n",
              "  </div>\n",
              "  "
            ]
          },
          "metadata": {},
          "execution_count": 33
        }
      ],
      "source": [
        "val_ratings.iloc[:5, :5]"
      ]
    },
    {
      "cell_type": "code",
      "execution_count": 34,
      "metadata": {
        "colab": {
          "base_uri": "https://localhost:8080/"
        },
        "id": "16Vr3VG26jWS",
        "outputId": "ca2e0a43-e6d8-481a-c28e-028abafb07ef"
      },
      "outputs": [
        {
          "output_type": "execute_result",
          "data": {
            "text/plain": [
              "True"
            ]
          },
          "metadata": {},
          "execution_count": 34
        }
      ],
      "source": [
        "np.array_equal(train_ratings.index, val_ratings.index)"
      ]
    },
    {
      "cell_type": "code",
      "execution_count": 35,
      "metadata": {
        "colab": {
          "base_uri": "https://localhost:8080/"
        },
        "id": "_EVhQ8DU6jWT",
        "outputId": "3a3a457e-bfab-4e78-af74-10770d59be97"
      },
      "outputs": [
        {
          "output_type": "execute_result",
          "data": {
            "text/plain": [
              "True"
            ]
          },
          "metadata": {},
          "execution_count": 35
        }
      ],
      "source": [
        "np.array_equal(train_ratings.columns, val_ratings.columns)"
      ]
    },
    {
      "cell_type": "markdown",
      "metadata": {
        "id": "6Xyoi1-U6jWT"
      },
      "source": [
        "- Analogamente a prima, estraiamo\n",
        "  - una matrice dei voti `R_val`, impostando a 0 quelli mancanti\n",
        "  - una matrice booleana `P_val` che indichi per quali coppie utente-oggetto è presente un voto"
      ]
    },
    {
      "cell_type": "code",
      "execution_count": 36,
      "metadata": {
        "id": "sOi3zhxD6jWT"
      },
      "outputs": [],
      "source": [
        "R_val = val_ratings.fillna(0).values\n",
        "P_val = val_ratings.notna().values"
      ]
    },
    {
      "cell_type": "code",
      "execution_count": 37,
      "metadata": {
        "colab": {
          "base_uri": "https://localhost:8080/"
        },
        "id": "BHXB-IYk6jWU",
        "outputId": "5a040201-9e87-43b3-e816-c172904fa90b"
      },
      "outputs": [
        {
          "output_type": "execute_result",
          "data": {
            "text/plain": [
              "array([[0., 0., 0., 0.],\n",
              "       [0., 0., 0., 0.],\n",
              "       [0., 0., 0., 0.],\n",
              "       [0., 5., 0., 4.]])"
            ]
          },
          "metadata": {},
          "execution_count": 37
        }
      ],
      "source": [
        "R_val[:4, -4:]"
      ]
    },
    {
      "cell_type": "code",
      "execution_count": 38,
      "metadata": {
        "colab": {
          "base_uri": "https://localhost:8080/"
        },
        "id": "egfilJmU6jWU",
        "outputId": "610d1878-10b7-4493-e4cc-bc9033f7dfd5"
      },
      "outputs": [
        {
          "output_type": "execute_result",
          "data": {
            "text/plain": [
              "array([[False, False, False, False],\n",
              "       [False, False, False, False],\n",
              "       [False, False, False, False],\n",
              "       [False,  True, False,  True]])"
            ]
          },
          "metadata": {},
          "execution_count": 38
        }
      ],
      "source": [
        "P_val[:4, -4:]"
      ]
    },
    {
      "cell_type": "markdown",
      "metadata": {
        "id": "CjgSX8gn6jWV"
      },
      "source": [
        "- Estraiamo un vettore `val_actual` con tutti i voti definiti nel validation set"
      ]
    },
    {
      "cell_type": "code",
      "execution_count": 39,
      "metadata": {
        "id": "GzpFwK6w6jWV"
      },
      "outputs": [],
      "source": [
        "val_actual = R_val[P_val]"
      ]
    },
    {
      "cell_type": "markdown",
      "metadata": {
        "id": "ACXbINoc6jWV"
      },
      "source": [
        "- Definiamo quindi una funzione `get_val_predictions` che\n",
        "  - accetti in ingresso una funzione `pred_func(u, i)` che predice il voto di un utente `u` ad un oggetto `i`\n",
        "  - la applichi su tutte le coppie del validation set\n",
        "  - restituisca un vettore con le predizioni estratte, allineate ai voti reali del vettore `val_actual`\n",
        "    - `zip(*P_val.nonzero())` restituisce tutte le tuple `(u, i)` per cui `P_val[u, i]` è `True`"
      ]
    },
    {
      "cell_type": "code",
      "execution_count": 40,
      "metadata": {
        "id": "MQ8o7FSq6jWV"
      },
      "outputs": [],
      "source": [
        "def get_val_predictions(pred_func):\n",
        "    return np.array([\n",
        "        pred_func(u, i)\n",
        "        for u, i in zip(*P_val.nonzero())\n",
        "    ])"
      ]
    },
    {
      "cell_type": "markdown",
      "metadata": {
        "id": "CC-T7o7c6jWW"
      },
      "source": [
        "## RMSE\n",
        "\n",
        "- Il _Root Mean Squared Error_ (RMSE) è una metrica di valutazione usata comunemente per i sistemi di recommendation\n",
        "- Dato un validation set $V$ di voti reali $r_{u,i}$ per cui abbiamo estratto delle predizioni $\\hat{r}_{u,i}$, il RMSE è\n",
        "$$ \\text{RMSE} = \\sqrt{\\frac{1}{|V|} \\sum_{r_{u,i}\\in V} (\\hat{r}_{u,i}-r_{u,i})^2} $$\n",
        "- Si può usare per comparare diversi modelli di recommendation sugli stessi dati\n",
        "  - essendo una misura d'errore, i modelli migliori sono quelli con RMSE minore\n",
        "- Similmente al MSE dei modelli di regressione, non è facile interpretare quanto sia \"buona\" senza un riferimento\n",
        "  - si può ad es. comparare a recommendation casuali, che vedremo come estrarre con Surprise"
      ]
    },
    {
      "cell_type": "markdown",
      "metadata": {
        "id": "4WASNHCK6jWW"
      },
      "source": [
        "### Esercizio 4: Calcolo del RMSE\n",
        "\n",
        "- **(4a)** Definire una funzione `RMSE` che, dati dei vettori di voti reali e corrispondenti predizioni, calcoli e restituisca il RMSE\n",
        "- **(4b)** Usando `get_val_predictions`, estrarre i voti predetti sul validation set dalla funzione `predict_from_all`\n",
        "- **(4c)** Calcolare il RMSE di tali predizioni"
      ]
    },
    {
      "cell_type": "code",
      "execution_count": 41,
      "metadata": {
        "id": "PJ9sEgj16jWW"
      },
      "outputs": [],
      "source": [
        "def RMSE(actual, predicted):\n",
        "    return np.sqrt( ((actual-predicted)**2).sum() / actual.shape[0] )"
      ]
    },
    {
      "cell_type": "code",
      "source": [
        "val_pred = get_val_predictions(predict_from_all)"
      ],
      "metadata": {
        "colab": {
          "base_uri": "https://localhost:8080/"
        },
        "id": "y5AFj8FSeptT",
        "outputId": "637f673f-c21f-4cc3-8a29-611e3d7c1a80"
      },
      "execution_count": 42,
      "outputs": [
        {
          "output_type": "stream",
          "name": "stderr",
          "text": [
            "<ipython-input-27-e82a6ea34d9b>:3: RuntimeWarning: invalid value encountered in double_scalars\n",
            "  predicted_vote = (cosim[u, voters] @ R[voters, i]) / cosim[u, voters].sum()\n"
          ]
        }
      ]
    },
    {
      "cell_type": "code",
      "source": [
        "RMSE(val_actual, val_pred)"
      ],
      "metadata": {
        "colab": {
          "base_uri": "https://localhost:8080/"
        },
        "id": "5N1wEBvqfee9",
        "outputId": "782f1b03-2c5e-4ac8-a7d8-8a59adb9e088"
      },
      "execution_count": 43,
      "outputs": [
        {
          "output_type": "execute_result",
          "data": {
            "text/plain": [
              "1.1764549883655138"
            ]
          },
          "metadata": {},
          "execution_count": 43
        }
      ]
    },
    {
      "cell_type": "markdown",
      "metadata": {
        "id": "CNkRYOS26jWX"
      },
      "source": [
        "## Selezione degli utenti simili\n",
        "\n",
        "- Nella versione base, abbiamo predetto ciascun voto sulla base di tutti gli altri utenti che hanno acquistato l'oggetto\n",
        "- Per migliorare l'efficienza e potenzialmente l'accuratezza delle predizioni, possiamo limitarci ad un numero $k$ di utenti, selezionando quelli più simili\n",
        "- Per ogni coppia utente-oggetto $(u,i)$, consideriamo un _vicinato_ $N^k_i(u)$ degli utenti più simili a $u$ che hanno acquistato $i$\n",
        "- La predizione è calcolata come sopra, ma su questo vicinato invece che su tutti gli utenti che hanno acquistato $i$\n",
        "$$ \\hat{r}_{u,i} = \\frac{\\sum_{v \\in N^k_i(u)} \\text{sim}(u, v) \\cdot r_{v,i}}{\\sum_{v \\in N^k_i(u)} \\text{sim}(u, v)} $$\n",
        "- Impostiamo un valore per il parametro $k$, ad esempio:"
      ]
    },
    {
      "cell_type": "code",
      "execution_count": 44,
      "metadata": {
        "id": "Wg8rUPzw6jWX"
      },
      "outputs": [],
      "source": [
        "k = 10"
      ]
    },
    {
      "cell_type": "markdown",
      "metadata": {
        "id": "G3SJj6646jWY"
      },
      "source": [
        "### Esercizio 5: Calcolo predizioni su utenti simili\n",
        "\n",
        "- **(5a)** Completare la definizione della funzione `predict_from_neighbors` in modo che predica un voto $\\hat{r}_{u,i}$ sulla base dei $k$ più simili tra gli utenti che hanno acquistato $i$\n",
        "  - copiare l'implementazione dalla funzione `predict_from_all` dell'esercizio 3\n",
        "  - modificarla in modo da ordinare la lista di indici `voters` per similarità ad $u$ e selezionare i primi $k$\n",
        "- **(5b)** Estrarre con questa funzione i voti predetti sul validation set ed estrarne il RMSE"
      ]
    },
    {
      "cell_type": "code",
      "execution_count": 45,
      "metadata": {
        "id": "HK8ycHEf6jWY"
      },
      "outputs": [],
      "source": [
        "def predict_from_neighbors(u, i):\n",
        "    voters = list(P[:, i].nonzero()[0])\n",
        "    voters.sort(key=lambda x: cosim[u, x], reverse=True)\n",
        "    voters = voters[:k]\n",
        "    predicted_vote = (cosim[u, voters] @ R[voters, i]) / cosim[u, voters].sum()\n",
        "    return predicted_vote if not np.isnan(predicted_vote) else R.mean(where=P)"
      ]
    },
    {
      "cell_type": "code",
      "source": [
        "RMSE(val_actual, get_val_predictions(predict_from_neighbors))"
      ],
      "metadata": {
        "colab": {
          "base_uri": "https://localhost:8080/"
        },
        "id": "Y0N92cBWhQF_",
        "outputId": "10c40801-2e98-4b81-d944-f8b114b0fb9e"
      },
      "execution_count": 46,
      "outputs": [
        {
          "output_type": "stream",
          "name": "stderr",
          "text": [
            "<ipython-input-45-4fd62ffc4afa>:5: RuntimeWarning: invalid value encountered in double_scalars\n",
            "  predicted_vote = (cosim[u, voters] @ R[voters, i]) / cosim[u, voters].sum()\n"
          ]
        },
        {
          "output_type": "execute_result",
          "data": {
            "text/plain": [
              "1.17679042122965"
            ]
          },
          "metadata": {},
          "execution_count": 46
        }
      ]
    },
    {
      "cell_type": "markdown",
      "metadata": {
        "id": "dDgIkiYt6jWY"
      },
      "source": [
        "## Surprise\n",
        "\n",
        "- _Surprise_ è una libreria Python per la creazione e la validazione di modelli di recommendation\n",
        "  - definisce strutture per rappresentare i dati su cui addestrare i modelli\n",
        "  - permette di caricare dati da diverse fonti o di utilizzare dataset d'esempio\n",
        "  - implementa diverse tecniche basate su similarità, scomposizione di matrici, ...\n",
        "  - fornisce funzionalità per validare i modelli calcolando comuni metriche di accuratezza come il RMSE"
      ]
    },
    {
      "cell_type": "markdown",
      "metadata": {
        "id": "T8Ue4jKH6jWZ"
      },
      "source": [
        "## Dataset\n",
        "\n",
        "- Un oggetto `Dataset` consiste in un insieme di voti conosciuti dati da degli utenti a degli oggetti\n",
        "- Utenti e oggetti in un `Dataset` sono rappresentati con identificatori arbitrari scelti dall'utente, spesso numeri o stringhe\n",
        "  - questi sono chiamati identificatori _raw_ in Surprise\n",
        "- Un `Dataset` può essere ottenuto da un file CSV o da un DataFrame pandas (a sua volta ottenibile da diverse fonti)\n",
        "  - Surprise permette inoltre di caricare diversi dataset d'esempio di uso comune, scaricati _on demand_ dal Web"
      ]
    },
    {
      "cell_type": "markdown",
      "metadata": {
        "id": "NLCLgA0o6jWZ"
      },
      "source": [
        "### Caricamento Dataset da CSV\n",
        "\n",
        "- Per caricare dati da file CSV, dobbiamo prima creare un oggetto `Reader` che indichi le caratteristiche dei file\n",
        "  - con `sep` indichiamo il separatore di campo usato nei CSV\n",
        "  - con `rating_scale` indichiamo la scala di voti adottata, in forma di tupla con valori minimo e massimo"
      ]
    },
    {
      "cell_type": "code",
      "execution_count": 47,
      "metadata": {
        "id": "80yeOzU06jWZ"
      },
      "outputs": [],
      "source": [
        "from surprise import Reader\n",
        "csv_reader = Reader(sep=\",\", rating_scale=(1, 5))"
      ]
    },
    {
      "cell_type": "markdown",
      "metadata": {
        "id": "DN7Se1cm6jWa"
      },
      "source": [
        "- Usiamo quindi la funzione `load_from_file` per caricare i due dataset, indicando i nomi dei file e il `Reader` da usare"
      ]
    },
    {
      "cell_type": "code",
      "execution_count": 48,
      "metadata": {
        "id": "jY8KXJIZ6jWa"
      },
      "outputs": [],
      "source": [
        "from surprise import Dataset\n",
        "train_dataset = Dataset.load_from_file(\"amazon_train.csv\", csv_reader)\n",
        "val_dataset = Dataset.load_from_file(\"amazon_val.csv\", csv_reader)"
      ]
    },
    {
      "cell_type": "markdown",
      "metadata": {
        "id": "QH_VE45U6jWa"
      },
      "source": [
        "## Trainset\n",
        "\n",
        "- Un `Trainset` contiene le stesse informazioni di un `Dataset` in forma ottimizzata per l'utilizzo da parte degli algoritmi d'apprendimento\n",
        "- $M$ utenti ed $N$ oggetti distinti sono identificati in un `Trainset` da identificatori interni (_inner_), ovvero numeri sequenziali da 0 a $M-1$ e da 0 a $N-1$\n",
        "  - il `Trainset` tiene comunque traccia delle corrispondenze tra ID raw e inner\n",
        "- Per creare un `Trainset` con tutti i voti contenuti in un `Dataset`, usare il metodo `build_full_trainset` di quest'ultimo"
      ]
    },
    {
      "cell_type": "code",
      "execution_count": 49,
      "metadata": {
        "id": "BVy_-AZ76jWa"
      },
      "outputs": [],
      "source": [
        "trainset = train_dataset.build_full_trainset()"
      ]
    },
    {
      "cell_type": "markdown",
      "metadata": {
        "id": "h3jYjNHW6jWb"
      },
      "source": [
        "### Estrarre Informazioni da un Trainset\n",
        "\n",
        "- Da un `Trainset` abbiamo accesso rapido ad informazioni quali il numero di utenti distinti, oggetti distinti e voti complessivi"
      ]
    },
    {
      "cell_type": "code",
      "execution_count": 50,
      "metadata": {
        "id": "Hx64Sl6k6jWb",
        "outputId": "592dd74b-1f85-41e9-d13b-050f52938228",
        "colab": {
          "base_uri": "https://localhost:8080/"
        }
      },
      "outputs": [
        {
          "output_type": "execute_result",
          "data": {
            "text/plain": [
              "(178, 3384, 9683)"
            ]
          },
          "metadata": {},
          "execution_count": 50
        }
      ],
      "source": [
        "trainset.n_users, trainset.n_items, trainset.n_ratings"
      ]
    },
    {
      "cell_type": "markdown",
      "metadata": {
        "id": "qREVa1Qo6jWb"
      },
      "source": [
        "- Possiamo consultare l'elenco dei voti noti di un qualsiasi utente od oggetto dai dizionari `ur` e `ir`\n",
        "  - vanno usati gli ID seriali interni dal `Trainset`"
      ]
    },
    {
      "cell_type": "code",
      "execution_count": 51,
      "metadata": {
        "id": "fFnp2Lse6jWc",
        "outputId": "a7e4dd41-d9df-45a5-a38c-8f9443268707",
        "colab": {
          "base_uri": "https://localhost:8080/"
        }
      },
      "outputs": [
        {
          "output_type": "execute_result",
          "data": {
            "text/plain": [
              "[(0, 2.0), (1, 3.0), (69, 3.0)]"
            ]
          },
          "metadata": {},
          "execution_count": 51
        }
      ],
      "source": [
        "# es.: 3 voti dati dall'utente 0\n",
        "trainset.ur[0][:3]\n",
        "# ogni tupla: (ID oggetto, voto)"
      ]
    },
    {
      "cell_type": "markdown",
      "metadata": {
        "id": "JiB_UynD6jWc"
      },
      "source": [
        "- Possiamo vedere la media globale di tutti i voti dati"
      ]
    },
    {
      "cell_type": "code",
      "execution_count": 52,
      "metadata": {
        "id": "TlVSlwBH6jWc",
        "outputId": "b68dad38-11cc-4d2c-e368-0d7c6363eedb",
        "colab": {
          "base_uri": "https://localhost:8080/"
        }
      },
      "outputs": [
        {
          "output_type": "execute_result",
          "data": {
            "text/plain": [
              "3.931219663327481"
            ]
          },
          "metadata": {},
          "execution_count": 52
        }
      ],
      "source": [
        "trainset.global_mean"
      ]
    },
    {
      "cell_type": "markdown",
      "metadata": {
        "id": "ibyAE4N26jWd"
      },
      "source": [
        "## Addestramento di un modello user-based\n",
        "\n",
        "- In Surprise possiamo addestrare modelli di recommendation, in modo simile ai modelli di regressione in scikit-learn\n",
        "  - un modello viene creato, specificandone eventuali iperparametri\n",
        "  - il modello viene addestrato sui dati del training set\n",
        "  - il modello può essere usato per estrarre predizioni o validato su un validation set\n",
        "- La recommendation user-based è implementata nella classe `KNNBasic`\n",
        "  - con `k` specifichiamo il numero di utenti simili da considerare\n",
        "  - con un dizionario `sim_options` impostiamo la misura di similarità\n",
        "- Creiamo ad esempio un modello come il primo creato sopra, che usi la similarità coseno e consideri sempre tutti gli utenti per ogni predizione\n",
        "  - per non limitare gli utenti, poniamo `k` uguale al numero totale di utenti"
      ]
    },
    {
      "cell_type": "code",
      "execution_count": 53,
      "metadata": {
        "id": "8dhGGdaT6jWd"
      },
      "outputs": [],
      "source": [
        "from surprise import KNNBasic\n",
        "ubr = KNNBasic(k=trainset.n_users, sim_options={\"name\": \"cosine\"})"
      ]
    },
    {
      "cell_type": "markdown",
      "metadata": {
        "id": "9Fp48jVq6jWd"
      },
      "source": [
        "- Per eseguire l'addestramento del modello, chiamarne il metodo `fit` passando il `Trainset` da utilizzare"
      ]
    },
    {
      "cell_type": "code",
      "execution_count": 54,
      "metadata": {
        "id": "RVmSynmX6jWe",
        "outputId": "1214710a-0458-4438-a4b0-81947971ba45",
        "colab": {
          "base_uri": "https://localhost:8080/"
        }
      },
      "outputs": [
        {
          "output_type": "stream",
          "name": "stdout",
          "text": [
            "Computing the cosine similarity matrix...\n",
            "Done computing similarity matrix.\n"
          ]
        },
        {
          "output_type": "execute_result",
          "data": {
            "text/plain": [
              "<surprise.prediction_algorithms.knns.KNNBasic at 0x7eff0e861820>"
            ]
          },
          "metadata": {},
          "execution_count": 54
        }
      ],
      "source": [
        "ubr.fit(trainset)"
      ]
    },
    {
      "cell_type": "markdown",
      "metadata": {
        "id": "5pnT068T6jWe"
      },
      "source": [
        "- Con l'addestramento viene costruita la matrice delle similarità coseno, accessibile dall'attributo `sim`\n",
        "  - questa può non essere identica alla matrice `cosim` estratta sopra manualmente, per via degli utenti ordinati diversamente"
      ]
    },
    {
      "cell_type": "code",
      "execution_count": null,
      "metadata": {
        "id": "aQ_3irGA6jWe",
        "outputId": "dfeb74e9-5337-4bea-cc03-cad504dc3feb"
      },
      "outputs": [
        {
          "data": {
            "text/plain": [
              "array([[1.        , 0.94299033, 1.        , 0.94255773],\n",
              "       [0.94299033, 1.        , 1.        , 0.98      ],\n",
              "       [1.        , 1.        , 1.        , 0.97646729],\n",
              "       [0.94255773, 0.98      , 0.97646729, 1.        ]])"
            ]
          },
          "execution_count": 76,
          "metadata": {},
          "output_type": "execute_result"
        }
      ],
      "source": [
        "ubr.sim[:4, :4]"
      ]
    },
    {
      "cell_type": "markdown",
      "metadata": {
        "id": "8MbggQKf6jWf"
      },
      "source": [
        "## Utilizzare un modello\n",
        "\n",
        "- Una volta addestrato, il modello può prevedere il rating che un utente darebbe ad un oggetto dati i rispettivi ID \"raw\", cioè quelli usati nel `Dataset` originale\n",
        "- Ad esempio, estraiamo i nomi dell'utente e dell'oggetto che avevano indice 0 nella prima parte"
      ]
    },
    {
      "cell_type": "code",
      "execution_count": 55,
      "metadata": {
        "id": "39Y296U_6jWf"
      },
      "outputs": [],
      "source": [
        "user0 = train_ratings.index[0]\n",
        "item0 = train_ratings.columns[0]"
      ]
    },
    {
      "cell_type": "markdown",
      "metadata": {
        "id": "08lt7FMf6jWf"
      },
      "source": [
        "- Passiamo i nomi al metodo `predict` per ottenere la predizione da parte del modello surprise"
      ]
    },
    {
      "cell_type": "code",
      "execution_count": 56,
      "metadata": {
        "id": "QlPOg2Ih6jWg"
      },
      "outputs": [],
      "source": [
        "pred = ubr.predict(user0, item0)"
      ]
    },
    {
      "cell_type": "markdown",
      "metadata": {
        "id": "nBOjy59C6jWg"
      },
      "source": [
        "- Otteniamo un oggetto `Prediction` i cui attributi riepilogano la richiesta (`uid` e `iid`) e forniscono i dati della predizione"
      ]
    },
    {
      "cell_type": "code",
      "execution_count": 57,
      "metadata": {
        "id": "hP3Ou4sF6jWg",
        "outputId": "eaf0cf52-e0a2-4c6d-9636-2781c99d8ee5",
        "colab": {
          "base_uri": "https://localhost:8080/"
        }
      },
      "outputs": [
        {
          "output_type": "execute_result",
          "data": {
            "text/plain": [
              "Prediction(uid='[1001561] D. Wetzel', iid='[100004] High School Confidential [VHS]', r_ui=None, est=5, details={'actual_k': 1, 'was_impossible': False})"
            ]
          },
          "metadata": {},
          "execution_count": 57
        }
      ],
      "source": [
        "pred"
      ]
    },
    {
      "cell_type": "markdown",
      "metadata": {
        "id": "fucbtRPD6jWh"
      },
      "source": [
        "- Il voto predetto è dato dall'attributo `est`, in questo caso 5 stelle\n",
        "- I `details` indicano informazioni aggiuntive, in questo caso che il voto è stato predetto sulla base di quello dato da 1 solo utente simile\n",
        "- `r_ui` è il voto reale (in questo caso non c'è, ma lo vedremo a breve)\n",
        "- Possiamo accedere a tutti i dati come attributi dell'oggetto, ad es.:"
      ]
    },
    {
      "cell_type": "code",
      "execution_count": null,
      "metadata": {
        "id": "tYhFZ1cR6jWh",
        "outputId": "9ee68844-034c-4020-cf36-46ba0cb49948"
      },
      "outputs": [
        {
          "data": {
            "text/plain": [
              "5"
            ]
          },
          "execution_count": 80,
          "metadata": {},
          "output_type": "execute_result"
        }
      ],
      "source": [
        "pred.est"
      ]
    },
    {
      "cell_type": "markdown",
      "metadata": {
        "id": "VhKJ4OdT6jWh"
      },
      "source": [
        "- Possiamo verificare che questa predizione è la stessa fatta dal modello costruito manualmente sopra"
      ]
    },
    {
      "cell_type": "code",
      "execution_count": null,
      "metadata": {
        "id": "-mWzahyt6jWi",
        "outputId": "ed3dc318-3bf5-4d04-ecc1-5f38fe7575fd"
      },
      "outputs": [
        {
          "data": {
            "text/plain": [
              "5.0"
            ]
          },
          "execution_count": 81,
          "metadata": {},
          "output_type": "execute_result"
        }
      ],
      "source": [
        "predict_from_all(0, 0)"
      ]
    },
    {
      "cell_type": "markdown",
      "metadata": {
        "id": "bgh9L6-h6jWi"
      },
      "source": [
        "## Validare un modello\n",
        "\n",
        "- Per eseguire la validazione del modello in surprise dobbiamo\n",
        "  - costruire un validation set in forma di una lista di tuple `(utente, oggetto, voto)`\n",
        "  - fornire questa lista al modello da validare per ottenere una lista di `Prediction` corrispondenti\n",
        "  - calcolare una metrica di accuratezza (es. RMSE) su tale lista\n",
        "- Per ottenere un validation set nella forma corretta, possiamo usare il metodo `build_testset`:"
      ]
    },
    {
      "cell_type": "code",
      "execution_count": 58,
      "metadata": {
        "id": "shJPGWrH6jWi"
      },
      "outputs": [],
      "source": [
        "valset = val_dataset.build_full_trainset().build_testset()"
      ]
    },
    {
      "cell_type": "code",
      "execution_count": 59,
      "metadata": {
        "id": "P2yfQfe46jWj",
        "outputId": "8b0ee85f-4a73-4183-b68a-3f1534c13123",
        "colab": {
          "base_uri": "https://localhost:8080/"
        }
      },
      "outputs": [
        {
          "output_type": "execute_result",
          "data": {
            "text/plain": [
              "[('[1092996] Reviewer', '[4742] Nights of Cabiria [VHS]', 5.0),\n",
              " ('[1092996] Reviewer', '[50377] The Quiet Man [VHS]', 5.0),\n",
              " ('[1092996] Reviewer', '[51373] Home Alone 2 - Lost in New York [VHS]', 3.0)]"
            ]
          },
          "metadata": {},
          "execution_count": 59
        }
      ],
      "source": [
        "valset[:3]"
      ]
    },
    {
      "cell_type": "markdown",
      "metadata": {
        "id": "ABiOzDcx6jWj"
      },
      "source": [
        "- Tale lista va passata al metodo `test` del modello addestrato"
      ]
    },
    {
      "cell_type": "code",
      "execution_count": 60,
      "metadata": {
        "id": "P_LuI4GQ6jWj"
      },
      "outputs": [],
      "source": [
        "preds = ubr.test(valset)"
      ]
    },
    {
      "cell_type": "markdown",
      "metadata": {
        "id": "_i2x8yMr6jWj"
      },
      "source": [
        "- Otteniamo una lista di oggetti `Prediction`"
      ]
    },
    {
      "cell_type": "code",
      "execution_count": null,
      "metadata": {
        "id": "8j0C9doo6jWk",
        "outputId": "548a7c32-91a6-4542-f876-d2d3e44f7654"
      },
      "outputs": [
        {
          "data": {
            "text/plain": [
              "[Prediction(uid='[1092996] Reviewer', iid='[4742] Nights of Cabiria [VHS]', r_ui=5.0, est=5, details={'actual_k': 4, 'was_impossible': False}),\n",
              " Prediction(uid='[1092996] Reviewer', iid='[50377] The Quiet Man [VHS]', r_ui=5.0, est=4.241931710095136, details={'actual_k': 4, 'was_impossible': False}),\n",
              " Prediction(uid='[1092996] Reviewer', iid='[51373] Home Alone 2 - Lost in New York [VHS]', r_ui=3.0, est=3.0, details={'actual_k': 1, 'was_impossible': False})]"
            ]
          },
          "execution_count": 85,
          "metadata": {},
          "output_type": "execute_result"
        }
      ],
      "source": [
        "preds[:3]"
      ]
    },
    {
      "cell_type": "markdown",
      "metadata": {
        "id": "iuQGsUg96jWk"
      },
      "source": [
        "- In ciascun oggetto troviamo rispettivamente in `r_ui` e in `est` i voti reali e predetti"
      ]
    },
    {
      "cell_type": "markdown",
      "metadata": {
        "id": "_rp0X8Kp6jWk"
      },
      "source": [
        "- Possiamo quindi passare questa lista ad una funzione per il calcolo di una metrica di accuratezza\n",
        "- Calcoliamo ad esempio il RMSE come abbiamo fatto sopra, verificando che combaci"
      ]
    },
    {
      "cell_type": "code",
      "execution_count": 61,
      "metadata": {
        "id": "NtU8v2V26jWk",
        "outputId": "a60f9b2e-278d-43b6-c8ec-079fb6b56621",
        "colab": {
          "base_uri": "https://localhost:8080/"
        }
      },
      "outputs": [
        {
          "output_type": "stream",
          "name": "stdout",
          "text": [
            "RMSE: 1.1765\n"
          ]
        },
        {
          "output_type": "execute_result",
          "data": {
            "text/plain": [
              "1.1764549883655138"
            ]
          },
          "metadata": {},
          "execution_count": 61
        }
      ],
      "source": [
        "from surprise.accuracy import rmse\n",
        "rmse(preds)"
      ]
    },
    {
      "cell_type": "markdown",
      "metadata": {
        "id": "W4F7TbLG6jWl"
      },
      "source": [
        "- Un'altra metrica che può essere calcolata è il MAE (_mean absolute error_), la media degli errori in valore assoluto"
      ]
    },
    {
      "cell_type": "code",
      "execution_count": 62,
      "metadata": {
        "id": "rUPgaKrH6jWl",
        "outputId": "bf0761d6-2f9a-4919-e7c5-1045af78263e",
        "colab": {
          "base_uri": "https://localhost:8080/"
        }
      },
      "outputs": [
        {
          "output_type": "stream",
          "name": "stdout",
          "text": [
            "MAE:  0.8526\n"
          ]
        },
        {
          "output_type": "execute_result",
          "data": {
            "text/plain": [
              "0.8525568703741262"
            ]
          },
          "metadata": {},
          "execution_count": 62
        }
      ],
      "source": [
        "from surprise.accuracy import mae\n",
        "mae(preds)"
      ]
    },
    {
      "cell_type": "markdown",
      "metadata": {
        "id": "nVbCHlQL6jWl"
      },
      "source": [
        "### Esercizio 6: Modello user-based con vicinato\n",
        "\n",
        "- **(6a)** Addestrare sul training set un modello di recommendation user-based basato su similarità coseno e vicinato di 10 utenti, come quello costruito manualmente nella prima parte\n",
        "- **(6b)** Calcolare sul validation set il RMSE e il MAE di tale modello\n",
        "  - potrebbe risultare lievemente diverso da quello calcolato in precedenza per via di diversi utenti vicini selezionati nei casi di pari similarità"
      ]
    },
    {
      "cell_type": "code",
      "source": [
        "mdl = KNNBasic(k=10, sim_options={\"name\": \"cosine\"})\n",
        "mdl.fit(trainset)"
      ],
      "metadata": {
        "colab": {
          "base_uri": "https://localhost:8080/"
        },
        "id": "Dcv-lBHXGN2Q",
        "outputId": "e5cdaf33-945d-48db-ec99-33697f8d28e7"
      },
      "execution_count": 65,
      "outputs": [
        {
          "output_type": "stream",
          "name": "stdout",
          "text": [
            "Computing the cosine similarity matrix...\n",
            "Done computing similarity matrix.\n"
          ]
        },
        {
          "output_type": "execute_result",
          "data": {
            "text/plain": [
              "<surprise.prediction_algorithms.knns.KNNBasic at 0x7efed06e1c10>"
            ]
          },
          "metadata": {},
          "execution_count": 65
        }
      ]
    },
    {
      "cell_type": "code",
      "source": [
        "preds = mdl.test(valset)\n",
        "rmse(preds)\n",
        "mae(preds)"
      ],
      "metadata": {
        "colab": {
          "base_uri": "https://localhost:8080/"
        },
        "id": "2BK9I4G0GjdJ",
        "outputId": "37d1f618-b060-4ca1-90ba-7952708067be"
      },
      "execution_count": 66,
      "outputs": [
        {
          "output_type": "stream",
          "name": "stdout",
          "text": [
            "RMSE: 1.1770\n",
            "MAE:  0.8525\n"
          ]
        },
        {
          "output_type": "execute_result",
          "data": {
            "text/plain": [
              "0.8525394518396882"
            ]
          },
          "metadata": {},
          "execution_count": 66
        }
      ]
    },
    {
      "cell_type": "markdown",
      "metadata": {
        "id": "rgdjbU_06jWl"
      },
      "source": [
        "## Varianti sul modello user-based\n",
        "\n",
        "- Nel modello user-based è possibile utilizzare altre misure di similarità diverse dal coseno\n",
        "- Una scelta comune è la _correlazione di Pearson_\n",
        "  - in pratica consiste nella similarità coseno misurata non sui voti ma sul loro scarto rispetto alla media\n",
        "  - questo bilancia le tendenze di voto diverse degli utenti, equiparando ad es. le 3 stelle di un utente alle 2 di uno più \"severo\"\n",
        "- Per utilizzarla, specifichiamola in `sim_options` al posto del coseno"
      ]
    },
    {
      "cell_type": "code",
      "execution_count": null,
      "metadata": {
        "id": "kISkKNcR6jWm"
      },
      "outputs": [],
      "source": [
        "ubr = KNNBasic(k=10, sim_options={\"name\": \"pearson\"})"
      ]
    },
    {
      "cell_type": "markdown",
      "metadata": {
        "id": "ElWNa3kw6jWm"
      },
      "source": [
        "- Possiamo quindi addestrare e validare il modello come prima"
      ]
    },
    {
      "cell_type": "code",
      "execution_count": null,
      "metadata": {
        "id": "DAWJUWcj6jWm",
        "outputId": "51787100-632c-469f-c2dc-61d722d3f5d0"
      },
      "outputs": [
        {
          "name": "stdout",
          "output_type": "stream",
          "text": [
            "Computing the pearson similarity matrix...\n",
            "Done computing similarity matrix.\n"
          ]
        },
        {
          "data": {
            "text/plain": [
              "<surprise.prediction_algorithms.knns.KNNBasic at 0x7ff6208e6d90>"
            ]
          },
          "execution_count": 94,
          "metadata": {},
          "output_type": "execute_result"
        }
      ],
      "source": [
        "ubr.fit(trainset)"
      ]
    },
    {
      "cell_type": "code",
      "execution_count": null,
      "metadata": {
        "id": "QQesbSwS6jWm",
        "outputId": "5ea1ff24-206b-41b7-c0d6-45a49e4352d8"
      },
      "outputs": [
        {
          "name": "stdout",
          "output_type": "stream",
          "text": [
            "RMSE: 1.1833\n",
            "MAE:  0.8782\n"
          ]
        },
        {
          "data": {
            "text/plain": [
              "(1.1833093002514359, 0.8782414100948562)"
            ]
          },
          "execution_count": 95,
          "metadata": {},
          "output_type": "execute_result"
        }
      ],
      "source": [
        "preds = ubr.test(valset)\n",
        "rmse(preds), mae(preds)"
      ]
    },
    {
      "cell_type": "markdown",
      "metadata": {
        "id": "PytQ3SU76jWn"
      },
      "source": [
        "- In questo caso l'uso della correlazione di Pearson non ha migliorato il risultato"
      ]
    },
    {
      "cell_type": "markdown",
      "metadata": {
        "id": "-5tK4b7o6jWn"
      },
      "source": [
        "- Un altro modo per tenere conto delle differenze di voto medio tra gli utenti è riconsiderare il modo in cui è stimato il voto\n",
        "- Invece di stimare direttamente il voto di $u$ come media di altri voti, possiamo stimare lo _scostamento dalla media_ del voto di $u$ come media degli scostamenti dalle rispettive medie di altri utenti\n",
        "$$ \\hat{r}_{u,i} = \\bar{r_u}+\\frac{\\sum_{v:P_{v,i}=1} \\text{sim}(u, v) \\cdot (r_{v,i}-\\bar{r_v})}{\\sum_{v:P_{v,i}=1} \\text{sim}(u, v)} $$\n",
        "- Questo principio viene applicato nella classe `KNNWithMeans`, che per il resto è identica a `KNNBasic` e accetta le stesse opzioni"
      ]
    },
    {
      "cell_type": "code",
      "execution_count": 67,
      "metadata": {
        "id": "wJZFfHBx6jWn"
      },
      "outputs": [],
      "source": [
        "from surprise import KNNWithMeans\n",
        "ubr = KNNWithMeans(k=10, sim_options={\"name\": \"cosine\"})"
      ]
    },
    {
      "cell_type": "markdown",
      "metadata": {
        "id": "iFwn6ut-6jWn"
      },
      "source": [
        "- Addestriamo e validiamo il modello come al solito"
      ]
    },
    {
      "cell_type": "code",
      "execution_count": 68,
      "metadata": {
        "id": "ZRt5DMN16jWo",
        "outputId": "bb9b8207-979c-41bb-edf2-4eb638b0f1b3",
        "colab": {
          "base_uri": "https://localhost:8080/"
        }
      },
      "outputs": [
        {
          "output_type": "stream",
          "name": "stdout",
          "text": [
            "Computing the cosine similarity matrix...\n",
            "Done computing similarity matrix.\n"
          ]
        },
        {
          "output_type": "execute_result",
          "data": {
            "text/plain": [
              "<surprise.prediction_algorithms.knns.KNNWithMeans at 0x7efed06e1430>"
            ]
          },
          "metadata": {},
          "execution_count": 68
        }
      ],
      "source": [
        "ubr.fit(trainset)"
      ]
    },
    {
      "cell_type": "code",
      "execution_count": 69,
      "metadata": {
        "id": "V8p_2JrU6jWo",
        "outputId": "428227a5-3d7b-4247-eff0-6144009389ec",
        "colab": {
          "base_uri": "https://localhost:8080/"
        }
      },
      "outputs": [
        {
          "output_type": "stream",
          "name": "stdout",
          "text": [
            "RMSE: 1.0494\n",
            "MAE:  0.7699\n"
          ]
        },
        {
          "output_type": "execute_result",
          "data": {
            "text/plain": [
              "(1.049420754780564, 0.7698569855396796)"
            ]
          },
          "metadata": {},
          "execution_count": 69
        }
      ],
      "source": [
        "preds = ubr.test(valset)\n",
        "rmse(preds), mae(preds)"
      ]
    },
    {
      "cell_type": "markdown",
      "metadata": {
        "id": "r9HLmzQL6jWo"
      },
      "source": [
        "- Otteniamo un RMSE migliore"
      ]
    },
    {
      "cell_type": "markdown",
      "metadata": {
        "id": "_Inml8AO6jWo"
      },
      "source": [
        "## Collaborative filtering item-based\n",
        "\n",
        "- La classe `KNNBasic` può essere usata anche per eseguire recommendation item-based, metodo duale allo user-based\n",
        "- Il voto $\\hat{r}_{ui}$ previsto per un oggetto $i$ da parte di un utente $u$ è dato dalla media pesata dei voti dati da $u$ ai $k$ oggetti più simili ad $i$, rappresentati in un insieme $N_u^k(i)$\n",
        "$$ \\hat{r}_{ui} = \\frac{\\sum\\limits_{j \\in N^k_u(i)} \\text{sim}(i, j) \\cdot r_{uj}}{\\sum\\limits_{j \\in N^k_u(j)} \\text{sim}(i, j)} $$\n",
        "- La similarità $\\text{sim}(i,j)$ tra due oggetti $i$ e $j$ è misurata dai voti ricevuti da utenti che hanno recensito entrambi\n",
        "- Per eseguire item-based recommendation al posto di user-based, impostiamo `user_based=False` nelle opzioni della misura di similarità:"
      ]
    },
    {
      "cell_type": "code",
      "execution_count": 77,
      "metadata": {
        "id": "1nzYAgrP6jWp"
      },
      "outputs": [],
      "source": [
        "ibr = KNNBasic(k=10, sim_options={\"name\": \"cosine\", \"user_based\": False})"
      ]
    },
    {
      "cell_type": "markdown",
      "metadata": {
        "id": "0CisxUca6jWp"
      },
      "source": [
        "- Possiamo quindi addestrare e validare il modello come prima"
      ]
    },
    {
      "cell_type": "code",
      "execution_count": 78,
      "metadata": {
        "id": "n9Zp6q3u6jWp",
        "outputId": "8f069daa-b2c9-4275-9f98-36f7791ccd86",
        "colab": {
          "base_uri": "https://localhost:8080/"
        }
      },
      "outputs": [
        {
          "output_type": "stream",
          "name": "stdout",
          "text": [
            "Computing the cosine similarity matrix...\n",
            "Done computing similarity matrix.\n"
          ]
        },
        {
          "output_type": "execute_result",
          "data": {
            "text/plain": [
              "<surprise.prediction_algorithms.knns.KNNBasic at 0x7eff0e62ef10>"
            ]
          },
          "metadata": {},
          "execution_count": 78
        }
      ],
      "source": [
        "ibr.fit(trainset)"
      ]
    },
    {
      "cell_type": "code",
      "execution_count": 79,
      "metadata": {
        "id": "Wsuy5xHX6jWp",
        "outputId": "8f0ff647-7a74-4550-bce7-cea8adb8c10b",
        "colab": {
          "base_uri": "https://localhost:8080/"
        }
      },
      "outputs": [
        {
          "output_type": "stream",
          "name": "stdout",
          "text": [
            "RMSE: 1.1381\n",
            "MAE:  0.8494\n"
          ]
        },
        {
          "output_type": "execute_result",
          "data": {
            "text/plain": [
              "(1.1381231208660862, 0.849433685290423)"
            ]
          },
          "metadata": {},
          "execution_count": 79
        }
      ],
      "source": [
        "preds = ibr.test(valset)\n",
        "rmse(preds), mae(preds)"
      ]
    },
    {
      "cell_type": "markdown",
      "metadata": {
        "id": "b1ZLSqeZ6jWq"
      },
      "source": [
        "## Collaborative filtering con fattorizzazione di matrici\n",
        "\n",
        "I metodi basati su fattorizzazione o scomposizione di matrici funzionano rappresentando utenti ed oggetti come combinazione di fattori\n",
        "- i fattori sono ricavati statisticamente dai dati e corrispondono a grandi linee a categorie di oggetti (es. per i film: azione, commedia, ...)\n",
        "- ciascun oggetto è rappresentato da un vettore col peso di ciascun fattore su di esso (es. quanto un film è d'azione)\n",
        "- il vettore di ciascun utente indica l'affinità a ciascun fattore (es. quanto gli piacciono i film d'azione)\n",
        "- il voto stimato è quindi proporzionale alla similarità tra il vettore dell'utente e quello del prodotto"
      ]
    },
    {
      "cell_type": "markdown",
      "metadata": {
        "id": "UBrH4IBl6jWq"
      },
      "source": [
        "- Il modello più semplice con fattorizzazione di matrici è `SVD` (_singular value decomposition_)\n",
        "  - l'addestramento avviene internamente tramite una discesa gradiente _stocastica_, ovvero in cui i gradienti sono calcolati per efficienza su campioni casuali di dati\n",
        "  - il parametro principale è il numero di fattori da individuare `n_factors`\n",
        "  - con `n_epochs` si può invece controllare il numero di iterazioni di discesa gradiente\n",
        "  - con `random_state` si può fornire un seed per la componente stocastica (necessario per la riproducibilità)"
      ]
    },
    {
      "cell_type": "code",
      "execution_count": 74,
      "metadata": {
        "id": "Q3W8q_6F6jWq"
      },
      "outputs": [],
      "source": [
        "from surprise import SVD\n",
        "fbr = SVD(n_factors=10, random_state=42)"
      ]
    },
    {
      "cell_type": "code",
      "execution_count": 75,
      "metadata": {
        "id": "Xtj83f0E6jWq",
        "outputId": "c2399f81-e5f5-4b48-cb9c-66e65eaf0052",
        "colab": {
          "base_uri": "https://localhost:8080/"
        }
      },
      "outputs": [
        {
          "output_type": "execute_result",
          "data": {
            "text/plain": [
              "<surprise.prediction_algorithms.matrix_factorization.SVD at 0x7eff0e68ae20>"
            ]
          },
          "metadata": {},
          "execution_count": 75
        }
      ],
      "source": [
        "fbr.fit(trainset)"
      ]
    },
    {
      "cell_type": "code",
      "execution_count": 76,
      "metadata": {
        "id": "fktZadoU6jWr",
        "outputId": "c4ad1a1c-000c-460a-f18a-bdce35603661",
        "colab": {
          "base_uri": "https://localhost:8080/"
        }
      },
      "outputs": [
        {
          "output_type": "stream",
          "name": "stdout",
          "text": [
            "RMSE: 0.9565\n",
            "MAE:  0.7446\n"
          ]
        },
        {
          "output_type": "execute_result",
          "data": {
            "text/plain": [
              "(0.9565151460041259, 0.7445630800807548)"
            ]
          },
          "metadata": {},
          "execution_count": 76
        }
      ],
      "source": [
        "preds = fbr.test(valset)\n",
        "rmse(preds), mae(preds)"
      ]
    },
    {
      "cell_type": "markdown",
      "metadata": {
        "id": "sYb3Vu8b6jWr"
      },
      "source": [
        "- Il modello SVD fornisce risultati migliori di quelli sopra"
      ]
    },
    {
      "cell_type": "markdown",
      "metadata": {
        "id": "SMkzVJv56jWr"
      },
      "source": [
        "## Recommendation casuale\n",
        "\n",
        "- Surprise offre anche un recommender `NormalPredictor` che prevede voti casuali, utilizzabile come baseline nella valutazione degli altri metodi\n",
        "  - i voti predetti hanno una distribuzione normale con media e varianza calcolate dal training set"
      ]
    },
    {
      "cell_type": "code",
      "execution_count": 72,
      "metadata": {
        "id": "4o0uJzIV6jWr",
        "outputId": "fdb9aad4-98f9-4539-f62e-8144e849f377",
        "colab": {
          "base_uri": "https://localhost:8080/"
        }
      },
      "outputs": [
        {
          "output_type": "execute_result",
          "data": {
            "text/plain": [
              "<surprise.prediction_algorithms.random_pred.NormalPredictor at 0x7eff0e68adf0>"
            ]
          },
          "metadata": {},
          "execution_count": 72
        }
      ],
      "source": [
        "from surprise import NormalPredictor\n",
        "rr = NormalPredictor()\n",
        "rr.fit(trainset)"
      ]
    },
    {
      "cell_type": "code",
      "execution_count": 73,
      "metadata": {
        "id": "BvojUUS26jWs",
        "outputId": "96d814e1-0ca4-4df4-d1e3-f7678c367e2e",
        "colab": {
          "base_uri": "https://localhost:8080/"
        }
      },
      "outputs": [
        {
          "output_type": "stream",
          "name": "stdout",
          "text": [
            "RMSE: 1.5218\n",
            "MAE:  1.1891\n"
          ]
        },
        {
          "output_type": "execute_result",
          "data": {
            "text/plain": [
              "(1.5218202092809758, 1.18910963487458)"
            ]
          },
          "metadata": {},
          "execution_count": 73
        }
      ],
      "source": [
        "preds = rr.test(valset)\n",
        "rmse(preds), mae(preds)"
      ]
    },
    {
      "cell_type": "markdown",
      "metadata": {
        "id": "mDmSrysj6jWs"
      },
      "source": [
        "- Estraendo i voti a caso ad ogni chiamata, la valutazione eseguita più volte dà risultati diversi\n",
        "  - per impostare un seed prima dell'addestramento: `np.random.seed(123)`\n",
        "- Ovviamente questo metodo è molto veloce ma ha un RMSE molto più alto"
      ]
    },
    {
      "cell_type": "markdown",
      "metadata": {
        "id": "Ok4Om_Ow6jWs"
      },
      "source": [
        "## Cross validation k-fold\n",
        "\n",
        "- Per eseguire la validazione dei modelli provati, abbiamo fin quì usato il metodo _hold-out_, cioè la divisione tra un training e un validation set predefiniti\n",
        "- Come visto nei modelli di regressione, possiamo ottenere una validazione più accurata con la cross validation a _k_ fold\n",
        "  - il dataset è suddiviso casualmente in _k_ gruppi, ciascuno è usato come validation set di un modello addestrato su tutti gli altri\n",
        "- Surprise fornisce funzionalità per la cross validation con un API molto simile a quella di scikit-learn\n",
        "- Per definire come suddividere il dataset, creiamo un oggetto `KFold`\n",
        "  - specifichiamo il numero di fold da creare e un seed per la casualità"
      ]
    },
    {
      "cell_type": "code",
      "execution_count": 70,
      "metadata": {
        "id": "OG7ChOQn6jWs"
      },
      "outputs": [],
      "source": [
        "from surprise.model_selection import KFold\n",
        "kf = KFold(n_splits=3, shuffle=True, random_state=42)"
      ]
    },
    {
      "cell_type": "markdown",
      "metadata": {
        "id": "eZ7C77wl6jWs"
      },
      "source": [
        "- Per eseguire una cross validation possiamo usare la funzione `cross_validate` indicando\n",
        "  - il modello (algoritmo e parametri) su cui eseguire la validazione\n",
        "  - il `Dataset` da utilizzare\n",
        "  - il criterio di split da usare, ad es. il `KFold` sopra\n",
        "  - le misure di accuratezza da calcolare (default: RMSE e MAE)\n",
        "- Prendiamo ad esempio il modello user-based basato su 10 vicini e similarità coseno visto prima"
      ]
    },
    {
      "cell_type": "code",
      "execution_count": 71,
      "metadata": {
        "id": "Tqzx6JON6jWt",
        "outputId": "fdf104f4-4ded-446f-c097-4087f5e71a46",
        "colab": {
          "base_uri": "https://localhost:8080/"
        }
      },
      "outputs": [
        {
          "output_type": "stream",
          "name": "stdout",
          "text": [
            "Computing the cosine similarity matrix...\n",
            "Done computing similarity matrix.\n",
            "Computing the cosine similarity matrix...\n",
            "Done computing similarity matrix.\n",
            "Computing the cosine similarity matrix...\n",
            "Done computing similarity matrix.\n"
          ]
        }
      ],
      "source": [
        "from surprise.model_selection import cross_validate\n",
        "model = KNNBasic(k=10, sim_options={\"name\": \"cosine\"})\n",
        "cv_results = cross_validate(model, train_dataset, cv=kf)"
      ]
    },
    {
      "cell_type": "markdown",
      "metadata": {
        "id": "ujzKyVy-6jWt"
      },
      "source": [
        "- Come in scikit-learn, otteniamo un dizionario che possiamo visualizzare comodamente in un frame pandas"
      ]
    },
    {
      "cell_type": "code",
      "execution_count": null,
      "metadata": {
        "id": "4Q-rWWgu6jWt",
        "outputId": "011c4cd6-49d1-45d4-b7a3-73b8228540fd"
      },
      "outputs": [
        {
          "data": {
            "text/html": [
              "<div>\n",
              "<style scoped>\n",
              "    .dataframe tbody tr th:only-of-type {\n",
              "        vertical-align: middle;\n",
              "    }\n",
              "\n",
              "    .dataframe tbody tr th {\n",
              "        vertical-align: top;\n",
              "    }\n",
              "\n",
              "    .dataframe thead th {\n",
              "        text-align: right;\n",
              "    }\n",
              "</style>\n",
              "<table border=\"1\" class=\"dataframe\">\n",
              "  <thead>\n",
              "    <tr style=\"text-align: right;\">\n",
              "      <th></th>\n",
              "      <th>test_rmse</th>\n",
              "      <th>test_mae</th>\n",
              "      <th>fit_time</th>\n",
              "      <th>test_time</th>\n",
              "    </tr>\n",
              "  </thead>\n",
              "  <tbody>\n",
              "    <tr>\n",
              "      <th>0</th>\n",
              "      <td>1.254324</td>\n",
              "      <td>0.951606</td>\n",
              "      <td>0.007901</td>\n",
              "      <td>0.026748</td>\n",
              "    </tr>\n",
              "    <tr>\n",
              "      <th>1</th>\n",
              "      <td>1.231866</td>\n",
              "      <td>0.926686</td>\n",
              "      <td>0.008215</td>\n",
              "      <td>0.026943</td>\n",
              "    </tr>\n",
              "    <tr>\n",
              "      <th>2</th>\n",
              "      <td>1.251063</td>\n",
              "      <td>0.937161</td>\n",
              "      <td>0.009153</td>\n",
              "      <td>0.026701</td>\n",
              "    </tr>\n",
              "  </tbody>\n",
              "</table>\n",
              "</div>"
            ],
            "text/plain": [
              "   test_rmse  test_mae  fit_time  test_time\n",
              "0   1.254324  0.951606  0.007901   0.026748\n",
              "1   1.231866  0.926686  0.008215   0.026943\n",
              "2   1.251063  0.937161  0.009153   0.026701"
            ]
          },
          "execution_count": 109,
          "metadata": {},
          "output_type": "execute_result"
        }
      ],
      "source": [
        "pd.DataFrame(cv_results)"
      ]
    },
    {
      "cell_type": "markdown",
      "metadata": {
        "id": "a9VbJDvL6jWt"
      },
      "source": [
        "- Ogni riga corrisponde ad un fold\n",
        "- Le colonne `fit_time` e `test_time` riportano il tempo (in secondi) richiesto per addestramento e validazione\n",
        "- Le colonne `test_rmse` e `test_mae` riportano le misure di accuratezza\n",
        "- Possiamo usare le medie dei valori come valutazioni generali del modello testato sui dati"
      ]
    },
    {
      "cell_type": "code",
      "execution_count": null,
      "metadata": {
        "id": "RxIpmBpS6jWt",
        "outputId": "eefc8095-b3ee-4a9f-bcea-a0c5fa1906c9"
      },
      "outputs": [
        {
          "data": {
            "text/plain": [
              "1.2457509255127395"
            ]
          },
          "execution_count": 110,
          "metadata": {},
          "output_type": "execute_result"
        }
      ],
      "source": [
        "cv_results[\"test_rmse\"].mean()"
      ]
    },
    {
      "cell_type": "markdown",
      "metadata": {
        "id": "jtPD4_Ru6jWu"
      },
      "source": [
        "## Grid search\n",
        "\n",
        "- Come i modelli di regressione, anche quelli di recommendation hanno degli iperparametri da impostare che possono influenzarne l'accuratezza\n",
        "  - ad esempio il numero k di vicini nella recommendation user-based\n",
        "- Surprise offre una funzionalità di _grid search_ simile a quella di scikit-learn per testare diversi valori dei parametri\n",
        "- Vediamo ad esempio l'efficacia della user-based recommendation al variare di k e della misura di similarità\n",
        "- Si definisce una \"griglia\" con i valori possibili dei parametri"
      ]
    },
    {
      "cell_type": "code",
      "execution_count": 80,
      "metadata": {
        "id": "--AewIx26jWu"
      },
      "outputs": [],
      "source": [
        "grid = {\n",
        "    \"k\": [5, 10, 20],\n",
        "    \"sim_options\": {\"name\": [\"cosine\", \"pearson\"]}\n",
        "}"
      ]
    },
    {
      "cell_type": "markdown",
      "metadata": {
        "id": "RT13TXp76jWu"
      },
      "source": [
        "- Si crea quindi un oggetto `GridSearchCV` passando il modello da testare, la griglia dei parametri e il metodo di split per la validazione\n",
        "  - Attenzione! Differentemente da scikit-learn va passata _la classe_ del modello da usare (in questo caso `KNNBasic`), non una sua istanza\n",
        "  - se la classe ha dei parametri con valori fissi, questi possono essere inseriti nella griglia insieme a quelli variabili\n",
        "  - con `refit=True` specifichiamo che alla fine va riaddestrato su tutti i dati un modello con i parametri risultati migliori (di default basandosi sul RMSE)"
      ]
    },
    {
      "cell_type": "code",
      "execution_count": 81,
      "metadata": {
        "id": "28JT6CKb6jWu"
      },
      "outputs": [],
      "source": [
        "from surprise.model_selection import GridSearchCV\n",
        "gs = GridSearchCV(KNNBasic, grid, cv=kf, refit=True)"
      ]
    },
    {
      "cell_type": "markdown",
      "metadata": {
        "id": "MfIkODHM6jWu"
      },
      "source": [
        "- Si chiama quindi il metodo `fit` passando il `Dataset` con i dati"
      ]
    },
    {
      "cell_type": "code",
      "execution_count": 82,
      "metadata": {
        "id": "WU4k6XaJ6jWv",
        "outputId": "0517d860-0ee9-454c-ce8a-5c302b60a0a7",
        "colab": {
          "base_uri": "https://localhost:8080/"
        }
      },
      "outputs": [
        {
          "output_type": "stream",
          "name": "stdout",
          "text": [
            "Computing the cosine similarity matrix...\n",
            "Done computing similarity matrix.\n",
            "Computing the cosine similarity matrix...\n",
            "Done computing similarity matrix.\n",
            "Computing the cosine similarity matrix...\n",
            "Done computing similarity matrix.\n",
            "Computing the pearson similarity matrix...\n",
            "Done computing similarity matrix.\n",
            "Computing the pearson similarity matrix...\n",
            "Done computing similarity matrix.\n",
            "Computing the pearson similarity matrix...\n",
            "Done computing similarity matrix.\n",
            "Computing the cosine similarity matrix...\n",
            "Done computing similarity matrix.\n",
            "Computing the cosine similarity matrix...\n",
            "Done computing similarity matrix.\n",
            "Computing the cosine similarity matrix...\n",
            "Done computing similarity matrix.\n",
            "Computing the pearson similarity matrix...\n",
            "Done computing similarity matrix.\n",
            "Computing the pearson similarity matrix...\n",
            "Done computing similarity matrix.\n",
            "Computing the pearson similarity matrix...\n",
            "Done computing similarity matrix.\n",
            "Computing the cosine similarity matrix...\n",
            "Done computing similarity matrix.\n",
            "Computing the cosine similarity matrix...\n",
            "Done computing similarity matrix.\n",
            "Computing the cosine similarity matrix...\n",
            "Done computing similarity matrix.\n",
            "Computing the pearson similarity matrix...\n",
            "Done computing similarity matrix.\n",
            "Computing the pearson similarity matrix...\n",
            "Done computing similarity matrix.\n",
            "Computing the pearson similarity matrix...\n",
            "Done computing similarity matrix.\n",
            "Computing the pearson similarity matrix...\n",
            "Done computing similarity matrix.\n"
          ]
        }
      ],
      "source": [
        "gs.fit(train_dataset)"
      ]
    },
    {
      "cell_type": "markdown",
      "metadata": {
        "id": "vkvkKMl56jWv"
      },
      "source": [
        "- L'oggetto addestrato può essere ispezionato in modo simile a scikit-learn\n",
        "- `best_params` fornisce la combinazione di parametri risultata migliore per ciascuna metrica di accuratezza"
      ]
    },
    {
      "cell_type": "code",
      "execution_count": 83,
      "metadata": {
        "id": "AEBTBSwY6jWv",
        "outputId": "7172a9fa-8b7c-4f4e-c1f4-456ce46efd35",
        "colab": {
          "base_uri": "https://localhost:8080/"
        }
      },
      "outputs": [
        {
          "output_type": "execute_result",
          "data": {
            "text/plain": [
              "{'rmse': {'k': 10, 'sim_options': {'name': 'pearson', 'user_based': True}},\n",
              " 'mae': {'k': 10, 'sim_options': {'name': 'cosine', 'user_based': True}}}"
            ]
          },
          "metadata": {},
          "execution_count": 83
        }
      ],
      "source": [
        "gs.best_params"
      ]
    },
    {
      "cell_type": "markdown",
      "metadata": {
        "id": "i4B0_3mR6jWv"
      },
      "source": [
        "- `cv_results` fornisce tutti i risultati, può essere visualizzato come frame con le righe ordinate per RMSE o MAE medio"
      ]
    },
    {
      "cell_type": "code",
      "execution_count": 84,
      "metadata": {
        "id": "QbkcgkOu6jWv",
        "outputId": "0a12239e-c175-450a-ddf7-138a40da9300",
        "colab": {
          "base_uri": "https://localhost:8080/",
          "height": 749
        }
      },
      "outputs": [
        {
          "output_type": "execute_result",
          "data": {
            "text/plain": [
              "   split0_test_rmse  split1_test_rmse  split2_test_rmse  mean_test_rmse  \\\n",
              "3          1.255051          1.227805          1.233077        1.238644   \n",
              "5          1.255065          1.227821          1.233085        1.238657   \n",
              "1          1.255666          1.227754          1.233733        1.239051   \n",
              "4          1.252696          1.231326          1.249788        1.244603   \n",
              "2          1.254324          1.231866          1.251063        1.245751   \n",
              "0          1.261489          1.239035          1.255559        1.252028   \n",
              "\n",
              "   std_test_rmse  rank_test_rmse  split0_test_mae  split1_test_mae  \\\n",
              "3       0.011799               1         0.967408         0.946476   \n",
              "5       0.011800               2         0.967457         0.946491   \n",
              "1       0.011999               3         0.968043         0.946195   \n",
              "4       0.009463               4         0.951588         0.927287   \n",
              "2       0.009908               5         0.951606         0.926686   \n",
              "0       0.009501               6         0.953364         0.930041   \n",
              "\n",
              "   split2_test_mae  mean_test_mae  std_test_mae  rank_test_mae  mean_fit_time  \\\n",
              "3         0.942974       0.952286      0.010788              4       0.004071   \n",
              "5         0.942922       0.952290      0.010823              5       0.004061   \n",
              "1         0.943654       0.952631      0.010948              6       0.003799   \n",
              "4         0.937037       0.938637      0.009985              2       0.003453   \n",
              "2         0.937161       0.938484      0.010217              1       0.003645   \n",
              "0         0.938673       0.940693      0.009628              3       0.003131   \n",
              "\n",
              "   std_fit_time  mean_test_time  std_test_time  \\\n",
              "3      0.000931        0.036021       0.003037   \n",
              "5      0.000756        0.034097       0.000998   \n",
              "1      0.000494        0.036786       0.002536   \n",
              "4      0.000668        0.039895       0.004847   \n",
              "2      0.000895        0.038439       0.002787   \n",
              "0      0.000352        0.039902       0.000593   \n",
              "\n",
              "                                              params  param_k  \\\n",
              "3  {'k': 10, 'sim_options': {'name': 'pearson', '...       10   \n",
              "5  {'k': 20, 'sim_options': {'name': 'pearson', '...       20   \n",
              "1  {'k': 5, 'sim_options': {'name': 'pearson', 'u...        5   \n",
              "4  {'k': 20, 'sim_options': {'name': 'cosine', 'u...       20   \n",
              "2  {'k': 10, 'sim_options': {'name': 'cosine', 'u...       10   \n",
              "0  {'k': 5, 'sim_options': {'name': 'cosine', 'us...        5   \n",
              "\n",
              "                         param_sim_options  \n",
              "3  {'name': 'pearson', 'user_based': True}  \n",
              "5  {'name': 'pearson', 'user_based': True}  \n",
              "1  {'name': 'pearson', 'user_based': True}  \n",
              "4   {'name': 'cosine', 'user_based': True}  \n",
              "2   {'name': 'cosine', 'user_based': True}  \n",
              "0   {'name': 'cosine', 'user_based': True}  "
            ],
            "text/html": [
              "\n",
              "  <div id=\"df-adf340bf-3646-46fc-b1e7-891051a74c44\">\n",
              "    <div class=\"colab-df-container\">\n",
              "      <div>\n",
              "<style scoped>\n",
              "    .dataframe tbody tr th:only-of-type {\n",
              "        vertical-align: middle;\n",
              "    }\n",
              "\n",
              "    .dataframe tbody tr th {\n",
              "        vertical-align: top;\n",
              "    }\n",
              "\n",
              "    .dataframe thead th {\n",
              "        text-align: right;\n",
              "    }\n",
              "</style>\n",
              "<table border=\"1\" class=\"dataframe\">\n",
              "  <thead>\n",
              "    <tr style=\"text-align: right;\">\n",
              "      <th></th>\n",
              "      <th>split0_test_rmse</th>\n",
              "      <th>split1_test_rmse</th>\n",
              "      <th>split2_test_rmse</th>\n",
              "      <th>mean_test_rmse</th>\n",
              "      <th>std_test_rmse</th>\n",
              "      <th>rank_test_rmse</th>\n",
              "      <th>split0_test_mae</th>\n",
              "      <th>split1_test_mae</th>\n",
              "      <th>split2_test_mae</th>\n",
              "      <th>mean_test_mae</th>\n",
              "      <th>std_test_mae</th>\n",
              "      <th>rank_test_mae</th>\n",
              "      <th>mean_fit_time</th>\n",
              "      <th>std_fit_time</th>\n",
              "      <th>mean_test_time</th>\n",
              "      <th>std_test_time</th>\n",
              "      <th>params</th>\n",
              "      <th>param_k</th>\n",
              "      <th>param_sim_options</th>\n",
              "    </tr>\n",
              "  </thead>\n",
              "  <tbody>\n",
              "    <tr>\n",
              "      <th>3</th>\n",
              "      <td>1.255051</td>\n",
              "      <td>1.227805</td>\n",
              "      <td>1.233077</td>\n",
              "      <td>1.238644</td>\n",
              "      <td>0.011799</td>\n",
              "      <td>1</td>\n",
              "      <td>0.967408</td>\n",
              "      <td>0.946476</td>\n",
              "      <td>0.942974</td>\n",
              "      <td>0.952286</td>\n",
              "      <td>0.010788</td>\n",
              "      <td>4</td>\n",
              "      <td>0.004071</td>\n",
              "      <td>0.000931</td>\n",
              "      <td>0.036021</td>\n",
              "      <td>0.003037</td>\n",
              "      <td>{'k': 10, 'sim_options': {'name': 'pearson', '...</td>\n",
              "      <td>10</td>\n",
              "      <td>{'name': 'pearson', 'user_based': True}</td>\n",
              "    </tr>\n",
              "    <tr>\n",
              "      <th>5</th>\n",
              "      <td>1.255065</td>\n",
              "      <td>1.227821</td>\n",
              "      <td>1.233085</td>\n",
              "      <td>1.238657</td>\n",
              "      <td>0.011800</td>\n",
              "      <td>2</td>\n",
              "      <td>0.967457</td>\n",
              "      <td>0.946491</td>\n",
              "      <td>0.942922</td>\n",
              "      <td>0.952290</td>\n",
              "      <td>0.010823</td>\n",
              "      <td>5</td>\n",
              "      <td>0.004061</td>\n",
              "      <td>0.000756</td>\n",
              "      <td>0.034097</td>\n",
              "      <td>0.000998</td>\n",
              "      <td>{'k': 20, 'sim_options': {'name': 'pearson', '...</td>\n",
              "      <td>20</td>\n",
              "      <td>{'name': 'pearson', 'user_based': True}</td>\n",
              "    </tr>\n",
              "    <tr>\n",
              "      <th>1</th>\n",
              "      <td>1.255666</td>\n",
              "      <td>1.227754</td>\n",
              "      <td>1.233733</td>\n",
              "      <td>1.239051</td>\n",
              "      <td>0.011999</td>\n",
              "      <td>3</td>\n",
              "      <td>0.968043</td>\n",
              "      <td>0.946195</td>\n",
              "      <td>0.943654</td>\n",
              "      <td>0.952631</td>\n",
              "      <td>0.010948</td>\n",
              "      <td>6</td>\n",
              "      <td>0.003799</td>\n",
              "      <td>0.000494</td>\n",
              "      <td>0.036786</td>\n",
              "      <td>0.002536</td>\n",
              "      <td>{'k': 5, 'sim_options': {'name': 'pearson', 'u...</td>\n",
              "      <td>5</td>\n",
              "      <td>{'name': 'pearson', 'user_based': True}</td>\n",
              "    </tr>\n",
              "    <tr>\n",
              "      <th>4</th>\n",
              "      <td>1.252696</td>\n",
              "      <td>1.231326</td>\n",
              "      <td>1.249788</td>\n",
              "      <td>1.244603</td>\n",
              "      <td>0.009463</td>\n",
              "      <td>4</td>\n",
              "      <td>0.951588</td>\n",
              "      <td>0.927287</td>\n",
              "      <td>0.937037</td>\n",
              "      <td>0.938637</td>\n",
              "      <td>0.009985</td>\n",
              "      <td>2</td>\n",
              "      <td>0.003453</td>\n",
              "      <td>0.000668</td>\n",
              "      <td>0.039895</td>\n",
              "      <td>0.004847</td>\n",
              "      <td>{'k': 20, 'sim_options': {'name': 'cosine', 'u...</td>\n",
              "      <td>20</td>\n",
              "      <td>{'name': 'cosine', 'user_based': True}</td>\n",
              "    </tr>\n",
              "    <tr>\n",
              "      <th>2</th>\n",
              "      <td>1.254324</td>\n",
              "      <td>1.231866</td>\n",
              "      <td>1.251063</td>\n",
              "      <td>1.245751</td>\n",
              "      <td>0.009908</td>\n",
              "      <td>5</td>\n",
              "      <td>0.951606</td>\n",
              "      <td>0.926686</td>\n",
              "      <td>0.937161</td>\n",
              "      <td>0.938484</td>\n",
              "      <td>0.010217</td>\n",
              "      <td>1</td>\n",
              "      <td>0.003645</td>\n",
              "      <td>0.000895</td>\n",
              "      <td>0.038439</td>\n",
              "      <td>0.002787</td>\n",
              "      <td>{'k': 10, 'sim_options': {'name': 'cosine', 'u...</td>\n",
              "      <td>10</td>\n",
              "      <td>{'name': 'cosine', 'user_based': True}</td>\n",
              "    </tr>\n",
              "    <tr>\n",
              "      <th>0</th>\n",
              "      <td>1.261489</td>\n",
              "      <td>1.239035</td>\n",
              "      <td>1.255559</td>\n",
              "      <td>1.252028</td>\n",
              "      <td>0.009501</td>\n",
              "      <td>6</td>\n",
              "      <td>0.953364</td>\n",
              "      <td>0.930041</td>\n",
              "      <td>0.938673</td>\n",
              "      <td>0.940693</td>\n",
              "      <td>0.009628</td>\n",
              "      <td>3</td>\n",
              "      <td>0.003131</td>\n",
              "      <td>0.000352</td>\n",
              "      <td>0.039902</td>\n",
              "      <td>0.000593</td>\n",
              "      <td>{'k': 5, 'sim_options': {'name': 'cosine', 'us...</td>\n",
              "      <td>5</td>\n",
              "      <td>{'name': 'cosine', 'user_based': True}</td>\n",
              "    </tr>\n",
              "  </tbody>\n",
              "</table>\n",
              "</div>\n",
              "      <button class=\"colab-df-convert\" onclick=\"convertToInteractive('df-adf340bf-3646-46fc-b1e7-891051a74c44')\"\n",
              "              title=\"Convert this dataframe to an interactive table.\"\n",
              "              style=\"display:none;\">\n",
              "        \n",
              "  <svg xmlns=\"http://www.w3.org/2000/svg\" height=\"24px\"viewBox=\"0 0 24 24\"\n",
              "       width=\"24px\">\n",
              "    <path d=\"M0 0h24v24H0V0z\" fill=\"none\"/>\n",
              "    <path d=\"M18.56 5.44l.94 2.06.94-2.06 2.06-.94-2.06-.94-.94-2.06-.94 2.06-2.06.94zm-11 1L8.5 8.5l.94-2.06 2.06-.94-2.06-.94L8.5 2.5l-.94 2.06-2.06.94zm10 10l.94 2.06.94-2.06 2.06-.94-2.06-.94-.94-2.06-.94 2.06-2.06.94z\"/><path d=\"M17.41 7.96l-1.37-1.37c-.4-.4-.92-.59-1.43-.59-.52 0-1.04.2-1.43.59L10.3 9.45l-7.72 7.72c-.78.78-.78 2.05 0 2.83L4 21.41c.39.39.9.59 1.41.59.51 0 1.02-.2 1.41-.59l7.78-7.78 2.81-2.81c.8-.78.8-2.07 0-2.86zM5.41 20L4 18.59l7.72-7.72 1.47 1.35L5.41 20z\"/>\n",
              "  </svg>\n",
              "      </button>\n",
              "      \n",
              "  <style>\n",
              "    .colab-df-container {\n",
              "      display:flex;\n",
              "      flex-wrap:wrap;\n",
              "      gap: 12px;\n",
              "    }\n",
              "\n",
              "    .colab-df-convert {\n",
              "      background-color: #E8F0FE;\n",
              "      border: none;\n",
              "      border-radius: 50%;\n",
              "      cursor: pointer;\n",
              "      display: none;\n",
              "      fill: #1967D2;\n",
              "      height: 32px;\n",
              "      padding: 0 0 0 0;\n",
              "      width: 32px;\n",
              "    }\n",
              "\n",
              "    .colab-df-convert:hover {\n",
              "      background-color: #E2EBFA;\n",
              "      box-shadow: 0px 1px 2px rgba(60, 64, 67, 0.3), 0px 1px 3px 1px rgba(60, 64, 67, 0.15);\n",
              "      fill: #174EA6;\n",
              "    }\n",
              "\n",
              "    [theme=dark] .colab-df-convert {\n",
              "      background-color: #3B4455;\n",
              "      fill: #D2E3FC;\n",
              "    }\n",
              "\n",
              "    [theme=dark] .colab-df-convert:hover {\n",
              "      background-color: #434B5C;\n",
              "      box-shadow: 0px 1px 3px 1px rgba(0, 0, 0, 0.15);\n",
              "      filter: drop-shadow(0px 1px 2px rgba(0, 0, 0, 0.3));\n",
              "      fill: #FFFFFF;\n",
              "    }\n",
              "  </style>\n",
              "\n",
              "      <script>\n",
              "        const buttonEl =\n",
              "          document.querySelector('#df-adf340bf-3646-46fc-b1e7-891051a74c44 button.colab-df-convert');\n",
              "        buttonEl.style.display =\n",
              "          google.colab.kernel.accessAllowed ? 'block' : 'none';\n",
              "\n",
              "        async function convertToInteractive(key) {\n",
              "          const element = document.querySelector('#df-adf340bf-3646-46fc-b1e7-891051a74c44');\n",
              "          const dataTable =\n",
              "            await google.colab.kernel.invokeFunction('convertToInteractive',\n",
              "                                                     [key], {});\n",
              "          if (!dataTable) return;\n",
              "\n",
              "          const docLinkHtml = 'Like what you see? Visit the ' +\n",
              "            '<a target=\"_blank\" href=https://colab.research.google.com/notebooks/data_table.ipynb>data table notebook</a>'\n",
              "            + ' to learn more about interactive tables.';\n",
              "          element.innerHTML = '';\n",
              "          dataTable['output_type'] = 'display_data';\n",
              "          await google.colab.output.renderOutput(dataTable, element);\n",
              "          const docLink = document.createElement('div');\n",
              "          docLink.innerHTML = docLinkHtml;\n",
              "          element.appendChild(docLink);\n",
              "        }\n",
              "      </script>\n",
              "    </div>\n",
              "  </div>\n",
              "  "
            ]
          },
          "metadata": {},
          "execution_count": 84
        }
      ],
      "source": [
        "pd.DataFrame(gs.cv_results).sort_values(\"mean_test_rmse\")"
      ]
    },
    {
      "cell_type": "markdown",
      "metadata": {
        "id": "w-HxutE96jWw"
      },
      "source": [
        "- Possiamo utilizzare l'oggetto come modello, validandolo ad esempio sui dati non utilizzati del validation set"
      ]
    },
    {
      "cell_type": "code",
      "execution_count": 85,
      "metadata": {
        "id": "xwS80OyL6jWw",
        "outputId": "f81bed44-205b-4887-b92b-3e746b87958d",
        "colab": {
          "base_uri": "https://localhost:8080/"
        }
      },
      "outputs": [
        {
          "output_type": "stream",
          "name": "stdout",
          "text": [
            "RMSE: 1.1833\n",
            "MAE:  0.8782\n"
          ]
        },
        {
          "output_type": "execute_result",
          "data": {
            "text/plain": [
              "(1.1833093002514359, 0.8782414100948562)"
            ]
          },
          "metadata": {},
          "execution_count": 85
        }
      ],
      "source": [
        "preds = gs.test(valset)\n",
        "rmse(preds), mae(preds)"
      ]
    },
    {
      "cell_type": "markdown",
      "metadata": {
        "id": "p1wMsNqO6jWw"
      },
      "source": [
        "### Esercizio 7: Grid search\n",
        "\n",
        "- **(7a)** Con una grid search, usando stessi dati e criterio di split usati sopra, individuare il valore ottimale (in termini di RMSE) del parametro `n_factors` per un modello `SVD`, testando i valori 3, 6, 9, ..., 30\n",
        "- **(7b)** Calcolare RMSE e MAE sul validation set del modello migliore individuato"
      ]
    },
    {
      "cell_type": "code",
      "source": [
        "grid = {\n",
        "    \"n_factors\": range(3,31,3),\n",
        "}\n",
        "gs = GridSearchCV(SVD, grid, cv=kf, refit=True)\n",
        "gs.fit(train_dataset)\n",
        "gs.best_params[\"rmse\"][\"n_factors\"]"
      ],
      "metadata": {
        "colab": {
          "base_uri": "https://localhost:8080/"
        },
        "id": "iEAv0UFpSLyK",
        "outputId": "df91875f-e250-4a7d-ae25-6817746f4279"
      },
      "execution_count": 95,
      "outputs": [
        {
          "output_type": "execute_result",
          "data": {
            "text/plain": [
              "6"
            ]
          },
          "metadata": {},
          "execution_count": 95
        }
      ]
    },
    {
      "cell_type": "code",
      "source": [
        "preds = gs.test(val_dataset.build_full_trainset().build_testset())\n",
        "rmse(preds)\n",
        "mae(preds)"
      ],
      "metadata": {
        "colab": {
          "base_uri": "https://localhost:8080/"
        },
        "id": "OLdYIv5mUJcn",
        "outputId": "40cfaa09-2c00-4aa3-8cfa-af748aa050ab"
      },
      "execution_count": 96,
      "outputs": [
        {
          "output_type": "stream",
          "name": "stdout",
          "text": [
            "RMSE: 0.9554\n",
            "MAE:  0.7437\n"
          ]
        },
        {
          "output_type": "execute_result",
          "data": {
            "text/plain": [
              "0.7437176184406784"
            ]
          },
          "metadata": {},
          "execution_count": 96
        }
      ]
    },
    {
      "cell_type": "markdown",
      "metadata": {
        "id": "ZDn3RpY16jWw"
      },
      "source": [
        "## Esercizio 8: Suggerire prodotti agli utenti\n",
        "\n",
        "Un modello di recommendation è in genere utilizzato, basandosi sui voti predetti, per suggerire un numero di prodotti ad un dato utente\n",
        "\n",
        "- **(8a)** Usando il modello ottenuto nell'esercizio 7, estrarre una lista di `Prediction` con i voti predetti per l'utente `target_user` definito sotto su tutti i prodotti nel training set\n",
        "  - per scorrere tutti i prodotti, scorrere gli indici del `trainset` da 0 a `n_items-1` e usare `trainset.to_raw_iid` per ottenere i nomi corrispondenti\n",
        "  - per semplicità, non è necessario escludere i prodotti già valutati\n",
        "- **(8b)** Stampare i nomi dei 10 prodotti con voto predetto più alto\n",
        "- **(8c)** Definire una funzione `recommend` che, dato un nome utente e un numero di prodotti da suggerire, restituisca una lista di nomi di prodotti suggeriti ottenuta come nei punti sopra"
      ]
    },
    {
      "cell_type": "code",
      "execution_count": 97,
      "metadata": {
        "id": "J29pPhHR6jWw"
      },
      "outputs": [],
      "source": [
        "target_user = \"[624547] Roland E. Zwick\""
      ]
    },
    {
      "cell_type": "code",
      "source": [
        "predictions = [gs.predict(target_user, trainset.to_raw_iid(ii)) for ii in trainset.all_items()]\n",
        "predictions.sort(key=lambda x: x.est, reverse=True)\n",
        "for item in predictions[:10]:\n",
        "  print(item.iid)"
      ],
      "metadata": {
        "colab": {
          "base_uri": "https://localhost:8080/"
        },
        "id": "RlMrWEkKU3kX",
        "outputId": "f98b7f58-b004-4a3d-a0eb-9de16d13eba2"
      },
      "execution_count": 110,
      "outputs": [
        {
          "output_type": "stream",
          "name": "stdout",
          "text": [
            "[7989] Fight Club\n",
            "[60001] The Iron Giant\n",
            "[95693] The Shawshank Redemption (Widescreen Edition) [VHS]\n",
            "[44091] The Wizard of Oz\n",
            "[103868] 2001: A Space Odyssey [VHS]\n",
            "[50060] Nosferatu [VHS]\n",
            "[8039] Boys Don't Cry [VHS]\n",
            "[3574] Halloween\n",
            "[95853] Schindler's List (Widescreen Edition) [VHS]\n",
            "[4773] Life Is Beautiful (La Vita E Bella) [VHS]\n"
          ]
        }
      ]
    },
    {
      "cell_type": "code",
      "source": [
        "def recommend(user, p_number):\n",
        "    return [i.iid for i in sorted([gs.predict(target_user, trainset.to_raw_iid(ii)) for ii in trainset.all_items()], key=lambda x: x.est, reverse=True)[:p_number]]"
      ],
      "metadata": {
        "id": "Ftjs3Ta7VMYh"
      },
      "execution_count": 118,
      "outputs": []
    },
    {
      "cell_type": "code",
      "source": [
        "recommend(target_user, 50)"
      ],
      "metadata": {
        "colab": {
          "base_uri": "https://localhost:8080/"
        },
        "id": "0GLY__57Y-hf",
        "outputId": "3fcab8b1-cbaf-4a6f-d4ff-69313c6884f3"
      },
      "execution_count": 120,
      "outputs": [
        {
          "output_type": "execute_result",
          "data": {
            "text/plain": [
              "['[7989] Fight Club',\n",
              " '[60001] The Iron Giant',\n",
              " '[95693] The Shawshank Redemption (Widescreen Edition) [VHS]',\n",
              " '[44091] The Wizard of Oz',\n",
              " '[103868] 2001: A Space Odyssey [VHS]',\n",
              " '[50060] Nosferatu [VHS]',\n",
              " \"[8039] Boys Don't Cry [VHS]\",\n",
              " '[3574] Halloween',\n",
              " \"[95853] Schindler's List (Widescreen Edition) [VHS]\",\n",
              " '[4773] Life Is Beautiful (La Vita E Bella) [VHS]',\n",
              " '[96662] Platoon [VHS]',\n",
              " '[43989] Braveheart [VHS]',\n",
              " '[47806] The Omen [VHS]',\n",
              " \"[42911] Das Boot - The Director's Cut\",\n",
              " '[96039] Terminator 2: Judgment Day',\n",
              " '[51262] Glengarry Glen Ross [VHS]',\n",
              " '[96741] Glory',\n",
              " '[104083] Tootsie [VHS]',\n",
              " '[43736] The Fugitive',\n",
              " '[96732] The Crucible [VHS]',\n",
              " '[95843] Jaws [VHS]',\n",
              " '[44088] Poltergeist',\n",
              " '[95656] Boogie Nights',\n",
              " '[97727] Pulp Fiction',\n",
              " '[43426] 12 Monkeys (Widescreen Edition) [VHS]',\n",
              " '[47818] Aliens [VHS]',\n",
              " '[1804] The Usual Suspects Letterbox Edition  [VHS]',\n",
              " '[49432] A Christmas Story [VHS]',\n",
              " '[57780] Titus',\n",
              " '[47792] Alien [VHS]',\n",
              " \"[43463] The Thing - Collector's Edition\",\n",
              " '[43263] American History X [VHS]',\n",
              " '[96320] North by Northwest - Special Edition [VHS]',\n",
              " '[47819] Predator [VHS]',\n",
              " '[102691] Thelma &amp; Louise [VHS]',\n",
              " '[43007] Ghostbusters [VHS]',\n",
              " \"[95943] Field of Dreams (Widescreen Collector's Edition)\",\n",
              " '[57289] Ideal Husband [VHS]',\n",
              " '[104128] Last of the Mohicans W/Audio Cassette [VHS]',\n",
              " '[56244] The Graduate',\n",
              " '[96411] Raiders of the Lost Ark (Widescreen Edition) [VHS]',\n",
              " '[55695] Face/Off [VHS]',\n",
              " '[57692] Nashville',\n",
              " '[44279] Star Wars Trilogy (VHS Boxed Set)',\n",
              " '[8851] Toy Story &amp; Toy Story 2 (2 Pack)',\n",
              " \"[96408] Rosemary's Baby\",\n",
              " '[57008] Rushmore',\n",
              " '[43380] Apollo 13 (Widescreen 2-Disc Anniversary Edition)',\n",
              " '[48048] Fatal Attraction [VHS]',\n",
              " '[4742] Nights of Cabiria [VHS]']"
            ]
          },
          "metadata": {},
          "execution_count": 120
        }
      ]
    }
  ],
  "metadata": {
    "language_info": {
      "name": "python"
    },
    "colab": {
      "provenance": [],
      "toc_visible": true,
      "include_colab_link": true
    },
    "kernelspec": {
      "name": "python3",
      "display_name": "Python 3"
    },
    "gpuClass": "standard"
  },
  "nbformat": 4,
  "nbformat_minor": 0
}