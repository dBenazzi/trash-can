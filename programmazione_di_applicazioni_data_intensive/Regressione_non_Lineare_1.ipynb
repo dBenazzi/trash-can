{
  "cells": [
    {
      "cell_type": "markdown",
      "metadata": {
        "id": "view-in-github",
        "colab_type": "text"
      },
      "source": [
        "<a href=\"https://colab.research.google.com/github/dBenazzi/trash-can/blob/main/programmazione_di_applicazioni_data_intensive/Regressione_non_Lineare_parte_1.nosol.ipynb\" target=\"_parent\"><img src=\"https://colab.research.google.com/assets/colab-badge.svg\" alt=\"Open In Colab\"/></a>"
      ]
    },
    {
      "cell_type": "markdown",
      "metadata": {
        "id": "dWSDxPT8Asxb"
      },
      "source": [
        "# Regressione con scikit-learn\n",
        "\n",
        "**Programmazione di Applicazioni Data Intensive**  \n",
        "Laurea in Ingegneria e Scienze Informatiche  \n",
        "DISI - Università di Bologna, Cesena\n",
        "\n",
        "Proff. Gianluca Moro, Roberto Pasolini  \n",
        "`nome.cognome@unibo.it`"
      ]
    },
    {
      "cell_type": "markdown",
      "metadata": {
        "id": "8IyyYuh5Asxl"
      },
      "source": [
        "## Setup\n",
        "\n",
        "- Importare i package necessari"
      ]
    },
    {
      "cell_type": "code",
      "execution_count": 2,
      "metadata": {
        "id": "W9IAnN92Asxn"
      },
      "outputs": [],
      "source": [
        "import numpy as np\n",
        "import pandas as pd\n",
        "import matplotlib.pyplot as plt\n",
        "import sklearn\n",
        "%matplotlib inline"
      ]
    },
    {
      "cell_type": "markdown",
      "metadata": {
        "id": "Dxre2gfsAsxq"
      },
      "source": [
        "## Ripasso: Regressione lineare\n",
        "\n",
        "- Un _modello di regressione_ fornisce una stima $\\hat{y}$ del valore $y$ di una variabile _dipendente_ basata sui valori $x_1,\\ldots,x_n$ di una o più variabili _indipendenti_\n",
        "- In un modello di regressione _lineare_, il valore della variabile dipendente è previsto come combinazione lineare di quelli delle variabili indipendenti\n",
        "  - ciascuna variabile indipendente $x_i$ è moltiplicata per un coefficiente $\\theta_i$\n",
        "  - viene aggiunto un termine noto (_intercetta_) $\\theta_0$\n",
        "$$ \\hat{y} = \\theta_0+\\theta_1\\cdot x_1+\\ldots+\\theta_n\\cdot x_n $$\n",
        "- Nella scorsa lezione, abbiamo visto come implementare la _discesa del gradiente_ per addestrare un modello di regressione lineare su dati esistenti\n",
        "- Vediamo oggi come usare invece una libreria che fornisce questa funzione e altre più avanzate..."
      ]
    },
    {
      "cell_type": "markdown",
      "metadata": {
        "id": "aloTb-wjAsxr"
      },
      "source": [
        "## scikit-learn\n",
        "\n",
        "- scikit-learn offre diversi algoritmi e funzioni di supporto per l'addestramento di modelli predittivi, dalla regressione lineare ad altri più avanzati\n",
        "  - tutti i tipi di modelli offrono un'interfaccia comune per l'addestramento e la predizione (inferenza)\n",
        "  - i dati in ingresso sono rappresentati come array NumPy o serie/frame pandas\n",
        "  - sono fornite funzionalità di supporto (suddivisione dati, normalizzazione, ...) compatibili con tutti i tipi di modelli"
      ]
    },
    {
      "cell_type": "markdown",
      "metadata": {
        "id": "IRRHRrb6Asxt"
      },
      "source": [
        "## Caso di studio 1: predizione consumo elettricità\n",
        "\n",
        "- Carichiamo i dati già visti nel laboratorio precedente: per ogni giorno degli anni dal 2015 al 2017 abbiamo la temperatura media in una città e il picco registrato di consumo di corrente elettrica\n",
        "  - con l'opzione `index_col` specifichiamo che la colonna `date` costituisce l'indice del DataFrame\n",
        "  - con `parse_dates` indichiamo che i suoi valori vanno interpretati come date"
      ]
    },
    {
      "cell_type": "code",
      "execution_count": 3,
      "metadata": {
        "id": "dtCiSAsAAsxv"
      },
      "outputs": [],
      "source": [
        "import os.path\n",
        "if not os.path.exists(\"power.csv\"):\n",
        "    from urllib.request import urlretrieve\n",
        "    urlretrieve(\"https://git.io/vpaM1\", \"power.csv\")"
      ]
    },
    {
      "cell_type": "code",
      "execution_count": 4,
      "metadata": {
        "id": "Ex_CZJ3lAsxy"
      },
      "outputs": [],
      "source": [
        "power = pd.read_csv(\"https://git.io/vpaM1\", index_col=\"date\", parse_dates=[\"date\"])"
      ]
    },
    {
      "cell_type": "code",
      "execution_count": 5,
      "metadata": {
        "id": "v9nkvc0DAsx0",
        "outputId": "af6e9350-cf5d-4b47-d554-90b00476f158",
        "colab": {
          "base_uri": "https://localhost:8080/",
          "height": 0
        }
      },
      "outputs": [
        {
          "output_type": "execute_result",
          "data": {
            "text/plain": [
              "              demand  temp\n",
              "date                      \n",
              "2015-01-01  1.736065   1.7\n",
              "2015-01-02  1.831672   2.2\n",
              "2015-01-03  1.714934  14.4\n",
              "2015-01-04  1.628577  15.6\n",
              "2015-01-05  2.045394   0.0\n",
              "2015-01-06  2.122799  -6.7\n",
              "2015-01-07  2.243265  -9.4\n",
              "2015-01-08  2.240975  -8.9"
            ],
            "text/html": [
              "\n",
              "  <div id=\"df-ca6a4707-c4d0-4416-afa4-782d2166a3fd\">\n",
              "    <div class=\"colab-df-container\">\n",
              "      <div>\n",
              "<style scoped>\n",
              "    .dataframe tbody tr th:only-of-type {\n",
              "        vertical-align: middle;\n",
              "    }\n",
              "\n",
              "    .dataframe tbody tr th {\n",
              "        vertical-align: top;\n",
              "    }\n",
              "\n",
              "    .dataframe thead th {\n",
              "        text-align: right;\n",
              "    }\n",
              "</style>\n",
              "<table border=\"1\" class=\"dataframe\">\n",
              "  <thead>\n",
              "    <tr style=\"text-align: right;\">\n",
              "      <th></th>\n",
              "      <th>demand</th>\n",
              "      <th>temp</th>\n",
              "    </tr>\n",
              "    <tr>\n",
              "      <th>date</th>\n",
              "      <th></th>\n",
              "      <th></th>\n",
              "    </tr>\n",
              "  </thead>\n",
              "  <tbody>\n",
              "    <tr>\n",
              "      <th>2015-01-01</th>\n",
              "      <td>1.736065</td>\n",
              "      <td>1.7</td>\n",
              "    </tr>\n",
              "    <tr>\n",
              "      <th>2015-01-02</th>\n",
              "      <td>1.831672</td>\n",
              "      <td>2.2</td>\n",
              "    </tr>\n",
              "    <tr>\n",
              "      <th>2015-01-03</th>\n",
              "      <td>1.714934</td>\n",
              "      <td>14.4</td>\n",
              "    </tr>\n",
              "    <tr>\n",
              "      <th>2015-01-04</th>\n",
              "      <td>1.628577</td>\n",
              "      <td>15.6</td>\n",
              "    </tr>\n",
              "    <tr>\n",
              "      <th>2015-01-05</th>\n",
              "      <td>2.045394</td>\n",
              "      <td>0.0</td>\n",
              "    </tr>\n",
              "    <tr>\n",
              "      <th>2015-01-06</th>\n",
              "      <td>2.122799</td>\n",
              "      <td>-6.7</td>\n",
              "    </tr>\n",
              "    <tr>\n",
              "      <th>2015-01-07</th>\n",
              "      <td>2.243265</td>\n",
              "      <td>-9.4</td>\n",
              "    </tr>\n",
              "    <tr>\n",
              "      <th>2015-01-08</th>\n",
              "      <td>2.240975</td>\n",
              "      <td>-8.9</td>\n",
              "    </tr>\n",
              "  </tbody>\n",
              "</table>\n",
              "</div>\n",
              "      <button class=\"colab-df-convert\" onclick=\"convertToInteractive('df-ca6a4707-c4d0-4416-afa4-782d2166a3fd')\"\n",
              "              title=\"Convert this dataframe to an interactive table.\"\n",
              "              style=\"display:none;\">\n",
              "        \n",
              "  <svg xmlns=\"http://www.w3.org/2000/svg\" height=\"24px\"viewBox=\"0 0 24 24\"\n",
              "       width=\"24px\">\n",
              "    <path d=\"M0 0h24v24H0V0z\" fill=\"none\"/>\n",
              "    <path d=\"M18.56 5.44l.94 2.06.94-2.06 2.06-.94-2.06-.94-.94-2.06-.94 2.06-2.06.94zm-11 1L8.5 8.5l.94-2.06 2.06-.94-2.06-.94L8.5 2.5l-.94 2.06-2.06.94zm10 10l.94 2.06.94-2.06 2.06-.94-2.06-.94-.94-2.06-.94 2.06-2.06.94z\"/><path d=\"M17.41 7.96l-1.37-1.37c-.4-.4-.92-.59-1.43-.59-.52 0-1.04.2-1.43.59L10.3 9.45l-7.72 7.72c-.78.78-.78 2.05 0 2.83L4 21.41c.39.39.9.59 1.41.59.51 0 1.02-.2 1.41-.59l7.78-7.78 2.81-2.81c.8-.78.8-2.07 0-2.86zM5.41 20L4 18.59l7.72-7.72 1.47 1.35L5.41 20z\"/>\n",
              "  </svg>\n",
              "      </button>\n",
              "      \n",
              "  <style>\n",
              "    .colab-df-container {\n",
              "      display:flex;\n",
              "      flex-wrap:wrap;\n",
              "      gap: 12px;\n",
              "    }\n",
              "\n",
              "    .colab-df-convert {\n",
              "      background-color: #E8F0FE;\n",
              "      border: none;\n",
              "      border-radius: 50%;\n",
              "      cursor: pointer;\n",
              "      display: none;\n",
              "      fill: #1967D2;\n",
              "      height: 32px;\n",
              "      padding: 0 0 0 0;\n",
              "      width: 32px;\n",
              "    }\n",
              "\n",
              "    .colab-df-convert:hover {\n",
              "      background-color: #E2EBFA;\n",
              "      box-shadow: 0px 1px 2px rgba(60, 64, 67, 0.3), 0px 1px 3px 1px rgba(60, 64, 67, 0.15);\n",
              "      fill: #174EA6;\n",
              "    }\n",
              "\n",
              "    [theme=dark] .colab-df-convert {\n",
              "      background-color: #3B4455;\n",
              "      fill: #D2E3FC;\n",
              "    }\n",
              "\n",
              "    [theme=dark] .colab-df-convert:hover {\n",
              "      background-color: #434B5C;\n",
              "      box-shadow: 0px 1px 3px 1px rgba(0, 0, 0, 0.15);\n",
              "      filter: drop-shadow(0px 1px 2px rgba(0, 0, 0, 0.3));\n",
              "      fill: #FFFFFF;\n",
              "    }\n",
              "  </style>\n",
              "\n",
              "      <script>\n",
              "        const buttonEl =\n",
              "          document.querySelector('#df-ca6a4707-c4d0-4416-afa4-782d2166a3fd button.colab-df-convert');\n",
              "        buttonEl.style.display =\n",
              "          google.colab.kernel.accessAllowed ? 'block' : 'none';\n",
              "\n",
              "        async function convertToInteractive(key) {\n",
              "          const element = document.querySelector('#df-ca6a4707-c4d0-4416-afa4-782d2166a3fd');\n",
              "          const dataTable =\n",
              "            await google.colab.kernel.invokeFunction('convertToInteractive',\n",
              "                                                     [key], {});\n",
              "          if (!dataTable) return;\n",
              "\n",
              "          const docLinkHtml = 'Like what you see? Visit the ' +\n",
              "            '<a target=\"_blank\" href=https://colab.research.google.com/notebooks/data_table.ipynb>data table notebook</a>'\n",
              "            + ' to learn more about interactive tables.';\n",
              "          element.innerHTML = '';\n",
              "          dataTable['output_type'] = 'display_data';\n",
              "          await google.colab.output.renderOutput(dataTable, element);\n",
              "          const docLink = document.createElement('div');\n",
              "          docLink.innerHTML = docLinkHtml;\n",
              "          element.appendChild(docLink);\n",
              "        }\n",
              "      </script>\n",
              "    </div>\n",
              "  </div>\n",
              "  "
            ]
          },
          "metadata": {},
          "execution_count": 5
        }
      ],
      "source": [
        "power.head(8)"
      ]
    },
    {
      "cell_type": "markdown",
      "metadata": {
        "id": "TIChKlWcAsx3"
      },
      "source": [
        "### Predizione nei mesi estivi\n",
        "\n",
        "- Nella scorsa esercitazione, abbiamo estratto un modello di predizione sui consumi dei mesi estivi, imputabili all'aria condizionata\n",
        "- Selezioniamo dal frame caricato solamente le righe relative ai mesi di giugno, luglio e agosto"
      ]
    },
    {
      "cell_type": "code",
      "execution_count": 6,
      "metadata": {
        "id": "nNpjNV0PAsx4"
      },
      "outputs": [],
      "source": [
        "power_summer = power.iloc[power.index.month.isin([6, 7, 8])]"
      ]
    },
    {
      "cell_type": "code",
      "execution_count": 7,
      "metadata": {
        "id": "PV6_hYh4Asx5",
        "outputId": "fb603749-1d8b-47a8-bed3-248b6d1bf66e",
        "colab": {
          "base_uri": "https://localhost:8080/",
          "height": 0
        }
      },
      "outputs": [
        {
          "output_type": "execute_result",
          "data": {
            "text/plain": [
              "              demand  temp\n",
              "date                      \n",
              "2015-06-01  1.640036  15.6\n",
              "2015-06-02  1.663211  17.2\n",
              "2015-06-03  1.728381  21.7"
            ],
            "text/html": [
              "\n",
              "  <div id=\"df-8d5b0f88-5ae9-4291-bc7f-53e9bde44e55\">\n",
              "    <div class=\"colab-df-container\">\n",
              "      <div>\n",
              "<style scoped>\n",
              "    .dataframe tbody tr th:only-of-type {\n",
              "        vertical-align: middle;\n",
              "    }\n",
              "\n",
              "    .dataframe tbody tr th {\n",
              "        vertical-align: top;\n",
              "    }\n",
              "\n",
              "    .dataframe thead th {\n",
              "        text-align: right;\n",
              "    }\n",
              "</style>\n",
              "<table border=\"1\" class=\"dataframe\">\n",
              "  <thead>\n",
              "    <tr style=\"text-align: right;\">\n",
              "      <th></th>\n",
              "      <th>demand</th>\n",
              "      <th>temp</th>\n",
              "    </tr>\n",
              "    <tr>\n",
              "      <th>date</th>\n",
              "      <th></th>\n",
              "      <th></th>\n",
              "    </tr>\n",
              "  </thead>\n",
              "  <tbody>\n",
              "    <tr>\n",
              "      <th>2015-06-01</th>\n",
              "      <td>1.640036</td>\n",
              "      <td>15.6</td>\n",
              "    </tr>\n",
              "    <tr>\n",
              "      <th>2015-06-02</th>\n",
              "      <td>1.663211</td>\n",
              "      <td>17.2</td>\n",
              "    </tr>\n",
              "    <tr>\n",
              "      <th>2015-06-03</th>\n",
              "      <td>1.728381</td>\n",
              "      <td>21.7</td>\n",
              "    </tr>\n",
              "  </tbody>\n",
              "</table>\n",
              "</div>\n",
              "      <button class=\"colab-df-convert\" onclick=\"convertToInteractive('df-8d5b0f88-5ae9-4291-bc7f-53e9bde44e55')\"\n",
              "              title=\"Convert this dataframe to an interactive table.\"\n",
              "              style=\"display:none;\">\n",
              "        \n",
              "  <svg xmlns=\"http://www.w3.org/2000/svg\" height=\"24px\"viewBox=\"0 0 24 24\"\n",
              "       width=\"24px\">\n",
              "    <path d=\"M0 0h24v24H0V0z\" fill=\"none\"/>\n",
              "    <path d=\"M18.56 5.44l.94 2.06.94-2.06 2.06-.94-2.06-.94-.94-2.06-.94 2.06-2.06.94zm-11 1L8.5 8.5l.94-2.06 2.06-.94-2.06-.94L8.5 2.5l-.94 2.06-2.06.94zm10 10l.94 2.06.94-2.06 2.06-.94-2.06-.94-.94-2.06-.94 2.06-2.06.94z\"/><path d=\"M17.41 7.96l-1.37-1.37c-.4-.4-.92-.59-1.43-.59-.52 0-1.04.2-1.43.59L10.3 9.45l-7.72 7.72c-.78.78-.78 2.05 0 2.83L4 21.41c.39.39.9.59 1.41.59.51 0 1.02-.2 1.41-.59l7.78-7.78 2.81-2.81c.8-.78.8-2.07 0-2.86zM5.41 20L4 18.59l7.72-7.72 1.47 1.35L5.41 20z\"/>\n",
              "  </svg>\n",
              "      </button>\n",
              "      \n",
              "  <style>\n",
              "    .colab-df-container {\n",
              "      display:flex;\n",
              "      flex-wrap:wrap;\n",
              "      gap: 12px;\n",
              "    }\n",
              "\n",
              "    .colab-df-convert {\n",
              "      background-color: #E8F0FE;\n",
              "      border: none;\n",
              "      border-radius: 50%;\n",
              "      cursor: pointer;\n",
              "      display: none;\n",
              "      fill: #1967D2;\n",
              "      height: 32px;\n",
              "      padding: 0 0 0 0;\n",
              "      width: 32px;\n",
              "    }\n",
              "\n",
              "    .colab-df-convert:hover {\n",
              "      background-color: #E2EBFA;\n",
              "      box-shadow: 0px 1px 2px rgba(60, 64, 67, 0.3), 0px 1px 3px 1px rgba(60, 64, 67, 0.15);\n",
              "      fill: #174EA6;\n",
              "    }\n",
              "\n",
              "    [theme=dark] .colab-df-convert {\n",
              "      background-color: #3B4455;\n",
              "      fill: #D2E3FC;\n",
              "    }\n",
              "\n",
              "    [theme=dark] .colab-df-convert:hover {\n",
              "      background-color: #434B5C;\n",
              "      box-shadow: 0px 1px 3px 1px rgba(0, 0, 0, 0.15);\n",
              "      filter: drop-shadow(0px 1px 2px rgba(0, 0, 0, 0.3));\n",
              "      fill: #FFFFFF;\n",
              "    }\n",
              "  </style>\n",
              "\n",
              "      <script>\n",
              "        const buttonEl =\n",
              "          document.querySelector('#df-8d5b0f88-5ae9-4291-bc7f-53e9bde44e55 button.colab-df-convert');\n",
              "        buttonEl.style.display =\n",
              "          google.colab.kernel.accessAllowed ? 'block' : 'none';\n",
              "\n",
              "        async function convertToInteractive(key) {\n",
              "          const element = document.querySelector('#df-8d5b0f88-5ae9-4291-bc7f-53e9bde44e55');\n",
              "          const dataTable =\n",
              "            await google.colab.kernel.invokeFunction('convertToInteractive',\n",
              "                                                     [key], {});\n",
              "          if (!dataTable) return;\n",
              "\n",
              "          const docLinkHtml = 'Like what you see? Visit the ' +\n",
              "            '<a target=\"_blank\" href=https://colab.research.google.com/notebooks/data_table.ipynb>data table notebook</a>'\n",
              "            + ' to learn more about interactive tables.';\n",
              "          element.innerHTML = '';\n",
              "          dataTable['output_type'] = 'display_data';\n",
              "          await google.colab.output.renderOutput(dataTable, element);\n",
              "          const docLink = document.createElement('div');\n",
              "          docLink.innerHTML = docLinkHtml;\n",
              "          element.appendChild(docLink);\n",
              "        }\n",
              "      </script>\n",
              "    </div>\n",
              "  </div>\n",
              "  "
            ]
          },
          "metadata": {},
          "execution_count": 7
        }
      ],
      "source": [
        "power_summer.head(3)"
      ]
    },
    {
      "cell_type": "markdown",
      "metadata": {
        "id": "oFkjH5SgAsx6"
      },
      "source": [
        "## Addestramento di un modello\n",
        "\n",
        "- Vediamo come addestrare un modello di regressione lineare su questi dati\n",
        "- Per prima cosa, va creato un oggetto che rappresenta il modello \"vuoto\", non ancora addestrato\n",
        "- A seconda del tipo di modello da addestrare, utilizziamo una classe diversa\n",
        "- Per un modello di regressione lineare semplice (univariata o multivariata), creiamo un oggetto `LinearRegression`, importandolo dal package dei modelli lineari"
      ]
    },
    {
      "cell_type": "code",
      "execution_count": 8,
      "metadata": {
        "id": "I0e1AFXjAsx7"
      },
      "outputs": [],
      "source": [
        "from sklearn.linear_model import LinearRegression\n",
        "lrm = LinearRegression()"
      ]
    },
    {
      "cell_type": "markdown",
      "metadata": {
        "id": "t-JQ3VjYAsx8"
      },
      "source": [
        "- Usiamo quindi il metodo `fit` per addestrare il modello su un insieme di dati fornito\n",
        "- Al metodo `fit` vanno passati come argomenti\n",
        "  - una matrice (o DataFrame) di forma $m\\times n$, contenente $m$ osservazioni di $n$ variabili indipendenti $X_1,\\ldots,X_n$\n",
        "  - un vettore (o serie) di $m$ elementi, contenenti i corrispondenti valori noti della variabilie dipendente $Y$\n",
        "- Nel caso di regressione univariata con una variabile indipendente $X$, va passata una matrice $m\\times 1$ per esplicitare che si tratta di $m$ osservazioni di una variabile (piuttosto che di una osservazione di $n$ variabili)\n",
        "- Selezionando la colonna `temp` come una lista (`[[\"temp\"]]` invece di `[\"temp\"]`), ottengo un DataFrame $m\\times 1$ invece di una semplice serie"
      ]
    },
    {
      "cell_type": "code",
      "execution_count": 9,
      "metadata": {
        "id": "yIPdsQgMAsx8"
      },
      "outputs": [],
      "source": [
        "X = power_summer[[\"temp\"]]\n",
        "y = power_summer[\"demand\"]"
      ]
    },
    {
      "cell_type": "code",
      "execution_count": 10,
      "metadata": {
        "id": "O5hoxQ3hAsx9",
        "outputId": "30f2c3ce-f911-42e5-d74e-4cecc7728987",
        "colab": {
          "base_uri": "https://localhost:8080/",
          "height": 0
        }
      },
      "outputs": [
        {
          "output_type": "execute_result",
          "data": {
            "text/plain": [
              "            temp\n",
              "date            \n",
              "2015-06-01  15.6\n",
              "2015-06-02  17.2\n",
              "2015-06-03  21.7\n",
              "2015-06-04  25.0\n",
              "2015-06-05  27.8"
            ],
            "text/html": [
              "\n",
              "  <div id=\"df-56cb11ae-8325-4dbc-b90d-83bd2caf9f87\">\n",
              "    <div class=\"colab-df-container\">\n",
              "      <div>\n",
              "<style scoped>\n",
              "    .dataframe tbody tr th:only-of-type {\n",
              "        vertical-align: middle;\n",
              "    }\n",
              "\n",
              "    .dataframe tbody tr th {\n",
              "        vertical-align: top;\n",
              "    }\n",
              "\n",
              "    .dataframe thead th {\n",
              "        text-align: right;\n",
              "    }\n",
              "</style>\n",
              "<table border=\"1\" class=\"dataframe\">\n",
              "  <thead>\n",
              "    <tr style=\"text-align: right;\">\n",
              "      <th></th>\n",
              "      <th>temp</th>\n",
              "    </tr>\n",
              "    <tr>\n",
              "      <th>date</th>\n",
              "      <th></th>\n",
              "    </tr>\n",
              "  </thead>\n",
              "  <tbody>\n",
              "    <tr>\n",
              "      <th>2015-06-01</th>\n",
              "      <td>15.6</td>\n",
              "    </tr>\n",
              "    <tr>\n",
              "      <th>2015-06-02</th>\n",
              "      <td>17.2</td>\n",
              "    </tr>\n",
              "    <tr>\n",
              "      <th>2015-06-03</th>\n",
              "      <td>21.7</td>\n",
              "    </tr>\n",
              "    <tr>\n",
              "      <th>2015-06-04</th>\n",
              "      <td>25.0</td>\n",
              "    </tr>\n",
              "    <tr>\n",
              "      <th>2015-06-05</th>\n",
              "      <td>27.8</td>\n",
              "    </tr>\n",
              "  </tbody>\n",
              "</table>\n",
              "</div>\n",
              "      <button class=\"colab-df-convert\" onclick=\"convertToInteractive('df-56cb11ae-8325-4dbc-b90d-83bd2caf9f87')\"\n",
              "              title=\"Convert this dataframe to an interactive table.\"\n",
              "              style=\"display:none;\">\n",
              "        \n",
              "  <svg xmlns=\"http://www.w3.org/2000/svg\" height=\"24px\"viewBox=\"0 0 24 24\"\n",
              "       width=\"24px\">\n",
              "    <path d=\"M0 0h24v24H0V0z\" fill=\"none\"/>\n",
              "    <path d=\"M18.56 5.44l.94 2.06.94-2.06 2.06-.94-2.06-.94-.94-2.06-.94 2.06-2.06.94zm-11 1L8.5 8.5l.94-2.06 2.06-.94-2.06-.94L8.5 2.5l-.94 2.06-2.06.94zm10 10l.94 2.06.94-2.06 2.06-.94-2.06-.94-.94-2.06-.94 2.06-2.06.94z\"/><path d=\"M17.41 7.96l-1.37-1.37c-.4-.4-.92-.59-1.43-.59-.52 0-1.04.2-1.43.59L10.3 9.45l-7.72 7.72c-.78.78-.78 2.05 0 2.83L4 21.41c.39.39.9.59 1.41.59.51 0 1.02-.2 1.41-.59l7.78-7.78 2.81-2.81c.8-.78.8-2.07 0-2.86zM5.41 20L4 18.59l7.72-7.72 1.47 1.35L5.41 20z\"/>\n",
              "  </svg>\n",
              "      </button>\n",
              "      \n",
              "  <style>\n",
              "    .colab-df-container {\n",
              "      display:flex;\n",
              "      flex-wrap:wrap;\n",
              "      gap: 12px;\n",
              "    }\n",
              "\n",
              "    .colab-df-convert {\n",
              "      background-color: #E8F0FE;\n",
              "      border: none;\n",
              "      border-radius: 50%;\n",
              "      cursor: pointer;\n",
              "      display: none;\n",
              "      fill: #1967D2;\n",
              "      height: 32px;\n",
              "      padding: 0 0 0 0;\n",
              "      width: 32px;\n",
              "    }\n",
              "\n",
              "    .colab-df-convert:hover {\n",
              "      background-color: #E2EBFA;\n",
              "      box-shadow: 0px 1px 2px rgba(60, 64, 67, 0.3), 0px 1px 3px 1px rgba(60, 64, 67, 0.15);\n",
              "      fill: #174EA6;\n",
              "    }\n",
              "\n",
              "    [theme=dark] .colab-df-convert {\n",
              "      background-color: #3B4455;\n",
              "      fill: #D2E3FC;\n",
              "    }\n",
              "\n",
              "    [theme=dark] .colab-df-convert:hover {\n",
              "      background-color: #434B5C;\n",
              "      box-shadow: 0px 1px 3px 1px rgba(0, 0, 0, 0.15);\n",
              "      filter: drop-shadow(0px 1px 2px rgba(0, 0, 0, 0.3));\n",
              "      fill: #FFFFFF;\n",
              "    }\n",
              "  </style>\n",
              "\n",
              "      <script>\n",
              "        const buttonEl =\n",
              "          document.querySelector('#df-56cb11ae-8325-4dbc-b90d-83bd2caf9f87 button.colab-df-convert');\n",
              "        buttonEl.style.display =\n",
              "          google.colab.kernel.accessAllowed ? 'block' : 'none';\n",
              "\n",
              "        async function convertToInteractive(key) {\n",
              "          const element = document.querySelector('#df-56cb11ae-8325-4dbc-b90d-83bd2caf9f87');\n",
              "          const dataTable =\n",
              "            await google.colab.kernel.invokeFunction('convertToInteractive',\n",
              "                                                     [key], {});\n",
              "          if (!dataTable) return;\n",
              "\n",
              "          const docLinkHtml = 'Like what you see? Visit the ' +\n",
              "            '<a target=\"_blank\" href=https://colab.research.google.com/notebooks/data_table.ipynb>data table notebook</a>'\n",
              "            + ' to learn more about interactive tables.';\n",
              "          element.innerHTML = '';\n",
              "          dataTable['output_type'] = 'display_data';\n",
              "          await google.colab.output.renderOutput(dataTable, element);\n",
              "          const docLink = document.createElement('div');\n",
              "          docLink.innerHTML = docLinkHtml;\n",
              "          element.appendChild(docLink);\n",
              "        }\n",
              "      </script>\n",
              "    </div>\n",
              "  </div>\n",
              "  "
            ]
          },
          "metadata": {},
          "execution_count": 10
        }
      ],
      "source": [
        "X.head()"
      ]
    },
    {
      "cell_type": "code",
      "execution_count": 11,
      "metadata": {
        "id": "S2VWdSgmAsx-",
        "outputId": "42917439-07b3-430f-8f1b-47c792517d1e",
        "colab": {
          "base_uri": "https://localhost:8080/"
        }
      },
      "outputs": [
        {
          "output_type": "execute_result",
          "data": {
            "text/plain": [
              "date\n",
              "2015-06-01    1.640036\n",
              "2015-06-02    1.663211\n",
              "2015-06-03    1.728381\n",
              "2015-06-04    1.921615\n",
              "2015-06-05    2.153111\n",
              "Name: demand, dtype: float64"
            ]
          },
          "metadata": {},
          "execution_count": 11
        }
      ],
      "source": [
        "y.head()"
      ]
    },
    {
      "cell_type": "markdown",
      "metadata": {
        "id": "UNwPAYUoAsx-"
      },
      "source": [
        "- `X` e `y` possono essere passate quindi come argomenti al metodo `fit`"
      ]
    },
    {
      "cell_type": "code",
      "execution_count": 12,
      "metadata": {
        "id": "XIEGPgzgAsx_",
        "outputId": "c231124e-6765-4437-b720-cb9421d708ba",
        "colab": {
          "base_uri": "https://localhost:8080/"
        }
      },
      "outputs": [
        {
          "output_type": "execute_result",
          "data": {
            "text/plain": [
              "LinearRegression()"
            ]
          },
          "metadata": {},
          "execution_count": 12
        }
      ],
      "source": [
        "lrm.fit(X, y)"
      ]
    },
    {
      "cell_type": "markdown",
      "metadata": {
        "id": "Bp-wfKLLAsyA"
      },
      "source": [
        "- `lrm` è ora un modello addestrato e può essere utilizzato per effettuare predizioni"
      ]
    },
    {
      "cell_type": "markdown",
      "metadata": {
        "id": "SbTDN3IwAsyA"
      },
      "source": [
        "## Inferenza\n",
        "\n",
        "- Una volta che il modello è addestrato, possiamo ottenere predizioni col metodo `predict`\n",
        "  - va data in input una matrice o frame $m\\times n$ di osservazioni delle variabili indipendenti\n",
        "  - è restituito un vettore di $m$ valori della variabile dipendente previsti dal modello\n",
        "- Ad esempio, passiamo gli stessi dati usati per l'addestramento per vedere le predizioni del modello"
      ]
    },
    {
      "cell_type": "code",
      "execution_count": 13,
      "metadata": {
        "id": "cvfnc8qTAsyB"
      },
      "outputs": [],
      "source": [
        "preds = lrm.predict(X)"
      ]
    },
    {
      "cell_type": "markdown",
      "metadata": {
        "id": "QTu9k_xtAsyC"
      },
      "source": [
        "- Vediamo alcuni dei valori predetti"
      ]
    },
    {
      "cell_type": "code",
      "execution_count": 14,
      "metadata": {
        "id": "gL9saQDeAsyC",
        "outputId": "e39e4359-47bd-4bf4-dd61-e4f3a2925b03",
        "colab": {
          "base_uri": "https://localhost:8080/"
        }
      },
      "outputs": [
        {
          "output_type": "execute_result",
          "data": {
            "text/plain": [
              "array([1.1829682 , 1.31947545, 1.7034021 , 1.9849483 , 2.22383599])"
            ]
          },
          "metadata": {},
          "execution_count": 14
        }
      ],
      "source": [
        "preds[:5]"
      ]
    },
    {
      "cell_type": "markdown",
      "metadata": {
        "id": "6IIDTGVHAsyD"
      },
      "source": [
        "- `predict` restituisce **sempre** un array NumPy, per ottenere una serie pandas è necessario applicare manualmente le etichette\n",
        "  - si possono copiare quelle delle righe del frame dato in input"
      ]
    },
    {
      "cell_type": "code",
      "execution_count": 15,
      "metadata": {
        "id": "F8dPXheqAsyD"
      },
      "outputs": [],
      "source": [
        "preds = pd.Series(preds, index=power_summer.index)"
      ]
    },
    {
      "cell_type": "code",
      "execution_count": 16,
      "metadata": {
        "id": "5aAm00a3AsyD",
        "outputId": "a1a32fab-9520-452e-b579-ac593a2e5e4f",
        "colab": {
          "base_uri": "https://localhost:8080/"
        }
      },
      "outputs": [
        {
          "output_type": "execute_result",
          "data": {
            "text/plain": [
              "date\n",
              "2015-06-01    1.182968\n",
              "2015-06-02    1.319475\n",
              "2015-06-03    1.703402\n",
              "2015-06-04    1.984948\n",
              "2015-06-05    2.223836\n",
              "dtype: float64"
            ]
          },
          "metadata": {},
          "execution_count": 16
        }
      ],
      "source": [
        "preds.head()"
      ]
    },
    {
      "cell_type": "markdown",
      "metadata": {
        "id": "dp5r6XiaAsyE"
      },
      "source": [
        "## Parametri del modello\n",
        "\n",
        "- Una volta addestrato il modello possiamo consultarne i parametri tramite due attributi:\n",
        "  - `coef_` restituisce un array dei coefficienti angolari (uno solo nel caso univariato)\n",
        "  - `intercept_` restituisce il valore dell'intercetta"
      ]
    },
    {
      "cell_type": "code",
      "execution_count": 17,
      "metadata": {
        "id": "DO_tNkMBAsyE",
        "outputId": "3452e49b-139d-4b40-f2b4-b5fdbe2d898f",
        "colab": {
          "base_uri": "https://localhost:8080/"
        }
      },
      "outputs": [
        {
          "output_type": "execute_result",
          "data": {
            "text/plain": [
              "array([0.08531703])"
            ]
          },
          "metadata": {},
          "execution_count": 17
        }
      ],
      "source": [
        "lrm.coef_"
      ]
    },
    {
      "cell_type": "code",
      "execution_count": 18,
      "metadata": {
        "id": "joQnlaZkAsyF",
        "outputId": "cbe1b7bb-9c81-4ec1-ad3c-01f5d88cf57b",
        "colab": {
          "base_uri": "https://localhost:8080/"
        }
      },
      "outputs": [
        {
          "output_type": "execute_result",
          "data": {
            "text/plain": [
              "-0.14797750194929682"
            ]
          },
          "metadata": {},
          "execution_count": 18
        }
      ],
      "source": [
        "lrm.intercept_"
      ]
    },
    {
      "cell_type": "markdown",
      "metadata": {
        "id": "RDrSkh4IAsyG"
      },
      "source": [
        "- Questi sono i valori di $\\alpha$ e $\\beta$ nella formula del modello lineare univariato $h(x)=\\alpha\\cdot x+\\beta$\n",
        "- Il metodo `predict` su una matrice `X` in pratica effettua il seguente calcolo:"
      ]
    },
    {
      "cell_type": "code",
      "execution_count": 19,
      "metadata": {
        "id": "edXVBjSLAsyG"
      },
      "outputs": [],
      "source": [
        "preds = X.values @ lrm.coef_ + lrm.intercept_"
      ]
    },
    {
      "cell_type": "markdown",
      "metadata": {
        "id": "cPa4IPpBAsyG"
      },
      "source": [
        "## Misurare l'errore del modello\n",
        "\n",
        "- Per misurare l'errore che un modello $h(\\mathbf{x})$ compie su un set di dati abbiamo usato nello scorso laboratorio l'_errore quadratico medio_ (_mean squared error_, MSE)\n",
        "$$ \\mathrm{MSE} = \\frac{1}{m}\\sum_{i=1}^n\\left(h(\\mathbf{x}_i)-y_i\\right)^2 $$\n",
        "- Possiamo calcolarlo applicando la formula ai valori reali `y` e a quelli dati dal modello `preds`"
      ]
    },
    {
      "cell_type": "code",
      "execution_count": 20,
      "metadata": {
        "id": "rPiL6XadAsyH",
        "outputId": "0b74e25a-b767-4ad0-8c1f-ea03293940cf",
        "colab": {
          "base_uri": "https://localhost:8080/"
        }
      },
      "outputs": [
        {
          "output_type": "execute_result",
          "data": {
            "text/plain": [
              "0.022015530001979783"
            ]
          },
          "metadata": {},
          "execution_count": 20
        }
      ],
      "source": [
        "np.mean(np.square(preds - y))"
      ]
    },
    {
      "cell_type": "markdown",
      "metadata": {
        "id": "c3iBp7A8AsyI"
      },
      "source": [
        "- In alternativa, possiamo usare l'apposita funzione `mean_squared_error` fornita da scikit-learn nel modulo `metrics`"
      ]
    },
    {
      "cell_type": "code",
      "execution_count": 21,
      "metadata": {
        "id": "5EkwF4ZiAsyI"
      },
      "outputs": [],
      "source": [
        "from sklearn.metrics import mean_squared_error"
      ]
    },
    {
      "cell_type": "markdown",
      "metadata": {
        "id": "vCiZQ_2hAsyI"
      },
      "source": [
        "- Alla funzione vanno passati\n",
        "  - il vettore (o serie) dei valori reali della variabile dipendente\n",
        "  - il vettore dei corrispondenti valori predetti"
      ]
    },
    {
      "cell_type": "code",
      "execution_count": 22,
      "metadata": {
        "id": "vu70-JD0AsyJ",
        "outputId": "3af1ea6a-157f-4eb4-ede1-649989d787ba",
        "colab": {
          "base_uri": "https://localhost:8080/"
        }
      },
      "outputs": [
        {
          "output_type": "execute_result",
          "data": {
            "text/plain": [
              "0.022015530001979783"
            ]
          },
          "metadata": {},
          "execution_count": 22
        }
      ],
      "source": [
        "mean_squared_error(y, preds)"
      ]
    },
    {
      "cell_type": "markdown",
      "metadata": {
        "id": "GSZQ4fr5AsyJ"
      },
      "source": [
        "- L'errore è leggermente inferiore rispetto a quello ottenuto sopra con la discesa gradiente\n",
        "- scikit-learn calcola i parametri che minimizzano l'errore in modo analitico, per cui la soluzione sarà sempre migliore di (o uguale a) quella ottenuta con la discesa gradiente\n",
        "- La discesa gradiente torna però utile in problemi più complessi non risolvibili analiticamente, ad es. l'addestramento di reti neurali"
      ]
    },
    {
      "cell_type": "markdown",
      "metadata": {
        "id": "TLpxCgs_AsyK"
      },
      "source": [
        "### Errore relativo\n",
        "\n",
        "- Il MSE è utilizzato per confrontare diversi modelli addestrati sugli stessi dati\n",
        "  - si usa in particolare in fase di addestramento, in quanto è facile estrarne la derivata\n",
        "- Esistono però altre metriche di errore, più facilmente interpretabili\n",
        "- L'_errore relativo_ misura intuitivamente di quanto il modello si sbaglia in percentuale rispetto al valore reale\n",
        "$$ \\mathrm{errore} = \\frac{1}{m}\\sum_{i=1}^m\\left\\vert\\frac{h(\\mathbf{x}_i)-y_i}{y_i}\\right\\vert $$\n",
        "- Come esempio su un singolo caso, se il valore reale da predire è 2 GW, ad una stima di 2,2 GW corrisponde un errore relativo del 10\\%"
      ]
    },
    {
      "cell_type": "markdown",
      "metadata": {
        "id": "32ngu6j2AsyK"
      },
      "source": [
        "- Definiamo una funzione per il calcolo, compatibile con quella usata sopra per il MSE"
      ]
    },
    {
      "cell_type": "code",
      "execution_count": 23,
      "metadata": {
        "id": "fMfTXunKAsyK"
      },
      "outputs": [],
      "source": [
        "def relative_error(y_true, y_pred):\n",
        "    return np.mean(np.abs((y_true - y_pred) / y_true))"
      ]
    },
    {
      "cell_type": "markdown",
      "metadata": {
        "id": "ATHpl-atAsyL"
      },
      "source": [
        "- L'errore relativo del modello sopra è:"
      ]
    },
    {
      "cell_type": "code",
      "execution_count": 24,
      "metadata": {
        "id": "TPG_PjKgAsyL",
        "outputId": "85ebb6e4-5f80-475c-847d-9bf5064d14f1",
        "colab": {
          "base_uri": "https://localhost:8080/"
        }
      },
      "outputs": [
        {
          "output_type": "execute_result",
          "data": {
            "text/plain": [
              "0.0568209502755219"
            ]
          },
          "metadata": {},
          "execution_count": 24
        }
      ],
      "source": [
        "relative_error(y, preds)"
      ]
    },
    {
      "cell_type": "markdown",
      "metadata": {
        "id": "j_YD0zdhAsyM"
      },
      "source": [
        "- Ovvero, le predizioni del modello hanno un errore medio del 5,68\\% rispetto al valore reale"
      ]
    },
    {
      "cell_type": "markdown",
      "metadata": {
        "id": "XIwJPPp1AsyM"
      },
      "source": [
        "### Coefficiente di determinazione\n",
        "\n",
        "- Il _coefficiente di determinazione_ $R^2$ è una misura che esprime intuitivamente quanto il modello catturi la variabilità presente nei dati ($\\bar{y}$ = media di $Y$)\n",
        "$$ R^2 = \\frac{\\sum_{i=1}^m{\\left(y_i-\\hat{y}_i\\right)^2}}{\\sum_{i=1}^m{\\left(y_i-\\bar{y}\\right)^2}} $$\n",
        "- Il coefficiente $R^2$ è compreso tra 1 (il modello descrive perfettamente i dati) e 0 (nessuna relazione tra modello e dati)\n",
        "- Questa metrica si può calcolare con la funzione `r2_score` del modulo `metrics` citato sopra"
      ]
    },
    {
      "cell_type": "code",
      "execution_count": 25,
      "metadata": {
        "id": "rEnhNBCBAsyM",
        "outputId": "45249a46-5409-4541-ee76-167adff24d33",
        "colab": {
          "base_uri": "https://localhost:8080/"
        }
      },
      "outputs": [
        {
          "output_type": "execute_result",
          "data": {
            "text/plain": [
              "0.7674218758655924"
            ]
          },
          "metadata": {},
          "execution_count": 25
        }
      ],
      "source": [
        "from sklearn.metrics import r2_score\n",
        "r2_score(y, preds)"
      ]
    },
    {
      "cell_type": "markdown",
      "metadata": {
        "id": "nnWAoqCaAsyN"
      },
      "source": [
        "- Essendo la metrica di default per i modelli di regressione, si può anche usare il metodo `score` del modello passando le osservazioni delle variabili indipendenti e dipendente su cui calcolarla\n",
        "  - le predizioni non sono passate, vengono calcolate da `score` usando `X`"
      ]
    },
    {
      "cell_type": "code",
      "execution_count": 26,
      "metadata": {
        "id": "hVPWNPKyAsyN",
        "outputId": "8ec4b501-11e0-4636-e572-df16c959153f",
        "colab": {
          "base_uri": "https://localhost:8080/"
        }
      },
      "outputs": [
        {
          "output_type": "execute_result",
          "data": {
            "text/plain": [
              "0.7674218758655924"
            ]
          },
          "metadata": {},
          "execution_count": 26
        }
      ],
      "source": [
        "lrm.score(X, y)"
      ]
    },
    {
      "cell_type": "markdown",
      "metadata": {
        "id": "B-16byEKAsyN"
      },
      "source": [
        "- Per comodità, creiamo una funzione che calcoli e stampi tutte e tre le metriche su dati e modello forniti\n",
        "  - `{x:.5}` indica di stampare il valore `x` con 5 cifre decimali, con `%` lo si stampa in forma percentuale"
      ]
    },
    {
      "cell_type": "code",
      "execution_count": 27,
      "metadata": {
        "id": "BTFl7wqNAsyO"
      },
      "outputs": [],
      "source": [
        "def print_eval(X, y, model):\n",
        "    preds = model.predict(X)\n",
        "    mse = mean_squared_error(y, preds)\n",
        "    re = relative_error(y, preds)\n",
        "    r2 = r2_score(y, preds)\n",
        "    print(f\"   Mean squared error: {mse:.5}\")\n",
        "    print(f\"       Relative error: {re:.5%}\")\n",
        "    print(f\"R-squared coefficient: {r2:.5}\")"
      ]
    },
    {
      "cell_type": "markdown",
      "metadata": {
        "id": "ti5srMSDAsyO"
      },
      "source": [
        "- Testiamola sul modello sopra"
      ]
    },
    {
      "cell_type": "code",
      "execution_count": 28,
      "metadata": {
        "id": "HWBGFlFWAsyO",
        "outputId": "405814ff-9bbf-411a-f5e8-0a89b0f46475",
        "colab": {
          "base_uri": "https://localhost:8080/"
        }
      },
      "outputs": [
        {
          "output_type": "stream",
          "name": "stdout",
          "text": [
            "   Mean squared error: 0.022016\n",
            "       Relative error: 5.68210%\n",
            "R-squared coefficient: 0.76742\n"
          ]
        }
      ],
      "source": [
        "print_eval(power_summer[[\"temp\"]], power_summer[\"demand\"], lrm)"
      ]
    },
    {
      "cell_type": "markdown",
      "metadata": {
        "id": "ro-Qr0aXAsyP"
      },
      "source": [
        "## Visualizzazione del modello\n",
        "\n",
        "- Definiamo una funzione che, dato un modello basato su una variabile indipendente, mostri la funzione descritta dal modello sovrapposta ai dati\n",
        "  - la funzione è quella usata nella scorsa esercitazione, adattata per usare modelli di scikit-learn (chiamando il metodo `predict`) piuttosto che funzioni generiche"
      ]
    },
    {
      "cell_type": "code",
      "execution_count": 29,
      "metadata": {
        "id": "EXiGokU1AsyQ"
      },
      "outputs": [],
      "source": [
        "def plot_model_on_data(X, y, model=None):\n",
        "    plt.figure(figsize=(10, 7))\n",
        "    plt.scatter(X, y)\n",
        "    if model is not None:\n",
        "        xlim, ylim = plt.xlim(), plt.ylim()\n",
        "        line_x = np.linspace(xlim[0], xlim[1], 100)\n",
        "        line_y = model.predict(line_x[:, None])\n",
        "        plt.plot(line_x, line_y, c=\"red\", lw=3)\n",
        "        plt.xlim(xlim); plt.ylim(ylim)\n",
        "    plt.grid()\n",
        "    plt.xlabel(\"Temperatura (°C)\"); plt.ylabel(\"Consumi (GW)\")"
      ]
    },
    {
      "cell_type": "markdown",
      "metadata": {
        "id": "wMdG0EUZAsyQ"
      },
      "source": [
        "- Usiamo la funzione per visualizzare il modello sovrapposto ai dati su cui è stato addestrato\n",
        "  - il warning indica che abbiamo passato al modello un array senza nomi alle colonne invece di un DataFrame, possiamo ignorarlo"
      ]
    },
    {
      "cell_type": "code",
      "execution_count": 30,
      "metadata": {
        "id": "3XPLVLryAsyQ",
        "outputId": "f7c7080d-f6d6-45e9-ecb6-5020b3201345",
        "colab": {
          "base_uri": "https://localhost:8080/",
          "height": 0
        }
      },
      "outputs": [
        {
          "output_type": "stream",
          "name": "stderr",
          "text": [
            "/usr/local/lib/python3.8/dist-packages/sklearn/base.py:450: UserWarning: X does not have valid feature names, but LinearRegression was fitted with feature names\n",
            "  warnings.warn(\n"
          ]
        },
        {
          "output_type": "display_data",
          "data": {
            "text/plain": [
              "<Figure size 720x504 with 1 Axes>"
            ],
            "image/png": "[encoded data removed]"
          },
          "metadata": {
            "needs_background": "light"
          }
        }
      ],
      "source": [
        "plot_model_on_data(X, y, lrm)"
      ]
    },
    {
      "cell_type": "markdown",
      "metadata": {
        "id": "jC-zCDy7AsyR"
      },
      "source": [
        "- Il grafico mostra come il modello lineare sia efficace nell'approssimare la distribuzione dei dati"
      ]
    },
    {
      "cell_type": "markdown",
      "metadata": {
        "id": "6uQ1J6tSAsyS"
      },
      "source": [
        "## Iperparametri del modello\n",
        "\n",
        "- Quando un modello di regressione viene addestrato, vengono individuati i valori ottimali dei suoi _parametri_\n",
        "  - nel caso della regressione lineare, i parametri sono i _coefficienti angolari_ (uno solo nel caso univariato) e l'_intercetta_\n",
        "- In alcuni casi, il processo di addestramento stesso ha a sua volta dei parametri che possono essere impostati, detti **_iperparametri_**\n",
        "- Ogni classe di modello di scikit-learn ha diversi iperparametri che possono essere impostati nel momento in cui si istanzia l'oggetto\n",
        "- Ad esempio `LinearRegression` ha per iperparametro `fit_intercept`, un flag che indica se calcolare un valore per l'intercetta\n",
        "  - se `True` (default), nell'addestramento si individua un valore ottimale per l'intercetta\n",
        "  - se `False`, il valore dell'intercetta viene fissato a 0\n",
        "- Proviamo ad esempio ad addestrare un modello con `fit_intercept=False`, specificando tale opzione alla creazione dell'oggetto `LinearRegression`"
      ]
    },
    {
      "cell_type": "code",
      "execution_count": 31,
      "metadata": {
        "id": "wXq8gnaIAsyT"
      },
      "outputs": [],
      "source": [
        "# ni = null intercept\n",
        "lrm_ni = LinearRegression(fit_intercept=False)"
      ]
    },
    {
      "cell_type": "markdown",
      "metadata": {
        "id": "_gcPUozWAsyT"
      },
      "source": [
        "- Come sopra, utilizziamo il metodo `fit` per addestrare il modello"
      ]
    },
    {
      "cell_type": "code",
      "execution_count": 32,
      "metadata": {
        "id": "ZE_sD-aIAsyU",
        "outputId": "452a51d2-f8ab-44c4-d7ac-f9b7c22d0e4e",
        "colab": {
          "base_uri": "https://localhost:8080/"
        }
      },
      "outputs": [
        {
          "output_type": "execute_result",
          "data": {
            "text/plain": [
              "LinearRegression(fit_intercept=False)"
            ]
          },
          "metadata": {},
          "execution_count": 32
        }
      ],
      "source": [
        "lrm_ni.fit(X, y)"
      ]
    },
    {
      "cell_type": "markdown",
      "metadata": {
        "id": "mBxmThYhAsyU"
      },
      "source": [
        "- Stampando i parametri del modello vediamo che l'intercetta è 0"
      ]
    },
    {
      "cell_type": "code",
      "execution_count": 33,
      "metadata": {
        "id": "r9OVBq-fAsyV",
        "outputId": "fca8d5bf-7842-473f-e7f9-c06a1306eea8",
        "colab": {
          "base_uri": "https://localhost:8080/"
        }
      },
      "outputs": [
        {
          "output_type": "execute_result",
          "data": {
            "text/plain": [
              "array([0.079975])"
            ]
          },
          "metadata": {},
          "execution_count": 33
        }
      ],
      "source": [
        "lrm_ni.coef_"
      ]
    },
    {
      "cell_type": "code",
      "execution_count": 34,
      "metadata": {
        "id": "sugzIQXCAsyW",
        "outputId": "a0f86a5b-036b-4b4a-9732-c746bac7395b",
        "colab": {
          "base_uri": "https://localhost:8080/"
        }
      },
      "outputs": [
        {
          "output_type": "execute_result",
          "data": {
            "text/plain": [
              "0.0"
            ]
          },
          "metadata": {},
          "execution_count": 34
        }
      ],
      "source": [
        "lrm_ni.intercept_"
      ]
    },
    {
      "cell_type": "markdown",
      "metadata": {
        "id": "eChasYgOAsyW"
      },
      "source": [
        "- Calcoliamo le misure di accuratezza viste sopra (MSE, errore relativo, R²) usando la funzione `print_eval` che abbiamo definito"
      ]
    },
    {
      "cell_type": "code",
      "execution_count": 35,
      "metadata": {
        "id": "dbu9W2dDAsyX",
        "outputId": "a82fe9a5-4d9a-42cb-ea62-ec9becee4342",
        "colab": {
          "base_uri": "https://localhost:8080/"
        }
      },
      "outputs": [
        {
          "output_type": "stream",
          "name": "stdout",
          "text": [
            "   Mean squared error: 0.022304\n",
            "       Relative error: 5.72964%\n",
            "R-squared coefficient: 0.76437\n"
          ]
        }
      ],
      "source": [
        "print_eval(X, y, lrm_ni)"
      ]
    },
    {
      "cell_type": "markdown",
      "metadata": {
        "id": "cV8XdqRwAsyX"
      },
      "source": [
        "- Il modello è leggermente meno accurato di quello con iperparametri default (`fit_intercept=True`), perché è stato rimosso un grado di libertà sull'addestramento\n",
        "- Creiamo un grafico personalizzato per confrontare i due modelli, si nota che il modello senza intercetta passa per (0, 0)\n",
        "  - usiamo la funzione `legend` di matplotlib per assegnare un'etichetta a ciascun elemento inserito nel grafico in ordine e visualizzare una legenda"
      ]
    },
    {
      "cell_type": "code",
      "execution_count": 36,
      "metadata": {
        "id": "8ziRmBX0AsyX",
        "outputId": "9c8b9c1a-3d66-451b-b45a-39686932530c",
        "colab": {
          "base_uri": "https://localhost:8080/",
          "height": 0
        }
      },
      "outputs": [
        {
          "output_type": "stream",
          "name": "stderr",
          "text": [
            "/usr/local/lib/python3.8/dist-packages/sklearn/base.py:450: UserWarning: X does not have valid feature names, but LinearRegression was fitted with feature names\n",
            "  warnings.warn(\n",
            "/usr/local/lib/python3.8/dist-packages/sklearn/base.py:450: UserWarning: X does not have valid feature names, but LinearRegression was fitted with feature names\n",
            "  warnings.warn(\n"
          ]
        },
        {
          "output_type": "display_data",
          "data": {
            "text/plain": [
              "<Figure size 864x576 with 1 Axes>"
            ],
            "image/png": "[encoded data removed]"
          },
          "metadata": {
            "needs_background": "light"
          }
        }
      ],
      "source": [
        "plt.figure(figsize=(12, 8))\n",
        "plt.scatter(X, y)\n",
        "plt.scatter(0, 0, s=100, c=\"red\")\n",
        "line_x = np.linspace(-2, 32, 100)\n",
        "line_y = lrm.predict(line_x[:, None])\n",
        "plt.plot(line_x, line_y, c=\"green\", lw=2)\n",
        "line_y0 = lrm_ni.predict(line_x[:, None])\n",
        "plt.plot(line_x, line_y0, c=\"red\", lw=2)\n",
        "plt.legend([\"Dati\", \"Origine\", \"Modello con intercetta\", \"Modello senza intercetta\"])\n",
        "plt.xlim((-2, 32))\n",
        "plt.ylim((-0.2, 2.8))\n",
        "plt.grid()\n",
        "plt.xlabel(\"Temperatura (°C)\")\n",
        "plt.ylabel(\"Consumi (GW)\");"
      ]
    },
    {
      "cell_type": "markdown",
      "metadata": {
        "id": "rQ0yZ-WQAsyY"
      },
      "source": [
        "## Divisione tra training e validation set\n",
        "\n",
        "- Abbiamo visto come addestrare un modello di predizione su un set di dati e validarlo calcolandone diverse metriche **basandosi sugli stessi dati**\n",
        "- Per verificare se un modello generalizza correttamente i dati su cui è addestrato, è importante **validarlo su dati diversi**\n",
        "- Il metodo _hold-out_ prevede di dividere i dati a disposizione in\n",
        "  - un _training set_ su cui addestrare il modello\n",
        "  - un _validation set_ su cui calcolare le metriche di accuratezza del modello addestrato\n",
        "- La proporzione tra training e validation set è arbitraria, possono essere ad es. 50-50 e 66-33"
      ]
    },
    {
      "cell_type": "markdown",
      "metadata": {
        "id": "Dxd4obQcAsyY"
      },
      "source": [
        "- Avendo dati in ordine cronologico, è comune utilizzare quelli più antecedenti come training set e quelli più recenti come validation\n",
        "- In questo caso scegliamo di utilizzare i dati del 2015 come training set e quelli del 2016 e 2017 come validation set\n",
        "- Definiamo un array booleano che indichi quali dati fanno parte del training set..."
      ]
    },
    {
      "cell_type": "code",
      "execution_count": 37,
      "metadata": {
        "id": "I1R_2Vf0AsyZ"
      },
      "outputs": [],
      "source": [
        "is_train = power_summer.index.year < 2016"
      ]
    },
    {
      "cell_type": "markdown",
      "metadata": {
        "id": "GZUfLFLUAsyZ"
      },
      "source": [
        "- ...e lo usiamo per selezionare i dati del training e del validation set\n",
        "  - l'operatore `~` esegue il NOT elemento per elemento"
      ]
    },
    {
      "cell_type": "code",
      "execution_count": 38,
      "metadata": {
        "id": "hUQpIx60AsyZ"
      },
      "outputs": [],
      "source": [
        "summer_train = power_summer.loc[is_train]\n",
        "summer_val = power_summer.loc[~is_train]"
      ]
    },
    {
      "cell_type": "markdown",
      "metadata": {
        "id": "c_9ZwsfUAsya"
      },
      "source": [
        "## Esercizio 1: Addestramento e validazione modello\n",
        "\n",
        "- **(1a)** Estrarre esplicitamente il DataFrame della variabila indipendente (`temp`) e la serie della variabile dipendente (`demand`) dai due DataFrame `summer_train` e `summer_val`\n",
        "- **(1b)** Creare ed addestrare un modello di regressione lineare sul training set `summer_train`\n",
        "- **(1c)** Stampare le metriche di valutazione viste (MSE, errore relativo, R²) calcolate sullo stesso set\n",
        "- **(1d)** Stampare le stesse metriche calcolate sul validation set `summer_val`\n",
        "- **(1e)** Mostrare il grafico del modello sovrapposto al training set\n",
        "- **(1f)** Mostrare il grafico del modello sovrapposto al validation set"
      ]
    },
    {
      "cell_type": "code",
      "execution_count": 39,
      "metadata": {
        "id": "S3cEralXAsya"
      },
      "outputs": [],
      "source": [
        "summer_X_train = summer_train[[\"temp\"]]\n",
        "summer_y_train = summer_train[\"demand\"]\n",
        "summer_X_val = summer_val[[\"temp\"]]\n",
        "summer_y_val = summer_val[\"demand\"]"
      ]
    },
    {
      "cell_type": "code",
      "execution_count": 40,
      "metadata": {
        "id": "ihMKde_NAsya",
        "outputId": "c7e8087a-37d5-4ed0-a25f-321aa5dbdfac",
        "colab": {
          "base_uri": "https://localhost:8080/"
        }
      },
      "outputs": [
        {
          "output_type": "execute_result",
          "data": {
            "text/plain": [
              "LinearRegression()"
            ]
          },
          "metadata": {},
          "execution_count": 40
        }
      ],
      "source": [
        "lrm = LinearRegression()\n",
        "lrm.fit(summer_X_train, summer_y_train)"
      ]
    },
    {
      "cell_type": "code",
      "source": [
        "print_eval(summer_X_train, summer_y_train, lrm)"
      ],
      "metadata": {
        "id": "0CtMBkb8IjF-",
        "outputId": "1b70da6d-618c-46c8-f6df-52292075714e",
        "colab": {
          "base_uri": "https://localhost:8080/"
        }
      },
      "execution_count": 41,
      "outputs": [
        {
          "output_type": "stream",
          "name": "stdout",
          "text": [
            "   Mean squared error: 0.020751\n",
            "       Relative error: 5.56288%\n",
            "R-squared coefficient: 0.74349\n"
          ]
        }
      ]
    },
    {
      "cell_type": "code",
      "source": [
        "print_eval(summer_X_val, summer_y_val, lrm)"
      ],
      "metadata": {
        "id": "bBDEs2dUIuox",
        "outputId": "ad67b73b-36b7-4ebe-fba7-f00a34990107",
        "colab": {
          "base_uri": "https://localhost:8080/"
        }
      },
      "execution_count": 42,
      "outputs": [
        {
          "output_type": "stream",
          "name": "stdout",
          "text": [
            "   Mean squared error: 0.026476\n",
            "       Relative error: 6.33932%\n",
            "R-squared coefficient: 0.73925\n"
          ]
        }
      ]
    },
    {
      "cell_type": "code",
      "source": [
        "plot_model_on_data(summer_X_train, summer_y_train, lrm)"
      ],
      "metadata": {
        "id": "tmGmD58aI1ra",
        "outputId": "77957289-f4ca-498b-e8ba-420fd475df1e",
        "colab": {
          "base_uri": "https://localhost:8080/",
          "height": 0
        }
      },
      "execution_count": 43,
      "outputs": [
        {
          "output_type": "stream",
          "name": "stderr",
          "text": [
            "/usr/local/lib/python3.8/dist-packages/sklearn/base.py:450: UserWarning: X does not have valid feature names, but LinearRegression was fitted with feature names\n",
            "  warnings.warn(\n"
          ]
        },
        {
          "output_type": "display_data",
          "data": {
            "text/plain": [
              "<Figure size 720x504 with 1 Axes>"
            ],
            "image/png": "[encoded data removed]"
          },
          "metadata": {
            "needs_background": "light"
          }
        }
      ]
    },
    {
      "cell_type": "code",
      "source": [
        "plot_model_on_data(summer_X_val, summer_y_val, lrm)"
      ],
      "metadata": {
        "id": "UKr2Z-jTI8ZA",
        "outputId": "4fec3b64-0e04-4c67-b876-6e326699fe82",
        "colab": {
          "base_uri": "https://localhost:8080/",
          "height": 0
        }
      },
      "execution_count": 44,
      "outputs": [
        {
          "output_type": "stream",
          "name": "stderr",
          "text": [
            "/usr/local/lib/python3.8/dist-packages/sklearn/base.py:450: UserWarning: X does not have valid feature names, but LinearRegression was fitted with feature names\n",
            "  warnings.warn(\n"
          ]
        },
        {
          "output_type": "display_data",
          "data": {
            "text/plain": [
              "<Figure size 720x504 with 1 Axes>"
            ],
            "image/png": "[encoded data removed]"
          },
          "metadata": {
            "needs_background": "light"
          }
        }
      ]
    },
    {
      "cell_type": "markdown",
      "metadata": {
        "id": "ou0U4LrUAsyb"
      },
      "source": [
        "## Caso di studio 2: predizione dei prezzi delle case\n",
        "\n",
        "- Riprendiamo dalla scorsa esercitazione il dataset relativo ai prezzi delle case\n",
        "  - sono fornite informazioni (tasso criminalità, inquinamento, demografia, ...) su diversi quartieri\n",
        "  - in base a queste va stimato per ciascuno il prezzo mediano delle abitazioni (`MEDV`)\n",
        "- Forniamo tale dataset già adattato per essere caricato con `read_csv` con le opzioni di default"
      ]
    },
    {
      "cell_type": "code",
      "execution_count": 45,
      "metadata": {
        "id": "OAPMqJ7sAsyb"
      },
      "outputs": [],
      "source": [
        "import os.path\n",
        "if not os.path.exists(\"housing.csv\"):\n",
        "    from urllib.request import urlretrieve\n",
        "    urlretrieve(\"https://git.io/fjGjx\", \"housing.csv\")"
      ]
    },
    {
      "cell_type": "code",
      "execution_count": 46,
      "metadata": {
        "id": "t5kkdoXSAsyb"
      },
      "outputs": [],
      "source": [
        "housing = pd.read_csv(\"housing.csv\")"
      ]
    },
    {
      "cell_type": "code",
      "execution_count": 47,
      "metadata": {
        "id": "QrONBH8OAsyc",
        "outputId": "cb351d4d-2e7e-4e13-af0a-69d2bb808899",
        "colab": {
          "base_uri": "https://localhost:8080/",
          "height": 0
        }
      },
      "outputs": [
        {
          "output_type": "execute_result",
          "data": {
            "text/plain": [
              "      CRIM    ZN  INDUS  CHAS    NOX     RM    AGE     DIS  RAD    TAX  \\\n",
              "0  0.00632  18.0   2.31     0  0.538  6.575   65.2  4.0900    1  296.0   \n",
              "1  0.02731   0.0   7.07     0  0.469  6.421   78.9  4.9671    2  242.0   \n",
              "2  0.02729   0.0   7.07     0  0.469  7.185   61.1  4.9671    2  242.0   \n",
              "3  0.03237   0.0   2.18     0  0.458  6.998   45.8  6.0622    3  222.0   \n",
              "4  0.06905   0.0   2.18     0  0.458  7.147   54.2  6.0622    3  222.0   \n",
              "5  0.02985   0.0   2.18     0  0.458  6.430   58.7  6.0622    3  222.0   \n",
              "6  0.08829  12.5   7.87     0  0.524  6.012   66.6  5.5605    5  311.0   \n",
              "7  0.14455  12.5   7.87     0  0.524  6.172   96.1  5.9505    5  311.0   \n",
              "8  0.21124  12.5   7.87     0  0.524  5.631  100.0  6.0821    5  311.0   \n",
              "9  0.17004  12.5   7.87     0  0.524  6.004   85.9  6.5921    5  311.0   \n",
              "\n",
              "   PTRATIO       B  LSTAT  MEDV  \n",
              "0     15.3  396.90   4.98  24.0  \n",
              "1     17.8  396.90   9.14  21.6  \n",
              "2     17.8  392.83   4.03  34.7  \n",
              "3     18.7  394.63   2.94  33.4  \n",
              "4     18.7  396.90   5.33  36.2  \n",
              "5     18.7  394.12   5.21  28.7  \n",
              "6     15.2  395.60  12.43  22.9  \n",
              "7     15.2  396.90  19.15  27.1  \n",
              "8     15.2  386.63  29.93  16.5  \n",
              "9     15.2  386.71  17.10  18.9  "
            ],
            "text/html": [
              "\n",
              "  <div id=\"df-2bb60a3f-9e95-4fa8-9656-a2a393a452eb\">\n",
              "    <div class=\"colab-df-container\">\n",
              "      <div>\n",
              "<style scoped>\n",
              "    .dataframe tbody tr th:only-of-type {\n",
              "        vertical-align: middle;\n",
              "    }\n",
              "\n",
              "    .dataframe tbody tr th {\n",
              "        vertical-align: top;\n",
              "    }\n",
              "\n",
              "    .dataframe thead th {\n",
              "        text-align: right;\n",
              "    }\n",
              "</style>\n",
              "<table border=\"1\" class=\"dataframe\">\n",
              "  <thead>\n",
              "    <tr style=\"text-align: right;\">\n",
              "      <th></th>\n",
              "      <th>CRIM</th>\n",
              "      <th>ZN</th>\n",
              "      <th>INDUS</th>\n",
              "      <th>CHAS</th>\n",
              "      <th>NOX</th>\n",
              "      <th>RM</th>\n",
              "      <th>AGE</th>\n",
              "      <th>DIS</th>\n",
              "      <th>RAD</th>\n",
              "      <th>TAX</th>\n",
              "      <th>PTRATIO</th>\n",
              "      <th>B</th>\n",
              "      <th>LSTAT</th>\n",
              "      <th>MEDV</th>\n",
              "    </tr>\n",
              "  </thead>\n",
              "  <tbody>\n",
              "    <tr>\n",
              "      <th>0</th>\n",
              "      <td>0.00632</td>\n",
              "      <td>18.0</td>\n",
              "      <td>2.31</td>\n",
              "      <td>0</td>\n",
              "      <td>0.538</td>\n",
              "      <td>6.575</td>\n",
              "      <td>65.2</td>\n",
              "      <td>4.0900</td>\n",
              "      <td>1</td>\n",
              "      <td>296.0</td>\n",
              "      <td>15.3</td>\n",
              "      <td>396.90</td>\n",
              "      <td>4.98</td>\n",
              "      <td>24.0</td>\n",
              "    </tr>\n",
              "    <tr>\n",
              "      <th>1</th>\n",
              "      <td>0.02731</td>\n",
              "      <td>0.0</td>\n",
              "      <td>7.07</td>\n",
              "      <td>0</td>\n",
              "      <td>0.469</td>\n",
              "      <td>6.421</td>\n",
              "      <td>78.9</td>\n",
              "      <td>4.9671</td>\n",
              "      <td>2</td>\n",
              "      <td>242.0</td>\n",
              "      <td>17.8</td>\n",
              "      <td>396.90</td>\n",
              "      <td>9.14</td>\n",
              "      <td>21.6</td>\n",
              "    </tr>\n",
              "    <tr>\n",
              "      <th>2</th>\n",
              "      <td>0.02729</td>\n",
              "      <td>0.0</td>\n",
              "      <td>7.07</td>\n",
              "      <td>0</td>\n",
              "      <td>0.469</td>\n",
              "      <td>7.185</td>\n",
              "      <td>61.1</td>\n",
              "      <td>4.9671</td>\n",
              "      <td>2</td>\n",
              "      <td>242.0</td>\n",
              "      <td>17.8</td>\n",
              "      <td>392.83</td>\n",
              "      <td>4.03</td>\n",
              "      <td>34.7</td>\n",
              "    </tr>\n",
              "    <tr>\n",
              "      <th>3</th>\n",
              "      <td>0.03237</td>\n",
              "      <td>0.0</td>\n",
              "      <td>2.18</td>\n",
              "      <td>0</td>\n",
              "      <td>0.458</td>\n",
              "      <td>6.998</td>\n",
              "      <td>45.8</td>\n",
              "      <td>6.0622</td>\n",
              "      <td>3</td>\n",
              "      <td>222.0</td>\n",
              "      <td>18.7</td>\n",
              "      <td>394.63</td>\n",
              "      <td>2.94</td>\n",
              "      <td>33.4</td>\n",
              "    </tr>\n",
              "    <tr>\n",
              "      <th>4</th>\n",
              "      <td>0.06905</td>\n",
              "      <td>0.0</td>\n",
              "      <td>2.18</td>\n",
              "      <td>0</td>\n",
              "      <td>0.458</td>\n",
              "      <td>7.147</td>\n",
              "      <td>54.2</td>\n",
              "      <td>6.0622</td>\n",
              "      <td>3</td>\n",
              "      <td>222.0</td>\n",
              "      <td>18.7</td>\n",
              "      <td>396.90</td>\n",
              "      <td>5.33</td>\n",
              "      <td>36.2</td>\n",
              "    </tr>\n",
              "    <tr>\n",
              "      <th>5</th>\n",
              "      <td>0.02985</td>\n",
              "      <td>0.0</td>\n",
              "      <td>2.18</td>\n",
              "      <td>0</td>\n",
              "      <td>0.458</td>\n",
              "      <td>6.430</td>\n",
              "      <td>58.7</td>\n",
              "      <td>6.0622</td>\n",
              "      <td>3</td>\n",
              "      <td>222.0</td>\n",
              "      <td>18.7</td>\n",
              "      <td>394.12</td>\n",
              "      <td>5.21</td>\n",
              "      <td>28.7</td>\n",
              "    </tr>\n",
              "    <tr>\n",
              "      <th>6</th>\n",
              "      <td>0.08829</td>\n",
              "      <td>12.5</td>\n",
              "      <td>7.87</td>\n",
              "      <td>0</td>\n",
              "      <td>0.524</td>\n",
              "      <td>6.012</td>\n",
              "      <td>66.6</td>\n",
              "      <td>5.5605</td>\n",
              "      <td>5</td>\n",
              "      <td>311.0</td>\n",
              "      <td>15.2</td>\n",
              "      <td>395.60</td>\n",
              "      <td>12.43</td>\n",
              "      <td>22.9</td>\n",
              "    </tr>\n",
              "    <tr>\n",
              "      <th>7</th>\n",
              "      <td>0.14455</td>\n",
              "      <td>12.5</td>\n",
              "      <td>7.87</td>\n",
              "      <td>0</td>\n",
              "      <td>0.524</td>\n",
              "      <td>6.172</td>\n",
              "      <td>96.1</td>\n",
              "      <td>5.9505</td>\n",
              "      <td>5</td>\n",
              "      <td>311.0</td>\n",
              "      <td>15.2</td>\n",
              "      <td>396.90</td>\n",
              "      <td>19.15</td>\n",
              "      <td>27.1</td>\n",
              "    </tr>\n",
              "    <tr>\n",
              "      <th>8</th>\n",
              "      <td>0.21124</td>\n",
              "      <td>12.5</td>\n",
              "      <td>7.87</td>\n",
              "      <td>0</td>\n",
              "      <td>0.524</td>\n",
              "      <td>5.631</td>\n",
              "      <td>100.0</td>\n",
              "      <td>6.0821</td>\n",
              "      <td>5</td>\n",
              "      <td>311.0</td>\n",
              "      <td>15.2</td>\n",
              "      <td>386.63</td>\n",
              "      <td>29.93</td>\n",
              "      <td>16.5</td>\n",
              "    </tr>\n",
              "    <tr>\n",
              "      <th>9</th>\n",
              "      <td>0.17004</td>\n",
              "      <td>12.5</td>\n",
              "      <td>7.87</td>\n",
              "      <td>0</td>\n",
              "      <td>0.524</td>\n",
              "      <td>6.004</td>\n",
              "      <td>85.9</td>\n",
              "      <td>6.5921</td>\n",
              "      <td>5</td>\n",
              "      <td>311.0</td>\n",
              "      <td>15.2</td>\n",
              "      <td>386.71</td>\n",
              "      <td>17.10</td>\n",
              "      <td>18.9</td>\n",
              "    </tr>\n",
              "  </tbody>\n",
              "</table>\n",
              "</div>\n",
              "      <button class=\"colab-df-convert\" onclick=\"convertToInteractive('df-2bb60a3f-9e95-4fa8-9656-a2a393a452eb')\"\n",
              "              title=\"Convert this dataframe to an interactive table.\"\n",
              "              style=\"display:none;\">\n",
              "        \n",
              "  <svg xmlns=\"http://www.w3.org/2000/svg\" height=\"24px\"viewBox=\"0 0 24 24\"\n",
              "       width=\"24px\">\n",
              "    <path d=\"M0 0h24v24H0V0z\" fill=\"none\"/>\n",
              "    <path d=\"M18.56 5.44l.94 2.06.94-2.06 2.06-.94-2.06-.94-.94-2.06-.94 2.06-2.06.94zm-11 1L8.5 8.5l.94-2.06 2.06-.94-2.06-.94L8.5 2.5l-.94 2.06-2.06.94zm10 10l.94 2.06.94-2.06 2.06-.94-2.06-.94-.94-2.06-.94 2.06-2.06.94z\"/><path d=\"M17.41 7.96l-1.37-1.37c-.4-.4-.92-.59-1.43-.59-.52 0-1.04.2-1.43.59L10.3 9.45l-7.72 7.72c-.78.78-.78 2.05 0 2.83L4 21.41c.39.39.9.59 1.41.59.51 0 1.02-.2 1.41-.59l7.78-7.78 2.81-2.81c.8-.78.8-2.07 0-2.86zM5.41 20L4 18.59l7.72-7.72 1.47 1.35L5.41 20z\"/>\n",
              "  </svg>\n",
              "      </button>\n",
              "      \n",
              "  <style>\n",
              "    .colab-df-container {\n",
              "      display:flex;\n",
              "      flex-wrap:wrap;\n",
              "      gap: 12px;\n",
              "    }\n",
              "\n",
              "    .colab-df-convert {\n",
              "      background-color: #E8F0FE;\n",
              "      border: none;\n",
              "      border-radius: 50%;\n",
              "      cursor: pointer;\n",
              "      display: none;\n",
              "      fill: #1967D2;\n",
              "      height: 32px;\n",
              "      padding: 0 0 0 0;\n",
              "      width: 32px;\n",
              "    }\n",
              "\n",
              "    .colab-df-convert:hover {\n",
              "      background-color: #E2EBFA;\n",
              "      box-shadow: 0px 1px 2px rgba(60, 64, 67, 0.3), 0px 1px 3px 1px rgba(60, 64, 67, 0.15);\n",
              "      fill: #174EA6;\n",
              "    }\n",
              "\n",
              "    [theme=dark] .colab-df-convert {\n",
              "      background-color: #3B4455;\n",
              "      fill: #D2E3FC;\n",
              "    }\n",
              "\n",
              "    [theme=dark] .colab-df-convert:hover {\n",
              "      background-color: #434B5C;\n",
              "      box-shadow: 0px 1px 3px 1px rgba(0, 0, 0, 0.15);\n",
              "      filter: drop-shadow(0px 1px 2px rgba(0, 0, 0, 0.3));\n",
              "      fill: #FFFFFF;\n",
              "    }\n",
              "  </style>\n",
              "\n",
              "      <script>\n",
              "        const buttonEl =\n",
              "          document.querySelector('#df-2bb60a3f-9e95-4fa8-9656-a2a393a452eb button.colab-df-convert');\n",
              "        buttonEl.style.display =\n",
              "          google.colab.kernel.accessAllowed ? 'block' : 'none';\n",
              "\n",
              "        async function convertToInteractive(key) {\n",
              "          const element = document.querySelector('#df-2bb60a3f-9e95-4fa8-9656-a2a393a452eb');\n",
              "          const dataTable =\n",
              "            await google.colab.kernel.invokeFunction('convertToInteractive',\n",
              "                                                     [key], {});\n",
              "          if (!dataTable) return;\n",
              "\n",
              "          const docLinkHtml = 'Like what you see? Visit the ' +\n",
              "            '<a target=\"_blank\" href=https://colab.research.google.com/notebooks/data_table.ipynb>data table notebook</a>'\n",
              "            + ' to learn more about interactive tables.';\n",
              "          element.innerHTML = '';\n",
              "          dataTable['output_type'] = 'display_data';\n",
              "          await google.colab.output.renderOutput(dataTable, element);\n",
              "          const docLink = document.createElement('div');\n",
              "          docLink.innerHTML = docLinkHtml;\n",
              "          element.appendChild(docLink);\n",
              "        }\n",
              "      </script>\n",
              "    </div>\n",
              "  </div>\n",
              "  "
            ]
          },
          "metadata": {},
          "execution_count": 47
        }
      ],
      "source": [
        "housing.head(10)"
      ]
    },
    {
      "cell_type": "markdown",
      "metadata": {
        "id": "-SnUm6VEAsyc"
      },
      "source": [
        "## Divisione training-validation con scikit-learn\n",
        "\n",
        "- Abbiamo visto il metodo _hold-out_ in cui i dati disponibili sono divisi in training e validation set\n",
        "- scikit-learn fornisce un'apposita funzione `train_test_split` per suddividere casualmente un set di dati in due insiemi \"train\" e \"test\" disgiunti\n",
        "  - il set di dati è una sequenza di elementi, es. array NumPy o serie/frame pandas\n",
        "  - con l'opzione `test_size=X` si indica la proporzione (se X decimale tra 0 e 1) o il numero di elementi (se X intero) da inserire nel test (default 0.25, ovvero 25\\%)\n",
        "  - tutti i dati non selezionati per il test sono implicitamente selezionati per il train\n",
        "  - con l'opzione `random_state` si indica un seed per la riproducibilità: richiamando la funzione più volte con `random_state` e altri parametri uguali viene riprodotta esattamente la stessa suddivisione\n",
        "- Ad esempio, dividiamo il frame `housing` in due parti `train_data` e `val_data`, contenenti rispettivamente 2/3 e 1/3 dei dati"
      ]
    },
    {
      "cell_type": "code",
      "execution_count": 48,
      "metadata": {
        "id": "4_f-tXpfAsyd"
      },
      "outputs": [],
      "source": [
        "from sklearn.model_selection import train_test_split\n",
        "train_data, val_data = train_test_split(housing, test_size=1/3, random_state=42)"
      ]
    },
    {
      "cell_type": "markdown",
      "metadata": {
        "id": "gJ0e0PcrAsyd"
      },
      "source": [
        "- I due nuovi frame contengono due sottoinsiemi disgiunti delle righe di `housing`, mescolate casualmente"
      ]
    },
    {
      "cell_type": "code",
      "execution_count": 49,
      "metadata": {
        "id": "WTQmJgY3Asye",
        "outputId": "da20e3fb-b2b3-48ca-d4b1-ccb61883f2d8",
        "colab": {
          "base_uri": "https://localhost:8080/"
        }
      },
      "outputs": [
        {
          "output_type": "execute_result",
          "data": {
            "text/plain": [
              "(337, 14)"
            ]
          },
          "metadata": {},
          "execution_count": 49
        }
      ],
      "source": [
        "train_data.shape"
      ]
    },
    {
      "cell_type": "code",
      "execution_count": 50,
      "metadata": {
        "id": "H0e0wBbVAsye",
        "outputId": "61a0d3d7-7a4d-451d-da74-28293bef6d04",
        "colab": {
          "base_uri": "https://localhost:8080/",
          "height": 0
        }
      },
      "outputs": [
        {
          "output_type": "execute_result",
          "data": {
            "text/plain": [
              "        CRIM    ZN  INDUS  CHAS    NOX     RM   AGE     DIS  RAD    TAX  \\\n",
              "7    0.14455  12.5   7.87     0  0.524  6.172  96.1  5.9505    5  311.0   \n",
              "492  0.11132   0.0  27.74     0  0.609  5.983  83.5  2.1099    4  711.0   \n",
              "108  0.12802   0.0   8.56     0  0.520  6.474  97.1  2.4329    5  384.0   \n",
              "\n",
              "     PTRATIO       B  LSTAT  MEDV  \n",
              "7       15.2  396.90  19.15  27.1  \n",
              "492     20.1  396.90  13.35  20.1  \n",
              "108     20.9  395.24  12.27  19.8  "
            ],
            "text/html": [
              "\n",
              "  <div id=\"df-0f0593c9-9640-4cde-b6fc-59d039a2cacc\">\n",
              "    <div class=\"colab-df-container\">\n",
              "      <div>\n",
              "<style scoped>\n",
              "    .dataframe tbody tr th:only-of-type {\n",
              "        vertical-align: middle;\n",
              "    }\n",
              "\n",
              "    .dataframe tbody tr th {\n",
              "        vertical-align: top;\n",
              "    }\n",
              "\n",
              "    .dataframe thead th {\n",
              "        text-align: right;\n",
              "    }\n",
              "</style>\n",
              "<table border=\"1\" class=\"dataframe\">\n",
              "  <thead>\n",
              "    <tr style=\"text-align: right;\">\n",
              "      <th></th>\n",
              "      <th>CRIM</th>\n",
              "      <th>ZN</th>\n",
              "      <th>INDUS</th>\n",
              "      <th>CHAS</th>\n",
              "      <th>NOX</th>\n",
              "      <th>RM</th>\n",
              "      <th>AGE</th>\n",
              "      <th>DIS</th>\n",
              "      <th>RAD</th>\n",
              "      <th>TAX</th>\n",
              "      <th>PTRATIO</th>\n",
              "      <th>B</th>\n",
              "      <th>LSTAT</th>\n",
              "      <th>MEDV</th>\n",
              "    </tr>\n",
              "  </thead>\n",
              "  <tbody>\n",
              "    <tr>\n",
              "      <th>7</th>\n",
              "      <td>0.14455</td>\n",
              "      <td>12.5</td>\n",
              "      <td>7.87</td>\n",
              "      <td>0</td>\n",
              "      <td>0.524</td>\n",
              "      <td>6.172</td>\n",
              "      <td>96.1</td>\n",
              "      <td>5.9505</td>\n",
              "      <td>5</td>\n",
              "      <td>311.0</td>\n",
              "      <td>15.2</td>\n",
              "      <td>396.90</td>\n",
              "      <td>19.15</td>\n",
              "      <td>27.1</td>\n",
              "    </tr>\n",
              "    <tr>\n",
              "      <th>492</th>\n",
              "      <td>0.11132</td>\n",
              "      <td>0.0</td>\n",
              "      <td>27.74</td>\n",
              "      <td>0</td>\n",
              "      <td>0.609</td>\n",
              "      <td>5.983</td>\n",
              "      <td>83.5</td>\n",
              "      <td>2.1099</td>\n",
              "      <td>4</td>\n",
              "      <td>711.0</td>\n",
              "      <td>20.1</td>\n",
              "      <td>396.90</td>\n",
              "      <td>13.35</td>\n",
              "      <td>20.1</td>\n",
              "    </tr>\n",
              "    <tr>\n",
              "      <th>108</th>\n",
              "      <td>0.12802</td>\n",
              "      <td>0.0</td>\n",
              "      <td>8.56</td>\n",
              "      <td>0</td>\n",
              "      <td>0.520</td>\n",
              "      <td>6.474</td>\n",
              "      <td>97.1</td>\n",
              "      <td>2.4329</td>\n",
              "      <td>5</td>\n",
              "      <td>384.0</td>\n",
              "      <td>20.9</td>\n",
              "      <td>395.24</td>\n",
              "      <td>12.27</td>\n",
              "      <td>19.8</td>\n",
              "    </tr>\n",
              "  </tbody>\n",
              "</table>\n",
              "</div>\n",
              "      <button class=\"colab-df-convert\" onclick=\"convertToInteractive('df-0f0593c9-9640-4cde-b6fc-59d039a2cacc')\"\n",
              "              title=\"Convert this dataframe to an interactive table.\"\n",
              "              style=\"display:none;\">\n",
              "        \n",
              "  <svg xmlns=\"http://www.w3.org/2000/svg\" height=\"24px\"viewBox=\"0 0 24 24\"\n",
              "       width=\"24px\">\n",
              "    <path d=\"M0 0h24v24H0V0z\" fill=\"none\"/>\n",
              "    <path d=\"M18.56 5.44l.94 2.06.94-2.06 2.06-.94-2.06-.94-.94-2.06-.94 2.06-2.06.94zm-11 1L8.5 8.5l.94-2.06 2.06-.94-2.06-.94L8.5 2.5l-.94 2.06-2.06.94zm10 10l.94 2.06.94-2.06 2.06-.94-2.06-.94-.94-2.06-.94 2.06-2.06.94z\"/><path d=\"M17.41 7.96l-1.37-1.37c-.4-.4-.92-.59-1.43-.59-.52 0-1.04.2-1.43.59L10.3 9.45l-7.72 7.72c-.78.78-.78 2.05 0 2.83L4 21.41c.39.39.9.59 1.41.59.51 0 1.02-.2 1.41-.59l7.78-7.78 2.81-2.81c.8-.78.8-2.07 0-2.86zM5.41 20L4 18.59l7.72-7.72 1.47 1.35L5.41 20z\"/>\n",
              "  </svg>\n",
              "      </button>\n",
              "      \n",
              "  <style>\n",
              "    .colab-df-container {\n",
              "      display:flex;\n",
              "      flex-wrap:wrap;\n",
              "      gap: 12px;\n",
              "    }\n",
              "\n",
              "    .colab-df-convert {\n",
              "      background-color: #E8F0FE;\n",
              "      border: none;\n",
              "      border-radius: 50%;\n",
              "      cursor: pointer;\n",
              "      display: none;\n",
              "      fill: #1967D2;\n",
              "      height: 32px;\n",
              "      padding: 0 0 0 0;\n",
              "      width: 32px;\n",
              "    }\n",
              "\n",
              "    .colab-df-convert:hover {\n",
              "      background-color: #E2EBFA;\n",
              "      box-shadow: 0px 1px 2px rgba(60, 64, 67, 0.3), 0px 1px 3px 1px rgba(60, 64, 67, 0.15);\n",
              "      fill: #174EA6;\n",
              "    }\n",
              "\n",
              "    [theme=dark] .colab-df-convert {\n",
              "      background-color: #3B4455;\n",
              "      fill: #D2E3FC;\n",
              "    }\n",
              "\n",
              "    [theme=dark] .colab-df-convert:hover {\n",
              "      background-color: #434B5C;\n",
              "      box-shadow: 0px 1px 3px 1px rgba(0, 0, 0, 0.15);\n",
              "      filter: drop-shadow(0px 1px 2px rgba(0, 0, 0, 0.3));\n",
              "      fill: #FFFFFF;\n",
              "    }\n",
              "  </style>\n",
              "\n",
              "      <script>\n",
              "        const buttonEl =\n",
              "          document.querySelector('#df-0f0593c9-9640-4cde-b6fc-59d039a2cacc button.colab-df-convert');\n",
              "        buttonEl.style.display =\n",
              "          google.colab.kernel.accessAllowed ? 'block' : 'none';\n",
              "\n",
              "        async function convertToInteractive(key) {\n",
              "          const element = document.querySelector('#df-0f0593c9-9640-4cde-b6fc-59d039a2cacc');\n",
              "          const dataTable =\n",
              "            await google.colab.kernel.invokeFunction('convertToInteractive',\n",
              "                                                     [key], {});\n",
              "          if (!dataTable) return;\n",
              "\n",
              "          const docLinkHtml = 'Like what you see? Visit the ' +\n",
              "            '<a target=\"_blank\" href=https://colab.research.google.com/notebooks/data_table.ipynb>data table notebook</a>'\n",
              "            + ' to learn more about interactive tables.';\n",
              "          element.innerHTML = '';\n",
              "          dataTable['output_type'] = 'display_data';\n",
              "          await google.colab.output.renderOutput(dataTable, element);\n",
              "          const docLink = document.createElement('div');\n",
              "          docLink.innerHTML = docLinkHtml;\n",
              "          element.appendChild(docLink);\n",
              "        }\n",
              "      </script>\n",
              "    </div>\n",
              "  </div>\n",
              "  "
            ]
          },
          "metadata": {},
          "execution_count": 50
        }
      ],
      "source": [
        "train_data.head(3)"
      ]
    },
    {
      "cell_type": "code",
      "execution_count": 51,
      "metadata": {
        "id": "keoJMrt_Asye",
        "outputId": "e288e9c2-0087-471d-fa0f-3222cf82f84b",
        "colab": {
          "base_uri": "https://localhost:8080/"
        }
      },
      "outputs": [
        {
          "output_type": "execute_result",
          "data": {
            "text/plain": [
              "(169, 14)"
            ]
          },
          "metadata": {},
          "execution_count": 51
        }
      ],
      "source": [
        "val_data.shape"
      ]
    },
    {
      "cell_type": "code",
      "execution_count": 52,
      "metadata": {
        "id": "AQGTS7VlAsyk",
        "outputId": "15e4044a-5506-4dd2-b899-228dc735680c",
        "colab": {
          "base_uri": "https://localhost:8080/",
          "height": 0
        }
      },
      "outputs": [
        {
          "output_type": "execute_result",
          "data": {
            "text/plain": [
              "        CRIM    ZN  INDUS  CHAS    NOX     RM   AGE     DIS  RAD    TAX  \\\n",
              "173  0.09178   0.0   4.05     0  0.510  6.416  84.1  2.6463    5  296.0   \n",
              "274  0.05644  40.0   6.41     1  0.447  6.758  32.9  4.0776    4  254.0   \n",
              "491  0.10574   0.0  27.74     0  0.609  5.983  98.8  1.8681    4  711.0   \n",
              "\n",
              "     PTRATIO       B  LSTAT  MEDV  \n",
              "173     16.6  395.50   9.04  23.6  \n",
              "274     17.6  396.90   3.53  32.4  \n",
              "491     20.1  390.11  18.07  13.6  "
            ],
            "text/html": [
              "\n",
              "  <div id=\"df-0657fa65-304d-41d8-a480-50261fe38631\">\n",
              "    <div class=\"colab-df-container\">\n",
              "      <div>\n",
              "<style scoped>\n",
              "    .dataframe tbody tr th:only-of-type {\n",
              "        vertical-align: middle;\n",
              "    }\n",
              "\n",
              "    .dataframe tbody tr th {\n",
              "        vertical-align: top;\n",
              "    }\n",
              "\n",
              "    .dataframe thead th {\n",
              "        text-align: right;\n",
              "    }\n",
              "</style>\n",
              "<table border=\"1\" class=\"dataframe\">\n",
              "  <thead>\n",
              "    <tr style=\"text-align: right;\">\n",
              "      <th></th>\n",
              "      <th>CRIM</th>\n",
              "      <th>ZN</th>\n",
              "      <th>INDUS</th>\n",
              "      <th>CHAS</th>\n",
              "      <th>NOX</th>\n",
              "      <th>RM</th>\n",
              "      <th>AGE</th>\n",
              "      <th>DIS</th>\n",
              "      <th>RAD</th>\n",
              "      <th>TAX</th>\n",
              "      <th>PTRATIO</th>\n",
              "      <th>B</th>\n",
              "      <th>LSTAT</th>\n",
              "      <th>MEDV</th>\n",
              "    </tr>\n",
              "  </thead>\n",
              "  <tbody>\n",
              "    <tr>\n",
              "      <th>173</th>\n",
              "      <td>0.09178</td>\n",
              "      <td>0.0</td>\n",
              "      <td>4.05</td>\n",
              "      <td>0</td>\n",
              "      <td>0.510</td>\n",
              "      <td>6.416</td>\n",
              "      <td>84.1</td>\n",
              "      <td>2.6463</td>\n",
              "      <td>5</td>\n",
              "      <td>296.0</td>\n",
              "      <td>16.6</td>\n",
              "      <td>395.50</td>\n",
              "      <td>9.04</td>\n",
              "      <td>23.6</td>\n",
              "    </tr>\n",
              "    <tr>\n",
              "      <th>274</th>\n",
              "      <td>0.05644</td>\n",
              "      <td>40.0</td>\n",
              "      <td>6.41</td>\n",
              "      <td>1</td>\n",
              "      <td>0.447</td>\n",
              "      <td>6.758</td>\n",
              "      <td>32.9</td>\n",
              "      <td>4.0776</td>\n",
              "      <td>4</td>\n",
              "      <td>254.0</td>\n",
              "      <td>17.6</td>\n",
              "      <td>396.90</td>\n",
              "      <td>3.53</td>\n",
              "      <td>32.4</td>\n",
              "    </tr>\n",
              "    <tr>\n",
              "      <th>491</th>\n",
              "      <td>0.10574</td>\n",
              "      <td>0.0</td>\n",
              "      <td>27.74</td>\n",
              "      <td>0</td>\n",
              "      <td>0.609</td>\n",
              "      <td>5.983</td>\n",
              "      <td>98.8</td>\n",
              "      <td>1.8681</td>\n",
              "      <td>4</td>\n",
              "      <td>711.0</td>\n",
              "      <td>20.1</td>\n",
              "      <td>390.11</td>\n",
              "      <td>18.07</td>\n",
              "      <td>13.6</td>\n",
              "    </tr>\n",
              "  </tbody>\n",
              "</table>\n",
              "</div>\n",
              "      <button class=\"colab-df-convert\" onclick=\"convertToInteractive('df-0657fa65-304d-41d8-a480-50261fe38631')\"\n",
              "              title=\"Convert this dataframe to an interactive table.\"\n",
              "              style=\"display:none;\">\n",
              "        \n",
              "  <svg xmlns=\"http://www.w3.org/2000/svg\" height=\"24px\"viewBox=\"0 0 24 24\"\n",
              "       width=\"24px\">\n",
              "    <path d=\"M0 0h24v24H0V0z\" fill=\"none\"/>\n",
              "    <path d=\"M18.56 5.44l.94 2.06.94-2.06 2.06-.94-2.06-.94-.94-2.06-.94 2.06-2.06.94zm-11 1L8.5 8.5l.94-2.06 2.06-.94-2.06-.94L8.5 2.5l-.94 2.06-2.06.94zm10 10l.94 2.06.94-2.06 2.06-.94-2.06-.94-.94-2.06-.94 2.06-2.06.94z\"/><path d=\"M17.41 7.96l-1.37-1.37c-.4-.4-.92-.59-1.43-.59-.52 0-1.04.2-1.43.59L10.3 9.45l-7.72 7.72c-.78.78-.78 2.05 0 2.83L4 21.41c.39.39.9.59 1.41.59.51 0 1.02-.2 1.41-.59l7.78-7.78 2.81-2.81c.8-.78.8-2.07 0-2.86zM5.41 20L4 18.59l7.72-7.72 1.47 1.35L5.41 20z\"/>\n",
              "  </svg>\n",
              "      </button>\n",
              "      \n",
              "  <style>\n",
              "    .colab-df-container {\n",
              "      display:flex;\n",
              "      flex-wrap:wrap;\n",
              "      gap: 12px;\n",
              "    }\n",
              "\n",
              "    .colab-df-convert {\n",
              "      background-color: #E8F0FE;\n",
              "      border: none;\n",
              "      border-radius: 50%;\n",
              "      cursor: pointer;\n",
              "      display: none;\n",
              "      fill: #1967D2;\n",
              "      height: 32px;\n",
              "      padding: 0 0 0 0;\n",
              "      width: 32px;\n",
              "    }\n",
              "\n",
              "    .colab-df-convert:hover {\n",
              "      background-color: #E2EBFA;\n",
              "      box-shadow: 0px 1px 2px rgba(60, 64, 67, 0.3), 0px 1px 3px 1px rgba(60, 64, 67, 0.15);\n",
              "      fill: #174EA6;\n",
              "    }\n",
              "\n",
              "    [theme=dark] .colab-df-convert {\n",
              "      background-color: #3B4455;\n",
              "      fill: #D2E3FC;\n",
              "    }\n",
              "\n",
              "    [theme=dark] .colab-df-convert:hover {\n",
              "      background-color: #434B5C;\n",
              "      box-shadow: 0px 1px 3px 1px rgba(0, 0, 0, 0.15);\n",
              "      filter: drop-shadow(0px 1px 2px rgba(0, 0, 0, 0.3));\n",
              "      fill: #FFFFFF;\n",
              "    }\n",
              "  </style>\n",
              "\n",
              "      <script>\n",
              "        const buttonEl =\n",
              "          document.querySelector('#df-0657fa65-304d-41d8-a480-50261fe38631 button.colab-df-convert');\n",
              "        buttonEl.style.display =\n",
              "          google.colab.kernel.accessAllowed ? 'block' : 'none';\n",
              "\n",
              "        async function convertToInteractive(key) {\n",
              "          const element = document.querySelector('#df-0657fa65-304d-41d8-a480-50261fe38631');\n",
              "          const dataTable =\n",
              "            await google.colab.kernel.invokeFunction('convertToInteractive',\n",
              "                                                     [key], {});\n",
              "          if (!dataTable) return;\n",
              "\n",
              "          const docLinkHtml = 'Like what you see? Visit the ' +\n",
              "            '<a target=\"_blank\" href=https://colab.research.google.com/notebooks/data_table.ipynb>data table notebook</a>'\n",
              "            + ' to learn more about interactive tables.';\n",
              "          element.innerHTML = '';\n",
              "          dataTable['output_type'] = 'display_data';\n",
              "          await google.colab.output.renderOutput(dataTable, element);\n",
              "          const docLink = document.createElement('div');\n",
              "          docLink.innerHTML = docLinkHtml;\n",
              "          element.appendChild(docLink);\n",
              "        }\n",
              "      </script>\n",
              "    </div>\n",
              "  </div>\n",
              "  "
            ]
          },
          "metadata": {},
          "execution_count": 52
        }
      ],
      "source": [
        "val_data.head(3)"
      ]
    },
    {
      "cell_type": "markdown",
      "metadata": {
        "id": "z5c63aZ1Asyl"
      },
      "source": [
        "- A `train_test_split` possiamo passare **due (o più) collezioni** con pari numero di elementi per far sì che siano suddivise insieme, applicando **a tutte lo stesso ordine** casuale dei dati\n",
        "- Ad esempio separiamo `housing` in due strutture dati allineate:\n",
        "  - una serie y con i valori della variabile dipendente (`MEDV`)\n",
        "  - un frame X con i valori delle variabili indipendenti (tutte le altre)"
      ]
    },
    {
      "cell_type": "code",
      "execution_count": 53,
      "metadata": {
        "id": "xFw-NQQBAsym"
      },
      "outputs": [],
      "source": [
        "y = housing[\"MEDV\"]\n",
        "X = housing.drop(columns=[\"MEDV\"])"
      ]
    },
    {
      "cell_type": "markdown",
      "metadata": {
        "id": "C-7G2vT2Asym"
      },
      "source": [
        "- Applichiamo quindi `train_test_split` congiuntamente a X e y"
      ]
    },
    {
      "cell_type": "code",
      "execution_count": 54,
      "metadata": {
        "id": "XCXk66v_Asyo"
      },
      "outputs": [],
      "source": [
        "X_train, X_val, y_train, y_val = \\\n",
        "    train_test_split(X, y, test_size=1/3, random_state=42)"
      ]
    },
    {
      "cell_type": "markdown",
      "metadata": {
        "id": "LUxAziZrAsyo"
      },
      "source": [
        "- Si può verificare dagli indici che l'ordine delle righe di `X_train` è lo stesso di `y_train` (lo stesso vale per `X_val` e `y_val`)"
      ]
    },
    {
      "cell_type": "code",
      "execution_count": 55,
      "metadata": {
        "id": "D4YwWlC8Asyp",
        "outputId": "5afa78c4-65a9-4d9b-cc6a-32c8a33f5280",
        "colab": {
          "base_uri": "https://localhost:8080/",
          "height": 0
        }
      },
      "outputs": [
        {
          "output_type": "execute_result",
          "data": {
            "text/plain": [
              "        CRIM    ZN  INDUS  CHAS    NOX     RM   AGE     DIS  RAD    TAX  \\\n",
              "7    0.14455  12.5   7.87     0  0.524  6.172  96.1  5.9505    5  311.0   \n",
              "492  0.11132   0.0  27.74     0  0.609  5.983  83.5  2.1099    4  711.0   \n",
              "108  0.12802   0.0   8.56     0  0.520  6.474  97.1  2.4329    5  384.0   \n",
              "\n",
              "     PTRATIO       B  LSTAT  \n",
              "7       15.2  396.90  19.15  \n",
              "492     20.1  396.90  13.35  \n",
              "108     20.9  395.24  12.27  "
            ],
            "text/html": [
              "\n",
              "  <div id=\"df-00843597-5c74-4175-9375-f71e7c74fb9f\">\n",
              "    <div class=\"colab-df-container\">\n",
              "      <div>\n",
              "<style scoped>\n",
              "    .dataframe tbody tr th:only-of-type {\n",
              "        vertical-align: middle;\n",
              "    }\n",
              "\n",
              "    .dataframe tbody tr th {\n",
              "        vertical-align: top;\n",
              "    }\n",
              "\n",
              "    .dataframe thead th {\n",
              "        text-align: right;\n",
              "    }\n",
              "</style>\n",
              "<table border=\"1\" class=\"dataframe\">\n",
              "  <thead>\n",
              "    <tr style=\"text-align: right;\">\n",
              "      <th></th>\n",
              "      <th>CRIM</th>\n",
              "      <th>ZN</th>\n",
              "      <th>INDUS</th>\n",
              "      <th>CHAS</th>\n",
              "      <th>NOX</th>\n",
              "      <th>RM</th>\n",
              "      <th>AGE</th>\n",
              "      <th>DIS</th>\n",
              "      <th>RAD</th>\n",
              "      <th>TAX</th>\n",
              "      <th>PTRATIO</th>\n",
              "      <th>B</th>\n",
              "      <th>LSTAT</th>\n",
              "    </tr>\n",
              "  </thead>\n",
              "  <tbody>\n",
              "    <tr>\n",
              "      <th>7</th>\n",
              "      <td>0.14455</td>\n",
              "      <td>12.5</td>\n",
              "      <td>7.87</td>\n",
              "      <td>0</td>\n",
              "      <td>0.524</td>\n",
              "      <td>6.172</td>\n",
              "      <td>96.1</td>\n",
              "      <td>5.9505</td>\n",
              "      <td>5</td>\n",
              "      <td>311.0</td>\n",
              "      <td>15.2</td>\n",
              "      <td>396.90</td>\n",
              "      <td>19.15</td>\n",
              "    </tr>\n",
              "    <tr>\n",
              "      <th>492</th>\n",
              "      <td>0.11132</td>\n",
              "      <td>0.0</td>\n",
              "      <td>27.74</td>\n",
              "      <td>0</td>\n",
              "      <td>0.609</td>\n",
              "      <td>5.983</td>\n",
              "      <td>83.5</td>\n",
              "      <td>2.1099</td>\n",
              "      <td>4</td>\n",
              "      <td>711.0</td>\n",
              "      <td>20.1</td>\n",
              "      <td>396.90</td>\n",
              "      <td>13.35</td>\n",
              "    </tr>\n",
              "    <tr>\n",
              "      <th>108</th>\n",
              "      <td>0.12802</td>\n",
              "      <td>0.0</td>\n",
              "      <td>8.56</td>\n",
              "      <td>0</td>\n",
              "      <td>0.520</td>\n",
              "      <td>6.474</td>\n",
              "      <td>97.1</td>\n",
              "      <td>2.4329</td>\n",
              "      <td>5</td>\n",
              "      <td>384.0</td>\n",
              "      <td>20.9</td>\n",
              "      <td>395.24</td>\n",
              "      <td>12.27</td>\n",
              "    </tr>\n",
              "  </tbody>\n",
              "</table>\n",
              "</div>\n",
              "      <button class=\"colab-df-convert\" onclick=\"convertToInteractive('df-00843597-5c74-4175-9375-f71e7c74fb9f')\"\n",
              "              title=\"Convert this dataframe to an interactive table.\"\n",
              "              style=\"display:none;\">\n",
              "        \n",
              "  <svg xmlns=\"http://www.w3.org/2000/svg\" height=\"24px\"viewBox=\"0 0 24 24\"\n",
              "       width=\"24px\">\n",
              "    <path d=\"M0 0h24v24H0V0z\" fill=\"none\"/>\n",
              "    <path d=\"M18.56 5.44l.94 2.06.94-2.06 2.06-.94-2.06-.94-.94-2.06-.94 2.06-2.06.94zm-11 1L8.5 8.5l.94-2.06 2.06-.94-2.06-.94L8.5 2.5l-.94 2.06-2.06.94zm10 10l.94 2.06.94-2.06 2.06-.94-2.06-.94-.94-2.06-.94 2.06-2.06.94z\"/><path d=\"M17.41 7.96l-1.37-1.37c-.4-.4-.92-.59-1.43-.59-.52 0-1.04.2-1.43.59L10.3 9.45l-7.72 7.72c-.78.78-.78 2.05 0 2.83L4 21.41c.39.39.9.59 1.41.59.51 0 1.02-.2 1.41-.59l7.78-7.78 2.81-2.81c.8-.78.8-2.07 0-2.86zM5.41 20L4 18.59l7.72-7.72 1.47 1.35L5.41 20z\"/>\n",
              "  </svg>\n",
              "      </button>\n",
              "      \n",
              "  <style>\n",
              "    .colab-df-container {\n",
              "      display:flex;\n",
              "      flex-wrap:wrap;\n",
              "      gap: 12px;\n",
              "    }\n",
              "\n",
              "    .colab-df-convert {\n",
              "      background-color: #E8F0FE;\n",
              "      border: none;\n",
              "      border-radius: 50%;\n",
              "      cursor: pointer;\n",
              "      display: none;\n",
              "      fill: #1967D2;\n",
              "      height: 32px;\n",
              "      padding: 0 0 0 0;\n",
              "      width: 32px;\n",
              "    }\n",
              "\n",
              "    .colab-df-convert:hover {\n",
              "      background-color: #E2EBFA;\n",
              "      box-shadow: 0px 1px 2px rgba(60, 64, 67, 0.3), 0px 1px 3px 1px rgba(60, 64, 67, 0.15);\n",
              "      fill: #174EA6;\n",
              "    }\n",
              "\n",
              "    [theme=dark] .colab-df-convert {\n",
              "      background-color: #3B4455;\n",
              "      fill: #D2E3FC;\n",
              "    }\n",
              "\n",
              "    [theme=dark] .colab-df-convert:hover {\n",
              "      background-color: #434B5C;\n",
              "      box-shadow: 0px 1px 3px 1px rgba(0, 0, 0, 0.15);\n",
              "      filter: drop-shadow(0px 1px 2px rgba(0, 0, 0, 0.3));\n",
              "      fill: #FFFFFF;\n",
              "    }\n",
              "  </style>\n",
              "\n",
              "      <script>\n",
              "        const buttonEl =\n",
              "          document.querySelector('#df-00843597-5c74-4175-9375-f71e7c74fb9f button.colab-df-convert');\n",
              "        buttonEl.style.display =\n",
              "          google.colab.kernel.accessAllowed ? 'block' : 'none';\n",
              "\n",
              "        async function convertToInteractive(key) {\n",
              "          const element = document.querySelector('#df-00843597-5c74-4175-9375-f71e7c74fb9f');\n",
              "          const dataTable =\n",
              "            await google.colab.kernel.invokeFunction('convertToInteractive',\n",
              "                                                     [key], {});\n",
              "          if (!dataTable) return;\n",
              "\n",
              "          const docLinkHtml = 'Like what you see? Visit the ' +\n",
              "            '<a target=\"_blank\" href=https://colab.research.google.com/notebooks/data_table.ipynb>data table notebook</a>'\n",
              "            + ' to learn more about interactive tables.';\n",
              "          element.innerHTML = '';\n",
              "          dataTable['output_type'] = 'display_data';\n",
              "          await google.colab.output.renderOutput(dataTable, element);\n",
              "          const docLink = document.createElement('div');\n",
              "          docLink.innerHTML = docLinkHtml;\n",
              "          element.appendChild(docLink);\n",
              "        }\n",
              "      </script>\n",
              "    </div>\n",
              "  </div>\n",
              "  "
            ]
          },
          "metadata": {},
          "execution_count": 55
        }
      ],
      "source": [
        "X_train.head(3)"
      ]
    },
    {
      "cell_type": "code",
      "execution_count": 56,
      "metadata": {
        "id": "e-qtW4u4Asyq",
        "outputId": "ddfa9330-f433-482b-e3a6-40e0a2e57925",
        "colab": {
          "base_uri": "https://localhost:8080/"
        }
      },
      "outputs": [
        {
          "output_type": "execute_result",
          "data": {
            "text/plain": [
              "7      27.1\n",
              "492    20.1\n",
              "108    19.8\n",
              "Name: MEDV, dtype: float64"
            ]
          },
          "metadata": {},
          "execution_count": 56
        }
      ],
      "source": [
        "y_train.head(3)"
      ]
    },
    {
      "cell_type": "code",
      "execution_count": 57,
      "metadata": {
        "id": "WBi7bSzHAsyr",
        "outputId": "db94210d-21a6-4fcf-e7f1-db37affb8edf",
        "colab": {
          "base_uri": "https://localhost:8080/"
        }
      },
      "outputs": [
        {
          "output_type": "execute_result",
          "data": {
            "text/plain": [
              "True"
            ]
          },
          "metadata": {},
          "execution_count": 57
        }
      ],
      "source": [
        "np.array_equal(X_train.index, y_train.index)"
      ]
    },
    {
      "cell_type": "markdown",
      "metadata": {
        "id": "fSzZZeCnAsys"
      },
      "source": [
        "## Esercizio 2: Regressione su prezzi case\n",
        "\n",
        "- **(2a)** Creare ed addestrare un modello di regressione lineare sul training set dei prezzi delle case creato sopra composto da `X_train` e `y_train`\n",
        "- **(2b)** Stampare le metriche di valutazione viste (MSE, errore relativo, R²) calcolate sullo stesso set\n",
        "- **(2c)** Stampare le stesse metriche calcolate sul validation set composto da `X_val` e `y_val`"
      ]
    },
    {
      "cell_type": "code",
      "source": [
        "mdlc = LinearRegression()\n",
        "mdlc.fit(X_train, y_train)"
      ],
      "metadata": {
        "id": "9-YHOBLDKj2e",
        "outputId": "fac8e703-390f-4537-9aa9-393f123a1560",
        "colab": {
          "base_uri": "https://localhost:8080/"
        }
      },
      "execution_count": 58,
      "outputs": [
        {
          "output_type": "execute_result",
          "data": {
            "text/plain": [
              "LinearRegression()"
            ]
          },
          "metadata": {},
          "execution_count": 58
        }
      ]
    },
    {
      "cell_type": "code",
      "source": [
        "pred = mdlc.predict(X_train)\n",
        "print(\"MSE: \", np.mean(np.square( pred - y_train)))\n",
        "print(\"errore relativo: \", np.mean(np.abs( (pred - y_train) / y_train)))\n",
        "print(\"coefficiente di determinazione: \", (np.square(pred - y_train)).sum()/(np.square(y_train - np.mean(y_train))).sum()) # non va\n",
        "print_eval(X_train, y_train, mdlc)"
      ],
      "metadata": {
        "id": "dE7m4JspKkEF",
        "outputId": "b7cbcba4-7107-41da-c83b-01bef11f5149",
        "colab": {
          "base_uri": "https://localhost:8080/"
        }
      },
      "execution_count": 59,
      "outputs": [
        {
          "output_type": "stream",
          "name": "stdout",
          "text": [
            "MSE:  23.057499884986026\n",
            "errore relativo:  0.16695608314421445\n",
            "coefficiente di determinazione:  0.2610168543033505\n",
            "   Mean squared error: 23.057\n",
            "       Relative error: 16.69561%\n",
            "R-squared coefficient: 0.73898\n"
          ]
        }
      ]
    },
    {
      "cell_type": "code",
      "source": [
        "print_eval(X_val, y_val, mdlc)"
      ],
      "metadata": {
        "id": "GZdSrj_-KkSm",
        "outputId": "494bec6f-ffcf-49c0-e417-4f3bf84f530e",
        "colab": {
          "base_uri": "https://localhost:8080/"
        }
      },
      "execution_count": 60,
      "outputs": [
        {
          "output_type": "stream",
          "name": "stdout",
          "text": [
            "   Mean squared error: 20.595\n",
            "       Relative error: 16.20789%\n",
            "R-squared coefficient: 0.72621\n"
          ]
        }
      ]
    },
    {
      "cell_type": "markdown",
      "metadata": {
        "id": "gczeqMUeAsys"
      },
      "source": [
        "## Predizione consumi elettrici sull'intero anno\n",
        "\n",
        "- Riprendiamo il caso di studio sulla predizione dei consumi elettrici dalla temperatura\n",
        "- I modelli addestrati sopra sono addestrati e validati solamente sui mesi estivi\n",
        "- È possibile addestrare un modello utilizzabile per la predizione sull'intero anno?\n",
        "- Iniziamo dividendo l'intero frame `data` in training e validation set ed estraiamo per ciascuno la matrice X e il vettore y"
      ]
    },
    {
      "cell_type": "code",
      "execution_count": 61,
      "metadata": {
        "id": "YKUjitApAsyt"
      },
      "outputs": [],
      "source": [
        "is_train = power.index.year < 2016\n",
        "X_train = power.loc[is_train, [\"temp\"]]\n",
        "y_train = power.loc[is_train, \"demand\"]\n",
        "X_val = power.loc[~is_train, [\"temp\"]]\n",
        "y_val = power.loc[~is_train, \"demand\"]"
      ]
    },
    {
      "cell_type": "markdown",
      "metadata": {
        "id": "bnaeiy5kAsyu"
      },
      "source": [
        "- Addestriamo un nuovo modello sul training set estratto"
      ]
    },
    {
      "cell_type": "code",
      "execution_count": 62,
      "metadata": {
        "id": "wLr3ymshAsyv",
        "outputId": "0cd16855-dc9e-4495-d162-2d488dd5e6c3",
        "colab": {
          "base_uri": "https://localhost:8080/"
        }
      },
      "outputs": [
        {
          "output_type": "execute_result",
          "data": {
            "text/plain": [
              "LinearRegression()"
            ]
          },
          "metadata": {},
          "execution_count": 62
        }
      ],
      "source": [
        "lrm = LinearRegression()\n",
        "lrm.fit(X_train, y_train)"
      ]
    },
    {
      "cell_type": "markdown",
      "metadata": {
        "id": "YzyReXWWAsyw"
      },
      "source": [
        "- Validiamo il modello sia sullo stesso training set che sul validation set"
      ]
    },
    {
      "cell_type": "code",
      "execution_count": 63,
      "metadata": {
        "id": "XMxOpr4oAsyx",
        "outputId": "dd1a5ab3-c910-4ab1-bf0a-64462ec7bafb",
        "colab": {
          "base_uri": "https://localhost:8080/"
        }
      },
      "outputs": [
        {
          "output_type": "stream",
          "name": "stdout",
          "text": [
            "   Mean squared error: 0.09687\n",
            "       Relative error: 14.17653%\n",
            "R-squared coefficient: 0.095711\n"
          ]
        }
      ],
      "source": [
        "print_eval(X_train, y_train, lrm)"
      ]
    },
    {
      "cell_type": "code",
      "execution_count": 64,
      "metadata": {
        "id": "118d9mZYAsyx",
        "outputId": "2d04cbfc-8f78-4ecf-f009-8654d7159709",
        "colab": {
          "base_uri": "https://localhost:8080/"
        }
      },
      "outputs": [
        {
          "output_type": "stream",
          "name": "stdout",
          "text": [
            "   Mean squared error: 0.097075\n",
            "       Relative error: 15.39235%\n",
            "R-squared coefficient: 0.095201\n"
          ]
        }
      ],
      "source": [
        "print_eval(X_val, y_val, lrm)"
      ]
    },
    {
      "cell_type": "markdown",
      "metadata": {
        "id": "j4-RC2_eAsyy"
      },
      "source": [
        "- In entrambi i casi, il modello è poco accurato: lo si deduce in particolare dal coefficiente R² vicino allo zero\n",
        "- Visualizziamo il modello sovrapposto ai dati (training e validation insieme) per capire perché..."
      ]
    },
    {
      "cell_type": "code",
      "execution_count": 65,
      "metadata": {
        "id": "-uX2SdY8Asyz",
        "outputId": "a1e87fb4-7cf4-41de-9dc2-eb8428834d43",
        "colab": {
          "base_uri": "https://localhost:8080/",
          "height": 477
        }
      },
      "outputs": [
        {
          "output_type": "stream",
          "name": "stderr",
          "text": [
            "/usr/local/lib/python3.8/dist-packages/sklearn/base.py:450: UserWarning: X does not have valid feature names, but LinearRegression was fitted with feature names\n",
            "  warnings.warn(\n"
          ]
        },
        {
          "output_type": "display_data",
          "data": {
            "text/plain": [
              "<Figure size 720x504 with 1 Axes>"
            ],
            "image/png": "[encoded data removed]"
          },
          "metadata": {
            "needs_background": "light"
          }
        }
      ],
      "source": [
        "plot_model_on_data(power[[\"temp\"]], power[\"demand\"], lrm)"
      ]
    },
    {
      "cell_type": "markdown",
      "metadata": {
        "id": "R-rMIuPpAsy0"
      },
      "source": [
        "- Il grafico evidenzia che l'aumento dei consumi si ha sia nelle giornate più calde (a destra) che in quelle più fredde (a sinistra)\n",
        "- Per questo il consumo non può essere approssimato dalla temperatura in modo soddisfacente con un unico modello lineare (una retta) per tutti i mesi dell'anno"
      ]
    },
    {
      "cell_type": "markdown",
      "metadata": {
        "id": "UlAfjfU-Asy1"
      },
      "source": [
        "## Regressione polinomiale\n",
        "\n",
        "- La regressione _polinomiale_ è una generalizzazione di quella lineare in cui il modello include **termini di grado superiore**\n",
        "- Ad esempio, mentre un modello di regressione lineare su una singola variabile $x$ (_univariata_) ha forma\n",
        "$$ \\hat{y}=\\theta_0+\\theta_1\\cdot x $$\n",
        "- in un modello polinomiale di secondo grado viene aggiunto un termine col quadrato della variabile, con un proprio coefficiente:\n",
        "$$ \\hat{y}=\\theta_0+\\theta_1\\cdot x+\\theta_2\\cdot x^2 $$\n",
        "- Analogamente, in un modello di terzo grado viene aggiunto un ulteriore termine col cubo della variabile:\n",
        "$$ \\hat{y}=\\theta_0+\\theta_1\\cdot x+\\theta_2\\cdot x^2+\\theta_3\\cdot x^3 $$\n",
        "- La regressione polinomiale corrisponde in pratica a quella lineare con l'aggiunta di variabili derivate da quelle esistenti"
      ]
    },
    {
      "cell_type": "markdown",
      "metadata": {
        "id": "GuHusABBAsy2"
      },
      "source": [
        "- Addestriamo ad esempio un modello polinomiale di secondo grado\n",
        "- Creiamo una matrice `X_train_sq` con i quadrati elemento per elemento di `X_train`"
      ]
    },
    {
      "cell_type": "code",
      "execution_count": 66,
      "metadata": {
        "id": "FvUv_c1oAsy3"
      },
      "outputs": [],
      "source": [
        "X_train_sq = X_train ** 2"
      ]
    },
    {
      "cell_type": "markdown",
      "metadata": {
        "id": "Wb-6VPYnAsy4"
      },
      "source": [
        "- Usiamo quindi `c_` per unire le due matrici $m\\times 1$ in una $m\\times 2$"
      ]
    },
    {
      "cell_type": "code",
      "execution_count": 67,
      "metadata": {
        "id": "O9DUAV9hAsy5"
      },
      "outputs": [],
      "source": [
        "X_train_d2 = np.c_[X_train, X_train_sq]"
      ]
    },
    {
      "cell_type": "markdown",
      "metadata": {
        "id": "CIXf2Qi8Asy5"
      },
      "source": [
        "- Abbiamo quindi un dataset con due variabili, dove la seconda è il quadrato della prima"
      ]
    },
    {
      "cell_type": "code",
      "execution_count": 68,
      "metadata": {
        "id": "o8L_XLrsAsy6",
        "outputId": "8e34df5e-0c37-4ddc-cf53-74e6e2bf4c8d",
        "colab": {
          "base_uri": "https://localhost:8080/"
        }
      },
      "outputs": [
        {
          "output_type": "execute_result",
          "data": {
            "text/plain": [
              "array([[  1.7 ,   2.89],\n",
              "       [  2.2 ,   4.84],\n",
              "       [ 14.4 , 207.36],\n",
              "       [ 15.6 , 243.36]])"
            ]
          },
          "metadata": {},
          "execution_count": 68
        }
      ],
      "source": [
        "X_train_d2[:4]"
      ]
    },
    {
      "cell_type": "markdown",
      "metadata": {
        "id": "tlmc65AVAsy7"
      },
      "source": [
        "- Creiamo come al solito un modello di regressione lineare e addestriamolo con questi dati"
      ]
    },
    {
      "cell_type": "code",
      "execution_count": 69,
      "metadata": {
        "id": "vRBQE8hBAsy8",
        "outputId": "54393f7b-5712-49da-d2bf-72a94fe1c602",
        "colab": {
          "base_uri": "https://localhost:8080/"
        }
      },
      "outputs": [
        {
          "output_type": "execute_result",
          "data": {
            "text/plain": [
              "LinearRegression()"
            ]
          },
          "metadata": {},
          "execution_count": 69
        }
      ],
      "source": [
        "prm = LinearRegression()\n",
        "prm.fit(X_train_d2, y_train)"
      ]
    },
    {
      "cell_type": "markdown",
      "metadata": {
        "id": "lkl-_R-2Asy8"
      },
      "source": [
        "- Possiamo già valutare il modello sul training set stesso"
      ]
    },
    {
      "cell_type": "code",
      "execution_count": 70,
      "metadata": {
        "id": "anjnKkBUAsy9",
        "outputId": "aa9afab4-94d1-4431-80fa-dd944f1cfb58",
        "colab": {
          "base_uri": "https://localhost:8080/"
        }
      },
      "outputs": [
        {
          "output_type": "stream",
          "name": "stdout",
          "text": [
            "   Mean squared error: 0.032695\n",
            "       Relative error: 7.81509%\n",
            "R-squared coefficient: 0.69479\n"
          ]
        }
      ],
      "source": [
        "print_eval(X_train_d2, y_train, prm)"
      ]
    },
    {
      "cell_type": "markdown",
      "metadata": {
        "id": "QXbA5dT8Asy-"
      },
      "source": [
        "- Per valutarlo sul validation set, ricaviamo da esso (`X_val`) una matrice `X_val_d2` come fatto prima per il training set"
      ]
    },
    {
      "cell_type": "code",
      "execution_count": 71,
      "metadata": {
        "id": "CkDhIn4RAsy_"
      },
      "outputs": [],
      "source": [
        "X_val_d2 = np.c_[X_val, X_val ** 2]"
      ]
    },
    {
      "cell_type": "code",
      "execution_count": 72,
      "metadata": {
        "id": "-ezFLlMVAsy_",
        "outputId": "841982b2-2f8a-4cc1-e279-7a4986f613e3",
        "colab": {
          "base_uri": "https://localhost:8080/"
        }
      },
      "outputs": [
        {
          "output_type": "stream",
          "name": "stdout",
          "text": [
            "   Mean squared error: 0.037151\n",
            "       Relative error: 8.89180%\n",
            "R-squared coefficient: 0.65373\n"
          ]
        }
      ],
      "source": [
        "print_eval(X_val_d2, y_val, prm)"
      ]
    },
    {
      "cell_type": "markdown",
      "metadata": {
        "id": "Rc12w6lhAszA"
      },
      "source": [
        "- Vediamo che questo modello con l'aggiunta del termine di secondo grado è molto più accurato di quello lineare"
      ]
    },
    {
      "cell_type": "markdown",
      "metadata": {
        "id": "2JW5c42PAszB"
      },
      "source": [
        "## Esercizio 3: Regressione polinomiale di terzo grado\n",
        "\n",
        "- **(3a)** Creare una matrice `X_train_d3` con tre colonne contenenti rispettivamente i valori di `X_train`, i quadrati e i cubi\n",
        "- **(3b)** Creare una matrice simile `X_val_d3` basata su `X_val`\n",
        "- **(3c)** Addestrare un modello di regressione lineare su `X_train_d3`\n",
        "- **(3d)** Stampare le metriche di valutazione del modello su `X_train_d3` e `X_val_d3`"
      ]
    },
    {
      "cell_type": "code",
      "source": [
        "X_train_d3 = np.c_[X_train_d2, X_train ** 3]"
      ],
      "metadata": {
        "id": "O4ETQq1BQyaU"
      },
      "execution_count": 73,
      "outputs": []
    },
    {
      "cell_type": "code",
      "source": [
        "X_val_d3 = np.c_[X_val_d2, X_val ** 3]"
      ],
      "metadata": {
        "id": "0u4P7huARTNH"
      },
      "execution_count": 74,
      "outputs": []
    },
    {
      "cell_type": "code",
      "source": [
        "mdld3 = LinearRegression()\n",
        "mdld3.fit(X_train_d3, y_train)"
      ],
      "metadata": {
        "id": "cmHaF1-kRb1I",
        "outputId": "9cde049e-4e13-4d1c-eda9-0a67579e58e2",
        "colab": {
          "base_uri": "https://localhost:8080/"
        }
      },
      "execution_count": 75,
      "outputs": [
        {
          "output_type": "execute_result",
          "data": {
            "text/plain": [
              "LinearRegression()"
            ]
          },
          "metadata": {},
          "execution_count": 75
        }
      ]
    },
    {
      "cell_type": "code",
      "source": [
        "print_eval(X_train_d3, y_train , mdld3)\n",
        "print_eval(X_val_d3, y_val, mdld3)"
      ],
      "metadata": {
        "id": "vtF2sDNdRqe6",
        "outputId": "992894b0-d6f4-4fd6-a935-04b9b969c728",
        "colab": {
          "base_uri": "https://localhost:8080/"
        }
      },
      "execution_count": 76,
      "outputs": [
        {
          "output_type": "stream",
          "name": "stdout",
          "text": [
            "   Mean squared error: 0.021047\n",
            "       Relative error: 6.19993%\n",
            "R-squared coefficient: 0.80352\n",
            "   Mean squared error: 0.025885\n",
            "       Relative error: 7.18888%\n",
            "R-squared coefficient: 0.75874\n"
          ]
        }
      ]
    },
    {
      "cell_type": "markdown",
      "metadata": {
        "id": "ylZbQ3EfAszB"
      },
      "source": [
        "## Feature polinomiali con scikit-learn\n",
        "\n",
        "- Per applicare trasformazioni ai dati da fornire ai modelli, scikit-learn fornisce dei _filtri_ con un'interfaccia standard\n",
        "- Ad esempio, per generare le variabili per la regressione polinomiale, usiamo il filtro `PolynomialFeatures`\n",
        "- In modo simile ai modelli di predizione, un filtro va dapprima creato, impostandone eventuali iperparametri\n",
        "- L'iperparametro più importante di `PolynomialFeatures` è `degree`, che indica il grado massimo delle feature da generare"
      ]
    },
    {
      "cell_type": "code",
      "execution_count": 1,
      "metadata": {
        "id": "ZWK54HjJAszC"
      },
      "outputs": [],
      "source": [
        "from sklearn.preprocessing import PolynomialFeatures\n",
        "poly = PolynomialFeatures(degree=3)"
      ]
    },
    {
      "cell_type": "markdown",
      "metadata": {
        "id": "sJbkdW3fAszC"
      },
      "source": [
        "- Come i modelli (es. `LinearRegression`), i filtri vanno \"addestrati\" con dei dati d'esempio prima di essere utilizzati \n",
        "  - nel caso di `PolynomialFeatures`, l'addestramento serve solo a indicare il numero di variabili presenti nei dati in input\n",
        "- Ad esempio, creiamo una matrice con due osservazioni (righe) di una generica variabile (colonna) $X$"
      ]
    },
    {
      "cell_type": "code",
      "execution_count": 77,
      "metadata": {
        "id": "YopdVRVuAszD"
      },
      "outputs": [],
      "source": [
        "sample = np.array([ [ 2],\n",
        "                    [-3] ])"
      ]
    },
    {
      "cell_type": "markdown",
      "metadata": {
        "id": "dDBljgecAszD"
      },
      "source": [
        "- Passiamo ora questa matrice al metodo `fit`: il filtro apprende che i dati sono composti da una singola variabile"
      ]
    },
    {
      "cell_type": "code",
      "execution_count": 78,
      "metadata": {
        "id": "VbmPJQwNAszE",
        "outputId": "fd18fd83-c986-4a1d-ef0a-f30b561810ff",
        "colab": {
          "base_uri": "https://localhost:8080/"
        }
      },
      "outputs": [
        {
          "output_type": "execute_result",
          "data": {
            "text/plain": [
              "PolynomialFeatures(degree=3)"
            ]
          },
          "metadata": {},
          "execution_count": 78
        }
      ],
      "source": [
        "poly.fit(sample)"
      ]
    },
    {
      "cell_type": "markdown",
      "metadata": {
        "id": "dbcGy4zfAszE"
      },
      "source": [
        "- Una volta addestrato, possiamo usare il metodo `transform` del filtro per trasformare qualsiasi matrice compatibile, ovvero con una sola colonna\n",
        "- Trasformiamo ad esempio la stessa matrice usata in `fit`"
      ]
    },
    {
      "cell_type": "code",
      "execution_count": 79,
      "metadata": {
        "id": "_cOeWnKOAszF",
        "outputId": "504f83e8-bd04-4119-8c25-e8e561313ae2",
        "colab": {
          "base_uri": "https://localhost:8080/"
        }
      },
      "outputs": [
        {
          "output_type": "execute_result",
          "data": {
            "text/plain": [
              "array([[  1.,   2.,   4.,   8.],\n",
              "       [  1.,  -3.,   9., -27.]])"
            ]
          },
          "metadata": {},
          "execution_count": 79
        }
      ],
      "source": [
        "poly.transform(sample)\n",
        "#        X^0   X^1   X^2   X^3"
      ]
    },
    {
      "cell_type": "markdown",
      "metadata": {
        "id": "7-lhqzBLAszF"
      },
      "source": [
        "- Dati i valori di $X$, il filtro ha restituito i valori di $X^0, X^1, X^2, X^3$\n",
        "- I filtri forniscono un metodo `fit_transform` che raggruppa le due operazioni sopra: addestra il modello sui dati passati e li trasforma\n",
        "  - in pratica va usato `fit_transform` al primo utilizzo di un filtro e `transform` ai successivi"
      ]
    },
    {
      "cell_type": "code",
      "execution_count": 80,
      "metadata": {
        "id": "NJfhu7L5AszG",
        "outputId": "7a88672c-9f7d-4786-f55c-e76c3db3b37a",
        "colab": {
          "base_uri": "https://localhost:8080/"
        }
      },
      "outputs": [
        {
          "output_type": "execute_result",
          "data": {
            "text/plain": [
              "array([[  1.,   2.,   4.,   8.],\n",
              "       [  1.,  -3.,   9., -27.]])"
            ]
          },
          "metadata": {},
          "execution_count": 80
        }
      ],
      "source": [
        "poly = PolynomialFeatures(degree=3)\n",
        "poly.fit_transform(sample)"
      ]
    },
    {
      "cell_type": "markdown",
      "metadata": {
        "id": "me8sRkvAAszG"
      },
      "source": [
        "- La colonna $X^0$ ha sempre valore 1 ed è inutile nell'addestrare il modello, in quanto sarebbe ridondante con l'intercetta\n",
        "- Possiamo escluderla impostando l'iperparametro `include_bias=False` sul filtro"
      ]
    },
    {
      "cell_type": "code",
      "execution_count": 81,
      "metadata": {
        "id": "WQA3nqdZAszH",
        "outputId": "69cc6def-2bf4-463e-96f8-16cee8f9997c",
        "colab": {
          "base_uri": "https://localhost:8080/"
        }
      },
      "outputs": [
        {
          "output_type": "execute_result",
          "data": {
            "text/plain": [
              "array([[  2.,   4.,   8.],\n",
              "       [ -3.,   9., -27.]])"
            ]
          },
          "metadata": {},
          "execution_count": 81
        }
      ],
      "source": [
        "poly = PolynomialFeatures(degree=3, include_bias=False)\n",
        "poly.fit_transform(sample)"
      ]
    },
    {
      "cell_type": "markdown",
      "metadata": {
        "id": "FypiTKHmAszX"
      },
      "source": [
        "- Per addestrare un modello polinomiale possiamo quindi creare il filtro per l'aggiunta delle feature, ad esempio di secondo grado..."
      ]
    },
    {
      "cell_type": "code",
      "execution_count": 82,
      "metadata": {
        "id": "O4o4haxzAszY"
      },
      "outputs": [],
      "source": [
        "poly = PolynomialFeatures(degree=2, include_bias=False)"
      ]
    },
    {
      "cell_type": "markdown",
      "metadata": {
        "id": "S4KMa8pzAszZ"
      },
      "source": [
        "- ...e addestrare un modello lineare con i dati trasformati"
      ]
    },
    {
      "cell_type": "code",
      "execution_count": 83,
      "metadata": {
        "id": "_aSv5hd3AszZ",
        "outputId": "2ac2d8a2-acc3-4368-a965-f7250f0b42a7",
        "colab": {
          "base_uri": "https://localhost:8080/"
        }
      },
      "outputs": [
        {
          "output_type": "execute_result",
          "data": {
            "text/plain": [
              "LinearRegression()"
            ]
          },
          "metadata": {},
          "execution_count": 83
        }
      ],
      "source": [
        "prm = LinearRegression()\n",
        "X_train_sq = poly.fit_transform(X_train)\n",
        "prm.fit(X_train_sq, y_train)"
      ]
    },
    {
      "cell_type": "markdown",
      "metadata": {
        "id": "AwVS02XLAsza"
      },
      "source": [
        "- In seguito, i valori della _x_ dovranno sempre essere trasformati con lo stesso filtro, utilizzando il metodo `transform`\n",
        "- Ad esempio, per ottenere i consumi predetti a fronte di temperature di -5 °C, 5 °C e 25 °C..."
      ]
    },
    {
      "cell_type": "code",
      "execution_count": 84,
      "metadata": {
        "id": "AEhSagIEAszb",
        "outputId": "4cef2610-f7ea-4197-caa5-148087c64243",
        "colab": {
          "base_uri": "https://localhost:8080/"
        }
      },
      "outputs": [
        {
          "output_type": "stream",
          "name": "stderr",
          "text": [
            "/usr/local/lib/python3.8/dist-packages/sklearn/base.py:450: UserWarning: X does not have valid feature names, but PolynomialFeatures was fitted with feature names\n",
            "  warnings.warn(\n"
          ]
        },
        {
          "output_type": "execute_result",
          "data": {
            "text/plain": [
              "array([2.0611981 , 1.6400669 , 1.96642686])"
            ]
          },
          "metadata": {},
          "execution_count": 84
        }
      ],
      "source": [
        "sample = [ [-5], [5], [25] ]\n",
        "sample_sq = poly.transform(sample)\n",
        "prm.predict(sample_sq)"
      ]
    },
    {
      "cell_type": "markdown",
      "metadata": {
        "id": "zv83oASTAszb"
      },
      "source": [
        "- Per ottenere invece le metriche d'accuratezza..."
      ]
    },
    {
      "cell_type": "code",
      "execution_count": 85,
      "metadata": {
        "id": "xu7k9zSCAszc",
        "outputId": "e31b60ae-573f-4206-b2f6-f208483ce882",
        "colab": {
          "base_uri": "https://localhost:8080/"
        }
      },
      "outputs": [
        {
          "output_type": "stream",
          "name": "stdout",
          "text": [
            "   Mean squared error: 0.037151\n",
            "       Relative error: 8.89180%\n",
            "R-squared coefficient: 0.65373\n"
          ]
        }
      ],
      "source": [
        "X_val_sq = poly.transform(X_val)\n",
        "print_eval(X_val_sq, y_val, prm)"
      ]
    },
    {
      "cell_type": "markdown",
      "metadata": {
        "id": "zrU3pKxpAszc"
      },
      "source": [
        "## Pipeline\n",
        "\n",
        "- Ad ogni interazione col modello `prm` sopra dobbiamo esplicitamente trasformare i dati in ingresso col filtro `poly`\n",
        "- scikit-learn permette di integrare uno o più filtri con un modello creando una **_pipeline_**\n",
        "- Una volta costruita, la pipeline offre la **stessa API del modello** di predizione incapsulato, ma **applica automaticamente i filtri** ai dati prima di passarli al modello\n",
        "  - chiamando `fit`, i filtri sono addestrati e applicati (`fit_transform`) sui dati di addestramento\n",
        "  - chiamando `predict` (o `score`), i filtri già tarati sono applicati ai nuovi dati (`transform`)\n",
        "- Ad esempio, per incapsulare il modello polinomiale visto sopra in un oggetto unico, usiamo una pipeline con il filtro `PolynomialFeatures` e il modello lineare\n",
        "  - al costruttore va passata la lista dei componenti **in ordine di applicazione**, ciascuno rappresentato da una tupla con nome e componente"
      ]
    },
    {
      "cell_type": "code",
      "execution_count": 86,
      "metadata": {
        "id": "_V_VSUFyAszd"
      },
      "outputs": [],
      "source": [
        "from sklearn.pipeline import Pipeline\n",
        "prm = Pipeline([\n",
        "    # nome     elemento\n",
        "    (\"poly\",   PolynomialFeatures(degree=2, include_bias=False)),\n",
        "    (\"linreg\", LinearRegression())\n",
        "])"
      ]
    },
    {
      "cell_type": "markdown",
      "metadata": {
        "id": "Y1-0P_HNAszd"
      },
      "source": [
        "- Possiamo ora eseguire le stesse operazioni vista sopra sul modello, ma con la trasformazione dei dati applicata in automatico"
      ]
    },
    {
      "cell_type": "code",
      "execution_count": 87,
      "metadata": {
        "id": "jvYgh4zIAszd",
        "outputId": "9bced926-c8d5-4640-f08c-b82bf4bd1775",
        "colab": {
          "base_uri": "https://localhost:8080/"
        }
      },
      "outputs": [
        {
          "output_type": "execute_result",
          "data": {
            "text/plain": [
              "Pipeline(steps=[('poly', PolynomialFeatures(include_bias=False)),\n",
              "                ('linreg', LinearRegression())])"
            ]
          },
          "metadata": {},
          "execution_count": 87
        }
      ],
      "source": [
        "prm.fit(X_train, y_train)"
      ]
    },
    {
      "cell_type": "code",
      "execution_count": 88,
      "metadata": {
        "id": "pjhugVd2Asze",
        "outputId": "31a7ba33-7caf-4b9f-8476-844060ad9834",
        "colab": {
          "base_uri": "https://localhost:8080/"
        }
      },
      "outputs": [
        {
          "output_type": "stream",
          "name": "stderr",
          "text": [
            "/usr/local/lib/python3.8/dist-packages/sklearn/base.py:450: UserWarning: X does not have valid feature names, but PolynomialFeatures was fitted with feature names\n",
            "  warnings.warn(\n"
          ]
        },
        {
          "output_type": "execute_result",
          "data": {
            "text/plain": [
              "array([2.0611981 , 1.6400669 , 1.96642686])"
            ]
          },
          "metadata": {},
          "execution_count": 88
        }
      ],
      "source": [
        "prm.predict([ [-5], [5], [25] ])"
      ]
    },
    {
      "cell_type": "code",
      "execution_count": 89,
      "metadata": {
        "id": "IKo0uxkJAszf",
        "outputId": "5650a9b1-dfbe-481a-dcda-f06a6dbf5b80",
        "colab": {
          "base_uri": "https://localhost:8080/"
        }
      },
      "outputs": [
        {
          "output_type": "stream",
          "name": "stdout",
          "text": [
            "   Mean squared error: 0.037151\n",
            "       Relative error: 8.89180%\n",
            "R-squared coefficient: 0.65373\n"
          ]
        }
      ],
      "source": [
        "print_eval(X_val, y_val, prm)"
      ]
    },
    {
      "cell_type": "markdown",
      "metadata": {
        "id": "yhFXj_qmAszf"
      },
      "source": [
        "- Tramite l'attributo `named_steps` della pipeline possiamo accedere ai singoli componenti\n",
        "  - funziona come un dizionario le cui chiavi sono i nomi assegnati ai componenti nel costruttore"
      ]
    },
    {
      "cell_type": "code",
      "execution_count": null,
      "metadata": {
        "id": "oQ5wU-sDAszg",
        "outputId": "ccd5816f-d21d-4a07-d6f7-7d92a70dd723"
      },
      "outputs": [
        {
          "data": {
            "text/plain": [
              "dict_keys(['poly', 'linreg'])"
            ]
          },
          "execution_count": 96,
          "metadata": {},
          "output_type": "execute_result"
        }
      ],
      "source": [
        "prm.named_steps.keys()"
      ]
    },
    {
      "cell_type": "markdown",
      "metadata": {
        "id": "Ro-ooqmwAszg"
      },
      "source": [
        "- Possiamo ad esempio reperire il modello di regressione lineare `linreg`..."
      ]
    },
    {
      "cell_type": "code",
      "execution_count": null,
      "metadata": {
        "id": "pJJvWSh9Aszh",
        "outputId": "041b5565-7898-4076-eb8a-7a5baebe8ef2"
      },
      "outputs": [
        {
          "data": {
            "text/plain": [
              "LinearRegression()"
            ]
          },
          "execution_count": 97,
          "metadata": {},
          "output_type": "execute_result"
        }
      ],
      "source": [
        "prm.named_steps[\"linreg\"]"
      ]
    },
    {
      "cell_type": "markdown",
      "metadata": {
        "id": "w1XRuxxYAszh"
      },
      "source": [
        "- ...e vedere i pesi assegnati alle due variabili, nell'ordine X e X²"
      ]
    },
    {
      "cell_type": "code",
      "execution_count": null,
      "metadata": {
        "id": "MyJtgriBAszi",
        "outputId": "08450dce-d1bb-45b8-8a2e-d44d1e5dd96c"
      },
      "outputs": [
        {
          "data": {
            "text/plain": [
              "array([-0.04211312,  0.0019477 ])"
            ]
          },
          "execution_count": 98,
          "metadata": {},
          "output_type": "execute_result"
        }
      ],
      "source": [
        "prm.named_steps[\"linreg\"].coef_"
      ]
    },
    {
      "cell_type": "markdown",
      "metadata": {
        "id": "LmOPOSVLAszi"
      },
      "source": [
        "## Curva del modello polinomiale\n",
        "\n",
        "- Visualizzando il modello polinomiale di secondo grado in un grafico, vediamo che ha la forma di una funzione $a\\cdot x^2+b\\cdot x+c$, ovvero una parabola"
      ]
    },
    {
      "cell_type": "code",
      "execution_count": 90,
      "metadata": {
        "id": "gQ-VO6RsAszj",
        "outputId": "d6faf34e-7ad2-47d5-b1a3-92d36df7d3a3",
        "colab": {
          "base_uri": "https://localhost:8080/",
          "height": 477
        }
      },
      "outputs": [
        {
          "output_type": "stream",
          "name": "stderr",
          "text": [
            "/usr/local/lib/python3.8/dist-packages/sklearn/base.py:450: UserWarning: X does not have valid feature names, but PolynomialFeatures was fitted with feature names\n",
            "  warnings.warn(\n"
          ]
        },
        {
          "output_type": "display_data",
          "data": {
            "text/plain": [
              "<Figure size 720x504 with 1 Axes>"
            ],
            "image/png": "[encoded data removed]"
          },
          "metadata": {
            "needs_background": "light"
          }
        }
      ],
      "source": [
        "plot_model_on_data(X_val, y_val, prm)"
      ]
    },
    {
      "cell_type": "markdown",
      "metadata": {
        "id": "Ud2wogFWAszj"
      },
      "source": [
        "- Come anche confermato dalle misure di errore, questo modello approssima molto meglio il consumo in base alla temperatura rispetto a quello lineare"
      ]
    },
    {
      "cell_type": "markdown",
      "metadata": {
        "id": "7DQw8VqwAszj"
      },
      "source": [
        "## Esercizio 4: Regressione polinomiale con pipeline\n",
        "\n",
        "- **(4a)** Creare un modello di regressione polinomiale di terzo grado usando una pipeline come sopra\n",
        "- **(4b)** Addestrare il modello sui dati di training\n",
        "- **(4c)** Stampare le misure di accuratezza del modello calcolate sui dati di training e su quelli di validazione\n",
        "- **(4d)** Visualizzare il grafico del modello sovrapposto ai dati di validazione"
      ]
    },
    {
      "cell_type": "code",
      "source": [
        "plrm = Pipeline([(\"poly\", PolynomialFeatures(degree=3, include_bias=False)),\n",
        "                (\"model\", LinearRegression())])"
      ],
      "metadata": {
        "id": "fw6eRGsHoq2e"
      },
      "execution_count": 94,
      "outputs": []
    },
    {
      "cell_type": "code",
      "source": [
        "plrm.fit(X_train, y_train)"
      ],
      "metadata": {
        "id": "1aYXLRHQpXLy",
        "outputId": "ef49ee7e-6f8d-4ead-ee12-02f75d3eb53c",
        "colab": {
          "base_uri": "https://localhost:8080/"
        }
      },
      "execution_count": 95,
      "outputs": [
        {
          "output_type": "execute_result",
          "data": {
            "text/plain": [
              "Pipeline(steps=[('poly', PolynomialFeatures(degree=3, include_bias=False)),\n",
              "                ('model', LinearRegression())])"
            ]
          },
          "metadata": {},
          "execution_count": 95
        }
      ]
    },
    {
      "cell_type": "code",
      "source": [
        "print_eval(X_train, y_train, plrm)\n",
        "print_eval(X_val, y_val, plrm)"
      ],
      "metadata": {
        "id": "tPeNuQ4fpfJ-",
        "outputId": "bc22e984-6a74-4729-d24d-7a26dd54a3f7",
        "colab": {
          "base_uri": "https://localhost:8080/"
        }
      },
      "execution_count": 96,
      "outputs": [
        {
          "output_type": "stream",
          "name": "stdout",
          "text": [
            "   Mean squared error: 0.021047\n",
            "       Relative error: 6.19993%\n",
            "R-squared coefficient: 0.80352\n",
            "   Mean squared error: 0.025885\n",
            "       Relative error: 7.18888%\n",
            "R-squared coefficient: 0.75874\n"
          ]
        }
      ]
    },
    {
      "cell_type": "code",
      "source": [
        "plot_model_on_data(X_val, y_val, plrm)"
      ],
      "metadata": {
        "id": "gnJCMfrppwlI",
        "outputId": "b28a1269-7815-479f-81a2-59f6ee495e46",
        "colab": {
          "base_uri": "https://localhost:8080/",
          "height": 477
        }
      },
      "execution_count": 97,
      "outputs": [
        {
          "output_type": "stream",
          "name": "stderr",
          "text": [
            "/usr/local/lib/python3.8/dist-packages/sklearn/base.py:450: UserWarning: X does not have valid feature names, but PolynomialFeatures was fitted with feature names\n",
            "  warnings.warn(\n"
          ]
        },
        {
          "output_type": "display_data",
          "data": {
            "text/plain": [
              "<Figure size 720x504 with 1 Axes>"
            ],
            "image/png": "[encoded data removed]"
          },
          "metadata": {
            "needs_background": "light"
          }
        }
      ]
    },
    {
      "cell_type": "markdown",
      "metadata": {
        "id": "tsr_pXzMAszk"
      },
      "source": [
        "## Standardizzazione dei dati\n",
        "\n",
        "- Data una variabile $X$ con media $\\mu$ e deviazione standard $\\sigma$, la sua versione \"standard\" è calcolata come\n",
        "$$ Z = \\frac{X-\\mu}{\\sigma} $$\n",
        "- $Z$ mantiene la distribuzione dei dati di $X$, ma con media 0 e deviazione standard 1\n",
        "- In presenza di più variabili con scale diverse, applicare la standardizzazione a ciascuna di esse è utile per uniformarne i valori\n",
        "- Questo può migliorare l'accuratezza dei modelli di regressione"
      ]
    },
    {
      "cell_type": "markdown",
      "metadata": {
        "id": "FpmwyRl6Aszl"
      },
      "source": [
        "- La standardizzazione si esegue col filtro `StandardScaler`"
      ]
    },
    {
      "cell_type": "code",
      "execution_count": 98,
      "metadata": {
        "id": "kuvGJh9OAszl"
      },
      "outputs": [],
      "source": [
        "from sklearn.preprocessing import StandardScaler\n",
        "scaler = StandardScaler()"
      ]
    },
    {
      "cell_type": "markdown",
      "metadata": {
        "id": "fcBEEwvrAszm"
      },
      "source": [
        "- Eseguendo `fit_transform` (o `fit`) il filtro memorizza medie e deviazioni standard dei dati passati, salvate negli attributi `mean_` e `scale_`"
      ]
    },
    {
      "cell_type": "code",
      "execution_count": 99,
      "metadata": {
        "id": "htgsNpgaAszm",
        "outputId": "111edf61-5d39-4a13-9e17-4776908e2727",
        "colab": {
          "base_uri": "https://localhost:8080/"
        }
      },
      "outputs": [
        {
          "output_type": "execute_result",
          "data": {
            "text/plain": [
              "array([[-1.06904497,  1.22474487],\n",
              "       [-0.26726124,  0.        ],\n",
              "       [ 1.33630621, -1.22474487]])"
            ]
          },
          "metadata": {},
          "execution_count": 99
        }
      ],
      "source": [
        "scaler.fit_transform([[0.001, 4000],\n",
        "                      [0.002, 2500],\n",
        "                      [0.004, 1000]])"
      ]
    },
    {
      "cell_type": "code",
      "execution_count": 100,
      "metadata": {
        "id": "Nx6mchmoAszn",
        "outputId": "996fc1dc-f84a-4eb8-d1ad-3032cfd0bcd5",
        "colab": {
          "base_uri": "https://localhost:8080/"
        }
      },
      "outputs": [
        {
          "output_type": "execute_result",
          "data": {
            "text/plain": [
              "array([2.33333333e-03, 2.50000000e+03])"
            ]
          },
          "metadata": {},
          "execution_count": 100
        }
      ],
      "source": [
        "scaler.mean_"
      ]
    },
    {
      "cell_type": "code",
      "execution_count": 101,
      "metadata": {
        "id": "HHuWz40RAszn",
        "outputId": "c4626dd6-eb4f-4f46-8eba-3dd9b93a172f",
        "colab": {
          "base_uri": "https://localhost:8080/"
        }
      },
      "outputs": [
        {
          "output_type": "execute_result",
          "data": {
            "text/plain": [
              "array([1.24721913e-03, 1.22474487e+03])"
            ]
          },
          "metadata": {},
          "execution_count": 101
        }
      ],
      "source": [
        "scaler.scale_"
      ]
    },
    {
      "cell_type": "markdown",
      "metadata": {
        "id": "LzttXLNUAszo"
      },
      "source": [
        "- Successivamente `transform` trasformerà ulteriori dati secondo medie e deviazioni memorizzate"
      ]
    },
    {
      "cell_type": "code",
      "execution_count": null,
      "metadata": {
        "id": "CYX8M8ITAszo",
        "outputId": "f8b7e755-c7dc-48f5-887b-4de9d358dd59"
      },
      "outputs": [
        {
          "data": {
            "text/plain": [
              "array([[ 6.14700856, -1.95959179]])"
            ]
          },
          "execution_count": 110,
          "metadata": {},
          "output_type": "execute_result"
        }
      ],
      "source": [
        "scaler.transform([ [0.01, 100] ])"
      ]
    },
    {
      "cell_type": "markdown",
      "metadata": {
        "id": "TifJiTQ3Aszo"
      },
      "source": [
        "- Addestriamo un modello polinomiale di secondo grado come quello sopra, ma applicando la standardizzazione alle variabili $X$ e $X^2$\n",
        "- Per far ciò, basta aggiungere il filtro alla pipeline"
      ]
    },
    {
      "cell_type": "code",
      "execution_count": 102,
      "metadata": {
        "id": "u2VocyGbAszp",
        "outputId": "5fff4fb8-4052-499b-c6e5-6eb58ca16526",
        "colab": {
          "base_uri": "https://localhost:8080/"
        }
      },
      "outputs": [
        {
          "output_type": "execute_result",
          "data": {
            "text/plain": [
              "Pipeline(steps=[('poly', PolynomialFeatures(include_bias=False)),\n",
              "                ('scale', StandardScaler()), ('linreg', LinearRegression())])"
            ]
          },
          "metadata": {},
          "execution_count": 102
        }
      ],
      "source": [
        "prm = Pipeline([\n",
        "    (\"poly\",   PolynomialFeatures(degree=2, include_bias=False)),\n",
        "    (\"scale\",  StandardScaler()),   # <- aggiunto\n",
        "    (\"linreg\", LinearRegression())\n",
        "])\n",
        "prm.fit(X_train, y_train)"
      ]
    },
    {
      "cell_type": "markdown",
      "metadata": {
        "id": "xkoakXqzAszq"
      },
      "source": [
        "- Valutiamo l'accuratezza del modello"
      ]
    },
    {
      "cell_type": "code",
      "execution_count": 103,
      "metadata": {
        "id": "g3ktVTVkAszq",
        "outputId": "58acb9a0-cf7f-46ef-f0c8-d1db58976cd6",
        "colab": {
          "base_uri": "https://localhost:8080/"
        }
      },
      "outputs": [
        {
          "output_type": "stream",
          "name": "stdout",
          "text": [
            "   Mean squared error: 0.037151\n",
            "       Relative error: 8.89180%\n",
            "R-squared coefficient: 0.65373\n"
          ]
        }
      ],
      "source": [
        "print_eval(X_val, y_val, prm)"
      ]
    },
    {
      "cell_type": "markdown",
      "metadata": {
        "id": "IOeM5l28Aszr"
      },
      "source": [
        "- In questo caso le metriche di accuratezza non sono cambiate standardizzando i dati\n",
        "- Ma cosa succede con più variabili con ordini di grandezza molto diversi?"
      ]
    },
    {
      "cell_type": "markdown",
      "metadata": {
        "id": "pHin_dleAszr"
      },
      "source": [
        "## Normalizzazione min-max dei dati\n",
        "\n",
        "- Una tecnica alternativa alla standardizzazione per preprocessare dati in scale diverse è la _normalizzazione minimo-massimo_, che porta i valori di ogni variabile in un intervallo prestabilito, di solito tra 0 e 1\n",
        "- Data una generica variabile $X$, la sua normalizzazione $N$ si calcola come\n",
        "$$ N=\\frac{X-\\min(X)}{\\max(X)-\\min(X)}$$\n",
        "- Tale trasformazione si effettua col filtro `MinMaxScaler`"
      ]
    },
    {
      "cell_type": "code",
      "execution_count": 104,
      "metadata": {
        "id": "BNplcLeiAszr"
      },
      "outputs": [],
      "source": [
        "from sklearn.preprocessing import MinMaxScaler\n",
        "scaler = MinMaxScaler()"
      ]
    },
    {
      "cell_type": "markdown",
      "metadata": {
        "id": "UaFF96wZAszs"
      },
      "source": [
        "- Addestrando il filtro, vengono salvati gli attributi `min_` ($\\min(X)$) e `scale_` ($\\frac{1}{\\max(X)-\\min(X)}$) usati per effettuare la normalizzazione"
      ]
    },
    {
      "cell_type": "code",
      "execution_count": 105,
      "metadata": {
        "id": "Keu3lH-cAszs",
        "outputId": "2d983375-48c3-48c5-d2e0-b1e30eb78d7e",
        "colab": {
          "base_uri": "https://localhost:8080/"
        }
      },
      "outputs": [
        {
          "output_type": "execute_result",
          "data": {
            "text/plain": [
              "array([[0.        , 1.        ],\n",
              "       [0.33333333, 0.5       ],\n",
              "       [1.        , 0.        ]])"
            ]
          },
          "metadata": {},
          "execution_count": 105
        }
      ],
      "source": [
        "scaler.fit_transform([[0.001, 4000],\n",
        "                      [0.002, 2500],\n",
        "                      [0.004, 1000]])"
      ]
    },
    {
      "cell_type": "code",
      "execution_count": 106,
      "metadata": {
        "id": "WIyMmZglAszs",
        "outputId": "2084dfa9-8723-45a2-d139-cb3e19ba3c45",
        "colab": {
          "base_uri": "https://localhost:8080/"
        }
      },
      "outputs": [
        {
          "output_type": "execute_result",
          "data": {
            "text/plain": [
              "array([-0.33333333, -0.33333333])"
            ]
          },
          "metadata": {},
          "execution_count": 106
        }
      ],
      "source": [
        "scaler.min_"
      ]
    },
    {
      "cell_type": "code",
      "execution_count": null,
      "metadata": {
        "id": "l5clv5jIAszt",
        "outputId": "54efe3ce-a1b0-4bf0-d89d-85ec7f9c1f84"
      },
      "outputs": [
        {
          "data": {
            "text/plain": [
              "array([3.33333333e+02, 3.33333333e-04])"
            ]
          },
          "execution_count": 116,
          "metadata": {},
          "output_type": "execute_result"
        }
      ],
      "source": [
        "scaler.scale_"
      ]
    },
    {
      "cell_type": "markdown",
      "metadata": {
        "id": "uoajoSIZAszt"
      },
      "source": [
        "## Esercizio 5: Normalizzazione\n",
        "\n",
        "- **(5a)** Addestrare sul training set un modello di regressione polinomiale di grado 15 (con variabili $X,X^2,\\ldots,X^{15}$) e verificarne le misure di accuratezza sul validation set\n",
        "- **(5b)** Ripetere il punto 4a, ma applicando la standardizzazione dei dati nel modello\n",
        "- **(5c)** Ripetere il punto 4a, ma applicando la normalizzazione min-max dei dati nel modello\n",
        "\n",
        "Avendo a che fare con molte variabili di ordini di grandezza diversi, la standardizzazione contribuisce a migliorare l'accuratezza"
      ]
    },
    {
      "cell_type": "code",
      "source": [
        "mdl15 = Pipeline([ (\"poly\", PolynomialFeatures(degree=15, include_bias=False)),\n",
        "                   (\"model\", LinearRegression())])\n",
        "mdl15.fit(X_train, y_train)"
      ],
      "metadata": {
        "id": "475_-gsZrQNQ",
        "outputId": "2f31eef8-14e1-433f-e207-6d43812a5c25",
        "colab": {
          "base_uri": "https://localhost:8080/"
        }
      },
      "execution_count": 113,
      "outputs": [
        {
          "output_type": "execute_result",
          "data": {
            "text/plain": [
              "Pipeline(steps=[('poly', PolynomialFeatures(degree=15, include_bias=False)),\n",
              "                ('model', LinearRegression())])"
            ]
          },
          "metadata": {},
          "execution_count": 113
        }
      ]
    },
    {
      "cell_type": "code",
      "source": [
        "mdl15_std = Pipeline([ (\"poly\", PolynomialFeatures(degree=15, include_bias=False)),\n",
        "                   (\"std\", StandardScaler()),\n",
        "                   (\"model\", LinearRegression())])\n",
        "mdl15_std.fit(X_train, y_train)"
      ],
      "metadata": {
        "id": "SoPrFUhYrQjd",
        "outputId": "b5960b75-2fa5-49cc-c837-4dca2f5ee7da",
        "colab": {
          "base_uri": "https://localhost:8080/"
        }
      },
      "execution_count": 112,
      "outputs": [
        {
          "output_type": "execute_result",
          "data": {
            "text/plain": [
              "Pipeline(steps=[('poly', PolynomialFeatures(degree=15, include_bias=False)),\n",
              "                ('std', StandardScaler()), ('model', LinearRegression())])"
            ]
          },
          "metadata": {},
          "execution_count": 112
        }
      ]
    },
    {
      "cell_type": "code",
      "source": [
        "mdl15_nrm = Pipeline([ (\"poly\", PolynomialFeatures(degree=15, include_bias=False)),\n",
        "                    (\"reg\", MinMaxScaler()),\n",
        "                    (\"model\", LinearRegression())])\n",
        "mdl15_nrm.fit(X_train, y_train)"
      ],
      "metadata": {
        "id": "G3jZHHFXrQ31",
        "outputId": "a67beef6-4d37-4d25-b276-ba6592907749",
        "colab": {
          "base_uri": "https://localhost:8080/"
        }
      },
      "execution_count": 111,
      "outputs": [
        {
          "output_type": "execute_result",
          "data": {
            "text/plain": [
              "Pipeline(steps=[('poly', PolynomialFeatures(degree=15, include_bias=False)),\n",
              "                ('reg', MinMaxScaler()), ('model', LinearRegression())])"
            ]
          },
          "metadata": {},
          "execution_count": 111
        }
      ]
    },
    {
      "cell_type": "code",
      "source": [
        "for model in [mdl15, mdl15_std, mdl15_nrm]:\n",
        "  print_eval(X_val, y_val, model)"
      ],
      "metadata": {
        "id": "DbRqJb09skYz",
        "outputId": "76a76552-f483-46da-d206-29ee66d7b18b",
        "colab": {
          "base_uri": "https://localhost:8080/"
        }
      },
      "execution_count": 114,
      "outputs": [
        {
          "output_type": "stream",
          "name": "stdout",
          "text": [
            "   Mean squared error: 0.030805\n",
            "       Relative error: 7.69267%\n",
            "R-squared coefficient: 0.71288\n",
            "   Mean squared error: 0.024899\n",
            "       Relative error: 6.89330%\n",
            "R-squared coefficient: 0.76793\n",
            "   Mean squared error: 0.024899\n",
            "       Relative error: 6.89330%\n",
            "R-squared coefficient: 0.76793\n"
          ]
        }
      ]
    }
  ],
  "metadata": {
    "language_info": {
      "name": "python"
    },
    "colab": {
      "provenance": [],
      "toc_visible": true,
      "include_colab_link": true
    },
    "kernelspec": {
      "name": "python3",
      "display_name": "Python 3"
    },
    "gpuClass": "standard"
  },
  "nbformat": 4,
  "nbformat_minor": 0
}
