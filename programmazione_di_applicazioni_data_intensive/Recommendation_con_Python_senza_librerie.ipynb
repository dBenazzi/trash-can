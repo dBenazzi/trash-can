{
  "cells": [
    {
      "cell_type": "markdown",
      "metadata": {
        "id": "view-in-github",
        "colab_type": "text"
      },
      "source": [
        "<a href=\"https://colab.research.google.com/github/dBenazzi/trash-can/blob/main/programmazione_di_applicazioni_data_intensive/Recommendation_con_Python_senza_librerie.ipynb\" target=\"_parent\"><img src=\"https://colab.research.google.com/assets/colab-badge.svg\" alt=\"Open In Colab\"/></a>"
      ]
    },
    {
      "cell_type": "markdown",
      "id": "7cf10b7e",
      "metadata": {
        "id": "7cf10b7e"
      },
      "source": [
        "# Laboratorio: Recommendation con Python (senza librerie)\n",
        "\n",
        "**Programmazione di Applicazioni Data Intensive**  \n",
        "Laurea in Ingegneria e Scienze Informatiche  \n",
        "DISI - Università di Bologna, Cesena\n",
        "\n",
        "Proff. Gianluca Moro, Roberto Pasolini  \n",
        "nome.cognome@unibo.it"
      ]
    },
    {
      "cell_type": "markdown",
      "id": "5a786837",
      "metadata": {
        "id": "5a786837"
      },
      "source": [
        "## Introduzione a Jupyter/Colab\n",
        "\n",
        "- Questo è un file Jupyter (`.ipynb`)\n",
        "- Al suo interno si trovano celle di codice Python eseguibili\n",
        "- Eseguendo una cella, il risultato che si ottiene è riportato sotto la cella stessa\n",
        "  - stringhe stampate con `print` e/o risultato di un'espressione\n",
        "- Le celle di codice possono essere modificate e rieseguite liberamente"
      ]
    },
    {
      "cell_type": "markdown",
      "id": "62457970",
      "metadata": {
        "id": "62457970"
      },
      "source": [
        "- Questo è un esempio di cella di codice:"
      ]
    },
    {
      "cell_type": "code",
      "execution_count": null,
      "id": "e30f68fb",
      "metadata": {
        "id": "e30f68fb",
        "outputId": "2b38454c-c222-4317-cb5a-6f238322407f"
      },
      "outputs": [
        {
          "data": {
            "text/plain": [
              "42"
            ]
          },
          "execution_count": 1,
          "metadata": {},
          "output_type": "execute_result"
        }
      ],
      "source": [
        "20 + 20 + 2"
      ]
    },
    {
      "cell_type": "markdown",
      "id": "419a20ea",
      "metadata": {
        "id": "419a20ea"
      },
      "source": [
        "- Cliccare sulla cella e premere **Maiusc + Invio** per eseguirla: il risultato dell'espressione comparirà sotto\n",
        "- Si può aggiungere una nuova cella di codice sotto a quella corrente\n",
        "  - cliccando sul pulsante \"+ Code\" che appare tra le celle in Colab\n",
        "  - cliccando sul pulsante \"+\" in alto in Jupyter"
      ]
    },
    {
      "cell_type": "markdown",
      "id": "32ffd4f4",
      "metadata": {
        "id": "32ffd4f4"
      },
      "source": [
        "### Comandi principali da tastiera\n",
        "\n",
        "- **Ctrl + Invio**: esegui cella corrente\n",
        "- **Maiusc + Invio**: esegui cella corrente e seleziona la successiva\n",
        "- **Esc**: termina modifica (senza eseguire)\n",
        "\n",
        "I comandi sotto funzionano sulla cella selezionata solo se non se ne sta modificando il contenuto:\n",
        "- **Invio**: modifica contenuto\n",
        "- **A/B**: crea nuova cella sopra/sotto\n",
        "- **Ctrl+M** seguito da **D**: elimina cella (due volte D in Jupyter)"
      ]
    },
    {
      "cell_type": "markdown",
      "id": "1e46614a",
      "metadata": {
        "tags": [],
        "id": "1e46614a"
      },
      "source": [
        "### Autocompletamento e inline help\n",
        "\n",
        "- Nelle celle di codice sono forniti suggerimenti sul completamento di un nome di variabile, funzione, ecc.\n",
        "  - si provi ad es. a creare una cella di codice (tasto B), e digitare \"so\"\n",
        "  - attivare l'autocompletamento con Ctrl+Invio su Colab o con Tab su Jupyter\n",
        "  - l'autocompletamento suggerisce ad es. la funzione `sorted`\n",
        "- Per ottenere informazioni in linea su una funzione o metodo `foo`, eseguire una cella con `foo?`\n",
        "  - in alternativa, usare la funzione `help` di Python: `help(foo)`"
      ]
    },
    {
      "cell_type": "code",
      "execution_count": null,
      "id": "56741d26",
      "metadata": {
        "id": "56741d26",
        "outputId": "5e2cccfe-b60b-4bad-a263-3a0ae27e9312"
      },
      "outputs": [
        {
          "data": {
            "text/plain": [
              "\u001b[0;31mSignature:\u001b[0m \u001b[0mlen\u001b[0m\u001b[0;34m(\u001b[0m\u001b[0mobj\u001b[0m\u001b[0;34m,\u001b[0m \u001b[0;34m/\u001b[0m\u001b[0;34m)\u001b[0m\u001b[0;34m\u001b[0m\u001b[0;34m\u001b[0m\u001b[0m\n",
              "\u001b[0;31mDocstring:\u001b[0m Return the number of items in a container.\n",
              "\u001b[0;31mType:\u001b[0m      builtin_function_or_method\n"
            ]
          },
          "metadata": {},
          "output_type": "display_data"
        }
      ],
      "source": [
        "len?"
      ]
    },
    {
      "cell_type": "code",
      "execution_count": null,
      "id": "6a73276f",
      "metadata": {
        "id": "6a73276f",
        "outputId": "eee5ea70-3a98-45e3-a9f6-6a6d4dd17d68"
      },
      "outputs": [
        {
          "data": {
            "text/plain": [
              "\u001b[0;31mSignature:\u001b[0m \u001b[0mlist\u001b[0m\u001b[0;34m.\u001b[0m\u001b[0mappend\u001b[0m\u001b[0;34m(\u001b[0m\u001b[0mself\u001b[0m\u001b[0;34m,\u001b[0m \u001b[0mobject\u001b[0m\u001b[0;34m,\u001b[0m \u001b[0;34m/\u001b[0m\u001b[0;34m)\u001b[0m\u001b[0;34m\u001b[0m\u001b[0;34m\u001b[0m\u001b[0m\n",
              "\u001b[0;31mDocstring:\u001b[0m Append object to the end of the list.\n",
              "\u001b[0;31mType:\u001b[0m      method_descriptor\n"
            ]
          },
          "metadata": {},
          "output_type": "display_data"
        }
      ],
      "source": [
        "list.append?"
      ]
    },
    {
      "cell_type": "markdown",
      "id": "d8e27da6",
      "metadata": {
        "id": "d8e27da6"
      },
      "source": [
        "## Recommendation: Prevedere le propensioni di acquisto (e molto altro...)\n",
        "\n",
        "- Ogni azienda ha i dati storici di acquisto di ciascun cliente/utente\n",
        "- Vogliamo **raccomandare/suggerire ai singoli utenti quali prodotti acquistare** \n",
        "  - idea: utenti con storie di acquisti simili faranno probabilmente acquisti simili anche in futuro \n",
        "  - metodo: proponiamo ad ogni utente gli acquisti fatti da altri utenti con storico più simile al proprio\n",
        "- Vediamo come estrarre i suggerimenti sfruttando le **strutture dati standard di Python** e le operazioni che offrono\n",
        "  - vedremo poi come farlo in modo più efficiente con operazioni tra matrici...\n",
        "- Usiamo come esempio un set di dati ricavato da vendite su Amazon"
      ]
    },
    {
      "cell_type": "markdown",
      "id": "e8809b40",
      "metadata": {
        "id": "e8809b40"
      },
      "source": [
        "## Scaricamento file dati\n",
        "\n",
        "- Un archivio ZIP con i file necessari per l'esercitazione si trova all'URL https://git.io/fhxQh\n",
        "- Eseguire la seguente cella di codice per\n",
        "  - verificare se il file ZIP con i dati è già presente\n",
        "  - scaricare il file ZIP se non è già presente\n",
        "  - estrarre i file nella cartella corrente\n",
        "- Si può vedere come la libreria standard di Python fornisca già funzioni per eseguire agevolmente queste operazioni"
      ]
    },
    {
      "cell_type": "code",
      "execution_count": 1,
      "id": "0762bacb",
      "metadata": {
        "id": "0762bacb"
      },
      "outputs": [],
      "source": [
        "# importo moduli e funzioni necessarie dalla libreria standard\n",
        "import os.path\n",
        "from urllib.request import urlretrieve\n",
        "from zipfile import ZipFile\n",
        "\n",
        "# se il file \"purchases_data.zip\" non esiste\n",
        "if not os.path.exists(\"purchases_data.zip\"):\n",
        "    # scarica il file dall'URL indicato\n",
        "    urlretrieve(\"https://git.io/fhxQh\", \"purchases_data.zip\")\n",
        "    # apri il file zip ed estrai tutto il contenuto nella directory corrente\n",
        "    with ZipFile(\"purchases_data.zip\") as f:\n",
        "        f.extractall()"
      ]
    },
    {
      "cell_type": "markdown",
      "id": "708611b3",
      "metadata": {
        "id": "708611b3"
      },
      "source": [
        "## Caricamento nomi utenti\n",
        "\n",
        "- Il file `users.csv` contiene un elenco degli utenti coinvolti nell'analisi\n",
        "  - sono stati selezionati gli utenti con almeno 30 acquisti nello storico\n",
        "- È un file CSV (_Comma Separated Values_) contenente una riga per ogni utente nel formato `IdUtente;Nome`\n",
        "- Possiamo usare il modulo `csv` della libreria standard di Python per leggere tali file in modo semplice\n",
        "- Importiamo il modulo per caricarlo in memoria"
      ]
    },
    {
      "cell_type": "code",
      "execution_count": 3,
      "id": "7998a789",
      "metadata": {
        "id": "7998a789"
      },
      "outputs": [],
      "source": [
        "import csv"
      ]
    },
    {
      "cell_type": "markdown",
      "id": "6b82ce89",
      "metadata": {
        "id": "6b82ce89"
      },
      "source": [
        "- Creiamo un dizionario `users` e inseriamo in esso i dati letti dal file\n",
        "  - vogliamo inserire un elemento per ogni utente, la cui chiave sia l'ID e il cui valore sia il nome"
      ]
    },
    {
      "cell_type": "code",
      "execution_count": 4,
      "id": "3b46ddb4",
      "metadata": {
        "id": "3b46ddb4"
      },
      "outputs": [],
      "source": [
        "users = {}"
      ]
    },
    {
      "cell_type": "markdown",
      "id": "27f96d8a",
      "metadata": {
        "id": "27f96d8a"
      },
      "source": [
        "- Per **aprire il file** utilizziamo la funzione `open` specificando il nome del file\n",
        "  - il file è aperto in lettura (`\"r\"`) e modalità testo"
      ]
    },
    {
      "cell_type": "code",
      "execution_count": 5,
      "id": "8af65742",
      "metadata": {
        "id": "8af65742"
      },
      "outputs": [],
      "source": [
        "f = open(\"users.csv\", \"r\")"
      ]
    },
    {
      "cell_type": "markdown",
      "id": "dacdbf54",
      "metadata": {
        "id": "dacdbf54"
      },
      "source": [
        "- L'oggetto `f` può essere iterato per ottenere le righe del file una alla volta\n",
        "- Usiamo però `csv.reader` su `f` per scomporre ogni riga in una **tupla di valori**\n",
        "  - specifichiamo che i valori sono separati da \";\""
      ]
    },
    {
      "cell_type": "code",
      "execution_count": 6,
      "id": "fb9f1ed5",
      "metadata": {
        "id": "fb9f1ed5"
      },
      "outputs": [],
      "source": [
        "reader = csv.reader(f, delimiter=\";\")"
      ]
    },
    {
      "cell_type": "markdown",
      "id": "a6f116e2",
      "metadata": {
        "id": "a6f116e2"
      },
      "source": [
        "- Col costrutto `for` iteriamo le righe del file\n",
        "  - iterando su tuple di 2 elementi ciascuna, l'_unpacking_ ci permette di scomporre ciascuna tupla in due variabili\n",
        "- Per ciascuna, inseriamo nel dizionario la coppia ID-nome\n",
        "  - nel far ciò, convertiamo l'ID da stringa a numero `int`"
      ]
    },
    {
      "cell_type": "code",
      "execution_count": 7,
      "id": "62a31ecb",
      "metadata": {
        "id": "62a31ecb"
      },
      "outputs": [],
      "source": [
        "for uid, name in reader:\n",
        "    users[int(uid)] = name"
      ]
    },
    {
      "cell_type": "markdown",
      "id": "3d58d0f4",
      "metadata": {
        "id": "3d58d0f4"
      },
      "source": [
        "- Una volta finito di leggere il file, lo chiudiamo"
      ]
    },
    {
      "cell_type": "code",
      "execution_count": 8,
      "id": "a40f093a",
      "metadata": {
        "id": "a40f093a"
      },
      "outputs": [],
      "source": [
        "f.close()"
      ]
    },
    {
      "cell_type": "markdown",
      "id": "c7f11a96",
      "metadata": {
        "id": "c7f11a96"
      },
      "source": [
        "### Usare il costrutto with\n",
        "\n",
        "- Quando si lavora con un file, è consigliabile gestirne apertura e chiusura col costrutto `with`\n",
        "  - il file viene chiuso automaticamente all'uscita dell blocco `with`, anche in caso d'errore\n",
        "- Come esempio, ripetiamo la creazione e popolazione della struttura dati `users`"
      ]
    },
    {
      "cell_type": "code",
      "execution_count": 9,
      "id": "bd84a54e",
      "metadata": {
        "id": "bd84a54e"
      },
      "outputs": [],
      "source": [
        "users = {}\n",
        "with open(\"users.csv\", \"r\") as f:\n",
        "    reader = csv.reader(f, delimiter=\";\")\n",
        "    for uid, name in reader:\n",
        "        users[int(uid)] = name"
      ]
    },
    {
      "cell_type": "markdown",
      "id": "114bf39f",
      "metadata": {
        "id": "114bf39f"
      },
      "source": [
        "### Usare le comprehension\n",
        "\n",
        "- Abbiamo creato una collezione (un dizionario) rielaborando gli elementi (righe) di un iterabile (file)\n",
        "- Operazioni come questa si possono esprimere in Python in modo più compatto con le _comprehension_\n",
        "  - `f(a) for a in X` indica \"da ciascun elemento `a` estratto da un iterabile `X` calcola un'espressione `f(a)`\"\n",
        "- Per generare un dizionario scriviamo `{k: v for a in X}`\n",
        "  - per ciascun elemento `a` in `X` otteniamo una coppia con chiave `k` e valore `v`\n",
        "- Un modo equivalente per ottenere il dizionario `users` sopra è quindi questo:\n",
        "  - (scriviamo la comprehension su più righe per evidenziarne le parti, possiamo farlo perché dentro parentesi)"
      ]
    },
    {
      "cell_type": "code",
      "execution_count": null,
      "id": "8c02fbcb",
      "metadata": {
        "id": "8c02fbcb"
      },
      "outputs": [],
      "source": [
        "with open(\"users.csv\", \"r\") as f:\n",
        "    users = {\n",
        "        int(uid): name\n",
        "        for uid, name\n",
        "        in csv.reader(f, delimiter=\";\")\n",
        "    }"
      ]
    },
    {
      "cell_type": "markdown",
      "id": "e7ca10d1",
      "metadata": {
        "id": "e7ca10d1"
      },
      "source": [
        "- Dal dizionario possiamo reperire il nome di un qualsiasi utente dato il suo ID"
      ]
    },
    {
      "cell_type": "code",
      "execution_count": 10,
      "id": "5d25b284",
      "metadata": {
        "colab": {
          "base_uri": "https://localhost:8080/",
          "height": 35
        },
        "id": "5d25b284",
        "outputId": "a0bdb82c-348d-415a-84c1-9a38f9d641b7"
      },
      "outputs": [
        {
          "output_type": "execute_result",
          "data": {
            "text/plain": [
              "'malachix'"
            ],
            "application/vnd.google.colaboratory.intrinsic+json": {
              "type": "string"
            }
          },
          "metadata": {},
          "execution_count": 10
        }
      ],
      "source": [
        "users[84]"
      ]
    },
    {
      "cell_type": "markdown",
      "id": "a6ed90af",
      "metadata": {
        "id": "a6ed90af"
      },
      "source": [
        "- Tramite la funzione `len` possiamo contare il numero totale di utenti"
      ]
    },
    {
      "cell_type": "code",
      "execution_count": 11,
      "id": "908477c2",
      "metadata": {
        "colab": {
          "base_uri": "https://localhost:8080/"
        },
        "id": "908477c2",
        "outputId": "9e2901bf-e694-4318-fe34-76afe4c7c84c"
      },
      "outputs": [
        {
          "output_type": "execute_result",
          "data": {
            "text/plain": [
              "178"
            ]
          },
          "metadata": {},
          "execution_count": 11
        }
      ],
      "source": [
        "len(users)"
      ]
    },
    {
      "cell_type": "markdown",
      "id": "51f5073e",
      "metadata": {
        "id": "51f5073e"
      },
      "source": [
        "### Esercizio 1: Caricamento nomi prodotti\n",
        "\n",
        "- Il file `items.csv` contiene i prodotti distinti acquistati dagli utenti sopra\n",
        "- Il formato del file è analogo a quello sopra, con righe `IdProdotto;Nome`\n",
        "- Ne salviamo il contenuto in un dizionario `items`, ottenuto come fatto sopra con `users`"
      ]
    },
    {
      "cell_type": "markdown",
      "id": "5211dd74",
      "metadata": {
        "id": "5211dd74"
      },
      "source": [
        "- **(1a)** Costruire un dizionario `items` in modo analogo a `users`\n",
        "  - anche quì assicurarsi di convertire gli ID prodotti in numeri `int`\n",
        "- **(1b)** Ottenere il numero totale di prodotti\n",
        "- **(1c)** Ottenere il nome del prodotto con ID 2669\n",
        "\n",
        "_(selezionare questa cella di testo e premere B per inserire una nuova cella di codice sotto in cui svolgere gli esercizi)_"
      ]
    },
    {
      "cell_type": "code",
      "source": [
        "with open(\"items.csv\") as f:\n",
        "  items = { int(i): name\n",
        "            for i, name \n",
        "            in csv.reader(f, delimiter=\";\") }\n",
        "\n",
        "print(\"numero prodotti: \" + str(len(items)))\n",
        "print(\"nome prodotto con id 2669: \" + items[2669])"
      ],
      "metadata": {
        "colab": {
          "base_uri": "https://localhost:8080/"
        },
        "id": "VkZKgfdibQB1",
        "outputId": "6c68b66d-ff90-45d3-8806-0460a39a8eff"
      },
      "id": "VkZKgfdibQB1",
      "execution_count": 19,
      "outputs": [
        {
          "output_type": "stream",
          "name": "stdout",
          "text": [
            "numero prodotti: 3384\n",
            "nome prodotto con id 2669: Independence Day [VHS]\n"
          ]
        }
      ]
    },
    {
      "cell_type": "markdown",
      "id": "2031b2f0",
      "metadata": {
        "id": "2031b2f0"
      },
      "source": [
        "## Caricamento dati acquisti\n",
        "\n",
        "- Il file CSV `purchases-2000.csv` contiene i dati sugli acquisti effettuati dagli utenti analizzati fino alla fine del 2000\n",
        "- Per ciascun acquisto registrato, il file contiene una riga `IdUtente;IdProdotto`\n",
        "- Usiamo le funzioni viste sopra per leggere il file, creando stavolta un insieme (`set`) di tuple `(uid, iid)`\n",
        "  - i `set` sono collezioni di oggetti senza un ordine definito (seguono il concetto matematico di insieme)\n",
        "  - i `set` possono contenere solo oggetti _immutabili_, come ad es. numeri, stringhe e tuple di oggetti a loro volta immutabili"
      ]
    },
    {
      "cell_type": "code",
      "execution_count": 20,
      "id": "8ae07c3b",
      "metadata": {
        "id": "8ae07c3b"
      },
      "outputs": [],
      "source": [
        "with open(\"purchases-2000.csv\", \"r\") as f:\n",
        "    purchases = set(\n",
        "        (int(uid), int(iid))\n",
        "        for uid, iid\n",
        "        in csv.reader(f, delimiter=\";\")\n",
        "    )"
      ]
    },
    {
      "cell_type": "markdown",
      "id": "fb332926",
      "metadata": {
        "id": "fb332926"
      },
      "source": [
        "### Esercizio 2: Analisi acquisti\n",
        "\n",
        "- **(2a)** Ottenere il numero di tuple caricate dal file\n",
        "- **(2b)** Ottenere il numero medio di acquisti effettuati da ogni utente"
      ]
    },
    {
      "cell_type": "code",
      "source": [
        "num_acquisti = len(purchases)\n",
        "print(\"numero tuple: \", num_acquisti)\n",
        "acquisti_medi = num_acquisti / len(users)\n",
        "print(\"numero medio acquisti da ogni utente: \", acquisti_medi)"
      ],
      "metadata": {
        "colab": {
          "base_uri": "https://localhost:8080/"
        },
        "id": "kG57fnIWdFxL",
        "outputId": "14c985a5-47ac-4f1d-ecf4-183c4b8881bf"
      },
      "id": "kG57fnIWdFxL",
      "execution_count": 21,
      "outputs": [
        {
          "output_type": "stream",
          "name": "stdout",
          "text": [
            "numero tuple:  9683\n",
            "numero medio acquisti da ogni utente:  54.39887640449438\n"
          ]
        }
      ]
    },
    {
      "cell_type": "markdown",
      "id": "1170a9ce",
      "metadata": {
        "id": "1170a9ce"
      },
      "source": [
        "## Raggruppare gli acquisti per utente\n",
        "\n",
        "- Per lavorare agevolmente con questi dati, estraiamo un dizionario `purchases_by_user` che associ ad ogni ID utente l'insieme di ID dei prodotti che ha acquistato\n",
        "  - usiamo un ciclo `for` per scorrere tutte le coppie utente U - prodotto P\n",
        "  - per ogni coppia, se all'utente U non è associato un insieme di acquisti, ne associamo uno vuoto\n",
        "  - quindi aggiungiamo P all'insieme acquisti di U"
      ]
    },
    {
      "cell_type": "code",
      "execution_count": 22,
      "id": "cb0b0507",
      "metadata": {
        "id": "cb0b0507"
      },
      "outputs": [],
      "source": [
        "purchases_by_user = {}\n",
        "for uid, iid in purchases:\n",
        "    if uid not in purchases_by_user:\n",
        "        purchases_by_user[uid] = set()\n",
        "    purchases_by_user[uid].add(iid)"
      ]
    },
    {
      "cell_type": "markdown",
      "id": "6b418920",
      "metadata": {
        "id": "6b418920"
      },
      "source": [
        "- Possiamo abbreviare il codice sfruttando il metodo `setdefault` dei dizionari\n",
        "  - `d.setdefault(k, v)` restituisce `d[k]` impostandolo prima a `v` se non esistente"
      ]
    },
    {
      "cell_type": "code",
      "execution_count": null,
      "id": "8a94d75a",
      "metadata": {
        "id": "8a94d75a"
      },
      "outputs": [],
      "source": [
        "purchases_by_user = {}\n",
        "for uid, iid in purchases:\n",
        "    purchases_by_user.setdefault(uid, set()).add(iid)"
      ]
    },
    {
      "cell_type": "markdown",
      "id": "2cae0f44",
      "metadata": {
        "id": "2cae0f44"
      },
      "source": [
        "- Possiamo verificare che ogni utente abbia effettivamente almeno 30 acquisti\n",
        "  - col metodo `values` iteriamo gli insiemi di oggetti acquistati (i soli valori, non le chiavi) nel dizionario `purchases_by_user`\n",
        "  - con `len` estraiamo il numero di elementi di ciascuno\n",
        "  - con `min` estraiamo il più piccolo di essi e verifichiamo che sia 30"
      ]
    },
    {
      "cell_type": "code",
      "execution_count": 23,
      "id": "f111f6ee",
      "metadata": {
        "colab": {
          "base_uri": "https://localhost:8080/"
        },
        "id": "f111f6ee",
        "outputId": "b4a894f6-bd26-4f31-8d8b-b653914116aa"
      },
      "outputs": [
        {
          "output_type": "execute_result",
          "data": {
            "text/plain": [
              "30"
            ]
          },
          "metadata": {},
          "execution_count": 23
        }
      ],
      "source": [
        "min(len(itemset) for itemset in purchases_by_user.values())"
      ]
    },
    {
      "cell_type": "markdown",
      "id": "20bcbc66",
      "metadata": {
        "id": "20bcbc66"
      },
      "source": [
        "- In alternativa alla comprehension possiamo usare la funzione `map(f, i)`, che applica una funzione `f` (quì `len`) a tutti gli elementi di un iterabile `i`"
      ]
    },
    {
      "cell_type": "code",
      "execution_count": 24,
      "id": "5808b877",
      "metadata": {
        "colab": {
          "base_uri": "https://localhost:8080/"
        },
        "id": "5808b877",
        "outputId": "94f0d061-f14c-4164-bc51-302054f5526f"
      },
      "outputs": [
        {
          "output_type": "execute_result",
          "data": {
            "text/plain": [
              "30"
            ]
          },
          "metadata": {},
          "execution_count": 24
        }
      ],
      "source": [
        "min(map(len, purchases_by_user.values()))"
      ]
    },
    {
      "cell_type": "markdown",
      "id": "5c185de9",
      "metadata": {
        "tags": [],
        "id": "5c185de9"
      },
      "source": [
        "### Esercizio 3: Raggruppare gli acquisti per prodotto\n",
        "\n",
        "- **(3a)** Costruire in modo simile a `purchases_by_user` un dizionario `purchases_by_item` che associ ad ogni ID di un _prodotto_ l'insieme di ID degli _utenti_ che l'hanno acquistato\n",
        "- **(3b)** Ottenere il numero di acquisti del prodotto più venduto e di quello meno venduto"
      ]
    },
    {
      "cell_type": "code",
      "source": [
        "purchases_by_item = {}\n",
        "for uid, oid in purchases:\n",
        "  purchases_by_item.setdefault(oid, set()).add(uid)\n",
        "\n",
        "most_sold = max(map(len ,purchases_by_item.values()))\n",
        "least_sold = min(map(len, purchases_by_item.values()))\n",
        "print(\"num. acquisti prodotto più venduto: \", most_sold)\n",
        "print(\"num. acquisti prodotto meno venduto: \", least_sold)"
      ],
      "metadata": {
        "colab": {
          "base_uri": "https://localhost:8080/"
        },
        "id": "NEC-4ygYgjKr",
        "outputId": "9348b12c-5cd7-4379-9e81-529afa8f33a5"
      },
      "id": "NEC-4ygYgjKr",
      "execution_count": 27,
      "outputs": [
        {
          "output_type": "stream",
          "name": "stdout",
          "text": [
            "num. acquisti prodotto più venduto:  50\n",
            "num. acquisti prodotto meno venduto:  1\n"
          ]
        }
      ]
    },
    {
      "cell_type": "markdown",
      "id": "a6766dd3",
      "metadata": {
        "id": "a6766dd3"
      },
      "source": [
        "## Similarità tra utenti\n",
        "\n",
        "- Vogliamo suggerire prodotti agli utenti in base a **cos'hanno acquistato utenti simili**\n",
        "- Come determinare quanto due utenti siano \"simili\"?\n",
        "- Possiamo contare **quanti sono i prodotti che entrambi hanno acquistato**\n",
        "- Per ottenere i prodotti acquistati da entrambi due utenti, possiamo calcolare **l'intersezione** degli insiemi dei prodotti acquistati\n",
        "- Sugli insiemi si può usare l'operatore `&` (AND) per calcolare l'intersezione\n",
        "- Ad esempio, gli ID dei prodotti acquistati sia dall'utente con ID 84 che da quello con ID 7661 sono:"
      ]
    },
    {
      "cell_type": "code",
      "execution_count": null,
      "id": "891651f0",
      "metadata": {
        "id": "891651f0",
        "outputId": "f818830e-4718-410b-c923-805e287a4c1d"
      },
      "outputs": [
        {
          "data": {
            "text/plain": [
              "{5162, 43911, 43921, 100267}"
            ]
          },
          "execution_count": 31,
          "metadata": {},
          "output_type": "execute_result"
        }
      ],
      "source": [
        "purchases_by_user[84] & purchases_by_user[7661]"
      ]
    },
    {
      "cell_type": "markdown",
      "id": "e7cd10f2",
      "metadata": {
        "id": "e7cd10f2"
      },
      "source": [
        "### Esercizio 4: Funzione per calcolo similarità\n",
        "\n",
        "- Creare una funzione `user_similarity` che, dati due ID utente `uid1` e `uid2`, restituisca il numero di prodotti nell'intersezione dei loro acquisti\n",
        "  - completare la definizione abbozzata sotto"
      ]
    },
    {
      "cell_type": "code",
      "execution_count": 29,
      "id": "11032d70",
      "metadata": {
        "id": "11032d70"
      },
      "outputs": [],
      "source": [
        "def user_similarity(uid1, uid2):\n",
        "    \"\"\"Count products purchased by both given users.\"\"\"\n",
        "    return len(purchases_by_user[uid1] & purchases_by_user[uid2])"
      ]
    },
    {
      "cell_type": "markdown",
      "id": "27461a0e",
      "metadata": {
        "id": "27461a0e"
      },
      "source": [
        "- Eseguire la cella sotto per verificare la funzione sulla base dell'esempio sopra\n",
        "  - se la condizione data è soddisfatta non succede nulla, altrimenti `assert` genera un errore"
      ]
    },
    {
      "cell_type": "code",
      "execution_count": 30,
      "id": "16123177",
      "metadata": {
        "id": "16123177"
      },
      "outputs": [],
      "source": [
        "assert user_similarity(84, 7661) == 4"
      ]
    },
    {
      "cell_type": "markdown",
      "id": "28fc1466",
      "metadata": {
        "id": "28fc1466"
      },
      "source": [
        "## Calcolo di tutte le similarità\n",
        "\n",
        "- Usiamo questa funzione per creare un dizionario `user_similiarities` che, ad ogni tupla con due ID utente, associa la loro similarità\n",
        "  - scorriamo tutti gli ID utente attraverso due cicli (`for`) innestati, eliminando le coppie di ID uguali\n",
        "  - _(per semplicità, lasciamo che la similarità di ogni coppia sia calcolata due volte)_"
      ]
    },
    {
      "cell_type": "code",
      "execution_count": 31,
      "id": "a150de19",
      "metadata": {
        "id": "a150de19"
      },
      "outputs": [],
      "source": [
        "user_similarities = {\n",
        "    (i, j): user_similarity(i, j)\n",
        "    for i in users.keys()\n",
        "    for j in users.keys()\n",
        "    if i != j\n",
        "}"
      ]
    },
    {
      "cell_type": "markdown",
      "id": "bcf2431c",
      "metadata": {
        "id": "bcf2431c"
      },
      "source": [
        "- Ad esempio, riprendendo l'esempio sopra, la similarità tra gli utenti 84 e 7661 deve essere 4"
      ]
    },
    {
      "cell_type": "code",
      "execution_count": 32,
      "id": "74540a95",
      "metadata": {
        "colab": {
          "base_uri": "https://localhost:8080/"
        },
        "id": "74540a95",
        "outputId": "a98f42d7-f55c-4a66-dfae-68393654564b"
      },
      "outputs": [
        {
          "output_type": "execute_result",
          "data": {
            "text/plain": [
              "4"
            ]
          },
          "metadata": {},
          "execution_count": 32
        }
      ],
      "source": [
        "user_similarities[(84, 7661)]"
      ]
    },
    {
      "cell_type": "markdown",
      "id": "321badcf",
      "metadata": {
        "id": "321badcf"
      },
      "source": [
        "## Stimare il potenziale interesse nei prodotti\n",
        "\n",
        "- Vogliamo stimare **quanto ciascun utente sia potenzialmente interessato** in ciascun prodotto non ancora acquistato\n",
        "- Possiamo stimarlo in base a quanto il prodotto **sia stato acquistato da utenti simili**\n",
        "- Associamo per ogni utente U e prodotto P un _punteggio d'interesse_ pari alla **somma delle similarità degli altri utenti** che hanno acquistato P"
      ]
    },
    {
      "cell_type": "markdown",
      "id": "21da943e",
      "metadata": {
        "id": "21da943e"
      },
      "source": [
        "### Esercizio 5: Funzione per la stima dell'interesse\n",
        "\n",
        "- Creare una funzione `interest` che calcoli tale punteggio per un utente `uid` e un prodotto `iid` dati\n",
        "  - assicurarsi di iterare gli utenti che hanno acquistato `iid` escludendo `uid`\n",
        "  - usare la funzione `sum(...)` per sommare i valori ricavati da una comprehension"
      ]
    },
    {
      "cell_type": "code",
      "execution_count": 47,
      "id": "2e7c7c40",
      "metadata": {
        "id": "2e7c7c40"
      },
      "outputs": [],
      "source": [
        "def interest(uid, iid):\n",
        "    \"\"\"Estimate the interest of given user for given product.\"\"\"\n",
        "    return sum( [user_similarities[(uid, uid2)] for uid2 in purchases_by_item[iid] if uid2 != uid ]) "
      ]
    },
    {
      "cell_type": "markdown",
      "id": "ae3d915a",
      "metadata": {
        "id": "ae3d915a"
      },
      "source": [
        "### Calcolo di tutti i punteggi d'interesse\n",
        "\n",
        "- Raccogliamo tutti i punteggi in un dizionario che associa ad ogni utente U un dizionario di punteggi d'interesse\n",
        "  - ciascuno associa a sua volta a ciascun prodotto il punteggio d'interesse\n",
        "  - sono però esclusi i prodotti già acquistati da U"
      ]
    },
    {
      "cell_type": "code",
      "execution_count": 48,
      "id": "87aa709d",
      "metadata": {
        "id": "87aa709d"
      },
      "outputs": [],
      "source": [
        "interests_by_user = {\n",
        "    uid: {\n",
        "        iid: interest(uid, iid)\n",
        "        for iid in items.keys()\n",
        "        if iid not in purchases_by_user[uid]\n",
        "    } for uid in users.keys()\n",
        "}"
      ]
    },
    {
      "cell_type": "markdown",
      "id": "df505de2",
      "metadata": {
        "id": "df505de2"
      },
      "source": [
        "- Ad esempio il punteggio d'interesse dell'utente 84 verso l'oggetto 2669 è"
      ]
    },
    {
      "cell_type": "code",
      "execution_count": 49,
      "id": "6ad3dff8",
      "metadata": {
        "colab": {
          "base_uri": "https://localhost:8080/"
        },
        "id": "6ad3dff8",
        "outputId": "e1478bfb-9e62-4ae7-c4e2-433a5ee688a1"
      },
      "outputs": [
        {
          "output_type": "execute_result",
          "data": {
            "text/plain": [
              "57"
            ]
          },
          "metadata": {},
          "execution_count": 49
        }
      ],
      "source": [
        "interests_by_user[84][2669]"
      ]
    },
    {
      "cell_type": "markdown",
      "id": "5a27dab9",
      "metadata": {
        "id": "5a27dab9"
      },
      "source": [
        "### Esercizio 6: Estrazione punteggio massimo\n",
        "\n",
        "- Estrarre il valore del punteggio d'interesse massimo tra quelli calcolati"
      ]
    },
    {
      "cell_type": "markdown",
      "id": "66f61f2c",
      "metadata": {
        "id": "66f61f2c"
      },
      "source": [
        "## Ottenere _N_ suggerimenti di acquisto per ogni utente\n",
        "\n",
        "- Da migliaia di prodotti nel catalogo, vogliamo suggerirne **un numero limitato ad ogni utente** massimizzando la probabilità di acquisto\n",
        "- Fissiamo un numero _N_ di prodotti da suggerire..."
      ]
    },
    {
      "cell_type": "code",
      "execution_count": 50,
      "id": "c3a088e6",
      "metadata": {
        "id": "c3a088e6"
      },
      "outputs": [],
      "source": [
        "N = 20"
      ]
    },
    {
      "cell_type": "markdown",
      "id": "636935ca",
      "metadata": {
        "id": "636935ca"
      },
      "source": [
        "- ...vogliamo selezionare per ogni utente gli **_N_ prodotti con \"potenziale interesse\" maggiore**"
      ]
    },
    {
      "cell_type": "markdown",
      "id": "e393a8fd",
      "metadata": {
        "id": "e393a8fd"
      },
      "source": [
        "- Estraiamo ad esempio _N_ prodotti suggeriti per l'utente con ID 84\n",
        "- Da `interests_by_user` estraiamo delle tuple `(IdOggetto, Punteggio)`\n",
        "  - usiamo il metodo `items` per estrarre tutte le coppie chiave-valore di un dizionario in forma di tuple"
      ]
    },
    {
      "cell_type": "code",
      "execution_count": 51,
      "id": "b8e33f53",
      "metadata": {
        "id": "b8e33f53"
      },
      "outputs": [],
      "source": [
        "interests_of_user_84 = interests_by_user[84].items()"
      ]
    },
    {
      "cell_type": "markdown",
      "id": "23801453",
      "metadata": {
        "id": "23801453"
      },
      "source": [
        "- Usiamo la funzione `sorted` per ottenere una lista con gli elementi in ordine\n",
        "  - col parametro `key` specifichiamo un criterio d'ordinamento\n",
        "    - usiamo una funzione lambda che estragga da ogni tupla `x` il secondo elemento `x[1]`, cioè il punteggio\n",
        "  - normalmente l'ordinamento è in ordine crescente, impostiamolo in ordine decrescente con `reverse=True`"
      ]
    },
    {
      "cell_type": "code",
      "execution_count": 52,
      "id": "bc710c04",
      "metadata": {
        "id": "bc710c04"
      },
      "outputs": [],
      "source": [
        "sorted_interests_of_user_84 = \\\n",
        "    sorted(interests_of_user_84,\n",
        "           key=lambda x: x[1],\n",
        "           reverse=True)"
      ]
    },
    {
      "cell_type": "markdown",
      "id": "9007046c",
      "metadata": {
        "id": "9007046c"
      },
      "source": [
        "- Abbiamo così una lista di tuple `(IdOggetto, Punteggio)` ordinate da quelle con punteggio maggiore\n",
        "  - vediamo ad esempio le prime 5"
      ]
    },
    {
      "cell_type": "code",
      "execution_count": 53,
      "id": "33df9708",
      "metadata": {
        "colab": {
          "base_uri": "https://localhost:8080/"
        },
        "id": "33df9708",
        "outputId": "c16a1ae3-d549-42ef-91a1-5721663868f5"
      },
      "outputs": [
        {
          "output_type": "execute_result",
          "data": {
            "text/plain": [
              "[(57372, 127), (59817, 97), (44030, 96), (57190, 86), (7989, 73)]"
            ]
          },
          "metadata": {},
          "execution_count": 53
        }
      ],
      "source": [
        "sorted_interests_of_user_84[:5]"
      ]
    },
    {
      "cell_type": "markdown",
      "id": "68d6b3c2",
      "metadata": {
        "id": "68d6b3c2"
      },
      "source": [
        "### Esercizio 7: Ottenere i suggerimenti per un utente\n",
        "\n",
        "- **(7a)** Estrarre da quest'ultima lista un insieme degli ID degli _N_ prodotti da suggerire all'utente\n",
        "  - estrarre solo gli ID dei prodotti, scartando i punteggi\n",
        "- **(7b)** Definire una funzione `suggest` che, dato un ID utente `uid` arbitrario, restituisca un insieme simile di ID di _N_ prodotti seguendo la procedura descritta"
      ]
    },
    {
      "cell_type": "code",
      "execution_count": 55,
      "id": "e0b612d4",
      "metadata": {
        "id": "e0b612d4"
      },
      "outputs": [],
      "source": [
        "suggestions_for_user_84 = [ sorted_interests_of_user_84[0] for i in range(0, N)]"
      ]
    },
    {
      "cell_type": "code",
      "execution_count": 59,
      "id": "5ec7c68c",
      "metadata": {
        "id": "5ec7c68c"
      },
      "outputs": [],
      "source": [
        "def suggest(uid):\n",
        "    \"\"\"Recommend N products to given user.\"\"\"\n",
        "    return { item[0] for item in sorted( interests_by_user[uid].items(), key=lambda x: x[1], reverse=True )[:N]}"
      ]
    },
    {
      "cell_type": "markdown",
      "id": "569a3356",
      "metadata": {
        "id": "569a3356"
      },
      "source": [
        "- Applichiamo la funzione così definita a tutti gli utenti"
      ]
    },
    {
      "cell_type": "code",
      "execution_count": 60,
      "id": "69db427e",
      "metadata": {
        "id": "69db427e"
      },
      "outputs": [],
      "source": [
        "suggestions_by_user = {uid: suggest(uid) for uid in users.keys()}"
      ]
    },
    {
      "cell_type": "markdown",
      "id": "8257d90c",
      "metadata": {
        "id": "8257d90c"
      },
      "source": [
        "- Abbiamo così per ciascun utente un set di _N_ prodotti non precedentemente acquistati da suggerire"
      ]
    },
    {
      "cell_type": "code",
      "execution_count": 61,
      "id": "776007d4",
      "metadata": {
        "colab": {
          "base_uri": "https://localhost:8080/"
        },
        "id": "776007d4",
        "outputId": "6bcd2b8b-f6aa-4bb7-d929-ebfac85eeee5"
      },
      "outputs": [
        {
          "output_type": "stream",
          "name": "stdout",
          "text": [
            "{44037, 60041, 96025, 43290, 57372, 5288, 59817, 7985, 7989, 43586, 60230, 96454, 96456, 95843, 57190, 2669, 101103, 56561, 95480, 44030}\n"
          ]
        }
      ],
      "source": [
        "print(suggestions_by_user[84])"
      ]
    },
    {
      "cell_type": "markdown",
      "id": "d429830e",
      "metadata": {
        "id": "d429830e"
      },
      "source": [
        "- Ad esempio, per l'utente 84, stampiamo i titoli dei film che ha acquistato...\n",
        "  - sostituire `\"; \"` con `\"\\n\"` (interruzione di riga) per visualizzare i titoli uno sotto l'altro"
      ]
    },
    {
      "cell_type": "code",
      "execution_count": 62,
      "id": "36a9aaf3",
      "metadata": {
        "colab": {
          "base_uri": "https://localhost:8080/"
        },
        "id": "36a9aaf3",
        "outputId": "e9d2fa46-5412-47b4-f4fb-b0000aa0cc1c"
      },
      "outputs": [
        {
          "output_type": "stream",
          "name": "stdout",
          "text": [
            "Eyes Wide Shut [VHS]; The Lion King [VHS]; The Matrix; Batman & Robin [VHS]; Blade [VHS]; First Knight [VHS]; Omen 3: The Final Conflict [VHS]; Summer of Sam [VHS]; The World Is Not Enough [VHS]; The Chinese Connection [VHS]; Enter the Dragon [VHS]; Star Wars - Episode I, The Phantom Menace [VHS]; Fists of Fury [VHS]; Lost World: Jurassic Park [VHS]; Alien [VHS]; Batman Returns (1992); Beloved; Reservoir Dogs [VHS]; Total Recall; Touch of Evil [VHS]; Batman Forever; Inspector Gadget; Enemy of the State; Blade Runner (The Director's Cut); Tomorrow Never Dies (Limited Edition Gift Pack) [VHS]; Aliens [VHS]; A Bug's Life; Return of the Dragon [VHS]; Batman (1989); The Exorcist; Lost in Space [VHS]; GoldenEye (Special Edition); Excalibur [VHS]; Alien Resurrection [VHS]; Alien 3 [VHS]; Godzilla [VHS]; Game of Death [VHS]; Jurassic Park (Widescreen Edition) [VHS]\n"
          ]
        }
      ],
      "source": [
        "print(\"; \".join(items[iid] for iid in purchases_by_user[84]))"
      ]
    },
    {
      "cell_type": "markdown",
      "id": "e5fb8253",
      "metadata": {
        "id": "e5fb8253"
      },
      "source": [
        "- ...e i titoli dei film suggeriti"
      ]
    },
    {
      "cell_type": "code",
      "execution_count": 63,
      "id": "4efb9346",
      "metadata": {
        "colab": {
          "base_uri": "https://localhost:8080/"
        },
        "id": "4efb9346",
        "outputId": "622e2ade-9ba3-4c2d-8e92-9b165ba34f4e"
      },
      "outputs": [
        {
          "output_type": "stream",
          "name": "stdout",
          "text": [
            "Double Jeopardy; Deep Blue Sea; American Pie - Rated Edition (Special Edition) [VHS]; The Green Mile [VHS]; The Sixth Sense [VHS]; Being John Malkovich; Saving Private Ryan [VHS]; The Insider; Fight Club; Galaxy Quest [VHS]; Three Kings; The Talented Mr. Ripley; Titanic [VHS]; Jaws [VHS]; Curse of the Blair Witch [VHS]; Independence Day [VHS]; Abyss [VHS]; Armageddon [VHS]; Dogma [VHS]; Sleepy Hollow\n"
          ]
        }
      ],
      "source": [
        "print(\"; \".join(items[iid] for iid in suggestions_by_user[84]))"
      ]
    },
    {
      "cell_type": "markdown",
      "id": "d3de927e",
      "metadata": {
        "id": "d3de927e"
      },
      "source": [
        "## Accuratezza dei suggerimenti di acquisto\n",
        "\n",
        "- Come valutare se i suggerimenti ottenuti in questo modo siano azzeccati?\n",
        "- Una possibilità consiste nel verificare **se gli oggetti suggeriti siano stati effettivamente acquistati** in un successivo momento\n",
        "- Nel file `purchases-2014.csv` è fornita una seconda lista di acquisti aggiornata, che include anche quelli successivi al 2000\n",
        "  - utenti e prodotti sono limitati a quelli già caricati in `users` e `items`\n",
        "- Possiamo quindi confrontare i prodotti suggeriti con questa nuova matrice\n",
        "- Carichiamo l'insieme di tuple da questo file come abbiamo fatto per il precedente"
      ]
    },
    {
      "cell_type": "code",
      "execution_count": 64,
      "id": "b0e2d70d",
      "metadata": {
        "id": "b0e2d70d"
      },
      "outputs": [],
      "source": [
        "with open(\"purchases-2014.csv\", \"r\") as f:\n",
        "    purchases_updated = set(\n",
        "        (int(uid), int(iid))\n",
        "        for uid, iid\n",
        "        in csv.reader(f, delimiter=\";\")\n",
        "    )"
      ]
    },
    {
      "cell_type": "markdown",
      "id": "11b7049a",
      "metadata": {
        "id": "11b7049a"
      },
      "source": [
        "### Selezionare solo i nuovi acquisti\n",
        "\n",
        "- Il nuovo file riporta **tutti** gli acquisti, compresi quelli già indicati nel file precedente\n",
        "- Vogliamo un insieme dei soli acquisti successivi all'analisi svolta sopra\n",
        "- Possiamo ottenerlo calcolando la differenza tra gli insiemi di acquisti, tramite l'operatore `-`"
      ]
    },
    {
      "cell_type": "code",
      "execution_count": 65,
      "id": "632dd9b8",
      "metadata": {
        "id": "632dd9b8"
      },
      "outputs": [],
      "source": [
        "new_purchases = purchases_updated - purchases"
      ]
    },
    {
      "cell_type": "markdown",
      "id": "63e6da16",
      "metadata": {
        "id": "63e6da16"
      },
      "source": [
        "### Esercizio 8: Caricamento e analisi dati nuovi acquisti\n",
        "\n",
        "- **(8a)** Costruire un dizionario `new_purchases_by_user` simile a `purchases_by_user` creato in precedenza, con i nuovi acquisti raggruppati per utente\n",
        "- **(8b)** Individuare il numero di nuovi acquisti massimo e quello medio per ogni utente"
      ]
    },
    {
      "cell_type": "code",
      "source": [
        "new_purchases_by_user = {}\n",
        "for uid, iid in new_purchases:\n",
        "  new_purchases_by_user.setdefault(uid, set()).add(iid)\n",
        "\n",
        "new_most_sold = max(map(len, new_purchases_by_user.values()))\n",
        "new_mean_sold = len(new_purchases)/len(new_purchases_by_user.keys())\n",
        "print(\"num. massimo nuovi acquisti: \", new_most_sold)\n",
        "print(\"num. medio nuovi acquisti: \", new_mean_sold)"
      ],
      "metadata": {
        "colab": {
          "base_uri": "https://localhost:8080/"
        },
        "id": "lkGZCdeXoeFj",
        "outputId": "6f621c22-e766-43e0-9579-0f39c0f9f77e"
      },
      "id": "lkGZCdeXoeFj",
      "execution_count": 66,
      "outputs": [
        {
          "output_type": "stream",
          "name": "stdout",
          "text": [
            "num. massimo nuovi acquisti:  431\n",
            "num. medio nuovi acquisti:  42.54347826086956\n"
          ]
        }
      ]
    },
    {
      "cell_type": "markdown",
      "id": "fe42178f",
      "metadata": {
        "id": "fe42178f"
      },
      "source": [
        "### Quali nuovi acquisti sono stati suggeriti?\n",
        "\n",
        "- Abbiamo ora i dizionari\n",
        "  - `suggestions_by_user` con gli acquisti _suggeriti_\n",
        "  - `new_purchases_by_user` con i nuovi acquisti _effettivi_\n",
        "- Da questi possiamo individuare quali sono i suggerimenti **validi**, quelli a cui dopo l'analisi è corrisposto un acquisto\n",
        "- Consideriamo un utente _soddisfatto_ se ha ricevuto **almeno un suggerimento valido**\n",
        "- Individuiamo l'insieme degli utenti soddisfatti individuando quelli dove l'intersezione tra suggerimenti e nuovi acquisti non è vuota\n",
        "  - usando un insieme (o altra collezione) in `if`, otteniamo `True` se e solo se l'insieme non è vuoto\n",
        "  - dato che alcuni utenti non sono presenti come chiavi in `new_purchases_by_user`, usiamo il metodo `d.get(k, v)` per restituire un valore default `v` se `d[k]` non esiste"
      ]
    },
    {
      "cell_type": "code",
      "execution_count": 67,
      "id": "332cdfaa",
      "metadata": {
        "id": "332cdfaa"
      },
      "outputs": [],
      "source": [
        "satisfied_users = {uid for uid in users.keys()\n",
        "                   if suggestions_by_user[uid] & new_purchases_by_user.get(uid, set())}"
      ]
    },
    {
      "cell_type": "markdown",
      "id": "cc3b885f",
      "metadata": {
        "id": "cc3b885f"
      },
      "source": [
        "- Quanti sono gli utenti soddisfatti?"
      ]
    },
    {
      "cell_type": "code",
      "execution_count": 68,
      "id": "31c4339e",
      "metadata": {
        "colab": {
          "base_uri": "https://localhost:8080/"
        },
        "id": "31c4339e",
        "outputId": "b0e7c190-c11d-46cf-e83c-373c521d8e52"
      },
      "outputs": [
        {
          "output_type": "execute_result",
          "data": {
            "text/plain": [
              "62"
            ]
          },
          "metadata": {},
          "execution_count": 68
        }
      ],
      "source": [
        "len(satisfied_users)"
      ]
    },
    {
      "cell_type": "markdown",
      "id": "67eec3aa",
      "metadata": {
        "id": "67eec3aa"
      },
      "source": [
        "- Quanti sono come percentuale rispetto al totale degli utenti analizzati?"
      ]
    },
    {
      "cell_type": "code",
      "execution_count": 69,
      "id": "6575f8e7",
      "metadata": {
        "colab": {
          "base_uri": "https://localhost:8080/"
        },
        "id": "6575f8e7",
        "outputId": "8cfa3b7d-57e2-47b4-97bc-d86025ddf9b3"
      },
      "outputs": [
        {
          "output_type": "execute_result",
          "data": {
            "text/plain": [
              "0.34831460674157305"
            ]
          },
          "metadata": {},
          "execution_count": 69
        }
      ],
      "source": [
        "len(satisfied_users) / len(users)"
      ]
    },
    {
      "cell_type": "markdown",
      "id": "5e30a14d",
      "metadata": {
        "id": "5e30a14d"
      },
      "source": [
        "- Abbiamo quindi suggerito **almeno un prodotto valido** per circa **un terzo degli utenti**"
      ]
    },
    {
      "cell_type": "markdown",
      "id": "457647a8",
      "metadata": {
        "id": "457647a8"
      },
      "source": [
        "## Sviluppi successivi\n",
        "\n",
        "- Abbiamo quì visto come usare le strutture dati e le funzioni standard di Python per un compito pratico\n",
        "- Nel prossimo laboratorio vedremo come ottenere lo stesso risultato tramite **operazioni tra matrici e algebra lineare**"
      ]
    },
    {
      "cell_type": "markdown",
      "id": "c78b87d2",
      "metadata": {
        "id": "c78b87d2"
      },
      "source": [
        "## Esercizio avanzato: Confronto con una selezione casuale di prodotti\n",
        "\n",
        "_(si propone come esercizio da svolgere opzionalmente dopo la lezione)_\n",
        "\n",
        "- Per valutare quanto il risultato ottenuto sia buono, possiamo misurare cosa otterremmo **suggerendo _N_ prodotti a caso** a ciascun utente\n",
        "- Con questa procedura, si verifica che si otterrebbe una percentuale di clienti soddisfatti intorno al **13%**, contro il **35%** ottenuto sopra\n",
        "- Per generare numeri casuali, usiamo il modulo `random` di Python"
      ]
    },
    {
      "cell_type": "code",
      "execution_count": 70,
      "id": "2c157b0f",
      "metadata": {
        "id": "2c157b0f"
      },
      "outputs": [],
      "source": [
        "import random"
      ]
    },
    {
      "cell_type": "markdown",
      "id": "6e335813",
      "metadata": {
        "id": "6e335813"
      },
      "source": [
        "- Per ottenere risultati riproducibili, impostiamo un valore fisso come seed"
      ]
    },
    {
      "cell_type": "code",
      "execution_count": 71,
      "id": "225d0ded",
      "metadata": {
        "id": "225d0ded"
      },
      "outputs": [],
      "source": [
        "random.seed(1234567)"
      ]
    },
    {
      "cell_type": "markdown",
      "id": "c21f77b5",
      "metadata": {
        "id": "c21f77b5"
      },
      "source": [
        "- **1)** creare una funzione `suggest_random` che, dato un ID utente, restituisca una lista di _N_ ID prodotti casuali tra quelli che non risultano da lui acquistati nel dataset del 2000\n",
        "  - creare una lista con gli ID dei prodotti non acquistati da `uid`, ovvero le chiavi di `interests_by_user[uid]`\n",
        "  - usare la funzione `sample(lista, k)` del modulo `random` per selezionare una lista di k elementi casuali dalla lista\n",
        "  - convertire tale lista in un `set` per compatibilità con i passaggi successivi"
      ]
    },
    {
      "cell_type": "code",
      "execution_count": 82,
      "id": "5d602c17",
      "metadata": {
        "id": "5d602c17"
      },
      "outputs": [],
      "source": [
        "def suggest_random(uid):\n",
        "  return set(random.sample(list(interests_by_user[uid].keys()), N))"
      ]
    },
    {
      "cell_type": "markdown",
      "id": "b7ac22a6",
      "metadata": {
        "id": "b7ac22a6"
      },
      "source": [
        "- **2)** usare la funzione per creare un dizionario `random_suggestions_by_user` che associ ad ogni utente i suoi suggerimenti casuali\n",
        "  - come riferimento si usi la creazione del dizionario `suggestions_by_user` sopra"
      ]
    },
    {
      "cell_type": "code",
      "source": [
        "random_suggestions_by_user = {uid: suggest_random(uid) for uid in users.keys()}"
      ],
      "metadata": {
        "id": "lKqoeStMsNWG"
      },
      "id": "lKqoeStMsNWG",
      "execution_count": 86,
      "outputs": []
    },
    {
      "cell_type": "markdown",
      "id": "205909fe",
      "metadata": {
        "id": "205909fe"
      },
      "source": [
        "- **3)** creare un insieme `randomly_satisfied_users` con gli ID degli utenti per cui almeno un prodotto tra i suggerimenti casuali è stato acquistato in seguito\n",
        "  - usare `satisfied_users` come riferimento"
      ]
    },
    {
      "cell_type": "code",
      "source": [
        "randomly_satisfied_users = {uid for uid in users.keys() if random_suggestions_by_user[uid] & new_purchases_by_user.get(uid, set())}"
      ],
      "metadata": {
        "id": "fYNCdiFct-KH"
      },
      "id": "fYNCdiFct-KH",
      "execution_count": 87,
      "outputs": []
    },
    {
      "cell_type": "markdown",
      "id": "ae2f10bb",
      "metadata": {
        "id": "ae2f10bb"
      },
      "source": [
        "- **4)** calcolare la percentuale di utenti in `randomly_satisfied_users` rispetto al totale"
      ]
    },
    {
      "cell_type": "code",
      "source": [
        "len(randomly_satisfied_users) / len(users)"
      ],
      "metadata": {
        "colab": {
          "base_uri": "https://localhost:8080/"
        },
        "id": "_5V3NxbIuqrk",
        "outputId": "89f6e3b7-0fb8-4db0-abd0-1ca4f0777f75"
      },
      "id": "_5V3NxbIuqrk",
      "execution_count": 88,
      "outputs": [
        {
          "output_type": "execute_result",
          "data": {
            "text/plain": [
              "0.12359550561797752"
            ]
          },
          "metadata": {},
          "execution_count": 88
        }
      ]
    },
    {
      "cell_type": "markdown",
      "id": "96b5dda8",
      "metadata": {
        "id": "96b5dda8"
      },
      "source": [
        "- **Extra.** Questa percentuale può cambiare variando il valore `seed` in alto. Rieseguire i calcoli sopra con 2-3 seed differenti, quindi calcolare la percentuale media su 1.000 prove con seed diversi."
      ]
    },
    {
      "cell_type": "code",
      "source": [
        "sum = 0\n",
        "seed = 1234567\n",
        "count = 1000\n",
        "for i in range(0, count):\n",
        "  random_suggestions_by_user = {uid: suggest_random(uid) for uid in users.keys()}\n",
        "  randomly_satisfied_users = {uid for uid in users.keys() if random_suggestions_by_user[uid] & new_purchases_by_user.get(uid, set())}\n",
        "  sum += len(randomly_satisfied_users)\n",
        "randomly_satisfied_users_mean = sum / count\n",
        "randomly_satisfied_users_mean / len(users)"
      ],
      "metadata": {
        "colab": {
          "base_uri": "https://localhost:8080/"
        },
        "id": "s1EoCu3Vu3Fx",
        "outputId": "5b474b55-f90f-4144-a9fa-6e8acaf31344"
      },
      "id": "s1EoCu3Vu3Fx",
      "execution_count": 89,
      "outputs": [
        {
          "output_type": "execute_result",
          "data": {
            "text/plain": [
              "0.1311011235955056"
            ]
          },
          "metadata": {},
          "execution_count": 89
        }
      ]
    }
  ],
  "metadata": {
    "language_info": {
      "name": "python"
    },
    "colab": {
      "provenance": [],
      "toc_visible": true,
      "include_colab_link": true
    },
    "kernelspec": {
      "name": "python3",
      "display_name": "Python 3"
    },
    "gpuClass": "standard"
  },
  "nbformat": 4,
  "nbformat_minor": 5
}