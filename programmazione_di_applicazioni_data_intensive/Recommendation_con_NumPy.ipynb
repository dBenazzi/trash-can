{
  "cells": [
    {
      "cell_type": "markdown",
      "metadata": {
        "id": "view-in-github",
        "colab_type": "text"
      },
      "source": [
        "<a href=\"https://colab.research.google.com/github/dBenazzi/trash-can/blob/main/programmazione_di_applicazioni_data_intensive/Recommendation_con_NumPy.ipynb\" target=\"_parent\"><img src=\"https://colab.research.google.com/assets/colab-badge.svg\" alt=\"Open In Colab\"/></a>"
      ]
    },
    {
      "cell_type": "markdown",
      "id": "3a23e073",
      "metadata": {
        "id": "3a23e073"
      },
      "source": [
        "# Laboratorio: Recommendation con Algebra Lineare e NumPy\n",
        "\n",
        "**Programmazione di Applicazioni Data Intensive**  \n",
        "Laurea in Ingegneria e Scienze Informatiche  \n",
        "DISI - Università di Bologna, Cesena\n",
        "\n",
        "Proff. Gianluca Moro, Roberto Pasolini  \n",
        "nome.cognome@unibo.it"
      ]
    },
    {
      "cell_type": "markdown",
      "id": "505c1925",
      "metadata": {
        "id": "505c1925"
      },
      "source": [
        "## Test librerie\n",
        "\n",
        "- NumPy si trova preinstallato su Colab e Anaconda\n",
        "- Eseguire la seguente cella per verificare il corretto funzionamento di NumPy"
      ]
    },
    {
      "cell_type": "code",
      "execution_count": 71,
      "id": "0b3bd34a",
      "metadata": {
        "id": "0b3bd34a",
        "outputId": "b464acf6-ed4a-4d6e-8698-3bcbb615f15c",
        "colab": {
          "base_uri": "https://localhost:8080/"
        }
      },
      "outputs": [
        {
          "output_type": "execute_result",
          "data": {
            "text/plain": [
              "42"
            ]
          },
          "metadata": {},
          "execution_count": 71
        }
      ],
      "source": [
        "import numpy as np\n",
        "np.array([2, 6, 10, 24]).sum()"
      ]
    },
    {
      "cell_type": "markdown",
      "id": "b5ee2dbe",
      "metadata": {
        "id": "b5ee2dbe"
      },
      "source": [
        "- In caso di errore, verificare di stare utilizzando il kernel corretto e che NumPy sia installato in esso\n",
        "- Per installare NumPy all'interno dell'ambiente virtuale corrente (può dare errore per permessi insufficienti in caso non si stia utilizzando un ambiente virtuale):"
      ]
    },
    {
      "cell_type": "code",
      "execution_count": 72,
      "id": "8a04d912",
      "metadata": {
        "id": "8a04d912"
      },
      "outputs": [],
      "source": [
        "# rimuovere il \"#\" nella riga sotto per abilitare il comando\n",
        "#pip install numpy"
      ]
    },
    {
      "cell_type": "markdown",
      "id": "805a13c8",
      "metadata": {
        "id": "805a13c8"
      },
      "source": [
        "## Recommendation: da strutture dati Python a matrici NumPy\n",
        "\n",
        "- Nella scorsa esercitazione abbiamo introdotto la **recommendation** di prodotti\n",
        "  - sappiamo **quali utenti** di un sito di e-commerce **hanno acquistato quali prodotti**\n",
        "  - vogliamo fornire **suggerimenti personalizzati a ciascun utente** su quali ulteriori prodotti dovrebbe acquistare\n",
        "- Abbiamo implementato una soluzione utilizzando **strutture dati e funzioni standard di Python**\n",
        "  - dizionari, insiemi, comprehension, ...\n",
        "- In questa esercitazione ripetiamo gli stessi passaggi usando **array NumPy**\n",
        "- Vediamo così come un problema reale si possa modellare nell'ambito dell'algebra lineare e risolvere tramite semplici operazioni tra matrici"
      ]
    },
    {
      "cell_type": "markdown",
      "id": "e82356f2",
      "metadata": {
        "id": "e82356f2"
      },
      "source": [
        "### Scaricamento file dati\n",
        "\n",
        "- Riutilizziamo i dati della scorsa esercitazione, scaricabili all'URL https://git.io/fhxQh\n",
        "- Eseguire la seguente cella di codice per scaricare il file ZIP dall'URL sopra ed estrarne i file"
      ]
    },
    {
      "cell_type": "code",
      "execution_count": 73,
      "id": "45b45aee",
      "metadata": {
        "id": "45b45aee"
      },
      "outputs": [],
      "source": [
        "import os.path\n",
        "if not os.path.exists(\"purchases_data.zip\"):\n",
        "    from urllib.request import urlretrieve\n",
        "    urlretrieve(\"https://git.io/fhxQh\", \"purchases_data.zip\")\n",
        "    from zipfile import ZipFile\n",
        "    with ZipFile(\"purchases_data.zip\") as f:\n",
        "        f.extractall()"
      ]
    },
    {
      "cell_type": "markdown",
      "id": "734642a7",
      "metadata": {
        "id": "734642a7"
      },
      "source": [
        "### Caricamento Dati\n",
        "\n",
        "- Ripetiamo i passaggi della scorsa esercitazione per caricare i dati dai file\n",
        "  - il file `users.csv` contiene ID e nomi degli utenti analizzati: li carichiamo in un dizionario `users` che associ i nomi agli ID\n",
        "  - facciamo lo stesso col file `items.csv`, che contiene ID e nomi dei prodotti: otteniamo un dizionario `items`\n",
        "  - il file `purchases-2000.csv` contiene gli acquisti fino alla fine del 2000 in forma di tuple ID utente + ID prodotto: le carichiamo in un insieme `purchases_set`"
      ]
    },
    {
      "cell_type": "code",
      "execution_count": 74,
      "id": "93dc88da",
      "metadata": {
        "id": "93dc88da"
      },
      "outputs": [],
      "source": [
        "import csv\n",
        "with open(\"users.csv\", \"r\") as f:\n",
        "    users = {int(uid): name for uid, name in csv.reader(f, delimiter=\";\")}\n",
        "with open(\"items.csv\", \"r\") as f:\n",
        "    items = {int(iid): name for iid, name in csv.reader(f, delimiter=\";\")}\n",
        "with open(\"purchases-2000.csv\", \"r\") as f:\n",
        "    purchases_set = {(int(uid), int(iid)) for uid, iid in csv.reader(f, delimiter=\";\")}"
      ]
    },
    {
      "cell_type": "markdown",
      "id": "b5f1f55e",
      "metadata": {
        "id": "b5f1f55e"
      },
      "source": [
        "## Algebra Lineare e NumPy\n",
        "\n",
        "- Oggetto di studio dell'**algebra lineare** sono i vettori, le matrici e le principali operazioni tra di essi\n",
        "  - con vettori e matrici si possono rappresentare dati da analizzare\n",
        "  - informazioni d'interesse si possono estrarre con operazioni come il prodotto tra matrici\n",
        "- **NumPy** è una libreria Python molto usata per lavorare con vettori, matrici e array N-dimensionali in generale\n",
        "  - sugli array NumPy si possono compiere efficientemente operazioni elemento per elemento, aggregazioni, operazioni di algebra lineare, ecc.\n",
        "- Iniziando importando il package `numpy` assegnandogli l'alias convenzionale `np`"
      ]
    },
    {
      "cell_type": "code",
      "execution_count": 75,
      "id": "7a580ed5",
      "metadata": {
        "id": "7a580ed5"
      },
      "outputs": [],
      "source": [
        "import numpy as np"
      ]
    },
    {
      "cell_type": "markdown",
      "id": "efed1b4c",
      "metadata": {
        "id": "efed1b4c"
      },
      "source": [
        "## Rappresentare gli acquisti in forma di matrice\n",
        "\n",
        "- L'insieme `purchases` degli acquisti degli utenti analizzati può essere rappresentato in una matrice binaria (ovvero di valori 0 e 1)\n",
        "  - ogni **riga** corrisponde ad un **utente**\n",
        "  - ogni **colonna** corrisponde ad un **prodotto** distinto\n",
        "  - il valore della cella _i,j_ è 1 se l'utente i ha acquistato il prodotto j, 0 altrimenti\n",
        "\n",
        "$$\\mathbf{P} = \\begin{bmatrix}0&1&0&1&0&\\cdots\\\\1&0&0&1&0&\\cdots\\\\0&0&1&0&1&\\ldots\\\\\\vdots&\\vdots&\\vdots&\\vdots&\\vdots&\\ddots\\end{bmatrix}$$\n",
        "\n",
        "- Vediamo come costruire tale matrice"
      ]
    },
    {
      "cell_type": "markdown",
      "id": "466fb56a",
      "metadata": {
        "id": "466fb56a"
      },
      "source": [
        "### Assegnazione di indici a utenti e prodotti\n",
        "\n",
        "- Iniziamo definendo **a quali utenti e prodotti corrispondano** rispettivamente **righe e colonne** della matrice\n",
        "- Costruiamo un dizionario `user_indices` che associ ad ognuno degli N ID utente (`uid`) un numero tra 0 e N-1 (`index`)\n",
        "  - usiamo `enumerate` per ottenere tuple `(index, uid)`, dove _index_ è un numero progressivo da 0 a N-1  \n",
        "    `enumerate([X, Y, Z])` $\\Rightarrow$ `(0, X), (1, Y), (2, Z)`\n",
        "  - usiamo `sorted` per ottenere le chiavi in ordine crescente\n",
        "    - non è strettamente necessario, ma garantisce la piena riproducibilità dei passaggi"
      ]
    },
    {
      "cell_type": "code",
      "execution_count": 76,
      "id": "67ee70ae",
      "metadata": {
        "id": "67ee70ae"
      },
      "outputs": [],
      "source": [
        "user_indices = {uid: index for index, uid in enumerate(sorted(users.keys()))}"
      ]
    },
    {
      "cell_type": "markdown",
      "id": "7d1e82ab",
      "metadata": {
        "id": "7d1e82ab"
      },
      "source": [
        "- Eseguiamo un'operazione simile per ottenere un dizionario `item_indices` con la numerazione degli oggetti"
      ]
    },
    {
      "cell_type": "code",
      "execution_count": 77,
      "id": "c85a4388",
      "metadata": {
        "id": "c85a4388"
      },
      "outputs": [],
      "source": [
        "item_indices = {iid: index for index, iid in enumerate(sorted(items.keys()))}"
      ]
    },
    {
      "cell_type": "markdown",
      "id": "4831eee1",
      "metadata": {
        "id": "4831eee1"
      },
      "source": [
        "- Abbiamo così ottenuto dizionari che mappano ID utenti e prodotti a righe e colonne della matrice\n",
        "- Ad esempio, la riga corrispondente all'utente con ID 63776 ha indice..."
      ]
    },
    {
      "cell_type": "code",
      "execution_count": 78,
      "id": "57611295",
      "metadata": {
        "id": "57611295",
        "outputId": "827bc42f-35c1-4a6b-896e-2799ac222397",
        "colab": {
          "base_uri": "https://localhost:8080/"
        }
      },
      "outputs": [
        {
          "output_type": "execute_result",
          "data": {
            "text/plain": [
              "10"
            ]
          },
          "metadata": {},
          "execution_count": 78
        }
      ],
      "source": [
        "user_indices[63776]"
      ]
    },
    {
      "cell_type": "markdown",
      "id": "26982d10",
      "metadata": {
        "id": "26982d10"
      },
      "source": [
        "### Inizializzazione della matrice\n",
        "\n",
        "- Per allocare la matrice degli acquisti, definiamone dapprima la _forma_, ovvero il numero di righe e di colonne\n",
        "- Questi sono pari rispettivamente al numero di utenti e di prodotti, che salviamo in due variabili per comodità"
      ]
    },
    {
      "cell_type": "code",
      "execution_count": 79,
      "id": "6d67e5f5",
      "metadata": {
        "id": "6d67e5f5",
        "outputId": "325d3d66-aba7-4d71-c603-716d94e80abe",
        "colab": {
          "base_uri": "https://localhost:8080/"
        }
      },
      "outputs": [
        {
          "output_type": "stream",
          "name": "stdout",
          "text": [
            "178 utenti, 3384 prodotti\n"
          ]
        }
      ],
      "source": [
        "n_users = len(users)\n",
        "n_items = len(items)\n",
        "print(f\"{n_users} utenti, {n_items} prodotti\")"
      ]
    },
    {
      "cell_type": "markdown",
      "id": "657b80b9",
      "metadata": {
        "id": "657b80b9"
      },
      "source": [
        "- Creiamo ora la matrice `purchases` inizializzando tutti i valori a 0, ovvero senza alcun acquisto\n",
        "- Usiamo per questo la funzione `zeros` passando la forma desiderata della matrice\n",
        "- Dato che la matrice conterrà solo valori interi (0 e 1), specifichiamo `int` come datatype\n",
        "  - `int` verrà convertito ad un dtype con una precisione specifica, es. `int64`"
      ]
    },
    {
      "cell_type": "code",
      "execution_count": 80,
      "id": "e3244100",
      "metadata": {
        "id": "e3244100"
      },
      "outputs": [],
      "source": [
        "purchases = np.zeros((n_users, n_items), dtype=int)"
      ]
    },
    {
      "cell_type": "markdown",
      "id": "948b835f",
      "metadata": {
        "id": "948b835f"
      },
      "source": [
        "### Esercizio 1: Scrittura acquisti nella matrice\n",
        "\n",
        "- Per ottenere la matrice degli acquisti effettiva, impostare a 1 gli elementi corrispondenti alle coppie utente-oggetto nell'insieme `purchases_set`\n",
        "  - usare opportunamente i dizionari `user_indices` e `item_indices` creati sopra\n",
        "  - per impostare un valore nella matrice:  \n",
        "    `matrice[indice_riga, indice_colonna] = valore`"
      ]
    },
    {
      "cell_type": "code",
      "source": [
        "for user, product in purchases_set:\n",
        "  purchases[user_indices[user], item_indices[product]] = 1"
      ],
      "metadata": {
        "id": "JIUlbSDPO8Vw"
      },
      "id": "JIUlbSDPO8Vw",
      "execution_count": 81,
      "outputs": []
    },
    {
      "cell_type": "markdown",
      "id": "df7adaa4",
      "metadata": {
        "id": "df7adaa4"
      },
      "source": [
        "- Visualizziamo una porzione della matrice ottenuta..."
      ]
    },
    {
      "cell_type": "code",
      "execution_count": 82,
      "id": "187f677d",
      "metadata": {
        "id": "187f677d",
        "outputId": "35a7c350-d307-4a3c-fa70-d325d5b08015",
        "colab": {
          "base_uri": "https://localhost:8080/"
        }
      },
      "outputs": [
        {
          "output_type": "execute_result",
          "data": {
            "text/plain": [
              "array([[0, 0, 0, 0, 0, 0, 0, 0, 0, 0, 0, 0, 0, 0, 0],\n",
              "       [0, 0, 0, 0, 0, 0, 0, 0, 0, 0, 1, 0, 0, 0, 0],\n",
              "       [0, 0, 0, 0, 0, 0, 0, 0, 0, 0, 0, 0, 0, 0, 0],\n",
              "       [0, 0, 0, 0, 0, 0, 0, 0, 0, 0, 0, 1, 1, 0, 0],\n",
              "       [0, 0, 0, 0, 0, 0, 0, 0, 0, 0, 0, 0, 0, 0, 0]])"
            ]
          },
          "metadata": {},
          "execution_count": 82
        }
      ],
      "source": [
        "purchases[-5:, :15]   # ultime 5 righe, prime 15 colonne"
      ]
    },
    {
      "cell_type": "markdown",
      "id": "01e06b93",
      "metadata": {
        "id": "01e06b93"
      },
      "source": [
        "- Vediamo ad esempio che l'utente della penultima riga ha acquistato i prodotti di indice 11 e 12"
      ]
    },
    {
      "cell_type": "markdown",
      "id": "f6015175",
      "metadata": {
        "id": "f6015175"
      },
      "source": [
        "### Array booleani\n",
        "\n",
        "- Oltre agli array numerici, NumPy supporta array booleani, contenenti valori `False` e `True`\n",
        "- Abbiamo rappresentato `purchases` con valori 0 e 1 perché è una notazione comune, ma può essere rappresentata anche come array booleano\n",
        "- Usiamo il metodo `astype` per ottenere una copia della matrice convertendone il datatype\n",
        "  - viene seguita la convenzione di Python per cui 0 diventa `False` e ogni altro numero `True`"
      ]
    },
    {
      "cell_type": "code",
      "execution_count": 83,
      "id": "93f6388a",
      "metadata": {
        "id": "93f6388a"
      },
      "outputs": [],
      "source": [
        "purchases_bool = purchases.astype(bool)"
      ]
    },
    {
      "cell_type": "markdown",
      "id": "e56b14fd",
      "metadata": {
        "id": "e56b14fd"
      },
      "source": [
        "- Otteniamo una matrice con 0 e 1 convertiti rispettivamente in `False` e `True`"
      ]
    },
    {
      "cell_type": "code",
      "execution_count": 84,
      "id": "1d58a845",
      "metadata": {
        "id": "1d58a845",
        "outputId": "f6026138-d3d5-4186-f42a-2a53b46b6f54",
        "colab": {
          "base_uri": "https://localhost:8080/"
        }
      },
      "outputs": [
        {
          "output_type": "execute_result",
          "data": {
            "text/plain": [
              "array([[False, False, False, False, False, False, False, False, False,\n",
              "        False, False, False, False, False, False],\n",
              "       [False, False, False, False, False, False, False, False, False,\n",
              "        False,  True, False, False, False, False],\n",
              "       [False, False, False, False, False, False, False, False, False,\n",
              "        False, False, False, False, False, False],\n",
              "       [False, False, False, False, False, False, False, False, False,\n",
              "        False, False,  True,  True, False, False],\n",
              "       [False, False, False, False, False, False, False, False, False,\n",
              "        False, False, False, False, False, False]])"
            ]
          },
          "metadata": {},
          "execution_count": 84
        }
      ],
      "source": [
        "purchases_bool[-5:, :15]   # ultime 5 righe, prime 15 colonne"
      ]
    },
    {
      "cell_type": "markdown",
      "id": "a644c471",
      "metadata": {
        "id": "a644c471"
      },
      "source": [
        "- Questa versione booleana della matrice ci servirà per alcune operazioni"
      ]
    },
    {
      "cell_type": "markdown",
      "id": "c0b3f217",
      "metadata": {
        "id": "c0b3f217"
      },
      "source": [
        "## Associare nomi a righe e colonne\n",
        "\n",
        "- I dizionari `*_indices` permettono, dato l'ID di un utente o prodotto, di risalire alla riga o colonna corrispondente della matrice\n",
        "- Creiamo ora un vettore `user_names` che contenga i nomi degli utenti nelle posizioni corrispondenti alle righe della matrice\n",
        "- Allochiamo un vettore vuoto con lunghezza pari al numero di utenti e tipo di elementi `object`, ovvero oggetti Python arbitrari\n",
        "  - `n_users` (valore singolo) equivale a `(n_users, )` (tupla di un elemento, quindi vettore)"
      ]
    },
    {
      "cell_type": "code",
      "execution_count": 85,
      "id": "ec62594c",
      "metadata": {
        "id": "ec62594c"
      },
      "outputs": [],
      "source": [
        "user_names = np.empty(n_users, dtype=object)"
      ]
    },
    {
      "cell_type": "markdown",
      "id": "1c4bcdbe",
      "metadata": {
        "id": "1c4bcdbe"
      },
      "source": [
        "### Esercizio 2: Creazione vettori nomi\n",
        "\n",
        "- **(2a)** Riempire il vettore `user_names` con i nomi degli utenti corrispondenti alle righe di `purchases`\n",
        "  - usare i dizionari `users` e `user_indices`\n",
        "- **(2b)** Creare e riempire in modo simile un vettore `item_names` con i nomi degli oggetti corrispondenti alle colonne di `purchases`"
      ]
    },
    {
      "cell_type": "code",
      "source": [
        "for uid, index in user_indices.items():\n",
        "  user_names[index] = users[uid]\n",
        "\n",
        "item_names = np.empty(n_items, dtype=object)\n",
        "for iid, index in item_indices.items():\n",
        "  item_names[index] = items[iid]"
      ],
      "metadata": {
        "id": "J_iu3aJGP2LM"
      },
      "id": "J_iu3aJGP2LM",
      "execution_count": 86,
      "outputs": []
    },
    {
      "cell_type": "markdown",
      "id": "c6c647ed",
      "metadata": {
        "id": "c6c647ed"
      },
      "source": [
        "- Possiamo così ottenere il nomi di un singolo utente o prodotto data la riga o colonna"
      ]
    },
    {
      "cell_type": "code",
      "execution_count": 87,
      "id": "055fdd45",
      "metadata": {
        "id": "055fdd45",
        "outputId": "f02cbb86-5a58-439d-d924-7174f687b266",
        "colab": {
          "base_uri": "https://localhost:8080/",
          "height": 35
        }
      },
      "outputs": [
        {
          "output_type": "execute_result",
          "data": {
            "text/plain": [
              "'Doctor Who - Robot [VHS]'"
            ],
            "application/vnd.google.colaboratory.intrinsic+json": {
              "type": "string"
            }
          },
          "metadata": {},
          "execution_count": 87
        }
      ],
      "source": [
        "item_names[11]"
      ]
    },
    {
      "cell_type": "markdown",
      "id": "b74828c1",
      "metadata": {
        "id": "b74828c1"
      },
      "source": [
        "- In più, rispetto alle liste di Python, possiamo estrarre molteplici valori dal vettore passando una **lista di indici**"
      ]
    },
    {
      "cell_type": "code",
      "execution_count": 88,
      "id": "eedbf3d1",
      "metadata": {
        "id": "eedbf3d1",
        "outputId": "e161f3ef-15fb-452d-e4e8-a5641bc8316c",
        "colab": {
          "base_uri": "https://localhost:8080/"
        }
      },
      "outputs": [
        {
          "output_type": "execute_result",
          "data": {
            "text/plain": [
              "array(['Star Wars - Episode IV, A New Hope [VHS]',\n",
              "       'Star Wars - Episode V, The Empire Strikes Back [VHS]',\n",
              "       'Star Wars - Episode VI, Return of the Jedi [VHS]'], dtype=object)"
            ]
          },
          "metadata": {},
          "execution_count": 88
        }
      ],
      "source": [
        "item_names[[3112, 1417, 3109]]"
      ]
    },
    {
      "cell_type": "markdown",
      "id": "8ee5de1a",
      "metadata": {
        "id": "8ee5de1a"
      },
      "source": [
        "## Selezione elementi tramite array booleani\n",
        "\n",
        "- Possiamo usare l'**indicizzazione booleana** per estrarre elementi che corrispondano ad una condizione\n",
        "- Consideriamo ad esempio la riga 176 della matrice, che indica gli acquisti dell'utente..."
      ]
    },
    {
      "cell_type": "code",
      "execution_count": 89,
      "id": "37d47984",
      "metadata": {
        "id": "37d47984",
        "outputId": "c9a967fa-297f-4c24-8850-ee6376e59be4",
        "colab": {
          "base_uri": "https://localhost:8080/",
          "height": 35
        }
      },
      "outputs": [
        {
          "output_type": "execute_result",
          "data": {
            "text/plain": [
              "'G.Spider'"
            ],
            "application/vnd.google.colaboratory.intrinsic+json": {
              "type": "string"
            }
          },
          "metadata": {},
          "execution_count": 89
        }
      ],
      "source": [
        "user_names[176]"
      ]
    },
    {
      "cell_type": "markdown",
      "id": "25cc1928",
      "metadata": {
        "id": "25cc1928"
      },
      "source": [
        "- Estraiamo la riga corrispondente dalla matrice `purchases_bool` per ottenere un vettore in forma booleana\n",
        "  - `[176, :]` si può abbreviare in `[176]`\n",
        "  - essendo una singola riga di una matrice, otteniamo un vettore"
      ]
    },
    {
      "cell_type": "code",
      "execution_count": 90,
      "id": "21ebead2",
      "metadata": {
        "id": "21ebead2",
        "outputId": "3389cdb7-3434-421b-9bd6-1ae7bc97523f",
        "colab": {
          "base_uri": "https://localhost:8080/"
        }
      },
      "outputs": [
        {
          "output_type": "execute_result",
          "data": {
            "text/plain": [
              "array([False, False, False, False, False, False, False, False, False,\n",
              "       False, False,  True,  True, False, False, False, False, False,\n",
              "       False, False])"
            ]
          },
          "metadata": {},
          "execution_count": 90
        }
      ],
      "source": [
        "purchased_by_user_176 = purchases_bool[176, :]\n",
        "\n",
        "# visualizzo i primi 20 valori\n",
        "purchased_by_user_176[:20]"
      ]
    },
    {
      "cell_type": "markdown",
      "id": "9fde3922",
      "metadata": {
        "id": "9fde3922"
      },
      "source": [
        "- Possiamo usare questo vettore come selettore del vettore `item_names` per estrarre i soli valori di `item_names` corrispondenti a valori `True`\n",
        "- In questo modo otteniamo un vettore con i **nomi** dei soli prodotti **acquistati dall'utente**"
      ]
    },
    {
      "cell_type": "code",
      "execution_count": 91,
      "id": "a7bd35a5",
      "metadata": {
        "id": "a7bd35a5",
        "outputId": "33b0e388-6992-48f0-8812-d96f3c6df61a",
        "colab": {
          "base_uri": "https://localhost:8080/"
        }
      },
      "outputs": [
        {
          "output_type": "execute_result",
          "data": {
            "text/plain": [
              "array(['Doctor Who - Robot [VHS]', 'Doctor Who - City of Death [VHS]',\n",
              "       'Doctor Who: The Curse of Peladon [VHS]',\n",
              "       'Doctor Who:  Time and The Rani [VHS]',\n",
              "       'Doctor Who - Ghost Light [VHS]',\n",
              "       'Doctor Who - The Visitation / Black Orchid [VHS]',\n",
              "       'Doctor Who - Kinda [VHS]',\n",
              "       'Doctor Who - The Mark of the Rani [VHS]',\n",
              "       'Doctor Who - The Leisure Hive [VHS]',\n",
              "       'Star Wars - Episode I, The Phantom Menace [VHS]'], dtype=object)"
            ]
          },
          "metadata": {},
          "execution_count": 91
        }
      ],
      "source": [
        "item_names_purchased_by_user_176 = item_names[purchased_by_user_176]\n",
        "\n",
        "# visualizzo i primi 10 elementi\n",
        "item_names_purchased_by_user_176[:10]"
      ]
    },
    {
      "cell_type": "markdown",
      "id": "388d85c2",
      "metadata": {
        "id": "388d85c2"
      },
      "source": [
        "- Si noti che per questa selezione è necessario usare l'array booleano, usando quello binario si ha un risultato errato"
      ]
    },
    {
      "cell_type": "code",
      "execution_count": 92,
      "id": "73bc2d96",
      "metadata": {
        "id": "73bc2d96",
        "outputId": "38a05064-5e47-442a-8c02-f5e647f69ff9",
        "colab": {
          "base_uri": "https://localhost:8080/"
        }
      },
      "outputs": [
        {
          "output_type": "execute_result",
          "data": {
            "text/plain": [
              "array(['Age of Innocence [VHS]', 'Age of Innocence [VHS]',\n",
              "       'Age of Innocence [VHS]', ..., 'Age of Innocence [VHS]',\n",
              "       'Age of Innocence [VHS]', 'Age of Innocence [VHS]'], dtype=object)"
            ]
          },
          "metadata": {},
          "execution_count": 92
        }
      ],
      "source": [
        "item_names[purchases[176, :]]"
      ]
    },
    {
      "cell_type": "markdown",
      "id": "7ea6424e",
      "metadata": {
        "id": "7ea6424e"
      },
      "source": [
        "## Statistiche sugli acquisti\n",
        "\n",
        "- Gli array forniscono metodi per calcolare valori aggregati: somma, media, min/max, ecc.\n",
        "- Ad esempio il metodo `sum` calcola la somma di tutti gli elementi di un array\n",
        "- Possiamo utilizzarlo per ottenere il numero totale di acquisti analizzati"
      ]
    },
    {
      "cell_type": "code",
      "execution_count": 93,
      "id": "a676c284",
      "metadata": {
        "id": "a676c284",
        "outputId": "493f2601-f7e0-4274-f458-1d90321828e6",
        "colab": {
          "base_uri": "https://localhost:8080/"
        }
      },
      "outputs": [
        {
          "output_type": "execute_result",
          "data": {
            "text/plain": [
              "9683"
            ]
          },
          "metadata": {},
          "execution_count": 93
        }
      ],
      "source": [
        "purchases.sum()"
      ]
    },
    {
      "cell_type": "markdown",
      "id": "31a3c28a",
      "metadata": {
        "id": "31a3c28a"
      },
      "source": [
        "- Posso ottenere lo stesso risultato effettuando la somma sulla matrice booleana (perché trattati come numeri `False` e `True` valgono 0 e 1 rispettivamente)\n",
        "  - in generale, `sum` può essere usato per contare i valori `True` in un array booleano"
      ]
    },
    {
      "cell_type": "code",
      "execution_count": 94,
      "id": "9bd6fa9b",
      "metadata": {
        "id": "9bd6fa9b",
        "outputId": "207b1f5e-86cf-4800-dfbb-67eabfeb4f12",
        "colab": {
          "base_uri": "https://localhost:8080/"
        }
      },
      "outputs": [
        {
          "output_type": "execute_result",
          "data": {
            "text/plain": [
              "9683"
            ]
          },
          "metadata": {},
          "execution_count": 94
        }
      ],
      "source": [
        "purchases_bool.sum()"
      ]
    },
    {
      "cell_type": "markdown",
      "id": "0aa3737a",
      "metadata": {
        "id": "0aa3737a"
      },
      "source": [
        "- Oltre ad aggregare tutti i valori, possiamo compiere aggregazioni per righe (asse 0) o per colonne (asse 1)\n",
        "- Applichiamo la somma per righe e per colonne alla matrice degli acquisti\n",
        "  - `sum(1)` -> sommo tra loro le colonne -> ottengo il numero di prodotti acquistati per ogni utente\n",
        "  - `sum(0)` -> sommo tra loro le righe -> ottengo il numero di utenti che hanno acquistato ciascun prodotto"
      ]
    },
    {
      "cell_type": "code",
      "execution_count": 95,
      "id": "0c843511",
      "metadata": {
        "id": "0c843511"
      },
      "outputs": [],
      "source": [
        "user_purchases = purchases.sum(1)\n",
        "item_purchases = purchases.sum(0)"
      ]
    },
    {
      "cell_type": "code",
      "execution_count": 96,
      "id": "4aed9423",
      "metadata": {
        "id": "4aed9423",
        "outputId": "93111be7-c468-42f1-f60f-3edc0682cb6a",
        "colab": {
          "base_uri": "https://localhost:8080/"
        }
      },
      "outputs": [
        {
          "output_type": "execute_result",
          "data": {
            "text/plain": [
              "array([38, 32, 50, 41, 34, 47, 72, 40, 33, 51])"
            ]
          },
          "metadata": {},
          "execution_count": 96
        }
      ],
      "source": [
        "# numero di acquisti dei primi 10 clienti\n",
        "user_purchases[:10]"
      ]
    },
    {
      "cell_type": "code",
      "execution_count": 97,
      "id": "0d7b2071",
      "metadata": {
        "id": "0d7b2071",
        "outputId": "dc6a6201-3890-49ba-88ab-76479a47d594",
        "colab": {
          "base_uri": "https://localhost:8080/"
        }
      },
      "outputs": [
        {
          "output_type": "execute_result",
          "data": {
            "text/plain": [
              "array([1, 2, 1, 4, 1, 1, 1, 1, 1, 2])"
            ]
          },
          "metadata": {},
          "execution_count": 97
        }
      ],
      "source": [
        "# numero di clienti che hanno acquistato i primi 10 oggetti\n",
        "item_purchases[:10]"
      ]
    },
    {
      "cell_type": "markdown",
      "id": "9592f7b5",
      "metadata": {
        "id": "9592f7b5"
      },
      "source": [
        "Oltre a `sum` si ricordano tra i metodi più comuni\n",
        "- `mean` per la media\n",
        "- `min` e `max` per ottenere **i valori** minimo e massimo dell'array\n",
        "- `argmin` e `argmax` per ottenere **gli indici** all'interno di un vettore del valori minimo e massimo\n",
        "\n",
        "Nota: per ognuno di questi metodi, ad es. `X.sum()`, esiste una funzione equivalente `np.sum(X)` che si può applicare anche ad oggetti \"array-like\", ad es. le normali `list` di Python"
      ]
    },
    {
      "cell_type": "code",
      "execution_count": 98,
      "id": "7ad23b2c",
      "metadata": {
        "id": "7ad23b2c",
        "outputId": "cea91d3e-6b53-4d06-af15-9ab971b75165",
        "colab": {
          "base_uri": "https://localhost:8080/"
        }
      },
      "outputs": [
        {
          "output_type": "execute_result",
          "data": {
            "text/plain": [
              "6"
            ]
          },
          "metadata": {},
          "execution_count": 98
        }
      ],
      "source": [
        "np.sum( np.array([1, 2, 3]) )"
      ]
    },
    {
      "cell_type": "code",
      "execution_count": 99,
      "id": "e027a5c3",
      "metadata": {
        "id": "e027a5c3",
        "outputId": "38e242e1-5207-4b47-d991-41f2bf807fdf",
        "colab": {
          "base_uri": "https://localhost:8080/"
        }
      },
      "outputs": [
        {
          "output_type": "execute_result",
          "data": {
            "text/plain": [
              "6"
            ]
          },
          "metadata": {},
          "execution_count": 99
        }
      ],
      "source": [
        "np.sum([1, 2, 3])"
      ]
    },
    {
      "cell_type": "markdown",
      "id": "3d78d27a",
      "metadata": {
        "id": "3d78d27a"
      },
      "source": [
        "### Esercizio 3: Estrazione informazioni dai vettori\n",
        "\n",
        "Utilizzando i vettori `user_purchases`, `item_purchases`, `user_names` e `item_names` ricavare:\n",
        "- **(3a)** il numero di acquisti medio per ogni utente\n",
        "- **(3b)** il numero di acquisti del prodotto più acquistato\n",
        "- **(3c)** il nome dell'utente che ha effettuato più acquisti\n",
        "- **(3d)** il numero di utenti che hanno acquistato almeno 50 prodotti\n",
        "- **(3e)** i nomi dei prodotti acquistati da almeno 35 utenti"
      ]
    },
    {
      "cell_type": "code",
      "source": [
        "print(\"numero acquisti medio per ogni utente: \", user_purchases.mean())\n",
        "print(\"numero di acquisti del prodotto più acquistato: \", np.max(np.sum(purchases, axis=0)))\n",
        "print(\"nome utente che ha effettuato più acquisti: \", user_names[np.argmax(np.sum(purchases, axis=1))])\n",
        "print(\"numero utenti che hanno acquistato almeno 50 prodotti: \", (user_purchases >= 50).sum())\n",
        "print(\"nomi prodotti acquistati da almeno 35 utenti\", item_names[(item_purchases >= 35)])"
      ],
      "metadata": {
        "id": "zkxhSw0hSiwI",
        "outputId": "123d8b64-2925-4f40-fa83-5b5e74ddd476",
        "colab": {
          "base_uri": "https://localhost:8080/"
        }
      },
      "id": "zkxhSw0hSiwI",
      "execution_count": 100,
      "outputs": [
        {
          "output_type": "stream",
          "name": "stdout",
          "text": [
            "numero acquisti medio per ogni utente:  54.39887640449438\n",
            "numero di acquisti del prodotto più acquistato:  50\n",
            "nome utente che ha effettuato più acquisti:  Bertin Ramirez \"justareviewer\"\n",
            "numero utenti che hanno acquistato almeno 50 prodotti:  68\n",
            "nomi prodotti acquistati da almeno 35 utenti ['Star Wars - Episode I, The Phantom Menace [VHS]' 'The Matrix'\n",
            " 'Sleepy Hollow' 'Curse of the Blair Witch [VHS]' 'The Sixth Sense [VHS]']\n"
          ]
        }
      ]
    },
    {
      "cell_type": "markdown",
      "id": "8a9c6f29",
      "metadata": {
        "id": "8a9c6f29"
      },
      "source": [
        "## Similarità tra utenti\n",
        "\n",
        "- Misuriamo la similarità tra due utenti come il numero di **prodotti distinti acquistati da entrambi**\n",
        "- Rappresentando i dati in insiemi Python, abbiamo usato intersezioni tra gli insiemi di prodotti acquistati\n",
        "- Avendo un vettore (riga della matrice) booleano per ogni utente, possiamo trovare quali sono gli acquisti comuni tra due utenti tramite l'AND elemento per elemento\n",
        "- Estraiamo ad esempio gli acquisti comuni tra i primi due utenti nella matrice"
      ]
    },
    {
      "cell_type": "code",
      "execution_count": 101,
      "id": "10168c01",
      "metadata": {
        "id": "10168c01"
      },
      "outputs": [],
      "source": [
        "common_purchases_0_1 = purchases_bool[0] & purchases_bool[1]"
      ]
    },
    {
      "cell_type": "code",
      "execution_count": 102,
      "id": "ecc86ab1",
      "metadata": {
        "id": "ecc86ab1",
        "outputId": "02c52d28-46f7-453b-c43c-853600978b4b",
        "colab": {
          "base_uri": "https://localhost:8080/"
        }
      },
      "outputs": [
        {
          "output_type": "execute_result",
          "data": {
            "text/plain": [
              "array([False, False, False, ..., False, False, False])"
            ]
          },
          "metadata": {},
          "execution_count": 102
        }
      ],
      "source": [
        "common_purchases_0_1"
      ]
    },
    {
      "cell_type": "markdown",
      "id": "38000123",
      "metadata": {
        "id": "38000123"
      },
      "source": [
        "- Nella rappresentazione binaria (0 e 1), questo corrisponde alla moltiplicazione elemento per elemento\n",
        "  - il prodotto elemento per elemento è 1 solo dove in entrambi i vettori c'è 1, altrimenti è 0"
      ]
    },
    {
      "cell_type": "code",
      "execution_count": 103,
      "id": "61a37ac3",
      "metadata": {
        "id": "61a37ac3"
      },
      "outputs": [],
      "source": [
        "common_purchases_0_1 = purchases[0] * purchases[1]"
      ]
    },
    {
      "cell_type": "code",
      "execution_count": 104,
      "id": "c83c4da3",
      "metadata": {
        "id": "c83c4da3",
        "outputId": "8ab357e8-b659-4b5d-b7ba-1842dc9f5551",
        "colab": {
          "base_uri": "https://localhost:8080/"
        }
      },
      "outputs": [
        {
          "output_type": "execute_result",
          "data": {
            "text/plain": [
              "array([0, 0, 0, ..., 0, 0, 0])"
            ]
          },
          "metadata": {},
          "execution_count": 104
        }
      ],
      "source": [
        "common_purchases_0_1"
      ]
    },
    {
      "cell_type": "markdown",
      "id": "4e09c9bb",
      "metadata": {
        "id": "4e09c9bb"
      },
      "source": [
        "- Per sapere quanti sono i prodotti acquistati in comune posso contare i `True` o gli 1 nell'array col metodo `sum`"
      ]
    },
    {
      "cell_type": "code",
      "execution_count": 105,
      "id": "dce56a88",
      "metadata": {
        "id": "dce56a88",
        "outputId": "ffd7ddc4-16fe-4234-91ee-e6ffc9e4aba1",
        "colab": {
          "base_uri": "https://localhost:8080/"
        }
      },
      "outputs": [
        {
          "output_type": "execute_result",
          "data": {
            "text/plain": [
              "4"
            ]
          },
          "metadata": {},
          "execution_count": 105
        }
      ],
      "source": [
        "common_purchases_0_1.sum()"
      ]
    },
    {
      "cell_type": "markdown",
      "id": "b8f7f5f8",
      "metadata": {
        "id": "b8f7f5f8"
      },
      "source": [
        "- Il numero di prodotti acquistati in comune è quindi pari alla somma dei prodotti tra le corrispondenti righe della matrice"
      ]
    },
    {
      "cell_type": "code",
      "execution_count": 106,
      "id": "25ce493b",
      "metadata": {
        "id": "25ce493b",
        "outputId": "0c291ba8-3e4f-4478-ee0d-d4dea586da32",
        "colab": {
          "base_uri": "https://localhost:8080/"
        }
      },
      "outputs": [
        {
          "output_type": "execute_result",
          "data": {
            "text/plain": [
              "4"
            ]
          },
          "metadata": {},
          "execution_count": 106
        }
      ],
      "source": [
        "np.sum( purchases[0] * purchases[1] )"
      ]
    },
    {
      "cell_type": "markdown",
      "id": "8fb69cc9",
      "metadata": {
        "id": "8fb69cc9"
      },
      "source": [
        "- Questo corrisponde al **prodotto scalare** (_dot product_) tra le due righe, che può essere estratto efficientemente con la funzione `dot`, il metodo `dot` o l'operatore `@`"
      ]
    },
    {
      "cell_type": "code",
      "execution_count": 107,
      "id": "cbead39f",
      "metadata": {
        "id": "cbead39f",
        "outputId": "b3d5630e-02e1-4c53-f9c6-beec0b08d331",
        "colab": {
          "base_uri": "https://localhost:8080/"
        }
      },
      "outputs": [
        {
          "output_type": "execute_result",
          "data": {
            "text/plain": [
              "4"
            ]
          },
          "metadata": {},
          "execution_count": 107
        }
      ],
      "source": [
        "np.dot(purchases[0], purchases[1])"
      ]
    },
    {
      "cell_type": "code",
      "execution_count": 108,
      "id": "1abde042",
      "metadata": {
        "id": "1abde042",
        "outputId": "cabd708a-92a8-4d5e-a919-f3d1b67e182a",
        "colab": {
          "base_uri": "https://localhost:8080/"
        }
      },
      "outputs": [
        {
          "output_type": "execute_result",
          "data": {
            "text/plain": [
              "4"
            ]
          },
          "metadata": {},
          "execution_count": 108
        }
      ],
      "source": [
        "purchases[0].dot(purchases[1])"
      ]
    },
    {
      "cell_type": "code",
      "execution_count": 109,
      "id": "d8bf2be5",
      "metadata": {
        "id": "d8bf2be5",
        "outputId": "2abd3b86-ce01-431a-f533-9beb54ca84d3",
        "colab": {
          "base_uri": "https://localhost:8080/"
        }
      },
      "outputs": [
        {
          "output_type": "execute_result",
          "data": {
            "text/plain": [
              "4"
            ]
          },
          "metadata": {},
          "execution_count": 109
        }
      ],
      "source": [
        "purchases[0] @ purchases[1]"
      ]
    },
    {
      "cell_type": "markdown",
      "id": "60da3431",
      "metadata": {
        "id": "60da3431"
      },
      "source": [
        "### Matrice di similarità\n",
        "\n",
        "- Vogliamo ottenere in una matrice `similarity` NxN tutte le similarità reciproche tra gli N utenti, ovvero i prodotti scalari tra tutte le righe di `purchases`\n",
        "\n",
        "```\n",
        "similarity[i, j] == purchases[i, :] @ purchases[j, :]\n",
        "```\n",
        "\n",
        "- Abbiamo visto che il **prodotto tra matrici** restituisce una matrice di prodotti scalari tra le righe di una matrice e le colonne di un'altra\n",
        "\n",
        "```\n",
        "(A @ B)[i, j] == A[i, :] @ B[:, j]\n",
        "```\n",
        "\n",
        "- Se vogliamo calcolare i prodotti tra le righe di A e le righe di B, possiamo calcolare il prodotto tra A e la **trasposta** di B, estraibile con `B.T`\n",
        "\n",
        "```\n",
        "(A @ B.T)[i, j] == A[i, :] @ B[j, :]\n",
        "```\n",
        "\n",
        "- Per ottenere i prodotti scalari tra tutte le righe di `purchases` possiamo quindi **moltiplicarla per la sua trasposta**"
      ]
    },
    {
      "cell_type": "code",
      "execution_count": 110,
      "id": "a3fd3452",
      "metadata": {
        "id": "a3fd3452"
      },
      "outputs": [],
      "source": [
        "similarity = purchases @ purchases.T"
      ]
    },
    {
      "cell_type": "markdown",
      "id": "dcc5f163",
      "metadata": {
        "id": "dcc5f163"
      },
      "source": [
        "- Otteniamo una matrice quadrata, di ordine pari al numero di utenti"
      ]
    },
    {
      "cell_type": "code",
      "execution_count": 111,
      "id": "6ed39255",
      "metadata": {
        "id": "6ed39255",
        "outputId": "3e00aa20-56ca-40e1-ffe5-752fe0141f97",
        "colab": {
          "base_uri": "https://localhost:8080/"
        }
      },
      "outputs": [
        {
          "output_type": "execute_result",
          "data": {
            "text/plain": [
              "(178, 178)"
            ]
          },
          "metadata": {},
          "execution_count": 111
        }
      ],
      "source": [
        "similarity.shape"
      ]
    },
    {
      "cell_type": "markdown",
      "id": "065a513f",
      "metadata": {
        "id": "065a513f"
      },
      "source": [
        "- Visualizziamo un estratto della matrice..."
      ]
    },
    {
      "cell_type": "code",
      "execution_count": 112,
      "id": "ed7a3229",
      "metadata": {
        "id": "ed7a3229",
        "outputId": "1a6de552-896b-4fd8-f292-d51817f343af",
        "colab": {
          "base_uri": "https://localhost:8080/"
        }
      },
      "outputs": [
        {
          "output_type": "execute_result",
          "data": {
            "text/plain": [
              "array([[38,  4,  1,  0,  1,  2,  1,  1,  0,  2],\n",
              "       [ 4, 32,  1,  0,  0,  2,  0,  1,  2,  4],\n",
              "       [ 1,  1, 50,  1,  4,  2,  1,  2,  1,  7],\n",
              "       [ 0,  0,  1, 41,  1,  1,  3,  1,  1,  2],\n",
              "       [ 1,  0,  4,  1, 34,  1,  0,  2,  1,  2],\n",
              "       [ 2,  2,  2,  1,  1, 47,  1,  0,  2,  1],\n",
              "       [ 1,  0,  1,  3,  0,  1, 72,  1,  1,  2],\n",
              "       [ 1,  1,  2,  1,  2,  0,  1, 40,  1,  6],\n",
              "       [ 0,  2,  1,  1,  1,  2,  1,  1, 33,  3],\n",
              "       [ 2,  4,  7,  2,  2,  1,  2,  6,  3, 51]])"
            ]
          },
          "metadata": {},
          "execution_count": 112
        }
      ],
      "source": [
        "similarity[:10, :10]"
      ]
    },
    {
      "cell_type": "markdown",
      "id": "d1f1bf5e",
      "metadata": {
        "id": "d1f1bf5e"
      },
      "source": [
        "- ...possiamo ad esempio notare che\n",
        "  - tra i primi due utenti ci sono 4 oggetti acquistati in comune (come visto sopra)\n",
        "  - il primo ed il quarto utente non hanno alcun acquisto in comune"
      ]
    },
    {
      "cell_type": "code",
      "execution_count": 113,
      "id": "bfbaa718",
      "metadata": {
        "id": "bfbaa718",
        "outputId": "3dcd6bdd-97ea-4975-ded0-e155a1e16c82",
        "colab": {
          "base_uri": "https://localhost:8080/"
        }
      },
      "outputs": [
        {
          "output_type": "execute_result",
          "data": {
            "text/plain": [
              "4"
            ]
          },
          "metadata": {},
          "execution_count": 113
        }
      ],
      "source": [
        "similarity[0, 1]"
      ]
    },
    {
      "cell_type": "code",
      "execution_count": 114,
      "id": "1530c557",
      "metadata": {
        "id": "1530c557",
        "outputId": "9d912114-f234-4801-c87b-c174b7c56049",
        "colab": {
          "base_uri": "https://localhost:8080/"
        }
      },
      "outputs": [
        {
          "output_type": "execute_result",
          "data": {
            "text/plain": [
              "0"
            ]
          },
          "metadata": {},
          "execution_count": 114
        }
      ],
      "source": [
        "similarity[0, 3]"
      ]
    },
    {
      "cell_type": "markdown",
      "id": "90eaead3",
      "metadata": {
        "id": "90eaead3"
      },
      "source": [
        "- Possiamo verificare che la matrice sia simmetrica controllando se è uguale alla sua trasposta\n",
        "  - l'operatore `==` applicato tra matrici restituisce una matrice booleana con il confronto elemento per elemento\n",
        "  - usiamo il metodo `all` (o la funzione `np.all`) per verificare che tutti i valori siano `True`"
      ]
    },
    {
      "cell_type": "code",
      "execution_count": 115,
      "id": "84785d6f",
      "metadata": {
        "id": "84785d6f",
        "outputId": "83d7259c-7b1b-4123-ca52-0ea5e84c7083",
        "colab": {
          "base_uri": "https://localhost:8080/"
        }
      },
      "outputs": [
        {
          "output_type": "execute_result",
          "data": {
            "text/plain": [
              "True"
            ]
          },
          "metadata": {},
          "execution_count": 115
        }
      ],
      "source": [
        "(similarity == similarity.T).all()"
      ]
    },
    {
      "cell_type": "code",
      "execution_count": 116,
      "id": "c9f69b3a",
      "metadata": {
        "id": "c9f69b3a",
        "outputId": "6d3cc37b-28e5-48e7-f1d7-57f1c495e293",
        "colab": {
          "base_uri": "https://localhost:8080/"
        }
      },
      "outputs": [
        {
          "output_type": "execute_result",
          "data": {
            "text/plain": [
              "True"
            ]
          },
          "metadata": {},
          "execution_count": 116
        }
      ],
      "source": [
        "np.all(similarity == similarity.T)"
      ]
    },
    {
      "cell_type": "markdown",
      "id": "df1d44de",
      "metadata": {
        "id": "df1d44de"
      },
      "source": [
        "- In alternativa NumPy offre una funzione `array_equal` per verificare l'uguaglianza tra due array\n",
        "  - questa evita errori in caso si comparino array di dimensioni incompatibili"
      ]
    },
    {
      "cell_type": "code",
      "execution_count": 117,
      "id": "edecb368",
      "metadata": {
        "id": "edecb368",
        "outputId": "40233250-5bac-453a-fce1-18e7bbcf3dd0",
        "colab": {
          "base_uri": "https://localhost:8080/"
        }
      },
      "outputs": [
        {
          "output_type": "execute_result",
          "data": {
            "text/plain": [
              "True"
            ]
          },
          "metadata": {},
          "execution_count": 117
        }
      ],
      "source": [
        "np.array_equal(similarity, similarity.T)"
      ]
    },
    {
      "cell_type": "markdown",
      "id": "c72b539e",
      "metadata": {
        "id": "c72b539e"
      },
      "source": [
        "### Diagonale della matrice\n",
        "\n",
        "- La diagonale della matrice creata contiene i prodotti scalari di ciascuna riga della matrice originale con se stessa\n",
        "- Si può verificare che sono uguali al numero di acquisti per colonne calcolato sopra"
      ]
    },
    {
      "cell_type": "code",
      "execution_count": 118,
      "id": "890ae69d",
      "metadata": {
        "id": "890ae69d",
        "outputId": "41068f5a-c179-436c-e40d-648785d009e7",
        "colab": {
          "base_uri": "https://localhost:8080/"
        }
      },
      "outputs": [
        {
          "output_type": "execute_result",
          "data": {
            "text/plain": [
              "True"
            ]
          },
          "metadata": {},
          "execution_count": 118
        }
      ],
      "source": [
        "np.array_equal(np.diag(similarity), user_purchases)"
      ]
    },
    {
      "cell_type": "markdown",
      "id": "a16838f7",
      "metadata": {
        "id": "a16838f7"
      },
      "source": [
        "- Prima di procedere, **impostiamo a 0 tutti i valori sulla diagonale** per far sì che tra i simili di ciascun utente non sia incluso lui stesso\n",
        "  - la funzione `fill_diagonal` imposta gli elementi della diagonale al valore dato"
      ]
    },
    {
      "cell_type": "code",
      "execution_count": 119,
      "id": "0ba4767b",
      "metadata": {
        "id": "0ba4767b",
        "outputId": "418d49af-741c-43b9-aa87-5c8b183cd1cf",
        "colab": {
          "base_uri": "https://localhost:8080/"
        }
      },
      "outputs": [
        {
          "output_type": "execute_result",
          "data": {
            "text/plain": [
              "array([[0, 4, 1, 0, 1],\n",
              "       [4, 0, 1, 0, 0],\n",
              "       [1, 1, 0, 1, 4],\n",
              "       [0, 0, 1, 0, 1],\n",
              "       [1, 0, 4, 1, 0]])"
            ]
          },
          "metadata": {},
          "execution_count": 119
        }
      ],
      "source": [
        "np.fill_diagonal(similarity, 0)\n",
        "similarity[:5, :5]"
      ]
    },
    {
      "cell_type": "markdown",
      "id": "347b3d52",
      "metadata": {
        "id": "347b3d52"
      },
      "source": [
        "### Esercizio 4: Estrazione informazioni dalla matrice similarità\n",
        "\n",
        "- **(4a)** Qual è il numero massimo di prodotti in comune tra due utenti?\n",
        "- **(4b)** Qual è il nome dell'utente che ha più acquisti in comune con l'utente con ID 7661?"
      ]
    },
    {
      "cell_type": "code",
      "source": [
        "print(\"numero massimo di prodotti in comune tra due utenti: \", np.max(similarity))\n",
        "print(\"nome dell'utente che ha più acquisti in comune con l'utente con ID 7661: \", user_names[similarity[user_indices[7661]].argmax()])"
      ],
      "metadata": {
        "id": "0oCIqstbWdZz",
        "outputId": "4fdb7c51-7f28-47a2-d93e-ea52b0889636",
        "colab": {
          "base_uri": "https://localhost:8080/"
        }
      },
      "id": "0oCIqstbWdZz",
      "execution_count": 120,
      "outputs": [
        {
          "output_type": "stream",
          "name": "stdout",
          "text": [
            "numero massimo di prodotti in comune tra due utenti:  53\n",
            "nome dell'utente che ha più acquisti in comune con l'utente con ID 7661:  brent been\n"
          ]
        }
      ]
    },
    {
      "cell_type": "markdown",
      "id": "b3c6fdc6",
      "metadata": {
        "id": "b3c6fdc6"
      },
      "source": [
        "## Stimare il potenziale interesse nei prodotti\n",
        "\n",
        "- Per stimare **quanto ciascun utente U sia potenzialmente interessato** in ciascun prodotto P, calcoliamo la somma delle similarità degli altri utenti che l'hanno acquistato\n",
        "- Con Python abbiamo preso i punteggi di similarità tra U e altri utenti, filtrato quelli dei soli acquirenti di P e calcolato la loro somma\n",
        "- Questa somma equivale in pratica al prodotto scalare tra:\n",
        "  - la riga relativa a U di `similarity` che indica i punteggi di similarità con gli altri utenti e\n",
        "  - la colonna relativa a P di `purchases` che indica quali utenti lo hanno acquistato\n",
        "- Ad esempio, l'interesse stimato del 1° utente verso il 2° prodotto è:"
      ]
    },
    {
      "cell_type": "code",
      "execution_count": 121,
      "id": "93ff74a6",
      "metadata": {
        "id": "93ff74a6",
        "outputId": "26d1fccb-f920-4fd5-80bb-e2f2ca36cfca",
        "colab": {
          "base_uri": "https://localhost:8080/"
        }
      },
      "outputs": [
        {
          "output_type": "execute_result",
          "data": {
            "text/plain": [
              "5"
            ]
          },
          "metadata": {},
          "execution_count": 121
        }
      ],
      "source": [
        "similarity[0, :] @ purchases[:, 1]"
      ]
    },
    {
      "cell_type": "markdown",
      "id": "193b260b",
      "metadata": {
        "id": "193b260b"
      },
      "source": [
        "- Per ottenere l'interesse di ogni utente U verso ogni prodotto P possiamo quindi usare come sopra il prodotto tra le due matrici\n",
        "  - la matrice `similarity` ha forma **utenti** x utenti\n",
        "  - la matrice `purchases` ha forma utenti x **prodotti**\n",
        "  - la matrice risultante avrà forma **utenti x prodotti**"
      ]
    },
    {
      "cell_type": "code",
      "execution_count": 122,
      "id": "6782e55e",
      "metadata": {
        "id": "6782e55e"
      },
      "outputs": [],
      "source": [
        "interest = similarity @ purchases"
      ]
    },
    {
      "cell_type": "markdown",
      "id": "1e92de3d",
      "metadata": {
        "id": "1e92de3d"
      },
      "source": [
        "- Verifichiamo che la forma della matrice sia pari a quella della matrice degli acquisti (utenti x prodotti)"
      ]
    },
    {
      "cell_type": "code",
      "execution_count": 123,
      "id": "6488bd84",
      "metadata": {
        "id": "6488bd84",
        "outputId": "c26f575a-fd1b-48a1-ba31-643d120dbe1c",
        "colab": {
          "base_uri": "https://localhost:8080/"
        }
      },
      "outputs": [
        {
          "output_type": "execute_result",
          "data": {
            "text/plain": [
              "True"
            ]
          },
          "metadata": {},
          "execution_count": 123
        }
      ],
      "source": [
        "interest.shape == purchases.shape"
      ]
    },
    {
      "cell_type": "markdown",
      "id": "bbebacd9",
      "metadata": {
        "id": "bbebacd9"
      },
      "source": [
        "- Visualizziamo un estratto della matrice..."
      ]
    },
    {
      "cell_type": "code",
      "execution_count": 124,
      "id": "208ec8d0",
      "metadata": {
        "id": "208ec8d0",
        "outputId": "1aae2569-b155-4dd5-fa15-3ec0847e94df",
        "colab": {
          "base_uri": "https://localhost:8080/"
        }
      },
      "outputs": [
        {
          "output_type": "execute_result",
          "data": {
            "text/plain": [
              "array([[ 0,  5,  0,  4,  4,  3,  1,  0,  4,  3],\n",
              "       [ 3,  7,  1,  6,  1,  1,  2,  1,  2,  0],\n",
              "       [ 6,  9,  0, 12,  0,  0,  1,  0,  9,  0],\n",
              "       [ 1,  2,  2,  8,  0,  0,  0,  2,  5,  2],\n",
              "       [ 3,  2,  0,  5,  0,  0,  0,  0,  2,  0],\n",
              "       [ 2,  5,  0, 10,  0,  0,  1,  0,  5,  0],\n",
              "       [ 0,  5,  5,  5,  1,  2,  1,  5,  2,  3],\n",
              "       [ 1,  5,  0,  7,  0,  0,  0,  0,  0,  3],\n",
              "       [ 2,  4,  0,  9,  0,  0,  1,  0,  4,  4],\n",
              "       [ 6, 17,  0, 25,  0,  0,  0,  0,  9,  2]])"
            ]
          },
          "metadata": {},
          "execution_count": 124
        }
      ],
      "source": [
        "interest[0:10, 0:10]"
      ]
    },
    {
      "cell_type": "markdown",
      "id": "810f95ab",
      "metadata": {
        "id": "810f95ab"
      },
      "source": [
        "- Ad esempio si ritiene che il 10° utente (ultima riga) sia molto interessato al 4° prodotto"
      ]
    },
    {
      "cell_type": "markdown",
      "id": "83ad2cba",
      "metadata": {
        "id": "83ad2cba"
      },
      "source": [
        "### Esercizio 5: Scartare i prodotti già acquistati\n",
        "\n",
        "- Nella matrice calcolata `interest`, sono ritenuti \"interessanti\" anche i prodotti **già acquistati** da ciascun utente\n",
        "- Prima di proseguire, **impostare a 0** i valori di `interest` relativi a coppie utente-prodotto a cui **corrisponde un acquisto effettuato**"
      ]
    },
    {
      "cell_type": "code",
      "source": [
        "interest[purchases_bool] = 0"
      ],
      "metadata": {
        "id": "AJU3PgcubRiZ"
      },
      "id": "AJU3PgcubRiZ",
      "execution_count": 125,
      "outputs": []
    },
    {
      "cell_type": "markdown",
      "id": "c658fd89",
      "metadata": {
        "id": "c658fd89"
      },
      "source": [
        "## Ottenere _N_ suggerimenti di acquisto per ogni utente\n",
        "\n",
        "- Come la scorsa volta, vogliamo suggerire un numero fisso N di prodotti ad ogni utente, scegliendo quelli con interesse previsto maggiore"
      ]
    },
    {
      "cell_type": "code",
      "execution_count": 126,
      "id": "d7d3d30d",
      "metadata": {
        "id": "d7d3d30d"
      },
      "outputs": [],
      "source": [
        "N = 20"
      ]
    },
    {
      "cell_type": "markdown",
      "id": "1c7a00d4",
      "metadata": {
        "id": "1c7a00d4"
      },
      "source": [
        "- Per prima cosa assegniamo a ciascun prodotto un \"ranking\" in base all'interesse per ciascun utente\n",
        "- Quindi selezioniamo per ogni cliente gli _N_ prodotti col ranking migliore"
      ]
    },
    {
      "cell_type": "markdown",
      "id": "2e77743f",
      "metadata": {
        "id": "2e77743f"
      },
      "source": [
        "### Estrarre l'ordine dei valori: il metodo `argsort`\n",
        "\n",
        "- Il metodo `argsort` su un vettore restituisce un vettore con i suoi **indici** (da 0 a N-1) **ordinati** secondo i valori"
      ]
    },
    {
      "cell_type": "code",
      "execution_count": 127,
      "id": "3a64c6c9",
      "metadata": {
        "id": "3a64c6c9",
        "outputId": "40a0a936-7ae8-4b85-ac9d-6595068aa2f6",
        "colab": {
          "base_uri": "https://localhost:8080/"
        }
      },
      "outputs": [
        {
          "output_type": "execute_result",
          "data": {
            "text/plain": [
              "array([6, 2, 3, 1, 4, 0, 5])"
            ]
          },
          "metadata": {},
          "execution_count": 127
        }
      ],
      "source": [
        "x = np.array([320, 80, 20, 40, 160, 640, 10])\n",
        "x.argsort()"
      ]
    },
    {
      "cell_type": "markdown",
      "id": "0c1f3cbf",
      "metadata": {
        "id": "0c1f3cbf"
      },
      "source": [
        "- Significa che l'elemento minimo è quello di indice 6 (10), seguito da quello di indice 2 (20) e così via fino al massimo di indice 5 (640)\n",
        "- In pratica, selezionando gli elementi dell'array nell'ordine dato da `argsort`, otteniamo un array con gli elementi in ordine crescente"
      ]
    },
    {
      "cell_type": "code",
      "execution_count": 128,
      "id": "290507fd",
      "metadata": {
        "id": "290507fd",
        "outputId": "7135c248-23fa-4ae8-be78-a151660e85bd",
        "colab": {
          "base_uri": "https://localhost:8080/"
        }
      },
      "outputs": [
        {
          "output_type": "execute_result",
          "data": {
            "text/plain": [
              "array([ 10,  20,  40,  80, 160, 320, 640])"
            ]
          },
          "metadata": {},
          "execution_count": 128
        }
      ],
      "source": [
        "x[x.argsort()]"
      ]
    },
    {
      "cell_type": "markdown",
      "id": "85ab8937",
      "metadata": {
        "id": "85ab8937"
      },
      "source": [
        "- Nel caso di una matrice, l'operazione va eseguita **lungo una dimensione** a scelta (riga per riga o colonna per colonna)"
      ]
    },
    {
      "cell_type": "code",
      "execution_count": 129,
      "id": "d9844f99",
      "metadata": {
        "id": "d9844f99",
        "outputId": "c03265f8-fe20-412a-aa1b-779f8016b984",
        "colab": {
          "base_uri": "https://localhost:8080/"
        }
      },
      "outputs": [
        {
          "output_type": "execute_result",
          "data": {
            "text/plain": [
              "array([[6, 2, 3, 1, 4, 0, 5],\n",
              "       [5, 6, 2, 0, 1, 4, 3]])"
            ]
          },
          "metadata": {},
          "execution_count": 129
        }
      ],
      "source": [
        "np.array([[32,  8,  2,  4, 16, 64,  1],\n",
        "          [ 8, 16,  4, 64, 32,  1,  2]]).argsort(1)   # 1 = riga per riga"
      ]
    },
    {
      "cell_type": "markdown",
      "id": "b9f4e6bf",
      "metadata": {
        "id": "b9f4e6bf"
      },
      "source": [
        "### Calcolare il \"ranking\" dei prodotti\n",
        "\n",
        "- Applicando l'operazione `argsort` due volte otteniamo il \"ranking\" dei valore, ovvero l'indice che ogni elemento avrebbe nell'array ordinato\n",
        "  - otteniamo quindi un array che associa **0 all'elemento più basso, 1 al secondo e così via**"
      ]
    },
    {
      "cell_type": "code",
      "execution_count": 130,
      "id": "ef85d29d",
      "metadata": {
        "id": "ef85d29d",
        "outputId": "15b0dd78-a3b3-4227-907f-408e61dbaf93",
        "colab": {
          "base_uri": "https://localhost:8080/"
        }
      },
      "outputs": [
        {
          "output_type": "execute_result",
          "data": {
            "text/plain": [
              "array([320,  80,  20,  40, 160, 640,  10])"
            ]
          },
          "metadata": {},
          "execution_count": 130
        }
      ],
      "source": [
        "x"
      ]
    },
    {
      "cell_type": "code",
      "execution_count": 131,
      "id": "036db53d",
      "metadata": {
        "id": "036db53d",
        "outputId": "78739772-9474-4150-cf0d-fed66f650bc6",
        "colab": {
          "base_uri": "https://localhost:8080/"
        }
      },
      "outputs": [
        {
          "output_type": "execute_result",
          "data": {
            "text/plain": [
              "array([6, 2, 3, 1, 4, 0, 5])"
            ]
          },
          "metadata": {},
          "execution_count": 131
        }
      ],
      "source": [
        "x.argsort()"
      ]
    },
    {
      "cell_type": "markdown",
      "id": "b144da41",
      "metadata": {
        "id": "b144da41"
      },
      "source": [
        "Da leggersi: l'elemento più basso di `x` ha indice 6, il secondo ha indice 2, ..."
      ]
    },
    {
      "cell_type": "code",
      "execution_count": 132,
      "id": "38534258",
      "metadata": {
        "id": "38534258",
        "outputId": "61d75a4d-4e90-4646-88cf-ff42fa59b357",
        "colab": {
          "base_uri": "https://localhost:8080/"
        }
      },
      "outputs": [
        {
          "output_type": "execute_result",
          "data": {
            "text/plain": [
              "array([5, 3, 1, 2, 4, 6, 0])"
            ]
          },
          "metadata": {},
          "execution_count": 132
        }
      ],
      "source": [
        "x.argsort().argsort()"
      ]
    },
    {
      "cell_type": "markdown",
      "id": "d84fe342",
      "metadata": {
        "id": "d84fe342"
      },
      "source": [
        "Da leggersi: il primo elemento di `x` è il 5° (contando da 0°) più basso, il secondo è il 3°, ...\n",
        "\n",
        "_(chi fosse curioso può leggere [questa dimostrazione formale](https://www.berkayantmen.com/rank.html) che spiega perché si ottiene questo risultato)_"
      ]
    },
    {
      "cell_type": "markdown",
      "id": "757e4c8e",
      "metadata": {
        "id": "757e4c8e"
      },
      "source": [
        "### Ottenere il ranking dei prodotti per ogni utente\n",
        "\n",
        "- Tramite l'applicazione doppia di `argsort`, possiamo trasformare i punteggi di `interest` in valori 0, 1, 2, ... che indichino in ciascuna riga il valore più basso, il secondo ecc.\n",
        "- D'altra parte, **invertendo** l'array a cui è applicata l'operazione, otteniamo un array che associa 0 al valore **più alto**, 1 al secondo ecc.\n",
        "- Applichiamo queste operazioni per ottenere un array `interest_ranking`"
      ]
    },
    {
      "cell_type": "code",
      "execution_count": 133,
      "id": "7485027f",
      "metadata": {
        "id": "7485027f"
      },
      "outputs": [],
      "source": [
        "interest_ranking = (-interest).argsort(1).argsort(1)"
      ]
    },
    {
      "cell_type": "code",
      "execution_count": 134,
      "id": "c139f5bf",
      "metadata": {
        "id": "c139f5bf",
        "outputId": "58f5513c-ea1c-4ad1-d21d-fa430bee1e52",
        "colab": {
          "base_uri": "https://localhost:8080/"
        }
      },
      "outputs": [
        {
          "output_type": "execute_result",
          "data": {
            "text/plain": [
              "array([[3383, 1259, 2771, 1347, 1346, 1648, 2684, 2775, 1352, 1655],\n",
              "       [1585,  853, 2324, 1097, 2297, 2300, 1860, 2310, 1854, 2794],\n",
              "       [1214,  930, 2777,  595, 2874, 2857, 2224, 2773,  925, 2782],\n",
              "       [2148, 1519, 1515,  359, 2821, 2817, 2816, 1507,  808, 1511],\n",
              "       [1197, 1739, 2676,  775, 2675, 2672, 2667, 2666, 1750, 2654]])"
            ]
          },
          "metadata": {},
          "execution_count": 134
        }
      ],
      "source": [
        "interest_ranking[:5, :10]"
      ]
    },
    {
      "cell_type": "markdown",
      "id": "ff3a5ade",
      "metadata": {
        "id": "ff3a5ade"
      },
      "source": [
        "- La matrice indica ad es. che, per il primo utente, il secondo prodotto è il 1.259° (partendo da 0°) più interessante da acquistare"
      ]
    },
    {
      "cell_type": "markdown",
      "id": "75e55e0b",
      "metadata": {
        "id": "75e55e0b"
      },
      "source": [
        "### Selezionare i prodotti da suggerire\n",
        "\n",
        "- Abbiamo così ottenuto un array dove per ogni utente (riga) abbiamo i prodotti numerati univocamente da 0 a _N_-1 in ordine di interesse\n",
        "- Da questo array possiamo quindi selezionare i **valori minori di _N_** per ottenere gli **_N_ prodotti di maggiore interesse** per ciascun utente\n",
        "  - otteniamo una matrice booleana, che convertiamo in numerica con `astype`"
      ]
    },
    {
      "cell_type": "code",
      "execution_count": 135,
      "id": "e95d4d1a",
      "metadata": {
        "id": "e95d4d1a"
      },
      "outputs": [],
      "source": [
        "suggestions = (interest_ranking < N).astype(int)"
      ]
    },
    {
      "cell_type": "markdown",
      "id": "1a1c5bfd",
      "metadata": {
        "id": "1a1c5bfd"
      },
      "source": [
        "- Questa è la **matrice dei prodotti suggeriti**, che associa ad ogni utente gli _N_ prodotti a cui è potenzialmente più interessato"
      ]
    },
    {
      "cell_type": "markdown",
      "id": "7e9716d8",
      "metadata": {
        "id": "7e9716d8"
      },
      "source": [
        "## Accuratezza dei suggerimenti di acquisto\n",
        "\n",
        "- Come la scorsa volta, valutiamo i suggerimenti ottenuti comparandoli con gli acquisti effettuati dopo l'analisi\n",
        "- Tali acquisti sono riportati nel file `purchases-2014.csv`\n",
        "- Come abbiamo fatto per il primo file, creiamo una matrice binaria che indichi quali utenti hanno acquistato quali prodotti\n",
        "  - `zeros_like` crea una matrice di zeri di tipo e forma identiche a una data (esistono anche `empty_like` e `ones_like`)"
      ]
    },
    {
      "cell_type": "code",
      "execution_count": 136,
      "id": "57c66f09",
      "metadata": {
        "id": "57c66f09"
      },
      "outputs": [],
      "source": [
        "purchases_updated = np.zeros_like(purchases)"
      ]
    },
    {
      "cell_type": "markdown",
      "id": "c6696381",
      "metadata": {
        "id": "c6696381"
      },
      "source": [
        "### Esercizio 6: Caricamento dati in matrice\n",
        "\n",
        "- Impostare a 1 gli elementi di `purchases_updated` corrispondenti alle coppie utente-prodotto nel file CSV `purchases-2014.csv`\n",
        "  - non usare una struttura dati intermedia (es. l'insieme `purchases_set` usato sopra)\n",
        "  - riutilizzare gli stessi dizionari `user_indices` e `item_indices` di prima per garantire che righe e colonne delle matrici combacino"
      ]
    },
    {
      "cell_type": "code",
      "source": [
        "with open(\"purchases-2014.csv\", \"r\") as f:\n",
        "  for uid, iid in csv.reader(f, delimiter=\";\"):\n",
        "    purchases_updated[user_indices[int(uid)], item_indices[int(iid)]] = 1"
      ],
      "metadata": {
        "id": "nFoKBRc6cvCH"
      },
      "id": "nFoKBRc6cvCH",
      "execution_count": 137,
      "outputs": []
    },
    {
      "cell_type": "markdown",
      "id": "b4bc015a",
      "metadata": {
        "id": "b4bc015a"
      },
      "source": [
        "### Esercizio 7: Selezionare solo i nuovi acquisti\n",
        "\n",
        "- La nuova matrice riporta **tutti** gli acquisti, compresi quelli già indicati nella matrice precedente\n",
        "- Vogliamo una matrice binaria `new_purchases` in cui siano indicati **solo gli acquisti successivi** all'analisi svolta sopra\n",
        "- Quale operazione tra le matrici `purchases` e `purchases_updated` ci permette di ottenere tale risultato?"
      ]
    },
    {
      "cell_type": "code",
      "execution_count": 138,
      "id": "129067e8",
      "metadata": {
        "id": "129067e8"
      },
      "outputs": [],
      "source": [
        "new_purchases = purchases_updated - purchases"
      ]
    },
    {
      "cell_type": "markdown",
      "id": "90d06e80",
      "metadata": {
        "id": "90d06e80"
      },
      "source": [
        "### Esercizio 8: Quali nuovi acquisti sono stati suggeriti?\n",
        "\n",
        "- Abbiamo ora la matrice `suggestions` con gli acquisti _suggeriti_ e quella `new_purchases` con i nuovi acquisti _effettivi_\n",
        "- Da queste possiamo estrarre una matrice binaria `hits` che indichi quali sono i suggerimenti **validi**, quelli a cui dopo l'analisi è corrisposto un acquisto\n",
        "- Quale operazione tra le due matrici ci fa ottenere tale risultato?"
      ]
    },
    {
      "cell_type": "code",
      "execution_count": 139,
      "id": "0ef71ed0",
      "metadata": {
        "id": "0ef71ed0"
      },
      "outputs": [],
      "source": [
        "hits = suggestions * new_purchases"
      ]
    },
    {
      "cell_type": "markdown",
      "id": "4e99baf6",
      "metadata": {
        "id": "4e99baf6"
      },
      "source": [
        "### Esercizio 9: Quanti utenti hanno ricevuto almeno un suggerimento valido?\n",
        "\n",
        "- **(9a)** Ottenere un vettore binario `satisfied_users` che associ 1 ai soli utenti che hanno ottenuto almeno un suggerimento valido, cioè almeno un 1 nella riga corrispondente di `hits`\n",
        "- **(9b)** Ricavare dal vettore stesso il numero di tali utenti\n",
        "- **(9c)** Ricavare dal vettore stesso la percentuale di tali utenti rispetto al numero totale"
      ]
    },
    {
      "cell_type": "code",
      "execution_count": 140,
      "id": "4ef7465d",
      "metadata": {
        "id": "4ef7465d",
        "outputId": "0db48cda-7a95-405e-e870-c47362f7f972",
        "colab": {
          "base_uri": "https://localhost:8080/"
        }
      },
      "outputs": [
        {
          "output_type": "stream",
          "name": "stdout",
          "text": [
            "utenti soddisfatti:  61\n",
            "percentuale utenti soddisfatti:  0.34269662921348315\n"
          ]
        }
      ],
      "source": [
        "satisfied_users = hits.sum(1) >= 1\n",
        "print(\"utenti soddisfatti: \", satisfied_users.sum())\n",
        "print(\"percentuale utenti soddisfatti: \", satisfied_users.mean() )"
      ]
    },
    {
      "cell_type": "markdown",
      "id": "8012296d",
      "metadata": {
        "id": "8012296d"
      },
      "source": [
        "- Si dovrebbe ottenere una percentuale del **34,3%** di utenti soddisfatti, alla pari della scorsa esercitazione"
      ]
    },
    {
      "cell_type": "markdown",
      "id": "7828638f",
      "metadata": {
        "id": "7828638f"
      },
      "source": [
        "## Esercizio extra: Confronto con una selezione casuale di prodotti\n",
        "\n",
        "- Come nella scorsa esercitazione, per valutare quanto sia buono il risultato ottenuto, confrontiamolo con quello che si otterrebbe suggerendo prodotti a caso\n",
        "- Utilizziamo la generazione casuale di array fornita da NumPy, inizializzando il relativo seed"
      ]
    },
    {
      "cell_type": "code",
      "execution_count": 141,
      "id": "9eea0f4b",
      "metadata": {
        "id": "9eea0f4b"
      },
      "outputs": [],
      "source": [
        "np.random.seed(123)"
      ]
    },
    {
      "cell_type": "markdown",
      "id": "c18fd1b3",
      "metadata": {
        "id": "c18fd1b3"
      },
      "source": [
        "- **(a)** generare una matrice `random_interest` di forma pari ad `interest` con valori casuali\n",
        "  - usare una funzione per generare valori casuali in un intervallo continuo, ad es `np.random.random`, indicando la forma desiderata"
      ]
    },
    {
      "cell_type": "code",
      "execution_count": 142,
      "id": "56a40aa4",
      "metadata": {
        "id": "56a40aa4"
      },
      "outputs": [],
      "source": [
        "random_interest = ..."
      ]
    },
    {
      "cell_type": "markdown",
      "id": "92d970ee",
      "metadata": {
        "id": "92d970ee"
      },
      "source": [
        "- **(b)** impostare a 0 i valori della matrice corrispondenti a prodotti già acquistati"
      ]
    },
    {
      "cell_type": "markdown",
      "id": "6e3b5b95",
      "metadata": {
        "id": "6e3b5b95"
      },
      "source": [
        "- **(c)** selezionare gli _N_ prodotti di maggiore interesse per ogni utente\n",
        "  - come sopra, generare la matrice con i ranking lungo ciascuna riga, quindi selezionare i ranking appropriati"
      ]
    },
    {
      "cell_type": "code",
      "execution_count": 143,
      "id": "351eaf15",
      "metadata": {
        "id": "351eaf15"
      },
      "outputs": [],
      "source": [
        "random_interest_ranking = ...\n",
        "random_suggestions = ..."
      ]
    },
    {
      "cell_type": "markdown",
      "id": "7d3e8d6b",
      "metadata": {
        "id": "7d3e8d6b"
      },
      "source": [
        "- **(d)** eseguire il confronto con i prodotti effettivamente acquistati ed estrarre il vettore che indica gli utenti con almeno un suggerimento valido"
      ]
    },
    {
      "cell_type": "code",
      "execution_count": 144,
      "id": "bc7b352c",
      "metadata": {
        "id": "bc7b352c"
      },
      "outputs": [],
      "source": [
        "random_hits = ...\n",
        "randomly_satisfied_users = ..."
      ]
    },
    {
      "cell_type": "markdown",
      "id": "00d1e827",
      "metadata": {
        "id": "00d1e827"
      },
      "source": [
        "- **(e)** calcolare la percentuale di tali utenti rispetto al totale"
      ]
    }
  ],
  "metadata": {
    "language_info": {
      "name": "python"
    },
    "colab": {
      "provenance": [],
      "toc_visible": true,
      "include_colab_link": true
    },
    "kernelspec": {
      "name": "python3",
      "display_name": "Python 3"
    },
    "gpuClass": "standard"
  },
  "nbformat": 4,
  "nbformat_minor": 5
}