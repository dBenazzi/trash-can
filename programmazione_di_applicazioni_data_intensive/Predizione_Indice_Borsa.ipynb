{
  "cells": [
    {
      "cell_type": "markdown",
      "metadata": {
        "id": "view-in-github",
        "colab_type": "text"
      },
      "source": [
        "<a href=\"https://colab.research.google.com/github/dBenazzi/trash-can/blob/main/programmazione_di_applicazioni_data_intensive/Predizione_Indice_Borsa.ipynb\" target=\"_parent\"><img src=\"https://colab.research.google.com/assets/colab-badge.svg\" alt=\"Open In Colab\"/></a>"
      ]
    },
    {
      "cell_type": "markdown",
      "metadata": {
        "id": "rgokvKN_JuCd"
      },
      "source": [
        "# Laboratorio: Predizione di un Indice di Borsa\n",
        "\n",
        "**Programmazione di Applicazioni Data Intensive**  \n",
        "Laurea in Ingegneria e Scienze Informatiche  \n",
        "DISI - Università di Bologna, Cesena\n",
        "\n",
        "Proff. Gianluca Moro, Roberto Pasolini  \n",
        "`nome.cognome@unibo.it`"
      ]
    },
    {
      "cell_type": "markdown",
      "metadata": {
        "id": "en_1KPahJuCl"
      },
      "source": [
        "## Setup\n",
        "\n",
        "- Importare le librerie necessarie"
      ]
    },
    {
      "cell_type": "code",
      "execution_count": 155,
      "metadata": {
        "id": "5Yv9xxCAJuCm"
      },
      "outputs": [],
      "source": [
        "import numpy as np\n",
        "import pandas as pd\n",
        "import matplotlib.pyplot as plt\n",
        "import sklearn\n",
        "%matplotlib inline"
      ]
    },
    {
      "cell_type": "markdown",
      "metadata": {
        "id": "KHa_fvEQJuCp"
      },
      "source": [
        "## Predizione di un indice di borsa\n",
        "\n",
        "- Un _indice_ in borsa è la sintesi del valore di diversi titoli azionari (_componenti_)\n",
        "  - il valore dell'indice è una media (di solito ponderata) dei valori dei singoli titoli\n",
        "- In questa esercitazione consideriamo l'indice _Standard & Poor 500_ (S&P 500), che ha per componenti [circa 500 grandi aziende degli USA](https://en.wikipedia.org/wiki/List_of_S%26P_500_companies)\n",
        "  - incluse ad es. Alphabet (Google), Facebook, Apple, ...\n",
        "- L'obiettivo è generare modelli in grado di prevedere le variazioni dell'indice S&P 500, in modo da massimizzare il guadagno ottenuto investendo in un fondo che si basi su tale indice"
      ]
    },
    {
      "cell_type": "markdown",
      "metadata": {
        "id": "j6PSaP8wJuCq"
      },
      "source": [
        "## Estrazione dati\n",
        "\n",
        "- I dati storici sull'andamento di S&P 500 e altri indici e titoli di borsa sono disponibili su diversi siti specializzati, ad es. [Yahoo! Finance](https://finance.yahoo.com/)\n",
        "- Dal sito è possibile interattivamente ricercare titoli e indici e consultarne i dati attuali e storici, scaricandoli eventualmente in formato CSV\n",
        "- È però spesso possibile estrarre i dati forniti anche tramite codice, effettuando opportune operazioni per importarli in strutture dati appropriate\n",
        "- Esistono alcune librerie che forniscono funzioni di alto livello per importare dati da Yahoo! Finance e altri fonti simili\n",
        "  - queste librerie gestiscono automaticamente il reperimento dei dati dagli URL corretti ed il loro parsing"
      ]
    },
    {
      "cell_type": "markdown",
      "metadata": {
        "id": "jJGLKm6aJuCr"
      },
      "source": [
        "### yfinance\n",
        "\n",
        "- [yfinance](https://pypi.org/project/yfinance/) è una libreria per l'estrazione di dati da Yahoo! Finance in forma di oggetti Python facilmente interrogabili\n",
        "- In particolare, la usiamo per ottenere i dati storici di titoli e indici in forma di DataFrame pandas\n",
        "- Eseguire la seguente cella di codice per installare yfinance (e il package lxml necessario) nell'ambiente virtuale in uso\n",
        "  - _nel caso di problemi con la libreria, i dati necessari per l'esercitazione sono disponibili anche in un file indicato sotto_"
      ]
    },
    {
      "cell_type": "code",
      "execution_count": 156,
      "metadata": {
        "id": "JpnJE7lnJuCt",
        "outputId": "df88ce58-e29d-44a6-d58d-2c5274f9a0a6",
        "colab": {
          "base_uri": "https://localhost:8080/"
        }
      },
      "outputs": [
        {
          "output_type": "stream",
          "name": "stdout",
          "text": [
            "Looking in indexes: https://pypi.org/simple, https://us-python.pkg.dev/colab-wheels/public/simple/\n",
            "Requirement already satisfied: yfinance in /usr/local/lib/python3.10/dist-packages (0.2.18)\n",
            "Requirement already satisfied: lxml in /usr/local/lib/python3.10/dist-packages (4.9.2)\n",
            "Requirement already satisfied: pandas>=1.3.0 in /usr/local/lib/python3.10/dist-packages (from yfinance) (1.5.3)\n",
            "Requirement already satisfied: numpy>=1.16.5 in /usr/local/lib/python3.10/dist-packages (from yfinance) (1.22.4)\n",
            "Requirement already satisfied: requests>=2.26 in /usr/local/lib/python3.10/dist-packages (from yfinance) (2.27.1)\n",
            "Requirement already satisfied: multitasking>=0.0.7 in /usr/local/lib/python3.10/dist-packages (from yfinance) (0.0.11)\n",
            "Requirement already satisfied: appdirs>=1.4.4 in /usr/local/lib/python3.10/dist-packages (from yfinance) (1.4.4)\n",
            "Requirement already satisfied: pytz>=2022.5 in /usr/local/lib/python3.10/dist-packages (from yfinance) (2022.7.1)\n",
            "Requirement already satisfied: frozendict>=2.3.4 in /usr/local/lib/python3.10/dist-packages (from yfinance) (2.3.7)\n",
            "Requirement already satisfied: cryptography>=3.3.2 in /usr/local/lib/python3.10/dist-packages (from yfinance) (40.0.2)\n",
            "Requirement already satisfied: beautifulsoup4>=4.11.1 in /usr/local/lib/python3.10/dist-packages (from yfinance) (4.11.2)\n",
            "Requirement already satisfied: html5lib>=1.1 in /usr/local/lib/python3.10/dist-packages (from yfinance) (1.1)\n",
            "Requirement already satisfied: soupsieve>1.2 in /usr/local/lib/python3.10/dist-packages (from beautifulsoup4>=4.11.1->yfinance) (2.4.1)\n",
            "Requirement already satisfied: cffi>=1.12 in /usr/local/lib/python3.10/dist-packages (from cryptography>=3.3.2->yfinance) (1.15.1)\n",
            "Requirement already satisfied: six>=1.9 in /usr/local/lib/python3.10/dist-packages (from html5lib>=1.1->yfinance) (1.16.0)\n",
            "Requirement already satisfied: webencodings in /usr/local/lib/python3.10/dist-packages (from html5lib>=1.1->yfinance) (0.5.1)\n",
            "Requirement already satisfied: python-dateutil>=2.8.1 in /usr/local/lib/python3.10/dist-packages (from pandas>=1.3.0->yfinance) (2.8.2)\n",
            "Requirement already satisfied: urllib3<1.27,>=1.21.1 in /usr/local/lib/python3.10/dist-packages (from requests>=2.26->yfinance) (1.26.15)\n",
            "Requirement already satisfied: certifi>=2017.4.17 in /usr/local/lib/python3.10/dist-packages (from requests>=2.26->yfinance) (2022.12.7)\n",
            "Requirement already satisfied: charset-normalizer~=2.0.0 in /usr/local/lib/python3.10/dist-packages (from requests>=2.26->yfinance) (2.0.12)\n",
            "Requirement already satisfied: idna<4,>=2.5 in /usr/local/lib/python3.10/dist-packages (from requests>=2.26->yfinance) (3.4)\n",
            "Requirement already satisfied: pycparser in /usr/local/lib/python3.10/dist-packages (from cffi>=1.12->cryptography>=3.3.2->yfinance) (2.21)\n"
          ]
        }
      ],
      "source": [
        "pip install yfinance lxml"
      ]
    },
    {
      "cell_type": "markdown",
      "metadata": {
        "id": "oXlPGi3XJuCw"
      },
      "source": [
        "- Importare il modulo `yfinance`, verificandone così la corretta installazione"
      ]
    },
    {
      "cell_type": "code",
      "execution_count": 157,
      "metadata": {
        "id": "Frypr2UCJuCy"
      },
      "outputs": [],
      "source": [
        "import yfinance"
      ]
    },
    {
      "cell_type": "markdown",
      "metadata": {
        "id": "QMxy9tShJuCz"
      },
      "source": [
        "- Per usare il modulo creiamo un oggetto `Ticker`, che rappresenta uno specifico titolo o indice\n",
        "- Dobbiamo indicare il _simbolo_ del titolo o indice con cui vogliamo lavorare, che per S&P 500 è `^GSPC`"
      ]
    },
    {
      "cell_type": "code",
      "execution_count": 158,
      "metadata": {
        "id": "pu8zd3OaJuC0"
      },
      "outputs": [],
      "source": [
        "sp500 = yfinance.Ticker(\"^GSPC\")"
      ]
    },
    {
      "cell_type": "markdown",
      "metadata": {
        "id": "F_3wL1CRJuC1"
      },
      "source": [
        "- Altri simboli di indici noti includono:\n",
        "  - `^DJI`: Dow Jones Industrial Average\n",
        "  - `^IXIC`: NASDAQ\n",
        "  - `FTSEMIB.MI`: MIB (borsa di Milano)"
      ]
    },
    {
      "cell_type": "markdown",
      "metadata": {
        "id": "GBrvPNgWJuC1"
      },
      "source": [
        "- Da un `Ticker` possiamo usare il metodo `history` per ottenere un frame con i dati storici in un periodo specificato\n",
        "  - con `start` e `end` specifichiamo l'intervallo di date desiderato\n",
        "  - `actions=False` esclude alcune colonne con dati non disponibili per l'indice\n",
        "- Scarichiamo i dati relativi agli anni dal 2001 al 2008"
      ]
    },
    {
      "cell_type": "code",
      "execution_count": 159,
      "metadata": {
        "id": "9xgIxeDbJuC2"
      },
      "outputs": [],
      "source": [
        "data = sp500.history(start=\"2001-01-01\", end=\"2008-12-31\", actions=False)"
      ]
    },
    {
      "cell_type": "markdown",
      "metadata": {
        "id": "EfQA3fr2JuC3"
      },
      "source": [
        "- _In caso di problemi con yfinance, decommentare ed eseguire la seguente cella per importare gli stessi dati da un file già scaricato da noi_"
      ]
    },
    {
      "cell_type": "code",
      "execution_count": 160,
      "metadata": {
        "id": "9fuaXYzJJuC3"
      },
      "outputs": [],
      "source": [
        "# data = pd.read_csv(\"https://git.io/Jfq8p\", index_col=\"Date\", parse_dates=[\"Date\"])"
      ]
    },
    {
      "cell_type": "code",
      "execution_count": 161,
      "metadata": {
        "id": "qrqiAY75JuC4",
        "outputId": "1c982067-db6a-4564-9810-72e047c079e9",
        "colab": {
          "base_uri": "https://localhost:8080/",
          "height": 238
        }
      },
      "outputs": [
        {
          "output_type": "execute_result",
          "data": {
            "text/plain": [
              "                                  Open         High          Low        Close  \\\n",
              "Date                                                                            \n",
              "2001-01-02 00:00:00-05:00  1320.280029  1320.280029  1276.050049  1283.270020   \n",
              "2001-01-03 00:00:00-05:00  1283.270020  1347.760010  1274.619995  1347.560059   \n",
              "2001-01-04 00:00:00-05:00  1347.560059  1350.239990  1329.140015  1333.339966   \n",
              "2001-01-05 00:00:00-05:00  1333.339966  1334.770020  1294.949951  1298.349976   \n",
              "2001-01-08 00:00:00-05:00  1298.349976  1298.349976  1276.290039  1295.859985   \n",
              "\n",
              "                               Volume  \n",
              "Date                                   \n",
              "2001-01-02 00:00:00-05:00  1129400000  \n",
              "2001-01-03 00:00:00-05:00  1880700000  \n",
              "2001-01-04 00:00:00-05:00  2131000000  \n",
              "2001-01-05 00:00:00-05:00  1430800000  \n",
              "2001-01-08 00:00:00-05:00  1115500000  "
            ],
            "text/html": [
              "\n",
              "  <div id=\"df-5a6bcda7-f4d3-447d-a33f-2062bb7553ef\">\n",
              "    <div class=\"colab-df-container\">\n",
              "      <div>\n",
              "<style scoped>\n",
              "    .dataframe tbody tr th:only-of-type {\n",
              "        vertical-align: middle;\n",
              "    }\n",
              "\n",
              "    .dataframe tbody tr th {\n",
              "        vertical-align: top;\n",
              "    }\n",
              "\n",
              "    .dataframe thead th {\n",
              "        text-align: right;\n",
              "    }\n",
              "</style>\n",
              "<table border=\"1\" class=\"dataframe\">\n",
              "  <thead>\n",
              "    <tr style=\"text-align: right;\">\n",
              "      <th></th>\n",
              "      <th>Open</th>\n",
              "      <th>High</th>\n",
              "      <th>Low</th>\n",
              "      <th>Close</th>\n",
              "      <th>Volume</th>\n",
              "    </tr>\n",
              "    <tr>\n",
              "      <th>Date</th>\n",
              "      <th></th>\n",
              "      <th></th>\n",
              "      <th></th>\n",
              "      <th></th>\n",
              "      <th></th>\n",
              "    </tr>\n",
              "  </thead>\n",
              "  <tbody>\n",
              "    <tr>\n",
              "      <th>2001-01-02 00:00:00-05:00</th>\n",
              "      <td>1320.280029</td>\n",
              "      <td>1320.280029</td>\n",
              "      <td>1276.050049</td>\n",
              "      <td>1283.270020</td>\n",
              "      <td>1129400000</td>\n",
              "    </tr>\n",
              "    <tr>\n",
              "      <th>2001-01-03 00:00:00-05:00</th>\n",
              "      <td>1283.270020</td>\n",
              "      <td>1347.760010</td>\n",
              "      <td>1274.619995</td>\n",
              "      <td>1347.560059</td>\n",
              "      <td>1880700000</td>\n",
              "    </tr>\n",
              "    <tr>\n",
              "      <th>2001-01-04 00:00:00-05:00</th>\n",
              "      <td>1347.560059</td>\n",
              "      <td>1350.239990</td>\n",
              "      <td>1329.140015</td>\n",
              "      <td>1333.339966</td>\n",
              "      <td>2131000000</td>\n",
              "    </tr>\n",
              "    <tr>\n",
              "      <th>2001-01-05 00:00:00-05:00</th>\n",
              "      <td>1333.339966</td>\n",
              "      <td>1334.770020</td>\n",
              "      <td>1294.949951</td>\n",
              "      <td>1298.349976</td>\n",
              "      <td>1430800000</td>\n",
              "    </tr>\n",
              "    <tr>\n",
              "      <th>2001-01-08 00:00:00-05:00</th>\n",
              "      <td>1298.349976</td>\n",
              "      <td>1298.349976</td>\n",
              "      <td>1276.290039</td>\n",
              "      <td>1295.859985</td>\n",
              "      <td>1115500000</td>\n",
              "    </tr>\n",
              "  </tbody>\n",
              "</table>\n",
              "</div>\n",
              "      <button class=\"colab-df-convert\" onclick=\"convertToInteractive('df-5a6bcda7-f4d3-447d-a33f-2062bb7553ef')\"\n",
              "              title=\"Convert this dataframe to an interactive table.\"\n",
              "              style=\"display:none;\">\n",
              "        \n",
              "  <svg xmlns=\"http://www.w3.org/2000/svg\" height=\"24px\"viewBox=\"0 0 24 24\"\n",
              "       width=\"24px\">\n",
              "    <path d=\"M0 0h24v24H0V0z\" fill=\"none\"/>\n",
              "    <path d=\"M18.56 5.44l.94 2.06.94-2.06 2.06-.94-2.06-.94-.94-2.06-.94 2.06-2.06.94zm-11 1L8.5 8.5l.94-2.06 2.06-.94-2.06-.94L8.5 2.5l-.94 2.06-2.06.94zm10 10l.94 2.06.94-2.06 2.06-.94-2.06-.94-.94-2.06-.94 2.06-2.06.94z\"/><path d=\"M17.41 7.96l-1.37-1.37c-.4-.4-.92-.59-1.43-.59-.52 0-1.04.2-1.43.59L10.3 9.45l-7.72 7.72c-.78.78-.78 2.05 0 2.83L4 21.41c.39.39.9.59 1.41.59.51 0 1.02-.2 1.41-.59l7.78-7.78 2.81-2.81c.8-.78.8-2.07 0-2.86zM5.41 20L4 18.59l7.72-7.72 1.47 1.35L5.41 20z\"/>\n",
              "  </svg>\n",
              "      </button>\n",
              "      \n",
              "  <style>\n",
              "    .colab-df-container {\n",
              "      display:flex;\n",
              "      flex-wrap:wrap;\n",
              "      gap: 12px;\n",
              "    }\n",
              "\n",
              "    .colab-df-convert {\n",
              "      background-color: #E8F0FE;\n",
              "      border: none;\n",
              "      border-radius: 50%;\n",
              "      cursor: pointer;\n",
              "      display: none;\n",
              "      fill: #1967D2;\n",
              "      height: 32px;\n",
              "      padding: 0 0 0 0;\n",
              "      width: 32px;\n",
              "    }\n",
              "\n",
              "    .colab-df-convert:hover {\n",
              "      background-color: #E2EBFA;\n",
              "      box-shadow: 0px 1px 2px rgba(60, 64, 67, 0.3), 0px 1px 3px 1px rgba(60, 64, 67, 0.15);\n",
              "      fill: #174EA6;\n",
              "    }\n",
              "\n",
              "    [theme=dark] .colab-df-convert {\n",
              "      background-color: #3B4455;\n",
              "      fill: #D2E3FC;\n",
              "    }\n",
              "\n",
              "    [theme=dark] .colab-df-convert:hover {\n",
              "      background-color: #434B5C;\n",
              "      box-shadow: 0px 1px 3px 1px rgba(0, 0, 0, 0.15);\n",
              "      filter: drop-shadow(0px 1px 2px rgba(0, 0, 0, 0.3));\n",
              "      fill: #FFFFFF;\n",
              "    }\n",
              "  </style>\n",
              "\n",
              "      <script>\n",
              "        const buttonEl =\n",
              "          document.querySelector('#df-5a6bcda7-f4d3-447d-a33f-2062bb7553ef button.colab-df-convert');\n",
              "        buttonEl.style.display =\n",
              "          google.colab.kernel.accessAllowed ? 'block' : 'none';\n",
              "\n",
              "        async function convertToInteractive(key) {\n",
              "          const element = document.querySelector('#df-5a6bcda7-f4d3-447d-a33f-2062bb7553ef');\n",
              "          const dataTable =\n",
              "            await google.colab.kernel.invokeFunction('convertToInteractive',\n",
              "                                                     [key], {});\n",
              "          if (!dataTable) return;\n",
              "\n",
              "          const docLinkHtml = 'Like what you see? Visit the ' +\n",
              "            '<a target=\"_blank\" href=https://colab.research.google.com/notebooks/data_table.ipynb>data table notebook</a>'\n",
              "            + ' to learn more about interactive tables.';\n",
              "          element.innerHTML = '';\n",
              "          dataTable['output_type'] = 'display_data';\n",
              "          await google.colab.output.renderOutput(dataTable, element);\n",
              "          const docLink = document.createElement('div');\n",
              "          docLink.innerHTML = docLinkHtml;\n",
              "          element.appendChild(docLink);\n",
              "        }\n",
              "      </script>\n",
              "    </div>\n",
              "  </div>\n",
              "  "
            ]
          },
          "metadata": {},
          "execution_count": 161
        }
      ],
      "source": [
        "data.head()"
      ]
    },
    {
      "cell_type": "markdown",
      "metadata": {
        "id": "GiGtEFbzJuC4"
      },
      "source": [
        "- Ciascuna riga corrisponde ad una data, indicata nell'indice `Date`\n",
        "  - non sono presenti le righe relative a giorni di chiusura del mercato\n",
        "- `Open` e `Close` riportano per ogni data il valore dell'indice all'apertura e alla chiusura del mercato\n",
        "- `High` e `Low` riportano i massimi e minimi giornalieri\n",
        "- `Volume` è il numero di titoli scambiati in giornata"
      ]
    },
    {
      "cell_type": "markdown",
      "metadata": {
        "id": "Qfmjno0tJuC5"
      },
      "source": [
        "- Per comodità, estraiamo una serie per ciascuna colonna, per potersi riferire ad esse con un unico nome\n",
        "  - notare che la serie `open` sovrascrive la funzione `open` di Python, quest'ultima rimane accessibile come `__builtins__.open`"
      ]
    },
    {
      "cell_type": "code",
      "execution_count": 162,
      "metadata": {
        "id": "-3fFnpOvJuC5"
      },
      "outputs": [],
      "source": [
        "open = data[\"Open\"]\n",
        "high = data[\"High\"]\n",
        "low = data[\"Low\"]\n",
        "close = data[\"Close\"]\n",
        "volume = data[\"Volume\"]"
      ]
    },
    {
      "cell_type": "markdown",
      "metadata": {
        "id": "VDmWReLQJuC6"
      },
      "source": [
        "- Possiamo tracciare un grafico dell'andamento del titolo\n",
        "  - prendiamo come riferimento ad es. il valore dell'apertura"
      ]
    },
    {
      "cell_type": "code",
      "execution_count": 163,
      "metadata": {
        "id": "sfxbYznxJuC6",
        "outputId": "8480e678-c31b-4378-e8a2-d2a57d59a0f1",
        "colab": {
          "base_uri": "https://localhost:8080/",
          "height": 371
        }
      },
      "outputs": [
        {
          "output_type": "display_data",
          "data": {
            "text/plain": [
              "<Figure size 1200x400 with 1 Axes>"
            ],
            "image/png": "[encoded data removed]"
          },
          "metadata": {}
        }
      ],
      "source": [
        "open.plot(figsize=(12, 4));"
      ]
    },
    {
      "cell_type": "markdown",
      "metadata": {
        "id": "T-aJEbXeJuC7"
      },
      "source": [
        "- Esistono altri tipi di grafici appositi per mostrare l'andamento di titoli di borsa, ad es. i _candlestick chart_ (\"grafici a candela\")\n",
        "  - per disegnarli si veda la libreria `mplfinance`, estensione di matplotlib"
      ]
    },
    {
      "cell_type": "markdown",
      "metadata": {
        "id": "jHcMgrWzJuC8"
      },
      "source": [
        "### Esercizio 1: Analisi esplorativa\n",
        "\n",
        "- **(1a)** Estrarre le statistiche principali (media, dev. standard, ...) delle varie colonne (Open, Close, ...)\n",
        "- **(1b)** Ottenere una serie `hlm` col valore medio tra il massimo e il minimo giornalieri\n",
        "- **(1c)** Estrarre le statistiche principali di tale serie\n",
        "- **(1d)** Estrarre le statistiche principali di `hlm` suddivise per anno"
      ]
    },
    {
      "cell_type": "code",
      "source": [
        "# a\n",
        "for e in data.columns:\n",
        "  print(e, \":\\n\", data[e].describe())"
      ],
      "metadata": {
        "id": "_LrjW7KFLfWp",
        "outputId": "9abf3ec2-1d18-4dd3-ac11-020206b8098a",
        "colab": {
          "base_uri": "https://localhost:8080/"
        }
      },
      "execution_count": 164,
      "outputs": [
        {
          "output_type": "stream",
          "name": "stdout",
          "text": [
            "Open :\n",
            " count    2010.000000\n",
            "mean     1187.474553\n",
            "std       180.326713\n",
            "min       755.840027\n",
            "25%      1084.077454\n",
            "50%      1190.229980\n",
            "75%      1304.137512\n",
            "max      1564.979980\n",
            "Name: Open, dtype: float64\n",
            "High :\n",
            " count    2010.000000\n",
            "mean     1195.450877\n",
            "std       179.563836\n",
            "min       798.549988\n",
            "25%      1091.872528\n",
            "50%      1195.979980\n",
            "75%      1311.609985\n",
            "max      1576.089966\n",
            "Name: High, dtype: float64\n",
            "Low :\n",
            " count    2010.000000\n",
            "mean     1178.652866\n",
            "std       181.296274\n",
            "min       741.020020\n",
            "25%      1075.594971\n",
            "50%      1183.635010\n",
            "75%      1295.272522\n",
            "max      1555.459961\n",
            "Name: Low, dtype: float64\n",
            "Close :\n",
            " count    2010.000000\n",
            "mean     1187.302095\n",
            "std       180.433599\n",
            "min       752.440002\n",
            "25%      1083.882446\n",
            "50%      1190.229980\n",
            "75%      1304.324982\n",
            "max      1565.150024\n",
            "Name: Close, dtype: float64\n",
            "Volume :\n",
            " count    2.010000e+03\n",
            "mean     2.257390e+09\n",
            "std      1.379745e+09\n",
            "min      3.560700e+08\n",
            "25%      1.359225e+09\n",
            "50%      1.693850e+09\n",
            "75%      2.696278e+09\n",
            "max      1.145623e+10\n",
            "Name: Volume, dtype: float64\n"
          ]
        }
      ]
    },
    {
      "cell_type": "code",
      "source": [
        "hlm = (high + low)/2"
      ],
      "metadata": {
        "id": "GmnZkgKYMXBt"
      },
      "execution_count": 165,
      "outputs": []
    },
    {
      "cell_type": "code",
      "source": [
        "hlm.describe()"
      ],
      "metadata": {
        "id": "ZzohIfEKMkKa",
        "outputId": "053a2ca9-03ca-4afd-d198-7bec5738fa97",
        "colab": {
          "base_uri": "https://localhost:8080/"
        }
      },
      "execution_count": 166,
      "outputs": [
        {
          "output_type": "execute_result",
          "data": {
            "text/plain": [
              "count    2010.000000\n",
              "mean     1187.051872\n",
              "std       180.340289\n",
              "min       771.110016\n",
              "25%      1084.422501\n",
              "50%      1189.442474\n",
              "75%      1303.409988\n",
              "max      1561.404968\n",
              "dtype: float64"
            ]
          },
          "metadata": {},
          "execution_count": 166
        }
      ]
    },
    {
      "cell_type": "code",
      "source": [
        "hlm.groupby(hlm.index.year).describe()"
      ],
      "metadata": {
        "id": "ne_eYKDLMo34",
        "outputId": "5c80f959-d013-4d7b-c178-825551067b09",
        "colab": {
          "base_uri": "https://localhost:8080/",
          "height": 332
        }
      },
      "execution_count": 167,
      "outputs": [
        {
          "output_type": "execute_result",
          "data": {
            "text/plain": [
              "      count         mean         std          min          25%          50%  \\\n",
              "Date                                                                          \n",
              "2001  248.0  1193.689196   86.865939   964.644989  1136.603775  1191.602539   \n",
              "2002  252.0   993.878335  114.077936   787.174988   895.336250   968.600006   \n",
              "2003  252.0   964.632222   78.602540   796.545013   896.213753   985.644989   \n",
              "2004  252.0  1130.409743   31.444939  1064.149963  1110.626266  1126.692505   \n",
              "2005  252.0  1207.289366   29.553492  1144.360046  1187.330002  1204.835022   \n",
              "2006  251.0  1310.053308   50.920535  1225.375000  1273.427521  1296.955017   \n",
              "2007  251.0  1476.593744   44.426483  1376.034973  1442.607483  1475.619995   \n",
              "2008  252.0  1221.611490  190.555138   771.110016  1150.651276  1289.319977   \n",
              "\n",
              "              75%          max  \n",
              "Date                            \n",
              "2001  1254.802490  1374.015015  \n",
              "2002  1107.357483  1170.260010  \n",
              "2003  1028.395004  1109.385010  \n",
              "2004  1142.978729  1214.940002  \n",
              "2005  1228.238770  1271.455017  \n",
              "2006  1336.912506  1428.554993  \n",
              "2007  1512.577515  1561.404968  \n",
              "2008  1359.184998  1456.919983  "
            ],
            "text/html": [
              "\n",
              "  <div id=\"df-9ea0d242-5bdf-42e5-9668-9f7b937d5986\">\n",
              "    <div class=\"colab-df-container\">\n",
              "      <div>\n",
              "<style scoped>\n",
              "    .dataframe tbody tr th:only-of-type {\n",
              "        vertical-align: middle;\n",
              "    }\n",
              "\n",
              "    .dataframe tbody tr th {\n",
              "        vertical-align: top;\n",
              "    }\n",
              "\n",
              "    .dataframe thead th {\n",
              "        text-align: right;\n",
              "    }\n",
              "</style>\n",
              "<table border=\"1\" class=\"dataframe\">\n",
              "  <thead>\n",
              "    <tr style=\"text-align: right;\">\n",
              "      <th></th>\n",
              "      <th>count</th>\n",
              "      <th>mean</th>\n",
              "      <th>std</th>\n",
              "      <th>min</th>\n",
              "      <th>25%</th>\n",
              "      <th>50%</th>\n",
              "      <th>75%</th>\n",
              "      <th>max</th>\n",
              "    </tr>\n",
              "    <tr>\n",
              "      <th>Date</th>\n",
              "      <th></th>\n",
              "      <th></th>\n",
              "      <th></th>\n",
              "      <th></th>\n",
              "      <th></th>\n",
              "      <th></th>\n",
              "      <th></th>\n",
              "      <th></th>\n",
              "    </tr>\n",
              "  </thead>\n",
              "  <tbody>\n",
              "    <tr>\n",
              "      <th>2001</th>\n",
              "      <td>248.0</td>\n",
              "      <td>1193.689196</td>\n",
              "      <td>86.865939</td>\n",
              "      <td>964.644989</td>\n",
              "      <td>1136.603775</td>\n",
              "      <td>1191.602539</td>\n",
              "      <td>1254.802490</td>\n",
              "      <td>1374.015015</td>\n",
              "    </tr>\n",
              "    <tr>\n",
              "      <th>2002</th>\n",
              "      <td>252.0</td>\n",
              "      <td>993.878335</td>\n",
              "      <td>114.077936</td>\n",
              "      <td>787.174988</td>\n",
              "      <td>895.336250</td>\n",
              "      <td>968.600006</td>\n",
              "      <td>1107.357483</td>\n",
              "      <td>1170.260010</td>\n",
              "    </tr>\n",
              "    <tr>\n",
              "      <th>2003</th>\n",
              "      <td>252.0</td>\n",
              "      <td>964.632222</td>\n",
              "      <td>78.602540</td>\n",
              "      <td>796.545013</td>\n",
              "      <td>896.213753</td>\n",
              "      <td>985.644989</td>\n",
              "      <td>1028.395004</td>\n",
              "      <td>1109.385010</td>\n",
              "    </tr>\n",
              "    <tr>\n",
              "      <th>2004</th>\n",
              "      <td>252.0</td>\n",
              "      <td>1130.409743</td>\n",
              "      <td>31.444939</td>\n",
              "      <td>1064.149963</td>\n",
              "      <td>1110.626266</td>\n",
              "      <td>1126.692505</td>\n",
              "      <td>1142.978729</td>\n",
              "      <td>1214.940002</td>\n",
              "    </tr>\n",
              "    <tr>\n",
              "      <th>2005</th>\n",
              "      <td>252.0</td>\n",
              "      <td>1207.289366</td>\n",
              "      <td>29.553492</td>\n",
              "      <td>1144.360046</td>\n",
              "      <td>1187.330002</td>\n",
              "      <td>1204.835022</td>\n",
              "      <td>1228.238770</td>\n",
              "      <td>1271.455017</td>\n",
              "    </tr>\n",
              "    <tr>\n",
              "      <th>2006</th>\n",
              "      <td>251.0</td>\n",
              "      <td>1310.053308</td>\n",
              "      <td>50.920535</td>\n",
              "      <td>1225.375000</td>\n",
              "      <td>1273.427521</td>\n",
              "      <td>1296.955017</td>\n",
              "      <td>1336.912506</td>\n",
              "      <td>1428.554993</td>\n",
              "    </tr>\n",
              "    <tr>\n",
              "      <th>2007</th>\n",
              "      <td>251.0</td>\n",
              "      <td>1476.593744</td>\n",
              "      <td>44.426483</td>\n",
              "      <td>1376.034973</td>\n",
              "      <td>1442.607483</td>\n",
              "      <td>1475.619995</td>\n",
              "      <td>1512.577515</td>\n",
              "      <td>1561.404968</td>\n",
              "    </tr>\n",
              "    <tr>\n",
              "      <th>2008</th>\n",
              "      <td>252.0</td>\n",
              "      <td>1221.611490</td>\n",
              "      <td>190.555138</td>\n",
              "      <td>771.110016</td>\n",
              "      <td>1150.651276</td>\n",
              "      <td>1289.319977</td>\n",
              "      <td>1359.184998</td>\n",
              "      <td>1456.919983</td>\n",
              "    </tr>\n",
              "  </tbody>\n",
              "</table>\n",
              "</div>\n",
              "      <button class=\"colab-df-convert\" onclick=\"convertToInteractive('df-9ea0d242-5bdf-42e5-9668-9f7b937d5986')\"\n",
              "              title=\"Convert this dataframe to an interactive table.\"\n",
              "              style=\"display:none;\">\n",
              "        \n",
              "  <svg xmlns=\"http://www.w3.org/2000/svg\" height=\"24px\"viewBox=\"0 0 24 24\"\n",
              "       width=\"24px\">\n",
              "    <path d=\"M0 0h24v24H0V0z\" fill=\"none\"/>\n",
              "    <path d=\"M18.56 5.44l.94 2.06.94-2.06 2.06-.94-2.06-.94-.94-2.06-.94 2.06-2.06.94zm-11 1L8.5 8.5l.94-2.06 2.06-.94-2.06-.94L8.5 2.5l-.94 2.06-2.06.94zm10 10l.94 2.06.94-2.06 2.06-.94-2.06-.94-.94-2.06-.94 2.06-2.06.94z\"/><path d=\"M17.41 7.96l-1.37-1.37c-.4-.4-.92-.59-1.43-.59-.52 0-1.04.2-1.43.59L10.3 9.45l-7.72 7.72c-.78.78-.78 2.05 0 2.83L4 21.41c.39.39.9.59 1.41.59.51 0 1.02-.2 1.41-.59l7.78-7.78 2.81-2.81c.8-.78.8-2.07 0-2.86zM5.41 20L4 18.59l7.72-7.72 1.47 1.35L5.41 20z\"/>\n",
              "  </svg>\n",
              "      </button>\n",
              "      \n",
              "  <style>\n",
              "    .colab-df-container {\n",
              "      display:flex;\n",
              "      flex-wrap:wrap;\n",
              "      gap: 12px;\n",
              "    }\n",
              "\n",
              "    .colab-df-convert {\n",
              "      background-color: #E8F0FE;\n",
              "      border: none;\n",
              "      border-radius: 50%;\n",
              "      cursor: pointer;\n",
              "      display: none;\n",
              "      fill: #1967D2;\n",
              "      height: 32px;\n",
              "      padding: 0 0 0 0;\n",
              "      width: 32px;\n",
              "    }\n",
              "\n",
              "    .colab-df-convert:hover {\n",
              "      background-color: #E2EBFA;\n",
              "      box-shadow: 0px 1px 2px rgba(60, 64, 67, 0.3), 0px 1px 3px 1px rgba(60, 64, 67, 0.15);\n",
              "      fill: #174EA6;\n",
              "    }\n",
              "\n",
              "    [theme=dark] .colab-df-convert {\n",
              "      background-color: #3B4455;\n",
              "      fill: #D2E3FC;\n",
              "    }\n",
              "\n",
              "    [theme=dark] .colab-df-convert:hover {\n",
              "      background-color: #434B5C;\n",
              "      box-shadow: 0px 1px 3px 1px rgba(0, 0, 0, 0.15);\n",
              "      filter: drop-shadow(0px 1px 2px rgba(0, 0, 0, 0.3));\n",
              "      fill: #FFFFFF;\n",
              "    }\n",
              "  </style>\n",
              "\n",
              "      <script>\n",
              "        const buttonEl =\n",
              "          document.querySelector('#df-9ea0d242-5bdf-42e5-9668-9f7b937d5986 button.colab-df-convert');\n",
              "        buttonEl.style.display =\n",
              "          google.colab.kernel.accessAllowed ? 'block' : 'none';\n",
              "\n",
              "        async function convertToInteractive(key) {\n",
              "          const element = document.querySelector('#df-9ea0d242-5bdf-42e5-9668-9f7b937d5986');\n",
              "          const dataTable =\n",
              "            await google.colab.kernel.invokeFunction('convertToInteractive',\n",
              "                                                     [key], {});\n",
              "          if (!dataTable) return;\n",
              "\n",
              "          const docLinkHtml = 'Like what you see? Visit the ' +\n",
              "            '<a target=\"_blank\" href=https://colab.research.google.com/notebooks/data_table.ipynb>data table notebook</a>'\n",
              "            + ' to learn more about interactive tables.';\n",
              "          element.innerHTML = '';\n",
              "          dataTable['output_type'] = 'display_data';\n",
              "          await google.colab.output.renderOutput(dataTable, element);\n",
              "          const docLink = document.createElement('div');\n",
              "          docLink.innerHTML = docLinkHtml;\n",
              "          element.appendChild(docLink);\n",
              "        }\n",
              "      </script>\n",
              "    </div>\n",
              "  </div>\n",
              "  "
            ]
          },
          "metadata": {},
          "execution_count": 167
        }
      ]
    },
    {
      "cell_type": "markdown",
      "metadata": {
        "id": "rFot8PbDJuC8"
      },
      "source": [
        "## Obiettivo: prevedere il valore di chiusura a inizio giornata\n",
        "\n",
        "- Assumiamo che un agente investa quotidianamente sull'indice S&P 500\n",
        "- Vuole un modello che **preveda all'inizio di ogni giornata** `d` il valore `close[d]` dell'indice **a fine giornata**\n",
        "- La variabile `close` è quindi quella da prevedere, la _y_"
      ]
    },
    {
      "cell_type": "code",
      "execution_count": 168,
      "metadata": {
        "id": "DPe20LOLJuC8"
      },
      "outputs": [],
      "source": [
        "y = close"
      ]
    },
    {
      "cell_type": "markdown",
      "metadata": {
        "id": "9rtpRPhPJuC9"
      },
      "source": [
        "- Ma quali sono le variabili predittive, le _X_?\n",
        "- `high`, `low` e `volume` **non possono essere utilizzate** in quanto il loro valore **non è noto** a inizio giornata\n",
        "- Solamente il valore `open[d]` è noto al momento della predizione"
      ]
    },
    {
      "cell_type": "markdown",
      "metadata": {
        "id": "frTMHvI0JuC9"
      },
      "source": [
        "- Iniziamo creando un modello di predizione solamente sulla variabile `open`\n",
        "- Creiamo un dizionario `features` con le variabili predittive, in questo caso solamente il valore di `open`"
      ]
    },
    {
      "cell_type": "code",
      "execution_count": 169,
      "metadata": {
        "id": "sA1UlON4JuC9"
      },
      "outputs": [],
      "source": [
        "features = {\"Open\": open}"
      ]
    },
    {
      "cell_type": "markdown",
      "metadata": {
        "id": "D35Ot9cqJuC-"
      },
      "source": [
        "- Incapsuliamo le variabili in un `DataFrame`"
      ]
    },
    {
      "cell_type": "code",
      "execution_count": 170,
      "metadata": {
        "id": "oxCGFVpqJuC-"
      },
      "outputs": [],
      "source": [
        "X = pd.DataFrame(features)"
      ]
    },
    {
      "cell_type": "code",
      "execution_count": 171,
      "metadata": {
        "id": "PCZRQfLnJuC-",
        "outputId": "b00d3621-33ec-4abc-fafa-af08a19edaca",
        "colab": {
          "base_uri": "https://localhost:8080/",
          "height": 175
        }
      },
      "outputs": [
        {
          "output_type": "execute_result",
          "data": {
            "text/plain": [
              "                                  Open\n",
              "Date                                  \n",
              "2001-01-02 00:00:00-05:00  1320.280029\n",
              "2001-01-03 00:00:00-05:00  1283.270020\n",
              "2001-01-04 00:00:00-05:00  1347.560059"
            ],
            "text/html": [
              "\n",
              "  <div id=\"df-e44237ea-f263-4b9f-9488-f102da319838\">\n",
              "    <div class=\"colab-df-container\">\n",
              "      <div>\n",
              "<style scoped>\n",
              "    .dataframe tbody tr th:only-of-type {\n",
              "        vertical-align: middle;\n",
              "    }\n",
              "\n",
              "    .dataframe tbody tr th {\n",
              "        vertical-align: top;\n",
              "    }\n",
              "\n",
              "    .dataframe thead th {\n",
              "        text-align: right;\n",
              "    }\n",
              "</style>\n",
              "<table border=\"1\" class=\"dataframe\">\n",
              "  <thead>\n",
              "    <tr style=\"text-align: right;\">\n",
              "      <th></th>\n",
              "      <th>Open</th>\n",
              "    </tr>\n",
              "    <tr>\n",
              "      <th>Date</th>\n",
              "      <th></th>\n",
              "    </tr>\n",
              "  </thead>\n",
              "  <tbody>\n",
              "    <tr>\n",
              "      <th>2001-01-02 00:00:00-05:00</th>\n",
              "      <td>1320.280029</td>\n",
              "    </tr>\n",
              "    <tr>\n",
              "      <th>2001-01-03 00:00:00-05:00</th>\n",
              "      <td>1283.270020</td>\n",
              "    </tr>\n",
              "    <tr>\n",
              "      <th>2001-01-04 00:00:00-05:00</th>\n",
              "      <td>1347.560059</td>\n",
              "    </tr>\n",
              "  </tbody>\n",
              "</table>\n",
              "</div>\n",
              "      <button class=\"colab-df-convert\" onclick=\"convertToInteractive('df-e44237ea-f263-4b9f-9488-f102da319838')\"\n",
              "              title=\"Convert this dataframe to an interactive table.\"\n",
              "              style=\"display:none;\">\n",
              "        \n",
              "  <svg xmlns=\"http://www.w3.org/2000/svg\" height=\"24px\"viewBox=\"0 0 24 24\"\n",
              "       width=\"24px\">\n",
              "    <path d=\"M0 0h24v24H0V0z\" fill=\"none\"/>\n",
              "    <path d=\"M18.56 5.44l.94 2.06.94-2.06 2.06-.94-2.06-.94-.94-2.06-.94 2.06-2.06.94zm-11 1L8.5 8.5l.94-2.06 2.06-.94-2.06-.94L8.5 2.5l-.94 2.06-2.06.94zm10 10l.94 2.06.94-2.06 2.06-.94-2.06-.94-.94-2.06-.94 2.06-2.06.94z\"/><path d=\"M17.41 7.96l-1.37-1.37c-.4-.4-.92-.59-1.43-.59-.52 0-1.04.2-1.43.59L10.3 9.45l-7.72 7.72c-.78.78-.78 2.05 0 2.83L4 21.41c.39.39.9.59 1.41.59.51 0 1.02-.2 1.41-.59l7.78-7.78 2.81-2.81c.8-.78.8-2.07 0-2.86zM5.41 20L4 18.59l7.72-7.72 1.47 1.35L5.41 20z\"/>\n",
              "  </svg>\n",
              "      </button>\n",
              "      \n",
              "  <style>\n",
              "    .colab-df-container {\n",
              "      display:flex;\n",
              "      flex-wrap:wrap;\n",
              "      gap: 12px;\n",
              "    }\n",
              "\n",
              "    .colab-df-convert {\n",
              "      background-color: #E8F0FE;\n",
              "      border: none;\n",
              "      border-radius: 50%;\n",
              "      cursor: pointer;\n",
              "      display: none;\n",
              "      fill: #1967D2;\n",
              "      height: 32px;\n",
              "      padding: 0 0 0 0;\n",
              "      width: 32px;\n",
              "    }\n",
              "\n",
              "    .colab-df-convert:hover {\n",
              "      background-color: #E2EBFA;\n",
              "      box-shadow: 0px 1px 2px rgba(60, 64, 67, 0.3), 0px 1px 3px 1px rgba(60, 64, 67, 0.15);\n",
              "      fill: #174EA6;\n",
              "    }\n",
              "\n",
              "    [theme=dark] .colab-df-convert {\n",
              "      background-color: #3B4455;\n",
              "      fill: #D2E3FC;\n",
              "    }\n",
              "\n",
              "    [theme=dark] .colab-df-convert:hover {\n",
              "      background-color: #434B5C;\n",
              "      box-shadow: 0px 1px 3px 1px rgba(0, 0, 0, 0.15);\n",
              "      filter: drop-shadow(0px 1px 2px rgba(0, 0, 0, 0.3));\n",
              "      fill: #FFFFFF;\n",
              "    }\n",
              "  </style>\n",
              "\n",
              "      <script>\n",
              "        const buttonEl =\n",
              "          document.querySelector('#df-e44237ea-f263-4b9f-9488-f102da319838 button.colab-df-convert');\n",
              "        buttonEl.style.display =\n",
              "          google.colab.kernel.accessAllowed ? 'block' : 'none';\n",
              "\n",
              "        async function convertToInteractive(key) {\n",
              "          const element = document.querySelector('#df-e44237ea-f263-4b9f-9488-f102da319838');\n",
              "          const dataTable =\n",
              "            await google.colab.kernel.invokeFunction('convertToInteractive',\n",
              "                                                     [key], {});\n",
              "          if (!dataTable) return;\n",
              "\n",
              "          const docLinkHtml = 'Like what you see? Visit the ' +\n",
              "            '<a target=\"_blank\" href=https://colab.research.google.com/notebooks/data_table.ipynb>data table notebook</a>'\n",
              "            + ' to learn more about interactive tables.';\n",
              "          element.innerHTML = '';\n",
              "          dataTable['output_type'] = 'display_data';\n",
              "          await google.colab.output.renderOutput(dataTable, element);\n",
              "          const docLink = document.createElement('div');\n",
              "          docLink.innerHTML = docLinkHtml;\n",
              "          element.appendChild(docLink);\n",
              "        }\n",
              "      </script>\n",
              "    </div>\n",
              "  </div>\n",
              "  "
            ]
          },
          "metadata": {},
          "execution_count": 171
        }
      ],
      "source": [
        "X.head(3)"
      ]
    },
    {
      "cell_type": "markdown",
      "metadata": {
        "id": "6armZde6JuC_"
      },
      "source": [
        "### Suddivisione dati\n",
        "\n",
        "- Effettuiamo una prima suddivisione dei dati in training e validation set\n",
        "- Avendo una serie temporale, è comune utilizzare come training i dati fino ad una data specifica e come validation quelli successivi\n",
        "- Definiamo una funzione `split_before_2005` che, dati `X` e `y`, restituisca in una tupla con 4 elementi\n",
        "  - un training set `X_train` e `y_train` con i dati fino al 2004\n",
        "  - un validation set `X_val` e `y_val` con i dati dal 2005 in poi\n",
        "- Utilizziamo tale funzione per suddividere i dati `X` e `y` definiti sopra"
      ]
    },
    {
      "cell_type": "code",
      "execution_count": 172,
      "metadata": {
        "id": "YjrXkK0HJuC_"
      },
      "outputs": [],
      "source": [
        "def split_before_2005(X, y):\n",
        "    is_train = X.index.year < 2005\n",
        "    X_train = X.loc[is_train]\n",
        "    y_train = y.loc[is_train]\n",
        "    X_val = X.loc[~is_train]\n",
        "    y_val = y.loc[~is_train]\n",
        "    return X_train, X_val, y_train, y_val"
      ]
    },
    {
      "cell_type": "code",
      "execution_count": 173,
      "metadata": {
        "id": "EgoaYo-CJuDA"
      },
      "outputs": [],
      "source": [
        "X_train, X_val, y_train, y_val = split_before_2005(X, y)"
      ]
    },
    {
      "cell_type": "markdown",
      "metadata": {
        "id": "rA42oHEvJuDA"
      },
      "source": [
        "### Esercizio 2: Addestramento e validazione modelli\n",
        "\n",
        "Usando training e validation set creati sopra, addestrare ciascuno dei seguenti modelli ed ottenerne il coefficiente R²\n",
        "- **(2a)** regressione lineare semplice\n",
        "- **(2b)** regressione polinomiale di grado 10 con regolarizzazione L2 ($\\alpha=1$)\n",
        "- **(2c)** regressione polinomiale di grado 3 con standardizzazione delle feature"
      ]
    },
    {
      "cell_type": "code",
      "execution_count": 174,
      "metadata": {
        "id": "5YcMTWaLJuDB"
      },
      "outputs": [],
      "source": [
        "# import necessari\n",
        "from sklearn.linear_model import LinearRegression, Ridge\n",
        "from sklearn.preprocessing import PolynomialFeatures, StandardScaler\n",
        "from sklearn.pipeline import Pipeline\n",
        "\n",
        "def fit_and_score(model, x_train, y_train, x_test, y_test):\n",
        "  model.fit(x_train, y_train)\n",
        "  print(\"model score: \", model.score(x_test, y_test))\n",
        "\n",
        "def plot_mdl_on_data(model, X_train, y_train, X_data):\n",
        "  plt.plot(X_data, y_train, \"r.\", label=\"input data\")\n",
        "  plt.plot(X_data, model.predict(X_train), \"b\", label=\"prevision\")\n",
        "  plt.legend()\n",
        "  plt.xlim(int(X_data.min()), int(X_data.median()))\n",
        "  plt.ylim(y_train.min(), y_train.max())"
      ]
    },
    {
      "cell_type": "code",
      "source": [
        "# a\n",
        "mdl = LinearRegression()\n",
        "fit_and_score(mdl, X_train, y_train, X_val, y_val)"
      ],
      "metadata": {
        "id": "pdrNW-psNXSB",
        "outputId": "6d3db01a-cede-4fd8-c788-abc25979f117",
        "colab": {
          "base_uri": "https://localhost:8080/"
        }
      },
      "execution_count": 175,
      "outputs": [
        {
          "output_type": "stream",
          "name": "stdout",
          "text": [
            "model score:  0.9886049726011812\n"
          ]
        }
      ]
    },
    {
      "cell_type": "code",
      "source": [
        "# b\n",
        "mdl = Pipeline([\n",
        "    (\"poly\", PolynomialFeatures(5, include_bias=False)),\n",
        "    (\"mdl\", Ridge(alpha=1))\n",
        "])\n",
        "fit_and_score(mdl, X_train, y_train, X_val, y_val)"
      ],
      "metadata": {
        "id": "CEdlqW7tN_cO",
        "outputId": "b6c3bbd7-af01-44de-e18b-1629ae5bb7bb",
        "colab": {
          "base_uri": "https://localhost:8080/"
        }
      },
      "execution_count": 176,
      "outputs": [
        {
          "output_type": "stream",
          "name": "stdout",
          "text": [
            "model score:  0.9824657739540624\n"
          ]
        },
        {
          "output_type": "stream",
          "name": "stderr",
          "text": [
            "/usr/local/lib/python3.10/dist-packages/sklearn/linear_model/_ridge.py:216: LinAlgWarning: Ill-conditioned matrix (rcond=1.40055e-33): result may not be accurate.\n",
            "  return linalg.solve(A, Xy, assume_a=\"pos\", overwrite_a=True).T\n"
          ]
        }
      ]
    },
    {
      "cell_type": "code",
      "source": [
        "mdl = Pipeline([\n",
        "    (\"poly\", PolynomialFeatures(3, include_bias=False)),\n",
        "    (\"scaler\", StandardScaler()),\n",
        "    (\"mdl\", Ridge(alpha=1))\n",
        "])\n",
        "fit_and_score(mdl, X_train, y_train, X_val, y_val)"
      ],
      "metadata": {
        "id": "j4RvDnzXN_rH",
        "outputId": "86c5dbfa-4dde-484e-eaac-95cd34ebbe44",
        "colab": {
          "base_uri": "https://localhost:8080/"
        }
      },
      "execution_count": 177,
      "outputs": [
        {
          "output_type": "stream",
          "name": "stdout",
          "text": [
            "model score:  0.9887404014357926\n"
          ]
        }
      ]
    },
    {
      "cell_type": "code",
      "source": [
        "plt.plot(X_train, y_train, \"r.\", label=\"open\")\n",
        "plt.plot(X_train, mdl.predict(X_train), \"b\", label=\"prevision\")\n",
        "plt.legend()\n",
        "plt.xlim(int(X_train.min()), int(X_train.median()))"
      ],
      "metadata": {
        "id": "lGXXbvKVQZp4",
        "outputId": "c062b9af-7da9-4850-a4cd-5b628a11e12f",
        "colab": {
          "base_uri": "https://localhost:8080/",
          "height": 450
        }
      },
      "execution_count": 178,
      "outputs": [
        {
          "output_type": "execute_result",
          "data": {
            "text/plain": [
              "(776.0, 1098.0)"
            ]
          },
          "metadata": {},
          "execution_count": 178
        },
        {
          "output_type": "display_data",
          "data": {
            "text/plain": [
              "<Figure size 640x480 with 1 Axes>"
            ],
            "image/png": "[encoded data removed]"
          },
          "metadata": {}
        }
      ]
    },
    {
      "cell_type": "markdown",
      "metadata": {
        "id": "SPnmTIx9JuDB"
      },
      "source": [
        "## Simulazione di trading\n",
        "\n",
        "- I punteggi R² dei modelli (anche i più semplici) risultano molto alti\n",
        "- Questo è dovuto al fatto che i valori di `open` e `close` sono generalmente molto correlati\n",
        "- Tuttavia, questo non indica quanto il modello sia in grado di cogliere le piccole variazioni giornaliere tra i due\n",
        "- Queste variazioni sono determinanti nel guidare un investitore\n",
        "- Per avere un'idea dell'utilità effettiva del modello, calcoliamo il **guadagno effettivo** che avrebbe un investitore utilizzando il modello"
      ]
    },
    {
      "cell_type": "markdown",
      "metadata": {
        "id": "u3v-Kv5wJuDC"
      },
      "source": [
        "### Protocollo di trading\n",
        "\n",
        "Assumiamo un investitore che\n",
        "- all'inizio di ogni giornata $d$ confronta il valore di apertura noto $O_d$ col valore di chiusura predetto dal modello $\\hat{C}_d$\n",
        "- se è previsto un rialzo ($\\hat{C}_d > O_d$), compra un titolo e lo rivende a fine giornata, con un guadagno di $C_d-O_d$\n",
        "- se è previsto un ribasso ($\\hat{C}_d < O_d$) vende (allo scoperto) un titolo e lo ricompra a fine giornata, con un guadagno di $O_d-C_d$ (l'opposto del primo caso)\n",
        "\n",
        "Possiamo definire una metrica \"guadagno\" per validare il modello, che restituisca il guadagno totale di un investitore che opera nel periodo a cui si riferisce il validation set"
      ]
    },
    {
      "cell_type": "markdown",
      "metadata": {
        "id": "oGbOxCasJuDC"
      },
      "source": [
        "### Esercizio 3: Implementazione protocollo di trading\n",
        "\n",
        "Completare l'implementazione di `gain` in modo che, date le serie di valori di chiusura reali `C` e predetti `C_pred`, restituisca il guadagno di un investitore secondo le specifiche sopra\n",
        "- la serie di valori di apertura `O` è ricavata dalla serie completa `open` usando `reindex_like` per selezionare esattamente le date di `C`\n",
        "- definire la serie `CO_diff` come la differenza $C_d-O_d$\n",
        "- definire le serie booleane `growth` e `decline` che indicano in quali giorni viene *previsto* un rialzo o un ribasso del valore\n",
        "- restituire la somma dei guadagni ottenuti da acquisto+vendita nei giorni `growth` e vendita+acquisto nei giorni `decline`"
      ]
    },
    {
      "cell_type": "code",
      "execution_count": 179,
      "metadata": {
        "id": "GgFYkDfNJuDD"
      },
      "outputs": [],
      "source": [
        "def gain(C, C_pred):\n",
        "    O = open.reindex_like(C)\n",
        "    CO_diff = C - O\n",
        "    growth = C_pred > O\n",
        "    decline = ~growth\n",
        "    return CO_diff[growth].sum() - CO_diff[decline].sum()"
      ]
    },
    {
      "cell_type": "markdown",
      "metadata": {
        "id": "lkk6M9wJJuDD"
      },
      "source": [
        "### Calcolo del ROI\n",
        "\n",
        "- Il ROI (_Return on Investment_) esprime il guadagno di una o più operazioni in borsa in rapporto all'investimento iniziale\n",
        "- La cifra investita in questo caso è pari al valore d'apertura del titolo che varia giornalmente\n",
        "- Per stimare il ROI usiamo la media di tale valore nel periodo di investimento\n",
        "- Definiamo una nuova funzione `roi`, che riusa il guadagno `gain` definito sopra e lo rapporta all'investimento medio"
      ]
    },
    {
      "cell_type": "code",
      "execution_count": 180,
      "metadata": {
        "id": "ChefIjkFJuDD"
      },
      "outputs": [],
      "source": [
        "def roi(C, C_pred):\n",
        "    mean_open = open.reindex_like(C).mean()\n",
        "    return gain(C, C_pred) / mean_open"
      ]
    },
    {
      "cell_type": "markdown",
      "metadata": {
        "id": "uWYodx2YJuDE"
      },
      "source": [
        "- Definiamo una funzione `print_eval` per stampare le metriche di valutazione del modello\n",
        "  - come le altre volte, dato il validation set e un modello da validare, si ottengono le predizioni e le si usano per calcolare le metriche\n",
        "  - questa volta però mostriamo guadagno e ROI al posto delle metriche ordinarie"
      ]
    },
    {
      "cell_type": "code",
      "execution_count": 181,
      "metadata": {
        "id": "3QH4kdTqJuDE"
      },
      "outputs": [],
      "source": [
        "def print_eval(X, y, model):\n",
        "    preds = model.predict(X)\n",
        "    print(\"Gain: {:.2f}$\".format(gain(y, preds)))\n",
        "    print(\" ROI: {:.3%}\".format(roi(y, preds)))"
      ]
    },
    {
      "cell_type": "markdown",
      "metadata": {
        "id": "y2n3oSjPJuDF"
      },
      "source": [
        "- Valutiamo ad esempio guadagno e ROI su un modello di regressione lineare semplice\n",
        "- Si ottiene un ROI basso, intorno al 5\\%"
      ]
    },
    {
      "cell_type": "code",
      "execution_count": 182,
      "metadata": {
        "id": "8kSIt9KSJuDF",
        "outputId": "dfa51bef-50dd-400d-f4b1-d0ef648a960a",
        "colab": {
          "base_uri": "https://localhost:8080/"
        }
      },
      "outputs": [
        {
          "output_type": "stream",
          "name": "stdout",
          "text": [
            "Gain: 61.36$\n",
            " ROI: 4.705%\n"
          ]
        }
      ],
      "source": [
        "model = LinearRegression()\n",
        "model.fit(X_train, y_train)\n",
        "print_eval(X_val, y_val, model)"
      ]
    },
    {
      "cell_type": "markdown",
      "metadata": {
        "id": "JjhHtAWDJuDG"
      },
      "source": [
        "## Introduzione di nuove feature\n",
        "\n",
        "- Abbiamo addestrato un modello a prevedere il valore giornaliero di chiusura $C_d$ a partire da quello di apertura corrispondente $O_d$\n",
        "- Abbiamo però visto con la stima di guadagno e ROI che tale modello non è efficace\n",
        "- Per ottenere predizioni più affidabili per ciascuna giornata $d$, possiamo però integrare **informazioni note dai giorni precedenti** a $d$\n",
        "- Vediamo come aggiungere tali informazioni in **nuove variabili** su cui basare le predizioni"
      ]
    },
    {
      "cell_type": "markdown",
      "metadata": {
        "id": "2RkXWzj4JuDH"
      },
      "source": [
        "- Le serie forniscono il metodo `shift`, con cui è possibile ottenerne i **valori slittati in avanti** di un numero di posizioni dato\n",
        "- Data ad esempio la serie `open`..."
      ]
    },
    {
      "cell_type": "code",
      "execution_count": 183,
      "metadata": {
        "id": "pvw5_xS6JuDH",
        "outputId": "673d515a-6a56-4ad6-e49b-1f6cc54c06d2",
        "colab": {
          "base_uri": "https://localhost:8080/"
        }
      },
      "outputs": [
        {
          "output_type": "execute_result",
          "data": {
            "text/plain": [
              "Date\n",
              "2001-01-02 00:00:00-05:00    1320.280029\n",
              "2001-01-03 00:00:00-05:00    1283.270020\n",
              "2001-01-04 00:00:00-05:00    1347.560059\n",
              "2001-01-05 00:00:00-05:00    1333.339966\n",
              "Name: Open, dtype: float64"
            ]
          },
          "metadata": {},
          "execution_count": 183
        }
      ],
      "source": [
        "open   .head(4)"
      ]
    },
    {
      "cell_type": "markdown",
      "metadata": {
        "id": "ixcYXFZqJuDI"
      },
      "source": [
        "- ...con `shift(2)` otteniamo gli stessi dati slittati in avanti di 2 giorni"
      ]
    },
    {
      "cell_type": "code",
      "execution_count": 184,
      "metadata": {
        "id": "i9F8ChYuJuDI",
        "outputId": "be42502a-a3b3-46cf-8152-b405700b30de",
        "colab": {
          "base_uri": "https://localhost:8080/"
        }
      },
      "outputs": [
        {
          "output_type": "execute_result",
          "data": {
            "text/plain": [
              "Date\n",
              "2001-01-02 00:00:00-05:00            NaN\n",
              "2001-01-03 00:00:00-05:00            NaN\n",
              "2001-01-04 00:00:00-05:00    1320.280029\n",
              "2001-01-05 00:00:00-05:00    1283.270020\n",
              "Name: Open, dtype: float64"
            ]
          },
          "metadata": {},
          "execution_count": 184
        }
      ],
      "source": [
        "open.shift(2)   .head(4)"
      ]
    },
    {
      "cell_type": "markdown",
      "metadata": {
        "id": "BZvnHQG7JuDJ"
      },
      "source": [
        "- Nei primi 2 giorni sono inseriti valori NaN, non essendo noti i valori dei giorni precedenti"
      ]
    },
    {
      "cell_type": "markdown",
      "metadata": {
        "id": "pPWwiIKcJuDJ"
      },
      "source": [
        "- Possiamo usare `shift` per generare le variabili che si riferiscono ai dati dei giorni precedenti\n",
        "- Definiamo ad esempio un nuovo insieme di feature dove, al valore di apertura del giorno corrente $O_d$, aggiungiamo quelli dei due giorni precedenti $O_{d-1}$ e $O_{d-2}$"
      ]
    },
    {
      "cell_type": "code",
      "execution_count": 185,
      "metadata": {
        "id": "cod_cNAvJuDJ"
      },
      "outputs": [],
      "source": [
        "features = {\n",
        "    \"Open\": open,\n",
        "    \"OpenLag1\": open.shift(1),\n",
        "    \"OpenLag2\": open.shift(2),\n",
        "}"
      ]
    },
    {
      "cell_type": "markdown",
      "metadata": {
        "id": "tui0TjXmJuDK"
      },
      "source": [
        "- Come sopra, creiamo un frame con i dati derivanti da tali feature"
      ]
    },
    {
      "cell_type": "code",
      "execution_count": 186,
      "metadata": {
        "id": "HaXmebqYJuDK"
      },
      "outputs": [],
      "source": [
        "X = pd.DataFrame(features)"
      ]
    },
    {
      "cell_type": "code",
      "execution_count": 187,
      "metadata": {
        "id": "poeml2FfJuDL",
        "outputId": "79686346-a17c-4fa2-dcf3-a07f6cd945ec",
        "colab": {
          "base_uri": "https://localhost:8080/",
          "height": 238
        }
      },
      "outputs": [
        {
          "output_type": "execute_result",
          "data": {
            "text/plain": [
              "                                  Open     OpenLag1     OpenLag2\n",
              "Date                                                            \n",
              "2001-01-02 00:00:00-05:00  1320.280029          NaN          NaN\n",
              "2001-01-03 00:00:00-05:00  1283.270020  1320.280029          NaN\n",
              "2001-01-04 00:00:00-05:00  1347.560059  1283.270020  1320.280029\n",
              "2001-01-05 00:00:00-05:00  1333.339966  1347.560059  1283.270020\n",
              "2001-01-08 00:00:00-05:00  1298.349976  1333.339966  1347.560059"
            ],
            "text/html": [
              "\n",
              "  <div id=\"df-51ae6ca1-0b52-4408-b7b2-5c46537e28ee\">\n",
              "    <div class=\"colab-df-container\">\n",
              "      <div>\n",
              "<style scoped>\n",
              "    .dataframe tbody tr th:only-of-type {\n",
              "        vertical-align: middle;\n",
              "    }\n",
              "\n",
              "    .dataframe tbody tr th {\n",
              "        vertical-align: top;\n",
              "    }\n",
              "\n",
              "    .dataframe thead th {\n",
              "        text-align: right;\n",
              "    }\n",
              "</style>\n",
              "<table border=\"1\" class=\"dataframe\">\n",
              "  <thead>\n",
              "    <tr style=\"text-align: right;\">\n",
              "      <th></th>\n",
              "      <th>Open</th>\n",
              "      <th>OpenLag1</th>\n",
              "      <th>OpenLag2</th>\n",
              "    </tr>\n",
              "    <tr>\n",
              "      <th>Date</th>\n",
              "      <th></th>\n",
              "      <th></th>\n",
              "      <th></th>\n",
              "    </tr>\n",
              "  </thead>\n",
              "  <tbody>\n",
              "    <tr>\n",
              "      <th>2001-01-02 00:00:00-05:00</th>\n",
              "      <td>1320.280029</td>\n",
              "      <td>NaN</td>\n",
              "      <td>NaN</td>\n",
              "    </tr>\n",
              "    <tr>\n",
              "      <th>2001-01-03 00:00:00-05:00</th>\n",
              "      <td>1283.270020</td>\n",
              "      <td>1320.280029</td>\n",
              "      <td>NaN</td>\n",
              "    </tr>\n",
              "    <tr>\n",
              "      <th>2001-01-04 00:00:00-05:00</th>\n",
              "      <td>1347.560059</td>\n",
              "      <td>1283.270020</td>\n",
              "      <td>1320.280029</td>\n",
              "    </tr>\n",
              "    <tr>\n",
              "      <th>2001-01-05 00:00:00-05:00</th>\n",
              "      <td>1333.339966</td>\n",
              "      <td>1347.560059</td>\n",
              "      <td>1283.270020</td>\n",
              "    </tr>\n",
              "    <tr>\n",
              "      <th>2001-01-08 00:00:00-05:00</th>\n",
              "      <td>1298.349976</td>\n",
              "      <td>1333.339966</td>\n",
              "      <td>1347.560059</td>\n",
              "    </tr>\n",
              "  </tbody>\n",
              "</table>\n",
              "</div>\n",
              "      <button class=\"colab-df-convert\" onclick=\"convertToInteractive('df-51ae6ca1-0b52-4408-b7b2-5c46537e28ee')\"\n",
              "              title=\"Convert this dataframe to an interactive table.\"\n",
              "              style=\"display:none;\">\n",
              "        \n",
              "  <svg xmlns=\"http://www.w3.org/2000/svg\" height=\"24px\"viewBox=\"0 0 24 24\"\n",
              "       width=\"24px\">\n",
              "    <path d=\"M0 0h24v24H0V0z\" fill=\"none\"/>\n",
              "    <path d=\"M18.56 5.44l.94 2.06.94-2.06 2.06-.94-2.06-.94-.94-2.06-.94 2.06-2.06.94zm-11 1L8.5 8.5l.94-2.06 2.06-.94-2.06-.94L8.5 2.5l-.94 2.06-2.06.94zm10 10l.94 2.06.94-2.06 2.06-.94-2.06-.94-.94-2.06-.94 2.06-2.06.94z\"/><path d=\"M17.41 7.96l-1.37-1.37c-.4-.4-.92-.59-1.43-.59-.52 0-1.04.2-1.43.59L10.3 9.45l-7.72 7.72c-.78.78-.78 2.05 0 2.83L4 21.41c.39.39.9.59 1.41.59.51 0 1.02-.2 1.41-.59l7.78-7.78 2.81-2.81c.8-.78.8-2.07 0-2.86zM5.41 20L4 18.59l7.72-7.72 1.47 1.35L5.41 20z\"/>\n",
              "  </svg>\n",
              "      </button>\n",
              "      \n",
              "  <style>\n",
              "    .colab-df-container {\n",
              "      display:flex;\n",
              "      flex-wrap:wrap;\n",
              "      gap: 12px;\n",
              "    }\n",
              "\n",
              "    .colab-df-convert {\n",
              "      background-color: #E8F0FE;\n",
              "      border: none;\n",
              "      border-radius: 50%;\n",
              "      cursor: pointer;\n",
              "      display: none;\n",
              "      fill: #1967D2;\n",
              "      height: 32px;\n",
              "      padding: 0 0 0 0;\n",
              "      width: 32px;\n",
              "    }\n",
              "\n",
              "    .colab-df-convert:hover {\n",
              "      background-color: #E2EBFA;\n",
              "      box-shadow: 0px 1px 2px rgba(60, 64, 67, 0.3), 0px 1px 3px 1px rgba(60, 64, 67, 0.15);\n",
              "      fill: #174EA6;\n",
              "    }\n",
              "\n",
              "    [theme=dark] .colab-df-convert {\n",
              "      background-color: #3B4455;\n",
              "      fill: #D2E3FC;\n",
              "    }\n",
              "\n",
              "    [theme=dark] .colab-df-convert:hover {\n",
              "      background-color: #434B5C;\n",
              "      box-shadow: 0px 1px 3px 1px rgba(0, 0, 0, 0.15);\n",
              "      filter: drop-shadow(0px 1px 2px rgba(0, 0, 0, 0.3));\n",
              "      fill: #FFFFFF;\n",
              "    }\n",
              "  </style>\n",
              "\n",
              "      <script>\n",
              "        const buttonEl =\n",
              "          document.querySelector('#df-51ae6ca1-0b52-4408-b7b2-5c46537e28ee button.colab-df-convert');\n",
              "        buttonEl.style.display =\n",
              "          google.colab.kernel.accessAllowed ? 'block' : 'none';\n",
              "\n",
              "        async function convertToInteractive(key) {\n",
              "          const element = document.querySelector('#df-51ae6ca1-0b52-4408-b7b2-5c46537e28ee');\n",
              "          const dataTable =\n",
              "            await google.colab.kernel.invokeFunction('convertToInteractive',\n",
              "                                                     [key], {});\n",
              "          if (!dataTable) return;\n",
              "\n",
              "          const docLinkHtml = 'Like what you see? Visit the ' +\n",
              "            '<a target=\"_blank\" href=https://colab.research.google.com/notebooks/data_table.ipynb>data table notebook</a>'\n",
              "            + ' to learn more about interactive tables.';\n",
              "          element.innerHTML = '';\n",
              "          dataTable['output_type'] = 'display_data';\n",
              "          await google.colab.output.renderOutput(dataTable, element);\n",
              "          const docLink = document.createElement('div');\n",
              "          docLink.innerHTML = docLinkHtml;\n",
              "          element.appendChild(docLink);\n",
              "        }\n",
              "      </script>\n",
              "    </div>\n",
              "  </div>\n",
              "  "
            ]
          },
          "metadata": {},
          "execution_count": 187
        }
      ],
      "source": [
        "X.head(5)"
      ]
    },
    {
      "cell_type": "markdown",
      "metadata": {
        "id": "uDYPl-jmJuDL"
      },
      "source": [
        "- Otteniamo così un frame con tre variabili invece di una\n",
        "- Nelle prime righe abbiamo però dei valori mancanti\n",
        "- Utilizziamo il metodo `dropna` per eliminare tutte le righe con uno o più valori mancanti\n",
        "  - `inplace=True` indica di modificare `X` invece di restituire un frame nuovo"
      ]
    },
    {
      "cell_type": "code",
      "execution_count": 188,
      "metadata": {
        "id": "xbhAkSAYJuDM"
      },
      "outputs": [],
      "source": [
        "X.dropna(inplace=True)"
      ]
    },
    {
      "cell_type": "code",
      "execution_count": 189,
      "metadata": {
        "id": "PUzE-1ZKJuDQ",
        "outputId": "e2e25e8b-10b9-43c6-e3aa-3b320c18bf67",
        "colab": {
          "base_uri": "https://localhost:8080/",
          "height": 238
        }
      },
      "outputs": [
        {
          "output_type": "execute_result",
          "data": {
            "text/plain": [
              "                                  Open     OpenLag1     OpenLag2\n",
              "Date                                                            \n",
              "2001-01-04 00:00:00-05:00  1347.560059  1283.270020  1320.280029\n",
              "2001-01-05 00:00:00-05:00  1333.339966  1347.560059  1283.270020\n",
              "2001-01-08 00:00:00-05:00  1298.349976  1333.339966  1347.560059\n",
              "2001-01-09 00:00:00-05:00  1295.859985  1298.349976  1333.339966\n",
              "2001-01-10 00:00:00-05:00  1300.800049  1295.859985  1298.349976"
            ],
            "text/html": [
              "\n",
              "  <div id=\"df-dbddab3c-a468-4a35-be66-632e25d452cb\">\n",
              "    <div class=\"colab-df-container\">\n",
              "      <div>\n",
              "<style scoped>\n",
              "    .dataframe tbody tr th:only-of-type {\n",
              "        vertical-align: middle;\n",
              "    }\n",
              "\n",
              "    .dataframe tbody tr th {\n",
              "        vertical-align: top;\n",
              "    }\n",
              "\n",
              "    .dataframe thead th {\n",
              "        text-align: right;\n",
              "    }\n",
              "</style>\n",
              "<table border=\"1\" class=\"dataframe\">\n",
              "  <thead>\n",
              "    <tr style=\"text-align: right;\">\n",
              "      <th></th>\n",
              "      <th>Open</th>\n",
              "      <th>OpenLag1</th>\n",
              "      <th>OpenLag2</th>\n",
              "    </tr>\n",
              "    <tr>\n",
              "      <th>Date</th>\n",
              "      <th></th>\n",
              "      <th></th>\n",
              "      <th></th>\n",
              "    </tr>\n",
              "  </thead>\n",
              "  <tbody>\n",
              "    <tr>\n",
              "      <th>2001-01-04 00:00:00-05:00</th>\n",
              "      <td>1347.560059</td>\n",
              "      <td>1283.270020</td>\n",
              "      <td>1320.280029</td>\n",
              "    </tr>\n",
              "    <tr>\n",
              "      <th>2001-01-05 00:00:00-05:00</th>\n",
              "      <td>1333.339966</td>\n",
              "      <td>1347.560059</td>\n",
              "      <td>1283.270020</td>\n",
              "    </tr>\n",
              "    <tr>\n",
              "      <th>2001-01-08 00:00:00-05:00</th>\n",
              "      <td>1298.349976</td>\n",
              "      <td>1333.339966</td>\n",
              "      <td>1347.560059</td>\n",
              "    </tr>\n",
              "    <tr>\n",
              "      <th>2001-01-09 00:00:00-05:00</th>\n",
              "      <td>1295.859985</td>\n",
              "      <td>1298.349976</td>\n",
              "      <td>1333.339966</td>\n",
              "    </tr>\n",
              "    <tr>\n",
              "      <th>2001-01-10 00:00:00-05:00</th>\n",
              "      <td>1300.800049</td>\n",
              "      <td>1295.859985</td>\n",
              "      <td>1298.349976</td>\n",
              "    </tr>\n",
              "  </tbody>\n",
              "</table>\n",
              "</div>\n",
              "      <button class=\"colab-df-convert\" onclick=\"convertToInteractive('df-dbddab3c-a468-4a35-be66-632e25d452cb')\"\n",
              "              title=\"Convert this dataframe to an interactive table.\"\n",
              "              style=\"display:none;\">\n",
              "        \n",
              "  <svg xmlns=\"http://www.w3.org/2000/svg\" height=\"24px\"viewBox=\"0 0 24 24\"\n",
              "       width=\"24px\">\n",
              "    <path d=\"M0 0h24v24H0V0z\" fill=\"none\"/>\n",
              "    <path d=\"M18.56 5.44l.94 2.06.94-2.06 2.06-.94-2.06-.94-.94-2.06-.94 2.06-2.06.94zm-11 1L8.5 8.5l.94-2.06 2.06-.94-2.06-.94L8.5 2.5l-.94 2.06-2.06.94zm10 10l.94 2.06.94-2.06 2.06-.94-2.06-.94-.94-2.06-.94 2.06-2.06.94z\"/><path d=\"M17.41 7.96l-1.37-1.37c-.4-.4-.92-.59-1.43-.59-.52 0-1.04.2-1.43.59L10.3 9.45l-7.72 7.72c-.78.78-.78 2.05 0 2.83L4 21.41c.39.39.9.59 1.41.59.51 0 1.02-.2 1.41-.59l7.78-7.78 2.81-2.81c.8-.78.8-2.07 0-2.86zM5.41 20L4 18.59l7.72-7.72 1.47 1.35L5.41 20z\"/>\n",
              "  </svg>\n",
              "      </button>\n",
              "      \n",
              "  <style>\n",
              "    .colab-df-container {\n",
              "      display:flex;\n",
              "      flex-wrap:wrap;\n",
              "      gap: 12px;\n",
              "    }\n",
              "\n",
              "    .colab-df-convert {\n",
              "      background-color: #E8F0FE;\n",
              "      border: none;\n",
              "      border-radius: 50%;\n",
              "      cursor: pointer;\n",
              "      display: none;\n",
              "      fill: #1967D2;\n",
              "      height: 32px;\n",
              "      padding: 0 0 0 0;\n",
              "      width: 32px;\n",
              "    }\n",
              "\n",
              "    .colab-df-convert:hover {\n",
              "      background-color: #E2EBFA;\n",
              "      box-shadow: 0px 1px 2px rgba(60, 64, 67, 0.3), 0px 1px 3px 1px rgba(60, 64, 67, 0.15);\n",
              "      fill: #174EA6;\n",
              "    }\n",
              "\n",
              "    [theme=dark] .colab-df-convert {\n",
              "      background-color: #3B4455;\n",
              "      fill: #D2E3FC;\n",
              "    }\n",
              "\n",
              "    [theme=dark] .colab-df-convert:hover {\n",
              "      background-color: #434B5C;\n",
              "      box-shadow: 0px 1px 3px 1px rgba(0, 0, 0, 0.15);\n",
              "      filter: drop-shadow(0px 1px 2px rgba(0, 0, 0, 0.3));\n",
              "      fill: #FFFFFF;\n",
              "    }\n",
              "  </style>\n",
              "\n",
              "      <script>\n",
              "        const buttonEl =\n",
              "          document.querySelector('#df-dbddab3c-a468-4a35-be66-632e25d452cb button.colab-df-convert');\n",
              "        buttonEl.style.display =\n",
              "          google.colab.kernel.accessAllowed ? 'block' : 'none';\n",
              "\n",
              "        async function convertToInteractive(key) {\n",
              "          const element = document.querySelector('#df-dbddab3c-a468-4a35-be66-632e25d452cb');\n",
              "          const dataTable =\n",
              "            await google.colab.kernel.invokeFunction('convertToInteractive',\n",
              "                                                     [key], {});\n",
              "          if (!dataTable) return;\n",
              "\n",
              "          const docLinkHtml = 'Like what you see? Visit the ' +\n",
              "            '<a target=\"_blank\" href=https://colab.research.google.com/notebooks/data_table.ipynb>data table notebook</a>'\n",
              "            + ' to learn more about interactive tables.';\n",
              "          element.innerHTML = '';\n",
              "          dataTable['output_type'] = 'display_data';\n",
              "          await google.colab.output.renderOutput(dataTable, element);\n",
              "          const docLink = document.createElement('div');\n",
              "          docLink.innerHTML = docLinkHtml;\n",
              "          element.appendChild(docLink);\n",
              "        }\n",
              "      </script>\n",
              "    </div>\n",
              "  </div>\n",
              "  "
            ]
          },
          "metadata": {},
          "execution_count": 189
        }
      ],
      "source": [
        "X.head(5)"
      ]
    },
    {
      "cell_type": "markdown",
      "metadata": {
        "id": "64EIBXLWJuDR"
      },
      "source": [
        "- Ora tutte le righe di `X` sono utilizzabili per addestrare e validare il modello\n",
        "- Avendo filtrato le righe di `X` dobbiamo filtrare allo stesso modo anche `y`: utilizziamo `reindex_like` per selezionare le stesse etichette (ovvero le date) nella serie `close`"
      ]
    },
    {
      "cell_type": "code",
      "execution_count": 190,
      "metadata": {
        "id": "QyiCexaEJuDS"
      },
      "outputs": [],
      "source": [
        "y = close.reindex_like(X)"
      ]
    },
    {
      "cell_type": "code",
      "execution_count": 191,
      "metadata": {
        "id": "EBP5flfeJuDT",
        "outputId": "da3b61d3-1147-4655-b318-020e45e1137d",
        "colab": {
          "base_uri": "https://localhost:8080/"
        }
      },
      "outputs": [
        {
          "output_type": "execute_result",
          "data": {
            "text/plain": [
              "Date\n",
              "2001-01-04 00:00:00-05:00    1333.339966\n",
              "2001-01-05 00:00:00-05:00    1298.349976\n",
              "2001-01-08 00:00:00-05:00    1295.859985\n",
              "2001-01-09 00:00:00-05:00    1300.800049\n",
              "2001-01-10 00:00:00-05:00    1313.270020\n",
              "Name: Close, dtype: float64"
            ]
          },
          "metadata": {},
          "execution_count": 191
        }
      ],
      "source": [
        "y.head(5)"
      ]
    },
    {
      "cell_type": "markdown",
      "metadata": {
        "id": "1uO5hMbXJuDU"
      },
      "source": [
        "- Riutilizziamo `split_before_2005` su `X` e `y` aggiornati per ottenere i training e validation set aggiornati"
      ]
    },
    {
      "cell_type": "code",
      "execution_count": 192,
      "metadata": {
        "id": "8cjB8hAjJuDV"
      },
      "outputs": [],
      "source": [
        "X_train, X_val, y_train, y_val = split_before_2005(X, y)"
      ]
    },
    {
      "cell_type": "markdown",
      "metadata": {
        "id": "4Yofp1-nJuDV"
      },
      "source": [
        "### Esercizio 4: Funzione per la generazione di training e validation set\n",
        "\n",
        "- Creare una funzione `prepare_data` che automatizzi i passaggi sopra\n",
        "  - accettare in input un dizionario di variabili predittive `features` (simile a quello sopra) e una variabile da predire `target`\n",
        "  - creare il frame `X` con le variabili predittive rimuovendo le righe con valori mancanti\n",
        "  - creare la serie `y` con i valori della variabile da predire corrispondenti alle righe selezionate di `X`\n",
        "  - restituire `X` e `y`"
      ]
    },
    {
      "cell_type": "code",
      "execution_count": 193,
      "metadata": {
        "id": "oNMa4ZAEJuDY"
      },
      "outputs": [],
      "source": [
        "def prepare_data(features, target):\n",
        "    X = pd.DataFrame(features)\n",
        "    X.dropna(inplace=True)\n",
        "    y = target.reindex_like(X)\n",
        "    return X, y"
      ]
    },
    {
      "cell_type": "markdown",
      "metadata": {
        "id": "Nt1L1iBXJuDY"
      },
      "source": [
        "## Modello sulle differenze\n",
        "\n",
        "- Con l'aggiunta delle feature, la rendita del modello aumenta ma è ancora scarsa"
      ]
    },
    {
      "cell_type": "code",
      "execution_count": 194,
      "metadata": {
        "id": "vULkaCZsJuDZ",
        "outputId": "484de497-db61-4044-e4c7-17a3aad6029c",
        "colab": {
          "base_uri": "https://localhost:8080/",
          "height": 465
        }
      },
      "outputs": [
        {
          "output_type": "stream",
          "name": "stdout",
          "text": [
            "Gain: 107.00$\n",
            " ROI: 8.205%\n"
          ]
        },
        {
          "output_type": "display_data",
          "data": {
            "text/plain": [
              "<Figure size 640x480 with 1 Axes>"
            ],
            "image/png": "[encoded data removed]"
          },
          "metadata": {}
        }
      ],
      "source": [
        "model = LinearRegression()\n",
        "model.fit(X_train, y_train)\n",
        "print_eval(X_val, y_val, model)\n",
        "plot_mdl_on_data(model, X_train, y_train, X_train.iloc[:,0])"
      ]
    },
    {
      "cell_type": "markdown",
      "metadata": {
        "id": "PVbJhtsOJuDa"
      },
      "source": [
        "- Finora abbiamo usato nei modelli, sia come variabili predittive che da prevedere, i valori _assoluti_ di apertura e chiusura del mercato\n",
        "- Tali valori seguono dei trend di lungo periodo e possono essere molto diversi in periodi differenti\n",
        "  - si può notare ad esempio l'effetto della [crisi economica iniziata nel 2007](https://it.wikipedia.org/wiki/Grande_recessione)\n",
        "- Nel nostro scenario siamo più interessati alle variazioni giornaliere, indipendentemente dai valori assoluti\n",
        "- Revisioniamo i passaggi svolti sopra per utilizzare come variabili le differenze tra questi valori"
      ]
    },
    {
      "cell_type": "markdown",
      "metadata": {
        "id": "fmy62rANJuDb"
      },
      "source": [
        "- Iniziamo definendo come variabile la differenza $\\Delta_d=C_d-O_d$ tra il valore di chiusura giornaliero $C_d$ e quello di apertura $O_d$"
      ]
    },
    {
      "cell_type": "code",
      "execution_count": 195,
      "metadata": {
        "id": "k78mu0uQJuDb"
      },
      "outputs": [],
      "source": [
        "delta = close - open"
      ]
    },
    {
      "cell_type": "markdown",
      "metadata": {
        "id": "oxKS-IfqJuDc"
      },
      "source": [
        "- Poniamo questo come il valore che **deve essere predetto** dal modello\n",
        "- L'investitore agirà in base alla predizione $\\hat{\\Delta}_d$ in modo analogo a prima\n",
        "  - se $\\hat{\\Delta}_d > 0$, acquista un titolo a inizio giornata e lo rivende alla fine\n",
        "  - se $\\hat{\\Delta}_d < 0$, vende un titolo a inizio giornata e lo ricompra alla fine"
      ]
    },
    {
      "cell_type": "markdown",
      "metadata": {
        "id": "zOImkiMHJuDd"
      },
      "source": [
        "### Esercizio 5: Funzioni per guadagno e ROI sulle differenze\n",
        "\n",
        "- Reimplementare la funzione `gain` in modo che consideri come input i valori reali e predetti di $\\Delta_d=C_d-O_d$ piuttosto che di $C_d$\n",
        "  - la funzione `roi` rimane invariata, la riportiamo con i nomi delle variabili aggiornate"
      ]
    },
    {
      "cell_type": "code",
      "execution_count": 209,
      "metadata": {
        "id": "rW4twoESJuDe"
      },
      "outputs": [],
      "source": [
        "def gain(D, D_pred):\n",
        "    growth = D_pred > 0\n",
        "    decline = ~growth\n",
        "    return D[growth].sum() - D[decline].sum()\n",
        "\n",
        "def roi(D, D_pred):\n",
        "    mean_open = open.reindex_like(D).mean()\n",
        "    return gain(D, D_pred) / mean_open"
      ]
    },
    {
      "cell_type": "markdown",
      "metadata": {
        "id": "O-IxneU6JuDe"
      },
      "source": [
        "- Come variabili predittive, possiamo considerare i valori della variabile da predire $\\Delta_d$ negli $N$ giorni precedenti: $\\Delta_{d-1},\\ldots,\\Delta_{d-N}$\n",
        "- Consideriamo ad esempio i valori nei 3 giorni precedenti\n",
        "  - usiamo una comprehension per costruire un dizionario con le variabili `DeltaLag{i}` con `i` variabile"
      ]
    },
    {
      "cell_type": "code",
      "execution_count": 197,
      "metadata": {
        "id": "Q6Wbb2JBJuDf"
      },
      "outputs": [],
      "source": [
        "features = {\n",
        "    \"DeltaLag{}\".format(i): delta.shift(i)\n",
        "    for i in range(1, 4)\n",
        "}"
      ]
    },
    {
      "cell_type": "markdown",
      "metadata": {
        "id": "JqLUs0D_JuDh"
      },
      "source": [
        "- Usiamo le funzioni già create sopra per ottenere training e validation set con queste nuove variabili"
      ]
    },
    {
      "cell_type": "code",
      "execution_count": 198,
      "metadata": {
        "id": "aBELAv3oJuDi"
      },
      "outputs": [],
      "source": [
        "X, y = prepare_data(features, delta)\n",
        "X_train, X_val, y_train, y_val = split_before_2005(X, y)"
      ]
    },
    {
      "cell_type": "markdown",
      "metadata": {
        "id": "FvTU5hRUJuDi"
      },
      "source": [
        "- Addestriamo e validiamo un modello di regressione lineare"
      ]
    },
    {
      "cell_type": "code",
      "execution_count": 199,
      "metadata": {
        "id": "0cLUn4B6JuDi",
        "outputId": "d3cac090-1382-4a25-d0db-2f6b5cef1c4d",
        "colab": {
          "base_uri": "https://localhost:8080/"
        }
      },
      "outputs": [
        {
          "output_type": "stream",
          "name": "stdout",
          "text": [
            "Gain: 1308.40$\n",
            " ROI: 100.329%\n"
          ]
        }
      ],
      "source": [
        "model = LinearRegression()\n",
        "model.fit(X_train, y_train)\n",
        "print_eval(X_val, y_val, model)"
      ]
    },
    {
      "cell_type": "markdown",
      "metadata": {
        "id": "uIm1KUdoJuDj"
      },
      "source": [
        "- Con questi accorgimenti, otteniamo un modello che garantisce un guadagno molto maggiore"
      ]
    },
    {
      "cell_type": "markdown",
      "metadata": {
        "id": "6tnHJzReJuDj"
      },
      "source": [
        "## Confronto con un modello casuale\n",
        "\n",
        "- Per avere una valutazione più completa del modello ottenuto, possiamo metterlo a confronto con quello che accadrebbe prendendo decisioni casuali\n",
        "- Consideriamo un modello che predica dei valori $\\hat{\\Delta}_d$ casuali, ma con la stessa distribuzione dei valori $\\Delta_d$ reali\n",
        "- Disegnando un istogramma, vediamo che $\\Delta_d$ ha una distribuzione normale"
      ]
    },
    {
      "cell_type": "code",
      "execution_count": 200,
      "metadata": {
        "id": "SX_N4o7qJuDk",
        "outputId": "ab653578-cea0-450e-cdd6-534e2c6e7794",
        "colab": {
          "base_uri": "https://localhost:8080/",
          "height": 368
        }
      },
      "outputs": [
        {
          "output_type": "display_data",
          "data": {
            "text/plain": [
              "<Figure size 1200x400 with 1 Axes>"
            ],
            "image/png": "[encoded data removed]"
          },
          "metadata": {}
        }
      ],
      "source": [
        "y_train.plot.hist(bins=40, figsize=(12, 4));"
      ]
    },
    {
      "cell_type": "markdown",
      "metadata": {
        "id": "rSbx98fcJuDl"
      },
      "source": [
        "- Consideriamo una distribuzione normale con media e deviazione standard pari a quelle di `y_train` e generiamo tanti campioni quanti i valori in `y_val`"
      ]
    },
    {
      "cell_type": "code",
      "execution_count": 201,
      "metadata": {
        "id": "5xsLsRK8JuDl"
      },
      "outputs": [],
      "source": [
        "np.random.seed(42)\n",
        "random_preds = np.random.normal(\n",
        "    y_train.mean(),   # centro (media), circa 0\n",
        "    y_train.std(),    # scala (dev. standard)\n",
        "    len(y_val)        # numero di campioni\n",
        ")"
      ]
    },
    {
      "cell_type": "code",
      "execution_count": 202,
      "metadata": {
        "id": "8Ylkx4HNJuDm",
        "outputId": "61f49462-8cd1-43bb-dff3-4ee8a7a80d56",
        "colab": {
          "base_uri": "https://localhost:8080/",
          "height": 291
        }
      },
      "outputs": [
        {
          "output_type": "display_data",
          "data": {
            "text/plain": [
              "<Figure size 1200x300 with 1 Axes>"
            ],
            "image/png": "[encoded data removed]"
          },
          "metadata": {}
        }
      ],
      "source": [
        "plt.figure(figsize=(12, 3))\n",
        "plt.hist(random_preds, bins=40);"
      ]
    },
    {
      "cell_type": "markdown",
      "metadata": {
        "id": "94dy7U3dJuDn"
      },
      "source": [
        "- Valutiamo guadagno e ROI utilizzando i campioni generati al posto delle predizioni del modello"
      ]
    },
    {
      "cell_type": "code",
      "execution_count": 203,
      "metadata": {
        "id": "aLVkOuJsJuDn",
        "outputId": "e0029200-6374-4c13-cd49-380ebd06374b",
        "colab": {
          "base_uri": "https://localhost:8080/"
        }
      },
      "outputs": [
        {
          "output_type": "execute_result",
          "data": {
            "text/plain": [
              "-271.2789306640625"
            ]
          },
          "metadata": {},
          "execution_count": 203
        }
      ],
      "source": [
        "gain(y_val, random_preds)"
      ]
    },
    {
      "cell_type": "code",
      "execution_count": 204,
      "metadata": {
        "id": "kYy-OmaQJuDo",
        "outputId": "4636e923-834b-43e3-ac41-659b473a79a9",
        "colab": {
          "base_uri": "https://localhost:8080/"
        }
      },
      "outputs": [
        {
          "output_type": "execute_result",
          "data": {
            "text/plain": [
              "-0.20801836780762534"
            ]
          },
          "metadata": {},
          "execution_count": 204
        }
      ],
      "source": [
        "roi(y_val, random_preds)"
      ]
    },
    {
      "cell_type": "markdown",
      "metadata": {
        "id": "lgBAanuZJuDp"
      },
      "source": [
        "- In questo caso otteniamo un valore negativo, ovvero una perdita"
      ]
    },
    {
      "cell_type": "markdown",
      "metadata": {
        "id": "rGFJVl3tJuDp"
      },
      "source": [
        "### Esercizio 6: Test multipli su modello casuale\n",
        "\n",
        "- Per valutare con maggiore affidabilità l'efficacia di un modello casuale, dobbiamo eseguire test multipli con seed differenti\n",
        "- Calcolare il ROI medio su 1.000 test con predizioni casuali come quello sopra, utilizzando un seed diverso in ciascuna\n",
        "- Si dovrebbe ottenere un ROI medio prossimo allo 0"
      ]
    },
    {
      "cell_type": "code",
      "source": [
        "u = y_train.mean()\n",
        "std = y_train.std()\n",
        "values = len(y_val)\n",
        "roi_vals = []\n",
        "for i in range(1000):\n",
        "  np.random.seed(i)\n",
        "  random_preds = np.random.normal(u, std, values)\n",
        "  roi_vals.append(roi(y_val, random_preds))\n",
        "np.mean(roi_vals)"
      ],
      "metadata": {
        "id": "MAobeqe5j5uv",
        "outputId": "36427836-4085-453e-c816-972b1f0d88c1",
        "colab": {
          "base_uri": "https://localhost:8080/"
        }
      },
      "execution_count": 210,
      "outputs": [
        {
          "output_type": "execute_result",
          "data": {
            "text/plain": [
              "0.01929211255212092"
            ]
          },
          "metadata": {},
          "execution_count": 210
        }
      ]
    },
    {
      "cell_type": "markdown",
      "metadata": {
        "id": "g5L2FlgSJuDp"
      },
      "source": [
        "## Validazione k-fold per serie temporali\n",
        "\n",
        "- Nella cross validation a _k_ fold ordinaria, i dati vengono divisi in _k_ fold mescolati casualmente\n",
        "- Nel caso come questo di una serie temporale, vogliamo però mantenere l'ordine temporale in training e validation set\n",
        "- Come alternativa allo split `KFold`, scikit-learn offre il `TimeSeriesSplit(k)` per questa situazione\n",
        "  - il dataset è diviso in _k_+1 fold contigui di pari dimensioni\n",
        "  - ogni split _i_ da 1 a _k_ contiene i primi _i_ fold come training set e il _i+1_-esimo come validation set"
      ]
    },
    {
      "cell_type": "markdown",
      "metadata": {
        "id": "XpsJQqAiJuDq"
      },
      "source": [
        "- Definiamo un `TimeSeriesSplit` con 3 split"
      ]
    },
    {
      "cell_type": "code",
      "execution_count": 211,
      "metadata": {
        "id": "D8cleeRMJuDq"
      },
      "outputs": [],
      "source": [
        "from sklearn.model_selection import TimeSeriesSplit\n",
        "tss = TimeSeriesSplit(3)"
      ]
    },
    {
      "cell_type": "markdown",
      "metadata": {
        "id": "2SLZQg03JuDr"
      },
      "source": [
        "- Vediamo ad esempio come suddivide i dati in `X`: gli 8 anni dei dati sono divisi in 4 gruppi da 2"
      ]
    },
    {
      "cell_type": "code",
      "execution_count": 212,
      "metadata": {
        "id": "mNT661BrJuDr",
        "outputId": "64d79774-f5cd-4142-d04e-d011bfb963aa",
        "colab": {
          "base_uri": "https://localhost:8080/"
        }
      },
      "outputs": [
        {
          "output_type": "stream",
          "name": "stdout",
          "text": [
            "FOLD 1\n",
            "Training set da 2001-01-05 00:00:00-05:00 a 2003-01-10 00:00:00-05:00\n",
            "Validation set da 2003-01-13 00:00:00-05:00 a 2005-01-06 00:00:00-05:00\n",
            "FOLD 2\n",
            "Training set da 2001-01-05 00:00:00-05:00 a 2005-01-06 00:00:00-05:00\n",
            "Validation set da 2005-01-07 00:00:00-05:00 a 2007-01-04 00:00:00-05:00\n",
            "FOLD 3\n",
            "Training set da 2001-01-05 00:00:00-05:00 a 2007-01-04 00:00:00-05:00\n",
            "Validation set da 2007-01-05 00:00:00-05:00 a 2008-12-30 00:00:00-05:00\n"
          ]
        }
      ],
      "source": [
        "for i, (train, val) in enumerate(tss.split(X), start=1):\n",
        "    print(f\"FOLD {i}\")\n",
        "    train_dates = X.index[train]\n",
        "    val_dates = X.index[val]\n",
        "    print(f\"Training set da {train_dates.min()} a {train_dates.max()}\")\n",
        "    print(f\"Validation set da {val_dates.min()} a {val_dates.max()}\")"
      ]
    },
    {
      "cell_type": "markdown",
      "metadata": {
        "id": "t3PQGN29JuDs"
      },
      "source": [
        "```\n",
        "         2001   2002   2003   2004   2005   2006   2007   2008\n",
        "       +------+------+------+------+------+------+------+------+\n",
        "Fold 1 |   Training  |  Validation |######## non usato ########|\n",
        "       +------+------+------+------+------+------+------+------+\n",
        "Fold 2 |          Training         |  Validation |# non usato #|\n",
        "       +------+------+------+------+------+------+------+------+\n",
        "Fold 3 |                 Training                |  Validation |\n",
        "       +------+------+------+------+------+------+------+------+\n",
        "```"
      ]
    },
    {
      "cell_type": "markdown",
      "metadata": {
        "id": "eCtfWSBzJuDt"
      },
      "source": [
        "- Per eseguire la cross validation, dobbiamo stabilire anche la metrica di valutazione da utilizzare\n",
        "- Prendiamo come riferimento il ROI, per cui abbiamo implementato la funzione `roi`\n",
        "- Per utilizzarla come metrica al posto di quelle predefinite dobbiamo incapsularla in un oggetto _scorer_ con la funzione `make_scorer`\n",
        "  - `greater_is_better=True` specifica che valori più alti indicano modelli migliori, al contrario delle misure d'errore"
      ]
    },
    {
      "cell_type": "code",
      "execution_count": 213,
      "metadata": {
        "id": "FN77Z8mdJuDt"
      },
      "outputs": [],
      "source": [
        "from sklearn.metrics import make_scorer\n",
        "roi_scorer = make_scorer(roi, greater_is_better=True)"
      ]
    },
    {
      "cell_type": "markdown",
      "metadata": {
        "id": "MR3eHFeVJuDu"
      },
      "source": [
        "- Possiamo ora utilizzare la funzione `cross_validate`, specificando\n",
        "  - il modello da validare\n",
        "  - i dati\n",
        "  - il criterio di suddivisione in fold (oggetto `TimeSeriesSplit`)\n",
        "  - la metrica di valutazione (il ROI)\n",
        "- Usiamo come esempio la regressione lineare semplice"
      ]
    },
    {
      "cell_type": "code",
      "execution_count": 214,
      "metadata": {
        "id": "95qKlMriJuDv"
      },
      "outputs": [],
      "source": [
        "from sklearn.model_selection import cross_validate\n",
        "cv_results = cross_validate(\n",
        "    LinearRegression(),\n",
        "    X, y,\n",
        "    cv=tss,\n",
        "    scoring=roi_scorer,\n",
        ")"
      ]
    },
    {
      "cell_type": "markdown",
      "metadata": {
        "id": "eRbC-AsEJuDw"
      },
      "source": [
        "- Estraiamo i punteggi ottenuti nei tre fold e calcoliamo la media"
      ]
    },
    {
      "cell_type": "code",
      "execution_count": 215,
      "metadata": {
        "id": "U4h3n09-JuDw",
        "outputId": "b0936489-d4e1-476f-86c8-18eef47e3fb3",
        "colab": {
          "base_uri": "https://localhost:8080/"
        }
      },
      "outputs": [
        {
          "output_type": "execute_result",
          "data": {
            "text/plain": [
              "array([-0.14443616,  0.10888946,  0.74112849])"
            ]
          },
          "metadata": {},
          "execution_count": 215
        }
      ],
      "source": [
        "cv_results[\"test_score\"]"
      ]
    },
    {
      "cell_type": "code",
      "execution_count": 216,
      "metadata": {
        "id": "Y9tZYq4ZJuEA",
        "outputId": "8b1576e4-4eee-4192-8170-1657c06090a5",
        "colab": {
          "base_uri": "https://localhost:8080/"
        }
      },
      "outputs": [
        {
          "output_type": "execute_result",
          "data": {
            "text/plain": [
              "0.23519392952726648"
            ]
          },
          "metadata": {},
          "execution_count": 216
        }
      ],
      "source": [
        "cv_results[\"test_score\"].mean()"
      ]
    },
    {
      "cell_type": "markdown",
      "metadata": {
        "id": "hjEizLt9JuEB"
      },
      "source": [
        "- Vediamo che il ROI medio è 23,5\\%, ma molto variabile da un periodo d'applicazione all'altro, probabilmente anche per via dei training set di diversa durata (2, 4, 6 anni)\n",
        "  - notare che questi ROI sono calcolati su periodi di soli due anni, contro i quattro del validation set fisso usato prima"
      ]
    },
    {
      "cell_type": "markdown",
      "metadata": {
        "id": "Z3_2qS-oJuEB"
      },
      "source": [
        "## Grid search\n",
        "\n",
        "- Possiamo riutilizzare gli stessi componenti della cross validation \"semplice\" in una grid search per tarare gli iperparametri dei modelli più avanzati\n",
        "- Prendiamo ad esempio come modello base la regressione polinomiale con o senza standardizzazione delle feature generate"
      ]
    },
    {
      "cell_type": "code",
      "execution_count": 217,
      "metadata": {
        "id": "xHMMG7wgJuEC"
      },
      "outputs": [],
      "source": [
        "model = Pipeline([\n",
        "    (\"poly\", PolynomialFeatures(include_bias=False)),\n",
        "    (\"scale\", None),\n",
        "    (\"regr\", LinearRegression())\n",
        "])"
      ]
    },
    {
      "cell_type": "markdown",
      "metadata": {
        "id": "3_RUGKhgJuEC"
      },
      "source": [
        "- Definiamo la griglia degli iperparametri variabili: applicazione o non della standardizzazione e grado del polinomio\n",
        "  - includiamo per confronto anche il grado 1, ovvero la regressione lineare standard"
      ]
    },
    {
      "cell_type": "code",
      "execution_count": 218,
      "metadata": {
        "id": "JSPUU0sBJuED"
      },
      "outputs": [],
      "source": [
        "grid = {\n",
        "    \"scale\": [None, StandardScaler()],\n",
        "    \"poly__degree\": list(range(1, 7))\n",
        "}"
      ]
    },
    {
      "cell_type": "markdown",
      "metadata": {
        "id": "miDDjC1hJuEE"
      },
      "source": [
        "- Creiamo il modello grid search specificando tutti i parametri\n",
        "  - modello base con iperparametri fissi\n",
        "  - griglia dei iperparametri variabili\n",
        "  - criterio di cross validation\n",
        "  - metrica di valutazione"
      ]
    },
    {
      "cell_type": "code",
      "execution_count": 219,
      "metadata": {
        "id": "x38Q_WVWJuEE"
      },
      "outputs": [],
      "source": [
        "from sklearn.model_selection import GridSearchCV\n",
        "gs = GridSearchCV(model, grid, cv=tss, scoring=roi_scorer)"
      ]
    },
    {
      "cell_type": "markdown",
      "metadata": {
        "id": "H937ExaSJuEF"
      },
      "source": [
        "- Addestriamolo quindi su tutti i dati"
      ]
    },
    {
      "cell_type": "code",
      "execution_count": 220,
      "metadata": {
        "id": "J1fkM7wUJuEF"
      },
      "outputs": [],
      "source": [
        "gs.fit(X, y);"
      ]
    },
    {
      "cell_type": "markdown",
      "metadata": {
        "id": "-rJDkBuKJuEF"
      },
      "source": [
        "- Reperiamo e analizziamo i risultati ottenuti"
      ]
    },
    {
      "cell_type": "code",
      "execution_count": 221,
      "metadata": {
        "id": "v7ETyZnYJuEG"
      },
      "outputs": [],
      "source": [
        "gs_results = pd.DataFrame(gs.cv_results_)"
      ]
    },
    {
      "cell_type": "code",
      "execution_count": 222,
      "metadata": {
        "id": "pT7jxiqeJuEG",
        "outputId": "bc94ba56-07d7-4cf1-83a3-d6d93b7ffa27",
        "colab": {
          "base_uri": "https://localhost:8080/",
          "height": 392
        }
      },
      "outputs": [
        {
          "output_type": "execute_result",
          "data": {
            "text/plain": [
              "   mean_fit_time  std_fit_time  mean_score_time  std_score_time  \\\n",
              "8       0.010748      0.001552         0.004393        0.000405   \n",
              "9       0.012532      0.001512         0.004339        0.000062   \n",
              "0       0.006157      0.001471         0.002987        0.000590   \n",
              "1       0.004803      0.000197         0.002493        0.000029   \n",
              "6       0.018718      0.002004         0.006924        0.000250   \n",
              "\n",
              "  param_poly__degree       param_scale  \\\n",
              "8                  5              None   \n",
              "9                  5  StandardScaler()   \n",
              "0                  1              None   \n",
              "1                  1  StandardScaler()   \n",
              "6                  4              None   \n",
              "\n",
              "                                           params  split0_test_score  \\\n",
              "8              {'poly__degree': 5, 'scale': None}          -0.042530   \n",
              "9  {'poly__degree': 5, 'scale': StandardScaler()}          -0.042530   \n",
              "0              {'poly__degree': 1, 'scale': None}          -0.144436   \n",
              "1  {'poly__degree': 1, 'scale': StandardScaler()}          -0.144436   \n",
              "6              {'poly__degree': 4, 'scale': None}          -0.028171   \n",
              "\n",
              "   split1_test_score  split2_test_score  mean_test_score  std_test_score  \\\n",
              "8           0.189004           0.770411         0.305628        0.341974   \n",
              "9           0.189004           0.770411         0.305628        0.341974   \n",
              "0           0.108889           0.741128         0.235194        0.372398   \n",
              "1           0.108889           0.741128         0.235194        0.372398   \n",
              "6           0.097567           0.272940         0.114112        0.123484   \n",
              "\n",
              "   rank_test_score  \n",
              "8                1  \n",
              "9                1  \n",
              "0                3  \n",
              "1                3  \n",
              "6                5  "
            ],
            "text/html": [
              "\n",
              "  <div id=\"df-2ed41787-3ec8-45ee-abcd-390b9d934463\">\n",
              "    <div class=\"colab-df-container\">\n",
              "      <div>\n",
              "<style scoped>\n",
              "    .dataframe tbody tr th:only-of-type {\n",
              "        vertical-align: middle;\n",
              "    }\n",
              "\n",
              "    .dataframe tbody tr th {\n",
              "        vertical-align: top;\n",
              "    }\n",
              "\n",
              "    .dataframe thead th {\n",
              "        text-align: right;\n",
              "    }\n",
              "</style>\n",
              "<table border=\"1\" class=\"dataframe\">\n",
              "  <thead>\n",
              "    <tr style=\"text-align: right;\">\n",
              "      <th></th>\n",
              "      <th>mean_fit_time</th>\n",
              "      <th>std_fit_time</th>\n",
              "      <th>mean_score_time</th>\n",
              "      <th>std_score_time</th>\n",
              "      <th>param_poly__degree</th>\n",
              "      <th>param_scale</th>\n",
              "      <th>params</th>\n",
              "      <th>split0_test_score</th>\n",
              "      <th>split1_test_score</th>\n",
              "      <th>split2_test_score</th>\n",
              "      <th>mean_test_score</th>\n",
              "      <th>std_test_score</th>\n",
              "      <th>rank_test_score</th>\n",
              "    </tr>\n",
              "  </thead>\n",
              "  <tbody>\n",
              "    <tr>\n",
              "      <th>8</th>\n",
              "      <td>0.010748</td>\n",
              "      <td>0.001552</td>\n",
              "      <td>0.004393</td>\n",
              "      <td>0.000405</td>\n",
              "      <td>5</td>\n",
              "      <td>None</td>\n",
              "      <td>{'poly__degree': 5, 'scale': None}</td>\n",
              "      <td>-0.042530</td>\n",
              "      <td>0.189004</td>\n",
              "      <td>0.770411</td>\n",
              "      <td>0.305628</td>\n",
              "      <td>0.341974</td>\n",
              "      <td>1</td>\n",
              "    </tr>\n",
              "    <tr>\n",
              "      <th>9</th>\n",
              "      <td>0.012532</td>\n",
              "      <td>0.001512</td>\n",
              "      <td>0.004339</td>\n",
              "      <td>0.000062</td>\n",
              "      <td>5</td>\n",
              "      <td>StandardScaler()</td>\n",
              "      <td>{'poly__degree': 5, 'scale': StandardScaler()}</td>\n",
              "      <td>-0.042530</td>\n",
              "      <td>0.189004</td>\n",
              "      <td>0.770411</td>\n",
              "      <td>0.305628</td>\n",
              "      <td>0.341974</td>\n",
              "      <td>1</td>\n",
              "    </tr>\n",
              "    <tr>\n",
              "      <th>0</th>\n",
              "      <td>0.006157</td>\n",
              "      <td>0.001471</td>\n",
              "      <td>0.002987</td>\n",
              "      <td>0.000590</td>\n",
              "      <td>1</td>\n",
              "      <td>None</td>\n",
              "      <td>{'poly__degree': 1, 'scale': None}</td>\n",
              "      <td>-0.144436</td>\n",
              "      <td>0.108889</td>\n",
              "      <td>0.741128</td>\n",
              "      <td>0.235194</td>\n",
              "      <td>0.372398</td>\n",
              "      <td>3</td>\n",
              "    </tr>\n",
              "    <tr>\n",
              "      <th>1</th>\n",
              "      <td>0.004803</td>\n",
              "      <td>0.000197</td>\n",
              "      <td>0.002493</td>\n",
              "      <td>0.000029</td>\n",
              "      <td>1</td>\n",
              "      <td>StandardScaler()</td>\n",
              "      <td>{'poly__degree': 1, 'scale': StandardScaler()}</td>\n",
              "      <td>-0.144436</td>\n",
              "      <td>0.108889</td>\n",
              "      <td>0.741128</td>\n",
              "      <td>0.235194</td>\n",
              "      <td>0.372398</td>\n",
              "      <td>3</td>\n",
              "    </tr>\n",
              "    <tr>\n",
              "      <th>6</th>\n",
              "      <td>0.018718</td>\n",
              "      <td>0.002004</td>\n",
              "      <td>0.006924</td>\n",
              "      <td>0.000250</td>\n",
              "      <td>4</td>\n",
              "      <td>None</td>\n",
              "      <td>{'poly__degree': 4, 'scale': None}</td>\n",
              "      <td>-0.028171</td>\n",
              "      <td>0.097567</td>\n",
              "      <td>0.272940</td>\n",
              "      <td>0.114112</td>\n",
              "      <td>0.123484</td>\n",
              "      <td>5</td>\n",
              "    </tr>\n",
              "  </tbody>\n",
              "</table>\n",
              "</div>\n",
              "      <button class=\"colab-df-convert\" onclick=\"convertToInteractive('df-2ed41787-3ec8-45ee-abcd-390b9d934463')\"\n",
              "              title=\"Convert this dataframe to an interactive table.\"\n",
              "              style=\"display:none;\">\n",
              "        \n",
              "  <svg xmlns=\"http://www.w3.org/2000/svg\" height=\"24px\"viewBox=\"0 0 24 24\"\n",
              "       width=\"24px\">\n",
              "    <path d=\"M0 0h24v24H0V0z\" fill=\"none\"/>\n",
              "    <path d=\"M18.56 5.44l.94 2.06.94-2.06 2.06-.94-2.06-.94-.94-2.06-.94 2.06-2.06.94zm-11 1L8.5 8.5l.94-2.06 2.06-.94-2.06-.94L8.5 2.5l-.94 2.06-2.06.94zm10 10l.94 2.06.94-2.06 2.06-.94-2.06-.94-.94-2.06-.94 2.06-2.06.94z\"/><path d=\"M17.41 7.96l-1.37-1.37c-.4-.4-.92-.59-1.43-.59-.52 0-1.04.2-1.43.59L10.3 9.45l-7.72 7.72c-.78.78-.78 2.05 0 2.83L4 21.41c.39.39.9.59 1.41.59.51 0 1.02-.2 1.41-.59l7.78-7.78 2.81-2.81c.8-.78.8-2.07 0-2.86zM5.41 20L4 18.59l7.72-7.72 1.47 1.35L5.41 20z\"/>\n",
              "  </svg>\n",
              "      </button>\n",
              "      \n",
              "  <style>\n",
              "    .colab-df-container {\n",
              "      display:flex;\n",
              "      flex-wrap:wrap;\n",
              "      gap: 12px;\n",
              "    }\n",
              "\n",
              "    .colab-df-convert {\n",
              "      background-color: #E8F0FE;\n",
              "      border: none;\n",
              "      border-radius: 50%;\n",
              "      cursor: pointer;\n",
              "      display: none;\n",
              "      fill: #1967D2;\n",
              "      height: 32px;\n",
              "      padding: 0 0 0 0;\n",
              "      width: 32px;\n",
              "    }\n",
              "\n",
              "    .colab-df-convert:hover {\n",
              "      background-color: #E2EBFA;\n",
              "      box-shadow: 0px 1px 2px rgba(60, 64, 67, 0.3), 0px 1px 3px 1px rgba(60, 64, 67, 0.15);\n",
              "      fill: #174EA6;\n",
              "    }\n",
              "\n",
              "    [theme=dark] .colab-df-convert {\n",
              "      background-color: #3B4455;\n",
              "      fill: #D2E3FC;\n",
              "    }\n",
              "\n",
              "    [theme=dark] .colab-df-convert:hover {\n",
              "      background-color: #434B5C;\n",
              "      box-shadow: 0px 1px 3px 1px rgba(0, 0, 0, 0.15);\n",
              "      filter: drop-shadow(0px 1px 2px rgba(0, 0, 0, 0.3));\n",
              "      fill: #FFFFFF;\n",
              "    }\n",
              "  </style>\n",
              "\n",
              "      <script>\n",
              "        const buttonEl =\n",
              "          document.querySelector('#df-2ed41787-3ec8-45ee-abcd-390b9d934463 button.colab-df-convert');\n",
              "        buttonEl.style.display =\n",
              "          google.colab.kernel.accessAllowed ? 'block' : 'none';\n",
              "\n",
              "        async function convertToInteractive(key) {\n",
              "          const element = document.querySelector('#df-2ed41787-3ec8-45ee-abcd-390b9d934463');\n",
              "          const dataTable =\n",
              "            await google.colab.kernel.invokeFunction('convertToInteractive',\n",
              "                                                     [key], {});\n",
              "          if (!dataTable) return;\n",
              "\n",
              "          const docLinkHtml = 'Like what you see? Visit the ' +\n",
              "            '<a target=\"_blank\" href=https://colab.research.google.com/notebooks/data_table.ipynb>data table notebook</a>'\n",
              "            + ' to learn more about interactive tables.';\n",
              "          element.innerHTML = '';\n",
              "          dataTable['output_type'] = 'display_data';\n",
              "          await google.colab.output.renderOutput(dataTable, element);\n",
              "          const docLink = document.createElement('div');\n",
              "          docLink.innerHTML = docLinkHtml;\n",
              "          element.appendChild(docLink);\n",
              "        }\n",
              "      </script>\n",
              "    </div>\n",
              "  </div>\n",
              "  "
            ]
          },
          "metadata": {},
          "execution_count": 222
        }
      ],
      "source": [
        "# stampo le 5 configurazioni migliori\n",
        "gs_results.sort_values(\"mean_test_score\", ascending=False).head(5)"
      ]
    },
    {
      "cell_type": "markdown",
      "metadata": {
        "id": "VlmEaeoSJuEH"
      },
      "source": [
        "- Le migliori configurazioni in questo caso sono quelle con le feature di 5° grado (la standardizzazione non fa differenza)"
      ]
    },
    {
      "cell_type": "markdown",
      "metadata": {
        "id": "6-plI3wgJuEH"
      },
      "source": [
        "### Esercizio 7: Grid search su kernel ridge\n",
        "\n",
        "- Effettuare la grid search su un modello kernel ridge\n",
        "  - con kernel `rbf` con `gamma` pari a $10^{-3},10^{-2},10^{-1}$\n",
        "  - con peso di regolarizzazione `alpha` pari a $10^{-3},10^{-2},\\ldots,10^2$\n",
        "    - si può usare `np.logspace`\n",
        "  - con o senza standardizzazione delle feature in ingresso\n",
        "- Stampare come sopra un frame con le 5 configurazioni migliori"
      ]
    },
    {
      "cell_type": "code",
      "execution_count": 223,
      "metadata": {
        "id": "NPgHhH58JuEH"
      },
      "outputs": [],
      "source": [
        "from sklearn.kernel_ridge import KernelRidge"
      ]
    },
    {
      "cell_type": "code",
      "source": [
        "mdl = Pipeline([\n",
        "    (\"scaler\", None),\n",
        "    (\"mdl\", KernelRidge(kernel=\"rbf\"))\n",
        "])\n",
        "grid = {\n",
        "    \"scaler\": [None, StandardScaler()],\n",
        "    \"mdl__alpha\": np.logspace(-3, 2, 6),\n",
        "    \"mdl__gamma\": [0.001, 0.01, 0.1]\n",
        "}"
      ],
      "metadata": {
        "id": "dh1sZ7TQpzmb"
      },
      "execution_count": 224,
      "outputs": []
    },
    {
      "cell_type": "code",
      "source": [
        "gs = GridSearchCV(mdl, grid, cv=tss, scoring=roi_scorer)\n",
        "gs.fit(X, y)"
      ],
      "metadata": {
        "id": "xXOKtcVXrIBb",
        "outputId": "cb03782f-0a5b-4b19-ab73-d942c5a732b8",
        "colab": {
          "base_uri": "https://localhost:8080/",
          "height": 152
        }
      },
      "execution_count": 230,
      "outputs": [
        {
          "output_type": "execute_result",
          "data": {
            "text/plain": [
              "GridSearchCV(cv=TimeSeriesSplit(gap=0, max_train_size=None, n_splits=3, test_size=None),\n",
              "             estimator=Pipeline(steps=[('scaler', None),\n",
              "                                       ('mdl', KernelRidge(kernel='rbf'))]),\n",
              "             param_grid={'mdl__alpha': array([1.e-03, 1.e-02, 1.e-01, 1.e+00, 1.e+01, 1.e+02]),\n",
              "                         'mdl__gamma': [0.001, 0.01, 0.1],\n",
              "                         'scaler': [None, StandardScaler()]},\n",
              "             scoring=make_scorer(roi))"
            ],
            "text/html": [
              "<style>#sk-container-id-1 {color: black;background-color: white;}#sk-container-id-1 pre{padding: 0;}#sk-container-id-1 div.sk-toggleable {background-color: white;}#sk-container-id-1 label.sk-toggleable__label {cursor: pointer;display: block;width: 100%;margin-bottom: 0;padding: 0.3em;box-sizing: border-box;text-align: center;}#sk-container-id-1 label.sk-toggleable__label-arrow:before {content: \"▸\";float: left;margin-right: 0.25em;color: #696969;}#sk-container-id-1 label.sk-toggleable__label-arrow:hover:before {color: black;}#sk-container-id-1 div.sk-estimator:hover label.sk-toggleable__label-arrow:before {color: black;}#sk-container-id-1 div.sk-toggleable__content {max-height: 0;max-width: 0;overflow: hidden;text-align: left;background-color: #f0f8ff;}#sk-container-id-1 div.sk-toggleable__content pre {margin: 0.2em;color: black;border-radius: 0.25em;background-color: #f0f8ff;}#sk-container-id-1 input.sk-toggleable__control:checked~div.sk-toggleable__content {max-height: 200px;max-width: 100%;overflow: auto;}#sk-container-id-1 input.sk-toggleable__control:checked~label.sk-toggleable__label-arrow:before {content: \"▾\";}#sk-container-id-1 div.sk-estimator input.sk-toggleable__control:checked~label.sk-toggleable__label {background-color: #d4ebff;}#sk-container-id-1 div.sk-label input.sk-toggleable__control:checked~label.sk-toggleable__label {background-color: #d4ebff;}#sk-container-id-1 input.sk-hidden--visually {border: 0;clip: rect(1px 1px 1px 1px);clip: rect(1px, 1px, 1px, 1px);height: 1px;margin: -1px;overflow: hidden;padding: 0;position: absolute;width: 1px;}#sk-container-id-1 div.sk-estimator {font-family: monospace;background-color: #f0f8ff;border: 1px dotted black;border-radius: 0.25em;box-sizing: border-box;margin-bottom: 0.5em;}#sk-container-id-1 div.sk-estimator:hover {background-color: #d4ebff;}#sk-container-id-1 div.sk-parallel-item::after {content: \"\";width: 100%;border-bottom: 1px solid gray;flex-grow: 1;}#sk-container-id-1 div.sk-label:hover label.sk-toggleable__label {background-color: #d4ebff;}#sk-container-id-1 div.sk-serial::before {content: \"\";position: absolute;border-left: 1px solid gray;box-sizing: border-box;top: 0;bottom: 0;left: 50%;z-index: 0;}#sk-container-id-1 div.sk-serial {display: flex;flex-direction: column;align-items: center;background-color: white;padding-right: 0.2em;padding-left: 0.2em;position: relative;}#sk-container-id-1 div.sk-item {position: relative;z-index: 1;}#sk-container-id-1 div.sk-parallel {display: flex;align-items: stretch;justify-content: center;background-color: white;position: relative;}#sk-container-id-1 div.sk-item::before, #sk-container-id-1 div.sk-parallel-item::before {content: \"\";position: absolute;border-left: 1px solid gray;box-sizing: border-box;top: 0;bottom: 0;left: 50%;z-index: -1;}#sk-container-id-1 div.sk-parallel-item {display: flex;flex-direction: column;z-index: 1;position: relative;background-color: white;}#sk-container-id-1 div.sk-parallel-item:first-child::after {align-self: flex-end;width: 50%;}#sk-container-id-1 div.sk-parallel-item:last-child::after {align-self: flex-start;width: 50%;}#sk-container-id-1 div.sk-parallel-item:only-child::after {width: 0;}#sk-container-id-1 div.sk-dashed-wrapped {border: 1px dashed gray;margin: 0 0.4em 0.5em 0.4em;box-sizing: border-box;padding-bottom: 0.4em;background-color: white;}#sk-container-id-1 div.sk-label label {font-family: monospace;font-weight: bold;display: inline-block;line-height: 1.2em;}#sk-container-id-1 div.sk-label-container {text-align: center;}#sk-container-id-1 div.sk-container {/* jupyter's `normalize.less` sets `[hidden] { display: none; }` but bootstrap.min.css set `[hidden] { display: none !important; }` so we also need the `!important` here to be able to override the default hidden behavior on the sphinx rendered scikit-learn.org. See: https://github.com/scikit-learn/scikit-learn/issues/21755 */display: inline-block !important;position: relative;}#sk-container-id-1 div.sk-text-repr-fallback {display: none;}</style><div id=\"sk-container-id-1\" class=\"sk-top-container\"><div class=\"sk-text-repr-fallback\"><pre>GridSearchCV(cv=TimeSeriesSplit(gap=0, max_train_size=None, n_splits=3, test_size=None),\n",
              "             estimator=Pipeline(steps=[(&#x27;scaler&#x27;, None),\n",
              "                                       (&#x27;mdl&#x27;, KernelRidge(kernel=&#x27;rbf&#x27;))]),\n",
              "             param_grid={&#x27;mdl__alpha&#x27;: array([1.e-03, 1.e-02, 1.e-01, 1.e+00, 1.e+01, 1.e+02]),\n",
              "                         &#x27;mdl__gamma&#x27;: [0.001, 0.01, 0.1],\n",
              "                         &#x27;scaler&#x27;: [None, StandardScaler()]},\n",
              "             scoring=make_scorer(roi))</pre><b>In a Jupyter environment, please rerun this cell to show the HTML representation or trust the notebook. <br />On GitHub, the HTML representation is unable to render, please try loading this page with nbviewer.org.</b></div><div class=\"sk-container\" hidden><div class=\"sk-item sk-dashed-wrapped\"><div class=\"sk-label-container\"><div class=\"sk-label sk-toggleable\"><input class=\"sk-toggleable__control sk-hidden--visually\" id=\"sk-estimator-id-1\" type=\"checkbox\" ><label for=\"sk-estimator-id-1\" class=\"sk-toggleable__label sk-toggleable__label-arrow\">GridSearchCV</label><div class=\"sk-toggleable__content\"><pre>GridSearchCV(cv=TimeSeriesSplit(gap=0, max_train_size=None, n_splits=3, test_size=None),\n",
              "             estimator=Pipeline(steps=[(&#x27;scaler&#x27;, None),\n",
              "                                       (&#x27;mdl&#x27;, KernelRidge(kernel=&#x27;rbf&#x27;))]),\n",
              "             param_grid={&#x27;mdl__alpha&#x27;: array([1.e-03, 1.e-02, 1.e-01, 1.e+00, 1.e+01, 1.e+02]),\n",
              "                         &#x27;mdl__gamma&#x27;: [0.001, 0.01, 0.1],\n",
              "                         &#x27;scaler&#x27;: [None, StandardScaler()]},\n",
              "             scoring=make_scorer(roi))</pre></div></div></div><div class=\"sk-parallel\"><div class=\"sk-parallel-item\"><div class=\"sk-item\"><div class=\"sk-label-container\"><div class=\"sk-label sk-toggleable\"><input class=\"sk-toggleable__control sk-hidden--visually\" id=\"sk-estimator-id-2\" type=\"checkbox\" ><label for=\"sk-estimator-id-2\" class=\"sk-toggleable__label sk-toggleable__label-arrow\">estimator: Pipeline</label><div class=\"sk-toggleable__content\"><pre>Pipeline(steps=[(&#x27;scaler&#x27;, None), (&#x27;mdl&#x27;, KernelRidge(kernel=&#x27;rbf&#x27;))])</pre></div></div></div><div class=\"sk-serial\"><div class=\"sk-item\"><div class=\"sk-serial\"><div class=\"sk-item\"><div class=\"sk-estimator sk-toggleable\"><input class=\"sk-toggleable__control sk-hidden--visually\" id=\"sk-estimator-id-3\" type=\"checkbox\" ><label for=\"sk-estimator-id-3\" class=\"sk-toggleable__label sk-toggleable__label-arrow\">None</label><div class=\"sk-toggleable__content\"><pre>None</pre></div></div></div><div class=\"sk-item\"><div class=\"sk-estimator sk-toggleable\"><input class=\"sk-toggleable__control sk-hidden--visually\" id=\"sk-estimator-id-4\" type=\"checkbox\" ><label for=\"sk-estimator-id-4\" class=\"sk-toggleable__label sk-toggleable__label-arrow\">KernelRidge</label><div class=\"sk-toggleable__content\"><pre>KernelRidge(kernel=&#x27;rbf&#x27;)</pre></div></div></div></div></div></div></div></div></div></div></div></div>"
            ]
          },
          "metadata": {},
          "execution_count": 230
        }
      ]
    },
    {
      "cell_type": "code",
      "source": [
        "res = pd.DataFrame(gs.cv_results_)\n",
        "res.sort_values(\"mean_test_score\", ascending=False).head(4)"
      ],
      "metadata": {
        "id": "i-wxC89oro0l",
        "outputId": "ea4c4746-bc57-43f1-b433-f4cdf322b80e",
        "colab": {
          "base_uri": "https://localhost:8080/",
          "height": 447
        }
      },
      "execution_count": 232,
      "outputs": [
        {
          "output_type": "execute_result",
          "data": {
            "text/plain": [
              "    mean_fit_time  std_fit_time  mean_score_time  std_score_time  \\\n",
              "17       0.170786      0.101799         0.041931        0.013882   \n",
              "8        0.100321      0.065602         0.024469        0.010338   \n",
              "2        0.175751      0.101782         0.058105        0.021386   \n",
              "14       0.213107      0.156337         0.050101        0.019990   \n",
              "\n",
              "   param_mdl__alpha param_mdl__gamma      param_scaler  \\\n",
              "17              0.1              0.1  StandardScaler()   \n",
              "8              0.01             0.01              None   \n",
              "2             0.001             0.01              None   \n",
              "14              0.1             0.01              None   \n",
              "\n",
              "                                               params  split0_test_score  \\\n",
              "17  {'mdl__alpha': 0.1, 'mdl__gamma': 0.1, 'scaler...          -0.179396   \n",
              "8   {'mdl__alpha': 0.01, 'mdl__gamma': 0.01, 'scal...           0.095404   \n",
              "2   {'mdl__alpha': 0.001, 'mdl__gamma': 0.01, 'sca...          -0.135527   \n",
              "14  {'mdl__alpha': 0.1, 'mdl__gamma': 0.01, 'scale...           0.087712   \n",
              "\n",
              "    split1_test_score  split2_test_score  mean_test_score  std_test_score  \\\n",
              "17           0.148859           0.987389         0.318950        0.491287   \n",
              "8           -0.035444           0.846344         0.302101        0.388527   \n",
              "2            0.018342           0.949231         0.277349        0.479228   \n",
              "14           0.090150           0.605152         0.261005        0.243351   \n",
              "\n",
              "    rank_test_score  \n",
              "17                1  \n",
              "8                 2  \n",
              "2                 3  \n",
              "14                4  "
            ],
            "text/html": [
              "\n",
              "  <div id=\"df-63de3388-6664-4705-9be6-9477577c3eaf\">\n",
              "    <div class=\"colab-df-container\">\n",
              "      <div>\n",
              "<style scoped>\n",
              "    .dataframe tbody tr th:only-of-type {\n",
              "        vertical-align: middle;\n",
              "    }\n",
              "\n",
              "    .dataframe tbody tr th {\n",
              "        vertical-align: top;\n",
              "    }\n",
              "\n",
              "    .dataframe thead th {\n",
              "        text-align: right;\n",
              "    }\n",
              "</style>\n",
              "<table border=\"1\" class=\"dataframe\">\n",
              "  <thead>\n",
              "    <tr style=\"text-align: right;\">\n",
              "      <th></th>\n",
              "      <th>mean_fit_time</th>\n",
              "      <th>std_fit_time</th>\n",
              "      <th>mean_score_time</th>\n",
              "      <th>std_score_time</th>\n",
              "      <th>param_mdl__alpha</th>\n",
              "      <th>param_mdl__gamma</th>\n",
              "      <th>param_scaler</th>\n",
              "      <th>params</th>\n",
              "      <th>split0_test_score</th>\n",
              "      <th>split1_test_score</th>\n",
              "      <th>split2_test_score</th>\n",
              "      <th>mean_test_score</th>\n",
              "      <th>std_test_score</th>\n",
              "      <th>rank_test_score</th>\n",
              "    </tr>\n",
              "  </thead>\n",
              "  <tbody>\n",
              "    <tr>\n",
              "      <th>17</th>\n",
              "      <td>0.170786</td>\n",
              "      <td>0.101799</td>\n",
              "      <td>0.041931</td>\n",
              "      <td>0.013882</td>\n",
              "      <td>0.1</td>\n",
              "      <td>0.1</td>\n",
              "      <td>StandardScaler()</td>\n",
              "      <td>{'mdl__alpha': 0.1, 'mdl__gamma': 0.1, 'scaler...</td>\n",
              "      <td>-0.179396</td>\n",
              "      <td>0.148859</td>\n",
              "      <td>0.987389</td>\n",
              "      <td>0.318950</td>\n",
              "      <td>0.491287</td>\n",
              "      <td>1</td>\n",
              "    </tr>\n",
              "    <tr>\n",
              "      <th>8</th>\n",
              "      <td>0.100321</td>\n",
              "      <td>0.065602</td>\n",
              "      <td>0.024469</td>\n",
              "      <td>0.010338</td>\n",
              "      <td>0.01</td>\n",
              "      <td>0.01</td>\n",
              "      <td>None</td>\n",
              "      <td>{'mdl__alpha': 0.01, 'mdl__gamma': 0.01, 'scal...</td>\n",
              "      <td>0.095404</td>\n",
              "      <td>-0.035444</td>\n",
              "      <td>0.846344</td>\n",
              "      <td>0.302101</td>\n",
              "      <td>0.388527</td>\n",
              "      <td>2</td>\n",
              "    </tr>\n",
              "    <tr>\n",
              "      <th>2</th>\n",
              "      <td>0.175751</td>\n",
              "      <td>0.101782</td>\n",
              "      <td>0.058105</td>\n",
              "      <td>0.021386</td>\n",
              "      <td>0.001</td>\n",
              "      <td>0.01</td>\n",
              "      <td>None</td>\n",
              "      <td>{'mdl__alpha': 0.001, 'mdl__gamma': 0.01, 'sca...</td>\n",
              "      <td>-0.135527</td>\n",
              "      <td>0.018342</td>\n",
              "      <td>0.949231</td>\n",
              "      <td>0.277349</td>\n",
              "      <td>0.479228</td>\n",
              "      <td>3</td>\n",
              "    </tr>\n",
              "    <tr>\n",
              "      <th>14</th>\n",
              "      <td>0.213107</td>\n",
              "      <td>0.156337</td>\n",
              "      <td>0.050101</td>\n",
              "      <td>0.019990</td>\n",
              "      <td>0.1</td>\n",
              "      <td>0.01</td>\n",
              "      <td>None</td>\n",
              "      <td>{'mdl__alpha': 0.1, 'mdl__gamma': 0.01, 'scale...</td>\n",
              "      <td>0.087712</td>\n",
              "      <td>0.090150</td>\n",
              "      <td>0.605152</td>\n",
              "      <td>0.261005</td>\n",
              "      <td>0.243351</td>\n",
              "      <td>4</td>\n",
              "    </tr>\n",
              "  </tbody>\n",
              "</table>\n",
              "</div>\n",
              "      <button class=\"colab-df-convert\" onclick=\"convertToInteractive('df-63de3388-6664-4705-9be6-9477577c3eaf')\"\n",
              "              title=\"Convert this dataframe to an interactive table.\"\n",
              "              style=\"display:none;\">\n",
              "        \n",
              "  <svg xmlns=\"http://www.w3.org/2000/svg\" height=\"24px\"viewBox=\"0 0 24 24\"\n",
              "       width=\"24px\">\n",
              "    <path d=\"M0 0h24v24H0V0z\" fill=\"none\"/>\n",
              "    <path d=\"M18.56 5.44l.94 2.06.94-2.06 2.06-.94-2.06-.94-.94-2.06-.94 2.06-2.06.94zm-11 1L8.5 8.5l.94-2.06 2.06-.94-2.06-.94L8.5 2.5l-.94 2.06-2.06.94zm10 10l.94 2.06.94-2.06 2.06-.94-2.06-.94-.94-2.06-.94 2.06-2.06.94z\"/><path d=\"M17.41 7.96l-1.37-1.37c-.4-.4-.92-.59-1.43-.59-.52 0-1.04.2-1.43.59L10.3 9.45l-7.72 7.72c-.78.78-.78 2.05 0 2.83L4 21.41c.39.39.9.59 1.41.59.51 0 1.02-.2 1.41-.59l7.78-7.78 2.81-2.81c.8-.78.8-2.07 0-2.86zM5.41 20L4 18.59l7.72-7.72 1.47 1.35L5.41 20z\"/>\n",
              "  </svg>\n",
              "      </button>\n",
              "      \n",
              "  <style>\n",
              "    .colab-df-container {\n",
              "      display:flex;\n",
              "      flex-wrap:wrap;\n",
              "      gap: 12px;\n",
              "    }\n",
              "\n",
              "    .colab-df-convert {\n",
              "      background-color: #E8F0FE;\n",
              "      border: none;\n",
              "      border-radius: 50%;\n",
              "      cursor: pointer;\n",
              "      display: none;\n",
              "      fill: #1967D2;\n",
              "      height: 32px;\n",
              "      padding: 0 0 0 0;\n",
              "      width: 32px;\n",
              "    }\n",
              "\n",
              "    .colab-df-convert:hover {\n",
              "      background-color: #E2EBFA;\n",
              "      box-shadow: 0px 1px 2px rgba(60, 64, 67, 0.3), 0px 1px 3px 1px rgba(60, 64, 67, 0.15);\n",
              "      fill: #174EA6;\n",
              "    }\n",
              "\n",
              "    [theme=dark] .colab-df-convert {\n",
              "      background-color: #3B4455;\n",
              "      fill: #D2E3FC;\n",
              "    }\n",
              "\n",
              "    [theme=dark] .colab-df-convert:hover {\n",
              "      background-color: #434B5C;\n",
              "      box-shadow: 0px 1px 3px 1px rgba(0, 0, 0, 0.15);\n",
              "      filter: drop-shadow(0px 1px 2px rgba(0, 0, 0, 0.3));\n",
              "      fill: #FFFFFF;\n",
              "    }\n",
              "  </style>\n",
              "\n",
              "      <script>\n",
              "        const buttonEl =\n",
              "          document.querySelector('#df-63de3388-6664-4705-9be6-9477577c3eaf button.colab-df-convert');\n",
              "        buttonEl.style.display =\n",
              "          google.colab.kernel.accessAllowed ? 'block' : 'none';\n",
              "\n",
              "        async function convertToInteractive(key) {\n",
              "          const element = document.querySelector('#df-63de3388-6664-4705-9be6-9477577c3eaf');\n",
              "          const dataTable =\n",
              "            await google.colab.kernel.invokeFunction('convertToInteractive',\n",
              "                                                     [key], {});\n",
              "          if (!dataTable) return;\n",
              "\n",
              "          const docLinkHtml = 'Like what you see? Visit the ' +\n",
              "            '<a target=\"_blank\" href=https://colab.research.google.com/notebooks/data_table.ipynb>data table notebook</a>'\n",
              "            + ' to learn more about interactive tables.';\n",
              "          element.innerHTML = '';\n",
              "          dataTable['output_type'] = 'display_data';\n",
              "          await google.colab.output.renderOutput(dataTable, element);\n",
              "          const docLink = document.createElement('div');\n",
              "          docLink.innerHTML = docLinkHtml;\n",
              "          element.appendChild(docLink);\n",
              "        }\n",
              "      </script>\n",
              "    </div>\n",
              "  </div>\n",
              "  "
            ]
          },
          "metadata": {},
          "execution_count": 232
        }
      ]
    },
    {
      "cell_type": "markdown",
      "metadata": {
        "id": "H522TjpqJuEI"
      },
      "source": [
        "## Aggiunta di variabili predittive\n",
        "\n",
        "- I modelli addestrati sopra sono basati solamente su tre variabili, ovvero i valori di $\\Delta_d$ nei tre giorni precedenti a $d$\n",
        "- Non stiamo utilizzando altre informazioni, quali le variazioni dei valori da un giorno all'altro e i massimi/minimi giornalieri\n",
        "- Creiamo un nuovo insieme di variabili che tenga conto di queste altre informazioni"
      ]
    },
    {
      "cell_type": "code",
      "execution_count": 233,
      "metadata": {
        "id": "N0OxLNciJuEI"
      },
      "outputs": [],
      "source": [
        "features = {}"
      ]
    },
    {
      "cell_type": "markdown",
      "metadata": {
        "id": "G6uZWKlxJuEJ"
      },
      "source": [
        "- Inseriamo inizialmente le feature relative ai valori di $\\Delta_d$ nei giorni precedenti, come prima"
      ]
    },
    {
      "cell_type": "code",
      "execution_count": 234,
      "metadata": {
        "id": "D_POwLWmJuEJ"
      },
      "outputs": [],
      "source": [
        "for n in range(1, 4):   # n da 1 a 3\n",
        "    features[\"DeltaLag{}\".format(n)] = delta.shift(n)"
      ]
    },
    {
      "cell_type": "markdown",
      "metadata": {
        "id": "_P72iNiyJuEJ"
      },
      "source": [
        "- Per cogliere le variazioni da un giorno all'altro, possiamo considerare le differenze tra valori di una stessa variabile tra giorni consecutivi\n",
        "- Consideriamo ad esempio il valore di apertura $O_d$\n",
        "- Possiamo usare come variabile la differenza $O_d-O_{d-1}$ di questo valore da quello del giorno precedente\n",
        "  - anche questa variabile, come $\\Delta_d$, è una differenza tra valori piuttosto che un valore assoluto: non viene influenzata dall'andamento di lungo periodo del mercato\n",
        "- Possiamo ottenere questa variabile dalla differenza tra la serie `open` e lo `shift` di se stessa"
      ]
    },
    {
      "cell_type": "code",
      "execution_count": 235,
      "metadata": {
        "id": "nWz7OVRkJuEK"
      },
      "outputs": [],
      "source": [
        "open_diff = open - open.shift(1)"
      ]
    },
    {
      "cell_type": "markdown",
      "metadata": {
        "id": "bxmoriYzJuEK"
      },
      "source": [
        "- Visualizziamo alcuni valori di tale variabile, affiancati a quelle da cui è ricavata"
      ]
    },
    {
      "cell_type": "code",
      "execution_count": 236,
      "metadata": {
        "id": "ta71SVeIJuEK",
        "outputId": "190f54e9-9fbe-4d94-e29d-d762aa80fd1d",
        "colab": {
          "base_uri": "https://localhost:8080/",
          "height": 238
        }
      },
      "outputs": [
        {
          "output_type": "execute_result",
          "data": {
            "text/plain": [
              "                                  Open     OpenLag1   OpenDiff\n",
              "Date                                                          \n",
              "2001-01-02 00:00:00-05:00  1320.280029          NaN        NaN\n",
              "2001-01-03 00:00:00-05:00  1283.270020  1320.280029 -37.010010\n",
              "2001-01-04 00:00:00-05:00  1347.560059  1283.270020  64.290039\n",
              "2001-01-05 00:00:00-05:00  1333.339966  1347.560059 -14.220093\n",
              "2001-01-08 00:00:00-05:00  1298.349976  1333.339966 -34.989990"
            ],
            "text/html": [
              "\n",
              "  <div id=\"df-ce5e55f6-0f3b-413f-b40b-3d7099b87fc5\">\n",
              "    <div class=\"colab-df-container\">\n",
              "      <div>\n",
              "<style scoped>\n",
              "    .dataframe tbody tr th:only-of-type {\n",
              "        vertical-align: middle;\n",
              "    }\n",
              "\n",
              "    .dataframe tbody tr th {\n",
              "        vertical-align: top;\n",
              "    }\n",
              "\n",
              "    .dataframe thead th {\n",
              "        text-align: right;\n",
              "    }\n",
              "</style>\n",
              "<table border=\"1\" class=\"dataframe\">\n",
              "  <thead>\n",
              "    <tr style=\"text-align: right;\">\n",
              "      <th></th>\n",
              "      <th>Open</th>\n",
              "      <th>OpenLag1</th>\n",
              "      <th>OpenDiff</th>\n",
              "    </tr>\n",
              "    <tr>\n",
              "      <th>Date</th>\n",
              "      <th></th>\n",
              "      <th></th>\n",
              "      <th></th>\n",
              "    </tr>\n",
              "  </thead>\n",
              "  <tbody>\n",
              "    <tr>\n",
              "      <th>2001-01-02 00:00:00-05:00</th>\n",
              "      <td>1320.280029</td>\n",
              "      <td>NaN</td>\n",
              "      <td>NaN</td>\n",
              "    </tr>\n",
              "    <tr>\n",
              "      <th>2001-01-03 00:00:00-05:00</th>\n",
              "      <td>1283.270020</td>\n",
              "      <td>1320.280029</td>\n",
              "      <td>-37.010010</td>\n",
              "    </tr>\n",
              "    <tr>\n",
              "      <th>2001-01-04 00:00:00-05:00</th>\n",
              "      <td>1347.560059</td>\n",
              "      <td>1283.270020</td>\n",
              "      <td>64.290039</td>\n",
              "    </tr>\n",
              "    <tr>\n",
              "      <th>2001-01-05 00:00:00-05:00</th>\n",
              "      <td>1333.339966</td>\n",
              "      <td>1347.560059</td>\n",
              "      <td>-14.220093</td>\n",
              "    </tr>\n",
              "    <tr>\n",
              "      <th>2001-01-08 00:00:00-05:00</th>\n",
              "      <td>1298.349976</td>\n",
              "      <td>1333.339966</td>\n",
              "      <td>-34.989990</td>\n",
              "    </tr>\n",
              "  </tbody>\n",
              "</table>\n",
              "</div>\n",
              "      <button class=\"colab-df-convert\" onclick=\"convertToInteractive('df-ce5e55f6-0f3b-413f-b40b-3d7099b87fc5')\"\n",
              "              title=\"Convert this dataframe to an interactive table.\"\n",
              "              style=\"display:none;\">\n",
              "        \n",
              "  <svg xmlns=\"http://www.w3.org/2000/svg\" height=\"24px\"viewBox=\"0 0 24 24\"\n",
              "       width=\"24px\">\n",
              "    <path d=\"M0 0h24v24H0V0z\" fill=\"none\"/>\n",
              "    <path d=\"M18.56 5.44l.94 2.06.94-2.06 2.06-.94-2.06-.94-.94-2.06-.94 2.06-2.06.94zm-11 1L8.5 8.5l.94-2.06 2.06-.94-2.06-.94L8.5 2.5l-.94 2.06-2.06.94zm10 10l.94 2.06.94-2.06 2.06-.94-2.06-.94-.94-2.06-.94 2.06-2.06.94z\"/><path d=\"M17.41 7.96l-1.37-1.37c-.4-.4-.92-.59-1.43-.59-.52 0-1.04.2-1.43.59L10.3 9.45l-7.72 7.72c-.78.78-.78 2.05 0 2.83L4 21.41c.39.39.9.59 1.41.59.51 0 1.02-.2 1.41-.59l7.78-7.78 2.81-2.81c.8-.78.8-2.07 0-2.86zM5.41 20L4 18.59l7.72-7.72 1.47 1.35L5.41 20z\"/>\n",
              "  </svg>\n",
              "      </button>\n",
              "      \n",
              "  <style>\n",
              "    .colab-df-container {\n",
              "      display:flex;\n",
              "      flex-wrap:wrap;\n",
              "      gap: 12px;\n",
              "    }\n",
              "\n",
              "    .colab-df-convert {\n",
              "      background-color: #E8F0FE;\n",
              "      border: none;\n",
              "      border-radius: 50%;\n",
              "      cursor: pointer;\n",
              "      display: none;\n",
              "      fill: #1967D2;\n",
              "      height: 32px;\n",
              "      padding: 0 0 0 0;\n",
              "      width: 32px;\n",
              "    }\n",
              "\n",
              "    .colab-df-convert:hover {\n",
              "      background-color: #E2EBFA;\n",
              "      box-shadow: 0px 1px 2px rgba(60, 64, 67, 0.3), 0px 1px 3px 1px rgba(60, 64, 67, 0.15);\n",
              "      fill: #174EA6;\n",
              "    }\n",
              "\n",
              "    [theme=dark] .colab-df-convert {\n",
              "      background-color: #3B4455;\n",
              "      fill: #D2E3FC;\n",
              "    }\n",
              "\n",
              "    [theme=dark] .colab-df-convert:hover {\n",
              "      background-color: #434B5C;\n",
              "      box-shadow: 0px 1px 3px 1px rgba(0, 0, 0, 0.15);\n",
              "      filter: drop-shadow(0px 1px 2px rgba(0, 0, 0, 0.3));\n",
              "      fill: #FFFFFF;\n",
              "    }\n",
              "  </style>\n",
              "\n",
              "      <script>\n",
              "        const buttonEl =\n",
              "          document.querySelector('#df-ce5e55f6-0f3b-413f-b40b-3d7099b87fc5 button.colab-df-convert');\n",
              "        buttonEl.style.display =\n",
              "          google.colab.kernel.accessAllowed ? 'block' : 'none';\n",
              "\n",
              "        async function convertToInteractive(key) {\n",
              "          const element = document.querySelector('#df-ce5e55f6-0f3b-413f-b40b-3d7099b87fc5');\n",
              "          const dataTable =\n",
              "            await google.colab.kernel.invokeFunction('convertToInteractive',\n",
              "                                                     [key], {});\n",
              "          if (!dataTable) return;\n",
              "\n",
              "          const docLinkHtml = 'Like what you see? Visit the ' +\n",
              "            '<a target=\"_blank\" href=https://colab.research.google.com/notebooks/data_table.ipynb>data table notebook</a>'\n",
              "            + ' to learn more about interactive tables.';\n",
              "          element.innerHTML = '';\n",
              "          dataTable['output_type'] = 'display_data';\n",
              "          await google.colab.output.renderOutput(dataTable, element);\n",
              "          const docLink = document.createElement('div');\n",
              "          docLink.innerHTML = docLinkHtml;\n",
              "          element.appendChild(docLink);\n",
              "        }\n",
              "      </script>\n",
              "    </div>\n",
              "  </div>\n",
              "  "
            ]
          },
          "metadata": {},
          "execution_count": 236
        }
      ],
      "source": [
        "pd.DataFrame({\n",
        "    \"Open\": open,\n",
        "    \"OpenLag1\": open.shift(1),\n",
        "    \"OpenDiff\": open_diff\n",
        "}).head(5)"
      ]
    },
    {
      "cell_type": "markdown",
      "metadata": {
        "id": "0aBqi5TuJuEK"
      },
      "source": [
        "- scikit-learn offre un metodo `diff(n)` per ottenere direttamente la differenza tra una serie e il suo `shift(n)`"
      ]
    },
    {
      "cell_type": "code",
      "execution_count": 237,
      "metadata": {
        "id": "l5CQVY44JuEL",
        "outputId": "0f4c7e48-5697-478c-9174-9c2981333819",
        "colab": {
          "base_uri": "https://localhost:8080/"
        }
      },
      "outputs": [
        {
          "output_type": "execute_result",
          "data": {
            "text/plain": [
              "Date\n",
              "2001-01-02 00:00:00-05:00          NaN\n",
              "2001-01-03 00:00:00-05:00   -37.010010\n",
              "2001-01-04 00:00:00-05:00    64.290039\n",
              "2001-01-05 00:00:00-05:00   -14.220093\n",
              "2001-01-08 00:00:00-05:00   -34.989990\n",
              "Name: Open, dtype: float64"
            ]
          },
          "metadata": {},
          "execution_count": 237
        }
      ],
      "source": [
        "open.diff()   .head()"
      ]
    },
    {
      "cell_type": "markdown",
      "metadata": {
        "id": "YQHvt-FaJuEL"
      },
      "source": [
        "- Il metodo `equals` permette di verificare che una serie (o frame) sia identica ad un'altra"
      ]
    },
    {
      "cell_type": "code",
      "execution_count": null,
      "metadata": {
        "id": "7l6GT-JfJuEL",
        "outputId": "887525d1-4c27-4473-abed-ce0b3101c30c"
      },
      "outputs": [
        {
          "data": {
            "text/plain": [
              "True"
            ]
          },
          "execution_count": 81,
          "metadata": {},
          "output_type": "execute_result"
        }
      ],
      "source": [
        "open.diff() .equals( open - open.shift(1) )"
      ]
    },
    {
      "cell_type": "markdown",
      "metadata": {
        "id": "2aAg6OlhJuEL"
      },
      "source": [
        "- Aggiungiamo ad esempio alle feature le differenze da un giorno all'altro dei valori di `high` e `low`, ovvero i massimi e minimi di giornata\n",
        "  - tenere presente che ad ogni giornata $d$ non conosciamo subito $H_d$ e $L_d$, per cui utilizziamo invece $H_{d-1}$ e $L_{d-1}$\n",
        "  - ad es., per ottenere $H_{d-1}-H_{d-2}$, $H_{d-2}-H_{d-3}$ e $H_{d-3}-H_{d-4}$ prendiamo $H_{d}-H_{d-1}$ e applichiamo lo `shift` di 1, 2 e 3 giorni\n",
        "  - _evitiamo quì di usare le differenze $O_d$ e $C_{d-1}$, in quanto in questi dati sono molto correlate a $\\Delta_d$_"
      ]
    },
    {
      "cell_type": "code",
      "execution_count": 238,
      "metadata": {
        "id": "KVTJ5X-PJuEM"
      },
      "outputs": [],
      "source": [
        "for n in range(1, 4): # n da 1 a 3\n",
        "    features[\"HighDiff{}\".format(n)] = high.diff().shift(n)\n",
        "    features[\"LowDiff{}\".format(n)] = low.diff().shift(n)"
      ]
    },
    {
      "cell_type": "markdown",
      "metadata": {
        "id": "FcqrjlsJJuEM"
      },
      "source": [
        "- Usiamo la funzione `prepare_data` definita sopra per creare il dataset completo con le variabili scelte"
      ]
    },
    {
      "cell_type": "code",
      "execution_count": 239,
      "metadata": {
        "id": "U7cpjA-cJuEM"
      },
      "outputs": [],
      "source": [
        "X, y = prepare_data(features, delta)"
      ]
    },
    {
      "cell_type": "markdown",
      "metadata": {
        "id": "IodY9pCOJuEN"
      },
      "source": [
        "- Possiamo visualizzare le prime righe del frame con le variabili generate"
      ]
    },
    {
      "cell_type": "code",
      "execution_count": 240,
      "metadata": {
        "id": "TmDxxRKuJuEN",
        "outputId": "6cc0db81-16fa-43ff-8960-ad35f4d0e3ba",
        "colab": {
          "base_uri": "https://localhost:8080/",
          "height": 238
        }
      },
      "outputs": [
        {
          "output_type": "execute_result",
          "data": {
            "text/plain": [
              "                           DeltaLag1  DeltaLag2  DeltaLag3  HighDiff1  \\\n",
              "Date                                                                    \n",
              "2001-01-08 00:00:00-05:00 -34.989990 -14.220093  64.290039 -15.469971   \n",
              "2001-01-09 00:00:00-05:00  -2.489990 -34.989990 -14.220093 -36.420044   \n",
              "2001-01-10 00:00:00-05:00   4.940063  -2.489990 -34.989990  13.369995   \n",
              "2001-01-11 00:00:00-05:00  12.469971   4.940063  -2.489990   2.040039   \n",
              "2001-01-12 00:00:00-05:00  13.549927  12.469971   4.940063  18.429932   \n",
              "\n",
              "                            LowDiff1  HighDiff2   LowDiff2  HighDiff3  \\\n",
              "Date                                                                    \n",
              "2001-01-08 00:00:00-05:00 -34.190063   2.479980  54.520020  27.479980   \n",
              "2001-01-09 00:00:00-05:00 -18.659912 -15.469971 -34.190063   2.479980   \n",
              "2001-01-10 00:00:00-05:00  18.849976 -36.420044 -18.659912 -15.469971   \n",
              "2001-01-11 00:00:00-05:00  -7.859985  13.369995  18.849976 -36.420044   \n",
              "2001-01-12 00:00:00-05:00  22.439941   2.040039  -7.859985  13.369995   \n",
              "\n",
              "                            LowDiff3  \n",
              "Date                                  \n",
              "2001-01-08 00:00:00-05:00  -1.430054  \n",
              "2001-01-09 00:00:00-05:00  54.520020  \n",
              "2001-01-10 00:00:00-05:00 -34.190063  \n",
              "2001-01-11 00:00:00-05:00 -18.659912  \n",
              "2001-01-12 00:00:00-05:00  18.849976  "
            ],
            "text/html": [
              "\n",
              "  <div id=\"df-9f71a4ef-56a5-499a-9dfa-0d389df6c491\">\n",
              "    <div class=\"colab-df-container\">\n",
              "      <div>\n",
              "<style scoped>\n",
              "    .dataframe tbody tr th:only-of-type {\n",
              "        vertical-align: middle;\n",
              "    }\n",
              "\n",
              "    .dataframe tbody tr th {\n",
              "        vertical-align: top;\n",
              "    }\n",
              "\n",
              "    .dataframe thead th {\n",
              "        text-align: right;\n",
              "    }\n",
              "</style>\n",
              "<table border=\"1\" class=\"dataframe\">\n",
              "  <thead>\n",
              "    <tr style=\"text-align: right;\">\n",
              "      <th></th>\n",
              "      <th>DeltaLag1</th>\n",
              "      <th>DeltaLag2</th>\n",
              "      <th>DeltaLag3</th>\n",
              "      <th>HighDiff1</th>\n",
              "      <th>LowDiff1</th>\n",
              "      <th>HighDiff2</th>\n",
              "      <th>LowDiff2</th>\n",
              "      <th>HighDiff3</th>\n",
              "      <th>LowDiff3</th>\n",
              "    </tr>\n",
              "    <tr>\n",
              "      <th>Date</th>\n",
              "      <th></th>\n",
              "      <th></th>\n",
              "      <th></th>\n",
              "      <th></th>\n",
              "      <th></th>\n",
              "      <th></th>\n",
              "      <th></th>\n",
              "      <th></th>\n",
              "      <th></th>\n",
              "    </tr>\n",
              "  </thead>\n",
              "  <tbody>\n",
              "    <tr>\n",
              "      <th>2001-01-08 00:00:00-05:00</th>\n",
              "      <td>-34.989990</td>\n",
              "      <td>-14.220093</td>\n",
              "      <td>64.290039</td>\n",
              "      <td>-15.469971</td>\n",
              "      <td>-34.190063</td>\n",
              "      <td>2.479980</td>\n",
              "      <td>54.520020</td>\n",
              "      <td>27.479980</td>\n",
              "      <td>-1.430054</td>\n",
              "    </tr>\n",
              "    <tr>\n",
              "      <th>2001-01-09 00:00:00-05:00</th>\n",
              "      <td>-2.489990</td>\n",
              "      <td>-34.989990</td>\n",
              "      <td>-14.220093</td>\n",
              "      <td>-36.420044</td>\n",
              "      <td>-18.659912</td>\n",
              "      <td>-15.469971</td>\n",
              "      <td>-34.190063</td>\n",
              "      <td>2.479980</td>\n",
              "      <td>54.520020</td>\n",
              "    </tr>\n",
              "    <tr>\n",
              "      <th>2001-01-10 00:00:00-05:00</th>\n",
              "      <td>4.940063</td>\n",
              "      <td>-2.489990</td>\n",
              "      <td>-34.989990</td>\n",
              "      <td>13.369995</td>\n",
              "      <td>18.849976</td>\n",
              "      <td>-36.420044</td>\n",
              "      <td>-18.659912</td>\n",
              "      <td>-15.469971</td>\n",
              "      <td>-34.190063</td>\n",
              "    </tr>\n",
              "    <tr>\n",
              "      <th>2001-01-11 00:00:00-05:00</th>\n",
              "      <td>12.469971</td>\n",
              "      <td>4.940063</td>\n",
              "      <td>-2.489990</td>\n",
              "      <td>2.040039</td>\n",
              "      <td>-7.859985</td>\n",
              "      <td>13.369995</td>\n",
              "      <td>18.849976</td>\n",
              "      <td>-36.420044</td>\n",
              "      <td>-18.659912</td>\n",
              "    </tr>\n",
              "    <tr>\n",
              "      <th>2001-01-12 00:00:00-05:00</th>\n",
              "      <td>13.549927</td>\n",
              "      <td>12.469971</td>\n",
              "      <td>4.940063</td>\n",
              "      <td>18.429932</td>\n",
              "      <td>22.439941</td>\n",
              "      <td>2.040039</td>\n",
              "      <td>-7.859985</td>\n",
              "      <td>13.369995</td>\n",
              "      <td>18.849976</td>\n",
              "    </tr>\n",
              "  </tbody>\n",
              "</table>\n",
              "</div>\n",
              "      <button class=\"colab-df-convert\" onclick=\"convertToInteractive('df-9f71a4ef-56a5-499a-9dfa-0d389df6c491')\"\n",
              "              title=\"Convert this dataframe to an interactive table.\"\n",
              "              style=\"display:none;\">\n",
              "        \n",
              "  <svg xmlns=\"http://www.w3.org/2000/svg\" height=\"24px\"viewBox=\"0 0 24 24\"\n",
              "       width=\"24px\">\n",
              "    <path d=\"M0 0h24v24H0V0z\" fill=\"none\"/>\n",
              "    <path d=\"M18.56 5.44l.94 2.06.94-2.06 2.06-.94-2.06-.94-.94-2.06-.94 2.06-2.06.94zm-11 1L8.5 8.5l.94-2.06 2.06-.94-2.06-.94L8.5 2.5l-.94 2.06-2.06.94zm10 10l.94 2.06.94-2.06 2.06-.94-2.06-.94-.94-2.06-.94 2.06-2.06.94z\"/><path d=\"M17.41 7.96l-1.37-1.37c-.4-.4-.92-.59-1.43-.59-.52 0-1.04.2-1.43.59L10.3 9.45l-7.72 7.72c-.78.78-.78 2.05 0 2.83L4 21.41c.39.39.9.59 1.41.59.51 0 1.02-.2 1.41-.59l7.78-7.78 2.81-2.81c.8-.78.8-2.07 0-2.86zM5.41 20L4 18.59l7.72-7.72 1.47 1.35L5.41 20z\"/>\n",
              "  </svg>\n",
              "      </button>\n",
              "      \n",
              "  <style>\n",
              "    .colab-df-container {\n",
              "      display:flex;\n",
              "      flex-wrap:wrap;\n",
              "      gap: 12px;\n",
              "    }\n",
              "\n",
              "    .colab-df-convert {\n",
              "      background-color: #E8F0FE;\n",
              "      border: none;\n",
              "      border-radius: 50%;\n",
              "      cursor: pointer;\n",
              "      display: none;\n",
              "      fill: #1967D2;\n",
              "      height: 32px;\n",
              "      padding: 0 0 0 0;\n",
              "      width: 32px;\n",
              "    }\n",
              "\n",
              "    .colab-df-convert:hover {\n",
              "      background-color: #E2EBFA;\n",
              "      box-shadow: 0px 1px 2px rgba(60, 64, 67, 0.3), 0px 1px 3px 1px rgba(60, 64, 67, 0.15);\n",
              "      fill: #174EA6;\n",
              "    }\n",
              "\n",
              "    [theme=dark] .colab-df-convert {\n",
              "      background-color: #3B4455;\n",
              "      fill: #D2E3FC;\n",
              "    }\n",
              "\n",
              "    [theme=dark] .colab-df-convert:hover {\n",
              "      background-color: #434B5C;\n",
              "      box-shadow: 0px 1px 3px 1px rgba(0, 0, 0, 0.15);\n",
              "      filter: drop-shadow(0px 1px 2px rgba(0, 0, 0, 0.3));\n",
              "      fill: #FFFFFF;\n",
              "    }\n",
              "  </style>\n",
              "\n",
              "      <script>\n",
              "        const buttonEl =\n",
              "          document.querySelector('#df-9f71a4ef-56a5-499a-9dfa-0d389df6c491 button.colab-df-convert');\n",
              "        buttonEl.style.display =\n",
              "          google.colab.kernel.accessAllowed ? 'block' : 'none';\n",
              "\n",
              "        async function convertToInteractive(key) {\n",
              "          const element = document.querySelector('#df-9f71a4ef-56a5-499a-9dfa-0d389df6c491');\n",
              "          const dataTable =\n",
              "            await google.colab.kernel.invokeFunction('convertToInteractive',\n",
              "                                                     [key], {});\n",
              "          if (!dataTable) return;\n",
              "\n",
              "          const docLinkHtml = 'Like what you see? Visit the ' +\n",
              "            '<a target=\"_blank\" href=https://colab.research.google.com/notebooks/data_table.ipynb>data table notebook</a>'\n",
              "            + ' to learn more about interactive tables.';\n",
              "          element.innerHTML = '';\n",
              "          dataTable['output_type'] = 'display_data';\n",
              "          await google.colab.output.renderOutput(dataTable, element);\n",
              "          const docLink = document.createElement('div');\n",
              "          docLink.innerHTML = docLinkHtml;\n",
              "          element.appendChild(docLink);\n",
              "        }\n",
              "      </script>\n",
              "    </div>\n",
              "  </div>\n",
              "  "
            ]
          },
          "metadata": {},
          "execution_count": 240
        }
      ],
      "source": [
        "X.head(5)"
      ]
    },
    {
      "cell_type": "markdown",
      "metadata": {
        "id": "5XQSLhccJuEO"
      },
      "source": [
        "### Esercizio 8: Test modelli con nuove feature\n",
        "\n",
        "- **(8a)** Addestrare sui nuovi dati un modello di regressione lasso con $\\alpha=3$ e verificare quali feature non vengono escluse\n",
        "- **(8b)** Eseguire la cross validation di un modello di regressione lineare semplice, con gli stessi criteri di suddivisione dati e valutazione usati sopra\n",
        "- **(8c)** Eseguire la grid search degli iperparametri di un modello kernel ridge, usando le stesse specifiche dell'esercizio 7"
      ]
    },
    {
      "cell_type": "code",
      "source": [
        "from sklearn.linear_model import Lasso"
      ],
      "metadata": {
        "id": "hK1MhQRnuNe2"
      },
      "execution_count": 241,
      "outputs": []
    },
    {
      "cell_type": "code",
      "source": [
        "# a\n",
        "mdl = Lasso(3)\n",
        "mdl.fit(X, y)\n",
        "pd.DataFrame(mdl.coef_, X.columns)"
      ],
      "metadata": {
        "id": "OoGotXJYujOj",
        "outputId": "ef23387c-5e7b-4dfd-8f0f-2ec84017f2f0",
        "colab": {
          "base_uri": "https://localhost:8080/",
          "height": 332
        }
      },
      "execution_count": 244,
      "outputs": [
        {
          "output_type": "execute_result",
          "data": {
            "text/plain": [
              "                  0\n",
              "DeltaLag1 -0.051997\n",
              "DeltaLag2 -0.039001\n",
              "DeltaLag3  0.043048\n",
              "HighDiff1  0.000000\n",
              "LowDiff1  -0.051650\n",
              "HighDiff2 -0.007102\n",
              "LowDiff2  -0.000000\n",
              "HighDiff3  0.000000\n",
              "LowDiff3  -0.028046"
            ],
            "text/html": [
              "\n",
              "  <div id=\"df-9f53e0ef-725b-4339-aa5a-c13b169ec358\">\n",
              "    <div class=\"colab-df-container\">\n",
              "      <div>\n",
              "<style scoped>\n",
              "    .dataframe tbody tr th:only-of-type {\n",
              "        vertical-align: middle;\n",
              "    }\n",
              "\n",
              "    .dataframe tbody tr th {\n",
              "        vertical-align: top;\n",
              "    }\n",
              "\n",
              "    .dataframe thead th {\n",
              "        text-align: right;\n",
              "    }\n",
              "</style>\n",
              "<table border=\"1\" class=\"dataframe\">\n",
              "  <thead>\n",
              "    <tr style=\"text-align: right;\">\n",
              "      <th></th>\n",
              "      <th>0</th>\n",
              "    </tr>\n",
              "  </thead>\n",
              "  <tbody>\n",
              "    <tr>\n",
              "      <th>DeltaLag1</th>\n",
              "      <td>-0.051997</td>\n",
              "    </tr>\n",
              "    <tr>\n",
              "      <th>DeltaLag2</th>\n",
              "      <td>-0.039001</td>\n",
              "    </tr>\n",
              "    <tr>\n",
              "      <th>DeltaLag3</th>\n",
              "      <td>0.043048</td>\n",
              "    </tr>\n",
              "    <tr>\n",
              "      <th>HighDiff1</th>\n",
              "      <td>0.000000</td>\n",
              "    </tr>\n",
              "    <tr>\n",
              "      <th>LowDiff1</th>\n",
              "      <td>-0.051650</td>\n",
              "    </tr>\n",
              "    <tr>\n",
              "      <th>HighDiff2</th>\n",
              "      <td>-0.007102</td>\n",
              "    </tr>\n",
              "    <tr>\n",
              "      <th>LowDiff2</th>\n",
              "      <td>-0.000000</td>\n",
              "    </tr>\n",
              "    <tr>\n",
              "      <th>HighDiff3</th>\n",
              "      <td>0.000000</td>\n",
              "    </tr>\n",
              "    <tr>\n",
              "      <th>LowDiff3</th>\n",
              "      <td>-0.028046</td>\n",
              "    </tr>\n",
              "  </tbody>\n",
              "</table>\n",
              "</div>\n",
              "      <button class=\"colab-df-convert\" onclick=\"convertToInteractive('df-9f53e0ef-725b-4339-aa5a-c13b169ec358')\"\n",
              "              title=\"Convert this dataframe to an interactive table.\"\n",
              "              style=\"display:none;\">\n",
              "        \n",
              "  <svg xmlns=\"http://www.w3.org/2000/svg\" height=\"24px\"viewBox=\"0 0 24 24\"\n",
              "       width=\"24px\">\n",
              "    <path d=\"M0 0h24v24H0V0z\" fill=\"none\"/>\n",
              "    <path d=\"M18.56 5.44l.94 2.06.94-2.06 2.06-.94-2.06-.94-.94-2.06-.94 2.06-2.06.94zm-11 1L8.5 8.5l.94-2.06 2.06-.94-2.06-.94L8.5 2.5l-.94 2.06-2.06.94zm10 10l.94 2.06.94-2.06 2.06-.94-2.06-.94-.94-2.06-.94 2.06-2.06.94z\"/><path d=\"M17.41 7.96l-1.37-1.37c-.4-.4-.92-.59-1.43-.59-.52 0-1.04.2-1.43.59L10.3 9.45l-7.72 7.72c-.78.78-.78 2.05 0 2.83L4 21.41c.39.39.9.59 1.41.59.51 0 1.02-.2 1.41-.59l7.78-7.78 2.81-2.81c.8-.78.8-2.07 0-2.86zM5.41 20L4 18.59l7.72-7.72 1.47 1.35L5.41 20z\"/>\n",
              "  </svg>\n",
              "      </button>\n",
              "      \n",
              "  <style>\n",
              "    .colab-df-container {\n",
              "      display:flex;\n",
              "      flex-wrap:wrap;\n",
              "      gap: 12px;\n",
              "    }\n",
              "\n",
              "    .colab-df-convert {\n",
              "      background-color: #E8F0FE;\n",
              "      border: none;\n",
              "      border-radius: 50%;\n",
              "      cursor: pointer;\n",
              "      display: none;\n",
              "      fill: #1967D2;\n",
              "      height: 32px;\n",
              "      padding: 0 0 0 0;\n",
              "      width: 32px;\n",
              "    }\n",
              "\n",
              "    .colab-df-convert:hover {\n",
              "      background-color: #E2EBFA;\n",
              "      box-shadow: 0px 1px 2px rgba(60, 64, 67, 0.3), 0px 1px 3px 1px rgba(60, 64, 67, 0.15);\n",
              "      fill: #174EA6;\n",
              "    }\n",
              "\n",
              "    [theme=dark] .colab-df-convert {\n",
              "      background-color: #3B4455;\n",
              "      fill: #D2E3FC;\n",
              "    }\n",
              "\n",
              "    [theme=dark] .colab-df-convert:hover {\n",
              "      background-color: #434B5C;\n",
              "      box-shadow: 0px 1px 3px 1px rgba(0, 0, 0, 0.15);\n",
              "      filter: drop-shadow(0px 1px 2px rgba(0, 0, 0, 0.3));\n",
              "      fill: #FFFFFF;\n",
              "    }\n",
              "  </style>\n",
              "\n",
              "      <script>\n",
              "        const buttonEl =\n",
              "          document.querySelector('#df-9f53e0ef-725b-4339-aa5a-c13b169ec358 button.colab-df-convert');\n",
              "        buttonEl.style.display =\n",
              "          google.colab.kernel.accessAllowed ? 'block' : 'none';\n",
              "\n",
              "        async function convertToInteractive(key) {\n",
              "          const element = document.querySelector('#df-9f53e0ef-725b-4339-aa5a-c13b169ec358');\n",
              "          const dataTable =\n",
              "            await google.colab.kernel.invokeFunction('convertToInteractive',\n",
              "                                                     [key], {});\n",
              "          if (!dataTable) return;\n",
              "\n",
              "          const docLinkHtml = 'Like what you see? Visit the ' +\n",
              "            '<a target=\"_blank\" href=https://colab.research.google.com/notebooks/data_table.ipynb>data table notebook</a>'\n",
              "            + ' to learn more about interactive tables.';\n",
              "          element.innerHTML = '';\n",
              "          dataTable['output_type'] = 'display_data';\n",
              "          await google.colab.output.renderOutput(dataTable, element);\n",
              "          const docLink = document.createElement('div');\n",
              "          docLink.innerHTML = docLinkHtml;\n",
              "          element.appendChild(docLink);\n",
              "        }\n",
              "      </script>\n",
              "    </div>\n",
              "  </div>\n",
              "  "
            ]
          },
          "metadata": {},
          "execution_count": 244
        }
      ]
    },
    {
      "cell_type": "code",
      "source": [
        "# b\n",
        "results = cross_validate(LinearRegression(), X, y, cv=tss, scoring=roi_scorer)\n",
        "np.mean(results[\"test_score\"])"
      ],
      "metadata": {
        "id": "lBOUVKixvNwf",
        "outputId": "e1f47a8e-52c3-4bc5-ec75-7d6e80f06945",
        "colab": {
          "base_uri": "https://localhost:8080/"
        }
      },
      "execution_count": 248,
      "outputs": [
        {
          "output_type": "execute_result",
          "data": {
            "text/plain": [
              "0.1810576917654021"
            ]
          },
          "metadata": {},
          "execution_count": 248
        }
      ]
    },
    {
      "cell_type": "code",
      "source": [
        "# c\n",
        "mdl = Pipeline([\n",
        "    (\"scaler\", None),\n",
        "    (\"mdl\", KernelRidge(kernel=\"rbf\"))\n",
        "])\n",
        "grid = {\n",
        "    \"scaler\": [None, StandardScaler()],\n",
        "    \"mdl__alpha\": np.logspace(-3, 2, 6),\n",
        "    \"mdl__gamma\": [0.001, 0.01, 0.1]\n",
        "}\n",
        "gs = GridSearchCV(mdl, grid, cv=tss, scoring=roi_scorer)\n",
        "gs.fit(X, y)\n",
        "res = pd.DataFrame(gs.cv_results_)\n",
        "res.sort_values(\"mean_test_score\", ascending=False).head(3)"
      ],
      "metadata": {
        "id": "y1jtuDEevyDL",
        "outputId": "a68fc0b0-0258-4669-85f7-4f934b0081e7",
        "colab": {
          "base_uri": "https://localhost:8080/",
          "height": 364
        }
      },
      "execution_count": 249,
      "outputs": [
        {
          "output_type": "execute_result",
          "data": {
            "text/plain": [
              "    mean_fit_time  std_fit_time  mean_score_time  std_score_time  \\\n",
              "15       0.111539      0.067973         0.018110        0.005547   \n",
              "14       0.103698      0.068644         0.021645        0.002807   \n",
              "7        0.136298      0.079999         0.028267        0.005630   \n",
              "\n",
              "   param_mdl__alpha param_mdl__gamma      param_scaler  \\\n",
              "15              0.1             0.01  StandardScaler()   \n",
              "14              0.1             0.01              None   \n",
              "7              0.01            0.001  StandardScaler()   \n",
              "\n",
              "                                               params  split0_test_score  \\\n",
              "15  {'mdl__alpha': 0.1, 'mdl__gamma': 0.01, 'scale...           0.089293   \n",
              "14  {'mdl__alpha': 0.1, 'mdl__gamma': 0.01, 'scale...           0.135564   \n",
              "7   {'mdl__alpha': 0.01, 'mdl__gamma': 0.001, 'sca...           0.098224   \n",
              "\n",
              "    split1_test_score  split2_test_score  mean_test_score  std_test_score  \\\n",
              "15           0.002383           0.787928         0.293201        0.351619   \n",
              "14           0.206851           0.490796         0.277737        0.153440   \n",
              "7           -0.064361           0.679617         0.237827        0.319367   \n",
              "\n",
              "    rank_test_score  \n",
              "15                1  \n",
              "14                2  \n",
              "7                 3  "
            ],
            "text/html": [
              "\n",
              "  <div id=\"df-a05099eb-f77c-4aa7-b5bc-8d5538a3f9ca\">\n",
              "    <div class=\"colab-df-container\">\n",
              "      <div>\n",
              "<style scoped>\n",
              "    .dataframe tbody tr th:only-of-type {\n",
              "        vertical-align: middle;\n",
              "    }\n",
              "\n",
              "    .dataframe tbody tr th {\n",
              "        vertical-align: top;\n",
              "    }\n",
              "\n",
              "    .dataframe thead th {\n",
              "        text-align: right;\n",
              "    }\n",
              "</style>\n",
              "<table border=\"1\" class=\"dataframe\">\n",
              "  <thead>\n",
              "    <tr style=\"text-align: right;\">\n",
              "      <th></th>\n",
              "      <th>mean_fit_time</th>\n",
              "      <th>std_fit_time</th>\n",
              "      <th>mean_score_time</th>\n",
              "      <th>std_score_time</th>\n",
              "      <th>param_mdl__alpha</th>\n",
              "      <th>param_mdl__gamma</th>\n",
              "      <th>param_scaler</th>\n",
              "      <th>params</th>\n",
              "      <th>split0_test_score</th>\n",
              "      <th>split1_test_score</th>\n",
              "      <th>split2_test_score</th>\n",
              "      <th>mean_test_score</th>\n",
              "      <th>std_test_score</th>\n",
              "      <th>rank_test_score</th>\n",
              "    </tr>\n",
              "  </thead>\n",
              "  <tbody>\n",
              "    <tr>\n",
              "      <th>15</th>\n",
              "      <td>0.111539</td>\n",
              "      <td>0.067973</td>\n",
              "      <td>0.018110</td>\n",
              "      <td>0.005547</td>\n",
              "      <td>0.1</td>\n",
              "      <td>0.01</td>\n",
              "      <td>StandardScaler()</td>\n",
              "      <td>{'mdl__alpha': 0.1, 'mdl__gamma': 0.01, 'scale...</td>\n",
              "      <td>0.089293</td>\n",
              "      <td>0.002383</td>\n",
              "      <td>0.787928</td>\n",
              "      <td>0.293201</td>\n",
              "      <td>0.351619</td>\n",
              "      <td>1</td>\n",
              "    </tr>\n",
              "    <tr>\n",
              "      <th>14</th>\n",
              "      <td>0.103698</td>\n",
              "      <td>0.068644</td>\n",
              "      <td>0.021645</td>\n",
              "      <td>0.002807</td>\n",
              "      <td>0.1</td>\n",
              "      <td>0.01</td>\n",
              "      <td>None</td>\n",
              "      <td>{'mdl__alpha': 0.1, 'mdl__gamma': 0.01, 'scale...</td>\n",
              "      <td>0.135564</td>\n",
              "      <td>0.206851</td>\n",
              "      <td>0.490796</td>\n",
              "      <td>0.277737</td>\n",
              "      <td>0.153440</td>\n",
              "      <td>2</td>\n",
              "    </tr>\n",
              "    <tr>\n",
              "      <th>7</th>\n",
              "      <td>0.136298</td>\n",
              "      <td>0.079999</td>\n",
              "      <td>0.028267</td>\n",
              "      <td>0.005630</td>\n",
              "      <td>0.01</td>\n",
              "      <td>0.001</td>\n",
              "      <td>StandardScaler()</td>\n",
              "      <td>{'mdl__alpha': 0.01, 'mdl__gamma': 0.001, 'sca...</td>\n",
              "      <td>0.098224</td>\n",
              "      <td>-0.064361</td>\n",
              "      <td>0.679617</td>\n",
              "      <td>0.237827</td>\n",
              "      <td>0.319367</td>\n",
              "      <td>3</td>\n",
              "    </tr>\n",
              "  </tbody>\n",
              "</table>\n",
              "</div>\n",
              "      <button class=\"colab-df-convert\" onclick=\"convertToInteractive('df-a05099eb-f77c-4aa7-b5bc-8d5538a3f9ca')\"\n",
              "              title=\"Convert this dataframe to an interactive table.\"\n",
              "              style=\"display:none;\">\n",
              "        \n",
              "  <svg xmlns=\"http://www.w3.org/2000/svg\" height=\"24px\"viewBox=\"0 0 24 24\"\n",
              "       width=\"24px\">\n",
              "    <path d=\"M0 0h24v24H0V0z\" fill=\"none\"/>\n",
              "    <path d=\"M18.56 5.44l.94 2.06.94-2.06 2.06-.94-2.06-.94-.94-2.06-.94 2.06-2.06.94zm-11 1L8.5 8.5l.94-2.06 2.06-.94-2.06-.94L8.5 2.5l-.94 2.06-2.06.94zm10 10l.94 2.06.94-2.06 2.06-.94-2.06-.94-.94-2.06-.94 2.06-2.06.94z\"/><path d=\"M17.41 7.96l-1.37-1.37c-.4-.4-.92-.59-1.43-.59-.52 0-1.04.2-1.43.59L10.3 9.45l-7.72 7.72c-.78.78-.78 2.05 0 2.83L4 21.41c.39.39.9.59 1.41.59.51 0 1.02-.2 1.41-.59l7.78-7.78 2.81-2.81c.8-.78.8-2.07 0-2.86zM5.41 20L4 18.59l7.72-7.72 1.47 1.35L5.41 20z\"/>\n",
              "  </svg>\n",
              "      </button>\n",
              "      \n",
              "  <style>\n",
              "    .colab-df-container {\n",
              "      display:flex;\n",
              "      flex-wrap:wrap;\n",
              "      gap: 12px;\n",
              "    }\n",
              "\n",
              "    .colab-df-convert {\n",
              "      background-color: #E8F0FE;\n",
              "      border: none;\n",
              "      border-radius: 50%;\n",
              "      cursor: pointer;\n",
              "      display: none;\n",
              "      fill: #1967D2;\n",
              "      height: 32px;\n",
              "      padding: 0 0 0 0;\n",
              "      width: 32px;\n",
              "    }\n",
              "\n",
              "    .colab-df-convert:hover {\n",
              "      background-color: #E2EBFA;\n",
              "      box-shadow: 0px 1px 2px rgba(60, 64, 67, 0.3), 0px 1px 3px 1px rgba(60, 64, 67, 0.15);\n",
              "      fill: #174EA6;\n",
              "    }\n",
              "\n",
              "    [theme=dark] .colab-df-convert {\n",
              "      background-color: #3B4455;\n",
              "      fill: #D2E3FC;\n",
              "    }\n",
              "\n",
              "    [theme=dark] .colab-df-convert:hover {\n",
              "      background-color: #434B5C;\n",
              "      box-shadow: 0px 1px 3px 1px rgba(0, 0, 0, 0.15);\n",
              "      filter: drop-shadow(0px 1px 2px rgba(0, 0, 0, 0.3));\n",
              "      fill: #FFFFFF;\n",
              "    }\n",
              "  </style>\n",
              "\n",
              "      <script>\n",
              "        const buttonEl =\n",
              "          document.querySelector('#df-a05099eb-f77c-4aa7-b5bc-8d5538a3f9ca button.colab-df-convert');\n",
              "        buttonEl.style.display =\n",
              "          google.colab.kernel.accessAllowed ? 'block' : 'none';\n",
              "\n",
              "        async function convertToInteractive(key) {\n",
              "          const element = document.querySelector('#df-a05099eb-f77c-4aa7-b5bc-8d5538a3f9ca');\n",
              "          const dataTable =\n",
              "            await google.colab.kernel.invokeFunction('convertToInteractive',\n",
              "                                                     [key], {});\n",
              "          if (!dataTable) return;\n",
              "\n",
              "          const docLinkHtml = 'Like what you see? Visit the ' +\n",
              "            '<a target=\"_blank\" href=https://colab.research.google.com/notebooks/data_table.ipynb>data table notebook</a>'\n",
              "            + ' to learn more about interactive tables.';\n",
              "          element.innerHTML = '';\n",
              "          dataTable['output_type'] = 'display_data';\n",
              "          await google.colab.output.renderOutput(dataTable, element);\n",
              "          const docLink = document.createElement('div');\n",
              "          docLink.innerHTML = docLinkHtml;\n",
              "          element.appendChild(docLink);\n",
              "        }\n",
              "      </script>\n",
              "    </div>\n",
              "  </div>\n",
              "  "
            ]
          },
          "metadata": {},
          "execution_count": 249
        }
      ]
    },
    {
      "cell_type": "markdown",
      "metadata": {
        "id": "qD5f1SsQJuEO"
      },
      "source": [
        "## Esercizi avanzati suggeriti\n",
        "\n",
        "- Testare modelli con l'aggiunta di nuove feature non considerate quì, ad es. le differenze tra valori massimi e minimi nei giorni precedenti\n",
        "- Cambiare il protocollo di trading in modo che venga svolta un'operazione di acquisto/vendita solo se il valore assoluto di $\\hat{\\Delta}_d$ supera una determinata soglia (per cui c'è più certezza di un rialzo/ribasso) e verificare come varia il ROI al variare di tale soglia\n",
        "- Eseguire test su periodi differenti e/o con titoli/indici differenti"
      ]
    }
  ],
  "metadata": {
    "language_info": {
      "name": "python"
    },
    "colab": {
      "provenance": [],
      "toc_visible": true,
      "include_colab_link": true
    },
    "kernelspec": {
      "name": "python3",
      "display_name": "Python 3"
    },
    "gpuClass": "standard"
  },
  "nbformat": 4,
  "nbformat_minor": 0
}