{
  "cells": [
    {
      "cell_type": "markdown",
      "metadata": {
        "id": "view-in-github",
        "colab_type": "text"
      },
      "source": [
        "<a href=\"https://colab.research.google.com/github/dBenazzi/trash-can/blob/main/programmazione_di_applicazioni_data_intensive/Regressione_non_Lineare_2.ipynb\" target=\"_parent\"><img src=\"https://colab.research.google.com/assets/colab-badge.svg\" alt=\"Open In Colab\"/></a>"
      ]
    },
    {
      "cell_type": "markdown",
      "metadata": {
        "id": "alqz9Se7Qupa"
      },
      "source": [
        "# Regressione non Lineare (parte 2)\n",
        "\n",
        "**Programmazione di Applicazioni Data Intensive**  \n",
        "Laurea in Ingegneria e Scienze Informatiche  \n",
        "DISI - Università di Bologna, Cesena\n",
        "\n",
        "Proff. Gianluca Moro, Roberto Pasolini  \n",
        "`nome.cognome@unibo.it`"
      ]
    },
    {
      "cell_type": "markdown",
      "metadata": {
        "id": "s74tqTCBQupp"
      },
      "source": [
        "## Setup\n",
        "\n",
        "- Importare i package necessari e configurare l'output di matplotlib"
      ]
    },
    {
      "cell_type": "code",
      "execution_count": 81,
      "metadata": {
        "id": "tVaQR68XQupt"
      },
      "outputs": [],
      "source": [
        "import numpy as np\n",
        "import pandas as pd\n",
        "import matplotlib.pyplot as plt\n",
        "import sklearn\n",
        "%matplotlib inline"
      ]
    },
    {
      "cell_type": "markdown",
      "metadata": {
        "id": "FD9fyEaiQupz"
      },
      "source": [
        "## Caso di studio: predizione consumo elettricità\n",
        "\n",
        "- Carichiamo i dati già visti nei laboratori precedenti: per ogni giorno degli anni dal 2015 al 2017 abbiamo la temperatura media in una città e il picco registrato di consumo di corrente elettrica\n",
        "  - con l'opzione `index_col` specifichiamo che la colonna `date` costituisce l'indice del DataFrame\n",
        "  - con `parse_dates` indichiamo che i suoi valori vanno interpretati come date"
      ]
    },
    {
      "cell_type": "code",
      "execution_count": 82,
      "metadata": {
        "id": "uWAZn8QjQup2"
      },
      "outputs": [],
      "source": [
        "import os.path\n",
        "if not os.path.exists(\"power.csv\"):\n",
        "    from urllib.request import urlretrieve\n",
        "    urlretrieve(\"https://git.io/vpaM1\", \"power.csv\")"
      ]
    },
    {
      "cell_type": "code",
      "execution_count": 83,
      "metadata": {
        "id": "6TZfZenbQup4"
      },
      "outputs": [],
      "source": [
        "data = pd.read_csv(\"https://git.io/vpaM1\", index_col=\"date\", parse_dates=[\"date\"])"
      ]
    },
    {
      "cell_type": "code",
      "execution_count": 84,
      "metadata": {
        "id": "icpvbItnQup6",
        "outputId": "fd469249-7209-4ed1-d002-e0c7547bf15e",
        "colab": {
          "base_uri": "https://localhost:8080/",
          "height": 331
        }
      },
      "outputs": [
        {
          "output_type": "execute_result",
          "data": {
            "text/plain": [
              "              demand  temp\n",
              "date                      \n",
              "2015-01-01  1.736065   1.7\n",
              "2015-01-02  1.831672   2.2\n",
              "2015-01-03  1.714934  14.4\n",
              "2015-01-04  1.628577  15.6\n",
              "2015-01-05  2.045394   0.0\n",
              "2015-01-06  2.122799  -6.7\n",
              "2015-01-07  2.243265  -9.4\n",
              "2015-01-08  2.240975  -8.9"
            ],
            "text/html": [
              "\n",
              "  <div id=\"df-a15b62a3-84ff-409b-9c1d-10757db375ab\">\n",
              "    <div class=\"colab-df-container\">\n",
              "      <div>\n",
              "<style scoped>\n",
              "    .dataframe tbody tr th:only-of-type {\n",
              "        vertical-align: middle;\n",
              "    }\n",
              "\n",
              "    .dataframe tbody tr th {\n",
              "        vertical-align: top;\n",
              "    }\n",
              "\n",
              "    .dataframe thead th {\n",
              "        text-align: right;\n",
              "    }\n",
              "</style>\n",
              "<table border=\"1\" class=\"dataframe\">\n",
              "  <thead>\n",
              "    <tr style=\"text-align: right;\">\n",
              "      <th></th>\n",
              "      <th>demand</th>\n",
              "      <th>temp</th>\n",
              "    </tr>\n",
              "    <tr>\n",
              "      <th>date</th>\n",
              "      <th></th>\n",
              "      <th></th>\n",
              "    </tr>\n",
              "  </thead>\n",
              "  <tbody>\n",
              "    <tr>\n",
              "      <th>2015-01-01</th>\n",
              "      <td>1.736065</td>\n",
              "      <td>1.7</td>\n",
              "    </tr>\n",
              "    <tr>\n",
              "      <th>2015-01-02</th>\n",
              "      <td>1.831672</td>\n",
              "      <td>2.2</td>\n",
              "    </tr>\n",
              "    <tr>\n",
              "      <th>2015-01-03</th>\n",
              "      <td>1.714934</td>\n",
              "      <td>14.4</td>\n",
              "    </tr>\n",
              "    <tr>\n",
              "      <th>2015-01-04</th>\n",
              "      <td>1.628577</td>\n",
              "      <td>15.6</td>\n",
              "    </tr>\n",
              "    <tr>\n",
              "      <th>2015-01-05</th>\n",
              "      <td>2.045394</td>\n",
              "      <td>0.0</td>\n",
              "    </tr>\n",
              "    <tr>\n",
              "      <th>2015-01-06</th>\n",
              "      <td>2.122799</td>\n",
              "      <td>-6.7</td>\n",
              "    </tr>\n",
              "    <tr>\n",
              "      <th>2015-01-07</th>\n",
              "      <td>2.243265</td>\n",
              "      <td>-9.4</td>\n",
              "    </tr>\n",
              "    <tr>\n",
              "      <th>2015-01-08</th>\n",
              "      <td>2.240975</td>\n",
              "      <td>-8.9</td>\n",
              "    </tr>\n",
              "  </tbody>\n",
              "</table>\n",
              "</div>\n",
              "      <button class=\"colab-df-convert\" onclick=\"convertToInteractive('df-a15b62a3-84ff-409b-9c1d-10757db375ab')\"\n",
              "              title=\"Convert this dataframe to an interactive table.\"\n",
              "              style=\"display:none;\">\n",
              "        \n",
              "  <svg xmlns=\"http://www.w3.org/2000/svg\" height=\"24px\"viewBox=\"0 0 24 24\"\n",
              "       width=\"24px\">\n",
              "    <path d=\"M0 0h24v24H0V0z\" fill=\"none\"/>\n",
              "    <path d=\"M18.56 5.44l.94 2.06.94-2.06 2.06-.94-2.06-.94-.94-2.06-.94 2.06-2.06.94zm-11 1L8.5 8.5l.94-2.06 2.06-.94-2.06-.94L8.5 2.5l-.94 2.06-2.06.94zm10 10l.94 2.06.94-2.06 2.06-.94-2.06-.94-.94-2.06-.94 2.06-2.06.94z\"/><path d=\"M17.41 7.96l-1.37-1.37c-.4-.4-.92-.59-1.43-.59-.52 0-1.04.2-1.43.59L10.3 9.45l-7.72 7.72c-.78.78-.78 2.05 0 2.83L4 21.41c.39.39.9.59 1.41.59.51 0 1.02-.2 1.41-.59l7.78-7.78 2.81-2.81c.8-.78.8-2.07 0-2.86zM5.41 20L4 18.59l7.72-7.72 1.47 1.35L5.41 20z\"/>\n",
              "  </svg>\n",
              "      </button>\n",
              "      \n",
              "  <style>\n",
              "    .colab-df-container {\n",
              "      display:flex;\n",
              "      flex-wrap:wrap;\n",
              "      gap: 12px;\n",
              "    }\n",
              "\n",
              "    .colab-df-convert {\n",
              "      background-color: #E8F0FE;\n",
              "      border: none;\n",
              "      border-radius: 50%;\n",
              "      cursor: pointer;\n",
              "      display: none;\n",
              "      fill: #1967D2;\n",
              "      height: 32px;\n",
              "      padding: 0 0 0 0;\n",
              "      width: 32px;\n",
              "    }\n",
              "\n",
              "    .colab-df-convert:hover {\n",
              "      background-color: #E2EBFA;\n",
              "      box-shadow: 0px 1px 2px rgba(60, 64, 67, 0.3), 0px 1px 3px 1px rgba(60, 64, 67, 0.15);\n",
              "      fill: #174EA6;\n",
              "    }\n",
              "\n",
              "    [theme=dark] .colab-df-convert {\n",
              "      background-color: #3B4455;\n",
              "      fill: #D2E3FC;\n",
              "    }\n",
              "\n",
              "    [theme=dark] .colab-df-convert:hover {\n",
              "      background-color: #434B5C;\n",
              "      box-shadow: 0px 1px 3px 1px rgba(0, 0, 0, 0.15);\n",
              "      filter: drop-shadow(0px 1px 2px rgba(0, 0, 0, 0.3));\n",
              "      fill: #FFFFFF;\n",
              "    }\n",
              "  </style>\n",
              "\n",
              "      <script>\n",
              "        const buttonEl =\n",
              "          document.querySelector('#df-a15b62a3-84ff-409b-9c1d-10757db375ab button.colab-df-convert');\n",
              "        buttonEl.style.display =\n",
              "          google.colab.kernel.accessAllowed ? 'block' : 'none';\n",
              "\n",
              "        async function convertToInteractive(key) {\n",
              "          const element = document.querySelector('#df-a15b62a3-84ff-409b-9c1d-10757db375ab');\n",
              "          const dataTable =\n",
              "            await google.colab.kernel.invokeFunction('convertToInteractive',\n",
              "                                                     [key], {});\n",
              "          if (!dataTable) return;\n",
              "\n",
              "          const docLinkHtml = 'Like what you see? Visit the ' +\n",
              "            '<a target=\"_blank\" href=https://colab.research.google.com/notebooks/data_table.ipynb>data table notebook</a>'\n",
              "            + ' to learn more about interactive tables.';\n",
              "          element.innerHTML = '';\n",
              "          dataTable['output_type'] = 'display_data';\n",
              "          await google.colab.output.renderOutput(dataTable, element);\n",
              "          const docLink = document.createElement('div');\n",
              "          docLink.innerHTML = docLinkHtml;\n",
              "          element.appendChild(docLink);\n",
              "        }\n",
              "      </script>\n",
              "    </div>\n",
              "  </div>\n",
              "  "
            ]
          },
          "metadata": {},
          "execution_count": 84
        }
      ],
      "source": [
        "data.head(8)"
      ]
    },
    {
      "cell_type": "markdown",
      "metadata": {
        "id": "hWlOtY8RQuqB"
      },
      "source": [
        "- Vogliamo costruire un modello che consenta la predizione del consumo di corrente sulla base della temperatura in un qualsiasi giorno dell'anno\n",
        "- Come nello scorso laboratorio, suddividiamo i dati in\n",
        "  - un _training set_ `*_train` con i dati relativi all'anno 2015\n",
        "  - un _validation set_ `*_val` con i dati relativi agli anni 2016 e 2017\n",
        "- Per ciascuno estraiamo\n",
        "  - una matrice `X_*` $N\\times 1$ con le osservazioni delle variabili indipendenti: in questo caso una sola, la temperatura\n",
        "  - un vettore `y_*` con gli $N$ corrispondenti valori della variabile dipendente: i consumi"
      ]
    },
    {
      "cell_type": "code",
      "execution_count": 85,
      "metadata": {
        "id": "S0UG06BHQuqF"
      },
      "outputs": [],
      "source": [
        "is_train = data.index.year < 2016\n",
        "X_train = data.loc[is_train, [\"temp\"]]\n",
        "y_train = data.loc[is_train, \"demand\"]\n",
        "X_val = data.loc[~is_train, [\"temp\"]]\n",
        "y_val = data.loc[~is_train, \"demand\"]"
      ]
    },
    {
      "cell_type": "markdown",
      "metadata": {
        "id": "HNV_pAyVQuqJ"
      },
      "source": [
        "## Valutazione dei modelli\n",
        "\n",
        "- Abbiamo visto tre diverse metriche per la valutazione dell'accuratezza dei modelli di regressione\n",
        "  - l'_errore quadratico medio_, usato nella discesa del gradiente ma più difficilmente interpretabile\n",
        "  - l'_errore relativo_, che indica intuitivamente la percentuale di errore del modello\n",
        "  - il _coefficiente R²_, che esprime l'accuratezza con un indice tra 0 e 1\n",
        "- Riprendiamo la funzione `print_eval` definita nella scorsa esercitazione per calcolare e stampare le tre metriche su un set di dati e un modello indicati"
      ]
    },
    {
      "cell_type": "code",
      "execution_count": 86,
      "metadata": {
        "id": "ToMlQ9I3QuqL"
      },
      "outputs": [],
      "source": [
        "# MSE e R^2 sono incluse in scikit-learn\n",
        "from sklearn.metrics import mean_squared_error, r2_score\n",
        "\n",
        "# definisco l'errore relativo\n",
        "def relative_error(y_true, y_pred):\n",
        "    return np.mean(np.abs((y_true - y_pred) / y_true))\n",
        "\n",
        "def print_eval(X, y, model):\n",
        "    preds = model.predict(X)\n",
        "    mse = mean_squared_error(y, preds)\n",
        "    re = relative_error(y, preds)\n",
        "    r2 = r2_score(y, preds)\n",
        "    print(f\"   Mean squared error: {mse:.5}\")\n",
        "    print(f\"       Relative error: {re:.5%}\")\n",
        "    print(f\"R-squared coefficient: {r2:.5}\")"
      ]
    },
    {
      "cell_type": "markdown",
      "metadata": {
        "id": "1Gwq4Q6gQuqN"
      },
      "source": [
        "- Riprendiamo anche la funzione `plot_model_on_data` per visualizzare un grafico del modello addestrato sovrapposto ai dati"
      ]
    },
    {
      "cell_type": "code",
      "execution_count": 87,
      "metadata": {
        "id": "hfk2VG7EQuqP"
      },
      "outputs": [],
      "source": [
        "def plot_model_on_data(X, y, model=None):\n",
        "    plt.figure(figsize=(10, 7))\n",
        "    plt.scatter(X, y)\n",
        "    if model is not None:\n",
        "        xlim, ylim = plt.xlim(), plt.ylim()\n",
        "        line_x = np.linspace(xlim[0], xlim[1], 100)\n",
        "        line_y = model.predict(line_x[:, None])\n",
        "        plt.plot(line_x, line_y, c=\"red\", lw=3)\n",
        "        plt.xlim(xlim); plt.ylim(ylim)\n",
        "    plt.grid()\n",
        "    plt.xlabel(\"Temperatura (°C)\"); plt.ylabel(\"Consumi (GW)\")"
      ]
    },
    {
      "cell_type": "markdown",
      "metadata": {
        "id": "Yf4x5wqnQuqR"
      },
      "source": [
        "## Esercizio 1: Ripasso modelli\n",
        "\n",
        "Addestrare sul training set creato sopra tre modelli diversi con le seguenti configurazioni, per ciascuno stampare le misure di valutazione sul validation set e visualizzare il modello sovrapposto ad esso\n",
        "\n",
        "- **(1a)** regressione lineare semplice\n",
        "- **(1b)** regressione polinomiale di grado 2\n",
        "- **(1c)** regressione polinomiale di grado 3 con standardizzazione delle feature"
      ]
    },
    {
      "cell_type": "code",
      "execution_count": 88,
      "metadata": {
        "id": "yRjn5dw_QuqT",
        "outputId": "ad6bfaf6-bb84-454c-cee6-e66392ada15c",
        "colab": {
          "base_uri": "https://localhost:8080/"
        }
      },
      "outputs": [
        {
          "output_type": "execute_result",
          "data": {
            "text/plain": [
              "Pipeline(steps=[('poly', PolynomialFeatures(degree=3, include_bias=False)),\n",
              "                ('scale', StandardScaler()), ('mdl', LinearRegression())])"
            ]
          },
          "metadata": {},
          "execution_count": 88
        }
      ],
      "source": [
        "# sono eseguiti quì tutti gli import necessari da scikit-learn\n",
        "from sklearn.linear_model import LinearRegression\n",
        "from sklearn.preprocessing import PolynomialFeatures, StandardScaler\n",
        "from sklearn.pipeline import Pipeline\n",
        "\n",
        "model_a = LinearRegression(); model_a.fit(X_train, y_train)\n",
        "model_b = Pipeline([(\"poly\", PolynomialFeatures(degree=2, include_bias=False)),\n",
        "                    (\"mdl\", LinearRegression())])\n",
        "model_b.fit(X_train, y_train)\n",
        "model_c = Pipeline([(\"poly\", PolynomialFeatures(degree=3, include_bias=False)),\n",
        "                    (\"scale\",  StandardScaler()),\n",
        "                    (\"mdl\", LinearRegression())])\n",
        "model_c.fit(X_train, y_train)"
      ]
    },
    {
      "cell_type": "code",
      "execution_count": 89,
      "metadata": {
        "id": "W-xLcho2QuqV",
        "outputId": "c19f72fe-3252-4bd9-e7f4-9b599e926033",
        "colab": {
          "base_uri": "https://localhost:8080/",
          "height": 529
        }
      },
      "outputs": [
        {
          "output_type": "stream",
          "name": "stdout",
          "text": [
            "   Mean squared error: 0.097075\n",
            "       Relative error: 15.39235%\n",
            "R-squared coefficient: 0.095201\n"
          ]
        },
        {
          "output_type": "stream",
          "name": "stderr",
          "text": [
            "/usr/local/lib/python3.8/dist-packages/sklearn/base.py:450: UserWarning: X does not have valid feature names, but LinearRegression was fitted with feature names\n",
            "  warnings.warn(\n"
          ]
        },
        {
          "output_type": "display_data",
          "data": {
            "text/plain": [
              "<Figure size 720x504 with 1 Axes>"
            ],
            "image/png": "[encoded data removed]"
          },
          "metadata": {
            "needs_background": "light"
          }
        }
      ],
      "source": [
        "plot_model_on_data(X_val, y_val, model_a)\n",
        "print_eval(X_val, y_val, model_a)"
      ]
    },
    {
      "cell_type": "code",
      "execution_count": 90,
      "metadata": {
        "id": "QGFE2lOBQuqW",
        "outputId": "0dba66a3-e8f7-47e4-e09f-84828f47f9e2",
        "colab": {
          "base_uri": "https://localhost:8080/",
          "height": 529
        }
      },
      "outputs": [
        {
          "output_type": "stream",
          "name": "stdout",
          "text": [
            "   Mean squared error: 0.037151\n",
            "       Relative error: 8.89180%\n",
            "R-squared coefficient: 0.65373\n"
          ]
        },
        {
          "output_type": "stream",
          "name": "stderr",
          "text": [
            "/usr/local/lib/python3.8/dist-packages/sklearn/base.py:450: UserWarning: X does not have valid feature names, but PolynomialFeatures was fitted with feature names\n",
            "  warnings.warn(\n"
          ]
        },
        {
          "output_type": "display_data",
          "data": {
            "text/plain": [
              "<Figure size 720x504 with 1 Axes>"
            ],
            "image/png": "[encoded data removed]"
          },
          "metadata": {
            "needs_background": "light"
          }
        }
      ],
      "source": [
        "plot_model_on_data(X_val, y_val, model_b)\n",
        "print_eval(X_val, y_val, model_b)"
      ]
    },
    {
      "cell_type": "code",
      "execution_count": 91,
      "metadata": {
        "id": "wuo5cu99QuqX",
        "outputId": "1e8ce16b-bc62-4cfc-b4e5-83cea2895416",
        "colab": {
          "base_uri": "https://localhost:8080/",
          "height": 529
        }
      },
      "outputs": [
        {
          "output_type": "stream",
          "name": "stdout",
          "text": [
            "   Mean squared error: 0.025885\n",
            "       Relative error: 7.18888%\n",
            "R-squared coefficient: 0.75874\n"
          ]
        },
        {
          "output_type": "stream",
          "name": "stderr",
          "text": [
            "/usr/local/lib/python3.8/dist-packages/sklearn/base.py:450: UserWarning: X does not have valid feature names, but PolynomialFeatures was fitted with feature names\n",
            "  warnings.warn(\n"
          ]
        },
        {
          "output_type": "display_data",
          "data": {
            "text/plain": [
              "<Figure size 720x504 with 1 Axes>"
            ],
            "image/png": "[encoded data removed]"
          },
          "metadata": {
            "needs_background": "light"
          }
        }
      ],
      "source": [
        "plot_model_on_data(X_val, y_val, model_c)\n",
        "print_eval(X_val, y_val, model_c)"
      ]
    },
    {
      "cell_type": "markdown",
      "metadata": {
        "tags": [],
        "id": "f6a3Ut8CQuqZ"
      },
      "source": [
        "## Regolarizzazione e regressione ridge\n",
        "\n",
        "- Abbiamo visto come l'addestramento di un modello si compia minimizzando l'errore sui dati di addestramento, dato da\n",
        "$$ E = \\mathrm{media}\\left(\\left(\\mathbf{X}\\mathbf{\\theta}-\\mathbf{y}\\right)^2\\right) $$\n",
        "- Per l'esattezza, la formula su cui si basa `LinearRegression` è\n",
        "$$ E = \\left\\Vert\\mathbf{X}\\mathbf{\\theta}-\\mathbf{y}\\right\\Vert_2^2 $$\n",
        "- Dove la _norma euclidea_ (o _norma 2_) $\\left\\Vert\\mathbf{x}\\right\\Vert_2$ di un vettore $\\mathbf{x}$ di $n$ elementi è\n",
        "$$ \\left\\Vert\\mathbf{x}\\right\\Vert_2 = \\sqrt{\\sum_{i=1}^n x_i^2} = \\sqrt{x_1^2+\\ldots+x_n^2} $$\n",
        "- Tuttavia, questo non garantisce l'accuratezza del modello in generale\n",
        "- Soprattutto se il modello ha molti parametri, è possibile che questi vengano \"forzati\" a funzionare bene sui dati d'addestramento, rendendo però il modello poco accurato in generale"
      ]
    },
    {
      "cell_type": "markdown",
      "metadata": {
        "tags": [],
        "id": "RYFHJZG7Quqa"
      },
      "source": [
        "- Addestriamo ad esempio un modello polinomiale di grado 30 con standardizzazione"
      ]
    },
    {
      "cell_type": "code",
      "execution_count": 92,
      "metadata": {
        "id": "h18J6CUFQuqb",
        "outputId": "0c8b1ada-7c61-4443-ccc3-727e2353f9b6",
        "colab": {
          "base_uri": "https://localhost:8080/"
        }
      },
      "outputs": [
        {
          "output_type": "execute_result",
          "data": {
            "text/plain": [
              "Pipeline(steps=[('poly', PolynomialFeatures(degree=30, include_bias=False)),\n",
              "                ('scale', StandardScaler()), ('linreg', LinearRegression())])"
            ]
          },
          "metadata": {},
          "execution_count": 92
        }
      ],
      "source": [
        "prm = Pipeline([\n",
        "    (\"poly\",   PolynomialFeatures(degree=30, include_bias=False)),\n",
        "    (\"scale\",  StandardScaler()),\n",
        "    (\"linreg\", LinearRegression())\n",
        "])\n",
        "prm.fit(X_train, y_train)"
      ]
    },
    {
      "cell_type": "markdown",
      "metadata": {
        "id": "Tl9ZzkpoQuqd"
      },
      "source": [
        "- Valutiamone le misure di accuratezza sia sul training set che sul validation set"
      ]
    },
    {
      "cell_type": "code",
      "execution_count": 93,
      "metadata": {
        "id": "BxMdY1X0Quqe",
        "outputId": "d482eddb-33a9-4f65-82c3-e7aef8afdade",
        "colab": {
          "base_uri": "https://localhost:8080/"
        }
      },
      "outputs": [
        {
          "output_type": "stream",
          "name": "stdout",
          "text": [
            "   Mean squared error: 0.019873\n",
            "       Relative error: 5.96913%\n",
            "R-squared coefficient: 0.81449\n"
          ]
        }
      ],
      "source": [
        "print_eval(X_train, y_train, prm)"
      ]
    },
    {
      "cell_type": "code",
      "execution_count": 94,
      "metadata": {
        "id": "pAWHYCatQuqi",
        "outputId": "e310ea55-7f64-4425-a049-b13428b42806",
        "colab": {
          "base_uri": "https://localhost:8080/"
        }
      },
      "outputs": [
        {
          "output_type": "stream",
          "name": "stdout",
          "text": [
            "   Mean squared error: 0.038334\n",
            "       Relative error: 7.25701%\n",
            "R-squared coefficient: 0.64271\n"
          ]
        }
      ],
      "source": [
        "print_eval(X_val, y_val, prm)"
      ]
    },
    {
      "cell_type": "markdown",
      "metadata": {
        "id": "tpju1gFCQuqj"
      },
      "source": [
        "- La differenza tra le misure suggerisce che il modello sia stato addestrato \"troppo bene\" sul training set ma non sia abbastanza generale (_overfitting_)"
      ]
    },
    {
      "cell_type": "markdown",
      "metadata": {
        "id": "fw-GPJxEQuqk"
      },
      "source": [
        "- A dimostrazione, si veda il grafico del modello sovrapposto ai dati del training set"
      ]
    },
    {
      "cell_type": "code",
      "execution_count": 95,
      "metadata": {
        "id": "t-d2BJgNQuql",
        "outputId": "a14228c7-3bc0-45f3-964c-284f6582796c",
        "colab": {
          "base_uri": "https://localhost:8080/",
          "height": 477
        }
      },
      "outputs": [
        {
          "output_type": "stream",
          "name": "stderr",
          "text": [
            "/usr/local/lib/python3.8/dist-packages/sklearn/base.py:450: UserWarning: X does not have valid feature names, but PolynomialFeatures was fitted with feature names\n",
            "  warnings.warn(\n"
          ]
        },
        {
          "output_type": "display_data",
          "data": {
            "text/plain": [
              "<Figure size 720x504 with 1 Axes>"
            ],
            "image/png": "[encoded data removed]"
          },
          "metadata": {
            "needs_background": "light"
          }
        }
      ],
      "source": [
        "plot_model_on_data(X_train, y_train, prm)"
      ]
    },
    {
      "cell_type": "markdown",
      "metadata": {
        "id": "GTcYi7P0Quql"
      },
      "source": [
        "- Soprattutto nella parte a sinistra, si nota che il modello è stato ottimizzato per minimizzare l'errore anche in casi estremi del training set"
      ]
    },
    {
      "cell_type": "markdown",
      "metadata": {
        "id": "PeJK4Q-eQuqn"
      },
      "source": [
        "- Vediamo ora il modello sovrapposto al validation set"
      ]
    },
    {
      "cell_type": "code",
      "execution_count": 96,
      "metadata": {
        "id": "r2BoAItVQuqn",
        "outputId": "4a95584b-a0b4-49c2-8184-df89913fd3c5",
        "colab": {
          "base_uri": "https://localhost:8080/",
          "height": 477
        }
      },
      "outputs": [
        {
          "output_type": "stream",
          "name": "stderr",
          "text": [
            "/usr/local/lib/python3.8/dist-packages/sklearn/base.py:450: UserWarning: X does not have valid feature names, but PolynomialFeatures was fitted with feature names\n",
            "  warnings.warn(\n"
          ]
        },
        {
          "output_type": "display_data",
          "data": {
            "text/plain": [
              "<Figure size 720x504 with 1 Axes>"
            ],
            "image/png": "[encoded data removed]"
          },
          "metadata": {
            "needs_background": "light"
          }
        }
      ],
      "source": [
        "plot_model_on_data(X_val, y_val, prm)"
      ]
    },
    {
      "cell_type": "markdown",
      "metadata": {
        "id": "ewoA5Z3vQuqp"
      },
      "source": [
        "- Si nota che nei casi estremi del validation set, diversi da quelli del training set, l'errore del modello è molto alto"
      ]
    },
    {
      "cell_type": "markdown",
      "metadata": {
        "id": "jqvMu-CFQuqp"
      },
      "source": [
        "- Vediamo quali sono i coefficienti del modello addestrato"
      ]
    },
    {
      "cell_type": "code",
      "execution_count": 97,
      "metadata": {
        "id": "436prkzoQuqq",
        "outputId": "a432b7fc-fcdb-4ad3-f212-eab6b7517a6a",
        "colab": {
          "base_uri": "https://localhost:8080/"
        }
      },
      "outputs": [
        {
          "output_type": "execute_result",
          "data": {
            "text/plain": [
              "array([-2.23513129e-01, -5.04173083e+00, -1.26728858e+01,  8.49515974e+02,\n",
              "       -5.65339296e+02, -5.32449934e+04,  1.11632216e+05,  1.61700062e+06,\n",
              "       -5.34931822e+06, -2.45869493e+07,  1.23724082e+08,  1.36150783e+08,\n",
              "       -1.53444158e+09,  1.06863847e+09,  9.78395118e+09, -2.08485111e+10,\n",
              "       -2.07944463e+10,  1.20264477e+11, -9.20885414e+10, -2.40699400e+11,\n",
              "        5.59188980e+11, -2.36340801e+11, -6.47737619e+11,  1.13646792e+12,\n",
              "       -6.99324256e+11, -5.63081612e+10,  3.74426233e+11, -2.55355787e+11,\n",
              "        7.96631526e+10, -1.00630012e+10])"
            ]
          },
          "metadata": {},
          "execution_count": 97
        }
      ],
      "source": [
        "prm.named_steps[\"linreg\"].coef_"
      ]
    },
    {
      "cell_type": "markdown",
      "metadata": {
        "id": "F5VqzzZ-Quqq"
      },
      "source": [
        "- I coefficienti per i termini di grado più alto sono molto alti in valore assoluto (fino a ${10}^{12}$)\n",
        "- Questo causa l'andamento irregolare del modello nei casi estremi e i conseguenti errori\n",
        "- Come evitare che i coefficienti assumano tali valori?"
      ]
    },
    {
      "cell_type": "markdown",
      "metadata": {
        "id": "W8Znsj4tQuqr"
      },
      "source": [
        "- La **_regolarizzazione_** modifica la funzione d'errore su cui si basa l'addestramento, aggiungendo una penalità per valori estremi dei parametri del modello\n",
        "- Nella regolarizzazione _L2_, la più comune, la penalità è proporzionale al quadrato della norma euclidea del vettore $\\mathbf{\\theta}$ dei parametri\n",
        "  - in questo modo parametri molto alti in valore assoluto sono molto penalizzati\n",
        "- La regressione _ridge_ consiste nella regressione lineare con applicata la regolarizzazione L2, utilizzando quindi la seguente funzione d'errore:\n",
        "$$ E = \\left\\Vert\\mathbf{X}\\mathbf{\\theta}-\\mathbf{y}\\right\\Vert_2^2 + \\alpha\\left\\Vert\\mathbf{\\theta}\\right\\Vert_2^2 $$\n",
        "- $\\alpha$ è un parametro impostabile dall'utente che controlla il \"peso\" della regolarizzazione\n",
        "  - tali parametri impostabili sono a volte detti _iperparametri_ per distinguerli dai parametri addestrabili del modello"
      ]
    },
    {
      "cell_type": "markdown",
      "metadata": {
        "id": "BcL5F6pJQuqs"
      },
      "source": [
        "- Per eseguire la regressione ridge usiamo un modello `Ridge`\n",
        "- Alla creazione del modello è possibile specificare il peso della regolarizzazione con l'opzione `alpha`\n",
        "- Per il resto l'API della classe `Ridge` è identica a quella di `LinearRegression`, possiamo quindi sostituirla nella pipeline"
      ]
    },
    {
      "cell_type": "code",
      "execution_count": 98,
      "metadata": {
        "id": "G3ZX_aZPQuqt",
        "outputId": "88b58ff3-6c4c-428a-9364-3d733703d724",
        "colab": {
          "base_uri": "https://localhost:8080/"
        }
      },
      "outputs": [
        {
          "output_type": "execute_result",
          "data": {
            "text/plain": [
              "Pipeline(steps=[('poly', PolynomialFeatures(degree=30, include_bias=False)),\n",
              "                ('scale', StandardScaler()), ('linreg', Ridge(alpha=1))])"
            ]
          },
          "metadata": {},
          "execution_count": 98
        }
      ],
      "source": [
        "from sklearn.linear_model import Ridge\n",
        "\n",
        "rrm = Pipeline([\n",
        "    (\"poly\",   PolynomialFeatures(degree=30, include_bias=False)),\n",
        "    (\"scale\",  StandardScaler()),\n",
        "    (\"linreg\", Ridge(alpha=1))  # <-- sostituice LinearRegression()\n",
        "])\n",
        "rrm.fit(X_train, y_train)"
      ]
    },
    {
      "cell_type": "markdown",
      "metadata": {
        "id": "bk8JrsftQuqu"
      },
      "source": [
        "- Verifichiamo i coefficienti del modello addestrato"
      ]
    },
    {
      "cell_type": "code",
      "execution_count": 99,
      "metadata": {
        "id": "8BDNGM-oQuqw",
        "outputId": "32d1de7a-0fe9-45ac-ed05-940524ee2537",
        "colab": {
          "base_uri": "https://localhost:8080/"
        }
      },
      "outputs": [
        {
          "output_type": "execute_result",
          "data": {
            "text/plain": [
              "array([-0.31325676, -0.02583932,  0.16619334,  0.12873744,  0.15304114,\n",
              "        0.10838303,  0.08446827,  0.04675489,  0.01952785, -0.00549028,\n",
              "       -0.02267416, -0.03463496, -0.04084124, -0.0427362 , -0.04099736,\n",
              "       -0.03668078, -0.03057249, -0.02344422, -0.01590952, -0.00848886,\n",
              "       -0.00158713,  0.00448139,  0.00948767,  0.01327275,  0.01573763,\n",
              "        0.01683213,  0.01654581,  0.01489957,  0.01193869,  0.00772681])"
            ]
          },
          "metadata": {},
          "execution_count": 99
        }
      ],
      "source": [
        "rrm.named_steps[\"linreg\"].coef_"
      ]
    },
    {
      "cell_type": "markdown",
      "metadata": {
        "id": "hQ644BJrQuqx"
      },
      "source": [
        "- Vediamo che questa volta sono tutti inferiori a 1 in valore assoluto, per effetto della regolarizzazione"
      ]
    },
    {
      "cell_type": "markdown",
      "metadata": {
        "id": "XPn0zphaQuqy"
      },
      "source": [
        "- Con tali, coefficienti, il modello ha un comportamento regolare anche per casi estremi, come si può vedere dal grafico"
      ]
    },
    {
      "cell_type": "code",
      "execution_count": 100,
      "metadata": {
        "id": "_QmaNmE9Quqz",
        "outputId": "f340e437-a682-4045-a017-b63b776eb413",
        "colab": {
          "base_uri": "https://localhost:8080/",
          "height": 477
        }
      },
      "outputs": [
        {
          "output_type": "stream",
          "name": "stderr",
          "text": [
            "/usr/local/lib/python3.8/dist-packages/sklearn/base.py:450: UserWarning: X does not have valid feature names, but PolynomialFeatures was fitted with feature names\n",
            "  warnings.warn(\n"
          ]
        },
        {
          "output_type": "display_data",
          "data": {
            "text/plain": [
              "<Figure size 720x504 with 1 Axes>"
            ],
            "image/png": "[encoded data removed]"
          },
          "metadata": {
            "needs_background": "light"
          }
        }
      ],
      "source": [
        "plot_model_on_data(X_val, y_val, rrm)"
      ]
    },
    {
      "cell_type": "markdown",
      "metadata": {
        "id": "lY5vnXJ9Quqz"
      },
      "source": [
        "- Verifichiamo l'accuratezza su training e validation set"
      ]
    },
    {
      "cell_type": "code",
      "execution_count": 101,
      "metadata": {
        "id": "73-oHvp1Quq0",
        "outputId": "74d3e94b-0863-4326-9cec-92d41d6d6027",
        "colab": {
          "base_uri": "https://localhost:8080/"
        }
      },
      "outputs": [
        {
          "output_type": "stream",
          "name": "stdout",
          "text": [
            "   Mean squared error: 0.020643\n",
            "       Relative error: 6.14974%\n",
            "R-squared coefficient: 0.8073\n"
          ]
        }
      ],
      "source": [
        "print_eval(X_train, y_train, rrm)"
      ]
    },
    {
      "cell_type": "code",
      "execution_count": 102,
      "metadata": {
        "id": "bzItubN1Quq1",
        "outputId": "55866252-c2cd-4723-d3fb-ad5bee2f1995",
        "colab": {
          "base_uri": "https://localhost:8080/"
        }
      },
      "outputs": [
        {
          "output_type": "stream",
          "name": "stdout",
          "text": [
            "   Mean squared error: 0.024567\n",
            "       Relative error: 6.91874%\n",
            "R-squared coefficient: 0.77102\n"
          ]
        }
      ],
      "source": [
        "print_eval(X_val, y_val, rrm)"
      ]
    },
    {
      "cell_type": "markdown",
      "metadata": {
        "id": "1T1If70cQuq2"
      },
      "source": [
        "- Vediamo che le misure sul training set sono di poco peggiori, ma quelle sul validation set (più importanti) sono nettamente migliori"
      ]
    },
    {
      "cell_type": "markdown",
      "metadata": {
        "id": "Puzc1tFXQuq2"
      },
      "source": [
        "## Esercizio 2: Regressione polinomiale al variare di grado e regolarizzazione\n",
        "\n",
        "- **(2a)** Definire una funzione `test_regression` con parametri `degree` e `alpha` che\n",
        "  - definisca un modello di regressione polinomiale di grado `degree` con standardizzazione dei dati e regolarizzazione L2 con peso `alpha`\n",
        "  - _(già implementato)_ addestri tale modello sui dati `X_train`, `y_train`\n",
        "  - _(già implementato)_ restituisca il coefficiente R² del modello calcolato sui dati `X_val`, `y_val`\n",
        "- **(2b)** Generare una lista, array o serie di valori restituiti dalla funzione con `alpha=0.01` e `degree` variabile con valori da 3 a 30\n",
        "- **(2c)** Ripetere il punto 2b con `alpha=10`\n",
        "- **(2d)** Visualizzare i risultati in un grafico a linea (`plt.plot`)"
      ]
    },
    {
      "cell_type": "code",
      "execution_count": 103,
      "metadata": {
        "id": "lEhxUrzIQuq3"
      },
      "outputs": [],
      "source": [
        "def test_regression(degree, alpha):\n",
        "    rrm = Pipeline([\n",
        "        (\"poly\", PolynomialFeatures(degree=degree, include_bias=False)),\n",
        "        (\"std\", StandardScaler()),\n",
        "        (\"rmdl\", Ridge(alpha=alpha))\n",
        "    ])\n",
        "    rrm.fit(X_train, y_train)\n",
        "    return rrm.score(X_val, y_val)"
      ]
    },
    {
      "cell_type": "code",
      "source": [
        "def test_range(alpha):\n",
        "  errors = []\n",
        "  for degree in range(3,31):\n",
        "    errors.append(test_regression(degree, alpha))\n",
        "  return errors"
      ],
      "metadata": {
        "id": "gEfUfKoaXm84"
      },
      "execution_count": 104,
      "outputs": []
    },
    {
      "cell_type": "code",
      "source": [
        "alpha1_e = test_range(0.01)\n",
        "alpha2_e = test_range(10)"
      ],
      "metadata": {
        "id": "tizo3hKMYInE"
      },
      "execution_count": 105,
      "outputs": []
    },
    {
      "cell_type": "code",
      "source": [
        "x = range(3,31)\n",
        "plt.plot(x, alpha1_e, x, alpha2_e)\n",
        "plt.xlabel(\"model degree\")\n",
        "plt.ylabel(\"R^2 score\")"
      ],
      "metadata": {
        "id": "ooy9YxxJYtDx",
        "outputId": "e53ec358-a6b8-4d33-8991-abc43275cf85",
        "colab": {
          "base_uri": "https://localhost:8080/",
          "height": 296
        }
      },
      "execution_count": 106,
      "outputs": [
        {
          "output_type": "execute_result",
          "data": {
            "text/plain": [
              "Text(0, 0.5, 'R^2 score')"
            ]
          },
          "metadata": {},
          "execution_count": 106
        },
        {
          "output_type": "display_data",
          "data": {
            "text/plain": [
              "<Figure size 432x288 with 1 Axes>"
            ],
            "image/png": "[encoded data removed]"
          },
          "metadata": {
            "needs_background": "light"
          }
        }
      ]
    },
    {
      "cell_type": "markdown",
      "metadata": {
        "id": "Mmpyx5qKQuq4"
      },
      "source": [
        "## Caso di studio: Predizione dei prezzi delle case\n",
        "\n",
        "- Riprendiamo dalla scorsa esercitazione il dataset relativo ai prezzi delle case\n",
        "- Forniamo tale dataset all'URL https://git.io/fjGjx già adattato per essere caricato con `read_csv` con le opzioni di default"
      ]
    },
    {
      "cell_type": "code",
      "execution_count": 107,
      "metadata": {
        "id": "goyzHkNnQuq4"
      },
      "outputs": [],
      "source": [
        "import os.path\n",
        "if not os.path.exists(\"housing.csv\"):\n",
        "    from urllib.request import urlretrieve\n",
        "    urlretrieve(\"https://git.io/fjGjx\", \"housing.csv\")"
      ]
    },
    {
      "cell_type": "code",
      "execution_count": 108,
      "metadata": {
        "id": "VnznM5epQuq5"
      },
      "outputs": [],
      "source": [
        "housing = pd.read_csv(\"housing.csv\")"
      ]
    },
    {
      "cell_type": "markdown",
      "metadata": {
        "id": "f8iz18pPQuq6"
      },
      "source": [
        "### Lista delle variabili\n",
        "\n",
        "- CRIM: tasso di criminalità pro capite per zona\n",
        "- ZN: proporzione terreno residenziale per lotti maggiori di 25.000 piedi quadrati (circa 2300 m2)\n",
        "- INDUS: proporzione di acri industriali non commerciali per città\n",
        "- CHAS: variabile fittizia Charles River, 1 se il tratto affianca il fiume, altrimenti 0\n",
        "- NOX: concentrazione di ossido d’azoto (parti per 10 milioni)\n",
        "- RM: numero medio di stanze per abitazione\n",
        "- AGE: proporzione delle unità abitate costruite prima del 1940\n",
        "- DIS: distanze pesate verso i cinque uffici di collocamento di Boston\n",
        "- RAD: indice di accessibilità rispetto alle grandi vie radiali di comunicazione\n",
        "- TAX: tasso di imposte sulla casa per 10.000 dollari\n",
        "- PTRATIO: rapporto allievi-docenti per città\n",
        "- B: 1000(Bk - 0.63)2, dove Bk è la proporzione di persone di origine afroamericana\n",
        "- LSTAT: percentuale di popolazione con basso reddito\n",
        "- **MEDV: valore mediano delle abitazioni di proprietà in migliaia di dollari**\n",
        "  - vogliamo stimare il valore di questa variabile in funzione delle altre"
      ]
    },
    {
      "cell_type": "code",
      "execution_count": 109,
      "metadata": {
        "id": "hlH1fTNcQuq7",
        "outputId": "269dc02f-f22a-4e9d-f366-8e9ab6e94b04",
        "colab": {
          "base_uri": "https://localhost:8080/",
          "height": 206
        }
      },
      "outputs": [
        {
          "output_type": "execute_result",
          "data": {
            "text/plain": [
              "      CRIM    ZN  INDUS  CHAS    NOX     RM   AGE     DIS  RAD    TAX  \\\n",
              "0  0.00632  18.0   2.31     0  0.538  6.575  65.2  4.0900    1  296.0   \n",
              "1  0.02731   0.0   7.07     0  0.469  6.421  78.9  4.9671    2  242.0   \n",
              "2  0.02729   0.0   7.07     0  0.469  7.185  61.1  4.9671    2  242.0   \n",
              "3  0.03237   0.0   2.18     0  0.458  6.998  45.8  6.0622    3  222.0   \n",
              "4  0.06905   0.0   2.18     0  0.458  7.147  54.2  6.0622    3  222.0   \n",
              "\n",
              "   PTRATIO       B  LSTAT  MEDV  \n",
              "0     15.3  396.90   4.98  24.0  \n",
              "1     17.8  396.90   9.14  21.6  \n",
              "2     17.8  392.83   4.03  34.7  \n",
              "3     18.7  394.63   2.94  33.4  \n",
              "4     18.7  396.90   5.33  36.2  "
            ],
            "text/html": [
              "\n",
              "  <div id=\"df-a6973c41-9cb6-4aec-87fd-369ba48aaa0c\">\n",
              "    <div class=\"colab-df-container\">\n",
              "      <div>\n",
              "<style scoped>\n",
              "    .dataframe tbody tr th:only-of-type {\n",
              "        vertical-align: middle;\n",
              "    }\n",
              "\n",
              "    .dataframe tbody tr th {\n",
              "        vertical-align: top;\n",
              "    }\n",
              "\n",
              "    .dataframe thead th {\n",
              "        text-align: right;\n",
              "    }\n",
              "</style>\n",
              "<table border=\"1\" class=\"dataframe\">\n",
              "  <thead>\n",
              "    <tr style=\"text-align: right;\">\n",
              "      <th></th>\n",
              "      <th>CRIM</th>\n",
              "      <th>ZN</th>\n",
              "      <th>INDUS</th>\n",
              "      <th>CHAS</th>\n",
              "      <th>NOX</th>\n",
              "      <th>RM</th>\n",
              "      <th>AGE</th>\n",
              "      <th>DIS</th>\n",
              "      <th>RAD</th>\n",
              "      <th>TAX</th>\n",
              "      <th>PTRATIO</th>\n",
              "      <th>B</th>\n",
              "      <th>LSTAT</th>\n",
              "      <th>MEDV</th>\n",
              "    </tr>\n",
              "  </thead>\n",
              "  <tbody>\n",
              "    <tr>\n",
              "      <th>0</th>\n",
              "      <td>0.00632</td>\n",
              "      <td>18.0</td>\n",
              "      <td>2.31</td>\n",
              "      <td>0</td>\n",
              "      <td>0.538</td>\n",
              "      <td>6.575</td>\n",
              "      <td>65.2</td>\n",
              "      <td>4.0900</td>\n",
              "      <td>1</td>\n",
              "      <td>296.0</td>\n",
              "      <td>15.3</td>\n",
              "      <td>396.90</td>\n",
              "      <td>4.98</td>\n",
              "      <td>24.0</td>\n",
              "    </tr>\n",
              "    <tr>\n",
              "      <th>1</th>\n",
              "      <td>0.02731</td>\n",
              "      <td>0.0</td>\n",
              "      <td>7.07</td>\n",
              "      <td>0</td>\n",
              "      <td>0.469</td>\n",
              "      <td>6.421</td>\n",
              "      <td>78.9</td>\n",
              "      <td>4.9671</td>\n",
              "      <td>2</td>\n",
              "      <td>242.0</td>\n",
              "      <td>17.8</td>\n",
              "      <td>396.90</td>\n",
              "      <td>9.14</td>\n",
              "      <td>21.6</td>\n",
              "    </tr>\n",
              "    <tr>\n",
              "      <th>2</th>\n",
              "      <td>0.02729</td>\n",
              "      <td>0.0</td>\n",
              "      <td>7.07</td>\n",
              "      <td>0</td>\n",
              "      <td>0.469</td>\n",
              "      <td>7.185</td>\n",
              "      <td>61.1</td>\n",
              "      <td>4.9671</td>\n",
              "      <td>2</td>\n",
              "      <td>242.0</td>\n",
              "      <td>17.8</td>\n",
              "      <td>392.83</td>\n",
              "      <td>4.03</td>\n",
              "      <td>34.7</td>\n",
              "    </tr>\n",
              "    <tr>\n",
              "      <th>3</th>\n",
              "      <td>0.03237</td>\n",
              "      <td>0.0</td>\n",
              "      <td>2.18</td>\n",
              "      <td>0</td>\n",
              "      <td>0.458</td>\n",
              "      <td>6.998</td>\n",
              "      <td>45.8</td>\n",
              "      <td>6.0622</td>\n",
              "      <td>3</td>\n",
              "      <td>222.0</td>\n",
              "      <td>18.7</td>\n",
              "      <td>394.63</td>\n",
              "      <td>2.94</td>\n",
              "      <td>33.4</td>\n",
              "    </tr>\n",
              "    <tr>\n",
              "      <th>4</th>\n",
              "      <td>0.06905</td>\n",
              "      <td>0.0</td>\n",
              "      <td>2.18</td>\n",
              "      <td>0</td>\n",
              "      <td>0.458</td>\n",
              "      <td>7.147</td>\n",
              "      <td>54.2</td>\n",
              "      <td>6.0622</td>\n",
              "      <td>3</td>\n",
              "      <td>222.0</td>\n",
              "      <td>18.7</td>\n",
              "      <td>396.90</td>\n",
              "      <td>5.33</td>\n",
              "      <td>36.2</td>\n",
              "    </tr>\n",
              "  </tbody>\n",
              "</table>\n",
              "</div>\n",
              "      <button class=\"colab-df-convert\" onclick=\"convertToInteractive('df-a6973c41-9cb6-4aec-87fd-369ba48aaa0c')\"\n",
              "              title=\"Convert this dataframe to an interactive table.\"\n",
              "              style=\"display:none;\">\n",
              "        \n",
              "  <svg xmlns=\"http://www.w3.org/2000/svg\" height=\"24px\"viewBox=\"0 0 24 24\"\n",
              "       width=\"24px\">\n",
              "    <path d=\"M0 0h24v24H0V0z\" fill=\"none\"/>\n",
              "    <path d=\"M18.56 5.44l.94 2.06.94-2.06 2.06-.94-2.06-.94-.94-2.06-.94 2.06-2.06.94zm-11 1L8.5 8.5l.94-2.06 2.06-.94-2.06-.94L8.5 2.5l-.94 2.06-2.06.94zm10 10l.94 2.06.94-2.06 2.06-.94-2.06-.94-.94-2.06-.94 2.06-2.06.94z\"/><path d=\"M17.41 7.96l-1.37-1.37c-.4-.4-.92-.59-1.43-.59-.52 0-1.04.2-1.43.59L10.3 9.45l-7.72 7.72c-.78.78-.78 2.05 0 2.83L4 21.41c.39.39.9.59 1.41.59.51 0 1.02-.2 1.41-.59l7.78-7.78 2.81-2.81c.8-.78.8-2.07 0-2.86zM5.41 20L4 18.59l7.72-7.72 1.47 1.35L5.41 20z\"/>\n",
              "  </svg>\n",
              "      </button>\n",
              "      \n",
              "  <style>\n",
              "    .colab-df-container {\n",
              "      display:flex;\n",
              "      flex-wrap:wrap;\n",
              "      gap: 12px;\n",
              "    }\n",
              "\n",
              "    .colab-df-convert {\n",
              "      background-color: #E8F0FE;\n",
              "      border: none;\n",
              "      border-radius: 50%;\n",
              "      cursor: pointer;\n",
              "      display: none;\n",
              "      fill: #1967D2;\n",
              "      height: 32px;\n",
              "      padding: 0 0 0 0;\n",
              "      width: 32px;\n",
              "    }\n",
              "\n",
              "    .colab-df-convert:hover {\n",
              "      background-color: #E2EBFA;\n",
              "      box-shadow: 0px 1px 2px rgba(60, 64, 67, 0.3), 0px 1px 3px 1px rgba(60, 64, 67, 0.15);\n",
              "      fill: #174EA6;\n",
              "    }\n",
              "\n",
              "    [theme=dark] .colab-df-convert {\n",
              "      background-color: #3B4455;\n",
              "      fill: #D2E3FC;\n",
              "    }\n",
              "\n",
              "    [theme=dark] .colab-df-convert:hover {\n",
              "      background-color: #434B5C;\n",
              "      box-shadow: 0px 1px 3px 1px rgba(0, 0, 0, 0.15);\n",
              "      filter: drop-shadow(0px 1px 2px rgba(0, 0, 0, 0.3));\n",
              "      fill: #FFFFFF;\n",
              "    }\n",
              "  </style>\n",
              "\n",
              "      <script>\n",
              "        const buttonEl =\n",
              "          document.querySelector('#df-a6973c41-9cb6-4aec-87fd-369ba48aaa0c button.colab-df-convert');\n",
              "        buttonEl.style.display =\n",
              "          google.colab.kernel.accessAllowed ? 'block' : 'none';\n",
              "\n",
              "        async function convertToInteractive(key) {\n",
              "          const element = document.querySelector('#df-a6973c41-9cb6-4aec-87fd-369ba48aaa0c');\n",
              "          const dataTable =\n",
              "            await google.colab.kernel.invokeFunction('convertToInteractive',\n",
              "                                                     [key], {});\n",
              "          if (!dataTable) return;\n",
              "\n",
              "          const docLinkHtml = 'Like what you see? Visit the ' +\n",
              "            '<a target=\"_blank\" href=https://colab.research.google.com/notebooks/data_table.ipynb>data table notebook</a>'\n",
              "            + ' to learn more about interactive tables.';\n",
              "          element.innerHTML = '';\n",
              "          dataTable['output_type'] = 'display_data';\n",
              "          await google.colab.output.renderOutput(dataTable, element);\n",
              "          const docLink = document.createElement('div');\n",
              "          docLink.innerHTML = docLinkHtml;\n",
              "          element.appendChild(docLink);\n",
              "        }\n",
              "      </script>\n",
              "    </div>\n",
              "  </div>\n",
              "  "
            ]
          },
          "metadata": {},
          "execution_count": 109
        }
      ],
      "source": [
        "housing.head()"
      ]
    },
    {
      "cell_type": "markdown",
      "metadata": {
        "id": "esRJSmkGQuq8"
      },
      "source": [
        "- Estraiamo dal frame\n",
        "  - la serie `y` con i valori della variabile `MEDV` da prevedere\n",
        "  - il frame `X` con i valori di tutte le altre variabili, utilizzabili per la predizione"
      ]
    },
    {
      "cell_type": "code",
      "execution_count": 110,
      "metadata": {
        "id": "ELr3REyQQuq8"
      },
      "outputs": [],
      "source": [
        "y = housing[\"MEDV\"]\n",
        "X = housing.drop(columns=\"MEDV\")"
      ]
    },
    {
      "cell_type": "markdown",
      "metadata": {
        "id": "7ztTHHRDQuq-"
      },
      "source": [
        "- Dividiamo i dati caricati casualmente in training e validation set con la funzione `train_test_split`\n",
        "  - con `test_size` indichiamo quanti dati vanno nel validation set, i restanti andranno nel training set\n",
        "  - con `random_state` fissiamo un seed per la suddivisione casuale\n",
        "  - la funzione mescola i dati di `X` e `y` in modo congiunto, mantenendo la corrispondenza esistente tra le posizioni dei dati"
      ]
    },
    {
      "cell_type": "code",
      "execution_count": 111,
      "metadata": {
        "id": "PJmti7cLQuq-"
      },
      "outputs": [],
      "source": [
        "from sklearn.model_selection import train_test_split\n",
        "X_train, X_val, y_train, y_val = \\\n",
        "    train_test_split(X, y, test_size=1/3, random_state=42)"
      ]
    },
    {
      "cell_type": "markdown",
      "metadata": {
        "id": "PQ0k_WcHQuq_"
      },
      "source": [
        "## Analisi coefficienti modelli\n",
        "\n",
        "- Addestriamo e verifichiamo l'accuratezza di tre diversi modelli sui dati:\n",
        "  - **(a)** regressione lineare semplice\n",
        "  - **(b)** regressione lineare con regolarizzazione L2 (regressione ridge), assumendo $\\alpha=1$\n",
        "  - **(c)** regressione lineare con standardizzazione delle feature"
      ]
    },
    {
      "cell_type": "code",
      "execution_count": 112,
      "metadata": {
        "id": "zsuGyILtQurA",
        "outputId": "a391a659-674f-416b-fbad-363b64878f7a",
        "colab": {
          "base_uri": "https://localhost:8080/"
        }
      },
      "outputs": [
        {
          "output_type": "stream",
          "name": "stdout",
          "text": [
            "   Mean squared error: 20.595\n",
            "       Relative error: 16.20789%\n",
            "R-squared coefficient: 0.72621\n"
          ]
        }
      ],
      "source": [
        "model_a = LinearRegression()\n",
        "model_a.fit(X_train, y_train)\n",
        "print_eval(X_val, y_val, model_a)"
      ]
    },
    {
      "cell_type": "code",
      "execution_count": 113,
      "metadata": {
        "id": "LCWo9kFBQurB",
        "outputId": "436009be-a3ce-4fa9-f937-550e6c0a5e66",
        "colab": {
          "base_uri": "https://localhost:8080/"
        }
      },
      "outputs": [
        {
          "output_type": "stream",
          "name": "stdout",
          "text": [
            "   Mean squared error: 21.615\n",
            "       Relative error: 16.55757%\n",
            "R-squared coefficient: 0.71265\n"
          ]
        }
      ],
      "source": [
        "model_b = Ridge(alpha=10)\n",
        "model_b.fit(X_train, y_train)\n",
        "print_eval(X_val, y_val, model_b)"
      ]
    },
    {
      "cell_type": "code",
      "execution_count": 114,
      "metadata": {
        "id": "EjThm_uaQurC",
        "outputId": "43555950-a91d-4be2-b94b-4b86bbc8dc2c",
        "colab": {
          "base_uri": "https://localhost:8080/"
        }
      },
      "outputs": [
        {
          "output_type": "stream",
          "name": "stdout",
          "text": [
            "   Mean squared error: 20.595\n",
            "       Relative error: 16.20789%\n",
            "R-squared coefficient: 0.72621\n"
          ]
        }
      ],
      "source": [
        "model_c = Pipeline([\n",
        "    (\"scale\", StandardScaler()),\n",
        "    (\"lr\", LinearRegression())\n",
        "])\n",
        "model_c.fit(X_train, y_train)\n",
        "print_eval(X_val, y_val, model_c)"
      ]
    },
    {
      "cell_type": "markdown",
      "metadata": {
        "id": "isbrv_1LQurD"
      },
      "source": [
        "- Visualizziamo ora in un unico frame i coefficienti di tutti e tre i modelli (una riga per variabile, una colonna per modello)"
      ]
    },
    {
      "cell_type": "code",
      "execution_count": 115,
      "metadata": {
        "id": "C7U39-NcQurE",
        "outputId": "7902318f-c8d9-46d1-b7cf-3f33861487a3",
        "colab": {
          "base_uri": "https://localhost:8080/",
          "height": 457
        }
      },
      "outputs": [
        {
          "output_type": "execute_result",
          "data": {
            "text/plain": [
              "            linear     ridge    scaled\n",
              "CRIM     -0.129470 -0.120803 -0.995690\n",
              "ZN        0.037960  0.041276  0.872971\n",
              "INDUS     0.060978 -0.003992  0.424808\n",
              "CHAS      3.213498  2.143922  0.857462\n",
              "NOX     -16.499614 -1.462094 -1.943856\n",
              "RM        3.911519  3.632845  2.820988\n",
              "AGE      -0.012602 -0.022260 -0.351939\n",
              "DIS      -1.427742 -1.207228 -3.063072\n",
              "RAD       0.239546  0.220856  2.069621\n",
              "TAX      -0.008180 -0.010126 -1.356887\n",
              "PTRATIO  -0.935991 -0.784938 -2.098051\n",
              "B         0.011948  0.012374  1.060004\n",
              "LSTAT    -0.546562 -0.606337 -3.926623"
            ],
            "text/html": [
              "\n",
              "  <div id=\"df-824075f9-dc0a-43fc-9380-0fc41c6ca52b\">\n",
              "    <div class=\"colab-df-container\">\n",
              "      <div>\n",
              "<style scoped>\n",
              "    .dataframe tbody tr th:only-of-type {\n",
              "        vertical-align: middle;\n",
              "    }\n",
              "\n",
              "    .dataframe tbody tr th {\n",
              "        vertical-align: top;\n",
              "    }\n",
              "\n",
              "    .dataframe thead th {\n",
              "        text-align: right;\n",
              "    }\n",
              "</style>\n",
              "<table border=\"1\" class=\"dataframe\">\n",
              "  <thead>\n",
              "    <tr style=\"text-align: right;\">\n",
              "      <th></th>\n",
              "      <th>linear</th>\n",
              "      <th>ridge</th>\n",
              "      <th>scaled</th>\n",
              "    </tr>\n",
              "  </thead>\n",
              "  <tbody>\n",
              "    <tr>\n",
              "      <th>CRIM</th>\n",
              "      <td>-0.129470</td>\n",
              "      <td>-0.120803</td>\n",
              "      <td>-0.995690</td>\n",
              "    </tr>\n",
              "    <tr>\n",
              "      <th>ZN</th>\n",
              "      <td>0.037960</td>\n",
              "      <td>0.041276</td>\n",
              "      <td>0.872971</td>\n",
              "    </tr>\n",
              "    <tr>\n",
              "      <th>INDUS</th>\n",
              "      <td>0.060978</td>\n",
              "      <td>-0.003992</td>\n",
              "      <td>0.424808</td>\n",
              "    </tr>\n",
              "    <tr>\n",
              "      <th>CHAS</th>\n",
              "      <td>3.213498</td>\n",
              "      <td>2.143922</td>\n",
              "      <td>0.857462</td>\n",
              "    </tr>\n",
              "    <tr>\n",
              "      <th>NOX</th>\n",
              "      <td>-16.499614</td>\n",
              "      <td>-1.462094</td>\n",
              "      <td>-1.943856</td>\n",
              "    </tr>\n",
              "    <tr>\n",
              "      <th>RM</th>\n",
              "      <td>3.911519</td>\n",
              "      <td>3.632845</td>\n",
              "      <td>2.820988</td>\n",
              "    </tr>\n",
              "    <tr>\n",
              "      <th>AGE</th>\n",
              "      <td>-0.012602</td>\n",
              "      <td>-0.022260</td>\n",
              "      <td>-0.351939</td>\n",
              "    </tr>\n",
              "    <tr>\n",
              "      <th>DIS</th>\n",
              "      <td>-1.427742</td>\n",
              "      <td>-1.207228</td>\n",
              "      <td>-3.063072</td>\n",
              "    </tr>\n",
              "    <tr>\n",
              "      <th>RAD</th>\n",
              "      <td>0.239546</td>\n",
              "      <td>0.220856</td>\n",
              "      <td>2.069621</td>\n",
              "    </tr>\n",
              "    <tr>\n",
              "      <th>TAX</th>\n",
              "      <td>-0.008180</td>\n",
              "      <td>-0.010126</td>\n",
              "      <td>-1.356887</td>\n",
              "    </tr>\n",
              "    <tr>\n",
              "      <th>PTRATIO</th>\n",
              "      <td>-0.935991</td>\n",
              "      <td>-0.784938</td>\n",
              "      <td>-2.098051</td>\n",
              "    </tr>\n",
              "    <tr>\n",
              "      <th>B</th>\n",
              "      <td>0.011948</td>\n",
              "      <td>0.012374</td>\n",
              "      <td>1.060004</td>\n",
              "    </tr>\n",
              "    <tr>\n",
              "      <th>LSTAT</th>\n",
              "      <td>-0.546562</td>\n",
              "      <td>-0.606337</td>\n",
              "      <td>-3.926623</td>\n",
              "    </tr>\n",
              "  </tbody>\n",
              "</table>\n",
              "</div>\n",
              "      <button class=\"colab-df-convert\" onclick=\"convertToInteractive('df-824075f9-dc0a-43fc-9380-0fc41c6ca52b')\"\n",
              "              title=\"Convert this dataframe to an interactive table.\"\n",
              "              style=\"display:none;\">\n",
              "        \n",
              "  <svg xmlns=\"http://www.w3.org/2000/svg\" height=\"24px\"viewBox=\"0 0 24 24\"\n",
              "       width=\"24px\">\n",
              "    <path d=\"M0 0h24v24H0V0z\" fill=\"none\"/>\n",
              "    <path d=\"M18.56 5.44l.94 2.06.94-2.06 2.06-.94-2.06-.94-.94-2.06-.94 2.06-2.06.94zm-11 1L8.5 8.5l.94-2.06 2.06-.94-2.06-.94L8.5 2.5l-.94 2.06-2.06.94zm10 10l.94 2.06.94-2.06 2.06-.94-2.06-.94-.94-2.06-.94 2.06-2.06.94z\"/><path d=\"M17.41 7.96l-1.37-1.37c-.4-.4-.92-.59-1.43-.59-.52 0-1.04.2-1.43.59L10.3 9.45l-7.72 7.72c-.78.78-.78 2.05 0 2.83L4 21.41c.39.39.9.59 1.41.59.51 0 1.02-.2 1.41-.59l7.78-7.78 2.81-2.81c.8-.78.8-2.07 0-2.86zM5.41 20L4 18.59l7.72-7.72 1.47 1.35L5.41 20z\"/>\n",
              "  </svg>\n",
              "      </button>\n",
              "      \n",
              "  <style>\n",
              "    .colab-df-container {\n",
              "      display:flex;\n",
              "      flex-wrap:wrap;\n",
              "      gap: 12px;\n",
              "    }\n",
              "\n",
              "    .colab-df-convert {\n",
              "      background-color: #E8F0FE;\n",
              "      border: none;\n",
              "      border-radius: 50%;\n",
              "      cursor: pointer;\n",
              "      display: none;\n",
              "      fill: #1967D2;\n",
              "      height: 32px;\n",
              "      padding: 0 0 0 0;\n",
              "      width: 32px;\n",
              "    }\n",
              "\n",
              "    .colab-df-convert:hover {\n",
              "      background-color: #E2EBFA;\n",
              "      box-shadow: 0px 1px 2px rgba(60, 64, 67, 0.3), 0px 1px 3px 1px rgba(60, 64, 67, 0.15);\n",
              "      fill: #174EA6;\n",
              "    }\n",
              "\n",
              "    [theme=dark] .colab-df-convert {\n",
              "      background-color: #3B4455;\n",
              "      fill: #D2E3FC;\n",
              "    }\n",
              "\n",
              "    [theme=dark] .colab-df-convert:hover {\n",
              "      background-color: #434B5C;\n",
              "      box-shadow: 0px 1px 3px 1px rgba(0, 0, 0, 0.15);\n",
              "      filter: drop-shadow(0px 1px 2px rgba(0, 0, 0, 0.3));\n",
              "      fill: #FFFFFF;\n",
              "    }\n",
              "  </style>\n",
              "\n",
              "      <script>\n",
              "        const buttonEl =\n",
              "          document.querySelector('#df-824075f9-dc0a-43fc-9380-0fc41c6ca52b button.colab-df-convert');\n",
              "        buttonEl.style.display =\n",
              "          google.colab.kernel.accessAllowed ? 'block' : 'none';\n",
              "\n",
              "        async function convertToInteractive(key) {\n",
              "          const element = document.querySelector('#df-824075f9-dc0a-43fc-9380-0fc41c6ca52b');\n",
              "          const dataTable =\n",
              "            await google.colab.kernel.invokeFunction('convertToInteractive',\n",
              "                                                     [key], {});\n",
              "          if (!dataTable) return;\n",
              "\n",
              "          const docLinkHtml = 'Like what you see? Visit the ' +\n",
              "            '<a target=\"_blank\" href=https://colab.research.google.com/notebooks/data_table.ipynb>data table notebook</a>'\n",
              "            + ' to learn more about interactive tables.';\n",
              "          element.innerHTML = '';\n",
              "          dataTable['output_type'] = 'display_data';\n",
              "          await google.colab.output.renderOutput(dataTable, element);\n",
              "          const docLink = document.createElement('div');\n",
              "          docLink.innerHTML = docLinkHtml;\n",
              "          element.appendChild(docLink);\n",
              "        }\n",
              "      </script>\n",
              "    </div>\n",
              "  </div>\n",
              "  "
            ]
          },
          "metadata": {},
          "execution_count": 115
        }
      ],
      "source": [
        "pd.DataFrame({\n",
        "    \"linear\": model_a.coef_,\n",
        "    \"ridge\": model_b.coef_,\n",
        "    \"scaled\": model_c.named_steps[\"lr\"].coef_\n",
        "}, index=X.columns)"
      ]
    },
    {
      "cell_type": "markdown",
      "metadata": {
        "id": "A2JfUPp6QurF"
      },
      "source": [
        "- In tutti e tre i modelli, dai segni dei coefficienti possiamo vedere quali fenomeni influiscono positivamente e negativamente sul prezzo\n",
        "  - ad es. il prezzo delle case è più alto se vicine al fiume (`CHAS`), mentre decresce con la criminalità (`CRIM`)\n",
        "- Nella regressione ridge i valori assoluti più alti sono ridotti (es. `NOX` e `RM`)\n",
        "- Con la standardizzazione delle feature otteniamo valori su scale simili, che possiamo confrontare alla pari\n",
        "  - ad es. negli altri modelli il coefficiente di `NOX` è alto in valore assoluto perché i valori di tale variabile sono bassi (la media è circa 0.55, contro quelle superiori a 3 delle altre variabili)\n",
        "  - nel modello con standardizzazione assumono invece più peso il numero di stanze (`RM`) e la distanza dagli uffici di collocamento (`DIS`)"
      ]
    },
    {
      "cell_type": "markdown",
      "metadata": {
        "id": "PDvLfJ4SQurL"
      },
      "source": [
        "## Regressione Lasso\n",
        "\n",
        "- La regolarizzazione L2 impedisce che i parametri del modello assumano valori troppo alti\n",
        "- I valori dei parametri sono comunque tutti non nulli, tutte le variabili vengono coinvolte nella predizione\n",
        "- Vorremmo addestrare un modello meno complesso, dove alcuni parametri hanno valori nulli, **ignorando completamente le variabili meno rilevanti**\n",
        "  - ad es. variabili con valori dipendenti da altre (_multicollinearità_)\n",
        "- Questo si può ottenere tramite la regolarizzazione L1, basata sulla norma 1, definita su un vettore $\\mathbf{x}$ di $n$ elementi come\n",
        "$$ \\left\\Vert\\mathbf{x}\\right\\Vert_1 = \\sum_{i=1}^n{\\left\\vert x_i\\right\\vert} = \\left\\vert x_1\\right\\vert+\\ldots+\\left\\vert x_n\\right\\vert $$"
      ]
    },
    {
      "cell_type": "markdown",
      "metadata": {
        "id": "kEP2Npd1QurL"
      },
      "source": [
        "- La regressione _lasso_ consiste nella regressione lineare con regolarizzazione L1, basata quindi sul minimizzare la funzione d'errore\n",
        "$$ E = \\frac{1}{2m}\\left\\Vert\\mathbf{X}\\mathbf{\\theta}-\\mathbf{y}\\right\\Vert_2^2 + \\alpha\\left\\Vert\\mathbf{\\theta}\\right\\Vert_1 $$\n",
        "- Come per la regressione ridge, il parametro $\\alpha$ controlla il peso della regolarizzazione\n",
        "- La regressione lasso si esegue usando un modello `Lasso`, su cui possiamo impostare come in `Ridge` il parametro `alpha`"
      ]
    },
    {
      "cell_type": "code",
      "execution_count": 116,
      "metadata": {
        "id": "y5oFlcedQurM",
        "outputId": "1c811704-2842-4454-912b-09e0c745b955",
        "colab": {
          "base_uri": "https://localhost:8080/"
        }
      },
      "outputs": [
        {
          "output_type": "execute_result",
          "data": {
            "text/plain": [
              "Pipeline(steps=[('scale', StandardScaler()), ('regr', Lasso(alpha=1))])"
            ]
          },
          "metadata": {},
          "execution_count": 116
        }
      ],
      "source": [
        "from sklearn.linear_model import Lasso\n",
        "model = Pipeline([\n",
        "    (\"scale\", StandardScaler()),\n",
        "    (\"regr\", Lasso(alpha=1))\n",
        "])\n",
        "model.fit(X_train, y_train)"
      ]
    },
    {
      "cell_type": "markdown",
      "metadata": {
        "id": "c_B0Jv-hQurM"
      },
      "source": [
        "- Vediamo i coefficienti del modello risultante"
      ]
    },
    {
      "cell_type": "code",
      "execution_count": 117,
      "metadata": {
        "id": "abXWz8ZAQurN",
        "outputId": "06c82faf-6357-4f1d-c4e5-73bbc581f612",
        "colab": {
          "base_uri": "https://localhost:8080/"
        }
      },
      "outputs": [
        {
          "output_type": "execute_result",
          "data": {
            "text/plain": [
              "CRIM      -0.000000\n",
              "ZN         0.000000\n",
              "INDUS     -0.000000\n",
              "CHAS       0.270752\n",
              "NOX       -0.000000\n",
              "RM         2.641503\n",
              "AGE       -0.000000\n",
              "DIS       -0.000000\n",
              "RAD       -0.000000\n",
              "TAX       -0.000000\n",
              "PTRATIO   -1.200172\n",
              "B          0.311046\n",
              "LSTAT     -3.814854\n",
              "dtype: float64"
            ]
          },
          "metadata": {},
          "execution_count": 117
        }
      ],
      "source": [
        "pd.Series(model.named_steps[\"regr\"].coef_, X.columns)"
      ]
    },
    {
      "cell_type": "markdown",
      "metadata": {
        "id": "JbMykOSAQurN"
      },
      "source": [
        "- La regolarizzazione L1 ha contribuito ad annullare quanti più coefficienti possibile, creando un modello che considera solo 3 variabili\n",
        "- Ma qual'è l'accuratezza di tale modello?"
      ]
    },
    {
      "cell_type": "code",
      "execution_count": 118,
      "metadata": {
        "id": "NSBPiOd5QurO",
        "outputId": "6ef1a2d5-b00f-4679-c9e6-cf148ebbd61c",
        "colab": {
          "base_uri": "https://localhost:8080/"
        }
      },
      "outputs": [
        {
          "output_type": "stream",
          "name": "stdout",
          "text": [
            "   Mean squared error: 25.984\n",
            "       Relative error: 19.41638%\n",
            "R-squared coefficient: 0.65457\n"
          ]
        }
      ],
      "source": [
        "print_eval(X_val, y_val, model)"
      ]
    },
    {
      "cell_type": "markdown",
      "metadata": {
        "id": "bdbhxi9WQurP"
      },
      "source": [
        "- L'accuratezza è peggiore rispetto ai casi precedenti: in questo caso la regolarizzazione è stata eccessiva"
      ]
    },
    {
      "cell_type": "markdown",
      "metadata": {
        "id": "PReWkRwQQurP"
      },
      "source": [
        "- Cosa succede diminuendo il parametro `alpha`, ovvero il peso della regolarizzazione?"
      ]
    },
    {
      "cell_type": "code",
      "execution_count": 119,
      "metadata": {
        "id": "QHZg3DIsQurR",
        "outputId": "dd377274-2e35-4394-d503-9099d88e57b3",
        "colab": {
          "base_uri": "https://localhost:8080/"
        }
      },
      "outputs": [
        {
          "output_type": "execute_result",
          "data": {
            "text/plain": [
              "Pipeline(steps=[('scale', StandardScaler()), ('regr', Lasso(alpha=0.2))])"
            ]
          },
          "metadata": {},
          "execution_count": 119
        }
      ],
      "source": [
        "model = Pipeline([\n",
        "    (\"scale\", StandardScaler()),\n",
        "    (\"regr\", Lasso(alpha=0.2)) # <-- cambiato da 1\n",
        "])\n",
        "model.fit(X_train, y_train)"
      ]
    },
    {
      "cell_type": "code",
      "execution_count": 120,
      "metadata": {
        "id": "EBe2t8WEQurR",
        "outputId": "94205e9e-73e1-40ba-959a-6e0105380415",
        "colab": {
          "base_uri": "https://localhost:8080/"
        }
      },
      "outputs": [
        {
          "output_type": "execute_result",
          "data": {
            "text/plain": [
              "CRIM      -0.394705\n",
              "ZN         0.192948\n",
              "INDUS     -0.000000\n",
              "CHAS       0.827011\n",
              "NOX       -0.812358\n",
              "RM         2.944153\n",
              "AGE       -0.000000\n",
              "DIS       -1.514910\n",
              "RAD        0.000000\n",
              "TAX       -0.000000\n",
              "PTRATIO   -1.698942\n",
              "B          0.842742\n",
              "LSTAT     -4.009724\n",
              "dtype: float64"
            ]
          },
          "metadata": {},
          "execution_count": 120
        }
      ],
      "source": [
        "pd.Series(model.named_steps[\"regr\"].coef_, X.columns)"
      ]
    },
    {
      "cell_type": "markdown",
      "metadata": {
        "id": "txC414GrQurS"
      },
      "source": [
        "- I coefficienti non nulli sono aumentati da 5 a 11"
      ]
    },
    {
      "cell_type": "code",
      "execution_count": 121,
      "metadata": {
        "id": "v520aU9gQurT",
        "outputId": "386646ea-12bf-42d9-a30d-ba930fb2da0c",
        "colab": {
          "base_uri": "https://localhost:8080/"
        }
      },
      "outputs": [
        {
          "output_type": "stream",
          "name": "stdout",
          "text": [
            "   Mean squared error: 22.527\n",
            "       Relative error: 16.62391%\n",
            "R-squared coefficient: 0.70053\n"
          ]
        }
      ],
      "source": [
        "print_eval(X_val, y_val, model)"
      ]
    },
    {
      "cell_type": "markdown",
      "metadata": {
        "id": "-3HeSe2fQurU"
      },
      "source": [
        "- L'accuratezza è di poco inferiore a quella ottenuta con gli altri modelli\n",
        "- Questo modello richiede però solo 9 variabili invece di 13"
      ]
    },
    {
      "cell_type": "markdown",
      "metadata": {
        "id": "6LZQ3JHLQurV"
      },
      "source": [
        "## Elastic Net\n",
        "\n",
        "- La regressione _elastic net_ combina insieme le regolarizzazioni L2 e L1 usate in ridge e lasso\n",
        "- Si applica in scikit-learn tramite la classe `ElasticNet`, per cui l'errore è calcolato come:\n",
        "$$ E = \\underbrace{\\frac{1}{2m} ||X\\theta - y||_2 ^ 2}_{\\text{errore sui dati}} + \\underbrace{\\alpha \\rho ||\\theta||_1}_{\\text{L1}} + \\underbrace{\\frac{\\alpha(1-\\rho)}{2} ||\\theta||_2 ^ 2}_{\\text{L2}} $$\n",
        "- I parametri impostabili sono\n",
        "  - `alpha` ($\\alpha$) che determina il peso generale della regolarizzazione\n",
        "  - `l1_ratio` ($\\rho$, compreso tra 0 e 1) che determina il peso di L1 relativo al totale (con $\\rho=1$ si ha la regressione lasso, con $\\rho=0$ la ridge)"
      ]
    },
    {
      "cell_type": "code",
      "execution_count": 122,
      "metadata": {
        "id": "MQRZv-cJQurV",
        "outputId": "79d77f57-2ce2-4abb-f71d-6305c2b97e68",
        "colab": {
          "base_uri": "https://localhost:8080/"
        }
      },
      "outputs": [
        {
          "output_type": "stream",
          "name": "stdout",
          "text": [
            "   Mean squared error: 22.092\n",
            "       Relative error: 16.18298%\n",
            "R-squared coefficient: 0.70631\n"
          ]
        }
      ],
      "source": [
        "from sklearn.linear_model import ElasticNet\n",
        "model = Pipeline([\n",
        "    (\"scale\",  StandardScaler()),\n",
        "    (\"regr\", ElasticNet(alpha=0.2, l1_ratio=0.1))\n",
        "])\n",
        "model.fit(X_train, y_train)\n",
        "print_eval(X_val, y_val, model)"
      ]
    },
    {
      "cell_type": "markdown",
      "metadata": {
        "id": "j8yHAClgQurW"
      },
      "source": [
        "## Esercizio 3: Elastic Net con pesi separati\n",
        "\n",
        "- **(3a)** Definire una funzione `elastic_net_with_alphas` che restituisca un modello elastic net (non addestrato) con pesi dati separatamente per la regolarizzazione L2 e L1\n",
        "  - si ricordi che il parametro `alpha` è la somma dei due pesi\n",
        "- **(3b)** Servendosi di tale funzione, addestrare e validare un modello elastic net con $\\alpha_{L2}=1, \\alpha_{L1}=0.1$ e standardizzazione delle feature"
      ]
    },
    {
      "cell_type": "code",
      "execution_count": 123,
      "metadata": {
        "id": "m9qSPlgLQurW"
      },
      "outputs": [],
      "source": [
        "def elastic_net_with_alphas(alpha_l2, alpha_l1):\n",
        "    alpha = alpha_l2 + alpha_l1\n",
        "    l1_ratio = alpha_l1 / (alpha_l1+ alpha_l2)\n",
        "    return ElasticNet(alpha=alpha, l1_ratio=l1_ratio)"
      ]
    },
    {
      "cell_type": "code",
      "source": [
        "model = Pipeline([\n",
        "    (\"scale\", StandardScaler()),\n",
        "    (\"regr\",  elastic_net_with_alphas(1, 0.1))\n",
        "])\n",
        "model.fit(X_train, y_train)\n",
        "print_eval(X_val, y_val, model)"
      ],
      "metadata": {
        "id": "JB2FfnPEejTH",
        "outputId": "ea607a72-0560-4132-ea6c-42a932509981",
        "colab": {
          "base_uri": "https://localhost:8080/"
        }
      },
      "execution_count": 124,
      "outputs": [
        {
          "output_type": "stream",
          "name": "stdout",
          "text": [
            "   Mean squared error: 28.122\n",
            "       Relative error: 18.96992%\n",
            "R-squared coefficient: 0.62615\n"
          ]
        }
      ]
    },
    {
      "cell_type": "markdown",
      "metadata": {
        "id": "yVdqw4i0QurX"
      },
      "source": [
        "## Regressione polinomiale multivariata\n",
        "\n",
        "- Abbiamo visto in precedenza la regressione polinomiale su una sola variabile $X$ (univariata), corrispondente alla regressione lineare sulle variabili $X,X^2,X^3,\\ldots$\n",
        "- Per generare queste variabili utilizziamo il filtro `PolynomialFeatures`\n",
        "- Siano date ad esempio due osservazioni di una variabile..."
      ]
    },
    {
      "cell_type": "code",
      "execution_count": 125,
      "metadata": {
        "id": "X7AIvEsXQurY"
      },
      "outputs": [],
      "source": [
        "sample = np.array([ [ 2],\n",
        "                    [-3] ])"
      ]
    },
    {
      "cell_type": "markdown",
      "metadata": {
        "id": "QraiKFRXQurZ"
      },
      "source": [
        "- Possiamo ottenere ad es. le potenze fino al 4° grado\n",
        "  - `include_bias=True` specifica di non includere il termine di grado 0"
      ]
    },
    {
      "cell_type": "code",
      "execution_count": 126,
      "metadata": {
        "id": "EckWFwS5Qura",
        "outputId": "76450790-ef2f-4e75-a60a-d3fc0b8e70b5",
        "colab": {
          "base_uri": "https://localhost:8080/"
        }
      },
      "outputs": [
        {
          "output_type": "execute_result",
          "data": {
            "text/plain": [
              "array([[  2.,   4.,   8.,  16.],\n",
              "       [ -3.,   9., -27.,  81.]])"
            ]
          },
          "metadata": {},
          "execution_count": 126
        }
      ],
      "source": [
        "poly = PolynomialFeatures(degree=4, include_bias=False)\n",
        "poly.fit_transform(sample)\n",
        "#         X   X^2   X^3   X^4"
      ]
    },
    {
      "cell_type": "markdown",
      "metadata": {
        "id": "LRuO-ORrQura"
      },
      "source": [
        "- In presenza di più di una variabile, la regressione polinomiale genera tutti i possibili termini fino al grado impostato, includendo anche **termini basati su più variabili**\n",
        "- Vediamo un esempio con 2 generiche variabili $A$ e $B$"
      ]
    },
    {
      "cell_type": "code",
      "execution_count": 127,
      "metadata": {
        "id": "O4_a-D3fQurb"
      },
      "outputs": [],
      "source": [
        "#                     A   B\n",
        "sample = np.array([ [ 2, -3],\n",
        "                    [ 4, -5] ])"
      ]
    },
    {
      "cell_type": "markdown",
      "metadata": {
        "id": "dhfvsv4XQurc"
      },
      "source": [
        "- Applicando il filtro `PolynomialFeatures` con grado 2..."
      ]
    },
    {
      "cell_type": "code",
      "execution_count": 128,
      "metadata": {
        "id": "engJWLCPQurc",
        "outputId": "ee5dd3a8-4a65-4a3c-e543-a6939c7a4888",
        "colab": {
          "base_uri": "https://localhost:8080/"
        }
      },
      "outputs": [
        {
          "output_type": "execute_result",
          "data": {
            "text/plain": [
              "array([[  2.,  -3.,   4.,  -6.,   9.],\n",
              "       [  4.,  -5.,  16., -20.,  25.]])"
            ]
          },
          "metadata": {},
          "execution_count": 128
        }
      ],
      "source": [
        "poly = PolynomialFeatures(degree=2, include_bias=False)\n",
        "poly.fit_transform(sample)\n",
        "#         A     B    A^2   A*B   B^2"
      ]
    },
    {
      "cell_type": "markdown",
      "metadata": {
        "id": "b-koEVMwQurd"
      },
      "source": [
        "- Le variabili generate (escludendo il grado nullo) sono 5: $A,B,A^2,AB,B^2$\n",
        "- Oltre ai quadrati delle singole variabili abbiamo quindi anche i prodotti tra di esse"
      ]
    },
    {
      "cell_type": "markdown",
      "metadata": {
        "id": "DtsXIHYJQurd"
      },
      "source": [
        "- Possiamo usare il metodo `get_feature_names_out` del filtro per avere un array delle variabili calcolate (`get_feature_names`) in versioni più vecchie di scikit-learn)\n",
        "  - il filtro deve già essere stato \"addestrato\" con `fit` o `fit_transform`\n",
        "  - è possibile passare una lista di nomi delle variabili originali, altrimenti sono usati `x0`, `x1`, ..."
      ]
    },
    {
      "cell_type": "code",
      "execution_count": 129,
      "metadata": {
        "id": "8nIWdMOfQure",
        "outputId": "344e60c6-299c-4d82-92fe-f2628852c761",
        "colab": {
          "base_uri": "https://localhost:8080/"
        }
      },
      "outputs": [
        {
          "output_type": "execute_result",
          "data": {
            "text/plain": [
              "array(['x0', 'x1', 'x0^2', 'x0 x1', 'x1^2'], dtype=object)"
            ]
          },
          "metadata": {},
          "execution_count": 129
        }
      ],
      "source": [
        "poly.get_feature_names_out()"
      ]
    },
    {
      "cell_type": "code",
      "execution_count": 130,
      "metadata": {
        "id": "1LViVMqhQurf",
        "outputId": "ca4b02ca-ab02-498e-9b18-08405db7b635",
        "colab": {
          "base_uri": "https://localhost:8080/"
        }
      },
      "outputs": [
        {
          "output_type": "execute_result",
          "data": {
            "text/plain": [
              "array(['A', 'B', 'A^2', 'A B', 'B^2'], dtype=object)"
            ]
          },
          "metadata": {},
          "execution_count": 130
        }
      ],
      "source": [
        "poly.get_feature_names_out([\"A\", \"B\"])"
      ]
    },
    {
      "cell_type": "markdown",
      "metadata": {
        "id": "goWITsZEQurg"
      },
      "source": [
        "- Aumentando il grado massimo, le variabili generate **aumentano rapidamente**\n",
        "- Ad esempio, aumentando il grado da 2 a 3..."
      ]
    },
    {
      "cell_type": "code",
      "execution_count": 131,
      "metadata": {
        "id": "5N_ACEWBQurg",
        "outputId": "f7764f57-7b6a-4135-ad12-c686d6eb6281",
        "colab": {
          "base_uri": "https://localhost:8080/"
        }
      },
      "outputs": [
        {
          "output_type": "execute_result",
          "data": {
            "text/plain": [
              "array([[   2.,   -3.,    4.,   -6.,    9.,    8.,  -12.,   18.,  -27.],\n",
              "       [   4.,   -5.,   16.,  -20.,   25.,   64.,  -80.,  100., -125.]])"
            ]
          },
          "metadata": {},
          "execution_count": 131
        }
      ],
      "source": [
        "poly = PolynomialFeatures(degree=3, include_bias=False)\n",
        "poly.fit_transform(sample)"
      ]
    },
    {
      "cell_type": "markdown",
      "metadata": {
        "id": "JIuHwwPkQurh"
      },
      "source": [
        "- ...generiamo 9 variabili, ovvero:"
      ]
    },
    {
      "cell_type": "code",
      "execution_count": 132,
      "metadata": {
        "id": "xdK1faOFQuri",
        "outputId": "8e9cb455-0333-41ea-d5d0-49bdab5a7c3e",
        "colab": {
          "base_uri": "https://localhost:8080/"
        }
      },
      "outputs": [
        {
          "output_type": "execute_result",
          "data": {
            "text/plain": [
              "array(['A', 'B', 'A^2', 'A B', 'B^2', 'A^3', 'A^2 B', 'A B^2', 'B^3'],\n",
              "      dtype=object)"
            ]
          },
          "metadata": {},
          "execution_count": 132
        }
      ],
      "source": [
        "poly.get_feature_names_out([\"A\", \"B\"])"
      ]
    },
    {
      "cell_type": "markdown",
      "metadata": {
        "id": "3J3vegMfQurj"
      },
      "source": [
        "- Cosa succede con un numero iniziale di variabili più alto?\n",
        "- Selezioniamo ad esempio dalle variabili X del dataset le 5 feature che avevano coefficiente non nullo nella prima regressione Lasso"
      ]
    },
    {
      "cell_type": "code",
      "execution_count": 133,
      "metadata": {
        "id": "Yv5VwBI9Qurj",
        "outputId": "93434ff6-3103-4f61-96c7-59331a0fbc64",
        "colab": {
          "base_uri": "https://localhost:8080/"
        }
      },
      "outputs": [
        {
          "output_type": "execute_result",
          "data": {
            "text/plain": [
              "5"
            ]
          },
          "metadata": {},
          "execution_count": 133
        }
      ],
      "source": [
        "# la lista delle feature da considerare è:\n",
        "Xsub_feats = [\"CHAS\", \"RM\", \"PTRATIO\", \"B\", \"LSTAT\"]\n",
        "# creo una selezione sia dal training che dal validation set\n",
        "Xsub_train = X_train[Xsub_feats]\n",
        "Xsub_val = X_val[Xsub_feats]\n",
        "# stampo il numero di colonne\n",
        "Xsub_train.shape[1]"
      ]
    },
    {
      "cell_type": "markdown",
      "metadata": {
        "id": "GitGH79nQurk"
      },
      "source": [
        "- Generando le feature polinomiali con grado massimo 2..."
      ]
    },
    {
      "cell_type": "code",
      "execution_count": 134,
      "metadata": {
        "id": "WbochxwiQurl",
        "outputId": "32dc828a-94ba-4baf-b5ab-66e0943365a1",
        "colab": {
          "base_uri": "https://localhost:8080/"
        }
      },
      "outputs": [
        {
          "output_type": "execute_result",
          "data": {
            "text/plain": [
              "20"
            ]
          },
          "metadata": {},
          "execution_count": 134
        }
      ],
      "source": [
        "poly = PolynomialFeatures(degree=2, include_bias=False)\n",
        "poly.fit_transform(Xsub_train).shape[1]"
      ]
    },
    {
      "cell_type": "markdown",
      "metadata": {
        "id": "EEFt-TlNQurm"
      },
      "source": [
        "- ...otteniamo 20 feature distinte!\n",
        "- Le feature includono infatti tutte le possibili coppie di variabili, oltre ai quadrati di ciascuna"
      ]
    },
    {
      "cell_type": "code",
      "execution_count": 135,
      "metadata": {
        "id": "O-y3fnQsQurm",
        "outputId": "cdb87c5e-c7f8-4442-b729-54c1b4b981fb",
        "colab": {
          "base_uri": "https://localhost:8080/"
        }
      },
      "outputs": [
        {
          "output_type": "execute_result",
          "data": {
            "text/plain": [
              "array(['CHAS', 'RM', 'PTRATIO', 'B', 'LSTAT', 'CHAS^2', 'CHAS RM',\n",
              "       'CHAS PTRATIO', 'CHAS B', 'CHAS LSTAT', 'RM^2', 'RM PTRATIO',\n",
              "       'RM B', 'RM LSTAT', 'PTRATIO^2', 'PTRATIO B', 'PTRATIO LSTAT',\n",
              "       'B^2', 'B LSTAT', 'LSTAT^2'], dtype=object)"
            ]
          },
          "metadata": {},
          "execution_count": 135
        }
      ],
      "source": [
        "poly.get_feature_names_out(Xsub_train.columns)"
      ]
    },
    {
      "cell_type": "markdown",
      "metadata": {
        "id": "vb0xIrDcQurn"
      },
      "source": [
        "- Aumentando ulteriormente il grado, il numero di variabili cresce esponenzialmente"
      ]
    },
    {
      "cell_type": "code",
      "execution_count": 136,
      "metadata": {
        "id": "E4ecKdD5Quro",
        "outputId": "83132ecc-09e8-4f15-a82d-fc6ee5635d0e",
        "colab": {
          "base_uri": "https://localhost:8080/"
        }
      },
      "outputs": [
        {
          "output_type": "execute_result",
          "data": {
            "text/plain": [
              "55"
            ]
          },
          "metadata": {},
          "execution_count": 136
        }
      ],
      "source": [
        "poly = PolynomialFeatures(degree=3, include_bias=False)\n",
        "poly.fit_transform(Xsub_train).shape[1]"
      ]
    },
    {
      "cell_type": "code",
      "execution_count": 137,
      "metadata": {
        "id": "18cm90HaQurp",
        "outputId": "635af35b-f291-4418-a999-a9f30277c3e8",
        "colab": {
          "base_uri": "https://localhost:8080/"
        }
      },
      "outputs": [
        {
          "output_type": "execute_result",
          "data": {
            "text/plain": [
              "125"
            ]
          },
          "metadata": {},
          "execution_count": 137
        }
      ],
      "source": [
        "poly = PolynomialFeatures(degree=4, include_bias=False)\n",
        "poly.fit_transform(Xsub_train).shape[1]"
      ]
    },
    {
      "cell_type": "code",
      "execution_count": 138,
      "metadata": {
        "id": "2km_crSGQurq",
        "outputId": "e724d4c3-d492-437f-ccdf-0006eaf1351e",
        "colab": {
          "base_uri": "https://localhost:8080/"
        }
      },
      "outputs": [
        {
          "output_type": "stream",
          "name": "stdout",
          "text": [
            "3° grado: 55 variabili\n",
            "4° grado: 125 variabili\n",
            "5° grado: 251 variabili\n",
            "6° grado: 461 variabili\n",
            "7° grado: 791 variabili\n",
            "8° grado: 1286 variabili\n"
          ]
        }
      ],
      "source": [
        "# possiamo usare un ciclo for per testare rapidamente valori successivi\n",
        "for degree in range(3, 9):\n",
        "    poly = PolynomialFeatures(degree=degree, include_bias=False)\n",
        "    feats_count = poly.fit_transform(Xsub_train).shape[1]\n",
        "    print(f\"{degree}° grado: {feats_count} variabili\")"
      ]
    },
    {
      "cell_type": "markdown",
      "metadata": {
        "id": "lqOOinSyQurr"
      },
      "source": [
        "- Questa crescita è ancora più evidente con la matrice completa `X_train`, con 13 variabili"
      ]
    },
    {
      "cell_type": "code",
      "execution_count": 139,
      "metadata": {
        "id": "k2Q-xoyIQurr",
        "outputId": "edf21aee-94eb-4f27-aa68-ecf0517988b5",
        "colab": {
          "base_uri": "https://localhost:8080/"
        }
      },
      "outputs": [
        {
          "output_type": "execute_result",
          "data": {
            "text/plain": [
              "13"
            ]
          },
          "metadata": {},
          "execution_count": 139
        }
      ],
      "source": [
        "X_train.shape[1]"
      ]
    },
    {
      "cell_type": "markdown",
      "metadata": {
        "id": "uy0_X-DQQurs"
      },
      "source": [
        "- Generando le feature polinomiali con grado massimo 2 otteniamo 104 feature"
      ]
    },
    {
      "cell_type": "code",
      "execution_count": 140,
      "metadata": {
        "id": "RuNcWq3aQurt",
        "outputId": "4ea66f57-195b-41b8-f913-dc2fb6a319fb",
        "colab": {
          "base_uri": "https://localhost:8080/"
        }
      },
      "outputs": [
        {
          "output_type": "execute_result",
          "data": {
            "text/plain": [
              "104"
            ]
          },
          "metadata": {},
          "execution_count": 140
        }
      ],
      "source": [
        "poly = PolynomialFeatures(degree=2, include_bias=False)\n",
        "poly.fit_transform(X_train).shape[1]"
      ]
    },
    {
      "cell_type": "markdown",
      "metadata": {
        "id": "xzM0hNt6Quru"
      },
      "source": [
        "- Aumentando ulteriormente il grado, il numero di variabili cresce enormemente\n",
        "  - con grado 10 si supera il milione di variabili"
      ]
    },
    {
      "cell_type": "code",
      "execution_count": 141,
      "metadata": {
        "id": "Wh8z_wLYQurv",
        "outputId": "4bb6f37b-183d-45ad-d9d2-a6edbb0b2b47",
        "colab": {
          "base_uri": "https://localhost:8080/"
        }
      },
      "outputs": [
        {
          "output_type": "stream",
          "name": "stdout",
          "text": [
            "3° grado: 559 variabili\n",
            "4° grado: 2379 variabili\n",
            "5° grado: 8567 variabili\n",
            "6° grado: 27131 variabili\n",
            "7° grado: 77519 variabili\n"
          ]
        }
      ],
      "source": [
        "for degree in range(3, 8):\n",
        "    poly = PolynomialFeatures(degree=degree, include_bias=False)\n",
        "    feats_count = poly.fit_transform(X_train).shape[1]\n",
        "    print(f\"{degree}° grado: {feats_count} variabili\")"
      ]
    },
    {
      "cell_type": "markdown",
      "metadata": {
        "id": "8KXxu9VxQurw"
      },
      "source": [
        "- All'aumentare delle variabili, aumenta il tempo necessario per l'addestramento del modello\n",
        "- Prendiamo ad esempio come riferimento un modello ElasticNet polinomiale con standardizzazione delle feature generate"
      ]
    },
    {
      "cell_type": "code",
      "execution_count": 142,
      "metadata": {
        "id": "b_d2L0YkQurw"
      },
      "outputs": [],
      "source": [
        "def poly_std_elasticnet(degree):\n",
        "    return Pipeline([\n",
        "        (\"poly\", PolynomialFeatures(degree=degree, include_bias=False)),\n",
        "        (\"std\",  StandardScaler()),\n",
        "        (\"regr\", ElasticNet(alpha=0.5, l1_ratio=0.2))\n",
        "    ])"
      ]
    },
    {
      "cell_type": "markdown",
      "metadata": {
        "id": "9hDTfObLQurx"
      },
      "source": [
        "- Eseguiamo la prova su un modello di grado 2 sia col sottoinsieme di 5 feature indicato sopra che con tutte le feature\n",
        "- Usiamo il comando \"magico\" `%time` per riportare in output il tempo di esecuzione"
      ]
    },
    {
      "cell_type": "code",
      "execution_count": 143,
      "metadata": {
        "id": "l545ZCguQury",
        "outputId": "396a4fe9-6287-4aad-edf0-768421fc2bc2",
        "colab": {
          "base_uri": "https://localhost:8080/"
        }
      },
      "outputs": [
        {
          "output_type": "stream",
          "name": "stdout",
          "text": [
            "CPU times: user 8.03 ms, sys: 0 ns, total: 8.03 ms\n",
            "Wall time: 9.33 ms\n",
            "   Mean squared error: 22.74\n",
            "       Relative error: 17.05512%\n",
            "R-squared coefficient: 0.69769\n"
          ]
        }
      ],
      "source": [
        "model = poly_std_elasticnet(2)\n",
        "%time model.fit(Xsub_train, y_train)\n",
        "print_eval(Xsub_val, y_val, model)"
      ]
    },
    {
      "cell_type": "code",
      "execution_count": 144,
      "metadata": {
        "id": "ERk-LnnXQury",
        "outputId": "8d825626-f32f-405b-86c1-82ece6502799",
        "colab": {
          "base_uri": "https://localhost:8080/"
        }
      },
      "outputs": [
        {
          "output_type": "stream",
          "name": "stdout",
          "text": [
            "CPU times: user 13.2 ms, sys: 6.22 ms, total: 19.4 ms\n",
            "Wall time: 14.2 ms\n",
            "   Mean squared error: 19.854\n",
            "       Relative error: 15.44921%\n",
            "R-squared coefficient: 0.73606\n"
          ]
        }
      ],
      "source": [
        "model = poly_std_elasticnet(2)\n",
        "%time model.fit(X_train, y_train)\n",
        "print_eval(X_val, y_val, model)"
      ]
    },
    {
      "cell_type": "markdown",
      "metadata": {
        "id": "4dmj8EbNQurz"
      },
      "source": [
        "- L'addestramento richiede una frazione di secondo, anche per via del numero limitato di istanze"
      ]
    },
    {
      "cell_type": "markdown",
      "metadata": {
        "id": "QCzR3hzkQurz"
      },
      "source": [
        "- Verifichiamo ora cosa accade in entrambi i casi con grado 5"
      ]
    },
    {
      "cell_type": "code",
      "execution_count": 145,
      "metadata": {
        "id": "ne3zMO0bQurz",
        "outputId": "c19a27ac-e888-4ebd-8e0b-c8b7b4927cab",
        "colab": {
          "base_uri": "https://localhost:8080/"
        }
      },
      "outputs": [
        {
          "output_type": "stream",
          "name": "stdout",
          "text": [
            "CPU times: user 76.5 ms, sys: 101 ms, total: 178 ms\n",
            "Wall time: 120 ms\n",
            "   Mean squared error: 16.714\n",
            "       Relative error: 14.62323%\n",
            "R-squared coefficient: 0.7778\n"
          ]
        }
      ],
      "source": [
        "model = poly_std_elasticnet(5)\n",
        "%time model.fit(Xsub_train, y_train)\n",
        "print_eval(Xsub_val, y_val, model)"
      ]
    },
    {
      "cell_type": "code",
      "execution_count": 146,
      "metadata": {
        "id": "pmSaOOjOQur0",
        "outputId": "6a6b2fea-0710-46f3-f520-1e804d352f53",
        "colab": {
          "base_uri": "https://localhost:8080/"
        }
      },
      "outputs": [
        {
          "output_type": "stream",
          "name": "stdout",
          "text": [
            "CPU times: user 2 s, sys: 223 ms, total: 2.22 s\n",
            "Wall time: 2.01 s\n",
            "   Mean squared error: 11.969\n",
            "       Relative error: 11.63031%\n",
            "R-squared coefficient: 0.84089\n"
          ]
        },
        {
          "output_type": "stream",
          "name": "stderr",
          "text": [
            "/usr/local/lib/python3.8/dist-packages/sklearn/linear_model/_coordinate_descent.py:647: ConvergenceWarning: Objective did not converge. You might want to increase the number of iterations, check the scale of the features or consider increasing regularisation. Duality gap: 1.707e+02, tolerance: 2.977e+00\n",
            "  model = cd_fast.enet_coordinate_descent(\n"
          ]
        }
      ],
      "source": [
        "model = poly_std_elasticnet(5)\n",
        "%time model.fit(X_train, y_train)\n",
        "print_eval(X_val, y_val, model)"
      ]
    },
    {
      "cell_type": "markdown",
      "metadata": {
        "id": "C1npqLjmQur0"
      },
      "source": [
        "- L'accuratezza del modello migliora sensibilmente, ma **con tempi di addestramento molto superiori**\n",
        "  - più di 10 volte superiori con 5 feature\n",
        "  - più di 100 volte superiori con 13 feature\n",
        "  - con dataset più grandi, avremmo tempi di addestramento insostenibili"
      ]
    },
    {
      "cell_type": "markdown",
      "metadata": {
        "id": "UQwWzol2Qur1"
      },
      "source": [
        "## Regressione con funzioni kernel\n",
        "\n",
        "- Nella regressione polinomiale si eseguono prodotti tra dati con dimensioni aggiunte e rappresentate esplicitamente\n",
        "- Le _funzioni kernel_ permettono di calcolare gli stessi prodotti senza calcolare esplicitamente le dimensioni aggiunte\n",
        "- Questo permette di ottenere **modelli non lineari senza l'aggiunta di variabili**\n",
        "- Esistono diverse funzioni kernel utilizzabili con diversi parametri impostabili\n",
        "- Ad esempio, il kernel polinomiale è definito dalla formula\n",
        "$$ K(\\mathbf{a},\\mathbf{b}) = \\left(\\mathbf{a}\\cdot\\mathbf{b}+c\\right)^d $$\n",
        "  - $d$ e $c$ sono parametri del kernel, in particolare $d$ è il grado del polinomio"
      ]
    },
    {
      "cell_type": "markdown",
      "metadata": {
        "id": "1PL9pMr7Qur1"
      },
      "source": [
        "- La classe `KernelRidge` implementa la regressione ridge con l'applicazione di una funzione kernel\n",
        "- Col parametro `kernel` si indica il tipo di kernel con una stringa, ad es. `\"poly\"` per un kernel polinomiale\n",
        "- Ulteriori parametri riguardano il kernel, per quello polinomiale sono `degree` ($d$) e `coef0` ($c$)"
      ]
    },
    {
      "cell_type": "code",
      "execution_count": 147,
      "metadata": {
        "id": "c2fJpukbQur2",
        "outputId": "f636ee40-8d04-4714-9dd1-645f0036402b",
        "colab": {
          "base_uri": "https://localhost:8080/"
        }
      },
      "outputs": [
        {
          "output_type": "stream",
          "name": "stdout",
          "text": [
            "CPU times: user 18.1 ms, sys: 29.1 ms, total: 47.2 ms\n",
            "Wall time: 27.9 ms\n",
            "   Mean squared error: 14.765\n",
            "       Relative error: 13.09973%\n",
            "R-squared coefficient: 0.80371\n"
          ]
        }
      ],
      "source": [
        "from sklearn.kernel_ridge import KernelRidge\n",
        "model = Pipeline([\n",
        "    (\"scale\", StandardScaler()),\n",
        "    (\"regr\",  KernelRidge(alpha=20, kernel=\"poly\", degree=5))\n",
        "])\n",
        "%time model.fit(X_train, y_train)\n",
        "print_eval(X_val, y_val, model)"
      ]
    },
    {
      "cell_type": "markdown",
      "metadata": {
        "id": "uZ-H9X6EQur3"
      },
      "source": [
        "- Abbiamo ottenuto un'accuratezza più elevata rispetto ai modelli lineari, ma in tempi molto più brevi rispetto alla regressione polinomiale"
      ]
    },
    {
      "cell_type": "markdown",
      "metadata": {
        "id": "VBUi7ujRQur4"
      },
      "source": [
        "- Aumentando arbitrariamente il grado del polinomio, il tempo impiegato per l'addestramento non cambia\n",
        "  - in questo caso comunque un grado alto non porta ad un modello accurato"
      ]
    },
    {
      "cell_type": "code",
      "execution_count": 148,
      "metadata": {
        "id": "40HZZlF3Qur5",
        "outputId": "a6f030e4-a91b-4ef2-c3e5-5545bb0ff1ae",
        "colab": {
          "base_uri": "https://localhost:8080/"
        }
      },
      "outputs": [
        {
          "output_type": "stream",
          "name": "stdout",
          "text": [
            "CPU times: user 15.5 ms, sys: 34.2 ms, total: 49.7 ms\n",
            "Wall time: 24.9 ms\n",
            "   Mean squared error: 2.0188e+07\n",
            "       Relative error: 8417.85655%\n",
            "R-squared coefficient: -2.6838e+05\n"
          ]
        }
      ],
      "source": [
        "from sklearn.kernel_ridge import KernelRidge\n",
        "model = Pipeline([\n",
        "    (\"scale\", StandardScaler()),\n",
        "    (\"regr\",  KernelRidge(alpha=20, kernel=\"poly\", degree=15))\n",
        "])\n",
        "%time model.fit(X_train, y_train)\n",
        "print_eval(X_val, y_val, model)"
      ]
    },
    {
      "cell_type": "markdown",
      "metadata": {
        "id": "ji9LuJ_EQur6"
      },
      "source": [
        "- Va però ricordato che la complessità cresce quadraticamente col numero di istanze di training\n",
        "- Ad esempio, addestrando un modello su _tutti_ i dati invece che sul solo training set, quindi sul 50\\% di istanze in più..."
      ]
    },
    {
      "cell_type": "code",
      "execution_count": 149,
      "metadata": {
        "id": "L-hDqSeeQur6",
        "outputId": "f4d8498c-07bc-4bbd-8f27-fa1f0343ec2a",
        "colab": {
          "base_uri": "https://localhost:8080/"
        }
      },
      "outputs": [
        {
          "output_type": "stream",
          "name": "stdout",
          "text": [
            "CPU times: user 27.3 ms, sys: 38.5 ms, total: 65.8 ms\n",
            "Wall time: 37.5 ms\n",
            "   Mean squared error: 8.2617\n",
            "       Relative error: 8.99352%\n",
            "R-squared coefficient: 0.89017\n"
          ]
        }
      ],
      "source": [
        "from sklearn.kernel_ridge import KernelRidge\n",
        "model = Pipeline([\n",
        "    (\"scale\", StandardScaler()),\n",
        "    (\"regr\",  KernelRidge(alpha=20, kernel=\"poly\", degree=5))\n",
        "])\n",
        "%time model.fit(X, y)\n",
        "print_eval(X_val, y_val, model)"
      ]
    },
    {
      "cell_type": "markdown",
      "metadata": {
        "id": "LJwHT21YQur7"
      },
      "source": [
        "- ... il tempo necessario è circa il doppio"
      ]
    },
    {
      "cell_type": "markdown",
      "metadata": {
        "id": "vycYEPYGQur7"
      },
      "source": [
        "- Possiamo testare anche funzioni kernel diverse, ad esempio RBF (_radial basis function_)\n",
        "  - RBF ha valori tanto più elevati quanto più i valori X sono vicini a 0 (ovvero la media, usando dati standardizzati)\n",
        "- La funzione RBF ha la forma di una gaussiana, di cui si può impostare l'ampiezza col parametro `gamma`"
      ]
    },
    {
      "cell_type": "code",
      "execution_count": 150,
      "metadata": {
        "id": "_GaR0jjgQur7",
        "outputId": "bd59f695-4760-469b-dc9f-24a6150741b7",
        "colab": {
          "base_uri": "https://localhost:8080/"
        }
      },
      "outputs": [
        {
          "output_type": "stream",
          "name": "stdout",
          "text": [
            "CPU times: user 15.7 ms, sys: 33 ms, total: 48.7 ms\n",
            "Wall time: 24.4 ms\n",
            "   Mean squared error: 43.906\n",
            "       Relative error: 19.38425%\n",
            "R-squared coefficient: 0.41632\n"
          ]
        }
      ],
      "source": [
        "model = Pipeline([\n",
        "    (\"scale\", StandardScaler()),\n",
        "    (\"regr\",  KernelRidge(alpha=20, kernel=\"rbf\", gamma=0.01))\n",
        "])\n",
        "%time model.fit(X_train, y_train)\n",
        "print_eval(X_val, y_val, model)"
      ]
    },
    {
      "cell_type": "markdown",
      "metadata": {
        "id": "VfZod8dHQur8"
      },
      "source": [
        "- In questo caso specifico il kernel RBF non funziona bene tanto quanto il polinomiale"
      ]
    },
    {
      "cell_type": "markdown",
      "metadata": {
        "id": "hktcE55iQur9"
      },
      "source": [
        "## k-Fold Cross Validation\n",
        "\n",
        "- La _cross validation_ si riferisce in generale alla valutazione di un modello di predizione su dati differenti rispetto a quelli su cui è addestrato\n",
        "- Finora l'abbiamo svolta usando il semplice metodo _hold-out_\n",
        "  - i dati sono suddivisi casualmente in _training set_ e _validation set_ con proporzioni configurabili\n",
        "  - un modello è addestrato sul training set e validato sul validation set\n",
        "- Il metodo _k-fold_ è un'alternativa al metodo hold-out per valutare l'accuratezza di un modello\n",
        "  - i dati sono divisi causalmente in k gruppi (_fold_)\n",
        "  - ciascun gruppo è validato su un modello addestrato su tutti gli altri gruppi\n",
        "  - i risultati dei singoli test sono aggregati\n",
        "- scikit-learn fornisce un supporto generico per la cross-validation di modelli tramite diversi metodi"
      ]
    },
    {
      "cell_type": "markdown",
      "metadata": {
        "id": "MWUWg9_dQur9"
      },
      "source": [
        "- Per prima cosa va creato un oggetto che definisce il metodo di cross-validation da applicare\n",
        "- Usiamo ad esempio un oggetto della classe `KFold`\n",
        "  - il primo parametro è il numero di fold (k) da usare\n",
        "  - specifichiamo inoltre che i dati sono distribuiti casualmente e il seed da usare"
      ]
    },
    {
      "cell_type": "code",
      "execution_count": 151,
      "metadata": {
        "id": "V7JrTobhQur-"
      },
      "outputs": [],
      "source": [
        "from sklearn.model_selection import KFold\n",
        "kf = KFold(5, shuffle=True, random_state=42)"
      ]
    },
    {
      "cell_type": "markdown",
      "metadata": {
        "id": "DwnFxzVxQur-"
      },
      "source": [
        "- Gli oggetti di questo tipo forniscono un metodo `split`, che dato un dataset genera le suddivisioni training/validation secondo la configurazione data\n",
        "  - per ogni suddivisione sono dati un array di etichette delle righe da includere nel training set (`train_index`) e l'array complementare di etichette delle righe da includere nel validation set (`val_index`)"
      ]
    },
    {
      "cell_type": "code",
      "execution_count": 152,
      "metadata": {
        "id": "OErTvL_7Qur_",
        "outputId": "d519ff3a-23d6-4809-9e47-164799cfe307",
        "colab": {
          "base_uri": "https://localhost:8080/"
        }
      },
      "outputs": [
        {
          "output_type": "stream",
          "name": "stdout",
          "text": [
            "Fold 1: 404 istanze di training, 102 istanze di validazione\n",
            "Fold 2: 405 istanze di training, 101 istanze di validazione\n",
            "Fold 3: 405 istanze di training, 101 istanze di validazione\n",
            "Fold 4: 405 istanze di training, 101 istanze di validazione\n",
            "Fold 5: 405 istanze di training, 101 istanze di validazione\n"
          ]
        }
      ],
      "source": [
        "for i, (train_index, val_index) in enumerate(kf.split(X, y), start=1):\n",
        "    print(f\"Fold {i}: {len(train_index)} istanze di training, {len(val_index)} istanze di validazione\")\n",
        "    # per ottenere ad es. X_train: X[train_index]"
      ]
    },
    {
      "cell_type": "markdown",
      "metadata": {
        "id": "azejcR2GQusA"
      },
      "source": [
        "- Definiamo un modello da validare, ad es. il modello kernel ridge visto sopra"
      ]
    },
    {
      "cell_type": "code",
      "execution_count": 153,
      "metadata": {
        "id": "5J-fFxXuQusA"
      },
      "outputs": [],
      "source": [
        "model = Pipeline([\n",
        "    (\"scale\", StandardScaler()),\n",
        "    (\"regr\",  KernelRidge(alpha=20, kernel=\"poly\", degree=5))\n",
        "])"
      ]
    },
    {
      "cell_type": "markdown",
      "metadata": {
        "id": "P23hNDR7QusB"
      },
      "source": [
        "- Per eseguire la CV usiamo quindi la funzione `cross_validate`, a cui passiamo in input:\n",
        "  - la definizione di un modello, di cui viene addestrata una copia con la stessa configurazione per ciascun fold\n",
        "  - i dati, divisi come per `fit` in valori di variabili indipendenti (X) e dipendente (y)\n",
        "  - l'oggetto che definisce il metodo di CV, in questo caso l'istanza di `KFold`\n",
        "  - l'opzione `return_train_score=True` per ottenere la valutazione di ogni modello anche sui dati di addestramento"
      ]
    },
    {
      "cell_type": "code",
      "execution_count": 154,
      "metadata": {
        "id": "4HChqK_UQusC"
      },
      "outputs": [],
      "source": [
        "from sklearn.model_selection import cross_validate\n",
        "cv_result = cross_validate(model, X, y, cv=kf, return_train_score=True)"
      ]
    },
    {
      "cell_type": "markdown",
      "metadata": {
        "id": "nTDat07xQusC"
      },
      "source": [
        "- Otteniamo un dizionario con un vettore per ciascuna misura estratta, ciascuno ha un valore per ogni fold"
      ]
    },
    {
      "cell_type": "code",
      "execution_count": 155,
      "metadata": {
        "id": "pcBBUPxvQusD",
        "outputId": "2fca406e-2b00-4334-fc5d-ad5af9152bc2",
        "colab": {
          "base_uri": "https://localhost:8080/"
        }
      },
      "outputs": [
        {
          "output_type": "execute_result",
          "data": {
            "text/plain": [
              "{'fit_time': array([0.03316092, 0.03352141, 0.0337379 , 0.04249907, 0.03528047]),\n",
              " 'score_time': array([0.0116756 , 0.01158667, 0.00947762, 0.00929832, 0.0096426 ]),\n",
              " 'test_score': array([0.79093529, 0.83709349, 0.69734727, 0.90845112, 0.7917183 ]),\n",
              " 'train_score': array([0.91333254, 0.90350452, 0.90330007, 0.8981712 , 0.90764729])}"
            ]
          },
          "metadata": {},
          "execution_count": 155
        }
      ],
      "source": [
        "cv_result"
      ]
    },
    {
      "cell_type": "markdown",
      "metadata": {
        "id": "5lxAMQkgQusE"
      },
      "source": [
        "- Per operare facilmente, raccogliamo i dati in un frame"
      ]
    },
    {
      "cell_type": "code",
      "execution_count": 156,
      "metadata": {
        "id": "ZnUPXgI3QusE",
        "outputId": "41ac5abb-9b23-48fc-d27a-e7e5e8910a61",
        "colab": {
          "base_uri": "https://localhost:8080/",
          "height": 206
        }
      },
      "outputs": [
        {
          "output_type": "execute_result",
          "data": {
            "text/plain": [
              "   fit_time  score_time  test_score  train_score\n",
              "0  0.033161    0.011676    0.790935     0.913333\n",
              "1  0.033521    0.011587    0.837093     0.903505\n",
              "2  0.033738    0.009478    0.697347     0.903300\n",
              "3  0.042499    0.009298    0.908451     0.898171\n",
              "4  0.035280    0.009643    0.791718     0.907647"
            ],
            "text/html": [
              "\n",
              "  <div id=\"df-bd362dc5-9ca5-469a-8a7f-a9c8c62ea9bb\">\n",
              "    <div class=\"colab-df-container\">\n",
              "      <div>\n",
              "<style scoped>\n",
              "    .dataframe tbody tr th:only-of-type {\n",
              "        vertical-align: middle;\n",
              "    }\n",
              "\n",
              "    .dataframe tbody tr th {\n",
              "        vertical-align: top;\n",
              "    }\n",
              "\n",
              "    .dataframe thead th {\n",
              "        text-align: right;\n",
              "    }\n",
              "</style>\n",
              "<table border=\"1\" class=\"dataframe\">\n",
              "  <thead>\n",
              "    <tr style=\"text-align: right;\">\n",
              "      <th></th>\n",
              "      <th>fit_time</th>\n",
              "      <th>score_time</th>\n",
              "      <th>test_score</th>\n",
              "      <th>train_score</th>\n",
              "    </tr>\n",
              "  </thead>\n",
              "  <tbody>\n",
              "    <tr>\n",
              "      <th>0</th>\n",
              "      <td>0.033161</td>\n",
              "      <td>0.011676</td>\n",
              "      <td>0.790935</td>\n",
              "      <td>0.913333</td>\n",
              "    </tr>\n",
              "    <tr>\n",
              "      <th>1</th>\n",
              "      <td>0.033521</td>\n",
              "      <td>0.011587</td>\n",
              "      <td>0.837093</td>\n",
              "      <td>0.903505</td>\n",
              "    </tr>\n",
              "    <tr>\n",
              "      <th>2</th>\n",
              "      <td>0.033738</td>\n",
              "      <td>0.009478</td>\n",
              "      <td>0.697347</td>\n",
              "      <td>0.903300</td>\n",
              "    </tr>\n",
              "    <tr>\n",
              "      <th>3</th>\n",
              "      <td>0.042499</td>\n",
              "      <td>0.009298</td>\n",
              "      <td>0.908451</td>\n",
              "      <td>0.898171</td>\n",
              "    </tr>\n",
              "    <tr>\n",
              "      <th>4</th>\n",
              "      <td>0.035280</td>\n",
              "      <td>0.009643</td>\n",
              "      <td>0.791718</td>\n",
              "      <td>0.907647</td>\n",
              "    </tr>\n",
              "  </tbody>\n",
              "</table>\n",
              "</div>\n",
              "      <button class=\"colab-df-convert\" onclick=\"convertToInteractive('df-bd362dc5-9ca5-469a-8a7f-a9c8c62ea9bb')\"\n",
              "              title=\"Convert this dataframe to an interactive table.\"\n",
              "              style=\"display:none;\">\n",
              "        \n",
              "  <svg xmlns=\"http://www.w3.org/2000/svg\" height=\"24px\"viewBox=\"0 0 24 24\"\n",
              "       width=\"24px\">\n",
              "    <path d=\"M0 0h24v24H0V0z\" fill=\"none\"/>\n",
              "    <path d=\"M18.56 5.44l.94 2.06.94-2.06 2.06-.94-2.06-.94-.94-2.06-.94 2.06-2.06.94zm-11 1L8.5 8.5l.94-2.06 2.06-.94-2.06-.94L8.5 2.5l-.94 2.06-2.06.94zm10 10l.94 2.06.94-2.06 2.06-.94-2.06-.94-.94-2.06-.94 2.06-2.06.94z\"/><path d=\"M17.41 7.96l-1.37-1.37c-.4-.4-.92-.59-1.43-.59-.52 0-1.04.2-1.43.59L10.3 9.45l-7.72 7.72c-.78.78-.78 2.05 0 2.83L4 21.41c.39.39.9.59 1.41.59.51 0 1.02-.2 1.41-.59l7.78-7.78 2.81-2.81c.8-.78.8-2.07 0-2.86zM5.41 20L4 18.59l7.72-7.72 1.47 1.35L5.41 20z\"/>\n",
              "  </svg>\n",
              "      </button>\n",
              "      \n",
              "  <style>\n",
              "    .colab-df-container {\n",
              "      display:flex;\n",
              "      flex-wrap:wrap;\n",
              "      gap: 12px;\n",
              "    }\n",
              "\n",
              "    .colab-df-convert {\n",
              "      background-color: #E8F0FE;\n",
              "      border: none;\n",
              "      border-radius: 50%;\n",
              "      cursor: pointer;\n",
              "      display: none;\n",
              "      fill: #1967D2;\n",
              "      height: 32px;\n",
              "      padding: 0 0 0 0;\n",
              "      width: 32px;\n",
              "    }\n",
              "\n",
              "    .colab-df-convert:hover {\n",
              "      background-color: #E2EBFA;\n",
              "      box-shadow: 0px 1px 2px rgba(60, 64, 67, 0.3), 0px 1px 3px 1px rgba(60, 64, 67, 0.15);\n",
              "      fill: #174EA6;\n",
              "    }\n",
              "\n",
              "    [theme=dark] .colab-df-convert {\n",
              "      background-color: #3B4455;\n",
              "      fill: #D2E3FC;\n",
              "    }\n",
              "\n",
              "    [theme=dark] .colab-df-convert:hover {\n",
              "      background-color: #434B5C;\n",
              "      box-shadow: 0px 1px 3px 1px rgba(0, 0, 0, 0.15);\n",
              "      filter: drop-shadow(0px 1px 2px rgba(0, 0, 0, 0.3));\n",
              "      fill: #FFFFFF;\n",
              "    }\n",
              "  </style>\n",
              "\n",
              "      <script>\n",
              "        const buttonEl =\n",
              "          document.querySelector('#df-bd362dc5-9ca5-469a-8a7f-a9c8c62ea9bb button.colab-df-convert');\n",
              "        buttonEl.style.display =\n",
              "          google.colab.kernel.accessAllowed ? 'block' : 'none';\n",
              "\n",
              "        async function convertToInteractive(key) {\n",
              "          const element = document.querySelector('#df-bd362dc5-9ca5-469a-8a7f-a9c8c62ea9bb');\n",
              "          const dataTable =\n",
              "            await google.colab.kernel.invokeFunction('convertToInteractive',\n",
              "                                                     [key], {});\n",
              "          if (!dataTable) return;\n",
              "\n",
              "          const docLinkHtml = 'Like what you see? Visit the ' +\n",
              "            '<a target=\"_blank\" href=https://colab.research.google.com/notebooks/data_table.ipynb>data table notebook</a>'\n",
              "            + ' to learn more about interactive tables.';\n",
              "          element.innerHTML = '';\n",
              "          dataTable['output_type'] = 'display_data';\n",
              "          await google.colab.output.renderOutput(dataTable, element);\n",
              "          const docLink = document.createElement('div');\n",
              "          docLink.innerHTML = docLinkHtml;\n",
              "          element.appendChild(docLink);\n",
              "        }\n",
              "      </script>\n",
              "    </div>\n",
              "  </div>\n",
              "  "
            ]
          },
          "metadata": {},
          "execution_count": 156
        }
      ],
      "source": [
        "cv_table = pd.DataFrame(cv_result)\n",
        "cv_table"
      ]
    },
    {
      "cell_type": "markdown",
      "metadata": {
        "id": "PfVdKbCEQusF"
      },
      "source": [
        "- Per ognuno dei 5 fold vediamo riportati\n",
        "  - i secondi impiegati per l'addestramento (`fit_time`) e la validazione (`score_time`) del modello\n",
        "  - lo score calcolato su training set (`train_score`) e validation set (`test_score`)\n",
        "- Lo score è quello calcolato dal metodo `score` del modello, ovvero il coefficiente R²"
      ]
    },
    {
      "cell_type": "markdown",
      "metadata": {
        "id": "b0QgYZj6QusG"
      },
      "source": [
        "- Per avere un dato generale sulla bontà del modello, possiamo calcolare media e deviazione standard degli score"
      ]
    },
    {
      "cell_type": "code",
      "execution_count": 157,
      "metadata": {
        "id": "DAgq7iyHQusH",
        "outputId": "21396de4-e094-4e96-c6a9-69e91f5018bb",
        "colab": {
          "base_uri": "https://localhost:8080/",
          "height": 112
        }
      },
      "outputs": [
        {
          "output_type": "execute_result",
          "data": {
            "text/plain": [
              "      train_score  test_score\n",
              "mean     0.905191    0.805109\n",
              "std      0.005657    0.076967"
            ],
            "text/html": [
              "\n",
              "  <div id=\"df-c53eab53-d8e1-44d9-a6c9-97f74c942697\">\n",
              "    <div class=\"colab-df-container\">\n",
              "      <div>\n",
              "<style scoped>\n",
              "    .dataframe tbody tr th:only-of-type {\n",
              "        vertical-align: middle;\n",
              "    }\n",
              "\n",
              "    .dataframe tbody tr th {\n",
              "        vertical-align: top;\n",
              "    }\n",
              "\n",
              "    .dataframe thead th {\n",
              "        text-align: right;\n",
              "    }\n",
              "</style>\n",
              "<table border=\"1\" class=\"dataframe\">\n",
              "  <thead>\n",
              "    <tr style=\"text-align: right;\">\n",
              "      <th></th>\n",
              "      <th>train_score</th>\n",
              "      <th>test_score</th>\n",
              "    </tr>\n",
              "  </thead>\n",
              "  <tbody>\n",
              "    <tr>\n",
              "      <th>mean</th>\n",
              "      <td>0.905191</td>\n",
              "      <td>0.805109</td>\n",
              "    </tr>\n",
              "    <tr>\n",
              "      <th>std</th>\n",
              "      <td>0.005657</td>\n",
              "      <td>0.076967</td>\n",
              "    </tr>\n",
              "  </tbody>\n",
              "</table>\n",
              "</div>\n",
              "      <button class=\"colab-df-convert\" onclick=\"convertToInteractive('df-c53eab53-d8e1-44d9-a6c9-97f74c942697')\"\n",
              "              title=\"Convert this dataframe to an interactive table.\"\n",
              "              style=\"display:none;\">\n",
              "        \n",
              "  <svg xmlns=\"http://www.w3.org/2000/svg\" height=\"24px\"viewBox=\"0 0 24 24\"\n",
              "       width=\"24px\">\n",
              "    <path d=\"M0 0h24v24H0V0z\" fill=\"none\"/>\n",
              "    <path d=\"M18.56 5.44l.94 2.06.94-2.06 2.06-.94-2.06-.94-.94-2.06-.94 2.06-2.06.94zm-11 1L8.5 8.5l.94-2.06 2.06-.94-2.06-.94L8.5 2.5l-.94 2.06-2.06.94zm10 10l.94 2.06.94-2.06 2.06-.94-2.06-.94-.94-2.06-.94 2.06-2.06.94z\"/><path d=\"M17.41 7.96l-1.37-1.37c-.4-.4-.92-.59-1.43-.59-.52 0-1.04.2-1.43.59L10.3 9.45l-7.72 7.72c-.78.78-.78 2.05 0 2.83L4 21.41c.39.39.9.59 1.41.59.51 0 1.02-.2 1.41-.59l7.78-7.78 2.81-2.81c.8-.78.8-2.07 0-2.86zM5.41 20L4 18.59l7.72-7.72 1.47 1.35L5.41 20z\"/>\n",
              "  </svg>\n",
              "      </button>\n",
              "      \n",
              "  <style>\n",
              "    .colab-df-container {\n",
              "      display:flex;\n",
              "      flex-wrap:wrap;\n",
              "      gap: 12px;\n",
              "    }\n",
              "\n",
              "    .colab-df-convert {\n",
              "      background-color: #E8F0FE;\n",
              "      border: none;\n",
              "      border-radius: 50%;\n",
              "      cursor: pointer;\n",
              "      display: none;\n",
              "      fill: #1967D2;\n",
              "      height: 32px;\n",
              "      padding: 0 0 0 0;\n",
              "      width: 32px;\n",
              "    }\n",
              "\n",
              "    .colab-df-convert:hover {\n",
              "      background-color: #E2EBFA;\n",
              "      box-shadow: 0px 1px 2px rgba(60, 64, 67, 0.3), 0px 1px 3px 1px rgba(60, 64, 67, 0.15);\n",
              "      fill: #174EA6;\n",
              "    }\n",
              "\n",
              "    [theme=dark] .colab-df-convert {\n",
              "      background-color: #3B4455;\n",
              "      fill: #D2E3FC;\n",
              "    }\n",
              "\n",
              "    [theme=dark] .colab-df-convert:hover {\n",
              "      background-color: #434B5C;\n",
              "      box-shadow: 0px 1px 3px 1px rgba(0, 0, 0, 0.15);\n",
              "      filter: drop-shadow(0px 1px 2px rgba(0, 0, 0, 0.3));\n",
              "      fill: #FFFFFF;\n",
              "    }\n",
              "  </style>\n",
              "\n",
              "      <script>\n",
              "        const buttonEl =\n",
              "          document.querySelector('#df-c53eab53-d8e1-44d9-a6c9-97f74c942697 button.colab-df-convert');\n",
              "        buttonEl.style.display =\n",
              "          google.colab.kernel.accessAllowed ? 'block' : 'none';\n",
              "\n",
              "        async function convertToInteractive(key) {\n",
              "          const element = document.querySelector('#df-c53eab53-d8e1-44d9-a6c9-97f74c942697');\n",
              "          const dataTable =\n",
              "            await google.colab.kernel.invokeFunction('convertToInteractive',\n",
              "                                                     [key], {});\n",
              "          if (!dataTable) return;\n",
              "\n",
              "          const docLinkHtml = 'Like what you see? Visit the ' +\n",
              "            '<a target=\"_blank\" href=https://colab.research.google.com/notebooks/data_table.ipynb>data table notebook</a>'\n",
              "            + ' to learn more about interactive tables.';\n",
              "          element.innerHTML = '';\n",
              "          dataTable['output_type'] = 'display_data';\n",
              "          await google.colab.output.renderOutput(dataTable, element);\n",
              "          const docLink = document.createElement('div');\n",
              "          docLink.innerHTML = docLinkHtml;\n",
              "          element.appendChild(docLink);\n",
              "        }\n",
              "      </script>\n",
              "    </div>\n",
              "  </div>\n",
              "  "
            ]
          },
          "metadata": {},
          "execution_count": 157
        }
      ],
      "source": [
        "cv_table[[\"train_score\", \"test_score\"]].agg([\"mean\", \"std\"])"
      ]
    },
    {
      "cell_type": "markdown",
      "metadata": {
        "id": "uT20usEpQusI"
      },
      "source": [
        "- Tale valutazione è più affidabile di quella col metodo hold-out, ottenuta da un singolo modello\n",
        "- Ci permette inoltre di valutare la \"robustezza\" del modello, ovvero quanto l'accuratezza sia stabile addestrandosi su set di dati diversi"
      ]
    },
    {
      "cell_type": "markdown",
      "metadata": {
        "id": "M6pU4V2qQusK"
      },
      "source": [
        "## Esercizio 4: Cross-validation su modello kernel ridge\n",
        "\n",
        "- **(4a)** Definire un modello di regressione kernel ridge su feature standardizzate con kernel polinomiale di 3° grado e $\\alpha=10$\n",
        "- **(4b)** Eseguire la cross-validation del modello, utilizzando 5 fold dell'intero set di dati (`X` e `y`) generati dall'oggetto `kf` definito sopra\n",
        "- **(4c)** Calcolare la media e la deviazione standard dei punteggi R² ottenuti dalla validazione di ciascun fold"
      ]
    },
    {
      "cell_type": "code",
      "source": [
        "mdl1 = Pipeline([(\"std\", StandardScaler()),\n",
        "                 (\"kernel\", KernelRidge(alpha=10, kernel=\"poly\", degree=3))])"
      ],
      "metadata": {
        "id": "sRtPxXTKjb3v"
      },
      "execution_count": 158,
      "outputs": []
    },
    {
      "cell_type": "code",
      "source": [
        "result = cross_validate(mdl1, X, y, cv=kf, return_train_score=True)"
      ],
      "metadata": {
        "id": "pUB8A2xAjcDy"
      },
      "execution_count": 159,
      "outputs": []
    },
    {
      "cell_type": "code",
      "source": [
        "result = pd.DataFrame(result)\n",
        "result.agg([\"mean\", \"std\"])"
      ],
      "metadata": {
        "id": "m6YEGOCrjcQa",
        "outputId": "7c1b9771-dc59-4313-a63f-f1abf0918f34",
        "colab": {
          "base_uri": "https://localhost:8080/",
          "height": 112
        }
      },
      "execution_count": 160,
      "outputs": [
        {
          "output_type": "execute_result",
          "data": {
            "text/plain": [
              "      fit_time  score_time  test_score  train_score\n",
              "mean  0.024462    0.007093    0.838269     0.885386\n",
              "std   0.007503    0.002032    0.056934     0.007230"
            ],
            "text/html": [
              "\n",
              "  <div id=\"df-ecf26845-ff38-4418-b692-5b6e5d165e43\">\n",
              "    <div class=\"colab-df-container\">\n",
              "      <div>\n",
              "<style scoped>\n",
              "    .dataframe tbody tr th:only-of-type {\n",
              "        vertical-align: middle;\n",
              "    }\n",
              "\n",
              "    .dataframe tbody tr th {\n",
              "        vertical-align: top;\n",
              "    }\n",
              "\n",
              "    .dataframe thead th {\n",
              "        text-align: right;\n",
              "    }\n",
              "</style>\n",
              "<table border=\"1\" class=\"dataframe\">\n",
              "  <thead>\n",
              "    <tr style=\"text-align: right;\">\n",
              "      <th></th>\n",
              "      <th>fit_time</th>\n",
              "      <th>score_time</th>\n",
              "      <th>test_score</th>\n",
              "      <th>train_score</th>\n",
              "    </tr>\n",
              "  </thead>\n",
              "  <tbody>\n",
              "    <tr>\n",
              "      <th>mean</th>\n",
              "      <td>0.024462</td>\n",
              "      <td>0.007093</td>\n",
              "      <td>0.838269</td>\n",
              "      <td>0.885386</td>\n",
              "    </tr>\n",
              "    <tr>\n",
              "      <th>std</th>\n",
              "      <td>0.007503</td>\n",
              "      <td>0.002032</td>\n",
              "      <td>0.056934</td>\n",
              "      <td>0.007230</td>\n",
              "    </tr>\n",
              "  </tbody>\n",
              "</table>\n",
              "</div>\n",
              "      <button class=\"colab-df-convert\" onclick=\"convertToInteractive('df-ecf26845-ff38-4418-b692-5b6e5d165e43')\"\n",
              "              title=\"Convert this dataframe to an interactive table.\"\n",
              "              style=\"display:none;\">\n",
              "        \n",
              "  <svg xmlns=\"http://www.w3.org/2000/svg\" height=\"24px\"viewBox=\"0 0 24 24\"\n",
              "       width=\"24px\">\n",
              "    <path d=\"M0 0h24v24H0V0z\" fill=\"none\"/>\n",
              "    <path d=\"M18.56 5.44l.94 2.06.94-2.06 2.06-.94-2.06-.94-.94-2.06-.94 2.06-2.06.94zm-11 1L8.5 8.5l.94-2.06 2.06-.94-2.06-.94L8.5 2.5l-.94 2.06-2.06.94zm10 10l.94 2.06.94-2.06 2.06-.94-2.06-.94-.94-2.06-.94 2.06-2.06.94z\"/><path d=\"M17.41 7.96l-1.37-1.37c-.4-.4-.92-.59-1.43-.59-.52 0-1.04.2-1.43.59L10.3 9.45l-7.72 7.72c-.78.78-.78 2.05 0 2.83L4 21.41c.39.39.9.59 1.41.59.51 0 1.02-.2 1.41-.59l7.78-7.78 2.81-2.81c.8-.78.8-2.07 0-2.86zM5.41 20L4 18.59l7.72-7.72 1.47 1.35L5.41 20z\"/>\n",
              "  </svg>\n",
              "      </button>\n",
              "      \n",
              "  <style>\n",
              "    .colab-df-container {\n",
              "      display:flex;\n",
              "      flex-wrap:wrap;\n",
              "      gap: 12px;\n",
              "    }\n",
              "\n",
              "    .colab-df-convert {\n",
              "      background-color: #E8F0FE;\n",
              "      border: none;\n",
              "      border-radius: 50%;\n",
              "      cursor: pointer;\n",
              "      display: none;\n",
              "      fill: #1967D2;\n",
              "      height: 32px;\n",
              "      padding: 0 0 0 0;\n",
              "      width: 32px;\n",
              "    }\n",
              "\n",
              "    .colab-df-convert:hover {\n",
              "      background-color: #E2EBFA;\n",
              "      box-shadow: 0px 1px 2px rgba(60, 64, 67, 0.3), 0px 1px 3px 1px rgba(60, 64, 67, 0.15);\n",
              "      fill: #174EA6;\n",
              "    }\n",
              "\n",
              "    [theme=dark] .colab-df-convert {\n",
              "      background-color: #3B4455;\n",
              "      fill: #D2E3FC;\n",
              "    }\n",
              "\n",
              "    [theme=dark] .colab-df-convert:hover {\n",
              "      background-color: #434B5C;\n",
              "      box-shadow: 0px 1px 3px 1px rgba(0, 0, 0, 0.15);\n",
              "      filter: drop-shadow(0px 1px 2px rgba(0, 0, 0, 0.3));\n",
              "      fill: #FFFFFF;\n",
              "    }\n",
              "  </style>\n",
              "\n",
              "      <script>\n",
              "        const buttonEl =\n",
              "          document.querySelector('#df-ecf26845-ff38-4418-b692-5b6e5d165e43 button.colab-df-convert');\n",
              "        buttonEl.style.display =\n",
              "          google.colab.kernel.accessAllowed ? 'block' : 'none';\n",
              "\n",
              "        async function convertToInteractive(key) {\n",
              "          const element = document.querySelector('#df-ecf26845-ff38-4418-b692-5b6e5d165e43');\n",
              "          const dataTable =\n",
              "            await google.colab.kernel.invokeFunction('convertToInteractive',\n",
              "                                                     [key], {});\n",
              "          if (!dataTable) return;\n",
              "\n",
              "          const docLinkHtml = 'Like what you see? Visit the ' +\n",
              "            '<a target=\"_blank\" href=https://colab.research.google.com/notebooks/data_table.ipynb>data table notebook</a>'\n",
              "            + ' to learn more about interactive tables.';\n",
              "          element.innerHTML = '';\n",
              "          dataTable['output_type'] = 'display_data';\n",
              "          await google.colab.output.renderOutput(dataTable, element);\n",
              "          const docLink = document.createElement('div');\n",
              "          docLink.innerHTML = docLinkHtml;\n",
              "          element.appendChild(docLink);\n",
              "        }\n",
              "      </script>\n",
              "    </div>\n",
              "  </div>\n",
              "  "
            ]
          },
          "metadata": {},
          "execution_count": 160
        }
      ]
    },
    {
      "cell_type": "markdown",
      "metadata": {
        "id": "jUWy6zYqQusK"
      },
      "source": [
        "## Ricerca degli iperparametri con grid search\n",
        "\n",
        "- Sui modelli utilizzati finora abbiamo impostato manualmente i valori di diversi iperparametri\n",
        "  - grado della regressione polinomiale, peso della regolarizzazione, ...\n",
        "- L'accuratezza del modello può dipendere fortemente da questi valori\n",
        "- Scelto un generico modello da utilizzare (es. regressione polinomiale o kernel ridge), vorremmo **individuare i valori degli iperparametri che ne massimizzino l'accuratezza**\n",
        "- scikit-learn fornisce un supporto per eseguire automaticamente la cross validation di un modello con diversi valori degli iperparametri tramite la _grid search_"
      ]
    },
    {
      "cell_type": "markdown",
      "metadata": {
        "id": "X-czmm9JQusL"
      },
      "source": [
        "- Consideriamo ad esempio un modello _elastic net_ di cui fissiamo arbitrariamente il parametro `l1_ratio`"
      ]
    },
    {
      "cell_type": "code",
      "execution_count": 161,
      "metadata": {
        "id": "s3ws6oSWQusL"
      },
      "outputs": [],
      "source": [
        "model = ElasticNet(l1_ratio=0.2)"
      ]
    },
    {
      "cell_type": "markdown",
      "metadata": {
        "id": "Cw6Jpv60QusM"
      },
      "source": [
        "- Vorremmo trovare il migliore valore possibile del parametro `alpha` tra un insieme di valori possibili, ovvero:"
      ]
    },
    {
      "cell_type": "code",
      "execution_count": 162,
      "metadata": {
        "id": "cLIlEhvOQusM"
      },
      "outputs": [],
      "source": [
        "candidate_alphas = [0.1, 1, 10]"
      ]
    },
    {
      "cell_type": "markdown",
      "metadata": {
        "id": "iXrqxOj_QusN"
      },
      "source": [
        "- Creiamo una _griglia_ dei parametri, ovvero un dizionario in cui associamo ai nomi dei parametri variabili i valori che possono assumere\n",
        "- In questo caso abbiamo un unico parametro variabile, `alpha`"
      ]
    },
    {
      "cell_type": "code",
      "execution_count": 163,
      "metadata": {
        "id": "ZgyAwD51QusN"
      },
      "outputs": [],
      "source": [
        "grid = {\"alpha\": candidate_alphas}"
      ]
    },
    {
      "cell_type": "markdown",
      "metadata": {
        "id": "4ZVQxjuYQusO"
      },
      "source": [
        "- Definiamo ora un modello `GridSearchCV` indicando\n",
        "  - il modello \"base\" con i parametri fissati a priori\n",
        "  - la griglia dei parametri variabili\n",
        "  - un metodo `cv` di cross validation da usare"
      ]
    },
    {
      "cell_type": "code",
      "execution_count": 164,
      "metadata": {
        "id": "9w3iTphGQusP"
      },
      "outputs": [],
      "source": [
        "from sklearn.model_selection import GridSearchCV\n",
        "gs = GridSearchCV(model, grid, cv=kf)"
      ]
    },
    {
      "cell_type": "markdown",
      "metadata": {
        "id": "NBK54_ODQusQ"
      },
      "source": [
        "- Come per i modelli base, usiamo il metodo `fit` per eseguire l'addestramento, passando la matrice X e il vettore y\n",
        "- Per ogni valore possibile di `alpha`, scikit-learn esegue la cross-validation per calcolare il punteggio R² medio del modello con quel valore di `alpha`"
      ]
    },
    {
      "cell_type": "code",
      "execution_count": 165,
      "metadata": {
        "id": "pV_fNnhuQusQ"
      },
      "outputs": [],
      "source": [
        "gs.fit(X_train, y_train);"
      ]
    },
    {
      "cell_type": "markdown",
      "metadata": {
        "id": "4IaddOp5QusR"
      },
      "source": [
        "- In seguito ai test, il modello impostato viene (di default) riaddestrato su tutti i dati forniti, usando gli iperparametri che han dato il miglior punteggio medio\n",
        "- Il modello finale è accessibile all'attributo `gs_best_estimator_`"
      ]
    },
    {
      "cell_type": "code",
      "execution_count": 166,
      "metadata": {
        "id": "oLb7WK39QusS",
        "outputId": "eb440a25-c437-4c05-8aed-b49bf0cd9218",
        "colab": {
          "base_uri": "https://localhost:8080/"
        }
      },
      "outputs": [
        {
          "output_type": "execute_result",
          "data": {
            "text/plain": [
              "ElasticNet(alpha=0.1, l1_ratio=0.2)"
            ]
          },
          "metadata": {},
          "execution_count": 166
        }
      ],
      "source": [
        "gs.best_estimator_"
      ]
    },
    {
      "cell_type": "markdown",
      "metadata": {
        "id": "R4S_RZuJQusT"
      },
      "source": [
        "- Dall'attributo `best_params_` possiamo vedere quali sono i valori selezionati dalla griglia degli iperparametri per tale modello"
      ]
    },
    {
      "cell_type": "code",
      "execution_count": 167,
      "metadata": {
        "id": "Iaf1GTZSQusT",
        "outputId": "7e6d40a0-d7eb-495a-bb05-5d4fe28f7d66",
        "colab": {
          "base_uri": "https://localhost:8080/"
        }
      },
      "outputs": [
        {
          "output_type": "execute_result",
          "data": {
            "text/plain": [
              "{'alpha': 0.1}"
            ]
          },
          "metadata": {},
          "execution_count": 167
        }
      ],
      "source": [
        "gs.best_params_"
      ]
    },
    {
      "cell_type": "markdown",
      "metadata": {
        "id": "M4ro6z67QusT"
      },
      "source": [
        "- L'oggetto `GridSearchCV` addestrato può essere usato come un normale modello di predizione, le chiamate a `predict` e altri metodi sono girate al `best_estimator_`"
      ]
    },
    {
      "cell_type": "code",
      "execution_count": 168,
      "metadata": {
        "id": "ts3pU8d9QusU",
        "outputId": "1a02a5c6-d6d4-4f26-d525-83b4ef2e8ee3",
        "colab": {
          "base_uri": "https://localhost:8080/"
        }
      },
      "outputs": [
        {
          "output_type": "execute_result",
          "data": {
            "text/plain": [
              "array([28.35759953])"
            ]
          },
          "metadata": {},
          "execution_count": 168
        }
      ],
      "source": [
        "# prezzo predetto per la prima riga del validation set\n",
        "gs.predict(X_val.iloc[[0]])"
      ]
    },
    {
      "cell_type": "code",
      "execution_count": 169,
      "metadata": {
        "id": "5X57Rz4HQusV",
        "outputId": "352b6b78-a807-4a17-bbc9-38cd317af419",
        "colab": {
          "base_uri": "https://localhost:8080/"
        }
      },
      "outputs": [
        {
          "output_type": "execute_result",
          "data": {
            "text/plain": [
              "array([28.35759953])"
            ]
          },
          "metadata": {},
          "execution_count": 169
        }
      ],
      "source": [
        "# equivalente a\n",
        "gs.best_estimator_.predict(X_val.iloc[[0]])"
      ]
    },
    {
      "cell_type": "markdown",
      "metadata": {
        "id": "TN1onThkQusW"
      },
      "source": [
        "- Possiamo valutare il modello sul validation set \"esterno\", non utilizzato nella grid search"
      ]
    },
    {
      "cell_type": "code",
      "execution_count": 170,
      "metadata": {
        "id": "P1DKM_8-QusW",
        "outputId": "c6f06595-d49b-479b-9629-9177ae5cbe41",
        "colab": {
          "base_uri": "https://localhost:8080/"
        }
      },
      "outputs": [
        {
          "output_type": "stream",
          "name": "stdout",
          "text": [
            "   Mean squared error: 21.905\n",
            "       Relative error: 16.80121%\n",
            "R-squared coefficient: 0.7088\n"
          ]
        }
      ],
      "source": [
        "print_eval(X_val, y_val, gs)"
      ]
    },
    {
      "cell_type": "markdown",
      "metadata": {
        "id": "TXM8JVOZQusX"
      },
      "source": [
        "- L'attributo `cv_results_` fornisce risultati dettagliati su tutti gli iperparametri testati\n",
        "- Come per `cross_validate`, raccogliamo i risultati in un `DataFrame` per visualizzarli meglio"
      ]
    },
    {
      "cell_type": "code",
      "execution_count": 171,
      "metadata": {
        "id": "D4rdcS_HQusY",
        "outputId": "b8255c52-df3e-4614-bc7b-abb7f5842def",
        "colab": {
          "base_uri": "https://localhost:8080/",
          "height": 259
        }
      },
      "outputs": [
        {
          "output_type": "execute_result",
          "data": {
            "text/plain": [
              "   mean_fit_time  std_fit_time  mean_score_time  std_score_time param_alpha  \\\n",
              "0       0.003681      0.000950         0.001866        0.000328         0.1   \n",
              "1       0.002286      0.000224         0.001560        0.000042           1   \n",
              "2       0.002206      0.000241         0.001528        0.000049          10   \n",
              "\n",
              "           params  split0_test_score  split1_test_score  split2_test_score  \\\n",
              "0  {'alpha': 0.1}           0.727252           0.496850           0.637157   \n",
              "1    {'alpha': 1}           0.714022           0.523966           0.594603   \n",
              "2   {'alpha': 10}           0.624769           0.373641           0.572294   \n",
              "\n",
              "   split3_test_score  split4_test_score  mean_test_score  std_test_score  \\\n",
              "0           0.721205           0.800228         0.676539        0.103639   \n",
              "1           0.670194           0.761741         0.652905        0.084740   \n",
              "2           0.539693           0.623149         0.546709        0.092296   \n",
              "\n",
              "   rank_test_score  \n",
              "0                1  \n",
              "1                2  \n",
              "2                3  "
            ],
            "text/html": [
              "\n",
              "  <div id=\"df-0a02c993-f7a3-4ca2-b287-999abc8e1bfc\">\n",
              "    <div class=\"colab-df-container\">\n",
              "      <div>\n",
              "<style scoped>\n",
              "    .dataframe tbody tr th:only-of-type {\n",
              "        vertical-align: middle;\n",
              "    }\n",
              "\n",
              "    .dataframe tbody tr th {\n",
              "        vertical-align: top;\n",
              "    }\n",
              "\n",
              "    .dataframe thead th {\n",
              "        text-align: right;\n",
              "    }\n",
              "</style>\n",
              "<table border=\"1\" class=\"dataframe\">\n",
              "  <thead>\n",
              "    <tr style=\"text-align: right;\">\n",
              "      <th></th>\n",
              "      <th>mean_fit_time</th>\n",
              "      <th>std_fit_time</th>\n",
              "      <th>mean_score_time</th>\n",
              "      <th>std_score_time</th>\n",
              "      <th>param_alpha</th>\n",
              "      <th>params</th>\n",
              "      <th>split0_test_score</th>\n",
              "      <th>split1_test_score</th>\n",
              "      <th>split2_test_score</th>\n",
              "      <th>split3_test_score</th>\n",
              "      <th>split4_test_score</th>\n",
              "      <th>mean_test_score</th>\n",
              "      <th>std_test_score</th>\n",
              "      <th>rank_test_score</th>\n",
              "    </tr>\n",
              "  </thead>\n",
              "  <tbody>\n",
              "    <tr>\n",
              "      <th>0</th>\n",
              "      <td>0.003681</td>\n",
              "      <td>0.000950</td>\n",
              "      <td>0.001866</td>\n",
              "      <td>0.000328</td>\n",
              "      <td>0.1</td>\n",
              "      <td>{'alpha': 0.1}</td>\n",
              "      <td>0.727252</td>\n",
              "      <td>0.496850</td>\n",
              "      <td>0.637157</td>\n",
              "      <td>0.721205</td>\n",
              "      <td>0.800228</td>\n",
              "      <td>0.676539</td>\n",
              "      <td>0.103639</td>\n",
              "      <td>1</td>\n",
              "    </tr>\n",
              "    <tr>\n",
              "      <th>1</th>\n",
              "      <td>0.002286</td>\n",
              "      <td>0.000224</td>\n",
              "      <td>0.001560</td>\n",
              "      <td>0.000042</td>\n",
              "      <td>1</td>\n",
              "      <td>{'alpha': 1}</td>\n",
              "      <td>0.714022</td>\n",
              "      <td>0.523966</td>\n",
              "      <td>0.594603</td>\n",
              "      <td>0.670194</td>\n",
              "      <td>0.761741</td>\n",
              "      <td>0.652905</td>\n",
              "      <td>0.084740</td>\n",
              "      <td>2</td>\n",
              "    </tr>\n",
              "    <tr>\n",
              "      <th>2</th>\n",
              "      <td>0.002206</td>\n",
              "      <td>0.000241</td>\n",
              "      <td>0.001528</td>\n",
              "      <td>0.000049</td>\n",
              "      <td>10</td>\n",
              "      <td>{'alpha': 10}</td>\n",
              "      <td>0.624769</td>\n",
              "      <td>0.373641</td>\n",
              "      <td>0.572294</td>\n",
              "      <td>0.539693</td>\n",
              "      <td>0.623149</td>\n",
              "      <td>0.546709</td>\n",
              "      <td>0.092296</td>\n",
              "      <td>3</td>\n",
              "    </tr>\n",
              "  </tbody>\n",
              "</table>\n",
              "</div>\n",
              "      <button class=\"colab-df-convert\" onclick=\"convertToInteractive('df-0a02c993-f7a3-4ca2-b287-999abc8e1bfc')\"\n",
              "              title=\"Convert this dataframe to an interactive table.\"\n",
              "              style=\"display:none;\">\n",
              "        \n",
              "  <svg xmlns=\"http://www.w3.org/2000/svg\" height=\"24px\"viewBox=\"0 0 24 24\"\n",
              "       width=\"24px\">\n",
              "    <path d=\"M0 0h24v24H0V0z\" fill=\"none\"/>\n",
              "    <path d=\"M18.56 5.44l.94 2.06.94-2.06 2.06-.94-2.06-.94-.94-2.06-.94 2.06-2.06.94zm-11 1L8.5 8.5l.94-2.06 2.06-.94-2.06-.94L8.5 2.5l-.94 2.06-2.06.94zm10 10l.94 2.06.94-2.06 2.06-.94-2.06-.94-.94-2.06-.94 2.06-2.06.94z\"/><path d=\"M17.41 7.96l-1.37-1.37c-.4-.4-.92-.59-1.43-.59-.52 0-1.04.2-1.43.59L10.3 9.45l-7.72 7.72c-.78.78-.78 2.05 0 2.83L4 21.41c.39.39.9.59 1.41.59.51 0 1.02-.2 1.41-.59l7.78-7.78 2.81-2.81c.8-.78.8-2.07 0-2.86zM5.41 20L4 18.59l7.72-7.72 1.47 1.35L5.41 20z\"/>\n",
              "  </svg>\n",
              "      </button>\n",
              "      \n",
              "  <style>\n",
              "    .colab-df-container {\n",
              "      display:flex;\n",
              "      flex-wrap:wrap;\n",
              "      gap: 12px;\n",
              "    }\n",
              "\n",
              "    .colab-df-convert {\n",
              "      background-color: #E8F0FE;\n",
              "      border: none;\n",
              "      border-radius: 50%;\n",
              "      cursor: pointer;\n",
              "      display: none;\n",
              "      fill: #1967D2;\n",
              "      height: 32px;\n",
              "      padding: 0 0 0 0;\n",
              "      width: 32px;\n",
              "    }\n",
              "\n",
              "    .colab-df-convert:hover {\n",
              "      background-color: #E2EBFA;\n",
              "      box-shadow: 0px 1px 2px rgba(60, 64, 67, 0.3), 0px 1px 3px 1px rgba(60, 64, 67, 0.15);\n",
              "      fill: #174EA6;\n",
              "    }\n",
              "\n",
              "    [theme=dark] .colab-df-convert {\n",
              "      background-color: #3B4455;\n",
              "      fill: #D2E3FC;\n",
              "    }\n",
              "\n",
              "    [theme=dark] .colab-df-convert:hover {\n",
              "      background-color: #434B5C;\n",
              "      box-shadow: 0px 1px 3px 1px rgba(0, 0, 0, 0.15);\n",
              "      filter: drop-shadow(0px 1px 2px rgba(0, 0, 0, 0.3));\n",
              "      fill: #FFFFFF;\n",
              "    }\n",
              "  </style>\n",
              "\n",
              "      <script>\n",
              "        const buttonEl =\n",
              "          document.querySelector('#df-0a02c993-f7a3-4ca2-b287-999abc8e1bfc button.colab-df-convert');\n",
              "        buttonEl.style.display =\n",
              "          google.colab.kernel.accessAllowed ? 'block' : 'none';\n",
              "\n",
              "        async function convertToInteractive(key) {\n",
              "          const element = document.querySelector('#df-0a02c993-f7a3-4ca2-b287-999abc8e1bfc');\n",
              "          const dataTable =\n",
              "            await google.colab.kernel.invokeFunction('convertToInteractive',\n",
              "                                                     [key], {});\n",
              "          if (!dataTable) return;\n",
              "\n",
              "          const docLinkHtml = 'Like what you see? Visit the ' +\n",
              "            '<a target=\"_blank\" href=https://colab.research.google.com/notebooks/data_table.ipynb>data table notebook</a>'\n",
              "            + ' to learn more about interactive tables.';\n",
              "          element.innerHTML = '';\n",
              "          dataTable['output_type'] = 'display_data';\n",
              "          await google.colab.output.renderOutput(dataTable, element);\n",
              "          const docLink = document.createElement('div');\n",
              "          docLink.innerHTML = docLinkHtml;\n",
              "          element.appendChild(docLink);\n",
              "        }\n",
              "      </script>\n",
              "    </div>\n",
              "  </div>\n",
              "  "
            ]
          },
          "metadata": {},
          "execution_count": 171
        }
      ],
      "source": [
        "pd.DataFrame(gs.cv_results_)"
      ]
    },
    {
      "cell_type": "markdown",
      "metadata": {
        "id": "CynIsg5yQusY"
      },
      "source": [
        "I dati riportati per ciascun test includono:\n",
        "- `{mean|std}_{fit|score}_time`: media/dev. standard dei tempi di addestramento/valutazione sui diversi fold\n",
        "- `param_X`: valore del parametro X\n",
        "- `params`: dizionario col valore di tutti i parametri\n",
        "- `splitN_test_score`: punteggio della valutazione sull'N-esimo fold\n",
        "- `{mean|std}_test_score`: media/dev. standard dei punteggi sui diversi fold\n",
        "- `rank_test_score`: ranking del punteggio, 1 è il migliore"
      ]
    },
    {
      "cell_type": "markdown",
      "metadata": {
        "id": "-yk3yC4XQusZ"
      },
      "source": [
        "- Cosa succede con due iperparametri variabili?\n",
        "- Oltre a 3 valori possibili per `alpha`, impostiamo 3 valori possibili anche per `l1_ratio`"
      ]
    },
    {
      "cell_type": "code",
      "execution_count": 172,
      "metadata": {
        "id": "4AtFIcLZQusZ"
      },
      "outputs": [],
      "source": [
        "model = ElasticNet()\n",
        "grid = {\n",
        "    \"alpha\":    [0.1, 1, 10],\n",
        "    \"l1_ratio\": [0.1, 0.2, 0.3]\n",
        "}\n",
        "gs = GridSearchCV(model, grid, cv=kf)\n",
        "gs.fit(X_train, y_train);"
      ]
    },
    {
      "cell_type": "markdown",
      "metadata": {
        "id": "yjhJIi4dQusa"
      },
      "source": [
        "- Visualizzo i risultati ordinati per punteggio R² medio decrescente"
      ]
    },
    {
      "cell_type": "code",
      "execution_count": 173,
      "metadata": {
        "id": "eFfKx70hQusa",
        "outputId": "4c00b32c-c36b-481e-b777-ab435a0a6756",
        "colab": {
          "base_uri": "https://localhost:8080/",
          "height": 864
        }
      },
      "outputs": [
        {
          "output_type": "execute_result",
          "data": {
            "text/plain": [
              "   mean_fit_time  std_fit_time  mean_score_time  std_score_time param_alpha  \\\n",
              "0       0.003810      0.000378         0.003537        0.001367         0.1   \n",
              "1       0.002679      0.000764         0.001767        0.000336         0.1   \n",
              "2       0.002224      0.000119         0.001536        0.000021         0.1   \n",
              "3       0.003000      0.000601         0.001860        0.000319           1   \n",
              "4       0.002348      0.000335         0.001558        0.000105           1   \n",
              "5       0.003374      0.000294         0.001957        0.000111           1   \n",
              "6       0.002296      0.000315         0.001874        0.000597          10   \n",
              "7       0.002131      0.000041         0.001537        0.000022          10   \n",
              "8       0.002256      0.000183         0.002015        0.000925          10   \n",
              "\n",
              "  param_l1_ratio                           params  split0_test_score  \\\n",
              "0            0.1  {'alpha': 0.1, 'l1_ratio': 0.1}           0.727791   \n",
              "1            0.2  {'alpha': 0.1, 'l1_ratio': 0.2}           0.727252   \n",
              "2            0.3  {'alpha': 0.1, 'l1_ratio': 0.3}           0.726624   \n",
              "3            0.1    {'alpha': 1, 'l1_ratio': 0.1}           0.714960   \n",
              "4            0.2    {'alpha': 1, 'l1_ratio': 0.2}           0.714022   \n",
              "5            0.3    {'alpha': 1, 'l1_ratio': 0.3}           0.714237   \n",
              "6            0.1   {'alpha': 10, 'l1_ratio': 0.1}           0.638007   \n",
              "7            0.2   {'alpha': 10, 'l1_ratio': 0.2}           0.624769   \n",
              "8            0.3   {'alpha': 10, 'l1_ratio': 0.3}           0.614417   \n",
              "\n",
              "   split1_test_score  split2_test_score  split3_test_score  split4_test_score  \\\n",
              "0           0.499753           0.636757           0.721171           0.800223   \n",
              "1           0.496850           0.637157           0.721205           0.800228   \n",
              "2           0.493642           0.637503           0.721081           0.800186   \n",
              "3           0.526437           0.595148           0.670794           0.763423   \n",
              "4           0.523966           0.594603           0.670194           0.761741   \n",
              "5           0.521933           0.594699           0.669538           0.759777   \n",
              "6           0.397883           0.577252           0.557198           0.655982   \n",
              "7           0.373641           0.572294           0.539693           0.623149   \n",
              "8           0.357906           0.570172           0.529856           0.607627   \n",
              "\n",
              "   mean_test_score  std_test_score  rank_test_score  \n",
              "0         0.677139        0.102714                1  \n",
              "1         0.676539        0.103639                2  \n",
              "2         0.675807        0.104646                3  \n",
              "3         0.654152        0.084507                4  \n",
              "4         0.652905        0.084740                5  \n",
              "5         0.652037        0.084850                6  \n",
              "6         0.565264        0.091374                7  \n",
              "7         0.546709        0.092296                8  \n",
              "8         0.535995        0.094024                9  "
            ],
            "text/html": [
              "\n",
              "  <div id=\"df-140217bb-cadf-4a4a-8ca0-d4d46c052fa9\">\n",
              "    <div class=\"colab-df-container\">\n",
              "      <div>\n",
              "<style scoped>\n",
              "    .dataframe tbody tr th:only-of-type {\n",
              "        vertical-align: middle;\n",
              "    }\n",
              "\n",
              "    .dataframe tbody tr th {\n",
              "        vertical-align: top;\n",
              "    }\n",
              "\n",
              "    .dataframe thead th {\n",
              "        text-align: right;\n",
              "    }\n",
              "</style>\n",
              "<table border=\"1\" class=\"dataframe\">\n",
              "  <thead>\n",
              "    <tr style=\"text-align: right;\">\n",
              "      <th></th>\n",
              "      <th>mean_fit_time</th>\n",
              "      <th>std_fit_time</th>\n",
              "      <th>mean_score_time</th>\n",
              "      <th>std_score_time</th>\n",
              "      <th>param_alpha</th>\n",
              "      <th>param_l1_ratio</th>\n",
              "      <th>params</th>\n",
              "      <th>split0_test_score</th>\n",
              "      <th>split1_test_score</th>\n",
              "      <th>split2_test_score</th>\n",
              "      <th>split3_test_score</th>\n",
              "      <th>split4_test_score</th>\n",
              "      <th>mean_test_score</th>\n",
              "      <th>std_test_score</th>\n",
              "      <th>rank_test_score</th>\n",
              "    </tr>\n",
              "  </thead>\n",
              "  <tbody>\n",
              "    <tr>\n",
              "      <th>0</th>\n",
              "      <td>0.003810</td>\n",
              "      <td>0.000378</td>\n",
              "      <td>0.003537</td>\n",
              "      <td>0.001367</td>\n",
              "      <td>0.1</td>\n",
              "      <td>0.1</td>\n",
              "      <td>{'alpha': 0.1, 'l1_ratio': 0.1}</td>\n",
              "      <td>0.727791</td>\n",
              "      <td>0.499753</td>\n",
              "      <td>0.636757</td>\n",
              "      <td>0.721171</td>\n",
              "      <td>0.800223</td>\n",
              "      <td>0.677139</td>\n",
              "      <td>0.102714</td>\n",
              "      <td>1</td>\n",
              "    </tr>\n",
              "    <tr>\n",
              "      <th>1</th>\n",
              "      <td>0.002679</td>\n",
              "      <td>0.000764</td>\n",
              "      <td>0.001767</td>\n",
              "      <td>0.000336</td>\n",
              "      <td>0.1</td>\n",
              "      <td>0.2</td>\n",
              "      <td>{'alpha': 0.1, 'l1_ratio': 0.2}</td>\n",
              "      <td>0.727252</td>\n",
              "      <td>0.496850</td>\n",
              "      <td>0.637157</td>\n",
              "      <td>0.721205</td>\n",
              "      <td>0.800228</td>\n",
              "      <td>0.676539</td>\n",
              "      <td>0.103639</td>\n",
              "      <td>2</td>\n",
              "    </tr>\n",
              "    <tr>\n",
              "      <th>2</th>\n",
              "      <td>0.002224</td>\n",
              "      <td>0.000119</td>\n",
              "      <td>0.001536</td>\n",
              "      <td>0.000021</td>\n",
              "      <td>0.1</td>\n",
              "      <td>0.3</td>\n",
              "      <td>{'alpha': 0.1, 'l1_ratio': 0.3}</td>\n",
              "      <td>0.726624</td>\n",
              "      <td>0.493642</td>\n",
              "      <td>0.637503</td>\n",
              "      <td>0.721081</td>\n",
              "      <td>0.800186</td>\n",
              "      <td>0.675807</td>\n",
              "      <td>0.104646</td>\n",
              "      <td>3</td>\n",
              "    </tr>\n",
              "    <tr>\n",
              "      <th>3</th>\n",
              "      <td>0.003000</td>\n",
              "      <td>0.000601</td>\n",
              "      <td>0.001860</td>\n",
              "      <td>0.000319</td>\n",
              "      <td>1</td>\n",
              "      <td>0.1</td>\n",
              "      <td>{'alpha': 1, 'l1_ratio': 0.1}</td>\n",
              "      <td>0.714960</td>\n",
              "      <td>0.526437</td>\n",
              "      <td>0.595148</td>\n",
              "      <td>0.670794</td>\n",
              "      <td>0.763423</td>\n",
              "      <td>0.654152</td>\n",
              "      <td>0.084507</td>\n",
              "      <td>4</td>\n",
              "    </tr>\n",
              "    <tr>\n",
              "      <th>4</th>\n",
              "      <td>0.002348</td>\n",
              "      <td>0.000335</td>\n",
              "      <td>0.001558</td>\n",
              "      <td>0.000105</td>\n",
              "      <td>1</td>\n",
              "      <td>0.2</td>\n",
              "      <td>{'alpha': 1, 'l1_ratio': 0.2}</td>\n",
              "      <td>0.714022</td>\n",
              "      <td>0.523966</td>\n",
              "      <td>0.594603</td>\n",
              "      <td>0.670194</td>\n",
              "      <td>0.761741</td>\n",
              "      <td>0.652905</td>\n",
              "      <td>0.084740</td>\n",
              "      <td>5</td>\n",
              "    </tr>\n",
              "    <tr>\n",
              "      <th>5</th>\n",
              "      <td>0.003374</td>\n",
              "      <td>0.000294</td>\n",
              "      <td>0.001957</td>\n",
              "      <td>0.000111</td>\n",
              "      <td>1</td>\n",
              "      <td>0.3</td>\n",
              "      <td>{'alpha': 1, 'l1_ratio': 0.3}</td>\n",
              "      <td>0.714237</td>\n",
              "      <td>0.521933</td>\n",
              "      <td>0.594699</td>\n",
              "      <td>0.669538</td>\n",
              "      <td>0.759777</td>\n",
              "      <td>0.652037</td>\n",
              "      <td>0.084850</td>\n",
              "      <td>6</td>\n",
              "    </tr>\n",
              "    <tr>\n",
              "      <th>6</th>\n",
              "      <td>0.002296</td>\n",
              "      <td>0.000315</td>\n",
              "      <td>0.001874</td>\n",
              "      <td>0.000597</td>\n",
              "      <td>10</td>\n",
              "      <td>0.1</td>\n",
              "      <td>{'alpha': 10, 'l1_ratio': 0.1}</td>\n",
              "      <td>0.638007</td>\n",
              "      <td>0.397883</td>\n",
              "      <td>0.577252</td>\n",
              "      <td>0.557198</td>\n",
              "      <td>0.655982</td>\n",
              "      <td>0.565264</td>\n",
              "      <td>0.091374</td>\n",
              "      <td>7</td>\n",
              "    </tr>\n",
              "    <tr>\n",
              "      <th>7</th>\n",
              "      <td>0.002131</td>\n",
              "      <td>0.000041</td>\n",
              "      <td>0.001537</td>\n",
              "      <td>0.000022</td>\n",
              "      <td>10</td>\n",
              "      <td>0.2</td>\n",
              "      <td>{'alpha': 10, 'l1_ratio': 0.2}</td>\n",
              "      <td>0.624769</td>\n",
              "      <td>0.373641</td>\n",
              "      <td>0.572294</td>\n",
              "      <td>0.539693</td>\n",
              "      <td>0.623149</td>\n",
              "      <td>0.546709</td>\n",
              "      <td>0.092296</td>\n",
              "      <td>8</td>\n",
              "    </tr>\n",
              "    <tr>\n",
              "      <th>8</th>\n",
              "      <td>0.002256</td>\n",
              "      <td>0.000183</td>\n",
              "      <td>0.002015</td>\n",
              "      <td>0.000925</td>\n",
              "      <td>10</td>\n",
              "      <td>0.3</td>\n",
              "      <td>{'alpha': 10, 'l1_ratio': 0.3}</td>\n",
              "      <td>0.614417</td>\n",
              "      <td>0.357906</td>\n",
              "      <td>0.570172</td>\n",
              "      <td>0.529856</td>\n",
              "      <td>0.607627</td>\n",
              "      <td>0.535995</td>\n",
              "      <td>0.094024</td>\n",
              "      <td>9</td>\n",
              "    </tr>\n",
              "  </tbody>\n",
              "</table>\n",
              "</div>\n",
              "      <button class=\"colab-df-convert\" onclick=\"convertToInteractive('df-140217bb-cadf-4a4a-8ca0-d4d46c052fa9')\"\n",
              "              title=\"Convert this dataframe to an interactive table.\"\n",
              "              style=\"display:none;\">\n",
              "        \n",
              "  <svg xmlns=\"http://www.w3.org/2000/svg\" height=\"24px\"viewBox=\"0 0 24 24\"\n",
              "       width=\"24px\">\n",
              "    <path d=\"M0 0h24v24H0V0z\" fill=\"none\"/>\n",
              "    <path d=\"M18.56 5.44l.94 2.06.94-2.06 2.06-.94-2.06-.94-.94-2.06-.94 2.06-2.06.94zm-11 1L8.5 8.5l.94-2.06 2.06-.94-2.06-.94L8.5 2.5l-.94 2.06-2.06.94zm10 10l.94 2.06.94-2.06 2.06-.94-2.06-.94-.94-2.06-.94 2.06-2.06.94z\"/><path d=\"M17.41 7.96l-1.37-1.37c-.4-.4-.92-.59-1.43-.59-.52 0-1.04.2-1.43.59L10.3 9.45l-7.72 7.72c-.78.78-.78 2.05 0 2.83L4 21.41c.39.39.9.59 1.41.59.51 0 1.02-.2 1.41-.59l7.78-7.78 2.81-2.81c.8-.78.8-2.07 0-2.86zM5.41 20L4 18.59l7.72-7.72 1.47 1.35L5.41 20z\"/>\n",
              "  </svg>\n",
              "      </button>\n",
              "      \n",
              "  <style>\n",
              "    .colab-df-container {\n",
              "      display:flex;\n",
              "      flex-wrap:wrap;\n",
              "      gap: 12px;\n",
              "    }\n",
              "\n",
              "    .colab-df-convert {\n",
              "      background-color: #E8F0FE;\n",
              "      border: none;\n",
              "      border-radius: 50%;\n",
              "      cursor: pointer;\n",
              "      display: none;\n",
              "      fill: #1967D2;\n",
              "      height: 32px;\n",
              "      padding: 0 0 0 0;\n",
              "      width: 32px;\n",
              "    }\n",
              "\n",
              "    .colab-df-convert:hover {\n",
              "      background-color: #E2EBFA;\n",
              "      box-shadow: 0px 1px 2px rgba(60, 64, 67, 0.3), 0px 1px 3px 1px rgba(60, 64, 67, 0.15);\n",
              "      fill: #174EA6;\n",
              "    }\n",
              "\n",
              "    [theme=dark] .colab-df-convert {\n",
              "      background-color: #3B4455;\n",
              "      fill: #D2E3FC;\n",
              "    }\n",
              "\n",
              "    [theme=dark] .colab-df-convert:hover {\n",
              "      background-color: #434B5C;\n",
              "      box-shadow: 0px 1px 3px 1px rgba(0, 0, 0, 0.15);\n",
              "      filter: drop-shadow(0px 1px 2px rgba(0, 0, 0, 0.3));\n",
              "      fill: #FFFFFF;\n",
              "    }\n",
              "  </style>\n",
              "\n",
              "      <script>\n",
              "        const buttonEl =\n",
              "          document.querySelector('#df-140217bb-cadf-4a4a-8ca0-d4d46c052fa9 button.colab-df-convert');\n",
              "        buttonEl.style.display =\n",
              "          google.colab.kernel.accessAllowed ? 'block' : 'none';\n",
              "\n",
              "        async function convertToInteractive(key) {\n",
              "          const element = document.querySelector('#df-140217bb-cadf-4a4a-8ca0-d4d46c052fa9');\n",
              "          const dataTable =\n",
              "            await google.colab.kernel.invokeFunction('convertToInteractive',\n",
              "                                                     [key], {});\n",
              "          if (!dataTable) return;\n",
              "\n",
              "          const docLinkHtml = 'Like what you see? Visit the ' +\n",
              "            '<a target=\"_blank\" href=https://colab.research.google.com/notebooks/data_table.ipynb>data table notebook</a>'\n",
              "            + ' to learn more about interactive tables.';\n",
              "          element.innerHTML = '';\n",
              "          dataTable['output_type'] = 'display_data';\n",
              "          await google.colab.output.renderOutput(dataTable, element);\n",
              "          const docLink = document.createElement('div');\n",
              "          docLink.innerHTML = docLinkHtml;\n",
              "          element.appendChild(docLink);\n",
              "        }\n",
              "      </script>\n",
              "    </div>\n",
              "  </div>\n",
              "  "
            ]
          },
          "metadata": {},
          "execution_count": 173
        }
      ],
      "source": [
        "pd.DataFrame(gs.cv_results_).sort_values(\"mean_test_score\", ascending=False)"
      ]
    },
    {
      "cell_type": "markdown",
      "metadata": {
        "id": "bxYGR3LBQusb"
      },
      "source": [
        "- scikit-learn ha generato e testato **tutte le combinazioni possibili** dei valori degli iperparametri, in tutto 3×3 = 9 configurazioni"
      ]
    },
    {
      "cell_type": "markdown",
      "metadata": {
        "id": "Cs2hGbJRQusc"
      },
      "source": [
        "### Grid search su pipeline\n",
        "\n",
        "- Possiamo usare `GridSearchCV` anche con una pipeline, testando diversi valori anche per i parametri dei filtri\n",
        "- Consideriamo ad esempio un modello polinomiale con regolarizzazione L2, su cui sono variabili\n",
        "  - il grado del polinomio (attributo `degree` del filtro `poly`)\n",
        "  - il peso della regolarizzazione (attributo `alpha` del modello `regr`)"
      ]
    },
    {
      "cell_type": "code",
      "execution_count": 174,
      "metadata": {
        "id": "nqE1OA5RQusd"
      },
      "outputs": [],
      "source": [
        "model = Pipeline([\n",
        "    (\"poly\",  PolynomialFeatures(include_bias=False)),\n",
        "    (\"scale\", StandardScaler()),\n",
        "    (\"regr\",  Ridge())\n",
        "])"
      ]
    },
    {
      "cell_type": "markdown",
      "metadata": {
        "id": "JdOGgURNQusd"
      },
      "source": [
        "- Per riferirsi ai parametri dei singoli componenti, usiamo la notazione `componente__parametro` _(con DUE underscore in mezzo)_"
      ]
    },
    {
      "cell_type": "code",
      "execution_count": 175,
      "metadata": {
        "id": "T_UTvAaoQuse"
      },
      "outputs": [],
      "source": [
        "grid = {\n",
        "    \"poly__degree\": [2, 3],      # <- grado polinomio\n",
        "    \"regr__alpha\":  [0.1, 1, 10] # <- regolarizzazione\n",
        "}"
      ]
    },
    {
      "cell_type": "markdown",
      "metadata": {
        "id": "6R6Uwqr4Quse"
      },
      "source": [
        "- Il resto del procedimento rimane invariato"
      ]
    },
    {
      "cell_type": "code",
      "execution_count": 176,
      "metadata": {
        "id": "X5_uRqm9Qusf",
        "outputId": "dd54f1a7-0e6d-4921-b7a8-cd5fefe5d51a",
        "colab": {
          "base_uri": "https://localhost:8080/",
          "height": 614
        }
      },
      "outputs": [
        {
          "output_type": "execute_result",
          "data": {
            "text/plain": [
              "   mean_fit_time  std_fit_time  mean_score_time  std_score_time  \\\n",
              "1       0.016575      0.001348         0.004180        0.002045   \n",
              "2       0.017493      0.002065         0.003638        0.001113   \n",
              "0       0.016978      0.002044         0.003977        0.001157   \n",
              "5       0.026172      0.003382         0.006460        0.001373   \n",
              "4       0.029847      0.001282         0.006949        0.000175   \n",
              "3       0.035291      0.008756         0.007462        0.000699   \n",
              "\n",
              "  param_poly__degree param_regr__alpha  \\\n",
              "1                  2                 1   \n",
              "2                  2                10   \n",
              "0                  2               0.1   \n",
              "5                  3                10   \n",
              "4                  3                 1   \n",
              "3                  3               0.1   \n",
              "\n",
              "                                    params  split0_test_score  \\\n",
              "1    {'poly__degree': 2, 'regr__alpha': 1}           0.835447   \n",
              "2   {'poly__degree': 2, 'regr__alpha': 10}           0.842239   \n",
              "0  {'poly__degree': 2, 'regr__alpha': 0.1}           0.824409   \n",
              "5   {'poly__degree': 3, 'regr__alpha': 10}           0.853895   \n",
              "4    {'poly__degree': 3, 'regr__alpha': 1}           0.852441   \n",
              "3  {'poly__degree': 3, 'regr__alpha': 0.1}           0.692042   \n",
              "\n",
              "   split1_test_score  split2_test_score  split3_test_score  split4_test_score  \\\n",
              "1           0.596491           0.802240           0.810611           0.882463   \n",
              "2           0.594859           0.750900           0.795789           0.856246   \n",
              "0           0.648065           0.850516           0.816894           0.493138   \n",
              "5           0.454814           0.773790           0.748621           0.333358   \n",
              "4           0.568150           0.794898           0.775824          -3.047350   \n",
              "3           0.664729           0.648950           0.784034          -3.348237   \n",
              "\n",
              "   mean_test_score  std_test_score  rank_test_score  \n",
              "1         0.785450        0.098521                1  \n",
              "2         0.768007        0.094172                2  \n",
              "0         0.726604        0.136929                3  \n",
              "5         0.632895        0.201753                4  \n",
              "4        -0.011207        1.521113                5  \n",
              "3        -0.111696        1.618947                6  "
            ],
            "text/html": [
              "\n",
              "  <div id=\"df-73a7c092-ee07-4dc4-bbbc-2e39fbe72afe\">\n",
              "    <div class=\"colab-df-container\">\n",
              "      <div>\n",
              "<style scoped>\n",
              "    .dataframe tbody tr th:only-of-type {\n",
              "        vertical-align: middle;\n",
              "    }\n",
              "\n",
              "    .dataframe tbody tr th {\n",
              "        vertical-align: top;\n",
              "    }\n",
              "\n",
              "    .dataframe thead th {\n",
              "        text-align: right;\n",
              "    }\n",
              "</style>\n",
              "<table border=\"1\" class=\"dataframe\">\n",
              "  <thead>\n",
              "    <tr style=\"text-align: right;\">\n",
              "      <th></th>\n",
              "      <th>mean_fit_time</th>\n",
              "      <th>std_fit_time</th>\n",
              "      <th>mean_score_time</th>\n",
              "      <th>std_score_time</th>\n",
              "      <th>param_poly__degree</th>\n",
              "      <th>param_regr__alpha</th>\n",
              "      <th>params</th>\n",
              "      <th>split0_test_score</th>\n",
              "      <th>split1_test_score</th>\n",
              "      <th>split2_test_score</th>\n",
              "      <th>split3_test_score</th>\n",
              "      <th>split4_test_score</th>\n",
              "      <th>mean_test_score</th>\n",
              "      <th>std_test_score</th>\n",
              "      <th>rank_test_score</th>\n",
              "    </tr>\n",
              "  </thead>\n",
              "  <tbody>\n",
              "    <tr>\n",
              "      <th>1</th>\n",
              "      <td>0.016575</td>\n",
              "      <td>0.001348</td>\n",
              "      <td>0.004180</td>\n",
              "      <td>0.002045</td>\n",
              "      <td>2</td>\n",
              "      <td>1</td>\n",
              "      <td>{'poly__degree': 2, 'regr__alpha': 1}</td>\n",
              "      <td>0.835447</td>\n",
              "      <td>0.596491</td>\n",
              "      <td>0.802240</td>\n",
              "      <td>0.810611</td>\n",
              "      <td>0.882463</td>\n",
              "      <td>0.785450</td>\n",
              "      <td>0.098521</td>\n",
              "      <td>1</td>\n",
              "    </tr>\n",
              "    <tr>\n",
              "      <th>2</th>\n",
              "      <td>0.017493</td>\n",
              "      <td>0.002065</td>\n",
              "      <td>0.003638</td>\n",
              "      <td>0.001113</td>\n",
              "      <td>2</td>\n",
              "      <td>10</td>\n",
              "      <td>{'poly__degree': 2, 'regr__alpha': 10}</td>\n",
              "      <td>0.842239</td>\n",
              "      <td>0.594859</td>\n",
              "      <td>0.750900</td>\n",
              "      <td>0.795789</td>\n",
              "      <td>0.856246</td>\n",
              "      <td>0.768007</td>\n",
              "      <td>0.094172</td>\n",
              "      <td>2</td>\n",
              "    </tr>\n",
              "    <tr>\n",
              "      <th>0</th>\n",
              "      <td>0.016978</td>\n",
              "      <td>0.002044</td>\n",
              "      <td>0.003977</td>\n",
              "      <td>0.001157</td>\n",
              "      <td>2</td>\n",
              "      <td>0.1</td>\n",
              "      <td>{'poly__degree': 2, 'regr__alpha': 0.1}</td>\n",
              "      <td>0.824409</td>\n",
              "      <td>0.648065</td>\n",
              "      <td>0.850516</td>\n",
              "      <td>0.816894</td>\n",
              "      <td>0.493138</td>\n",
              "      <td>0.726604</td>\n",
              "      <td>0.136929</td>\n",
              "      <td>3</td>\n",
              "    </tr>\n",
              "    <tr>\n",
              "      <th>5</th>\n",
              "      <td>0.026172</td>\n",
              "      <td>0.003382</td>\n",
              "      <td>0.006460</td>\n",
              "      <td>0.001373</td>\n",
              "      <td>3</td>\n",
              "      <td>10</td>\n",
              "      <td>{'poly__degree': 3, 'regr__alpha': 10}</td>\n",
              "      <td>0.853895</td>\n",
              "      <td>0.454814</td>\n",
              "      <td>0.773790</td>\n",
              "      <td>0.748621</td>\n",
              "      <td>0.333358</td>\n",
              "      <td>0.632895</td>\n",
              "      <td>0.201753</td>\n",
              "      <td>4</td>\n",
              "    </tr>\n",
              "    <tr>\n",
              "      <th>4</th>\n",
              "      <td>0.029847</td>\n",
              "      <td>0.001282</td>\n",
              "      <td>0.006949</td>\n",
              "      <td>0.000175</td>\n",
              "      <td>3</td>\n",
              "      <td>1</td>\n",
              "      <td>{'poly__degree': 3, 'regr__alpha': 1}</td>\n",
              "      <td>0.852441</td>\n",
              "      <td>0.568150</td>\n",
              "      <td>0.794898</td>\n",
              "      <td>0.775824</td>\n",
              "      <td>-3.047350</td>\n",
              "      <td>-0.011207</td>\n",
              "      <td>1.521113</td>\n",
              "      <td>5</td>\n",
              "    </tr>\n",
              "    <tr>\n",
              "      <th>3</th>\n",
              "      <td>0.035291</td>\n",
              "      <td>0.008756</td>\n",
              "      <td>0.007462</td>\n",
              "      <td>0.000699</td>\n",
              "      <td>3</td>\n",
              "      <td>0.1</td>\n",
              "      <td>{'poly__degree': 3, 'regr__alpha': 0.1}</td>\n",
              "      <td>0.692042</td>\n",
              "      <td>0.664729</td>\n",
              "      <td>0.648950</td>\n",
              "      <td>0.784034</td>\n",
              "      <td>-3.348237</td>\n",
              "      <td>-0.111696</td>\n",
              "      <td>1.618947</td>\n",
              "      <td>6</td>\n",
              "    </tr>\n",
              "  </tbody>\n",
              "</table>\n",
              "</div>\n",
              "      <button class=\"colab-df-convert\" onclick=\"convertToInteractive('df-73a7c092-ee07-4dc4-bbbc-2e39fbe72afe')\"\n",
              "              title=\"Convert this dataframe to an interactive table.\"\n",
              "              style=\"display:none;\">\n",
              "        \n",
              "  <svg xmlns=\"http://www.w3.org/2000/svg\" height=\"24px\"viewBox=\"0 0 24 24\"\n",
              "       width=\"24px\">\n",
              "    <path d=\"M0 0h24v24H0V0z\" fill=\"none\"/>\n",
              "    <path d=\"M18.56 5.44l.94 2.06.94-2.06 2.06-.94-2.06-.94-.94-2.06-.94 2.06-2.06.94zm-11 1L8.5 8.5l.94-2.06 2.06-.94-2.06-.94L8.5 2.5l-.94 2.06-2.06.94zm10 10l.94 2.06.94-2.06 2.06-.94-2.06-.94-.94-2.06-.94 2.06-2.06.94z\"/><path d=\"M17.41 7.96l-1.37-1.37c-.4-.4-.92-.59-1.43-.59-.52 0-1.04.2-1.43.59L10.3 9.45l-7.72 7.72c-.78.78-.78 2.05 0 2.83L4 21.41c.39.39.9.59 1.41.59.51 0 1.02-.2 1.41-.59l7.78-7.78 2.81-2.81c.8-.78.8-2.07 0-2.86zM5.41 20L4 18.59l7.72-7.72 1.47 1.35L5.41 20z\"/>\n",
              "  </svg>\n",
              "      </button>\n",
              "      \n",
              "  <style>\n",
              "    .colab-df-container {\n",
              "      display:flex;\n",
              "      flex-wrap:wrap;\n",
              "      gap: 12px;\n",
              "    }\n",
              "\n",
              "    .colab-df-convert {\n",
              "      background-color: #E8F0FE;\n",
              "      border: none;\n",
              "      border-radius: 50%;\n",
              "      cursor: pointer;\n",
              "      display: none;\n",
              "      fill: #1967D2;\n",
              "      height: 32px;\n",
              "      padding: 0 0 0 0;\n",
              "      width: 32px;\n",
              "    }\n",
              "\n",
              "    .colab-df-convert:hover {\n",
              "      background-color: #E2EBFA;\n",
              "      box-shadow: 0px 1px 2px rgba(60, 64, 67, 0.3), 0px 1px 3px 1px rgba(60, 64, 67, 0.15);\n",
              "      fill: #174EA6;\n",
              "    }\n",
              "\n",
              "    [theme=dark] .colab-df-convert {\n",
              "      background-color: #3B4455;\n",
              "      fill: #D2E3FC;\n",
              "    }\n",
              "\n",
              "    [theme=dark] .colab-df-convert:hover {\n",
              "      background-color: #434B5C;\n",
              "      box-shadow: 0px 1px 3px 1px rgba(0, 0, 0, 0.15);\n",
              "      filter: drop-shadow(0px 1px 2px rgba(0, 0, 0, 0.3));\n",
              "      fill: #FFFFFF;\n",
              "    }\n",
              "  </style>\n",
              "\n",
              "      <script>\n",
              "        const buttonEl =\n",
              "          document.querySelector('#df-73a7c092-ee07-4dc4-bbbc-2e39fbe72afe button.colab-df-convert');\n",
              "        buttonEl.style.display =\n",
              "          google.colab.kernel.accessAllowed ? 'block' : 'none';\n",
              "\n",
              "        async function convertToInteractive(key) {\n",
              "          const element = document.querySelector('#df-73a7c092-ee07-4dc4-bbbc-2e39fbe72afe');\n",
              "          const dataTable =\n",
              "            await google.colab.kernel.invokeFunction('convertToInteractive',\n",
              "                                                     [key], {});\n",
              "          if (!dataTable) return;\n",
              "\n",
              "          const docLinkHtml = 'Like what you see? Visit the ' +\n",
              "            '<a target=\"_blank\" href=https://colab.research.google.com/notebooks/data_table.ipynb>data table notebook</a>'\n",
              "            + ' to learn more about interactive tables.';\n",
              "          element.innerHTML = '';\n",
              "          dataTable['output_type'] = 'display_data';\n",
              "          await google.colab.output.renderOutput(dataTable, element);\n",
              "          const docLink = document.createElement('div');\n",
              "          docLink.innerHTML = docLinkHtml;\n",
              "          element.appendChild(docLink);\n",
              "        }\n",
              "      </script>\n",
              "    </div>\n",
              "  </div>\n",
              "  "
            ]
          },
          "metadata": {},
          "execution_count": 176
        }
      ],
      "source": [
        "gs = GridSearchCV(model, grid, cv=kf)\n",
        "gs.fit(X_train, y_train);\n",
        "pd.DataFrame(gs.cv_results_).sort_values(\"mean_test_score\", ascending=False)"
      ]
    },
    {
      "cell_type": "markdown",
      "metadata": {
        "id": "38VYa7_oQusf"
      },
      "source": [
        "- Nella pipeline possiamo impostare un intero componente come parametro variabile, con la possibilità di rimuoverlo impostandolo a `None`\n",
        "- Possiamo ad esempio testare un modello con e senza standardizzazione delle feature"
      ]
    },
    {
      "cell_type": "code",
      "execution_count": 177,
      "metadata": {
        "id": "E3R_Udr9Qusg",
        "outputId": "8c35b60e-85f4-49e5-96e8-4f4e615fcee0",
        "colab": {
          "base_uri": "https://localhost:8080/",
          "height": 475
        }
      },
      "outputs": [
        {
          "output_type": "execute_result",
          "data": {
            "text/plain": [
              "   mean_fit_time  std_fit_time  mean_score_time  std_score_time  \\\n",
              "3       0.004745      0.000969         0.002198        0.000386   \n",
              "1       0.004047      0.000532         0.001736        0.000094   \n",
              "5       0.003902      0.000069         0.001706        0.000015   \n",
              "0       0.005284      0.002419         0.003176        0.001919   \n",
              "2       0.002246      0.000205         0.001571        0.000084   \n",
              "4       0.002285      0.000109         0.001570        0.000036   \n",
              "\n",
              "  param_regr__alpha       param_scale  \\\n",
              "3                 1  StandardScaler()   \n",
              "1               0.1  StandardScaler()   \n",
              "5                10  StandardScaler()   \n",
              "0               0.1              None   \n",
              "2                 1              None   \n",
              "4                10              None   \n",
              "\n",
              "                                            params  split0_test_score  \\\n",
              "3    {'regr__alpha': 1, 'scale': StandardScaler()}           0.735767   \n",
              "1  {'regr__alpha': 0.1, 'scale': StandardScaler()}           0.735121   \n",
              "5   {'regr__alpha': 10, 'scale': StandardScaler()}           0.741449   \n",
              "0              {'regr__alpha': 0.1, 'scale': None}           0.734675   \n",
              "2                {'regr__alpha': 1, 'scale': None}           0.730686   \n",
              "4               {'regr__alpha': 10, 'scale': None}           0.726584   \n",
              "\n",
              "   split1_test_score  split2_test_score  split3_test_score  split4_test_score  \\\n",
              "3           0.495302           0.657167           0.720101           0.800925   \n",
              "1           0.495993           0.656523           0.720110           0.801136   \n",
              "5           0.487396           0.662300           0.718528           0.798668   \n",
              "0           0.494498           0.655446           0.718577           0.801852   \n",
              "2           0.487010           0.649269           0.712555           0.801934   \n",
              "4           0.488528           0.641675           0.719819           0.801424   \n",
              "\n",
              "   mean_test_score  std_test_score  rank_test_score  \n",
              "3         0.681853        0.103883                1  \n",
              "1         0.681776        0.103648                2  \n",
              "5         0.681668        0.106525                3  \n",
              "0         0.681009        0.104244                4  \n",
              "2         0.676291        0.106412                5  \n",
              "4         0.675606        0.106333                6  "
            ],
            "text/html": [
              "\n",
              "  <div id=\"df-ff4fc08f-96f5-4327-8006-58ecf992b86f\">\n",
              "    <div class=\"colab-df-container\">\n",
              "      <div>\n",
              "<style scoped>\n",
              "    .dataframe tbody tr th:only-of-type {\n",
              "        vertical-align: middle;\n",
              "    }\n",
              "\n",
              "    .dataframe tbody tr th {\n",
              "        vertical-align: top;\n",
              "    }\n",
              "\n",
              "    .dataframe thead th {\n",
              "        text-align: right;\n",
              "    }\n",
              "</style>\n",
              "<table border=\"1\" class=\"dataframe\">\n",
              "  <thead>\n",
              "    <tr style=\"text-align: right;\">\n",
              "      <th></th>\n",
              "      <th>mean_fit_time</th>\n",
              "      <th>std_fit_time</th>\n",
              "      <th>mean_score_time</th>\n",
              "      <th>std_score_time</th>\n",
              "      <th>param_regr__alpha</th>\n",
              "      <th>param_scale</th>\n",
              "      <th>params</th>\n",
              "      <th>split0_test_score</th>\n",
              "      <th>split1_test_score</th>\n",
              "      <th>split2_test_score</th>\n",
              "      <th>split3_test_score</th>\n",
              "      <th>split4_test_score</th>\n",
              "      <th>mean_test_score</th>\n",
              "      <th>std_test_score</th>\n",
              "      <th>rank_test_score</th>\n",
              "    </tr>\n",
              "  </thead>\n",
              "  <tbody>\n",
              "    <tr>\n",
              "      <th>3</th>\n",
              "      <td>0.004745</td>\n",
              "      <td>0.000969</td>\n",
              "      <td>0.002198</td>\n",
              "      <td>0.000386</td>\n",
              "      <td>1</td>\n",
              "      <td>StandardScaler()</td>\n",
              "      <td>{'regr__alpha': 1, 'scale': StandardScaler()}</td>\n",
              "      <td>0.735767</td>\n",
              "      <td>0.495302</td>\n",
              "      <td>0.657167</td>\n",
              "      <td>0.720101</td>\n",
              "      <td>0.800925</td>\n",
              "      <td>0.681853</td>\n",
              "      <td>0.103883</td>\n",
              "      <td>1</td>\n",
              "    </tr>\n",
              "    <tr>\n",
              "      <th>1</th>\n",
              "      <td>0.004047</td>\n",
              "      <td>0.000532</td>\n",
              "      <td>0.001736</td>\n",
              "      <td>0.000094</td>\n",
              "      <td>0.1</td>\n",
              "      <td>StandardScaler()</td>\n",
              "      <td>{'regr__alpha': 0.1, 'scale': StandardScaler()}</td>\n",
              "      <td>0.735121</td>\n",
              "      <td>0.495993</td>\n",
              "      <td>0.656523</td>\n",
              "      <td>0.720110</td>\n",
              "      <td>0.801136</td>\n",
              "      <td>0.681776</td>\n",
              "      <td>0.103648</td>\n",
              "      <td>2</td>\n",
              "    </tr>\n",
              "    <tr>\n",
              "      <th>5</th>\n",
              "      <td>0.003902</td>\n",
              "      <td>0.000069</td>\n",
              "      <td>0.001706</td>\n",
              "      <td>0.000015</td>\n",
              "      <td>10</td>\n",
              "      <td>StandardScaler()</td>\n",
              "      <td>{'regr__alpha': 10, 'scale': StandardScaler()}</td>\n",
              "      <td>0.741449</td>\n",
              "      <td>0.487396</td>\n",
              "      <td>0.662300</td>\n",
              "      <td>0.718528</td>\n",
              "      <td>0.798668</td>\n",
              "      <td>0.681668</td>\n",
              "      <td>0.106525</td>\n",
              "      <td>3</td>\n",
              "    </tr>\n",
              "    <tr>\n",
              "      <th>0</th>\n",
              "      <td>0.005284</td>\n",
              "      <td>0.002419</td>\n",
              "      <td>0.003176</td>\n",
              "      <td>0.001919</td>\n",
              "      <td>0.1</td>\n",
              "      <td>None</td>\n",
              "      <td>{'regr__alpha': 0.1, 'scale': None}</td>\n",
              "      <td>0.734675</td>\n",
              "      <td>0.494498</td>\n",
              "      <td>0.655446</td>\n",
              "      <td>0.718577</td>\n",
              "      <td>0.801852</td>\n",
              "      <td>0.681009</td>\n",
              "      <td>0.104244</td>\n",
              "      <td>4</td>\n",
              "    </tr>\n",
              "    <tr>\n",
              "      <th>2</th>\n",
              "      <td>0.002246</td>\n",
              "      <td>0.000205</td>\n",
              "      <td>0.001571</td>\n",
              "      <td>0.000084</td>\n",
              "      <td>1</td>\n",
              "      <td>None</td>\n",
              "      <td>{'regr__alpha': 1, 'scale': None}</td>\n",
              "      <td>0.730686</td>\n",
              "      <td>0.487010</td>\n",
              "      <td>0.649269</td>\n",
              "      <td>0.712555</td>\n",
              "      <td>0.801934</td>\n",
              "      <td>0.676291</td>\n",
              "      <td>0.106412</td>\n",
              "      <td>5</td>\n",
              "    </tr>\n",
              "    <tr>\n",
              "      <th>4</th>\n",
              "      <td>0.002285</td>\n",
              "      <td>0.000109</td>\n",
              "      <td>0.001570</td>\n",
              "      <td>0.000036</td>\n",
              "      <td>10</td>\n",
              "      <td>None</td>\n",
              "      <td>{'regr__alpha': 10, 'scale': None}</td>\n",
              "      <td>0.726584</td>\n",
              "      <td>0.488528</td>\n",
              "      <td>0.641675</td>\n",
              "      <td>0.719819</td>\n",
              "      <td>0.801424</td>\n",
              "      <td>0.675606</td>\n",
              "      <td>0.106333</td>\n",
              "      <td>6</td>\n",
              "    </tr>\n",
              "  </tbody>\n",
              "</table>\n",
              "</div>\n",
              "      <button class=\"colab-df-convert\" onclick=\"convertToInteractive('df-ff4fc08f-96f5-4327-8006-58ecf992b86f')\"\n",
              "              title=\"Convert this dataframe to an interactive table.\"\n",
              "              style=\"display:none;\">\n",
              "        \n",
              "  <svg xmlns=\"http://www.w3.org/2000/svg\" height=\"24px\"viewBox=\"0 0 24 24\"\n",
              "       width=\"24px\">\n",
              "    <path d=\"M0 0h24v24H0V0z\" fill=\"none\"/>\n",
              "    <path d=\"M18.56 5.44l.94 2.06.94-2.06 2.06-.94-2.06-.94-.94-2.06-.94 2.06-2.06.94zm-11 1L8.5 8.5l.94-2.06 2.06-.94-2.06-.94L8.5 2.5l-.94 2.06-2.06.94zm10 10l.94 2.06.94-2.06 2.06-.94-2.06-.94-.94-2.06-.94 2.06-2.06.94z\"/><path d=\"M17.41 7.96l-1.37-1.37c-.4-.4-.92-.59-1.43-.59-.52 0-1.04.2-1.43.59L10.3 9.45l-7.72 7.72c-.78.78-.78 2.05 0 2.83L4 21.41c.39.39.9.59 1.41.59.51 0 1.02-.2 1.41-.59l7.78-7.78 2.81-2.81c.8-.78.8-2.07 0-2.86zM5.41 20L4 18.59l7.72-7.72 1.47 1.35L5.41 20z\"/>\n",
              "  </svg>\n",
              "      </button>\n",
              "      \n",
              "  <style>\n",
              "    .colab-df-container {\n",
              "      display:flex;\n",
              "      flex-wrap:wrap;\n",
              "      gap: 12px;\n",
              "    }\n",
              "\n",
              "    .colab-df-convert {\n",
              "      background-color: #E8F0FE;\n",
              "      border: none;\n",
              "      border-radius: 50%;\n",
              "      cursor: pointer;\n",
              "      display: none;\n",
              "      fill: #1967D2;\n",
              "      height: 32px;\n",
              "      padding: 0 0 0 0;\n",
              "      width: 32px;\n",
              "    }\n",
              "\n",
              "    .colab-df-convert:hover {\n",
              "      background-color: #E2EBFA;\n",
              "      box-shadow: 0px 1px 2px rgba(60, 64, 67, 0.3), 0px 1px 3px 1px rgba(60, 64, 67, 0.15);\n",
              "      fill: #174EA6;\n",
              "    }\n",
              "\n",
              "    [theme=dark] .colab-df-convert {\n",
              "      background-color: #3B4455;\n",
              "      fill: #D2E3FC;\n",
              "    }\n",
              "\n",
              "    [theme=dark] .colab-df-convert:hover {\n",
              "      background-color: #434B5C;\n",
              "      box-shadow: 0px 1px 3px 1px rgba(0, 0, 0, 0.15);\n",
              "      filter: drop-shadow(0px 1px 2px rgba(0, 0, 0, 0.3));\n",
              "      fill: #FFFFFF;\n",
              "    }\n",
              "  </style>\n",
              "\n",
              "      <script>\n",
              "        const buttonEl =\n",
              "          document.querySelector('#df-ff4fc08f-96f5-4327-8006-58ecf992b86f button.colab-df-convert');\n",
              "        buttonEl.style.display =\n",
              "          google.colab.kernel.accessAllowed ? 'block' : 'none';\n",
              "\n",
              "        async function convertToInteractive(key) {\n",
              "          const element = document.querySelector('#df-ff4fc08f-96f5-4327-8006-58ecf992b86f');\n",
              "          const dataTable =\n",
              "            await google.colab.kernel.invokeFunction('convertToInteractive',\n",
              "                                                     [key], {});\n",
              "          if (!dataTable) return;\n",
              "\n",
              "          const docLinkHtml = 'Like what you see? Visit the ' +\n",
              "            '<a target=\"_blank\" href=https://colab.research.google.com/notebooks/data_table.ipynb>data table notebook</a>'\n",
              "            + ' to learn more about interactive tables.';\n",
              "          element.innerHTML = '';\n",
              "          dataTable['output_type'] = 'display_data';\n",
              "          await google.colab.output.renderOutput(dataTable, element);\n",
              "          const docLink = document.createElement('div');\n",
              "          docLink.innerHTML = docLinkHtml;\n",
              "          element.appendChild(docLink);\n",
              "        }\n",
              "      </script>\n",
              "    </div>\n",
              "  </div>\n",
              "  "
            ]
          },
          "metadata": {},
          "execution_count": 177
        }
      ],
      "source": [
        "model = Pipeline([\n",
        "    (\"scale\", None),   # uso None come segnaposto\n",
        "    (\"regr\",  Ridge())\n",
        "])\n",
        "grid = {\n",
        "    # scale = standardizzazione oppure nulla\n",
        "    \"scale\": [None, StandardScaler()],\n",
        "    \"regr__alpha\": [0.1, 1, 10]\n",
        "}\n",
        "gs = GridSearchCV(model, grid, cv=kf)\n",
        "gs.fit(X_train, y_train);\n",
        "pd.DataFrame(gs.cv_results_).sort_values(\"mean_test_score\", ascending=False)"
      ]
    },
    {
      "cell_type": "markdown",
      "metadata": {
        "id": "yS37xMvFQusg"
      },
      "source": [
        "## Esercizio 5: Grid search su regressione kernel ridge\n",
        "\n",
        "- **(5a)** Creare una funzione `grid_test` che, presi in input un modello e una griglia di parametri\n",
        "  - esegua una grid search con `X_train`, `y_train` come dati di addestramento con modello e parametri forniti, usando cross-validation a 5 fold\n",
        "  - stampi (`print(...)`) il dizionario con gli iperparametri selezionati del modello migliore\n",
        "  - stampi le misure di accuratezza (`print_eval`) sui dati `X_val`, `y_val`\n",
        "- **(5b)** Testare con la funzione sopra un modello di regressione elastic net polinomiale con\n",
        "  - grado 2 o 3\n",
        "  - standardizzazione delle feature generate\n",
        "  - `alpha` pari a 0.1, 1 o 10\n",
        "  - `l1_ratio` pari a 0.1, 0.25 o 0.5\n",
        "- **(5c)** Testare con la funzione sopra un modello kernel ridge con\n",
        "  - standardizzazione dei dati\n",
        "  - kernel polinomiale di grado compreso tra 2 e 10\n",
        "  - `alpha` (regolarizzazione) pari a 0.01, 0.1, 1 o 10"
      ]
    },
    {
      "cell_type": "code",
      "execution_count": 185,
      "metadata": {
        "id": "S0jAsBliQush"
      },
      "outputs": [],
      "source": [
        "def grid_test(model, grid):\n",
        "    grd = GridSearchCV(model, grid, cv=kf)\n",
        "    grd.fit(X_train, y_train)\n",
        "    print(grd.best_params_)\n",
        "    print_eval(X_val, y_val, grd)"
      ]
    },
    {
      "cell_type": "code",
      "source": [
        "model = Pipeline([\n",
        "    (\"poly\", PolynomialFeatures(include_bias=False)),\n",
        "    (\"std\", StandardScaler()),\n",
        "    (\"rg\", ElasticNet())])\n",
        "grid = {\"poly__degree\": [2,3],\n",
        "        \"rg__alpha\": [0.1,1,10],\n",
        "        \"rg__l1_ratio\": [0.1,0.25,0.5]}\n",
        "grid_test(model, grid)"
      ],
      "metadata": {
        "id": "Ow86VNzUoC23",
        "outputId": "a4e24425-6527-464b-8180-9bc08ae0e1ab",
        "colab": {
          "base_uri": "https://localhost:8080/"
        }
      },
      "execution_count": 189,
      "outputs": [
        {
          "output_type": "stream",
          "name": "stderr",
          "text": [
            "/usr/local/lib/python3.8/dist-packages/sklearn/linear_model/_coordinate_descent.py:647: ConvergenceWarning: Objective did not converge. You might want to increase the number of iterations, check the scale of the features or consider increasing regularisation. Duality gap: 1.980e+02, tolerance: 2.466e+00\n",
            "  model = cd_fast.enet_coordinate_descent(\n",
            "/usr/local/lib/python3.8/dist-packages/sklearn/linear_model/_coordinate_descent.py:647: ConvergenceWarning: Objective did not converge. You might want to increase the number of iterations, check the scale of the features or consider increasing regularisation. Duality gap: 5.215e+01, tolerance: 2.256e+00\n",
            "  model = cd_fast.enet_coordinate_descent(\n",
            "/usr/local/lib/python3.8/dist-packages/sklearn/linear_model/_coordinate_descent.py:647: ConvergenceWarning: Objective did not converge. You might want to increase the number of iterations, check the scale of the features or consider increasing regularisation. Duality gap: 6.381e+01, tolerance: 2.407e+00\n",
            "  model = cd_fast.enet_coordinate_descent(\n",
            "/usr/local/lib/python3.8/dist-packages/sklearn/linear_model/_coordinate_descent.py:647: ConvergenceWarning: Objective did not converge. You might want to increase the number of iterations, check the scale of the features or consider increasing regularisation. Duality gap: 1.990e+02, tolerance: 2.289e+00\n",
            "  model = cd_fast.enet_coordinate_descent(\n",
            "/usr/local/lib/python3.8/dist-packages/sklearn/linear_model/_coordinate_descent.py:647: ConvergenceWarning: Objective did not converge. You might want to increase the number of iterations, check the scale of the features or consider increasing regularisation. Duality gap: 2.213e+02, tolerance: 2.474e+00\n",
            "  model = cd_fast.enet_coordinate_descent(\n",
            "/usr/local/lib/python3.8/dist-packages/sklearn/linear_model/_coordinate_descent.py:647: ConvergenceWarning: Objective did not converge. You might want to increase the number of iterations, check the scale of the features or consider increasing regularisation. Duality gap: 3.222e+01, tolerance: 2.466e+00\n",
            "  model = cd_fast.enet_coordinate_descent(\n",
            "/usr/local/lib/python3.8/dist-packages/sklearn/linear_model/_coordinate_descent.py:647: ConvergenceWarning: Objective did not converge. You might want to increase the number of iterations, check the scale of the features or consider increasing regularisation. Duality gap: 1.287e+01, tolerance: 2.256e+00\n",
            "  model = cd_fast.enet_coordinate_descent(\n",
            "/usr/local/lib/python3.8/dist-packages/sklearn/linear_model/_coordinate_descent.py:647: ConvergenceWarning: Objective did not converge. You might want to increase the number of iterations, check the scale of the features or consider increasing regularisation. Duality gap: 8.065e+00, tolerance: 2.407e+00\n",
            "  model = cd_fast.enet_coordinate_descent(\n",
            "/usr/local/lib/python3.8/dist-packages/sklearn/linear_model/_coordinate_descent.py:647: ConvergenceWarning: Objective did not converge. You might want to increase the number of iterations, check the scale of the features or consider increasing regularisation. Duality gap: 2.809e+01, tolerance: 2.289e+00\n",
            "  model = cd_fast.enet_coordinate_descent(\n",
            "/usr/local/lib/python3.8/dist-packages/sklearn/linear_model/_coordinate_descent.py:647: ConvergenceWarning: Objective did not converge. You might want to increase the number of iterations, check the scale of the features or consider increasing regularisation. Duality gap: 2.717e+01, tolerance: 2.474e+00\n",
            "  model = cd_fast.enet_coordinate_descent(\n",
            "/usr/local/lib/python3.8/dist-packages/sklearn/linear_model/_coordinate_descent.py:647: ConvergenceWarning: Objective did not converge. You might want to increase the number of iterations, check the scale of the features or consider increasing regularisation. Duality gap: 3.122e+00, tolerance: 2.466e+00\n",
            "  model = cd_fast.enet_coordinate_descent(\n",
            "/usr/local/lib/python3.8/dist-packages/sklearn/linear_model/_coordinate_descent.py:647: ConvergenceWarning: Objective did not converge. You might want to increase the number of iterations, check the scale of the features or consider increasing regularisation. Duality gap: 4.298e+00, tolerance: 2.474e+00\n",
            "  model = cd_fast.enet_coordinate_descent(\n",
            "/usr/local/lib/python3.8/dist-packages/sklearn/linear_model/_coordinate_descent.py:647: ConvergenceWarning: Objective did not converge. You might want to increase the number of iterations, check the scale of the features or consider increasing regularisation. Duality gap: 1.088e+03, tolerance: 2.466e+00\n",
            "  model = cd_fast.enet_coordinate_descent(\n",
            "/usr/local/lib/python3.8/dist-packages/sklearn/linear_model/_coordinate_descent.py:647: ConvergenceWarning: Objective did not converge. You might want to increase the number of iterations, check the scale of the features or consider increasing regularisation. Duality gap: 8.604e+02, tolerance: 2.256e+00\n",
            "  model = cd_fast.enet_coordinate_descent(\n",
            "/usr/local/lib/python3.8/dist-packages/sklearn/linear_model/_coordinate_descent.py:647: ConvergenceWarning: Objective did not converge. You might want to increase the number of iterations, check the scale of the features or consider increasing regularisation. Duality gap: 9.745e+02, tolerance: 2.407e+00\n",
            "  model = cd_fast.enet_coordinate_descent(\n",
            "/usr/local/lib/python3.8/dist-packages/sklearn/linear_model/_coordinate_descent.py:647: ConvergenceWarning: Objective did not converge. You might want to increase the number of iterations, check the scale of the features or consider increasing regularisation. Duality gap: 8.905e+02, tolerance: 2.289e+00\n",
            "  model = cd_fast.enet_coordinate_descent(\n",
            "/usr/local/lib/python3.8/dist-packages/sklearn/linear_model/_coordinate_descent.py:647: ConvergenceWarning: Objective did not converge. You might want to increase the number of iterations, check the scale of the features or consider increasing regularisation. Duality gap: 1.051e+03, tolerance: 2.474e+00\n",
            "  model = cd_fast.enet_coordinate_descent(\n",
            "/usr/local/lib/python3.8/dist-packages/sklearn/linear_model/_coordinate_descent.py:647: ConvergenceWarning: Objective did not converge. You might want to increase the number of iterations, check the scale of the features or consider increasing regularisation. Duality gap: 5.071e+02, tolerance: 2.466e+00\n",
            "  model = cd_fast.enet_coordinate_descent(\n",
            "/usr/local/lib/python3.8/dist-packages/sklearn/linear_model/_coordinate_descent.py:647: ConvergenceWarning: Objective did not converge. You might want to increase the number of iterations, check the scale of the features or consider increasing regularisation. Duality gap: 3.852e+02, tolerance: 2.256e+00\n",
            "  model = cd_fast.enet_coordinate_descent(\n",
            "/usr/local/lib/python3.8/dist-packages/sklearn/linear_model/_coordinate_descent.py:647: ConvergenceWarning: Objective did not converge. You might want to increase the number of iterations, check the scale of the features or consider increasing regularisation. Duality gap: 5.216e+02, tolerance: 2.407e+00\n",
            "  model = cd_fast.enet_coordinate_descent(\n",
            "/usr/local/lib/python3.8/dist-packages/sklearn/linear_model/_coordinate_descent.py:647: ConvergenceWarning: Objective did not converge. You might want to increase the number of iterations, check the scale of the features or consider increasing regularisation. Duality gap: 3.648e+02, tolerance: 2.289e+00\n",
            "  model = cd_fast.enet_coordinate_descent(\n",
            "/usr/local/lib/python3.8/dist-packages/sklearn/linear_model/_coordinate_descent.py:647: ConvergenceWarning: Objective did not converge. You might want to increase the number of iterations, check the scale of the features or consider increasing regularisation. Duality gap: 4.853e+02, tolerance: 2.474e+00\n",
            "  model = cd_fast.enet_coordinate_descent(\n",
            "/usr/local/lib/python3.8/dist-packages/sklearn/linear_model/_coordinate_descent.py:647: ConvergenceWarning: Objective did not converge. You might want to increase the number of iterations, check the scale of the features or consider increasing regularisation. Duality gap: 3.278e+02, tolerance: 2.466e+00\n",
            "  model = cd_fast.enet_coordinate_descent(\n",
            "/usr/local/lib/python3.8/dist-packages/sklearn/linear_model/_coordinate_descent.py:647: ConvergenceWarning: Objective did not converge. You might want to increase the number of iterations, check the scale of the features or consider increasing regularisation. Duality gap: 4.907e+01, tolerance: 2.256e+00\n",
            "  model = cd_fast.enet_coordinate_descent(\n",
            "/usr/local/lib/python3.8/dist-packages/sklearn/linear_model/_coordinate_descent.py:647: ConvergenceWarning: Objective did not converge. You might want to increase the number of iterations, check the scale of the features or consider increasing regularisation. Duality gap: 1.099e+02, tolerance: 2.407e+00\n",
            "  model = cd_fast.enet_coordinate_descent(\n",
            "/usr/local/lib/python3.8/dist-packages/sklearn/linear_model/_coordinate_descent.py:647: ConvergenceWarning: Objective did not converge. You might want to increase the number of iterations, check the scale of the features or consider increasing regularisation. Duality gap: 2.571e+02, tolerance: 2.289e+00\n",
            "  model = cd_fast.enet_coordinate_descent(\n",
            "/usr/local/lib/python3.8/dist-packages/sklearn/linear_model/_coordinate_descent.py:647: ConvergenceWarning: Objective did not converge. You might want to increase the number of iterations, check the scale of the features or consider increasing regularisation. Duality gap: 2.849e+02, tolerance: 2.474e+00\n",
            "  model = cd_fast.enet_coordinate_descent(\n"
          ]
        },
        {
          "output_type": "stream",
          "name": "stdout",
          "text": [
            "{'poly__degree': 2, 'rg__alpha': 0.1, 'rg__l1_ratio': 0.1}\n",
            "   Mean squared error: 15.041\n",
            "       Relative error: 13.87150%\n",
            "R-squared coefficient: 0.80004\n"
          ]
        },
        {
          "output_type": "stream",
          "name": "stderr",
          "text": [
            "/usr/local/lib/python3.8/dist-packages/sklearn/linear_model/_coordinate_descent.py:647: ConvergenceWarning: Objective did not converge. You might want to increase the number of iterations, check the scale of the features or consider increasing regularisation. Duality gap: 2.787e+02, tolerance: 2.977e+00\n",
            "  model = cd_fast.enet_coordinate_descent(\n"
          ]
        }
      ]
    },
    {
      "cell_type": "code",
      "source": [
        "model = Pipeline([\n",
        "    (\"scale\", StandardScaler()),\n",
        "    (\"regr\", KernelRidge(kernel=\"poly\"))\n",
        "])\n",
        "grid = {\n",
        "    \"regr__degree\": range(2, 11),\n",
        "    \"regr__alpha\": [0.01, 0.1, 1, 10],\n",
        "}\n",
        "grid_test(model, grid)"
      ],
      "metadata": {
        "id": "9IoxZ7jSsqiy",
        "outputId": "84ffeefa-97d4-4228-ef57-443a2d9b8f79",
        "colab": {
          "base_uri": "https://localhost:8080/"
        }
      },
      "execution_count": 190,
      "outputs": [
        {
          "output_type": "stream",
          "name": "stdout",
          "text": [
            "{'regr__alpha': 1, 'regr__degree': 2}\n",
            "   Mean squared error: 11.303\n",
            "       Relative error: 12.20756%\n",
            "R-squared coefficient: 0.84973\n"
          ]
        }
      ]
    },
    {
      "cell_type": "markdown",
      "metadata": {
        "id": "oz1fnxZbQusi"
      },
      "source": [
        "## Nested cross-validation\n",
        "\n",
        "- Sopra abbiamo validato il risultato finale della grid search su un validation set separato\n",
        "- La _nested cross-validation_ prevede che siano generati **k fold \"esterni\"** su tutti i dati disponibili e che **per ciascuno** si esegua il tuning degli iperparametri con una cross validation \"interna\" usando le parti di training dei fold esterni\n",
        "- I criteri con cui si eseguono le cross validation esterna ed interna possono differire, es. diverso numero di fold\n",
        "- Ipotizziamo ad esempio di usare 3 fold esterni e 5 interni"
      ]
    },
    {
      "cell_type": "code",
      "execution_count": 195,
      "metadata": {
        "id": "4ezm6t1gQusi"
      },
      "outputs": [],
      "source": [
        "outer_cv = KFold(3, shuffle=True, random_state=42)\n",
        "inner_cv = KFold(5, shuffle=True, random_state=42)"
      ]
    },
    {
      "cell_type": "markdown",
      "metadata": {
        "id": "GCBPiPo1Qusj"
      },
      "source": [
        "## Esercizio 6: Nested cross validation\n",
        "\n",
        "Completare l'implementazione una funzione `nested_cv` che esegua la nested cross validation di un modello `model` con griglia di parametri variabili `grid`\n",
        "- _(già implementato)_ predisporre una lista vuota in cui salvare i punteggi ottenuti su ogni fold esterno\n",
        "- _(già implementato)_ usare un ciclo `for` per iterare tutti i fold esterni (T, V) del dataset `X`, `y`\n",
        "  - il metodo `split` di `outer_cv` fornisce per ogni fold gli indici delle istanze di training e di validation\n",
        "- su ciascun fold esterno, eseguire la grid search con modello e parametri dati in ingresso alla funzione sui dati T, applicando `inner_cv` come cross validation\n",
        "- per ogni modello generato, salvare nella lista di punteggi il R² ottenuto dalla validazione sui dati V\n",
        "- _(già implementato)_ restituire la lista alla fine del ciclo\n",
        "\n",
        "Testare la funzione su uno dei modelli usati sopra"
      ]
    },
    {
      "cell_type": "code",
      "execution_count": 198,
      "metadata": {
        "id": "ANo81LOuQusk"
      },
      "outputs": [],
      "source": [
        "def nested_cv(model, grid):\n",
        "    results = []\n",
        "    for train_indices, val_indices in outer_cv.split(X, y):\n",
        "        X_train, y_train = X.iloc[train_indices], y.iloc[train_indices]\n",
        "        X_val, y_val = X.iloc[val_indices], y.iloc[val_indices]\n",
        "        gs = GridSearchCV(model, grid, cv=inner_cv)\n",
        "        gs.fit(X_train, y_train)\n",
        "        results.append(gs.score(X_val, y_val))\n",
        "    return results"
      ]
    },
    {
      "cell_type": "code",
      "source": [
        "nested_cv(model, grid)"
      ],
      "metadata": {
        "id": "AImHWDDBtafw",
        "outputId": "019d1abe-928f-4d44-db9b-a62e1f9479dc",
        "colab": {
          "base_uri": "https://localhost:8080/"
        }
      },
      "execution_count": 199,
      "outputs": [
        {
          "output_type": "execute_result",
          "data": {
            "text/plain": [
              "[0.857809313401843, 0.8443841766460665, 0.887561167440359]"
            ]
          },
          "metadata": {},
          "execution_count": 199
        }
      ]
    }
  ],
  "metadata": {
    "language_info": {
      "name": "python"
    },
    "colab": {
      "provenance": [],
      "toc_visible": true,
      "include_colab_link": true
    },
    "kernelspec": {
      "name": "python3",
      "display_name": "Python 3"
    },
    "gpuClass": "standard"
  },
  "nbformat": 4,
  "nbformat_minor": 0
}